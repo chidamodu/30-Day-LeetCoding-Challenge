{
 "cells": [
  {
   "cell_type": "code",
   "execution_count": null,
   "metadata": {},
   "outputs": [],
   "source": [
    "# Given the root node of a binary search tree (BST) and a value. You need to find the node in the BST that the node's \n",
    "# value equals the given value. Return the subtree rooted with that node. If such node doesn't exist, you should return \n",
    "# NULL.\n",
    "\n",
    "For example, \n",
    "\n",
    "Given the tree:\n",
    "        4\n",
    "       / \\\n",
    "      2   7\n",
    "     / \\\n",
    "    1   3\n",
    "\n",
    "And the value to search: 2\n",
    "You should return this subtree:\n",
    "\n",
    "      2     \n",
    "     / \\   \n",
    "    1   3\n",
    "In the example above, if we want to search the value 5, since there is no node with value 5, we should return NULL.\n",
    "\n",
    "Note that an empty tree is represented by NULL, therefore you would see the expected output (serialized tree format) \n",
    "as [], not null."
   ]
  },
  {
   "cell_type": "code",
   "execution_count": null,
   "metadata": {},
   "outputs": [],
   "source": [
    "# Definition for a binary tree node.\n",
    "# class TreeNode:\n",
    "#     def __init__(self, val=0, left=None, right=None):\n",
    "#         self.val = val\n",
    "#         self.left = left\n",
    "#         self.right = right\n",
    "class Solution:\n",
    "    def searchBST(self, root: TreeNode, val: int) -> TreeNode:\n",
    "        if not root:\n",
    "            return \n",
    "        \n",
    "        if root.val==val:\n",
    "            return root\n",
    "            \n",
    "        return self.searchBST(root.left, val) or self.searchBST(root.right, val)\n",
    "            \n",
    "        \n",
    "result:\n",
    "Your runtime beats 58.56 % of python3 submissions.\n",
    "Runtime: 80 ms\n",
    "Memory Usage: 15.5 MB"
   ]
  }
 ],
 "metadata": {
  "kernelspec": {
   "display_name": "Python 3",
   "language": "python",
   "name": "python3"
  },
  "language_info": {
   "codemirror_mode": {
    "name": "ipython",
    "version": 3
   },
   "file_extension": ".py",
   "mimetype": "text/x-python",
   "name": "python",
   "nbconvert_exporter": "python",
   "pygments_lexer": "ipython3",
   "version": "3.7.4"
  }
 },
 "nbformat": 4,
 "nbformat_minor": 2
}
