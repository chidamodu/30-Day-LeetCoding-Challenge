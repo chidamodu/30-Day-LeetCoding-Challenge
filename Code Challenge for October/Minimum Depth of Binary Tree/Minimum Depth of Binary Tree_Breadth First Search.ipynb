{
 "cells": [
  {
   "cell_type": "code",
   "execution_count": null,
   "metadata": {},
   "outputs": [],
   "source": [
    "Given a binary tree, find its minimum depth.\n",
    "\n",
    "The minimum depth is the number of nodes along the shortest path from the root node down to the nearest leaf node.\n",
    "\n",
    "Note: A leaf is a node with no children.\n",
    "\n",
    "Example 1:\n",
    "Input: root = [3,9,20,null,null,15,7]\n",
    "Output: 2\n",
    "\n",
    "Example 2:\n",
    "Input: root = [2,null,3,null,4,null,5,null,6]\n",
    "Output: 5\n",
    " \n",
    "Constraints:\n",
    "The number of nodes in the tree is in the range [0, 105].\n",
    "-1000 <= Node.val <= 1000"
   ]
  },
  {
   "cell_type": "code",
   "execution_count": 10,
   "metadata": {},
   "outputs": [],
   "source": [
    "# Definition for a binary tree node.\n",
    "class TreeNode:\n",
    "    def __init__(self, val=0, left=None, right=None):\n",
    "        self.val = val\n",
    "        self.left = left\n",
    "        self.right = right\n",
    "class Solution:\n",
    "    def minDepth(self, root: TreeNode):\n",
    "        from collections import deque\n",
    "        \n",
    "        if not root:\n",
    "            return 0\n",
    "        \n",
    "        q=deque()\n",
    "        \n",
    "        q.append((root, 1))\n",
    "        \n",
    "        while q:\n",
    "            node, depth=q.popleft()\n",
    "            \n",
    "            if not node.left and not node.right:\n",
    "                return depth\n",
    "            \n",
    "            if node.left:\n",
    "                q.append((node.left, depth+1))\n",
    "                \n",
    "            if node.right:\n",
    "                q.append((node.right, depth+1))\n",
    "                \n",
    "                \n",
    "result:\n",
    "Runtime: 504 ms\n",
    "Memory Usage: 49.5 MB"
   ]
  },
  {
   "cell_type": "code",
   "execution_count": null,
   "metadata": {},
   "outputs": [],
   "source": [
    "Final submission - Breadth First Search\n",
    "\n",
    "# Definition for a binary tree node.\n",
    "# class TreeNode:\n",
    "#     def __init__(self, val=0, left=None, right=None):\n",
    "#         self.val = val\n",
    "#         self.left = left\n",
    "#         self.right = right\n",
    "class Solution:\n",
    "    def minDepth(self, root: TreeNode) -> int:\n",
    "        if not root:\n",
    "            return 0\n",
    "        \n",
    "        q=collections.deque()\n",
    "        \n",
    "        q.append((root, 1))\n",
    "        \n",
    "        while q:\n",
    "            node, depth=q.popleft()\n",
    "            \n",
    "            if not node.left and not node.right:\n",
    "                return depth\n",
    "            \n",
    "            if node.left:\n",
    "                q.append((node.left, depth+1))\n",
    "                \n",
    "            if node.right:\n",
    "                q.append((node.right, depth+1))\n",
    "        "
   ]
  }
 ],
 "metadata": {
  "kernelspec": {
   "display_name": "Python 3",
   "language": "python",
   "name": "python3"
  },
  "language_info": {
   "codemirror_mode": {
    "name": "ipython",
    "version": 3
   },
   "file_extension": ".py",
   "mimetype": "text/x-python",
   "name": "python",
   "nbconvert_exporter": "python",
   "pygments_lexer": "ipython3",
   "version": "3.7.4"
  }
 },
 "nbformat": 4,
 "nbformat_minor": 2
}
