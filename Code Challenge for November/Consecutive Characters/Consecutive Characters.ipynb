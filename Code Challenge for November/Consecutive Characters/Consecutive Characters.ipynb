{
 "cells": [
  {
   "cell_type": "code",
   "execution_count": null,
   "metadata": {},
   "outputs": [],
   "source": [
    "Given a string s, the power of the string is the maximum length of a non-empty substring that contains only one \n",
    "unique character.\n",
    "\n",
    "Return the power of the string.\n",
    "\n",
    "\n",
    "Example 1:\n",
    "Input: s = \"leetcode\"\n",
    "Output: 2\n",
    "Explanation: The substring \"ee\" is of length 2 with the character 'e' only.\n",
    "\n",
    "Example 2:\n",
    "Input: s = \"abbcccddddeeeeedcba\"\n",
    "Output: 5\n",
    "Explanation: The substring \"eeeee\" is of length 5 with the character 'e' only.\n",
    "\n",
    "Example 3:\n",
    "Input: s = \"triplepillooooow\"\n",
    "Output: 5\n",
    "\n",
    "Example 4:\n",
    "Input: s = \"hooraaaaaaaaaaay\"\n",
    "Output: 11\n",
    "\n",
    "Example 5:\n",
    "Input: s = \"tourist\"\n",
    "Output: 1\n",
    " \n",
    "\n",
    "Constraints:\n",
    "1 <= s.length <= 500\n",
    "s contains only lowercase English letters.\n",
    "\n",
    "Hint #1  \n",
    "Keep an array power where power[i] is the maximum power of the i-th character.\n",
    "\n",
    "Hint #2  \n",
    "The answer is max(power[i]).\n"
   ]
  },
  {
   "cell_type": "code",
   "execution_count": 15,
   "metadata": {},
   "outputs": [],
   "source": [
    "def maxPower(s):\n",
    "    previous=0\n",
    "    \n",
    "    previous, max_count, c=0, 1, 1\n",
    "    for i in range(1, len(s)):\n",
    "        if s[previous]==s[i]:\n",
    "            c+=1\n",
    " \n",
    "        else:\n",
    "            c=1\n",
    "            previous=i\n",
    "            \n",
    "        max_count=max(max_count, c)\n",
    "            \n",
    "    return max_count\n",
    "\n",
    "# result:\n",
    "# Your runtime beats 89.30 % of python3 submissions.\n",
    "# Runtime: 36 ms\n",
    "# Memory Usage: 14.2 MB\n",
    "    \n",
    "# Complexity Analysis\n",
    "\n",
    "# Let N be the length of s.\n",
    "\n",
    "# Time Complexity: O(N), since we perform one loop through s.\n",
    "\n",
    "# Space Complexity: O(1), since we only have two integer variables count and max_count(maxCount), and one character \n",
    "# variable previous."
   ]
  },
  {
   "cell_type": "code",
   "execution_count": 16,
   "metadata": {},
   "outputs": [
    {
     "data": {
      "text/plain": [
       "2"
      ]
     },
     "execution_count": 16,
     "metadata": {},
     "output_type": "execute_result"
    }
   ],
   "source": [
    "maxPower(s = \"cc\")"
   ]
  }
 ],
 "metadata": {
  "kernelspec": {
   "display_name": "Python 3",
   "language": "python",
   "name": "python3"
  },
  "language_info": {
   "codemirror_mode": {
    "name": "ipython",
    "version": 3
   },
   "file_extension": ".py",
   "mimetype": "text/x-python",
   "name": "python",
   "nbconvert_exporter": "python",
   "pygments_lexer": "ipython3",
   "version": "3.7.4"
  }
 },
 "nbformat": 4,
 "nbformat_minor": 2
}
