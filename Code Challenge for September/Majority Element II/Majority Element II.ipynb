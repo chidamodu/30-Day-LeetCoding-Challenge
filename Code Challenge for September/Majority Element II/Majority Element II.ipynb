{
 "cells": [
  {
   "cell_type": "code",
   "execution_count": null,
   "metadata": {},
   "outputs": [],
   "source": [
    "Given an integer array of size n, find all elements that appear more than ⌊ n/3 ⌋ times.\n",
    "\n",
    "Note: The algorithm should run in linear time and in O(1) space.\n",
    "\n",
    "Example 1:\n",
    "Input: [3,2,3]\n",
    "Output: [3]\n",
    "\n",
    "Example 2:\n",
    "Input: [1,1,1,3,3,2,2,2]\n",
    "Output: [1,2]\n",
    "    \n",
    "Hint:\n",
    "How many majority elements could it possibly have? "
   ]
  },
  {
   "cell_type": "code",
   "execution_count": 31,
   "metadata": {},
   "outputs": [],
   "source": [
    "Trial\n",
    "\n",
    "# from collections import Counter\n",
    "\n",
    "from collections import defaultdict\n",
    "\n",
    "def majorityElement(nums):\n",
    "    nums=sorted(nums)\n",
    "    c=1\n",
    "    d = defaultdict(list)\n",
    "    for i in range(len(nums)-1):\n",
    "        if nums[i]==nums[i+1]:\n",
    "            c+=1\n",
    "        else:\n",
    "            d[c].append(nums[i])\n",
    "            c=1\n",
    "            \n",
    "    return d\n",
    "            \n",
    "               "
   ]
  },
  {
   "cell_type": "code",
   "execution_count": 32,
   "metadata": {},
   "outputs": [
    {
     "data": {
      "text/plain": [
       "defaultdict(list, {3: [1, 2]})"
      ]
     },
     "execution_count": 32,
     "metadata": {},
     "output_type": "execute_result"
    }
   ],
   "source": [
    "majorityElement([1,1,1,3,3,2,2,2])"
   ]
  },
  {
   "cell_type": "code",
   "execution_count": 35,
   "metadata": {},
   "outputs": [],
   "source": [
    "Used an additional data structure\n",
    "\n",
    "from collections import Counter\n",
    "\n",
    "# from collections import defaultdict\n",
    "\n",
    "def majorityElement(nums):\n",
    "    d=Counter(nums)\n",
    "    result=[]\n",
    "    \n",
    "    capacity=int(len(nums)/3)\n",
    "    \n",
    "    for k, v in d.items():\n",
    "        if v>capacity:\n",
    "            result.append(k)\n",
    "            \n",
    "    return result\n",
    "        \n",
    "        \n",
    "\n",
    "Outcome:\n",
    "Runtime: 236 ms\n",
    "Memory Usage: 15.1 MB"
   ]
  },
  {
   "cell_type": "code",
   "execution_count": 36,
   "metadata": {},
   "outputs": [
    {
     "data": {
      "text/plain": [
       "[1, 2]"
      ]
     },
     "execution_count": 36,
     "metadata": {},
     "output_type": "execute_result"
    }
   ],
   "source": [
    "majorityElement([1,1,1,3,3,2,2,2])"
   ]
  },
  {
   "cell_type": "code",
   "execution_count": 63,
   "metadata": {},
   "outputs": [],
   "source": [
    "# Tried for O(1) space complexity\n",
    "\n",
    "# Tried this version without using extra data structure, i.e., Counter, but it does not work for a few test cases.\n",
    "\n",
    "def majorityElement(nums):\n",
    "    \n",
    "    result=[]\n",
    "    \n",
    "    capacity=int(len(nums)/3)+1\n",
    "    \n",
    "    nums=sorted(nums)\n",
    "    prev=nums[0]\n",
    "    c=1\n",
    "    \n",
    "    for i in range(1, len(nums)-1):\n",
    "        if nums[i]==prev:\n",
    "            c+=1\n",
    "        \n",
    "        else:\n",
    "            if c-capacity==0:\n",
    "                result.append(prev)\n",
    "        \n",
    "            prev=nums[i]\n",
    "            c=1\n",
    "            \n",
    "        \n",
    "    return result\n",
    "        "
   ]
  },
  {
   "cell_type": "code",
   "execution_count": 64,
   "metadata": {},
   "outputs": [
    {
     "data": {
      "text/plain": [
       "[1, 2]"
      ]
     },
     "execution_count": 64,
     "metadata": {},
     "output_type": "execute_result"
    }
   ],
   "source": [
    "majorityElement([1,1,1,3,3,2,2,2])"
   ]
  }
 ],
 "metadata": {
  "kernelspec": {
   "display_name": "Python 3",
   "language": "python",
   "name": "python3"
  },
  "language_info": {
   "codemirror_mode": {
    "name": "ipython",
    "version": 3
   },
   "file_extension": ".py",
   "mimetype": "text/x-python",
   "name": "python",
   "nbconvert_exporter": "python",
   "pygments_lexer": "ipython3",
   "version": "3.7.4"
  }
 },
 "nbformat": 4,
 "nbformat_minor": 2
}
