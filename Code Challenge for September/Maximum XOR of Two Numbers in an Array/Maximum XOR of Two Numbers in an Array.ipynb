{
 "cells": [
  {
   "cell_type": "code",
   "execution_count": null,
   "metadata": {},
   "outputs": [],
   "source": [
    "Given an integer array nums, return the maximum result of nums[i] XOR nums[j], where 0 ≤ i ≤ j < n.\n",
    "\n",
    "Follow up: Could you do this in O(n) runtime?\n",
    "\n",
    "Example 1:\n",
    "Input: nums = [3,10,5,25,2,8]\n",
    "Output: 28\n",
    "Explanation: The maximum result is 5 XOR 25 = 28.\n",
    "\n",
    "Example 2:\n",
    "Input: nums = [0]\n",
    "Output: 0\n",
    "\n",
    "Example 3:\n",
    "Input: nums = [2,4]\n",
    "Output: 6\n",
    "\n",
    "Example 4:\n",
    "Input: nums = [8,10,2]\n",
    "Output: 10\n",
    "\n",
    "Example 5:\n",
    "Input: nums = [14,70,53,83,49,91,36,80,92,51,66,70]\n",
    "Output: 127\n",
    " \n",
    "\n",
    "Constraints:\n",
    "1 <= nums.length <= 2 * 104\n",
    "0 <= nums[i] <= 231 - 1"
   ]
  },
  {
   "cell_type": "code",
   "execution_count": null,
   "metadata": {},
   "outputs": [],
   "source": [
    "class Solution:\n",
    "    def findMaximumXOR(self, nums: List[int]) -> int:\n",
    "        result = 0\n",
    "        for i in range(31,-1,-1):\n",
    "            prefix = set([num>>i for num in nums])\n",
    "            result <<=1\n",
    "            answer = result+1\n",
    "            for p in prefix:\n",
    "                if answer ^ p in prefix:\n",
    "                    result = answer\n",
    "                    break\n",
    "        \n",
    "        return result\n",
    "        \n",
    "outcome:\n",
    "Your runtime beats 64.68 % of python3 submissions.\n",
    "Runtime: 412 ms\n",
    "Memory Usage: 16.6 MB"
   ]
  }
 ],
 "metadata": {
  "kernelspec": {
   "display_name": "Python 3",
   "language": "python",
   "name": "python3"
  },
  "language_info": {
   "codemirror_mode": {
    "name": "ipython",
    "version": 3
   },
   "file_extension": ".py",
   "mimetype": "text/x-python",
   "name": "python",
   "nbconvert_exporter": "python",
   "pygments_lexer": "ipython3",
   "version": "3.7.4"
  }
 },
 "nbformat": 4,
 "nbformat_minor": 2
}
