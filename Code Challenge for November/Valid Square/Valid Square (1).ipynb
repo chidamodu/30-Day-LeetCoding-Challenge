{
 "cells": [
  {
   "cell_type": "code",
   "execution_count": null,
   "metadata": {},
   "outputs": [],
   "source": [
    "Given the coordinates of four points in 2D space, return whether the four points could construct a square.\n",
    "\n",
    "The coordinate (x,y) of a point is represented by an integer array with two integers.\n",
    "\n",
    "Example:\n",
    "Input: p1 = [0,0], p2 = [1,1], p3 = [1,0], p4 = [0,1]\n",
    "Output: True\n",
    " \n",
    "\n",
    "Note:\n",
    "All the input integers are in the range [-10000, 10000].\n",
    "A valid square has four equal sides with positive length and four equal angles (90-degree angles)."
   ]
  },
  {
   "cell_type": "code",
   "execution_count": null,
   "metadata": {},
   "outputs": [],
   "source": [
    "class Solution:\n",
    "    def validSquare(self, p1: List[int], p2: List[int], p3: List[int], p4: List[int]) -> bool:\n",
    "        def distance(p,q):\n",
    "            return (p[0]-q[0])**2 + (p[1]-q[1])**2\n",
    "        \n",
    "        def whether_square(p1,p2,p3,p4):\n",
    "            if p1[0]+p2[0] != p3[0]+p4[0] or p1[1]+p2[1] != p3[1]+p4[1]: return False\n",
    "            if distance(p1,p2) != distance(p3,p4) or distance(p1,p4) != distance(p2,p4): return False\n",
    "            if p1 == p2: return False\n",
    "            return True\n",
    "        \n",
    "        return whether_square(p1,p2,p3,p4) or whether_square(p1,p3,p2,p4) or whether_square(p1,p4,p2,p3)\n",
    "        \n",
    "\n",
    "Complexity Analysis\n",
    "\n",
    "Time complexity : \n",
    "O(1). Sorting 4 points takes constant time.\n",
    "\n",
    "Space complexity : \n",
    "O(1). Constant space is required."
   ]
  }
 ],
 "metadata": {
  "kernelspec": {
   "display_name": "Python 3",
   "language": "python",
   "name": "python3"
  },
  "language_info": {
   "codemirror_mode": {
    "name": "ipython",
    "version": 3
   },
   "file_extension": ".py",
   "mimetype": "text/x-python",
   "name": "python",
   "nbconvert_exporter": "python",
   "pygments_lexer": "ipython3",
   "version": "3.7.4"
  }
 },
 "nbformat": 4,
 "nbformat_minor": 2
}
