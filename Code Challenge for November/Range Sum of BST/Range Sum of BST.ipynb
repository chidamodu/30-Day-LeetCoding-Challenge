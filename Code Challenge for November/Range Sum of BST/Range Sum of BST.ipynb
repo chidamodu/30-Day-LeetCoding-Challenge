{
 "cells": [
  {
   "cell_type": "code",
   "execution_count": null,
   "metadata": {},
   "outputs": [],
   "source": [
    "Given the root node of a binary search tree, return the sum of values of all nodes with a value in the range \n",
    "[low, high].\n",
    "\n",
    "\n",
    "Example 1:\n",
    "Input: root = [10,5,15,3,7,null,18], low = 7, high = 15\n",
    "Output: 32\n",
    "\n",
    "    \n",
    "Example 2:\n",
    "Input: root = [10,5,15,3,7,13,18,1,null,6], low = 6, high = 10\n",
    "Output: 23\n",
    " \n",
    "\n",
    "Constraints:\n",
    "\n",
    "The number of nodes in the tree is in the range [1, 2 * 104].\n",
    "1 <= Node.val <= 105\n",
    "1 <= low <= high <= 105\n",
    "All Node.val are unique."
   ]
  },
  {
   "cell_type": "code",
   "execution_count": null,
   "metadata": {},
   "outputs": [],
   "source": [
    "# Definition for a binary tree node.\n",
    "# class TreeNode:\n",
    "#     def __init__(self, val=0, left=None, right=None):\n",
    "#         self.val = val\n",
    "#         self.left = left\n",
    "#         self.right = right\n",
    "\n",
    "\n",
    "\n",
    "class Solution:\n",
    "    def rangeSumBST(self, root: TreeNode, low: int, high: int) -> int:\n",
    "        self.result=0\n",
    "        \n",
    "        def inorder_traversal(root):\n",
    "            if root:\n",
    "                if root.val>low:\n",
    "                    inorder_traversal(root.left)\n",
    "                    \n",
    "                if root.val >=low and root.val<=high:\n",
    "                    result+=root.val\n",
    "                    \n",
    "                if root.val<high:\n",
    "                    inorder_traversal(root.right)\n",
    "        \n",
    "        inorder_traversal(root)\n",
    "        \n",
    "        return self.result\n",
    "        \n",
    "                    \n",
    "                    \n",
    "                    \n",
    "# Trial                \n",
    "        \n",
    "#         if root >=low and root<=high:\n",
    "            \n",
    "#             result.append(root)\n",
    "            \n",
    "#         if root.left and root.left>=low and root.left<=high:\n",
    "#             recursive_fn(root.left)\n",
    "            \n",
    "# #             result.append(root.left.left)\n",
    "#         else:\n",
    "#             recursive_fn(root.right)\n",
    "            \n",
    "# #             result.append(root.left.right)\n",
    "            \n",
    "#         result.append(root.left.right)\n",
    "            "
   ]
  },
  {
   "cell_type": "code",
   "execution_count": null,
   "metadata": {},
   "outputs": [],
   "source": []
  },
  {
   "cell_type": "code",
   "execution_count": null,
   "metadata": {},
   "outputs": [],
   "source": [
    "Approach 1: Depth First Search\n",
    "\n",
    "Intuition and Algorithm\n",
    "\n",
    "We traverse the tree using a depth first search. If node.val falls outside the range [L, R], \n",
    "(for example node.val < L), then we know that only the right branch could have nodes with value inside [L, R].\n",
    "\n",
    "We showcase two implementations - one using a recursive algorithm, and one using an iterative one.\n"
   ]
  },
  {
   "cell_type": "code",
   "execution_count": null,
   "metadata": {},
   "outputs": [],
   "source": [
    "Recursive Implementation\n",
    "\n",
    "class Solution(object):\n",
    "    def rangeSumBST(self, root, L, R):\n",
    "        def dfs(node):\n",
    "            if node:\n",
    "                if L <= node.val <= R:\n",
    "                    self.ans += node.val\n",
    "                if L < node.val:\n",
    "                    dfs(node.left)\n",
    "                if node.val < R:\n",
    "                    dfs(node.right)\n",
    "\n",
    "        self.ans = 0\n",
    "        dfs(root)\n",
    "        return self.ans"
   ]
  },
  {
   "cell_type": "code",
   "execution_count": null,
   "metadata": {},
   "outputs": [],
   "source": [
    "Iterative Implementation\n",
    "\n",
    "class Solution(object):\n",
    "    def rangeSumBST(self, root, L, R):\n",
    "        ans = 0\n",
    "        stack = [root]\n",
    "        while stack:\n",
    "            node = stack.pop()\n",
    "            if node:\n",
    "                if L <= node.val <= R:\n",
    "                    ans += node.val\n",
    "                if L < node.val:\n",
    "                    stack.append(node.left)\n",
    "                if node.val < R:\n",
    "                    stack.append(node.right)\n",
    "        return ans"
   ]
  },
  {
   "cell_type": "code",
   "execution_count": null,
   "metadata": {},
   "outputs": [],
   "source": [
    "Complexity Analysis\n",
    "\n",
    "Time Complexity: O(N), where N is the number of nodes in the tree.\n",
    "\n",
    "Space Complexity: O(N)\n",
    "\n",
    "For the recursive implementation, the recursion will consume additional space in the function call stack. In the \n",
    "worst case, the tree is of chain shape, and we will reach all the way down to the leaf node.\n",
    "\n",
    "For the iterative implementation, essentially we are doing a BFS (Breadth-First Search) traversal, where the stack \n",
    "will contain no more than two levels of the nodes. The maximal number of nodes in a binary tree is N/2\n",
    "\n",
    "Therefore, the maximal space needed for the stack would be O(N)."
   ]
  },
  {
   "cell_type": "code",
   "execution_count": null,
   "metadata": {},
   "outputs": [],
   "source": [
    "Why is recursive faster than iterative ?\n",
    "\n",
    "For your info:\n",
    "\n",
    "(Java) Recursive method executes less instructions and function calls in exchange for occupying more memory space in \n",
    "stack.\n",
    "\n"
   ]
  }
 ],
 "metadata": {
  "kernelspec": {
   "display_name": "Python 3",
   "language": "python",
   "name": "python3"
  },
  "language_info": {
   "codemirror_mode": {
    "name": "ipython",
    "version": 3
   },
   "file_extension": ".py",
   "mimetype": "text/x-python",
   "name": "python",
   "nbconvert_exporter": "python",
   "pygments_lexer": "ipython3",
   "version": "3.7.4"
  }
 },
 "nbformat": 4,
 "nbformat_minor": 2
}
