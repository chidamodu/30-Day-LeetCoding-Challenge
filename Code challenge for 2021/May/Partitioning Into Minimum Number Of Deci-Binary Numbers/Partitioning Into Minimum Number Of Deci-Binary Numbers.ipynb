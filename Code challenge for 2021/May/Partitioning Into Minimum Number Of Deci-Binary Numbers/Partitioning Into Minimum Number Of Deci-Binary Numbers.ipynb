{
 "cells": [
  {
   "cell_type": "code",
   "execution_count": null,
   "metadata": {},
   "outputs": [],
   "source": [
    "A decimal number is called deci-binary if each of its digits is either 0 or 1 without any leading zeros. For example, \n",
    "101 and 1100 are deci-binary, while 112 and 3001 are not.\n",
    "\n",
    "Given a string n that represents a positive decimal integer, return the minimum number of positive deci-binary \n",
    "numbers needed so that they sum up to n.\n",
    " \n",
    "Example 1:\n",
    "Input: n = \"32\"\n",
    "Output: 3\n",
    "Explanation: 10 + 11 + 11 = 32\n",
    "\n",
    "Example 2:\n",
    "Input: n = \"82734\"\n",
    "Output: 8\n",
    "\n",
    "Example 3:\n",
    "Input: n = \"27346209830709182346\"\n",
    "Output: 9\n",
    " \n",
    "Constraints:\n",
    "1 <= n.length <= 105\n",
    "n consists of only digits.\n",
    "n does not contain any leading zeros and represents a positive integer.\n",
    "\n",
    "Hint #1  \n",
    "Think about if the input was only one digit. Then you need to add up as many ones as the value of this digit.\n",
    "\n",
    "Hint #2  \n",
    "If the input has multiple digits, then you can solve for each digit independently, and merge the answers to form numbers that add up to that input.\n",
    "\n",
    "Hint #3  \n",
    "Thus the answer is equal to the max digit.\n"
   ]
  },
  {
   "cell_type": "code",
   "execution_count": 7,
   "metadata": {},
   "outputs": [],
   "source": [
    "Yay, my solution rocks\n",
    "\n",
    "def minPartitions(n):\n",
    "    n=sorted(n)\n",
    "    return int(n[-1])\n",
    "        \n",
    "Time complexity: O(NlogN) but this solution was slower with re to runtime complexity\n",
    "Space complexity: O(1)"
   ]
  },
  {
   "cell_type": "code",
   "execution_count": 8,
   "metadata": {},
   "outputs": [
    {
     "data": {
      "text/plain": [
       "9"
      ]
     },
     "execution_count": 8,
     "metadata": {},
     "output_type": "execute_result"
    }
   ],
   "source": [
    "minPartitions(n = \"27346209830709182346\")"
   ]
  },
  {
   "cell_type": "code",
   "execution_count": null,
   "metadata": {},
   "outputs": [],
   "source": [
    "Or as simple as this one:\n",
    "\n",
    "class Solution:\n",
    "    def minPartitions(self, n: str) -> int:\n",
    "        return max(n)\n",
    "    \n",
    "Time complexity: O(N)\n",
    "Space complexity: O(1)"
   ]
  }
 ],
 "metadata": {
  "kernelspec": {
   "display_name": "Python 3",
   "language": "python",
   "name": "python3"
  },
  "language_info": {
   "codemirror_mode": {
    "name": "ipython",
    "version": 3
   },
   "file_extension": ".py",
   "mimetype": "text/x-python",
   "name": "python",
   "nbconvert_exporter": "python",
   "pygments_lexer": "ipython3",
   "version": "3.7.4"
  }
 },
 "nbformat": 4,
 "nbformat_minor": 2
}
