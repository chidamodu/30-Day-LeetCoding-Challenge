{
 "cells": [
  {
   "cell_type": "code",
   "execution_count": null,
   "metadata": {},
   "outputs": [],
   "source": [
    "In LOL world, there is a hero called Teemo and his attacking can make his enemy Ashe be in poisoned condition. Now, \n",
    "given the Teemo's attacking ascending time series towards Ashe and the poisoning time duration per Teemo's attacking, \n",
    "you need to output the total time that Ashe is in poisoned condition.\n",
    "\n",
    "You may assume that Teemo attacks at the very beginning of a specific time point, and makes Ashe be in poisoned \n",
    "condition immediately.\n",
    "\n",
    "Example 1:\n",
    "Input: [1,4], 2\n",
    "Output: 4\n",
    "Explanation: At time point 1, Teemo starts attacking Ashe and makes Ashe be poisoned immediately. \n",
    "This poisoned status will last 2 seconds until the end of time point 2. \n",
    "And at time point 4, Teemo attacks Ashe again, and causes Ashe to be in poisoned status for another 2 seconds. \n",
    "So you finally need to output 4.\n",
    " \n",
    "\n",
    "Example 2:\n",
    "Input: [1,2], 2\n",
    "Output: 3\n",
    "Explanation: At time point 1, Teemo starts attacking Ashe and makes Ashe be poisoned. \n",
    "This poisoned status will last 2 seconds until the end of time point 2. \n",
    "However, at the beginning of time point 2, Teemo attacks Ashe again who is already in poisoned status. \n",
    "Since the poisoned status won't add up together, though the second poisoning attack will still work at time point 2, \n",
    "it will stop at the end of time point 3. \n",
    "So you finally need to output 3.\n",
    " \n",
    "\n",
    "Note:\n",
    "You may assume the length of given time series array won't exceed 10000.\n",
    "You may assume the numbers in the Teemo's attacking time series and his poisoning time duration per attacking are non-negative integers, which won't exceed 10,000,000.\n"
   ]
  },
  {
   "cell_type": "code",
   "execution_count": 3,
   "metadata": {},
   "outputs": [],
   "source": [
    "def findPoisonedDuration(timeSeries, duration):\n",
    "    total_time=0\n",
    "    \n",
    "    if len(timeSeries)==0:\n",
    "        return total_time\n",
    "        \n",
    "    for i in range(len(timeSeries)-1):\n",
    "        total_time+=min(duration, timeSeries[i+1]-timeSeries[i])\n",
    "        \n",
    "    return total_time+duration\n",
    "        \n",
    "        \n",
    "result:\n",
    "Your runtime beats 95.94 % of python3 submissions.\n",
    "Runtime: 256 ms\n",
    "Memory Usage: 15.4 MB\n",
    "    \n",
    "Complexity Analysis\n",
    "\n",
    "Time complexity : \n",
    "O(N), where N is the length of the input list, since we iterate the entire list.\n",
    "\n",
    "Space complexity : \n",
    "O(1), it is a constant space solution."
   ]
  },
  {
   "cell_type": "code",
   "execution_count": 4,
   "metadata": {},
   "outputs": [
    {
     "data": {
      "text/plain": [
       "3"
      ]
     },
     "execution_count": 4,
     "metadata": {},
     "output_type": "execute_result"
    }
   ],
   "source": [
    "findPoisonedDuration([1,2], 2)"
   ]
  },
  {
   "cell_type": "code",
   "execution_count": null,
   "metadata": {},
   "outputs": [],
   "source": [
    "Approach: One pass\n",
    "\n",
    "Intuition\n",
    "\n",
    "The problem is an example of merge interval questions.\n",
    "\n",
    "Here one deals with a sorted input, and the problem could be solved in one pass with a constant space. \n",
    "The idea is straightforward: consider only the interval between two attacks. Ashe spends in a poisoned condition the \n",
    "whole time interval if this interval is shorter than the poisoning time duration duration, and duration otherwise.\n",
    "\n",
    "Algorithm\n",
    "\n",
    "Initiate total time in poisoned condition total = 0.\n",
    "\n",
    "Iterate over timeSeries list. At each step add to the total time the minimum between interval length and the \n",
    "poisoning time duration duration.\n",
    "\n",
    "Return total + duration to take the last attack into account."
   ]
  }
 ],
 "metadata": {
  "kernelspec": {
   "display_name": "Python 3",
   "language": "python",
   "name": "python3"
  },
  "language_info": {
   "codemirror_mode": {
    "name": "ipython",
    "version": 3
   },
   "file_extension": ".py",
   "mimetype": "text/x-python",
   "name": "python",
   "nbconvert_exporter": "python",
   "pygments_lexer": "ipython3",
   "version": "3.7.4"
  }
 },
 "nbformat": 4,
 "nbformat_minor": 2
}
