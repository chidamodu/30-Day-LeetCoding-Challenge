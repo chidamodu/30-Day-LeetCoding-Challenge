{
 "cells": [
  {
   "cell_type": "code",
   "execution_count": null,
   "metadata": {},
   "outputs": [],
   "source": [
    "Solution provided by Leetcode\n",
    "Runtime: 188 ms, faster than 5.22% of Python3 online submissions for Maximum Subarray.\n",
    "Memory Usage: 14.7 MB, less than 5.69% of Python3 online submissions for Maximum Subarray.\n",
    "\n",
    "class Solution:\n",
    "    def cross_sum(self, nums, left, right, p): \n",
    "            if left == right:\n",
    "                return nums[left]\n",
    "\n",
    "            left_subsum = float('-inf')\n",
    "            curr_sum = 0\n",
    "            for i in range(p, left - 1, -1):\n",
    "                curr_sum += nums[i]\n",
    "                left_subsum = max(left_subsum, curr_sum)\n",
    "\n",
    "            right_subsum = float('-inf')\n",
    "            curr_sum = 0\n",
    "            for i in range(p + 1, right + 1):\n",
    "                curr_sum += nums[i]\n",
    "                right_subsum = max(right_subsum, curr_sum)\n",
    "\n",
    "            return left_subsum + right_subsum   \n",
    "    \n",
    "    def helper(self, nums, left, right): \n",
    "        if left == right:\n",
    "            return nums[left]\n",
    "        \n",
    "        p = (left + right) // 2\n",
    "            \n",
    "        left_sum = self.helper(nums, left, p)\n",
    "        right_sum = self.helper(nums, p + 1, right)\n",
    "        cross_sum = self.cross_sum(nums, left, right, p)\n",
    "        \n",
    "        return max(left_sum, right_sum, cross_sum)\n",
    "        \n",
    "    def maxSubArray(self, nums: 'List[int]') -> 'int':\n",
    "        return self.helper(nums, 0, len(nums) - 1)"
   ]
  }
 ],
 "metadata": {
  "kernelspec": {
   "display_name": "Python 3",
   "language": "python",
   "name": "python3"
  },
  "language_info": {
   "codemirror_mode": {
    "name": "ipython",
    "version": 3
   },
   "file_extension": ".py",
   "mimetype": "text/x-python",
   "name": "python",
   "nbconvert_exporter": "python",
   "pygments_lexer": "ipython3",
   "version": "3.7.4"
  }
 },
 "nbformat": 4,
 "nbformat_minor": 2
}
