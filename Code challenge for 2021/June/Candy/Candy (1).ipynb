{
 "cells": [
  {
   "cell_type": "code",
   "execution_count": null,
   "metadata": {},
   "outputs": [],
   "source": [
    "There are n children standing in a line. Each child is assigned a rating value given in the integer array ratings.\n",
    "\n",
    "You are giving candies to these children subjected to the following requirements:\n",
    "\n",
    "Each child must have at least one candy.\n",
    "Children with a higher rating get more candies than their neighbors.\n",
    "Return the minimum number of candies you need to have to distribute the candies to the children.\n",
    "\n",
    "Example 1:\n",
    "Input: ratings = [1,0,2]\n",
    "Output: 5\n",
    "Explanation: You can allocate to the first, second and third child with 2, 1, 2 candies respectively.\n",
    "\n",
    "Example 2:\n",
    "Input: ratings = [1,2,2]\n",
    "Output: 4\n",
    "Explanation: You can allocate to the first, second and third child with 1, 2, 1 candies respectively.\n",
    "The third child gets 1 candy because it satisfies the above two conditions.\n",
    " \n",
    "Constraints:\n",
    "n == ratings.length\n",
    "1 <= n <= 2 * 104\n",
    "0 <= ratings[i] <= 2 * 104"
   ]
  },
  {
   "cell_type": "code",
   "execution_count": 57,
   "metadata": {},
   "outputs": [],
   "source": [
    "First trial but does not give correct answer\n",
    "\n",
    "def candy(ratings):\n",
    "    left=[1]*len(ratings)\n",
    "    right=[1]*len(ratings)\n",
    "    min_candy=0\n",
    "    \n",
    "    for l in range(len(ratings)):\n",
    "        if ratings[l]>ratings[l-1]:\n",
    "            left[l]=left[l-1]+1\n",
    "                \n",
    "    for r in range(len(ratings), 0, -1):\n",
    "        if r-1>0:\n",
    "            if ratings[r-2]>ratings[r-1]:\n",
    "                right[r-2]=right[r-1]+1\n",
    "                \n",
    "    for i in range(len(left)):\n",
    "        min_candy+=max(left[i], right[i])\n",
    "         \n",
    "    \n",
    "    return min_candy"
   ]
  },
  {
   "cell_type": "code",
   "execution_count": 58,
   "metadata": {},
   "outputs": [
    {
     "data": {
      "text/plain": [
       "15"
      ]
     },
     "execution_count": 58,
     "metadata": {},
     "output_type": "execute_result"
    }
   ],
   "source": [
    "candy(ratings = [29,51,87,87,72,12])"
   ]
  },
  {
   "cell_type": "code",
   "execution_count": 60,
   "metadata": {},
   "outputs": [
    {
     "name": "stdout",
     "output_type": "stream",
     "text": [
      "1\n",
      "0\n"
     ]
    }
   ],
   "source": [
    "n=3\n",
    "for i in range(n-2, -1, -1):\n",
    "    print(i)"
   ]
  },
  {
   "cell_type": "code",
   "execution_count": null,
   "metadata": {},
   "outputs": [],
   "source": [
    "Submission solution:\n",
    "    \n",
    "class Solution:\n",
    "    def candy(self, R):\n",
    "        n, ans = len(R), [1]*len(R)\n",
    "        \n",
    "        for i in range(n-1):\n",
    "            if R[i] < R[i+1]:\n",
    "                ans[i+1] = max(1 + ans[i], ans[i+1])\n",
    "                \n",
    "        for i in range(n-2, -1, -1):\n",
    "            if R[i+1] < R[i]:\n",
    "                ans[i] = max(1 + ans[i+1], ans[i])\n",
    "        \n",
    "        return sum(ans)\n"
   ]
  },
  {
   "cell_type": "code",
   "execution_count": null,
   "metadata": {},
   "outputs": [],
   "source": [
    "Complexity\n",
    "\n",
    "Overall time and space complexity is O(n)."
   ]
  },
  {
   "cell_type": "code",
   "execution_count": 79,
   "metadata": {},
   "outputs": [],
   "source": [
    "# Yay, my concept was correct!\n",
    "\n",
    "def candy(ratings):\n",
    "    ans=[1]*len(ratings)\n",
    "    \n",
    "\n",
    "    \n",
    "    for l in range(len(ratings)):\n",
    "        if l>0:\n",
    "            if ratings[l]>ratings[l-1]:\n",
    "                ans[l]=max(ans[l-1]+1, ans[l])\n",
    "                \n",
    "    for r in range(len(ratings), 0, -1):\n",
    "        if r-1>0:\n",
    "            if ratings[r-2]>ratings[r-1]:\n",
    "                ans[r-2]=max(ans[r-1]+1, ans[r-2])\n",
    "                \n",
    "\n",
    "         \n",
    "    \n",
    "    return sum(ans)\n",
    "\n",
    "Your runtime beats 61.86 % of python3 submissions.\n",
    "Runtime: 164 ms\n",
    "Memory Usage: 16.7 MB"
   ]
  },
  {
   "cell_type": "code",
   "execution_count": 80,
   "metadata": {},
   "outputs": [
    {
     "data": {
      "text/plain": [
       "4"
      ]
     },
     "execution_count": 80,
     "metadata": {},
     "output_type": "execute_result"
    }
   ],
   "source": [
    "candy(ratings = [1,2,2])"
   ]
  }
 ],
 "metadata": {
  "kernelspec": {
   "display_name": "Python 3",
   "language": "python",
   "name": "python3"
  },
  "language_info": {
   "codemirror_mode": {
    "name": "ipython",
    "version": 3
   },
   "file_extension": ".py",
   "mimetype": "text/x-python",
   "name": "python",
   "nbconvert_exporter": "python",
   "pygments_lexer": "ipython3",
   "version": "3.7.4"
  }
 },
 "nbformat": 4,
 "nbformat_minor": 2
}
