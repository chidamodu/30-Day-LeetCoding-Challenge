{
 "cells": [
  {
   "cell_type": "code",
   "execution_count": null,
   "metadata": {},
   "outputs": [],
   "source": [
    "Given an array nums containing n distinct numbers in the range [0, n], return the only number in the range that is \n",
    "missing from the array.\n",
    "\n",
    "Follow up: Could you implement a solution using only O(1) extra space complexity and O(n) runtime complexity?\n",
    "\n",
    "Example 1:\n",
    "Input: nums = [3,0,1]\n",
    "Output: 2\n",
    "Explanation: n = 3 since there are 3 numbers, so all numbers are in the range [0,3]. 2 is the missing number in the \n",
    "range since it does not appear in nums.\n",
    "\n",
    "Example 2:\n",
    "Input: nums = [0,1]\n",
    "Output: 2\n",
    "Explanation: n = 2 since there are 2 numbers, so all numbers are in the range [0,2]. 2 is the missing number in the \n",
    "range since it does not appear in nums.\n",
    "\n",
    "Example 3:\n",
    "Input: nums = [9,6,4,2,3,5,7,0,1]\n",
    "Output: 8\n",
    "Explanation: n = 9 since there are 9 numbers, so all numbers are in the range [0,9]. 8 is the missing number in the \n",
    "range since it does not appear in nums.\n",
    "\n",
    "Example 4:\n",
    "Input: nums = [0]\n",
    "Output: 1\n",
    "Explanation: n = 1 since there is 1 number, so all numbers are in the range [0,1]. 1 is the missing number in the \n",
    "range since it does not appear in nums.\n",
    " \n",
    "Constraints:\n",
    "n == nums.length\n",
    "1 <= n <= 104\n",
    "0 <= nums[i] <= n\n",
    "All the numbers of nums are unique."
   ]
  },
  {
   "cell_type": "code",
   "execution_count": 27,
   "metadata": {},
   "outputs": [],
   "source": [
    "Trial 1 but we can do better\n",
    "\n",
    "def missingNumber(nums):\n",
    "    missing=-1\n",
    "    n=max(nums)\n",
    "    for i in range(n+1):\n",
    "        if i not in nums:\n",
    "            missing=i\n",
    "            break\n",
    "            \n",
    "    if missing<0:\n",
    "        return max(nums)+1\n",
    "    else:\n",
    "        return missing\n",
    "        \n",
    "            "
   ]
  },
  {
   "cell_type": "code",
   "execution_count": 28,
   "metadata": {},
   "outputs": [
    {
     "data": {
      "text/plain": [
       "0"
      ]
     },
     "execution_count": 28,
     "metadata": {},
     "output_type": "execute_result"
    }
   ],
   "source": [
    "missingNumber(nums = [1])"
   ]
  },
  {
   "cell_type": "markdown",
   "metadata": {},
   "source": [
    "Approach: Gauss' Formula\n",
    "      \n",
    "Intuition\n",
    "\n",
    "One of the most well-known stories in mathematics is of a young Gauss, forced to find the sum of the first 100 \n",
    "natural numbers by a lazy teacher. Rather than add the numbers by hand, he deduced a closed-form expression for the \n",
    "sum, or so the story goes. You can see the formula below:\n",
    "\n",
    "n\n",
    "∑    i=n(n+1)/2\n",
    "i=0\n",
    "\n",
    "\n",
    "Algorithm\n",
    "\n",
    "We can compute the sum of nums in linear time, and by Gauss' formula, we can compute the sum of the first n natural \n",
    "numbers in constant time. Therefore, the number that is missing is simply the result of Gauss' \n",
    "formula minus the sum of nums, as nums consists of the first n natural numbers minus some number.\n",
    "\n",
    "\n",
    "    "
   ]
  },
  {
   "cell_type": "code",
   "execution_count": 29,
   "metadata": {},
   "outputs": [],
   "source": [
    "def missingNumber(nums):\n",
    "    n=len(nums)\n",
    "    expected_sum=n*(n+1)//2\n",
    "    actual_sum=sum(nums)\n",
    "    return expected_sum-actual_sum"
   ]
  },
  {
   "cell_type": "code",
   "execution_count": 30,
   "metadata": {},
   "outputs": [
    {
     "data": {
      "text/plain": [
       "0"
      ]
     },
     "execution_count": 30,
     "metadata": {},
     "output_type": "execute_result"
    }
   ],
   "source": [
    "missingNumber(nums = [1])"
   ]
  },
  {
   "cell_type": "code",
   "execution_count": null,
   "metadata": {},
   "outputs": [],
   "source": [
    "Complexity Analysis\n",
    "\n",
    "Time complexity : \n",
    "O(n)\n",
    "\n",
    "Although Gauss' formula can be computed in O(1) time, summing nums costs us O(n) time, so the algorithm is overall \n",
    "linear. Because we have no information about which number is missing, an adversary could always design an input for \n",
    "which any algorithm that examines fewer than n numbers fails. Therefore, this solution is asymptotically optimal.\n",
    "\n",
    "Space complexity : \n",
    "O(1)\n",
    "\n",
    "This approach only pushes a few integers around, so it has constant memory usage."
   ]
  },
  {
   "cell_type": "markdown",
   "metadata": {},
   "source": [
    "Approach: HashSet\n",
    "\n",
    "Intuition\n",
    "\n",
    "A brute force method for solving this problem would be to simply check for the presence of each number that we expect \n",
    "to be present. The naive implementation might use a linear scan of the array to check for containment, but we can use \n",
    "a HashSet to get constant time containment queries and overall linear runtime.\n",
    "\n",
    "Algorithm\n",
    "\n",
    "This algorithm is almost identical to the brute force approach, except we first insert each element of nums into a set, allowing us to later query for containment in O(1) time.\n",
    "\n"
   ]
  },
  {
   "cell_type": "code",
   "execution_count": null,
   "metadata": {},
   "outputs": [],
   "source": [
    "class Solution:\n",
    "    def missingNumber(self, nums):\n",
    "        num_set = set(nums)\n",
    "        n = len(nums) + 1\n",
    "        for number in range(n):\n",
    "            if number not in num_set:\n",
    "                return number"
   ]
  },
  {
   "cell_type": "code",
   "execution_count": null,
   "metadata": {},
   "outputs": [],
   "source": [
    "Complexity Analysis\n",
    "\n",
    "Time complexity : \n",
    "O(n)\n",
    "\n",
    "Space complexity : \n",
    "O(n)\n",
    "\n"
   ]
  }
 ],
 "metadata": {
  "kernelspec": {
   "display_name": "Python 3",
   "language": "python",
   "name": "python3"
  },
  "language_info": {
   "codemirror_mode": {
    "name": "ipython",
    "version": 3
   },
   "file_extension": ".py",
   "mimetype": "text/x-python",
   "name": "python",
   "nbconvert_exporter": "python",
   "pygments_lexer": "ipython3",
   "version": "3.7.4"
  }
 },
 "nbformat": 4,
 "nbformat_minor": 2
}
