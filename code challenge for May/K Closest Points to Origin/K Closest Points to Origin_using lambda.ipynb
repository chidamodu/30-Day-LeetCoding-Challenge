{
 "cells": [
  {
   "cell_type": "code",
   "execution_count": null,
   "metadata": {},
   "outputs": [],
   "source": [
    "\n",
    "class Solution(object):\n",
    "    def kClosest(self, points, K):\n",
    "        points.sort(key = lambda P: P[0]**2 + P[1]**2)\n",
    "        return points[:K]\n",
    "    \n",
    "    \n",
    "result:\n",
    "Your runtime beats 94.50 % of python3 submissions.\n",
    "Runtime: 664 ms\n",
    "Memory Usage: 19.1 MB"
   ]
  },
  {
   "cell_type": "code",
   "execution_count": null,
   "metadata": {},
   "outputs": [],
   "source": [
    "\n",
    "class Solution(object):\n",
    "    def kClosest(self, points, K):\n",
    "        points.sort(key = lambda P: round((P[0]**2 + P[1]**2)**(1/2), 2))\n",
    "        return points[:K]\n",
    "\n",
    "\n",
    "\n",
    "\n",
    "Your runtime beats 9.41 % of python3 submissions.\n",
    "Runtime: 1196 ms\n",
    "Memory Usage: 19.2 MB"
   ]
  }
 ],
 "metadata": {
  "kernelspec": {
   "display_name": "Python 3",
   "language": "python",
   "name": "python3"
  },
  "language_info": {
   "codemirror_mode": {
    "name": "ipython",
    "version": 3
   },
   "file_extension": ".py",
   "mimetype": "text/x-python",
   "name": "python",
   "nbconvert_exporter": "python",
   "pygments_lexer": "ipython3",
   "version": "3.7.4"
  }
 },
 "nbformat": 4,
 "nbformat_minor": 2
}
