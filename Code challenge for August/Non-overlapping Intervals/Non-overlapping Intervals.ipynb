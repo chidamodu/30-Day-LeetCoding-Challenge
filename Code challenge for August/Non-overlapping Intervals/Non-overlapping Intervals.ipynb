{
 "cells": [
  {
   "cell_type": "code",
   "execution_count": null,
   "metadata": {},
   "outputs": [],
   "source": [
    "Given a collection of intervals, find the minimum number of intervals you need to remove to make the rest of the \n",
    "intervals non-overlapping.\n",
    "\n",
    "\n",
    "Example 1:\n",
    "Input: [[1,2],[2,3],[3,4],[1,3]]\n",
    "Output: 1\n",
    "Explanation: [1,3] can be removed and the rest of intervals are non-overlapping.\n",
    "\n",
    "Example 2:\n",
    "Input: [[1,2],[1,2],[1,2]]\n",
    "Output: 2\n",
    "Explanation: You need to remove two [1,2] to make the rest of intervals non-overlapping.\n",
    "\n",
    "Example 3:\n",
    "Input: [[1,2],[2,3]]\n",
    "Output: 0\n",
    "Explanation: You don't need to remove any of the intervals since they're already non-overlapping.\n",
    " \n",
    "\n",
    "Note:\n",
    "You may assume the interval's end point is always bigger than its start point.\n",
    "Intervals like [1,2] and [2,3] have borders \"touching\" but they don't overlap each other."
   ]
  },
  {
   "cell_type": "code",
   "execution_count": 49,
   "metadata": {},
   "outputs": [],
   "source": [
    "\n",
    "def eraseOverlapIntervals(intervals):\n",
    "    \n",
    "    result=[]\n",
    "#     intervals=sorted(intervals)\n",
    "#     print(intervals)\n",
    "    for i in range(1, len(intervals)):\n",
    "#         print(intervals[i][0])\n",
    "#         print(intervals[i-1][0])\n",
    "        if (intervals[i][0]<=intervals[i-1][0]) or (intervals[i][1]<=intervals[i-1][1]):\n",
    "            result.append(intervals[i])\n",
    "#             overlapping[intervals[i]]=overlapping.get(intervals[i], 0)+1\n",
    "          \n",
    "    return len(result)\n",
    "            \n",
    "        \n",
    "    "
   ]
  },
  {
   "cell_type": "code",
   "execution_count": 50,
   "metadata": {},
   "outputs": [
    {
     "data": {
      "text/plain": [
       "1"
      ]
     },
     "execution_count": 50,
     "metadata": {},
     "output_type": "execute_result"
    }
   ],
   "source": [
    "eraseOverlapIntervals([[1,2],[2,3],[3,4],[1,3]])"
   ]
  },
  {
   "cell_type": "code",
   "execution_count": null,
   "metadata": {},
   "outputs": [],
   "source": [
    "what are my thoughts re the edge cases and other limitations?\n",
    "\n",
    "what if the first element is overlapping? meaning: should I check for better conditions?\n",
    "using extra list to store the result\n"
   ]
  },
  {
   "cell_type": "code",
   "execution_count": 57,
   "metadata": {},
   "outputs": [],
   "source": [
    "def eraseOverlapIntervals(intervals):\n",
    "    if len(intervals)<2: return 0\n",
    "    intervals=sorted(intervals)\n",
    "    c, prev=0, 0\n",
    "    for i in range(1, len(intervals)):\n",
    "        if intervals[i][0]<intervals[prev][1]:\n",
    "            c+=1\n",
    "            if intervals[i][1]<intervals[prev][1]: prev=i\n",
    "        else:\n",
    "            prev=i\n",
    "            \n",
    "    return c\n",
    "        \n",
    "result:\n",
    "Your runtime beats 35.89 % of python3 submissions.\n",
    "Runtime: 96 ms\n",
    "Memory Usage: 17 MB"
   ]
  },
  {
   "cell_type": "code",
   "execution_count": 58,
   "metadata": {},
   "outputs": [
    {
     "data": {
      "text/plain": [
       "0"
      ]
     },
     "execution_count": 58,
     "metadata": {},
     "output_type": "execute_result"
    }
   ],
   "source": [
    "eraseOverlapIntervals([[0,1],[3,4],[1,2]])"
   ]
  }
 ],
 "metadata": {
  "kernelspec": {
   "display_name": "Python 3",
   "language": "python",
   "name": "python3"
  },
  "language_info": {
   "codemirror_mode": {
    "name": "ipython",
    "version": 3
   },
   "file_extension": ".py",
   "mimetype": "text/x-python",
   "name": "python",
   "nbconvert_exporter": "python",
   "pygments_lexer": "ipython3",
   "version": "3.7.4"
  }
 },
 "nbformat": 4,
 "nbformat_minor": 2
}
