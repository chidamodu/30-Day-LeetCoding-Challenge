{
 "cells": [
  {
   "cell_type": "code",
   "execution_count": null,
   "metadata": {},
   "outputs": [],
   "source": [
    "Given two strings S and T, return if they are equal when both are typed into empty text editors. \n",
    "# means a backspace character.\n",
    "\n",
    "Example 1:\n",
    "Input: S = \"ab#c\", T = \"ad#c\"\n",
    "Output: true\n",
    "Explanation: Both S and T become \"ac\"."
   ]
  },
  {
   "cell_type": "code",
   "execution_count": 20,
   "metadata": {},
   "outputs": [],
   "source": [
    "String split I tried...\n",
    "ans=[]\n",
    "for i in range(len(S)):\n",
    "    if S[i]=='#':\n",
    "        ans.append(S.split(S[i])[i-1:i])\n",
    "    else:\n",
    "        continue\n",
    "        \n"
   ]
  },
  {
   "cell_type": "code",
   "execution_count": 21,
   "metadata": {},
   "outputs": [
    {
     "data": {
      "text/plain": [
       "[['a'], ['']]"
      ]
     },
     "execution_count": 21,
     "metadata": {},
     "output_type": "execute_result"
    }
   ],
   "source": [
    "ans"
   ]
  },
  {
   "cell_type": "code",
   "execution_count": 68,
   "metadata": {},
   "outputs": [],
   "source": [
    "trial and error that did not work!\n",
    "\n",
    "\n",
    "def backspaceCompare(S):\n",
    "    ans=[]\n",
    "    for i in range(len(S)):\n",
    "        if S[i]=='#':\n",
    "            ans.append(S.split(S[i])[:i])\n",
    "        else:\n",
    "            continue\n",
    "            \n",
    "    return ans\n",
    "    \n",
    "#     for item in S:\n",
    "#         if item not in ans:\n",
    "#             print(item)\n",
    "#             continue\n",
    "            \n",
    "#         else:\n",
    "#             S.delete(item)\n",
    "            \n",
    "#     return S\n",
    "    "
   ]
  },
  {
   "cell_type": "code",
   "execution_count": 69,
   "metadata": {},
   "outputs": [
    {
     "data": {
      "text/plain": [
       "[[], ['', 'a']]"
      ]
     },
     "execution_count": 69,
     "metadata": {},
     "output_type": "execute_result"
    }
   ],
   "source": [
    "backspaceCompare(\"#a#c\")"
   ]
  },
  {
   "cell_type": "code",
   "execution_count": 76,
   "metadata": {},
   "outputs": [],
   "source": [
    "to create a list with only lowercase alphabets\n",
    "import string\n",
    "d = list(string.ascii_lowercase)"
   ]
  },
  {
   "cell_type": "code",
   "execution_count": 77,
   "metadata": {},
   "outputs": [
    {
     "data": {
      "text/plain": [
       "['a',\n",
       " 'b',\n",
       " 'c',\n",
       " 'd',\n",
       " 'e',\n",
       " 'f',\n",
       " 'g',\n",
       " 'h',\n",
       " 'i',\n",
       " 'j',\n",
       " 'k',\n",
       " 'l',\n",
       " 'm',\n",
       " 'n',\n",
       " 'o',\n",
       " 'p',\n",
       " 'q',\n",
       " 'r',\n",
       " 's',\n",
       " 't',\n",
       " 'u',\n",
       " 'v',\n",
       " 'w',\n",
       " 'x',\n",
       " 'y',\n",
       " 'z']"
      ]
     },
     "execution_count": 77,
     "metadata": {},
     "output_type": "execute_result"
    }
   ],
   "source": [
    "d"
   ]
  },
  {
   "cell_type": "code",
   "execution_count": 124,
   "metadata": {},
   "outputs": [],
   "source": [
    "trial and error that did not work!\n",
    "\n",
    "def backspaceCompare(S):\n",
    "    import string\n",
    "    d = list(string.ascii_lowercase)\n",
    "    \n",
    "\n",
    "    \n",
    "    for i in range(len(S)):\n",
    "        if S[i]=='#':\n",
    "            if S[i-1] in d:\n",
    "                S=S.replace(S[i-1], '0')\n",
    "                S=S.replace(S[i], '0')\n",
    "          \n",
    "            elif S[i-1]=='':\n",
    "                S=S.replace(S[i], '0')\n",
    "                \n",
    "            \n",
    "            \n",
    "#         else:\n",
    "#             continue\n",
    "\n",
    "            \n",
    "    return S"
   ]
  },
  {
   "cell_type": "code",
   "execution_count": 125,
   "metadata": {},
   "outputs": [
    {
     "data": {
      "text/plain": [
       "'0a00'"
      ]
     },
     "execution_count": 125,
     "metadata": {},
     "output_type": "execute_result"
    }
   ],
   "source": [
    "backspaceCompare(\"#a#c\")"
   ]
  },
  {
   "cell_type": "code",
   "execution_count": 188,
   "metadata": {},
   "outputs": [],
   "source": [
    "This works great but program design could be better\n",
    "\n",
    "def backspaceCompare(S, T):\n",
    "    stack_s, stack_t=[], []\n",
    "    \n",
    "    for i in range(len(S)):\n",
    "        if S[i]!='#':\n",
    "            stack_s.append(S[i])\n",
    "            \n",
    "        elif S[i]=='#' and stack_s:\n",
    "            stack_s.pop()\n",
    "            \n",
    "    for j in range(len(T)):\n",
    "        if T[j]!='#':\n",
    "            stack_t.append(T[j])\n",
    "            \n",
    "        elif T[j]=='#' and stack_t:\n",
    "            stack_t.pop()\n",
    "       \n",
    "            \n",
    "    return True if stack_s==stack_t else False\n",
    "    \n",
    "Your runtime beats 89.75 % of python3 submissions. Yay!\n",
    "\n",
    "Complexity Analysis\n",
    "\n",
    "Time Complexity: \n",
    "O(M+N), where M,N are the lengths of S and T respectively.\n",
    "\n",
    "Space Complexity: \n",
    "O(M+N).\n",
    "\n"
   ]
  },
  {
   "cell_type": "code",
   "execution_count": 189,
   "metadata": {},
   "outputs": [
    {
     "data": {
      "text/plain": [
       "False"
      ]
     },
     "execution_count": 189,
     "metadata": {},
     "output_type": "execute_result"
    }
   ],
   "source": [
    "backspaceCompare(\"a#c\", \"b\")"
   ]
  },
  {
   "cell_type": "code",
   "execution_count": 229,
   "metadata": {},
   "outputs": [],
   "source": [
    "Function call from another function\n",
    "def stack_func(f):\n",
    "    stack=[]\n",
    "    for i in f:\n",
    "        if i!='#':\n",
    "            stack.append(i)\n",
    "            \n",
    "        elif stack:\n",
    "            stack.pop()\n",
    "            \n",
    "    return ''.join(stack)\n",
    "    \n",
    "def backspaceCompare(S, T):\n",
    "    return stack_func(S)==stack_func(T)"
   ]
  },
  {
   "cell_type": "code",
   "execution_count": 230,
   "metadata": {},
   "outputs": [
    {
     "data": {
      "text/plain": [
       "False"
      ]
     },
     "execution_count": 230,
     "metadata": {},
     "output_type": "execute_result"
    }
   ],
   "source": [
    "backspaceCompare(\"a#c\", \"b\")"
   ]
  }
 ],
 "metadata": {
  "kernelspec": {
   "display_name": "Python 3",
   "language": "python",
   "name": "python3"
  },
  "language_info": {
   "codemirror_mode": {
    "name": "ipython",
    "version": 3
   },
   "file_extension": ".py",
   "mimetype": "text/x-python",
   "name": "python",
   "nbconvert_exporter": "python",
   "pygments_lexer": "ipython3",
   "version": "3.7.4"
  }
 },
 "nbformat": 4,
 "nbformat_minor": 2
}
