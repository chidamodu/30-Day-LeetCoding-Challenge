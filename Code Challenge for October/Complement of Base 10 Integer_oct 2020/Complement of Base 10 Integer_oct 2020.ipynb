{
 "cells": [
  {
   "cell_type": "code",
   "execution_count": null,
   "metadata": {},
   "outputs": [],
   "source": [
    "Every non-negative integer N has a binary representation.  For example, 5 can be represented as \"101\" in binary, 11 \n",
    "as \"1011\" in binary, and so on.  Note that except for N = 0, there are no leading zeroes in any binary representation.\n",
    "\n",
    "The complement of a binary representation is the number in binary you get when changing every 1 to a 0 and 0 to a 1.  \n",
    "For example, the complement of \"101\" in binary is \"010\" in binary.\n",
    "\n",
    "For a given number N in base-10, return the complement of it's binary representation as a base-10 integer.\n",
    "\n",
    " \n",
    "Example 1:\n",
    "Input: 5\n",
    "Output: 2\n",
    "Explanation: 5 is \"101\" in binary, with complement \"010\" in binary, which is 2 in base-10.\n",
    "\n",
    "Example 2:\n",
    "Input: 7\n",
    "Output: 0\n",
    "Explanation: 7 is \"111\" in binary, with complement \"000\" in binary, which is 0 in base-10.\n",
    "\n",
    "Example 3:\n",
    "Input: 10\n",
    "Output: 5\n",
    "Explanation: 10 is \"1010\" in binary, with complement \"0101\" in binary, which is 5 in base-10.\n",
    " \n",
    "\n",
    "Note:\n",
    "0 <= N < 10^9\n",
    "This question is the same as 476: https://leetcode.com/problems/number-complement/\n",
    "\n",
    "Hint #1  \n",
    "A binary number plus its complement will equal 111....111 in binary. Also, N = 0 is a corner case."
   ]
  },
  {
   "cell_type": "code",
   "execution_count": 94,
   "metadata": {},
   "outputs": [],
   "source": [
    "Trial: this does not work for some test cases\n",
    "\n",
    "def bitwiseComplement(N):\n",
    "    d = {'0': '1', '1': '0'}\n",
    "    result=''.join(d[x] for x in bin(N)[2:])\n",
    "    answer=0\n",
    "    n=0\n",
    "    \n",
    "    for i in r[::-1]:\n",
    "        answer+=(2**n) * int(i)\n",
    "        \n",
    "        n+=1\n",
    "    \n",
    "    return answer\n",
    "        \n",
    "    "
   ]
  },
  {
   "cell_type": "code",
   "execution_count": 95,
   "metadata": {},
   "outputs": [
    {
     "data": {
      "text/plain": [
       "10"
      ]
     },
     "execution_count": 95,
     "metadata": {},
     "output_type": "execute_result"
    }
   ],
   "source": [
    "bitwiseComplement(7)"
   ]
  },
  {
   "cell_type": "code",
   "execution_count": 132,
   "metadata": {},
   "outputs": [],
   "source": [
    "Yay, my solution!\n",
    "\n",
    "def bitwiseComplement(N):\n",
    "    sum_val='1'*len(bin(N)[2:])\n",
    "    result1=int(sum_val)-int(bin(N)[2:])\n",
    "    n=0\n",
    "    result2=0\n",
    "\n",
    "    for i in str(result1)[::-1]:\n",
    "        result2+=(2**n) * int(i)\n",
    "        n+=1      \n",
    "    return result2\n",
    "    \n",
    "        \n",
    "result:\n",
    "Your runtime beats 93.05 % of python3 submissions.\n",
    "Runtime: 24 ms\n",
    "Memory Usage: 14.1 MB"
   ]
  },
  {
   "cell_type": "code",
   "execution_count": 133,
   "metadata": {},
   "outputs": [
    {
     "data": {
      "text/plain": [
       "5"
      ]
     },
     "execution_count": 133,
     "metadata": {},
     "output_type": "execute_result"
    }
   ],
   "source": [
    "bitwiseComplement(10)"
   ]
  },
  {
   "cell_type": "code",
   "execution_count": 136,
   "metadata": {},
   "outputs": [],
   "source": [
    "Alternative solution 1: understanding the pattern of the result, i.e., always ending in 1 i.e., when you sum the input and \n",
    "its complement you will always get binary form of the sum value represented in 1s.\n",
    "We are taking advantage of the simple equation: input + output = sum (represented in 1s). output is the solution of the\n",
    "problem.\n",
    "    \n",
    "def bitwiseComplement(N):\n",
    "    sum_val=1\n",
    "    \n",
    "    while N>sum_val:\n",
    "        sum_val=sum_val*2+1\n",
    "        print(sum_val)\n",
    "    \n",
    "    return sum_val-N\n",
    "\n",
    "result:\n",
    "Your runtime beats 93.05 % of python3 submissions.\n",
    "Runtime: 24 ms\n",
    "Memory Usage: 14.1 MB"
   ]
  },
  {
   "cell_type": "code",
   "execution_count": 137,
   "metadata": {},
   "outputs": [
    {
     "name": "stdout",
     "output_type": "stream",
     "text": [
      "3\n",
      "7\n",
      "15\n"
     ]
    },
    {
     "data": {
      "text/plain": [
       "5"
      ]
     },
     "execution_count": 137,
     "metadata": {},
     "output_type": "execute_result"
    }
   ],
   "source": [
    "bitwiseComplement(10)"
   ]
  },
  {
   "cell_type": "code",
   "execution_count": 138,
   "metadata": {},
   "outputs": [],
   "source": [
    "Alternative solution2: converting to binary and then transforming back to integer\n",
    "\n",
    "def bitwiseComplement(N):\n",
    "    N=bin(N)[2:]\n",
    "    result=\"\"\n",
    "    \n",
    "    for i in N:\n",
    "        if i==\"1\":\n",
    "            result+=\"0\"\n",
    "            \n",
    "        else:\n",
    "            result+=\"1\"\n",
    "    \n",
    "    \n",
    "    return int(result, 2)\n",
    "\n",
    "outcome:\n",
    "Your runtime beats 93.05 % of python3 submissions.\n",
    "Runtime: 24 ms\n",
    "Memory Usage: 14.2 MB"
   ]
  },
  {
   "cell_type": "code",
   "execution_count": 139,
   "metadata": {},
   "outputs": [
    {
     "data": {
      "text/plain": [
       "5"
      ]
     },
     "execution_count": 139,
     "metadata": {},
     "output_type": "execute_result"
    }
   ],
   "source": [
    "bitwiseComplement(10)"
   ]
  }
 ],
 "metadata": {
  "kernelspec": {
   "display_name": "Python 3",
   "language": "python",
   "name": "python3"
  },
  "language_info": {
   "codemirror_mode": {
    "name": "ipython",
    "version": 3
   },
   "file_extension": ".py",
   "mimetype": "text/x-python",
   "name": "python",
   "nbconvert_exporter": "python",
   "pygments_lexer": "ipython3",
   "version": "3.7.4"
  }
 },
 "nbformat": 4,
 "nbformat_minor": 2
}
