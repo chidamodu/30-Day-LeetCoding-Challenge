{
 "cells": [
  {
   "cell_type": "code",
   "execution_count": null,
   "metadata": {},
   "outputs": [],
   "source": [
    "Given a list of words, each word consists of English lowercase letters.\n",
    "\n",
    "Let's say word1 is a predecessor of word2 if and only if we can add exactly one letter anywhere in word1 to make it \n",
    "equal to word2. For example, \"abc\" is a predecessor of \"abac\".\n",
    "\n",
    "A word chain is a sequence of words [word_1, word_2, ..., word_k] with k >= 1, where word_1 is a predecessor of \n",
    "word_2, word_2 is a predecessor of word_3, and so on.\n",
    "\n",
    "Return the longest possible length of a word chain with words chosen from the given list of words.\n",
    "\n",
    "Example 1:\n",
    "Input: words = [\"a\",\"b\",\"ba\",\"bca\",\"bda\",\"bdca\"]\n",
    "Output: 4\n",
    "Explanation: One of the longest word chain is \"a\",\"ba\",\"bda\",\"bdca\".\n",
    "\n",
    "Example 2:\n",
    "Input: words = [\"xbc\",\"pcxbcf\",\"xb\",\"cxbc\",\"pcxbc\"]\n",
    "Output: 5\n",
    " \n",
    "Constraints:\n",
    "1 <= words.length <= 1000\n",
    "1 <= words[i].length <= 16\n",
    "words[i] only consists of English lowercase letters.\n",
    "\n",
    "Hint #1  \n",
    "Instead of adding a character, try deleting a character to form a chain in reverse.\n",
    "\n",
    "Hint #2  \n",
    "For each word in order of length, for each word2 which is word with one character removed, \n",
    "length[word2] = max(length[word2], length[word] + 1).\n"
   ]
  },
  {
   "cell_type": "code",
   "execution_count": 5,
   "metadata": {},
   "outputs": [],
   "source": [
    "def longestStrChain(words):\n",
    "    res=0\n",
    "    words=sorted(words, key=len)\n",
    "    d={}\n",
    "    for word in words:\n",
    "        d[word]=1\n",
    "        for i in range(len(word)):\n",
    "            next_word=word[:i] + word[(i+1):]\n",
    "            if next_word in d:\n",
    "                d[word]=max(d[word], d[next_word]+1)\n",
    "                \n",
    "        res=max(res, d[word])\n",
    "        \n",
    "    return res\n",
    "            \n"
   ]
  },
  {
   "cell_type": "code",
   "execution_count": 6,
   "metadata": {},
   "outputs": [
    {
     "data": {
      "text/plain": [
       "4"
      ]
     },
     "execution_count": 6,
     "metadata": {},
     "output_type": "execute_result"
    }
   ],
   "source": [
    "longestStrChain(words = [\"a\",\"b\",\"ba\",\"bca\",\"bda\",\"bdca\"])"
   ]
  },
  {
   "cell_type": "code",
   "execution_count": null,
   "metadata": {},
   "outputs": [],
   "source": [
    "Complexity Analysis\n",
    "\n",
    "Let N be the number of words in the list and L be the maximum possible length of a word.\n",
    "\n",
    "Time complexity: \n",
    "O(N⋅(logN+L^2)).\n",
    "\n",
    "Sorting a list of size takes O(NlogN) time. Next, we use two for loops in which the outer loop runs for \n",
    "O(N) iterations and the inner loop runs for O(L^2) iterations in the worst case scenario. The first L is for the \n",
    "inner loop and the second L is for creating each predecessor. Thus the overall time complexity is \n",
    "\n",
    "O(NlogN+(N⋅L^2)) which equals O(N⋅(logN+L^2)).\n",
    "\n",
    "Space complexity: \n",
    "O(N).\n",
    "\n",
    "We use a map to store the length of the longest sequence formed with each of the N words as the end word.\n",
    "\n"
   ]
  }
 ],
 "metadata": {
  "kernelspec": {
   "display_name": "Python 3",
   "language": "python",
   "name": "python3"
  },
  "language_info": {
   "codemirror_mode": {
    "name": "ipython",
    "version": 3
   },
   "file_extension": ".py",
   "mimetype": "text/x-python",
   "name": "python",
   "nbconvert_exporter": "python",
   "pygments_lexer": "ipython3",
   "version": "3.7.4"
  }
 },
 "nbformat": 4,
 "nbformat_minor": 2
}
