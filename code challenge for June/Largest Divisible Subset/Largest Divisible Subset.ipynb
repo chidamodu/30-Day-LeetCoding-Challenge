{
 "cells": [
  {
   "cell_type": "code",
   "execution_count": null,
   "metadata": {},
   "outputs": [],
   "source": [
    "Given a set of distinct positive integers, find the largest subset such that every pair (Si, Sj) of elements in this \n",
    "subset satisfies:\n",
    "\n",
    "Si % Sj = 0 or Sj % Si = 0.\n",
    "\n",
    "If there are multiple solutions, return any subset is fine.\n",
    "\n",
    "Example 1:\n",
    "Input: [1,2,3]\n",
    "Output: [1,2] (of course, [1,3] will also be ok)\n",
    "\n",
    "Example 2:\n",
    "Input: [1,2,4,8]\n",
    "Output: [1,2,4,8]"
   ]
  },
  {
   "cell_type": "code",
   "execution_count": 11,
   "metadata": {},
   "outputs": [],
   "source": [
    "def largestDivisibleSubset(nums):\n",
    "    answer=[]\n",
    "    if len(nums)==0:\n",
    "        return []\n",
    "    nums=sorted(nums)\n",
    "    result=[[n] for n in nums]\n",
    "        \n",
    "    for i in range(len(nums)):\n",
    "        for j in range(i):\n",
    "            if (nums[i]%nums[j]==0) and (len(result[i])<len(result[j])+1):\n",
    "                result[i]=result[j]+[nums[i]]\n",
    "                \n",
    "    return max(result, key=len)\n",
    "                \n",
    "    \n",
    "result:\n",
    "Your runtime beats 17.22 % of python3 submissions.\n",
    "Runtime: 640 ms\n",
    "Memory Usage: 13.9 MB"
   ]
  },
  {
   "cell_type": "code",
   "execution_count": 12,
   "metadata": {},
   "outputs": [
    {
     "data": {
      "text/plain": [
       "[1, 2, 4, 8]"
      ]
     },
     "execution_count": 12,
     "metadata": {},
     "output_type": "execute_result"
    }
   ],
   "source": [
    "largestDivisibleSubset([1,2,4,8])"
   ]
  },
  {
   "cell_type": "code",
   "execution_count": null,
   "metadata": {},
   "outputs": [],
   "source": []
  },
  {
   "cell_type": "code",
   "execution_count": 30,
   "metadata": {},
   "outputs": [],
   "source": [
    "def largestDivisibleSubset(nums):\n",
    "    answer=[]\n",
    "    if len(nums)==0:\n",
    "        return []\n",
    "    nums=sorted(nums)\n",
    "    result=[[n] for n in nums]\n",
    "    \n",
    "    for i in range(len(nums)):\n",
    "#         print(i)\n",
    "        for j in range(i):\n",
    "            if (nums[i]%nums[j]==0) and (len(result[i])<len(result[j])+1):\n",
    "                result[i]=result[j]+[nums[i]]\n",
    "            print(result)\n",
    "#             print(result[i], result[j])\n",
    "            \n",
    "    \n",
    "#     return result"
   ]
  },
  {
   "cell_type": "code",
   "execution_count": 31,
   "metadata": {},
   "outputs": [
    {
     "name": "stdout",
     "output_type": "stream",
     "text": [
      "[[1], [1, 2], [4], [8]]\n",
      "[[1], [1, 2], [1, 4], [8]]\n",
      "[[1], [1, 2], [1, 2, 4], [8]]\n",
      "[[1], [1, 2], [1, 2, 4], [1, 8]]\n",
      "[[1], [1, 2], [1, 2, 4], [1, 2, 8]]\n",
      "[[1], [1, 2], [1, 2, 4], [1, 2, 4, 8]]\n"
     ]
    }
   ],
   "source": [
    "largestDivisibleSubset([1,2,4,8])"
   ]
  },
  {
   "cell_type": "code",
   "execution_count": 16,
   "metadata": {},
   "outputs": [
    {
     "data": {
      "text/plain": [
       "[1, 1, 2, 3]"
      ]
     },
     "execution_count": 16,
     "metadata": {},
     "output_type": "execute_result"
    }
   ],
   "source": [
    "[1]+[1,2,3]"
   ]
  }
 ],
 "metadata": {
  "kernelspec": {
   "display_name": "Python 3",
   "language": "python",
   "name": "python3"
  },
  "language_info": {
   "codemirror_mode": {
    "name": "ipython",
    "version": 3
   },
   "file_extension": ".py",
   "mimetype": "text/x-python",
   "name": "python",
   "nbconvert_exporter": "python",
   "pygments_lexer": "ipython3",
   "version": "3.7.4"
  }
 },
 "nbformat": 4,
 "nbformat_minor": 2
}
