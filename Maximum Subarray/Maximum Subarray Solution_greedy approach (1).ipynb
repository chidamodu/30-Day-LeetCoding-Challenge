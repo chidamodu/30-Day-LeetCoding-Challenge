{
 "cells": [
  {
   "cell_type": "code",
   "execution_count": 33,
   "metadata": {},
   "outputs": [],
   "source": [
    "Given an integer array nums, find the contiguous subarray (containing at least one number) which has the largest \n",
    "sum and return its sum.\n",
    "\n",
    "Example:\n",
    "\n",
    "Input: [-2,1,-3,4,-1,2,1,-5,4],\n",
    "Output: 6\n",
    "Explanation: [4,-1,2,1] has the largest sum = 6.\n",
    "Follow up:\n",
    "\n",
    "If you have figured out the O(n) solution, try coding another solution using the divide and conquer approach, which is more subtle.\n",
    "def maxSubArray(nums):\n",
    "    curr_sum=nums[0]\n",
    "    max_sum=nums[0]\n",
    "    for i in range(1, len(nums)):\n",
    "        curr_sum=max(nums[i], curr_sum+nums[i])\n",
    "        max_sum=max(max_sum, curr_sum)\n",
    "        \n",
    "    return max_sum\n",
    "\n",
    "Your runtime beats 5.99 % of python3 submissions."
   ]
  },
  {
   "cell_type": "code",
   "execution_count": 34,
   "metadata": {},
   "outputs": [
    {
     "data": {
      "text/plain": [
       "6"
      ]
     },
     "execution_count": 34,
     "metadata": {},
     "output_type": "execute_result"
    }
   ],
   "source": [
    "maxSubArray([-2,1,-3,4,-1,2,1,-5,4])"
   ]
  },
  {
   "cell_type": "code",
   "execution_count": null,
   "metadata": {},
   "outputs": [],
   "source": [
    "Explanation:\n",
    "\n",
    "Approach: Greedy\n",
    "\n",
    "Intuition\n",
    "\n",
    "The problem to find maximum (or minimum) element (or sum) with a single array as the input is a good candidate to be solved by the greedy approach in linear time. One can find the examples of linear time greedy solutions in our articles of\n",
    "Super Washing Machines, and Gas Problem.\n",
    "\n",
    "Pick the locally optimal move at each step, and that will lead to the globally optimal solution.\n",
    "The algorithm is general and straightforward: iterate over the array and update at each step the standard set for such problems:\n",
    "\n",
    "current element\n",
    "\n",
    "current local maximum sum (at this given point)\n",
    "\n",
    "global maximum sum seen so far.\n"
   ]
  }
 ],
 "metadata": {
  "kernelspec": {
   "display_name": "Python 3",
   "language": "python",
   "name": "python3"
  },
  "language_info": {
   "codemirror_mode": {
    "name": "ipython",
    "version": 3
   },
   "file_extension": ".py",
   "mimetype": "text/x-python",
   "name": "python",
   "nbconvert_exporter": "python",
   "pygments_lexer": "ipython3",
   "version": "3.7.4"
  }
 },
 "nbformat": 4,
 "nbformat_minor": 2
}
