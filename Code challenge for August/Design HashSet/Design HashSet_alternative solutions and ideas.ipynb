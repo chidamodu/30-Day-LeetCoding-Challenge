{
 "cells": [
  {
   "cell_type": "code",
   "execution_count": null,
   "metadata": {},
   "outputs": [],
   "source": [
    "Design a HashSet without using any built-in hash table libraries.\n",
    "\n",
    "To be specific, your design should include these functions:\n",
    "\n",
    "add(value): Insert a value into the HashSet. \n",
    "contains(value) : Return whether the value exists in the HashSet or not.\n",
    "remove(value): Remove a value in the HashSet. If the value does not exist in the HashSet, do nothing.\n",
    "\n",
    "Example:\n",
    "MyHashSet hashSet = new MyHashSet();\n",
    "hashSet.add(1);         \n",
    "hashSet.add(2);         \n",
    "hashSet.contains(1);    // returns true\n",
    "hashSet.contains(3);    // returns false (not found)\n",
    "hashSet.add(2);          \n",
    "hashSet.contains(2);    // returns true\n",
    "hashSet.remove(2);          \n",
    "hashSet.contains(2);    // returns false (already removed)\n",
    "\n",
    "Note:\n",
    "All values will be in the range of [0, 1000000].\n",
    "The number of operations will be in the range of [1, 10000].\n",
    "Please do not use the built-in HashSet library.\n",
    "\n"
   ]
  },
  {
   "cell_type": "code",
   "execution_count": null,
   "metadata": {},
   "outputs": [],
   "source": [
    "class MyHashSet:\n",
    "    def __init__(self):\n",
    "        \"\"\"\n",
    "        Initialize your data structure here.\n",
    "        \"\"\"\n",
    "        self.val = [False] * (1000000-1)\n",
    "    \n",
    "\n",
    "    def add(self, key: int) -> None:\n",
    "        self.val[key] = True\n",
    "\n",
    "    def remove(self, key: int) -> None:\n",
    "        self.val[key] = False\n",
    "\n",
    "    def contains(self, key: int) -> bool:\n",
    "        return self.val[key]\n",
    "    \n",
    "\n",
    "result:\n",
    "Runtime: 300 ms\n",
    "Memory Usage: 40.2 MB\n",
    "Your runtime beats 43.08 % of python3 submissions."
   ]
  },
  {
   "cell_type": "code",
   "execution_count": 2,
   "metadata": {},
   "outputs": [],
   "source": [
    "a=[False] * (10)"
   ]
  },
  {
   "cell_type": "code",
   "execution_count": 3,
   "metadata": {},
   "outputs": [
    {
     "data": {
      "text/plain": [
       "[False, False, False, False, False, False, False, False, False, False]"
      ]
     },
     "execution_count": 3,
     "metadata": {},
     "output_type": "execute_result"
    }
   ],
   "source": [
    "a"
   ]
  },
  {
   "cell_type": "code",
   "execution_count": 5,
   "metadata": {},
   "outputs": [],
   "source": [
    "arr = [[] for _ in range(1<<15)]"
   ]
  },
  {
   "cell_type": "code",
   "execution_count": 6,
   "metadata": {},
   "outputs": [
    {
     "data": {
      "text/plain": [
       "32768"
      ]
     },
     "execution_count": 6,
     "metadata": {},
     "output_type": "execute_result"
    }
   ],
   "source": [
    "len(arr)"
   ]
  }
 ],
 "metadata": {
  "kernelspec": {
   "display_name": "Python 3",
   "language": "python",
   "name": "python3"
  },
  "language_info": {
   "codemirror_mode": {
    "name": "ipython",
    "version": 3
   },
   "file_extension": ".py",
   "mimetype": "text/x-python",
   "name": "python",
   "nbconvert_exporter": "python",
   "pygments_lexer": "ipython3",
   "version": "3.7.4"
  }
 },
 "nbformat": 4,
 "nbformat_minor": 2
}
