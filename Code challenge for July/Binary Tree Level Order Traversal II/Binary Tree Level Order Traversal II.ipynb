{
 "cells": [
  {
   "cell_type": "code",
   "execution_count": null,
   "metadata": {},
   "outputs": [],
   "source": [
    "Binary Tree Level Order Traversal II\n",
    "\n",
    "Given a binary tree, return the bottom-up level order traversal of its nodes values. \n",
    "(ie, from left to right, level by level from leaf to root).\n",
    "\n",
    "For example:\n",
    "Given binary tree [3,9,20,null,null,15,7],\n",
    "\n",
    "    3\n",
    "   / \\\n",
    "  9  20\n",
    "    /  \\\n",
    "   15   7\n",
    "return its bottom-up level order traversal as:\n",
    "\n",
    "[\n",
    "  [15,7],\n",
    "  [9,20],\n",
    "  [3]\n",
    "]"
   ]
  },
  {
   "cell_type": "code",
   "execution_count": null,
   "metadata": {},
   "outputs": [],
   "source": [
    "# Definition for a binary tree node.\n",
    "# class TreeNode:\n",
    "#     def __init__(self, val=0, left=None, right=None):\n",
    "#         self.val = val\n",
    "#         self.left = left\n",
    "#         self.right = right\n",
    "class Solution:\n",
    "    def levelOrderBottom(self, root: TreeNode) -> List[List[int]]:\n",
    "        if not root:\n",
    "            return []\n",
    "        queue = [root]\n",
    "        answer = [[root.val]]\n",
    "        while queue:\n",
    "            child = []\n",
    "            for node in queue:\n",
    "                if node.left:\n",
    "                    child.append(node.left)\n",
    "                if node.right:\n",
    "                    child.append(node.right)\n",
    "            if not child: #last level of tree.\n",
    "                break\n",
    "            queue = child #assigning this level to queue.\n",
    "            answer.append([node.val for node in queue])\n",
    "\n",
    "        return answer[::-1]\n",
    "        \n",
    "\n",
    "\n",
    "\n",
    "\n",
    "result:\n",
    "Your memory usage beats 61.92 % of python3 submissions.\n",
    "Runtime: 68 ms\n",
    "Memory Usage: 14.1 MB"
   ]
  }
 ],
 "metadata": {
  "kernelspec": {
   "display_name": "Python 3",
   "language": "python",
   "name": "python3"
  },
  "language_info": {
   "codemirror_mode": {
    "name": "ipython",
    "version": 3
   },
   "file_extension": ".py",
   "mimetype": "text/x-python",
   "name": "python",
   "nbconvert_exporter": "python",
   "pygments_lexer": "ipython3",
   "version": "3.7.4"
  }
 },
 "nbformat": 4,
 "nbformat_minor": 2
}
