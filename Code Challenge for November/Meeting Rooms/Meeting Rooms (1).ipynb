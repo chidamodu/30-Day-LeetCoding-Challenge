{
 "cells": [
  {
   "cell_type": "code",
   "execution_count": null,
   "metadata": {},
   "outputs": [],
   "source": [
    "Given an array of meeting time intervals consisting of start and end times[[s1,e1],[s2,e2],...](si< ei), determine \n",
    "if a person could attend all meetings.\n",
    "\n",
    "Example 1:\n",
    "Input:\n",
    "[[0,30],[5,10],[15,20]]\n",
    "Output: false\n",
    "\n",
    "Example 2:\n",
    "Input:[[7,10],[2,4]]\n",
    "Output:true\n"
   ]
  },
  {
   "cell_type": "code",
   "execution_count": 8,
   "metadata": {},
   "outputs": [
    {
     "data": {
      "text/plain": [
       "[[5, 10], [15, 20], [0, 30]]"
      ]
     },
     "execution_count": 8,
     "metadata": {},
     "output_type": "execute_result"
    }
   ],
   "source": [
    "Trial\n",
    "s=[[0,30],[5,10],[15,20]]\n",
    "sorted(s, key=lambda x:x[1])"
   ]
  },
  {
   "cell_type": "code",
   "execution_count": 16,
   "metadata": {},
   "outputs": [
    {
     "data": {
      "text/plain": [
       "[[0, 30], [5, 10], [15, 20]]"
      ]
     },
     "execution_count": 16,
     "metadata": {},
     "output_type": "execute_result"
    }
   ],
   "source": [
    "Trial\n",
    "s=[[0,30],[5,10],[15,20]]\n",
    "sorted(s)"
   ]
  },
  {
   "cell_type": "code",
   "execution_count": 11,
   "metadata": {},
   "outputs": [
    {
     "name": "stdout",
     "output_type": "stream",
     "text": [
      "False\n"
     ]
    }
   ],
   "source": [
    "The only issue is to set prev appropriately. Not a bad idea though. But at the same time not sure of all the test cases.\n",
    "\n",
    "\n",
    "s=[[0,30],[5,10],[15,20]]\n",
    "prev=0\n",
    "for i, j in sorted(s, key=lambda x:x[1]):\n",
    "    if i >= prev:\n",
    "        prev=i\n",
    "    else:\n",
    "        print(False)\n",
    "        \n",
    "\n",
    "        \n",
    "        \n",
    "    \n",
    "        \n",
    "   "
   ]
  },
  {
   "cell_type": "code",
   "execution_count": 29,
   "metadata": {},
   "outputs": [],
   "source": [
    "Yay, my solution rocks! This totally works!\n",
    "\n",
    "def canAttendMeetings(intervals):\n",
    "    prev=float('-inf')#can wisely set prev=float('-inf') and keep comparing\n",
    "    for i, j in sorted(intervals, key=lambda x:x[1]):\n",
    "        if i > prev:\n",
    "            prev=i\n",
    "        else:\n",
    "            return False\n",
    "        \n",
    "    return True\n",
    "        \n",
    "  "
   ]
  },
  {
   "cell_type": "code",
   "execution_count": 30,
   "metadata": {},
   "outputs": [
    {
     "data": {
      "text/plain": [
       "True"
      ]
     },
     "execution_count": 30,
     "metadata": {},
     "output_type": "execute_result"
    }
   ],
   "source": [
    "canAttendMeetings([[7,10],[2,4]])"
   ]
  },
  {
   "cell_type": "code",
   "execution_count": 4,
   "metadata": {},
   "outputs": [
    {
     "data": {
      "text/plain": [
       "[[2, 4], [7, 10]]"
      ]
     },
     "execution_count": 4,
     "metadata": {},
     "output_type": "execute_result"
    }
   ],
   "source": [
    "Trial\n",
    "s=[[7,10],[2,4]]\n",
    "sorted(s, key=lambda x:x[1])"
   ]
  },
  {
   "cell_type": "code",
   "execution_count": 23,
   "metadata": {},
   "outputs": [],
   "source": [
    "def canAttendMeetings(intervals):\n",
    "#     intervals.sort()\n",
    "    intervals=sorted(intervals)#can also do this\n",
    "    for i in range(1, len(intervals)):\n",
    "        if intervals[i][0] < intervals[i-1][1]:\n",
    "            return False\n",
    "    return True\n",
    "            \n",
    "    "
   ]
  },
  {
   "cell_type": "code",
   "execution_count": 24,
   "metadata": {},
   "outputs": [
    {
     "data": {
      "text/plain": [
       "False"
      ]
     },
     "execution_count": 24,
     "metadata": {},
     "output_type": "execute_result"
    }
   ],
   "source": [
    "canAttendMeetings([[0,30],[5,10],[15,20]])"
   ]
  },
  {
   "cell_type": "code",
   "execution_count": null,
   "metadata": {},
   "outputs": [],
   "source": [
    "class representation for the same problem and if you have start and end defined for the given intervals\n",
    "\n",
    "# Definition for an interval.\n",
    "# class Interval(object):\n",
    "#     def __init__(self, s=0, e=0):\n",
    "#         self.start = s\n",
    "#         self.end = e\n",
    "\n",
    "class Solution(object):\n",
    "    def canAttendMeetings(self, intervals):\n",
    "        \"\"\"\n",
    "        :type intervals: List[Interval]\n",
    "        :rtype: bool\n",
    "        \"\"\"\n",
    "        if not intervals: return True\n",
    "\n",
    "        intervals.sort(key=lambda x: x.start)\n",
    "\n",
    "        for i, interval in enumerate(intervals[1:]):\n",
    "            if interval.start < intervals[i].end:#here intervals[i] represents the previous element and intervals[i].end\n",
    "                #is equivalent to saying this: intervals[i-1][1]. and interval.start is same as intervals[i][0]\n",
    "                #and interval represents the current element \n",
    "                return False\n",
    "        return True\n",
    "    \n"
   ]
  }
 ],
 "metadata": {
  "kernelspec": {
   "display_name": "Python 3",
   "language": "python",
   "name": "python3"
  },
  "language_info": {
   "codemirror_mode": {
    "name": "ipython",
    "version": 3
   },
   "file_extension": ".py",
   "mimetype": "text/x-python",
   "name": "python",
   "nbconvert_exporter": "python",
   "pygments_lexer": "ipython3",
   "version": "3.7.4"
  }
 },
 "nbformat": 4,
 "nbformat_minor": 2
}
