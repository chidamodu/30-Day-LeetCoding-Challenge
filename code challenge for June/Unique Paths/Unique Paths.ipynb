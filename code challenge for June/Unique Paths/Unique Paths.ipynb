{
 "cells": [
  {
   "cell_type": "code",
   "execution_count": null,
   "metadata": {},
   "outputs": [],
   "source": [
    "A robot is located at the top-left corner of a m x n grid (marked 'Start' in the diagram below).\n",
    "\n",
    "The robot can only move either down or right at any point in time. The robot is trying to reach the bottom-right \n",
    "corner of the grid (marked 'Finish' in the diagram below).\n",
    "\n",
    "How many possible unique paths are there?\n",
    "\n",
    "Example 1:\n",
    "Input: m = 3, n = 2\n",
    "Output: 3    \n",
    "Explanation:\n",
    "From the top-left corner, there are a total of 3 ways to reach the bottom-right corner:\n",
    "1. Right -> Right -> Down\n",
    "2. Right -> Down -> Right\n",
    "3. Down -> Right -> Right\n",
    "\n",
    "\n",
    "Example 2:\n",
    "Input: m = 7, n = 3\n",
    "Output: 28\n",
    "    \n",
    "    \n",
    "Constraints:\n",
    "1 <= m, n <= 100\n",
    "It's guaranteed that the answer will be less than or equal to 2 * 10 ^ 9.\n"
   ]
  },
  {
   "cell_type": "code",
   "execution_count": null,
   "metadata": {},
   "outputs": [],
   "source": []
  },
  {
   "cell_type": "code",
   "execution_count": 47,
   "metadata": {},
   "outputs": [],
   "source": [
    "\n",
    "def uniquePaths(m, n):\n",
    "    from itertools import product    \n",
    "    dp=[[1 for _ in range(n)] for _ in range(m)]\n",
    "\n",
    "    for i,j in product(range(1,m), range(1,n)):\n",
    "        dp[i][j]=dp[i-1][j]+dp[i][j-1]\n",
    "    return dp[-1][-1]\n",
    "\n",
    "result:\n",
    "Your runtime beats 10.18 % of python3 submissions.\n",
    "Runtime: 48 ms\n",
    "Memory Usage: 14 MB"
   ]
  },
  {
   "cell_type": "code",
   "execution_count": 48,
   "metadata": {},
   "outputs": [
    {
     "data": {
      "text/plain": [
       "28"
      ]
     },
     "execution_count": 48,
     "metadata": {},
     "output_type": "execute_result"
    }
   ],
   "source": [
    "uniquePaths(7, 3)"
   ]
  }
 ],
 "metadata": {
  "kernelspec": {
   "display_name": "Python 3",
   "language": "python",
   "name": "python3"
  },
  "language_info": {
   "codemirror_mode": {
    "name": "ipython",
    "version": 3
   },
   "file_extension": ".py",
   "mimetype": "text/x-python",
   "name": "python",
   "nbconvert_exporter": "python",
   "pygments_lexer": "ipython3",
   "version": "3.7.4"
  }
 },
 "nbformat": 4,
 "nbformat_minor": 2
}
