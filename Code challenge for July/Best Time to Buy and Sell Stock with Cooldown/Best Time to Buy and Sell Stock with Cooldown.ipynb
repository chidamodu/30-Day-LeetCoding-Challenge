{
 "cells": [
  {
   "cell_type": "code",
   "execution_count": null,
   "metadata": {},
   "outputs": [],
   "source": [
    "\n",
    "\n",
    "Say you have an array for which the ith element is the price of a given stock on day i.\n",
    "\n",
    "Design an algorithm to find the maximum profit. You may complete as many transactions as you like\n",
    "(ie, buy one and sell one share of the stock multiple times) with the following restrictions:\n",
    "\n",
    "You may not engage in multiple transactions at the same time (ie, you must sell the stock before you buy again).\n",
    "After you sell your stock, you cannot buy stock on next day. (ie, cooldown 1 day)\n",
    "\n",
    "Example:\n",
    "Input: [1,2,3,0,2]\n",
    "Output: 3 \n",
    "\n",
    "Explanation: transactions = [buy, sell, cooldown, buy, sell]"
   ]
  },
  {
   "cell_type": "code",
   "execution_count": null,
   "metadata": {},
   "outputs": [],
   "source": [
    "\n",
    "class Solution:\n",
    "    def maxProfit(self, prices: List[int]) -> int:\n",
    "        n = len(prices)\n",
    "        if n <= 1:\n",
    "            return 0\n",
    "        \n",
    "        diff = [prices[i+1] - prices[i] for i in range(n-1)]\n",
    "        dp, dp_max = [0]*(n + 1), [0]*(n + 1)\n",
    "        \n",
    "        for i in range(n-1):\n",
    "            dp[i] = diff[i] + max(dp_max[i-3], dp[i-1])\n",
    "            dp_max[i] = max(dp_max[i-1], dp[i])\n",
    "            \n",
    "        return dp_max[-3]\n",
    "        \n",
    "\n",
    "result:\n",
    "Your runtime beats 30.12 % of python3 submissions.\n",
    "Runtime: 64 ms\n",
    "Memory Usage: 14 MB"
   ]
  }
 ],
 "metadata": {
  "kernelspec": {
   "display_name": "Python 3",
   "language": "python",
   "name": "python3"
  },
  "language_info": {
   "codemirror_mode": {
    "name": "ipython",
    "version": 3
   },
   "file_extension": ".py",
   "mimetype": "text/x-python",
   "name": "python",
   "nbconvert_exporter": "python",
   "pygments_lexer": "ipython3",
   "version": "3.7.4"
  }
 },
 "nbformat": 4,
 "nbformat_minor": 2
}
