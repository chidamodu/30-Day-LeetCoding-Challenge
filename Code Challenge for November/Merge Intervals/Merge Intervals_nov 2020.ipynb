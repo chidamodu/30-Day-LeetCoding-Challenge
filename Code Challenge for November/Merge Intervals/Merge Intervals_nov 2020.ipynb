{
 "cells": [
  {
   "cell_type": "code",
   "execution_count": null,
   "metadata": {},
   "outputs": [],
   "source": [
    "Given an array of intervals where intervals[i] = [starti, endi], merge all overlapping intervals, and return an array \n",
    "of the non-overlapping intervals that cover all the intervals in the input.\n",
    "\n",
    "\n",
    "Example 1:\n",
    "Input: intervals = [[1,3],[2,6],[8,10],[15,18]]\n",
    "Output: [[1,6],[8,10],[15,18]]\n",
    "Explanation: Since intervals [1,3] and [2,6] overlaps, merge them into [1,6].\n",
    "\n",
    "    \n",
    "Example 2:\n",
    "Input: intervals = [[1,4],[4,5]]\n",
    "Output: [[1,5]]\n",
    "Explanation: Intervals [1,4] and [4,5] are considered overlapping.\n",
    " \n",
    "\n",
    "Constraints:\n",
    "1 <= intervals.length <= 104\n",
    "intervals[i].length == 2\n",
    "0 <= starti <= endi <= 104\n"
   ]
  },
  {
   "cell_type": "code",
   "execution_count": 49,
   "metadata": {},
   "outputs": [],
   "source": [
    "# Trial - did not work!\n",
    "\n",
    "def merge(intervals):\n",
    "    result=[]\n",
    "    item=1\n",
    "    \n",
    "    intervals=sorted(intervals)\n",
    "    \n",
    "    while item<=len(intervals):\n",
    "        if (intervals[item][0]<=intervals[item-1][1]) and (intervals[item][1]>intervals[item-1][0]):\n",
    "            result.extend([intervals[item-1][0], intervals[item][1]])\n",
    "            \n",
    "        else:\n",
    "            result.extend([intervals[item-1], intervals[item]])\n",
    "        \n",
    "        item+=1\n",
    "            \n",
    " \n",
    "    return result"
   ]
  },
  {
   "cell_type": "code",
   "execution_count": 50,
   "metadata": {},
   "outputs": [
    {
     "ename": "IndexError",
     "evalue": "list index out of range",
     "output_type": "error",
     "traceback": [
      "\u001b[0;31m---------------------------------------------------------------------------\u001b[0m",
      "\u001b[0;31mIndexError\u001b[0m                                Traceback (most recent call last)",
      "\u001b[0;32m<ipython-input-50-8fbf1684a408>\u001b[0m in \u001b[0;36m<module>\u001b[0;34m\u001b[0m\n\u001b[0;32m----> 1\u001b[0;31m \u001b[0mmerge\u001b[0m\u001b[0;34m(\u001b[0m\u001b[0mintervals\u001b[0m \u001b[0;34m=\u001b[0m \u001b[0;34m[\u001b[0m\u001b[0;34m[\u001b[0m\u001b[0;36m1\u001b[0m\u001b[0;34m,\u001b[0m\u001b[0;36m3\u001b[0m\u001b[0;34m]\u001b[0m\u001b[0;34m,\u001b[0m\u001b[0;34m[\u001b[0m\u001b[0;36m2\u001b[0m\u001b[0;34m,\u001b[0m\u001b[0;36m6\u001b[0m\u001b[0;34m]\u001b[0m\u001b[0;34m,\u001b[0m\u001b[0;34m[\u001b[0m\u001b[0;36m8\u001b[0m\u001b[0;34m,\u001b[0m\u001b[0;36m10\u001b[0m\u001b[0;34m]\u001b[0m\u001b[0;34m,\u001b[0m\u001b[0;34m[\u001b[0m\u001b[0;36m15\u001b[0m\u001b[0;34m,\u001b[0m\u001b[0;36m18\u001b[0m\u001b[0;34m]\u001b[0m\u001b[0;34m]\u001b[0m\u001b[0;34m)\u001b[0m\u001b[0;34m\u001b[0m\u001b[0;34m\u001b[0m\u001b[0m\n\u001b[0m",
      "\u001b[0;32m<ipython-input-49-03e97461a5b9>\u001b[0m in \u001b[0;36mmerge\u001b[0;34m(intervals)\u001b[0m\n\u001b[1;32m      8\u001b[0m \u001b[0;34m\u001b[0m\u001b[0m\n\u001b[1;32m      9\u001b[0m     \u001b[0;32mwhile\u001b[0m \u001b[0mitem\u001b[0m\u001b[0;34m<=\u001b[0m\u001b[0mlen\u001b[0m\u001b[0;34m(\u001b[0m\u001b[0mintervals\u001b[0m\u001b[0;34m)\u001b[0m\u001b[0;34m:\u001b[0m\u001b[0;34m\u001b[0m\u001b[0;34m\u001b[0m\u001b[0m\n\u001b[0;32m---> 10\u001b[0;31m         \u001b[0;32mif\u001b[0m \u001b[0;34m(\u001b[0m\u001b[0mintervals\u001b[0m\u001b[0;34m[\u001b[0m\u001b[0mitem\u001b[0m\u001b[0;34m]\u001b[0m\u001b[0;34m[\u001b[0m\u001b[0;36m0\u001b[0m\u001b[0;34m]\u001b[0m\u001b[0;34m<=\u001b[0m\u001b[0mintervals\u001b[0m\u001b[0;34m[\u001b[0m\u001b[0mitem\u001b[0m\u001b[0;34m-\u001b[0m\u001b[0;36m1\u001b[0m\u001b[0;34m]\u001b[0m\u001b[0;34m[\u001b[0m\u001b[0;36m1\u001b[0m\u001b[0;34m]\u001b[0m\u001b[0;34m)\u001b[0m \u001b[0;32mand\u001b[0m \u001b[0;34m(\u001b[0m\u001b[0mintervals\u001b[0m\u001b[0;34m[\u001b[0m\u001b[0mitem\u001b[0m\u001b[0;34m]\u001b[0m\u001b[0;34m[\u001b[0m\u001b[0;36m1\u001b[0m\u001b[0;34m]\u001b[0m\u001b[0;34m>\u001b[0m\u001b[0mintervals\u001b[0m\u001b[0;34m[\u001b[0m\u001b[0mitem\u001b[0m\u001b[0;34m-\u001b[0m\u001b[0;36m1\u001b[0m\u001b[0;34m]\u001b[0m\u001b[0;34m[\u001b[0m\u001b[0;36m0\u001b[0m\u001b[0;34m]\u001b[0m\u001b[0;34m)\u001b[0m\u001b[0;34m:\u001b[0m\u001b[0;34m\u001b[0m\u001b[0;34m\u001b[0m\u001b[0m\n\u001b[0m\u001b[1;32m     11\u001b[0m             \u001b[0mresult\u001b[0m\u001b[0;34m.\u001b[0m\u001b[0mextend\u001b[0m\u001b[0;34m(\u001b[0m\u001b[0;34m[\u001b[0m\u001b[0mintervals\u001b[0m\u001b[0;34m[\u001b[0m\u001b[0mitem\u001b[0m\u001b[0;34m-\u001b[0m\u001b[0;36m1\u001b[0m\u001b[0;34m]\u001b[0m\u001b[0;34m[\u001b[0m\u001b[0;36m0\u001b[0m\u001b[0;34m]\u001b[0m\u001b[0;34m,\u001b[0m \u001b[0mintervals\u001b[0m\u001b[0;34m[\u001b[0m\u001b[0mitem\u001b[0m\u001b[0;34m]\u001b[0m\u001b[0;34m[\u001b[0m\u001b[0;36m1\u001b[0m\u001b[0;34m]\u001b[0m\u001b[0;34m]\u001b[0m\u001b[0;34m)\u001b[0m\u001b[0;34m\u001b[0m\u001b[0;34m\u001b[0m\u001b[0m\n\u001b[1;32m     12\u001b[0m \u001b[0;34m\u001b[0m\u001b[0m\n",
      "\u001b[0;31mIndexError\u001b[0m: list index out of range"
     ]
    }
   ],
   "source": [
    "merge(intervals = [[1,3],[2,6],[8,10],[15,18]])"
   ]
  },
  {
   "cell_type": "code",
   "execution_count": 13,
   "metadata": {},
   "outputs": [
    {
     "data": {
      "text/plain": [
       "[1, 3]"
      ]
     },
     "execution_count": 13,
     "metadata": {},
     "output_type": "execute_result"
    }
   ],
   "source": [
    "l=[[1,3],[2,6],[8,10],[15,18]]\n",
    "sorted(l)"
   ]
  },
  {
   "cell_type": "code",
   "execution_count": 45,
   "metadata": {},
   "outputs": [],
   "source": [
    "What is wrong in this?\n",
    "\n",
    "def merge(intervals):\n",
    "    item=1\n",
    "    \n",
    "    intervals=sorted(intervals)\n",
    "    \n",
    "    while item<=len(intervals):\n",
    "        if intervals[item][0] <= intervals[item-1][1]:\n",
    "            intervals[item-1][1]=max(intervals[item][1], intervals[item-1][1])\n",
    "            intervals.pop(item)\n",
    "#             print(intervals)\n",
    "            \n",
    "        else:\n",
    "            item+=1\n",
    "            \n",
    " \n",
    "    return intervals"
   ]
  },
  {
   "cell_type": "code",
   "execution_count": 43,
   "metadata": {},
   "outputs": [],
   "source": [
    "This solution here works!\n",
    "\n",
    "def merge(intervals):\n",
    "    intervals=sorted(intervals)\n",
    "    ind=1\n",
    "    while ind<len(intervals):\n",
    "        if intervals[ind][0]<=intervals[ind-1][1]:\n",
    "            intervals[ind-1][1]=max(intervals[ind][1], intervals[ind-1][1])\n",
    "            intervals.pop(ind)\n",
    "            \n",
    "        else:\n",
    "            ind+=1\n",
    "            \n",
    "    return intervals\n",
    "\n",
    "Complexity: time complexity is O(n log n) to sort intervals\n",
    "space complexity is O(1).\n",
    "    \n",
    "    "
   ]
  },
  {
   "cell_type": "code",
   "execution_count": 44,
   "metadata": {},
   "outputs": [
    {
     "data": {
      "text/plain": [
       "[[1, 6], [8, 10], [15, 18]]"
      ]
     },
     "execution_count": 44,
     "metadata": {},
     "output_type": "execute_result"
    }
   ],
   "source": [
    "merge(intervals = [[1,3],[2,6],[8,10],[15,18]])"
   ]
  },
  {
   "cell_type": "code",
   "execution_count": null,
   "metadata": {},
   "outputs": [],
   "source": [
    "Alternative solution:\n",
    "    \n",
    "class Solution:\n",
    "    def merge(self, intervals):\n",
    "        ans = []\n",
    "        \n",
    "        for beg, end in sorted(intervals):\n",
    "            if not ans or ans[-1][1] < beg:\n",
    "                ans += [[beg, end]]\n",
    "            else:\n",
    "                ans[-1][1] = max(ans[-1][1], end)\n",
    "\n",
    "        return ans\n",
    "    \n",
    "Complexity: time complexity is O(n log n) to sort intervals and \n",
    "space complexity is O(n) to keep sorted intervals and answer.\n",
    "    \n",
    "    "
   ]
  }
 ],
 "metadata": {
  "kernelspec": {
   "display_name": "Python 3",
   "language": "python",
   "name": "python3"
  },
  "language_info": {
   "codemirror_mode": {
    "name": "ipython",
    "version": 3
   },
   "file_extension": ".py",
   "mimetype": "text/x-python",
   "name": "python",
   "nbconvert_exporter": "python",
   "pygments_lexer": "ipython3",
   "version": "3.7.4"
  }
 },
 "nbformat": 4,
 "nbformat_minor": 2
}
