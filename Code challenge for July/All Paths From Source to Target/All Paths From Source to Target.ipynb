{
 "cells": [
  {
   "cell_type": "code",
   "execution_count": null,
   "metadata": {},
   "outputs": [],
   "source": [
    "Given a directed, acyclic graph of N nodes.  Find all possible paths from node 0 to node N-1, and return them in any \n",
    "order.\n",
    "\n",
    "The graph is given as follows:  the nodes are 0, 1, ..., graph.length - 1.  graph[i] is a list of all nodes j for \n",
    "    which the edge (i, j) exists.\n",
    "\n",
    "Example:\n",
    "Input: [[1,2], [3], [3], []] \n",
    "Output: [[0,1,3],[0,2,3]] \n",
    "Explanation: The graph looks like this:\n",
    "0--->1\n",
    "|    |\n",
    "v    v\n",
    "2--->3\n",
    "There are two paths: 0 -> 1 -> 3 and 0 -> 2 -> 3.\n",
    "\n",
    "Note:\n",
    "The number of nodes in the graph will be in the range [2, 15].\n",
    "You can print different paths in any order, but you should keep the order of nodes inside one path."
   ]
  },
  {
   "cell_type": "code",
   "execution_count": 3,
   "metadata": {},
   "outputs": [],
   "source": [
    "Using Breadth First Search\n",
    "\n",
    "def allPathsSourceTarget(graph):\n",
    "            g = [[0]]\n",
    "            result = []\n",
    "            target = len(graph) - 1\n",
    "            \n",
    "            while g:\n",
    "                temp = g.pop(0)\n",
    "                \n",
    "                if temp[-1] == target:\n",
    "                    result.append(temp)\n",
    "                else:\n",
    "                    for neighbor in graph[temp[-1]]:\n",
    "#                         print(neighbor)\n",
    "                        g.append(temp + [neighbor])\n",
    "                        print(g)\n",
    "            \n",
    "            return result\n",
    "        \n",
    "result:\n",
    "Your runtime beats 32.35 % of python3 submissions.\n",
    "Runtime: 136 ms\n",
    "Memory Usage: 15.3 MB"
   ]
  },
  {
   "cell_type": "code",
   "execution_count": 4,
   "metadata": {},
   "outputs": [
    {
     "name": "stdout",
     "output_type": "stream",
     "text": [
      "[[0, 1]]\n",
      "[[0, 1], [0, 2]]\n",
      "[[0, 2], [0, 1, 3]]\n",
      "[[0, 1, 3], [0, 2, 3]]\n"
     ]
    },
    {
     "data": {
      "text/plain": [
       "[[0, 1, 3], [0, 2, 3]]"
      ]
     },
     "execution_count": 4,
     "metadata": {},
     "output_type": "execute_result"
    }
   ],
   "source": [
    "allPathsSourceTarget([[1,2], [3], [3], []])"
   ]
  }
 ],
 "metadata": {
  "kernelspec": {
   "display_name": "Python 3",
   "language": "python",
   "name": "python3"
  },
  "language_info": {
   "codemirror_mode": {
    "name": "ipython",
    "version": 3
   },
   "file_extension": ".py",
   "mimetype": "text/x-python",
   "name": "python",
   "nbconvert_exporter": "python",
   "pygments_lexer": "ipython3",
   "version": "3.7.4"
  }
 },
 "nbformat": 4,
 "nbformat_minor": 2
}
