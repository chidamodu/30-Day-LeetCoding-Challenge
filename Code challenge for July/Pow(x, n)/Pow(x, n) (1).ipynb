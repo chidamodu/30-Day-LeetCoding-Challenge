{
 "cells": [
  {
   "cell_type": "code",
   "execution_count": null,
   "metadata": {},
   "outputs": [],
   "source": [
    "Implement pow(x, n), which calculates x raised to the power n (xn).\n",
    "\n",
    "Example 1:\n",
    "Input: 2.00000, 10\n",
    "Output: 1024.00000\n",
    "\n",
    "Example 2:\n",
    "Input: 2.10000, 3\n",
    "Output: 9.26100\n",
    "\n",
    "Example 3:\n",
    "Input: 2.00000, -2\n",
    "Output: 0.25000\n",
    "Explanation: 2-2 = 1/22 = 1/4 = 0.25\n",
    "\n",
    "Note:\n",
    "-100.0 < x < 100.0\n",
    "n is a 32-bit signed integer, within the range [−2^31, 2^31 − 1]"
   ]
  },
  {
   "cell_type": "code",
   "execution_count": null,
   "metadata": {},
   "outputs": [],
   "source": [
    "class Solution:\n",
    "    def myPow(self, x: float, n: int) -> float:\n",
    "        if abs(x) < 1e-40: return 0 \n",
    "        if n == 0: return 1\n",
    "        if n < 0: return self.myPow(1/x, -n)\n",
    "        lower = self.myPow(x, n//2)\n",
    "        if n % 2 == 0: return lower*lower\n",
    "        if n % 2 == 1: return lower*lower*x\n",
    "            \n",
    "        \n",
    "\n",
    "Your runtime beats 94.21 % of python3 submissions.\n",
    "Runtime: 24 ms\n",
    "Memory Usage: 14 MB"
   ]
  },
  {
   "cell_type": "code",
   "execution_count": null,
   "metadata": {},
   "outputs": [],
   "source": [
    "The main idea of solution is to use as much multiplications as possible, for example how can we evaluate x^20? We can \n",
    "just multiply x in loop 20 times, but we also can evaluate x^10 and multiply it by itself! Similarly, \n",
    "x^10 = x^5 * x^5. Now we have odd power, but it is not a problem, we evaluate x^5 = x^2 * x^2 * x. \n",
    "We also need to deal with some border cases, here is the full algorithm:\n",
    "\n",
    "If we have very small value of x we can directly return 0, the smallest value of float is 1.175494 × 10^(-38).\n",
    "If we have n = 0, return 1.\n",
    "If we have negative power, return positive power of 1/x.\n",
    "Now, we have two cases: for even and for odd n, where we evaluate power n//2.\n",
    "\n",
    "Complexity: time complexity is O(log n), space complexity for this recursive algorithm is also O(log n), which can be \n",
    "reduced to O(1), if we use iterative approach instead."
   ]
  }
 ],
 "metadata": {
  "kernelspec": {
   "display_name": "Python 3",
   "language": "python",
   "name": "python3"
  },
  "language_info": {
   "codemirror_mode": {
    "name": "ipython",
    "version": 3
   },
   "file_extension": ".py",
   "mimetype": "text/x-python",
   "name": "python",
   "nbconvert_exporter": "python",
   "pygments_lexer": "ipython3",
   "version": "3.7.4"
  }
 },
 "nbformat": 4,
 "nbformat_minor": 2
}
