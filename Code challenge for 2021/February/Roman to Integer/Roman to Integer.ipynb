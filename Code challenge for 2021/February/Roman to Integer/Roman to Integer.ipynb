{
 "cells": [
  {
   "cell_type": "code",
   "execution_count": null,
   "metadata": {},
   "outputs": [],
   "source": [
    "Roman numerals are represented by seven different symbols: I, V, X, L, C, D and M.\n",
    "\n",
    "Symbol       Value\n",
    "I             1\n",
    "V             5\n",
    "X             10\n",
    "L             50\n",
    "C             100\n",
    "D             500\n",
    "M             1000\n",
    "For example, 2 is written as II in Roman numeral, just two one's added together. 12 is written as XII, which is \n",
    "simply X + II. The number 27 is written as XXVII, which is XX + V + II.\n",
    "\n",
    "Roman numerals are usually written largest to smallest from left to right. However, the numeral for four is not IIII. \n",
    "Instead, the number four is written as IV. Because the one is before the five we subtract it making four. The same \n",
    "principle applies to the number nine, which is written as IX. There are six instances where subtraction is used:\n",
    "\n",
    "I can be placed before V (5) and X (10) to make 4 and 9. \n",
    "X can be placed before L (50) and C (100) to make 40 and 90. \n",
    "C can be placed before D (500) and M (1000) to make 400 and 900.\n",
    "\n",
    "Given a roman numeral, convert it to an integer.\n",
    "\n",
    "Example 1:\n",
    "Input: s = \"III\"\n",
    "Output: 3\n",
    "\n",
    "Example 2:\n",
    "Input: s = \"IV\"\n",
    "Output: 4\n",
    "\n",
    "Example 3:\n",
    "Input: s = \"IX\"\n",
    "Output: 9\n",
    "\n",
    "Example 4:\n",
    "Input: s = \"LVIII\"\n",
    "Output: 58\n",
    "Explanation: L = 50, V= 5, III = 3.\n",
    "\n",
    "Example 5:\n",
    "Input: s = \"MCMXCIV\"\n",
    "Output: 1994\n",
    "Explanation: M = 1000, CM = 900, XC = 90 and IV = 4.\n",
    " \n",
    "Constraints:\n",
    "1 <= s.length <= 15\n",
    "s contains only the characters ('I', 'V', 'X', 'L', 'C', 'D', 'M').\n",
    "It is guaranteed that s is a valid roman numeral in the range [1, 3999].\n",
    "\n",
    "Hint #1  \n",
    "Problem is simpler to solve by working the string from back to front and using a map.\n"
   ]
  },
  {
   "cell_type": "code",
   "execution_count": 40,
   "metadata": {},
   "outputs": [],
   "source": [
    "Trial but did not work. My logic was right but execution was not accurate. The goal is to compare the previous number \n",
    "to the next number and not to the result. That is where this solution went wrong.\n",
    "\n",
    "def romanToInt(s):\n",
    "    d={'I':1,'V':5, 'X':10, 'L':50, 'C':100, 'D':500, 'M':1000}\n",
    "    \n",
    "    i=len(s)-1\n",
    "    result=0\n",
    "    \n",
    "#     for i in range(len(s)-1, -1, -1):\n",
    "#         print(s[i])\n",
    "        \n",
    "    while i>=0:\n",
    "        if d[s[i]]<result:\n",
    "            result-=d[s[i]]\n",
    "        \n",
    "        result+=d[s[i]]\n",
    "        i-=1\n",
    "        \n",
    "    return result\n",
    "        \n",
    "        "
   ]
  },
  {
   "cell_type": "code",
   "execution_count": 41,
   "metadata": {},
   "outputs": [
    {
     "data": {
      "text/plain": [
       "2"
      ]
     },
     "execution_count": 41,
     "metadata": {},
     "output_type": "execute_result"
    }
   ],
   "source": [
    "romanToInt(s = \"III\")"
   ]
  },
  {
   "cell_type": "code",
   "execution_count": 48,
   "metadata": {},
   "outputs": [],
   "source": [
    "Final submission\n",
    "\n",
    "def romanToInt(s):\n",
    "    d={'I':1,'V':5, 'X':10, 'L':50, 'C':100, 'D':500, 'M':1000}\n",
    "    \n",
    "    n=len(s)\n",
    "    result=0\n",
    "\n",
    "    for i in range(n):\n",
    "        if i+1<n and d[s[i+1]]>d[s[i]]:\n",
    "            result-=d[s[i]]\n",
    "        else:\n",
    "            result+=d[s[i]]\n",
    "     \n",
    "    return result\n",
    "        \n",
    "        "
   ]
  },
  {
   "cell_type": "code",
   "execution_count": 49,
   "metadata": {},
   "outputs": [
    {
     "data": {
      "text/plain": [
       "9"
      ]
     },
     "execution_count": 49,
     "metadata": {},
     "output_type": "execute_result"
    }
   ],
   "source": [
    "romanToInt(s = \"IX\")"
   ]
  },
  {
   "cell_type": "markdown",
   "metadata": {},
   "source": [
    "Intuitive\n",
    "\n",
    "Roman numerals are usually written largest to smallest from left to right, for example: XII (7), XXVII (27), \n",
    "III (3)...\n",
    "\n",
    "If a small value is placed before a bigger value then it is a combine number, for exampe: IV (4), IX (9), XIV (14)...\n",
    "\n",
    "---------------------------------------------------------------------------------------------------------------------\n",
    "Complexity\n",
    "\n",
    "Time: O(N), where N <= 15 is the length of string s\n",
    "Space: O(1)"
   ]
  }
 ],
 "metadata": {
  "kernelspec": {
   "display_name": "Python 3",
   "language": "python",
   "name": "python3"
  },
  "language_info": {
   "codemirror_mode": {
    "name": "ipython",
    "version": 3
   },
   "file_extension": ".py",
   "mimetype": "text/x-python",
   "name": "python",
   "nbconvert_exporter": "python",
   "pygments_lexer": "ipython3",
   "version": "3.7.4"
  }
 },
 "nbformat": 4,
 "nbformat_minor": 2
}
