{
 "cells": [
  {
   "cell_type": "code",
   "execution_count": null,
   "metadata": {},
   "outputs": [],
   "source": [
    "You are given a list of songs where the ith song has a duration of time[i] seconds.\n",
    "\n",
    "Return the number of pairs of songs for which their total duration in seconds is divisible by 60. Formally, we want \n",
    "the number of indices i, j such that i < j with (time[i] + time[j]) % 60 == 0.\n",
    "\n",
    "Example 1:\n",
    "Input: time = [30,20,150,100,40]\n",
    "Output: 3\n",
    "Explanation: Three pairs have a total duration divisible by 60:\n",
    "(time[0] = 30, time[2] = 150): total duration 180\n",
    "(time[1] = 20, time[3] = 100): total duration 120\n",
    "(time[1] = 20, time[4] = 40): total duration 60\n",
    "\n",
    "Example 2:\n",
    "Input: time = [60,60,60]\n",
    "Output: 3\n",
    "Explanation: All three pairs have a total duration of 120, which is divisible by 60.\n",
    " \n",
    "Constraints:\n",
    "1 <= time.length <= 6 * 104\n",
    "1 <= time[i] <= 500\n",
    "\n",
    "Hint #1  \n",
    "We only need to consider each song length modulo 60.\n",
    "\n",
    "Hint #2  \n",
    "We can count the number of songs with (length % 60) equal to r, and store that in an array of size 60.\n"
   ]
  },
  {
   "cell_type": "code",
   "execution_count": 17,
   "metadata": {},
   "outputs": [],
   "source": [
    "Trial:1 but did not work\n",
    "\n",
    "def numPairsDivisibleBy60(time):\n",
    "    arr=[]\n",
    "    val=0\n",
    "    \n",
    "    for i in range(len(time)):\n",
    "        arr.append(time[i]%60)\n",
    "        \n",
    "    if len(set(arr))==1:\n",
    "        return len(time)\n",
    "        \n",
    "    for item in range(len(arr)):\n",
    "        next_item=item+1\n",
    "        while next_item <= len(arr)-1:\n",
    "            if arr[item]+arr[next_item]==60:\n",
    "                val+=1\n",
    "            next_item+=1\n",
    "          \n",
    "        \n",
    "    return val\n",
    "\n",
    "\n",
    "\n",
    "received wrong answer:\n",
    "Input:\n",
    "[336,24,100,342,274,11,43,22,416,138,384,386,70,265,59,253,344,435,400,296,192,143,311,424,315,63,420,254,493,431,\n",
    " 32,394,178,51,378,335,265,92,335,325,25,355,258,298,390,399,393,114,149,62,299,471,286,204,163,214,15,272,315,212,\n",
    " 272,437,339,193,125,394,62,188,154,150,109,294,228,200,459,42,469,132,37,460,143,1,144,127,398,82,370,464,14,85,321,\n",
    " 358,205,14,264,289,183,93,56,126,413,140,441,446,445,378,258,119,385,226,8,93,476,265,115,86,360,92,396,407,458,58,\n",
    " 65,397,381,32,228,37,319,220,73,328,162,458,231,219,481,387,423,256,252,36,309,395,471,4,225,146,188,182,347,82,21,\n",
    " 292,91,144,387,263,206,452,197,192,324,257,370,28,440,180,294]\n",
    "\n",
    "Output:\n",
    "242\n",
    "\n",
    "Expected:\n",
    "245"
   ]
  },
  {
   "cell_type": "code",
   "execution_count": 18,
   "metadata": {},
   "outputs": [
    {
     "data": {
      "text/plain": [
       "3"
      ]
     },
     "execution_count": 18,
     "metadata": {},
     "output_type": "execute_result"
    }
   ],
   "source": [
    "numPairsDivisibleBy60(time = [30,20,150,100,40])"
   ]
  },
  {
   "cell_type": "code",
   "execution_count": 33,
   "metadata": {},
   "outputs": [],
   "source": [
    "Trial:2 did not work for all cases\n",
    "\n",
    "def numPairsDivisibleBy60(time):\n",
    "    arr=[]\n",
    "    val=0\n",
    "    \n",
    "    for i in range(len(time)):\n",
    "        if time[i]%60 == 0:\n",
    "            val+=1\n",
    "        else:\n",
    "            arr.append(time[i]%60)\n",
    "        \n",
    "    if arr:\n",
    "        for item in range(len(arr)):\n",
    "            next_item=item+1\n",
    "            while next_item <= len(arr)-1:\n",
    "                if (arr[item]+arr[next_item]==60) and (item<next_item):\n",
    "                    val+=1\n",
    "                next_item+=1\n",
    "          \n",
    "        \n",
    "    return val"
   ]
  },
  {
   "cell_type": "code",
   "execution_count": 34,
   "metadata": {},
   "outputs": [
    {
     "data": {
      "text/plain": [
       "2"
      ]
     },
     "execution_count": 34,
     "metadata": {},
     "output_type": "execute_result"
    }
   ],
   "source": [
    "numPairsDivisibleBy60(time = [418,204,77,278,239,457,284,263,372,279,476,416,360,18])"
   ]
  },
  {
   "cell_type": "code",
   "execution_count": 50,
   "metadata": {},
   "outputs": [],
   "source": [
    "# Final submission solution\n",
    "\n",
    "def numPairsDivisibleBy60(time):\n",
    "        val = [0] * 60\n",
    "        result = 0\n",
    "        for t in time:\n",
    "            t %= 60\n",
    "            result += val[(60-t) % 60]\n",
    "            val[t] += 1\n",
    "        return result\n",
    "        "
   ]
  },
  {
   "cell_type": "code",
   "execution_count": 51,
   "metadata": {},
   "outputs": [
    {
     "data": {
      "text/plain": [
       "1"
      ]
     },
     "execution_count": 51,
     "metadata": {},
     "output_type": "execute_result"
    }
   ],
   "source": [
    "numPairsDivisibleBy60(time = [418,204,77,278,239,457,284,263,372,279,476,416,360,18])"
   ]
  }
 ],
 "metadata": {
  "kernelspec": {
   "display_name": "Python 3",
   "language": "python",
   "name": "python3"
  },
  "language_info": {
   "codemirror_mode": {
    "name": "ipython",
    "version": 3
   },
   "file_extension": ".py",
   "mimetype": "text/x-python",
   "name": "python",
   "nbconvert_exporter": "python",
   "pygments_lexer": "ipython3",
   "version": "3.7.4"
  }
 },
 "nbformat": 4,
 "nbformat_minor": 2
}
