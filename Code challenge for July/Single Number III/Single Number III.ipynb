{
 "cells": [
  {
   "cell_type": "code",
   "execution_count": null,
   "metadata": {},
   "outputs": [],
   "source": [
    "Given an array of numbers nums, in which exactly two elements appear only once and all the other elements appear \n",
    "exactly twice. Find the two elements that appear only once.\n",
    "\n",
    "Example:\n",
    "\n",
    "Input:  [1,2,1,3,2,5]\n",
    "Output: [3,5]\n",
    "\n",
    "Note:\n",
    "The order of the result is not important. So in the above example, [5, 3] is also correct.\n",
    "Your algorithm should run in linear runtime complexity. Could you implement it using only constant space complexity?"
   ]
  },
  {
   "cell_type": "code",
   "execution_count": 1,
   "metadata": {},
   "outputs": [],
   "source": [
    "def singleNumber(nums):\n",
    "    d={}\n",
    "    result=[]\n",
    "    for i in nums:\n",
    "        d[i]=d.get(i, 0)+1\n",
    "    for k, v in d.items():\n",
    "        if v==1:\n",
    "            result.append(k)\n",
    "            \n",
    "    return result\n",
    "\n",
    "result:\n",
    "Your runtime beats 80.28 % of python3 submissions.\n",
    "Runtime: 60 ms\n",
    "Memory Usage: 15.3 MB\n",
    "    "
   ]
  },
  {
   "cell_type": "code",
   "execution_count": 2,
   "metadata": {},
   "outputs": [
    {
     "data": {
      "text/plain": [
       "[3, 5]"
      ]
     },
     "execution_count": 2,
     "metadata": {},
     "output_type": "execute_result"
    }
   ],
   "source": [
    "singleNumber([1,2,1,3,2,5])"
   ]
  },
  {
   "cell_type": "code",
   "execution_count": 11,
   "metadata": {},
   "outputs": [],
   "source": [
    "def singleNumber(nums):\n",
    "    from functools import reduce\n",
    "    from operator import xor\n",
    "    s = reduce(xor, nums)\n",
    "    last_bit = s & (s-1) ^ s\n",
    "    num1 = reduce(xor, filter(lambda x: x & last_bit, nums))\n",
    "    return(num1, s ^ num1)\n",
    "\n",
    "\n",
    "\n",
    "\n",
    "\n",
    "# result:\n",
    "# Your runtime beats 91.53 % of python3 submissions.\n",
    "# Runtime: 56 ms\n",
    "# Memory Usage: 15.3 MB"
   ]
  },
  {
   "cell_type": "code",
   "execution_count": 12,
   "metadata": {},
   "outputs": [
    {
     "data": {
      "text/plain": [
       "(3, 5)"
      ]
     },
     "execution_count": 12,
     "metadata": {},
     "output_type": "execute_result"
    }
   ],
   "source": [
    "singleNumber([1,2,1,3,2,5])"
   ]
  }
 ],
 "metadata": {
  "kernelspec": {
   "display_name": "Python 3",
   "language": "python",
   "name": "python3"
  },
  "language_info": {
   "codemirror_mode": {
    "name": "ipython",
    "version": 3
   },
   "file_extension": ".py",
   "mimetype": "text/x-python",
   "name": "python",
   "nbconvert_exporter": "python",
   "pygments_lexer": "ipython3",
   "version": "3.7.4"
  }
 },
 "nbformat": 4,
 "nbformat_minor": 2
}
