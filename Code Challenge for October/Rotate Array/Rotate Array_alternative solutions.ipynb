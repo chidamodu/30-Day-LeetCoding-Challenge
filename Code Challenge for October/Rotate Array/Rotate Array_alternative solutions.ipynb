{
 "cells": [
  {
   "cell_type": "code",
   "execution_count": null,
   "metadata": {},
   "outputs": [],
   "source": [
    "Given an array, rotate the array to the right by k steps, where k is non-negative.\n",
    "\n",
    "Follow up:\n",
    "\n",
    "Try to come up as many solutions as you can, there are at least 3 different ways to solve this problem.\n",
    "Could you do it in-place with O(1) extra space?\n",
    " \n",
    "\n",
    "Example 1:\n",
    "Input: nums = [1,2,3,4,5,6,7], k = 3\n",
    "Output: [5,6,7,1,2,3,4]\n",
    "Explanation:\n",
    "rotate 1 steps to the right: [7,1,2,3,4,5,6]\n",
    "rotate 2 steps to the right: [6,7,1,2,3,4,5]\n",
    "rotate 3 steps to the right: [5,6,7,1,2,3,4]\n",
    "\n",
    "Example 2:\n",
    "Input: nums = [-1,-100,3,99], k = 2\n",
    "Output: [3,99,-1,-100]\n",
    "Explanation: \n",
    "rotate 1 steps to the right: [99,-1,-100,3]\n",
    "rotate 2 steps to the right: [3,99,-1,-100]\n",
    " \n",
    "\n",
    "Constraints:\n",
    "1 <= nums.length <= 2 * 104\n",
    "-231 <= nums[i] <= 231 - 1\n",
    "0 <= k <= 105\n",
    "\n",
    "Hint #1  \n",
    "The easiest solution would use additional memory and that is perfectly fine.\n",
    "\n",
    "Hint #2  \n",
    "The actual trick comes when trying to solve this problem without using any additional memory. This means you need to \n",
    "use the original array somehow to move the elements around. Now, we can place each element in its original location \n",
    "and shift all the elements around it to adjust as that would be too costly and most likely will time out on larger \n",
    "input arrays.\n",
    "\n",
    "Hint #3  \n",
    "One line of thought is based on reversing the array (or parts of it) to obtain the desired result. Think about how \n",
    "reversal might potentially help us out by using an example.\n",
    "\n",
    "Hint #4  \n",
    "The other line of thought is a tad bit complicated but essentially it builds on the idea of placing each element in \n",
    "its original position while keeping track of the element originally in that position. Basically, at every step, we \n",
    "place an element in its rightful position and keep track of the element already there or the one being overwritten in \n",
    "an additional variable. We can't do this in one linear pass and the idea here is based on cyclic-dependencies between \n",
    "elements.\n"
   ]
  },
  {
   "cell_type": "code",
   "execution_count": null,
   "metadata": {},
   "outputs": [],
   "source": [
    "Approach 1: Brute Force\n",
    "\n",
    "The simplest approach is to rotate all the elements of the array in k steps by rotating the elements by 1 unit in \n",
    "each step."
   ]
  },
  {
   "cell_type": "code",
   "execution_count": 1,
   "metadata": {},
   "outputs": [],
   "source": [
    "def rotate(nums, k):\n",
    "    for i in range(k):\n",
    "        previous=nums[-1]\n",
    "        for j in range(len(nums)):\n",
    "            previous, nums[j]=nums[j], previous\n",
    "            \n",
    "    return nums"
   ]
  },
  {
   "cell_type": "code",
   "execution_count": 2,
   "metadata": {},
   "outputs": [
    {
     "data": {
      "text/plain": [
       "[3, 99, -1, -100]"
      ]
     },
     "execution_count": 2,
     "metadata": {},
     "output_type": "execute_result"
    }
   ],
   "source": [
    "rotate(nums = [-1,-100,3,99], k = 2)"
   ]
  },
  {
   "cell_type": "code",
   "execution_count": null,
   "metadata": {},
   "outputs": [],
   "source": [
    "Complexity Analysis\n",
    "\n",
    "Time complexity: O(n×k). All the numbers are shifted by one step(O(n)) k times.\n",
    "\n",
    "Space complexity: O(1). No extra space is used."
   ]
  },
  {
   "cell_type": "code",
   "execution_count": null,
   "metadata": {},
   "outputs": [],
   "source": [
    "------------------------------------------------------------------------------------------------------------------------"
   ]
  },
  {
   "cell_type": "code",
   "execution_count": null,
   "metadata": {},
   "outputs": [],
   "source": [
    "Approach 2: Using Extra Array\n",
    "\n",
    "Algorithm\n",
    "\n",
    "We use an extra array in which we place every element of the array at its correct position i.e. the number at index \n",
    "i in the original array is placed at the index (i+k)% length of array. Then, we copy the new array to the \n",
    "original one.\n"
   ]
  },
  {
   "cell_type": "code",
   "execution_count": 3,
   "metadata": {},
   "outputs": [],
   "source": [
    "def rotate(nums, k):\n",
    "    k%=len(nums) #logically it is only necessary to do k%=len(nums) number of rotations\n",
    "    \n",
    "    a=[0]*len(nums)\n",
    "    \n",
    "    for i in range(len(nums)):\n",
    "        a[(i+k)%len(nums)]=nums[i]\n",
    "        \n",
    "    nums[:]=a\n",
    "    \n",
    "    return nums\n",
    "    \n",
    "    \n"
   ]
  },
  {
   "cell_type": "code",
   "execution_count": 4,
   "metadata": {},
   "outputs": [
    {
     "data": {
      "text/plain": [
       "[3, 99, -1, -100]"
      ]
     },
     "execution_count": 4,
     "metadata": {},
     "output_type": "execute_result"
    }
   ],
   "source": [
    "rotate(nums = [-1,-100,3,99], k = 2)"
   ]
  },
  {
   "cell_type": "code",
   "execution_count": null,
   "metadata": {},
   "outputs": [],
   "source": [
    "Complexity Analysis\n",
    "\n",
    "Time complexity: \n",
    "O(n). One pass is used to put the numbers in the new array. And another pass to copy the new array to the original one.\n",
    "\n",
    "Space complexity: \n",
    "O(n). Another array of the same size is used."
   ]
  },
  {
   "cell_type": "code",
   "execution_count": null,
   "metadata": {},
   "outputs": [],
   "source": [
    "------------------------------------------------------------------------------------------------------------------------"
   ]
  },
  {
   "cell_type": "code",
   "execution_count": null,
   "metadata": {},
   "outputs": [],
   "source": [
    "For now passing on Approach 3: Using Cyclic Replacements.\n",
    "Will cover it later"
   ]
  },
  {
   "cell_type": "code",
   "execution_count": null,
   "metadata": {},
   "outputs": [],
   "source": [
    "------------------------------------------------------------------------------------------------------------------------"
   ]
  },
  {
   "cell_type": "code",
   "execution_count": null,
   "metadata": {},
   "outputs": [],
   "source": [
    "Approach 4: Using Reverse\n",
    "\n",
    "Algorithm\n",
    "\n",
    "This approach is based on the fact that when we rotate the array k times, k elements from the back end of the array \n",
    "come to the front and the rest of the elements from the front shift backwards.\n",
    "\n",
    "In this approach, we firstly reverse all the elements of the array. Then, reversing the first k elements followed by \n",
    "reversing the rest n−k elements gives us the required result.\n",
    "\n",
    "Let n=7 and k=3.\n",
    "\n",
    "Original List                   : 1 2 3 4 5 6 7\n",
    "After reversing all numbers     : 7 6 5 4 3 2 1\n",
    "After reversing first k numbers : 5 6 7 4 3 2 1\n",
    "After revering last n-k numbers : 5 6 7 1 2 3 4 --> Result\n",
    "    \n",
    "    "
   ]
  },
  {
   "cell_type": "code",
   "execution_count": 15,
   "metadata": {},
   "outputs": [],
   "source": [
    "class Solution:\n",
    "    def reverse(self, nums, start, end):\n",
    "        while start<end:\n",
    "            nums[start], nums[end]=nums[end], nums[start]\n",
    "            start, end=start+1, end-1\n",
    "        \n",
    "        \n",
    "    def rotate(self, nums, k):\n",
    "        n=len(nums)\n",
    "        k%=n        \n",
    "        self.reverse(nums, 0, n-1)\n",
    "        self.reverse(nums, 0, k-1)#because we are starting with 0\n",
    "        self.reverse(nums, k, n-1)        \n",
    "        return nums\n",
    "        \n",
    "        \n",
    "        "
   ]
  },
  {
   "cell_type": "code",
   "execution_count": 16,
   "metadata": {},
   "outputs": [],
   "source": [
    "s=Solution()"
   ]
  },
  {
   "cell_type": "code",
   "execution_count": 17,
   "metadata": {},
   "outputs": [
    {
     "data": {
      "text/plain": [
       "[5, 6, 7, 1, 2, 3, 4]"
      ]
     },
     "execution_count": 17,
     "metadata": {},
     "output_type": "execute_result"
    }
   ],
   "source": [
    "s.rotate(nums = [1,2,3,4,5,6,7], k = 3)"
   ]
  },
  {
   "cell_type": "code",
   "execution_count": null,
   "metadata": {},
   "outputs": [],
   "source": [
    "Complexity Analysis\n",
    "\n",
    "Time complexity: O(n). \n",
    "n elements are reversed a total of three times.\n",
    "\n",
    "Space complexity: \n",
    "O(1). No extra space is used."
   ]
  }
 ],
 "metadata": {
  "kernelspec": {
   "display_name": "Python 3",
   "language": "python",
   "name": "python3"
  },
  "language_info": {
   "codemirror_mode": {
    "name": "ipython",
    "version": 3
   },
   "file_extension": ".py",
   "mimetype": "text/x-python",
   "name": "python",
   "nbconvert_exporter": "python",
   "pygments_lexer": "ipython3",
   "version": "3.7.4"
  }
 },
 "nbformat": 4,
 "nbformat_minor": 2
}
