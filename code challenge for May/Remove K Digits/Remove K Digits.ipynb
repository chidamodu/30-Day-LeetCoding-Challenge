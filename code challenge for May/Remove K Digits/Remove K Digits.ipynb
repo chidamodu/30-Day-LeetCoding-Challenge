{
 "cells": [
  {
   "cell_type": "code",
   "execution_count": null,
   "metadata": {},
   "outputs": [],
   "source": [
    "def removeKdigits(num, k):\n",
    "    min_val=10001\n",
    "    "
   ]
  },
  {
   "cell_type": "code",
   "execution_count": null,
   "metadata": {},
   "outputs": [],
   "source": []
  },
  {
   "cell_type": "code",
   "execution_count": 5,
   "metadata": {},
   "outputs": [],
   "source": [
    "# num = \"1432219\", k = 3\n",
    "\n"
   ]
  },
  {
   "cell_type": "code",
   "execution_count": 27,
   "metadata": {},
   "outputs": [
    {
     "name": "stdout",
     "output_type": "stream",
     "text": [
      "1219\n"
     ]
    }
   ],
   "source": [
    "num = \"1432219\"\n",
    "k=3\n",
    "min_val=10001\n",
    "\n",
    "for i in range(len(num)):\n",
    "    if len(num[i:i+k])>=k:\n",
    "        min_val=min(min_val, int(num.replace(num[i:i+k], '')))\n",
    "        \n",
    "print(min_val)\n",
    "#     d[i]=num[k:]\n",
    "   \n",
    "    \n",
    "    \n",
    "# while num[k:]:\n",
    "#     num=num[k:]\n",
    "#     print(num)"
   ]
  },
  {
   "cell_type": "code",
   "execution_count": 49,
   "metadata": {},
   "outputs": [
    {
     "name": "stdout",
     "output_type": "stream",
     "text": [
      "200\n"
     ]
    }
   ],
   "source": [
    "num = \"10200\"\n",
    "k = 1\n",
    "\n",
    "min_val=10001\n",
    "for i in range(len(num)):\n",
    "    if len(num[i:i+k])>=k:\n",
    "#         print(num[i:i+k])\n",
    "        num=num.replace(num[i:i+k], '')\n",
    "        if num.lstrip('0')=='':\n",
    "            continue\n",
    "        else:\n",
    "#             print(num.lstrip('0'))\n",
    "            min_val=min(min_val, int(num.lstrip('0')))\n",
    "    \n",
    "    \n",
    "print(min_val)\n",
    "            \n",
    "\n",
    "        \n",
    "#         min_val=min(min_val, int(num.lstrip('0')))\n",
    "        \n",
    "# print(min_val)"
   ]
  },
  {
   "cell_type": "code",
   "execution_count": 50,
   "metadata": {},
   "outputs": [
    {
     "name": "stdout",
     "output_type": "stream",
     "text": [
      "10001\n"
     ]
    }
   ],
   "source": [
    "num = \"10\"\n",
    "k = 2\n",
    "min_val=10001\n",
    "for i in range(len(num)):\n",
    "    if len(num[i:i+k])>=k:\n",
    "#         print(num[i:i+k])\n",
    "        num=num.replace(num[i:i+k], '')\n",
    "        if num.lstrip('0')=='':\n",
    "            continue\n",
    "        else:\n",
    "#             print(num.lstrip('0'))\n",
    "            min_val=min(min_val, int(num.lstrip('0')))\n",
    "    \n",
    "print(min_val)"
   ]
  },
  {
   "cell_type": "code",
   "execution_count": 141,
   "metadata": {},
   "outputs": [],
   "source": [
    "def removeKdigits(num, k):\n",
    "    min_val=10001\n",
    "    for i in range(k):\n",
    "        if len(num.replace(num[i:i+k], '0'))>=k:\n",
    "            new_num=num.replace(num[i:i+k], '0')\n",
    "            print(new_num)\n",
    "\n",
    "#             if new_num.lstrip('0')=='':\n",
    "#                 continue\n",
    "#             else:\n",
    "#                 min_val=min(min_val, int(new_num.lstrip('0')))\n",
    "                \n",
    "    \n",
    "                            \n",
    "                \n",
    "#     return min_val if min_val != 10001 else 0\n",
    "        "
   ]
  },
  {
   "cell_type": "code",
   "execution_count": 142,
   "metadata": {},
   "outputs": [
    {
     "name": "stdout",
     "output_type": "stream",
     "text": [
      "10\n"
     ]
    }
   ],
   "source": [
    "removeKdigits(\"10\", 2)"
   ]
  },
  {
   "cell_type": "code",
   "execution_count": 134,
   "metadata": {},
   "outputs": [
    {
     "data": {
      "text/plain": [
       "'10'"
      ]
     },
     "execution_count": 134,
     "metadata": {},
     "output_type": "execute_result"
    }
   ],
   "source": [
    "s=\"10\"\n",
    "s[0:2]"
   ]
  },
  {
   "cell_type": "code",
   "execution_count": null,
   "metadata": {},
   "outputs": [],
   "source": []
  }
 ],
 "metadata": {
  "kernelspec": {
   "display_name": "Python 3",
   "language": "python",
   "name": "python3"
  },
  "language_info": {
   "codemirror_mode": {
    "name": "ipython",
    "version": 3
   },
   "file_extension": ".py",
   "mimetype": "text/x-python",
   "name": "python",
   "nbconvert_exporter": "python",
   "pygments_lexer": "ipython3",
   "version": "3.7.4"
  }
 },
 "nbformat": 4,
 "nbformat_minor": 2
}
