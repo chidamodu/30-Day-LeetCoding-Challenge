{
 "cells": [
  {
   "cell_type": "code",
   "execution_count": null,
   "metadata": {},
   "outputs": [],
   "source": [
    "You are given an array of distinct integers arr and an array of integer arrays pieces, where the integers in pieces \n",
    "are distinct. Your goal is to form arr by concatenating the arrays in pieces in any order. However, you are not \n",
    "allowed to reorder the integers in each array pieces[i].\n",
    "\n",
    "Return true if it is possible to form the array arr from pieces. Otherwise, return false.\n",
    "\n",
    "Example 1:\n",
    "Input: arr = [85], pieces = [[85]]\n",
    "Output: true\n",
    "\n",
    "Example 2:\n",
    "Input: arr = [15,88], pieces = [[88],[15]]\n",
    "Output: true\n",
    "Explanation: Concatenate [15] then [88]\n",
    "\n",
    "Example 3:\n",
    "Input: arr = [49,18,16], pieces = [[16,18,49]]\n",
    "Output: false\n",
    "Explanation: Even though the numbers match, we cannot reorder pieces[0].\n",
    "\n",
    "Example 4:\n",
    "Input: arr = [91,4,64,78], pieces = [[78],[4,64],[91]]\n",
    "Output: true\n",
    "Explanation: Concatenate [91] then [4,64] then [78]\n",
    "\n",
    "Example 5:\n",
    "Input: arr = [1,3,5,7], pieces = [[2,4,6,8]]\n",
    "Output: false\n",
    " \n",
    "\n",
    "Constraints:\n",
    "1 <= pieces.length <= arr.length <= 100\n",
    "sum(pieces[i].length) == arr.length\n",
    "1 <= pieces[i].length <= arr.length\n",
    "1 <= arr[i], pieces[i][j] <= 100\n",
    "The integers in arr are distinct.\n",
    "The integers in pieces are distinct (i.e., If we flatten pieces in a 1D array, all the integers in this array are \n",
    "                                     distinct).\n",
    "Hint #1  \n",
    "Note that the distinct part means that every position in the array belongs to only one piece\n",
    "\n",
    "Hint #2  \n",
    "Note that you can get the piece every position belongs to naively\n"
   ]
  },
  {
   "cell_type": "code",
   "execution_count": null,
   "metadata": {},
   "outputs": [],
   "source": [
    "Inspiring Pythonic (Alternative) solutions: using hash table\n",
    "\n",
    "class Solution:\n",
    "    def canFormArray(self, arr, pieces):\n",
    "        d = {x[0]: x for x in pieces}\n",
    "        return list(chain(*[d.get(num, []) for num in arr])) == arr\n",
    "    \n",
    "    \n",
    "Complexity: time and space complexity is O(n)"
   ]
  }
 ],
 "metadata": {
  "kernelspec": {
   "display_name": "Python 3",
   "language": "python",
   "name": "python3"
  },
  "language_info": {
   "codemirror_mode": {
    "name": "ipython",
    "version": 3
   },
   "file_extension": ".py",
   "mimetype": "text/x-python",
   "name": "python",
   "nbconvert_exporter": "python",
   "pygments_lexer": "ipython3",
   "version": "3.7.4"
  }
 },
 "nbformat": 4,
 "nbformat_minor": 2
}
