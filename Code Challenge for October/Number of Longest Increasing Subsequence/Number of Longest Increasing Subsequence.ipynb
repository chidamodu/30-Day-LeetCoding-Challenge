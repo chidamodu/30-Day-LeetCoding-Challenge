{
 "cells": [
  {
   "cell_type": "code",
   "execution_count": null,
   "metadata": {},
   "outputs": [],
   "source": [
    "Given an integer array nums, return the number of longest increasing subsequences.\n",
    "\n",
    "Example 1:\n",
    "Input: nums = [1,3,5,4,7]\n",
    "Output: 2\n",
    "Explanation: The two longest increasing subsequences are [1, 3, 4, 7] and [1, 3, 5, 7].\n",
    "\n",
    "Example 2:\n",
    "Input: nums = [2,2,2,2,2]\n",
    "Output: 5\n",
    "Explanation: The length of longest continuous increasing subsequence is 1, and there are 5 subsequences' length is 1, \n",
    "so output 5.\n",
    "\n",
    "Constraints:\n",
    "0 <= nums.length <= 2000\n",
    "-106 <= nums[i] <= 106"
   ]
  },
  {
   "cell_type": "code",
   "execution_count": 33,
   "metadata": {},
   "outputs": [],
   "source": [
    "But this did not work - this is not accurate\n",
    "\n",
    "\n",
    "def findNumberOfLIS(nums):\n",
    "    \n",
    "    dp=[1]*len(nums)\n",
    "    dp[0]=1\n",
    "\n",
    "\n",
    "    for i in range(1, len(nums)):\n",
    "        dp[i]=1\n",
    "        for j in range(0, i):\n",
    "            if (nums[i]>nums[j]) and dp[i]<=dp[j]:\n",
    "                dp[i]=dp[j]+1\n",
    "                \n",
    "           \n",
    "    return dp\n",
    "            \n",
    "        \n",
    "    "
   ]
  },
  {
   "cell_type": "code",
   "execution_count": 34,
   "metadata": {},
   "outputs": [
    {
     "data": {
      "text/plain": [
       "[1, 2, 3, 3, 4]"
      ]
     },
     "execution_count": 34,
     "metadata": {},
     "output_type": "execute_result"
    }
   ],
   "source": [
    "findNumberOfLIS(nums = [1,3,5,4,7])"
   ]
  },
  {
   "cell_type": "code",
   "execution_count": null,
   "metadata": {},
   "outputs": [],
   "source": [
    "DP concept- final submission\n",
    "\n",
    "class Solution:\n",
    "    def findNumberOfLIS(self, nums: List[int]) -> int:\n",
    "        N = len(nums)\n",
    "        if N <= 1: return N\n",
    "        lengths = [0] * N \n",
    "        counts = [1] * N \n",
    "\n",
    "        for j, num in enumerate(nums):\n",
    "            for i in range(j):\n",
    "                if nums[i] < nums[j]:\n",
    "                    if lengths[i] >= lengths[j]:\n",
    "                        lengths[j] = 1 + lengths[i]\n",
    "                        counts[j] = counts[i]\n",
    "                    elif lengths[i] + 1 == lengths[j]:\n",
    "                        counts[j] += counts[i]\n",
    "\n",
    "        longest = max(lengths)\n",
    "        return sum(c for i, c in enumerate(counts) if lengths[i] == longest)\n",
    "    \n",
    "\n"
   ]
  }
 ],
 "metadata": {
  "kernelspec": {
   "display_name": "Python 3",
   "language": "python",
   "name": "python3"
  },
  "language_info": {
   "codemirror_mode": {
    "name": "ipython",
    "version": 3
   },
   "file_extension": ".py",
   "mimetype": "text/x-python",
   "name": "python",
   "nbconvert_exporter": "python",
   "pygments_lexer": "ipython3",
   "version": "3.7.4"
  }
 },
 "nbformat": 4,
 "nbformat_minor": 2
}
