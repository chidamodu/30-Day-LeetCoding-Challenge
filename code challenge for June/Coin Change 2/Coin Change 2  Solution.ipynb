{
 "cells": [
  {
   "cell_type": "code",
   "execution_count": null,
   "metadata": {},
   "outputs": [],
   "source": [
    "You are given coins of different denominations and a total amount of money. Write a function to compute the number of \n",
    "combinations that make up that amount. You may assume that you have infinite number of each kind of coin.\n",
    "\n",
    " \n",
    "Example 1:\n",
    "\n",
    "Input: amount = 5, coins = [1, 2, 5]\n",
    "\n",
    "Output: 4\n",
    "\n",
    "Explanation: there are four ways to make up the amount:\n",
    "5=5\n",
    "5=2+2+1\n",
    "5=2+1+1+1\n",
    "5=1+1+1+1+1\n",
    "\n",
    "Example 2:\n",
    "\n",
    "Input: amount = 3, coins = [2]\n",
    "\n",
    "Output: 0\n",
    "\n",
    "Explanation: the amount of 3 cannot be made up just with coins of 2.\n",
    "\n",
    "Example 3:\n",
    "\n",
    "Input: amount = 10, coins = [10] \n",
    "\n",
    "Output: 1\n",
    " \n",
    "Note:\n",
    "You can assume that\n",
    "0 <= amount <= 5000\n",
    "1 <= coin <= 5000\n",
    "the number of coins is less than 500\n",
    "the answer is guaranteed to fit into signed 32-bit integer"
   ]
  },
  {
   "cell_type": "code",
   "execution_count": null,
   "metadata": {},
   "outputs": [],
   "source": [
    "Leetcode submission\n",
    "\n",
    "class Solution:\n",
    "    def change(self, amount: int, coins: List[int]) -> int:\n",
    "        dp=[0]*(amount+1)\n",
    "        dp[0]=1\n",
    "        \n",
    "        for c in coins:\n",
    "            for x in range(c, amount+1):\n",
    "                dp[x]+=dp[x-c]\n",
    "                \n",
    "        return dp[amount]\n",
    "\n",
    "result:\n",
    "Your runtime beats 99.63 % of python3 submissions.\n",
    "Runtime: 124 ms\n",
    "Memory Usage: 14 MB"
   ]
  },
  {
   "cell_type": "code",
   "execution_count": 1,
   "metadata": {},
   "outputs": [],
   "source": [
    "\n",
    "def change(amount,coins):\n",
    "    dp=[0]*(amount+1)\n",
    "    dp[0]=1\n",
    "        \n",
    "    for c in coins:\n",
    "        for x in range(c, amount+1):\n",
    "            dp[x]+=dp[x-c]\n",
    "                \n",
    "    return dp[amount]\n",
    "        "
   ]
  },
  {
   "cell_type": "code",
   "execution_count": 2,
   "metadata": {},
   "outputs": [
    {
     "data": {
      "text/plain": [
       "4"
      ]
     },
     "execution_count": 2,
     "metadata": {},
     "output_type": "execute_result"
    }
   ],
   "source": [
    "change(5, coins = [1, 2, 5])"
   ]
  }
 ],
 "metadata": {
  "kernelspec": {
   "display_name": "Python 3",
   "language": "python",
   "name": "python3"
  },
  "language_info": {
   "codemirror_mode": {
    "name": "ipython",
    "version": 3
   },
   "file_extension": ".py",
   "mimetype": "text/x-python",
   "name": "python",
   "nbconvert_exporter": "python",
   "pygments_lexer": "ipython3",
   "version": "3.7.4"
  }
 },
 "nbformat": 4,
 "nbformat_minor": 2
}
