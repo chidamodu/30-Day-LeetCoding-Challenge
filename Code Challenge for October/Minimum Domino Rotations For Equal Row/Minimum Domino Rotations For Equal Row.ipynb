{
 "cells": [
  {
   "cell_type": "code",
   "execution_count": null,
   "metadata": {},
   "outputs": [],
   "source": [
    "In a row of dominoes, A[i] and B[i] represent the top and bottom halves of the ith domino.\n",
    "(A domino is a tile with two numbers from 1 to 6 - one on each half of the tile.)\n",
    "\n",
    "We may rotate the ith domino, so that A[i] and B[i] swap values.\n",
    "\n",
    "Return the minimum number of rotations so that all the values in A are the same, or all the values in B are the same.\n",
    "\n",
    "If it cannot be done, return -1.\n",
    "\n",
    "\n",
    "Example 1:\n",
    "Input: A = [2,1,2,4,2,2], B = [5,2,6,2,3,2]\n",
    "Output: 2\n",
    "Explanation: \n",
    "The first figure represents the dominoes as given by A and B: before we do any rotations.\n",
    "If we rotate the second and fourth dominoes, we can make every value in the top row equal to 2, as indicated by the second figure.\n",
    "\n",
    "Example 2:\n",
    "Input: A = [3,5,1,2,3], B = [3,6,3,3,4]\n",
    "Output: -1\n",
    "Explanation: \n",
    "In this case, it is not possible to rotate the dominoes to make one row of values equal.\n",
    " \n",
    "\n",
    "Constraints:\n",
    "2 <= A.length == B.length <= 2 * 104\n",
    "1 <= A[i], B[i] <= 6"
   ]
  },
  {
   "cell_type": "code",
   "execution_count": 68,
   "metadata": {},
   "outputs": [],
   "source": [
    "Trial _ did not work but happy i tried\n",
    "\n",
    "from collections import Counter\n",
    "def minDominoRotations(A, B):\n",
    "    if A==B:\n",
    "        return 0\n",
    "    \n",
    "    d_a=Counter(A)\n",
    "    d_b=Counter(B)\n",
    "    common=list(set(A).intersection(B))[0]\n",
    "    print(common)\n",
    "    \n",
    "    min_swap=0\n",
    "    \n",
    "    if d_a[common]>d_b[common]:\n",
    "        result=A\n",
    "        non_result=B\n",
    "    else:\n",
    "        result=B\n",
    "        non_result=A\n",
    "        \n",
    "    print(result, non_result)\n",
    "        \n",
    "        \n",
    "    for i in range(len(result)):\n",
    "        if result[i]!=common:\n",
    "            if non_result[i]==common:\n",
    "                    result[i]=non_result[i]\n",
    "                    min_swap+=1\n",
    "                    \n",
    "            else:\n",
    "                return -1\n",
    "\n",
    "    return min_swap\n",
    "    "
   ]
  },
  {
   "cell_type": "code",
   "execution_count": 69,
   "metadata": {},
   "outputs": [
    {
     "name": "stdout",
     "output_type": "stream",
     "text": [
      "1\n",
      "[1, 2, 1, 1, 1, 2, 2, 2] [2, 1, 2, 2, 2, 2, 2, 2]\n"
     ]
    },
    {
     "data": {
      "text/plain": [
       "-1"
      ]
     },
     "execution_count": 69,
     "metadata": {},
     "output_type": "execute_result"
    }
   ],
   "source": [
    "minDominoRotations([1,2,1,1,1,2,2,2], [2,1,2,2,2,2,2,2])"
   ]
  },
  {
   "cell_type": "code",
   "execution_count": 34,
   "metadata": {},
   "outputs": [
    {
     "data": {
      "text/plain": [
       "{3}"
      ]
     },
     "execution_count": 34,
     "metadata": {},
     "output_type": "execute_result"
    }
   ],
   "source": [
    "A={3, 4}\n",
    "B={3, 5}\n",
    "A.intersection(B)"
   ]
  },
  {
   "cell_type": "code",
   "execution_count": 76,
   "metadata": {},
   "outputs": [],
   "source": [
    "solution 1\n",
    "\n",
    "def minDominoRotations(A, B):\n",
    "    if len(A)<=1 or len(B)<=1:\n",
    "        return 0\n",
    "    \n",
    "    def helper_count(target, A, B):\n",
    "        c=0\n",
    "        for i in range(len(A)):\n",
    "            if target==A[i]:\n",
    "                continue\n",
    "            else:\n",
    "                if target==B[i]:\n",
    "                    c+=1\n",
    "                else:\n",
    "                    c=float('inf')\n",
    "                    break;\n",
    "                    \n",
    "        return c\n",
    "    \n",
    "    result=min(helper_count(A[0], A, B), helper_count(A[0], B, A), helper_count(B[0], A, B), helper_count(B[0], B, A))\n",
    "    \n",
    "    print(helper_count(A[0], A, B), helper_count(A[0], B, A), helper_count(B[0], A, B), helper_count(B[0], B, A))\n",
    "    \n",
    "    return result if result != float(\"inf\") else -1\n",
    "        \n",
    "    \n",
    "outcome:\n",
    "Your runtime beats 88.14 % of python3 submissions.\n",
    "Runtime: 1084 ms\n",
    "Memory Usage: 14.8 MB"
   ]
  },
  {
   "cell_type": "code",
   "execution_count": 77,
   "metadata": {},
   "outputs": [
    {
     "name": "stdout",
     "output_type": "stream",
     "text": [
      "2 3 inf inf\n"
     ]
    },
    {
     "data": {
      "text/plain": [
       "2"
      ]
     },
     "execution_count": 77,
     "metadata": {},
     "output_type": "execute_result"
    }
   ],
   "source": [
    "minDominoRotations(A = [2,1,2,4,2,2], B = [5,2,6,2,3,2])"
   ]
  },
  {
   "cell_type": "code",
   "execution_count": 81,
   "metadata": {},
   "outputs": [],
   "source": [
    "def minDominoRotations(A, B):\n",
    "    s, n = set([1,2,3,4,5,6]), len(A)\n",
    "    \n",
    "    for i in range(n): \n",
    "        s &= set([A[i], B[i]])\n",
    "        print(s)\n",
    "        \n",
    "        "
   ]
  },
  {
   "cell_type": "code",
   "execution_count": 82,
   "metadata": {},
   "outputs": [
    {
     "name": "stdout",
     "output_type": "stream",
     "text": [
      "{2, 5}\n",
      "{2}\n",
      "{2}\n",
      "{2}\n",
      "{2}\n",
      "{2}\n"
     ]
    }
   ],
   "source": [
    "minDominoRotations(A = [2,1,2,4,2,2], B = [5,2,6,2,3,2])"
   ]
  },
  {
   "cell_type": "code",
   "execution_count": 86,
   "metadata": {},
   "outputs": [
    {
     "name": "stdout",
     "output_type": "stream",
     "text": [
      "{2, 5}\n"
     ]
    }
   ],
   "source": [
    "s=set([1,2,3,4,5,6])\n",
    "s = s & {2, 5}\n",
    "print(s)"
   ]
  },
  {
   "cell_type": "code",
   "execution_count": 87,
   "metadata": {},
   "outputs": [
    {
     "data": {
      "text/plain": [
       "{2}"
      ]
     },
     "execution_count": 87,
     "metadata": {},
     "output_type": "execute_result"
    }
   ],
   "source": [
    "{2, 5}&{1, 2}"
   ]
  },
  {
   "cell_type": "code",
   "execution_count": 111,
   "metadata": {},
   "outputs": [],
   "source": [
    "solution 2 Brilliant alternative! \n",
    "\n",
    "def minDominoRotations(A, B):\n",
    "    s, n = set([1,2,3,4,5,6]), len(A)\n",
    "    \n",
    "    for i in range(n): \n",
    "        s &= set([A[i], B[i]])#this works great even when there could be more than one common elements between A and B. That's what s&= does. Brilliant!\n",
    "        print(s)\n",
    "    \n",
    "    if not s: return -1#there are no common elements between A and B. in that case no swapping happens\n",
    "    \n",
    "    \n",
    "    flips1 = sum(A[i] == list(s)[0] for i in range(n))\n",
    "    \n",
    "    flips2 = sum(B[i] == list(s)[0] for i in range(n))\n",
    "    \n",
    "    return min(n - flips1, n - flips2)  "
   ]
  },
  {
   "cell_type": "code",
   "execution_count": 112,
   "metadata": {},
   "outputs": [
    {
     "data": {
      "text/plain": [
       "0"
      ]
     },
     "execution_count": 112,
     "metadata": {},
     "output_type": "execute_result"
    }
   ],
   "source": [
    "minDominoRotations(A = [], B = [3])"
   ]
  },
  {
   "cell_type": "code",
   "execution_count": 102,
   "metadata": {},
   "outputs": [
    {
     "data": {
      "text/plain": [
       "{2}"
      ]
     },
     "execution_count": 102,
     "metadata": {},
     "output_type": "execute_result"
    }
   ],
   "source": [
    "{1,2} & {2,2}"
   ]
  }
 ],
 "metadata": {
  "kernelspec": {
   "display_name": "Python 3",
   "language": "python",
   "name": "python3"
  },
  "language_info": {
   "codemirror_mode": {
    "name": "ipython",
    "version": 3
   },
   "file_extension": ".py",
   "mimetype": "text/x-python",
   "name": "python",
   "nbconvert_exporter": "python",
   "pygments_lexer": "ipython3",
   "version": "3.7.4"
  }
 },
 "nbformat": 4,
 "nbformat_minor": 2
}
