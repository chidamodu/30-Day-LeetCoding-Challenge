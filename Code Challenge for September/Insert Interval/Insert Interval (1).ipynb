{
 "cells": [
  {
   "cell_type": "code",
   "execution_count": null,
   "metadata": {},
   "outputs": [],
   "source": [
    "Given a set of non-overlapping intervals, insert a new interval into the intervals (merge if necessary).\n",
    "\n",
    "You may assume that the intervals were initially sorted according to their start times.\n",
    "\n",
    "Example 1:\n",
    "Input: intervals = [[1,3],[6,9]], newInterval = [2,5]\n",
    "Output: [[1,5],[6,9]]\n",
    "\n",
    "Example 2:\n",
    "Input: intervals = [[1,2],[3,5],[6,7],[8,10],[12,16]], newInterval = [4,8]\n",
    "Output: [[1,2],[3,10],[12,16]]\n",
    "Explanation: Because the new interval [4,8] overlaps with [3,5],[6,7],[8,10].\n",
    "NOTE: input types have been changed on April 15, 2019. Please reset to default code definition to get new method \n",
    "signature."
   ]
  },
  {
   "cell_type": "code",
   "execution_count": null,
   "metadata": {},
   "outputs": [],
   "source": [
    "class Solution:\n",
    "    def insert(self, intervals: List[List[int]], newInterval: List[int]) -> List[List[int]]:\n",
    "        result = []\n",
    "        i, n = 0, len(intervals)\n",
    "        while i < n and intervals[i][1] < newInterval[0]:\n",
    "            result.append(intervals[i])\n",
    "            i += 1\n",
    "        \n",
    "        newI = newInterval;\n",
    "        while i < n and intervals[i][0] <= newInterval[1]:\n",
    "            newI[0] = min(newI[0], intervals[i][0])\n",
    "            newI[1] = max(newI[1], intervals[i][1])\n",
    "            i += 1\n",
    "        \n",
    "        result.append(newI)\n",
    "        \n",
    "        while i < n:\n",
    "            result.append(intervals[i])\n",
    "            i += 1\n",
    "        \n",
    "        return result\n",
    "\n",
    "outcome:\n",
    "Runtime: 96 ms\n",
    "Memory Usage: 17.1 MB\n",
    "Your runtime beats 35.34 % of python3 submissions. "
   ]
  }
 ],
 "metadata": {
  "kernelspec": {
   "display_name": "Python 3",
   "language": "python",
   "name": "python3"
  },
  "language_info": {
   "codemirror_mode": {
    "name": "ipython",
    "version": 3
   },
   "file_extension": ".py",
   "mimetype": "text/x-python",
   "name": "python",
   "nbconvert_exporter": "python",
   "pygments_lexer": "ipython3",
   "version": "3.7.4"
  }
 },
 "nbformat": 4,
 "nbformat_minor": 2
}
