{
 "cells": [
  {
   "cell_type": "code",
   "execution_count": null,
   "metadata": {},
   "outputs": [],
   "source": [
    "Given an array of integers and an integer k, find out whether there are two distinct indices i and j in the array \n",
    "such that nums[i] = nums[j] and the absolute difference between i and j is at most k.\n",
    "\n",
    "Example 1:\n",
    "Input: nums = [1,2,3,1], k = 3\n",
    "Output: true\n",
    "\n",
    "Example 2:\n",
    "Input: nums = [1,0,1,1], k = 1\n",
    "Output: true\n",
    "\n",
    "Example 3:\n",
    "Input: nums = [1,2,3,1,2,3], k = 2\n",
    "Output: false"
   ]
  },
  {
   "cell_type": "code",
   "execution_count": 13,
   "metadata": {},
   "outputs": [],
   "source": [
    "def containsNearbyDuplicate(nums, k):\n",
    "    d={}\n",
    "    for i,v in enumerate(nums):\n",
    "        if v in d and (i-d[v])<=k: return True    \n",
    "        d[v]=i   \n",
    "    return False\n",
    "        \n",
    "result:\n",
    "Runtime: 92 ms, faster than 88.63% of Python3 online submissions for Contains Duplicate II.\n",
    "Memory Usage: 21.6 MB, less than 35.82% of Python3 online submissions for Contains Duplicate II."
   ]
  },
  {
   "cell_type": "code",
   "execution_count": 14,
   "metadata": {},
   "outputs": [
    {
     "data": {
      "text/plain": [
       "True"
      ]
     },
     "execution_count": 14,
     "metadata": {},
     "output_type": "execute_result"
    }
   ],
   "source": [
    "containsNearbyDuplicate(nums = [1,2,3,1], k = 3)"
   ]
  }
 ],
 "metadata": {
  "kernelspec": {
   "display_name": "Python 3",
   "language": "python",
   "name": "python3"
  },
  "language_info": {
   "codemirror_mode": {
    "name": "ipython",
    "version": 3
   },
   "file_extension": ".py",
   "mimetype": "text/x-python",
   "name": "python",
   "nbconvert_exporter": "python",
   "pygments_lexer": "ipython3",
   "version": "3.7.4"
  }
 },
 "nbformat": 4,
 "nbformat_minor": 2
}
