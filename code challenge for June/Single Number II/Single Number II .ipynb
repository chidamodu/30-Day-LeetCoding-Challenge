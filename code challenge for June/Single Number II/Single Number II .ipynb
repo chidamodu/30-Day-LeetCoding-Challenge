{
 "cells": [
  {
   "cell_type": "code",
   "execution_count": null,
   "metadata": {},
   "outputs": [],
   "source": [
    "Given a non-empty array of integers, every element appears three times except for one, which appears exactly once.\n",
    "Find that single one.\n",
    "\n",
    "Note:\n",
    "\n",
    "Your algorithm should have a linear runtime complexity. Could you implement it without using extra memory?\n",
    "\n",
    "Example 1:\n",
    "Input: [2,2,3,2]\n",
    "Output: 3\n",
    "    \n",
    "Example 2:\n",
    "Input: [0,1,0,1,0,1,99]\n",
    "Output: 99"
   ]
  },
  {
   "cell_type": "code",
   "execution_count": 6,
   "metadata": {},
   "outputs": [],
   "source": [
    "\n",
    "Your algorithm should have a linear runtime complexity. And the solution has a linear time complexity of N log(N). \n",
    "Now onto the next task in the cell below.\n",
    "\n",
    "\n",
    "def singleNumber(nums):\n",
    "    d={}\n",
    "    for i in nums:\n",
    "        d[i]=d.get(i, 0)+1\n",
    "    for k, v in d.items():\n",
    "        if d[k]==1: return k\n",
    "        \n",
    "result:\n",
    "Your runtime beats 64.92 % of python3 submissions\n",
    "Runtime: 60 ms\n",
    "Memory Usage: 15.5 MB\n",
    "Time complexity: N log(N)\n",
    "Space complexity: O(N)\n",
    "    "
   ]
  },
  {
   "cell_type": "code",
   "execution_count": 7,
   "metadata": {},
   "outputs": [
    {
     "data": {
      "text/plain": [
       "3"
      ]
     },
     "execution_count": 7,
     "metadata": {},
     "output_type": "execute_result"
    }
   ],
   "source": [
    "singleNumber([2,2,3,2])"
   ]
  },
  {
   "cell_type": "code",
   "execution_count": 16,
   "metadata": {},
   "outputs": [],
   "source": [
    "#sorting + Traversal\n",
    "\n",
    "#Could you implement it without using extra memory?\n",
    "\n",
    "class Solution:\n",
    "    def singleNumber(self, nums: List[int]) -> int:\n",
    "        nums=sorted(nums)\n",
    "        i=1\n",
    "    \n",
    "        #what if there is only one element?\n",
    "        if len(nums)==1:\n",
    "            return nums[0]\n",
    "        \n",
    "        else:\n",
    "            #checking for edge cases:\n",
    "            #if first element is the single element\n",
    "            if nums[0]!=nums[1]:\n",
    "                return nums[0]\n",
    "            \n",
    "            #if last element is the single element\n",
    "            if nums[-1]!=nums[-2]:\n",
    "                return nums[-1]\n",
    "        \n",
    "            while i<=len(nums):\n",
    "                if nums[i]==nums[i-1]:\n",
    "                    i+=3\n",
    "                else:\n",
    "                    return nums[i-1]\n",
    "        \n",
    "        \n",
    "Runtime: 60 ms\n",
    "Memory Usage: 15.5 MB        \n",
    "Your runtime beats 64.92 % of python3 submissions.  \n",
    "\n",
    "Time complexity:\n",
    "O(N log(N) + N) #here N log(N) for sorting and O(N) for traversing and finding the single element\n",
    "because N <= INT-Max log(N)<=32\n",
    "\n",
    "No additional memory is used"
   ]
  },
  {
   "cell_type": "code",
   "execution_count": 17,
   "metadata": {},
   "outputs": [
    {
     "data": {
      "text/plain": [
       "4"
      ]
     },
     "execution_count": 17,
     "metadata": {},
     "output_type": "execute_result"
    }
   ],
   "source": [
    "singleNumber([2,2,4,3,5,2,3,3,5,5])"
   ]
  }
 ],
 "metadata": {
  "kernelspec": {
   "display_name": "Python 3",
   "language": "python",
   "name": "python3"
  },
  "language_info": {
   "codemirror_mode": {
    "name": "ipython",
    "version": 3
   },
   "file_extension": ".py",
   "mimetype": "text/x-python",
   "name": "python",
   "nbconvert_exporter": "python",
   "pygments_lexer": "ipython3",
   "version": "3.7.4"
  }
 },
 "nbformat": 4,
 "nbformat_minor": 2
}
