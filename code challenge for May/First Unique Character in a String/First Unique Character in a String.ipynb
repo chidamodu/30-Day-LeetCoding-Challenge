{
 "cells": [
  {
   "cell_type": "code",
   "execution_count": null,
   "metadata": {},
   "outputs": [],
   "source": [
    "Given a string, find the first non-repeating character in it and return its index. If it doesnt exist, return -1.\n",
    "\n",
    "Examples:\n",
    "\n",
    "s = \"leetcode\"\n",
    "return 0.\n",
    "\n",
    "s = \"loveleetcode\",\n",
    "return 2.\n",
    "Note: You may assume the string contain only lowercase letters."
   ]
  },
  {
   "cell_type": "code",
   "execution_count": 7,
   "metadata": {},
   "outputs": [],
   "source": [
    "def firstUniqChar(s):\n",
    "    from collections import defaultdict\n",
    "    ans=[]\n",
    "    d=defaultdict(list)\n",
    "    for i in range(len(s)):\n",
    "        d[s[i]].append(i)\n",
    "        \n",
    "    for k,v in d.items():\n",
    "        if len(v)==1:\n",
    "            ans.append(v)\n",
    "            \n",
    "    return min(ans)[0] if ans else -1\n",
    "\n",
    "\n",
    "Your runtime beats 58.06 % of python3 submissions.\n",
    "Runtime: 120 ms\n",
    "Memory Usage: 15.1 MB"
   ]
  },
  {
   "cell_type": "code",
   "execution_count": 8,
   "metadata": {},
   "outputs": [
    {
     "data": {
      "text/plain": [
       "2"
      ]
     },
     "execution_count": 8,
     "metadata": {},
     "output_type": "execute_result"
    }
   ],
   "source": [
    "firstUniqChar(\"loveleetcode\")"
   ]
  },
  {
   "cell_type": "code",
   "execution_count": 15,
   "metadata": {},
   "outputs": [],
   "source": [
    "Leetcode Solution using enumerate and Counter\n",
    "def firstUniqChar(s):\n",
    "    from collections import Counter\n",
    "    # build hash map : character and how often it appears\n",
    "    c = Counter(s)\n",
    "    print(c)\n",
    "        \n",
    "    # find the index\n",
    "    for idx, ch in enumerate(s):\n",
    "        if c[ch] == 1:\n",
    "            return idx     \n",
    "    return -1\n",
    "\n",
    "Your runtime beats 78.66 % of python3 submissions.\n",
    "Runtime: 96 ms\n",
    "Memory Usage: 14 MB"
   ]
  },
  {
   "cell_type": "code",
   "execution_count": 16,
   "metadata": {},
   "outputs": [
    {
     "name": "stdout",
     "output_type": "stream",
     "text": [
      "Counter({'e': 4, 'l': 2, 'o': 2, 'v': 1, 't': 1, 'c': 1, 'd': 1})\n"
     ]
    },
    {
     "data": {
      "text/plain": [
       "2"
      ]
     },
     "execution_count": 16,
     "metadata": {},
     "output_type": "execute_result"
    }
   ],
   "source": [
    "firstUniqChar(\"loveleetcode\")"
   ]
  },
  {
   "cell_type": "code",
   "execution_count": 17,
   "metadata": {},
   "outputs": [],
   "source": [
    "def firstUniqChar(s):\n",
    "    d={}\n",
    "    \n",
    "    for i in range(len(s)):\n",
    "        d[s[i]]=d.get(s[i], 0)+1\n",
    "        \n",
    "    for idx, ch in enumerate(s):\n",
    "        if d[ch] == 1:\n",
    "            return idx\n",
    "    \n",
    "    return -1\n",
    "            \n",
    "    \n",
    "Your runtime beats 25.72 % of python3 submissions.\n",
    "Runtime: 168 ms\n",
    "Memory Usage: 13.9 MB"
   ]
  },
  {
   "cell_type": "code",
   "execution_count": 18,
   "metadata": {},
   "outputs": [
    {
     "data": {
      "text/plain": [
       "2"
      ]
     },
     "execution_count": 18,
     "metadata": {},
     "output_type": "execute_result"
    }
   ],
   "source": [
    "firstUniqChar(\"loveleetcode\")"
   ]
  }
 ],
 "metadata": {
  "kernelspec": {
   "display_name": "Python 3",
   "language": "python",
   "name": "python3"
  },
  "language_info": {
   "codemirror_mode": {
    "name": "ipython",
    "version": 3
   },
   "file_extension": ".py",
   "mimetype": "text/x-python",
   "name": "python",
   "nbconvert_exporter": "python",
   "pygments_lexer": "ipython3",
   "version": "3.7.4"
  }
 },
 "nbformat": 4,
 "nbformat_minor": 2
}
