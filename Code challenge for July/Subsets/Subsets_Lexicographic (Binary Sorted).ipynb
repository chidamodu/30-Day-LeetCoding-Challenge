{
 "cells": [
  {
   "cell_type": "code",
   "execution_count": null,
   "metadata": {},
   "outputs": [],
   "source": [
    "Problem:\n",
    "Given a set of distinct integers, nums, return all possible subsets (the power set).\n",
    "\n",
    "Note: The solution set must not contain duplicate subsets.\n",
    "\n",
    "Example:\n",
    "Input: nums = [1,2,3]\n",
    "Output:\n",
    "[\n",
    "  [3],\n",
    "  [1],\n",
    "  [2],\n",
    "  [1,2,3],\n",
    "  [1,3],\n",
    "  [2,3],\n",
    "  [1,2],\n",
    "  []\n",
    "]"
   ]
  },
  {
   "cell_type": "code",
   "execution_count": null,
   "metadata": {},
   "outputs": [],
   "source": [
    "Approach 3: Lexicographic (Binary Sorted) Subsets\n",
    "\n",
    "Intuition\n",
    "\n",
    "The idea of this solution is originated from Donald E. Knuth.\n",
    "\n",
    "The idea is that we map each subset to a bitmask of length n, where 1 on the ith position in bitmask means the \n",
    "presence of nums[i] in the subset, and 0 means its absence."
   ]
  },
  {
   "cell_type": "code",
   "execution_count": null,
   "metadata": {},
   "outputs": [],
   "source": [
    "For instance, the bitmask 0..00 (all zeros) corresponds to an empty subset, and the bitmask 1..11 (all ones) \n",
    "corresponds to the entire input array nums.\n",
    "\n",
    "Hence to solve the initial problem, we just need to generate n bitmasks from 0..00 to 1..11.\n",
    "\n",
    "It might seem simple at first glance to generate binary numbers, but the real problem here is how to deal with zero \n",
    "left padding, because one has to generate bitmasks of fixed length, i.e. 001 and not just 1. For that one could use \n",
    "standard bit manipulation trick:"
   ]
  },
  {
   "cell_type": "code",
   "execution_count": null,
   "metadata": {},
   "outputs": [],
   "source": [
    "nth_bit = 1 << n\n",
    "for i in range(2**n):\n",
    "    # generate bitmask, from 0..00 to 1..11\n",
    "    bitmask = bin(i | nth_bit)[3:]"
   ]
  },
  {
   "cell_type": "code",
   "execution_count": null,
   "metadata": {},
   "outputs": [],
   "source": [
    "or keep it simple stupid and shift iteration limits:\n",
    "    \n",
    "for i in range(2**n, 2**(n + 1)):\n",
    "    # generate bitmask, from 0..00 to 1..11\n",
    "    bitmask = bin(i)[3:]"
   ]
  },
  {
   "cell_type": "code",
   "execution_count": null,
   "metadata": {},
   "outputs": [],
   "source": [
    "Algorithm\n",
    "\n",
    "Generate all possible binary bitmasks of length n.\n",
    "\n",
    "Map a subset to each bitmask: 1 on the ith position in bitmask means the presence of nums[i] in the subset, and 0 \n",
    "    means its absence.\n",
    "\n",
    "Return output list."
   ]
  },
  {
   "cell_type": "code",
   "execution_count": null,
   "metadata": {},
   "outputs": [],
   "source": [
    "class Solution:\n",
    "    def subsets(self, nums: List[int]) -> List[List[int]]:\n",
    "        n = len(nums)\n",
    "        output = []\n",
    "        \n",
    "        for i in range(2**n, 2**(n + 1)):\n",
    "            # generate bitmask, from 0..00 to 1..11\n",
    "            bitmask = bin(i)[3:]\n",
    "            \n",
    "            # append subset corresponding to that bitmask\n",
    "            output.append([nums[j] for j in range(n) if bitmask[j] == '1'])\n",
    "        \n",
    "        return output"
   ]
  },
  {
   "cell_type": "code",
   "execution_count": null,
   "metadata": {},
   "outputs": [],
   "source": [
    "Complexity Analysis\n",
    "\n",
    "Time complexity: \n",
    "\n",
    "O(N×2^N) to generate all subsets and then copy them into output list.\n",
    "\n",
    "Space complexity: \n",
    "O(N×2^N). This is exactly the number of solutions for subsets multiplied by the number N of elements to keep for each \n",
    "subset.\n",
    "\n",
    "For a given number, it could be present or absent (i.e. binary choice) in a subset solution. As as result, for \n",
    "N numbers, we would have in total 2^N choices (solutions). \n"
   ]
  }
 ],
 "metadata": {
  "kernelspec": {
   "display_name": "Python 3",
   "language": "python",
   "name": "python3"
  },
  "language_info": {
   "codemirror_mode": {
    "name": "ipython",
    "version": 3
   },
   "file_extension": ".py",
   "mimetype": "text/x-python",
   "name": "python",
   "nbconvert_exporter": "python",
   "pygments_lexer": "ipython3",
   "version": "3.7.4"
  }
 },
 "nbformat": 4,
 "nbformat_minor": 2
}
