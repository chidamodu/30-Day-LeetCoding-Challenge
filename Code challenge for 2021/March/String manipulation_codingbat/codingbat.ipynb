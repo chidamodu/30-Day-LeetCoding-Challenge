{
 "cells": [
  {
   "cell_type": "code",
   "execution_count": null,
   "metadata": {},
   "outputs": [],
   "source": [
    "big_diff\n",
    "\n",
    "Given an array length 1 or more of ints, return the difference between the largest and smallest values in the array. \n",
    "Note: the built-in min(v1, v2) and max(v1, v2) functions return the smaller or larger of two values.\n",
    "\n",
    "big_diff([10, 3, 5, 6]) → 7\n",
    "big_diff([7, 2, 10, 9]) → 8\n",
    "big_diff([2, 10, 7, 2]) → 8"
   ]
  },
  {
   "cell_type": "code",
   "execution_count": 1,
   "metadata": {},
   "outputs": [],
   "source": [
    "def big_diff(nums):\n",
    "    nums=sorted(nums)\n",
    "    return nums[-1]-nums[0]\n"
   ]
  },
  {
   "cell_type": "code",
   "execution_count": 2,
   "metadata": {},
   "outputs": [
    {
     "data": {
      "text/plain": [
       "7"
      ]
     },
     "execution_count": 2,
     "metadata": {},
     "output_type": "execute_result"
    }
   ],
   "source": [
    "big_diff([10, 3, 5, 6])"
   ]
  },
  {
   "cell_type": "code",
   "execution_count": null,
   "metadata": {},
   "outputs": [],
   "source": [
    "cat_dog\n",
    "\n",
    "Return True if the string \"cat\" and \"dog\" appear the same number of times in the given string.\n",
    "\n",
    "cat_dog('catdog') → True\n",
    "cat_dog('catcat') → False\n",
    "cat_dog('1cat1cadodog') → True"
   ]
  },
  {
   "cell_type": "code",
   "execution_count": 3,
   "metadata": {},
   "outputs": [],
   "source": [
    "def cat_dog(str):\n",
    "    c, d=0,0\n",
    "    for i in range(len(str)-2):\n",
    "        if str[i:i+3]==\"cat\":\n",
    "            c+=1\n",
    "        elif str[i:i+3]==\"dog\":\n",
    "            d+=1\n",
    "    return True if c==d else False\n"
   ]
  },
  {
   "cell_type": "code",
   "execution_count": 4,
   "metadata": {},
   "outputs": [
    {
     "data": {
      "text/plain": [
       "True"
      ]
     },
     "execution_count": 4,
     "metadata": {},
     "output_type": "execute_result"
    }
   ],
   "source": [
    "cat_dog('1cat1cadodog')"
   ]
  },
  {
   "cell_type": "code",
   "execution_count": 5,
   "metadata": {},
   "outputs": [
    {
     "data": {
      "text/plain": [
       "<module 'string' from '/usr/local/Cellar/python/3.7.4/Frameworks/Python.framework/Versions/3.7/lib/python3.7/string.py'>"
      ]
     },
     "execution_count": 5,
     "metadata": {},
     "output_type": "execute_result"
    }
   ],
   "source": [
    "import string\n",
    "string"
   ]
  },
  {
   "cell_type": "code",
   "execution_count": null,
   "metadata": {},
   "outputs": [],
   "source": [
    "count_code\n",
    "\n",
    "Return the number of times that the string \"code\" appears anywhere in the given string, \n",
    "except we'll accept any letter for the 'd', so \"cope\" and \"cooe\" count.\n",
    "\n",
    "count_code('aaacodebbb') → 1\n",
    "count_code('codexxcode') → 2\n",
    "count_code('cozexxcope') → 2"
   ]
  },
  {
   "cell_type": "code",
   "execution_count": 8,
   "metadata": {},
   "outputs": [],
   "source": [
    "def count_code(str):\n",
    "    count_val=0\n",
    "    for i in range(len(str)-3):\n",
    "        selected=str[i:i+4]\n",
    "        if selected[0]=='c' and selected[1]=='o' and selected[-1]=='e':\n",
    "            count_val+=1\n",
    "    return count_val"
   ]
  },
  {
   "cell_type": "code",
   "execution_count": 9,
   "metadata": {},
   "outputs": [
    {
     "data": {
      "text/plain": [
       "2"
      ]
     },
     "execution_count": 9,
     "metadata": {},
     "output_type": "execute_result"
    }
   ],
   "source": [
    "count_code('cozexxcope')"
   ]
  },
  {
   "cell_type": "code",
   "execution_count": 11,
   "metadata": {},
   "outputs": [
    {
     "data": {
      "text/plain": [
       "'abc'"
      ]
     },
     "execution_count": 11,
     "metadata": {},
     "output_type": "execute_result"
    }
   ],
   "source": [
    "s='Hiabc'\n",
    "s[-3:]"
   ]
  },
  {
   "cell_type": "code",
   "execution_count": 12,
   "metadata": {},
   "outputs": [],
   "source": [
    "end_other\n",
    "\n",
    "def end_other(a, b):\n",
    "    a=a.lower()\n",
    "    b=b.lower()\n",
    "    if len(a) > len(b):\n",
    "        if a[-len(b):]==b:\n",
    "            return True\n",
    "    else:\n",
    "        if b[-len(a):]==a:\n",
    "            return True\n",
    "    return False"
   ]
  },
  {
   "cell_type": "code",
   "execution_count": 13,
   "metadata": {},
   "outputs": [
    {
     "data": {
      "text/plain": [
       "True"
      ]
     },
     "execution_count": 13,
     "metadata": {},
     "output_type": "execute_result"
    }
   ],
   "source": [
    "end_other('AbC', 'HiaBc')"
   ]
  },
  {
   "cell_type": "code",
   "execution_count": null,
   "metadata": {},
   "outputs": [],
   "source": [
    "A sleek way to write the above code: end_other is as follows:\n",
    "        \n",
    "def end_other(a, b):\n",
    "    a=a.lower()\n",
    "    b=b.lower()\n",
    "  \n",
    "    if (a[-len(b):]==b) or (b[-len(a):]==a):\n",
    "        return True\n",
    "  \n",
    "    return False\n",
    "    "
   ]
  },
  {
   "cell_type": "code",
   "execution_count": null,
   "metadata": {},
   "outputs": [],
   "source": [
    "double_char\n",
    "\n",
    "Given a string, return a string where for every char in the original, there are two chars.\n",
    "\n",
    "double_char('The') → 'TThhee'\n",
    "double_char('AAbb') → 'AAAAbbbb'\n",
    "double_char('Hi-There') → 'HHii--TThheerree'"
   ]
  },
  {
   "cell_type": "code",
   "execution_count": 14,
   "metadata": {},
   "outputs": [],
   "source": [
    "def double_char(str):\n",
    "    result=''\n",
    "    for i in range(len(str)):\n",
    "        result+=str[i]*2\n",
    "    return result"
   ]
  },
  {
   "cell_type": "code",
   "execution_count": 15,
   "metadata": {},
   "outputs": [
    {
     "data": {
      "text/plain": [
       "'HHii--TThheerree'"
      ]
     },
     "execution_count": 15,
     "metadata": {},
     "output_type": "execute_result"
    }
   ],
   "source": [
    "double_char('Hi-There')"
   ]
  },
  {
   "cell_type": "code",
   "execution_count": null,
   "metadata": {},
   "outputs": [],
   "source": [
    "count_hi\n",
    "\n",
    "Return the number of times that the string \"hi\" appears anywhere in the given string.\n",
    "\n",
    "count_hi('abc hi ho') → 1\n",
    "count_hi('ABChi hi') → 2\n",
    "count_hi('hihi') → 2\n"
   ]
  },
  {
   "cell_type": "code",
   "execution_count": 16,
   "metadata": {},
   "outputs": [],
   "source": [
    "def count_hi(str):\n",
    "    result=0\n",
    "    for i in range(len(str)-1):\n",
    "        if str[i:i+2]==\"hi\":\n",
    "            result+=1\n",
    "      \n",
    "    return result\n",
    "      \n"
   ]
  },
  {
   "cell_type": "code",
   "execution_count": 17,
   "metadata": {},
   "outputs": [
    {
     "data": {
      "text/plain": [
       "2"
      ]
     },
     "execution_count": 17,
     "metadata": {},
     "output_type": "execute_result"
    }
   ],
   "source": [
    "count_hi('ABChi hi')"
   ]
  },
  {
   "cell_type": "code",
   "execution_count": null,
   "metadata": {},
   "outputs": [],
   "source": [
    "Have to do it!\n",
    "\n",
    "xyz_there\n",
    "\n",
    "Return True if the given string contains an appearance of \"xyz\" where the xyz is not directly preceeded by a \n",
    "period (.). So \"xxyz\" counts but \"x.xyz\" does not.\n",
    "\n",
    "xyz_there('abcxyz') → True\n",
    "xyz_there('abc.xyz') → False\n",
    "xyz_there('xyz.abc') → True"
   ]
  }
 ],
 "metadata": {
  "kernelspec": {
   "display_name": "Python 3",
   "language": "python",
   "name": "python3"
  },
  "language_info": {
   "codemirror_mode": {
    "name": "ipython",
    "version": 3
   },
   "file_extension": ".py",
   "mimetype": "text/x-python",
   "name": "python",
   "nbconvert_exporter": "python",
   "pygments_lexer": "ipython3",
   "version": "3.7.4"
  }
 },
 "nbformat": 4,
 "nbformat_minor": 2
}
