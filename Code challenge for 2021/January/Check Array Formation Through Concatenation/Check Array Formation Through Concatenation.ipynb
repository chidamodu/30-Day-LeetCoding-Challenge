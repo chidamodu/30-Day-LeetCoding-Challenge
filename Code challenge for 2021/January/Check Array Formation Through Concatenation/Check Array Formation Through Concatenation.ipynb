{
 "cells": [
  {
   "cell_type": "code",
   "execution_count": null,
   "metadata": {},
   "outputs": [],
   "source": [
    "You are given an array of distinct integers arr and an array of integer arrays pieces, where the integers in pieces \n",
    "are distinct. Your goal is to form arr by concatenating the arrays in pieces in any order. However, you are not \n",
    "allowed to reorder the integers in each array pieces[i].\n",
    "\n",
    "Return true if it is possible to form the array arr from pieces. Otherwise, return false.\n",
    "\n",
    "\n",
    "Example 1:\n",
    "Input: arr = [85], pieces = [[85]]\n",
    "Output: true\n",
    "\n",
    "Example 2:\n",
    "Input: arr = [15,88], pieces = [[88],[15]]\n",
    "Output: true\n",
    "Explanation: Concatenate [15] then [88]\n",
    "\n",
    "Example 3:\n",
    "Input: arr = [49,18,16], pieces = [[16,18,49]]\n",
    "Output: false\n",
    "Explanation: Even though the numbers match, we cannot reorder pieces[0].\n",
    "\n",
    "Example 4:\n",
    "Input: arr = [91,4,64,78], pieces = [[78],[4,64],[91]]\n",
    "Output: true\n",
    "Explanation: Concatenate [91] then [4,64] then [78]\n",
    "\n",
    "Example 5:\n",
    "Input: arr = [1,3,5,7], pieces = [[2,4,6,8]]\n",
    "Output: false\n",
    " \n",
    "\n",
    "Constraints:\n",
    "1 <= pieces.length <= arr.length <= 100\n",
    "sum(pieces[i].length) == arr.length\n",
    "1 <= pieces[i].length <= arr.length\n",
    "1 <= arr[i], pieces[i][j] <= 100\n",
    "The integers in arr are distinct.\n",
    "The integers in pieces are distinct (i.e., If we flatten pieces in a 1D array, all the integers in this array are \n",
    "                                     distinct).\n",
    "Hint #1  \n",
    "Note that the distinct part means that every position in the array belongs to only one piece\n",
    "\n",
    "Hint #2  \n",
    "Note that you can get the piece every position belongs to naively\n"
   ]
  },
  {
   "cell_type": "code",
   "execution_count": 44,
   "metadata": {},
   "outputs": [],
   "source": [
    "Trial - did not work\n",
    "\n",
    "def canFormArray(arr, pieces):\n",
    "    d={}\n",
    "\n",
    "    for i, k in enumerate(arr):\n",
    "        d[k]=i\n",
    "    \n",
    "        \n",
    "    for index, l in enumerate(pieces):\n",
    "        if len(l)==1 and l[0] in d:\n",
    "            if index!=d[l[0]]:\n",
    "                pieces[d[l[0]]-1], pieces[index]=pieces[index], pieces[d[l[0]]-1]#this has to be made generic so that it fits\n",
    "                #for values at any index\n",
    "                \n",
    "    return pieces\n",
    "                \n",
    "                \n",
    "            "
   ]
  },
  {
   "cell_type": "code",
   "execution_count": 45,
   "metadata": {},
   "outputs": [
    {
     "data": {
      "text/plain": [
       "[[91], [4, 64], [78]]"
      ]
     },
     "execution_count": 45,
     "metadata": {},
     "output_type": "execute_result"
    }
   ],
   "source": [
    "arr = [91,4,64,78]\n",
    "pieces = [[78],[4,64],[91]]\n",
    "\n",
    "canFormArray(arr, pieces)"
   ]
  },
  {
   "cell_type": "code",
   "execution_count": 19,
   "metadata": {},
   "outputs": [],
   "source": [
    "arr = [91,4,64,78]\n",
    "pieces = [[78],[4,64],[91]]"
   ]
  },
  {
   "cell_type": "code",
   "execution_count": 20,
   "metadata": {},
   "outputs": [
    {
     "data": {
      "text/plain": [
       "[78, 4, 64, 91]"
      ]
     },
     "execution_count": 20,
     "metadata": {},
     "output_type": "execute_result"
    }
   ],
   "source": [
    "result=[]\n",
    "for i in pieces:\n",
    "    result.extend(i)\n",
    "result\n",
    "    "
   ]
  },
  {
   "cell_type": "code",
   "execution_count": 39,
   "metadata": {},
   "outputs": [
    {
     "data": {
      "text/plain": [
       "90"
      ]
     },
     "execution_count": 39,
     "metadata": {},
     "output_type": "execute_result"
    }
   ],
   "source": [
    "p=[90]\n",
    "p[0]"
   ]
  },
  {
   "cell_type": "code",
   "execution_count": 64,
   "metadata": {},
   "outputs": [],
   "source": [
    "Trial - did not work - why go till this length when we have dictionary?\n",
    "\n",
    "def canFormArray(arr, pieces):\n",
    "    d={}\n",
    "    result=[]\n",
    "    for val in pieces:\n",
    "        d[val[0]]=val\n",
    "        \n",
    "    item=0\n",
    "    \n",
    "    while item<=len(arr):\n",
    "        if arr[item] in d:\n",
    "            if len(d[arr[item]])==1:\n",
    "                result.extend(d[arr[item]])\n",
    "                item+=1\n",
    "            \n",
    "            elif len(d[arr[item]])>1:\n",
    "                result.extend(d[arr[item]])\n",
    "                item+=len(d[arr[item]])\n",
    "        \n",
    "        else:\n",
    "            continue\n",
    "        \n",
    "    return True if result==arr else False\n",
    "        "
   ]
  },
  {
   "cell_type": "code",
   "execution_count": 65,
   "metadata": {},
   "outputs": [
    {
     "ename": "IndexError",
     "evalue": "list index out of range",
     "output_type": "error",
     "traceback": [
      "\u001b[0;31m---------------------------------------------------------------------------\u001b[0m",
      "\u001b[0;31mIndexError\u001b[0m                                Traceback (most recent call last)",
      "\u001b[0;32m<ipython-input-65-c4dbd2031162>\u001b[0m in \u001b[0;36m<module>\u001b[0;34m\u001b[0m\n\u001b[1;32m      2\u001b[0m \u001b[0mpieces\u001b[0m \u001b[0;34m=\u001b[0m \u001b[0;34m[\u001b[0m\u001b[0;34m[\u001b[0m\u001b[0;36m78\u001b[0m\u001b[0;34m]\u001b[0m\u001b[0;34m,\u001b[0m\u001b[0;34m[\u001b[0m\u001b[0;36m4\u001b[0m\u001b[0;34m,\u001b[0m\u001b[0;36m64\u001b[0m\u001b[0;34m]\u001b[0m\u001b[0;34m,\u001b[0m\u001b[0;34m[\u001b[0m\u001b[0;36m91\u001b[0m\u001b[0;34m]\u001b[0m\u001b[0;34m]\u001b[0m\u001b[0;34m\u001b[0m\u001b[0;34m\u001b[0m\u001b[0m\n\u001b[1;32m      3\u001b[0m \u001b[0;34m\u001b[0m\u001b[0m\n\u001b[0;32m----> 4\u001b[0;31m \u001b[0mcanFormArray\u001b[0m\u001b[0;34m(\u001b[0m\u001b[0marr\u001b[0m\u001b[0;34m,\u001b[0m \u001b[0mpieces\u001b[0m\u001b[0;34m)\u001b[0m\u001b[0;34m\u001b[0m\u001b[0;34m\u001b[0m\u001b[0m\n\u001b[0m",
      "\u001b[0;32m<ipython-input-64-ffce0f3eaec1>\u001b[0m in \u001b[0;36mcanFormArray\u001b[0;34m(arr, pieces)\u001b[0m\n\u001b[1;32m      8\u001b[0m \u001b[0;34m\u001b[0m\u001b[0m\n\u001b[1;32m      9\u001b[0m     \u001b[0;32mwhile\u001b[0m \u001b[0mitem\u001b[0m\u001b[0;34m<=\u001b[0m\u001b[0mlen\u001b[0m\u001b[0;34m(\u001b[0m\u001b[0marr\u001b[0m\u001b[0;34m)\u001b[0m\u001b[0;34m:\u001b[0m\u001b[0;34m\u001b[0m\u001b[0;34m\u001b[0m\u001b[0m\n\u001b[0;32m---> 10\u001b[0;31m         \u001b[0;32mif\u001b[0m \u001b[0marr\u001b[0m\u001b[0;34m[\u001b[0m\u001b[0mitem\u001b[0m\u001b[0;34m]\u001b[0m \u001b[0;32min\u001b[0m \u001b[0md\u001b[0m\u001b[0;34m:\u001b[0m\u001b[0;34m\u001b[0m\u001b[0;34m\u001b[0m\u001b[0m\n\u001b[0m\u001b[1;32m     11\u001b[0m             \u001b[0;32mif\u001b[0m \u001b[0mlen\u001b[0m\u001b[0;34m(\u001b[0m\u001b[0md\u001b[0m\u001b[0;34m[\u001b[0m\u001b[0marr\u001b[0m\u001b[0;34m[\u001b[0m\u001b[0mitem\u001b[0m\u001b[0;34m]\u001b[0m\u001b[0;34m]\u001b[0m\u001b[0;34m)\u001b[0m\u001b[0;34m==\u001b[0m\u001b[0;36m1\u001b[0m\u001b[0;34m:\u001b[0m\u001b[0;34m\u001b[0m\u001b[0;34m\u001b[0m\u001b[0m\n\u001b[1;32m     12\u001b[0m                 \u001b[0mresult\u001b[0m\u001b[0;34m.\u001b[0m\u001b[0mextend\u001b[0m\u001b[0;34m(\u001b[0m\u001b[0md\u001b[0m\u001b[0;34m[\u001b[0m\u001b[0marr\u001b[0m\u001b[0;34m[\u001b[0m\u001b[0mitem\u001b[0m\u001b[0;34m]\u001b[0m\u001b[0;34m]\u001b[0m\u001b[0;34m)\u001b[0m\u001b[0;34m\u001b[0m\u001b[0;34m\u001b[0m\u001b[0m\n",
      "\u001b[0;31mIndexError\u001b[0m: list index out of range"
     ]
    }
   ],
   "source": [
    "arr = [91,4,64,78]\n",
    "pieces = [[78],[4,64],[91]]\n",
    "\n",
    "canFormArray(arr, pieces)"
   ]
  },
  {
   "cell_type": "code",
   "execution_count": 72,
   "metadata": {},
   "outputs": [],
   "source": [
    "Final submission\n",
    "\n",
    "def canFormArray(arr, pieces):\n",
    "    d={}\n",
    "    result=[]\n",
    "    \n",
    "    for val in pieces:\n",
    "        d[val[0]]=val\n",
    "        \n",
    "    for item in arr:\n",
    "        if item in d:#brilliant idea\n",
    "            result.extend(d[item])\n",
    "    return result==arr\n",
    "        "
   ]
  },
  {
   "cell_type": "code",
   "execution_count": 73,
   "metadata": {},
   "outputs": [
    {
     "data": {
      "text/plain": [
       "False"
      ]
     },
     "execution_count": 73,
     "metadata": {},
     "output_type": "execute_result"
    }
   ],
   "source": [
    "arr = [49,18,16]\n",
    "pieces = [[16,18,49]]\n",
    "\n",
    "canFormArray(arr, pieces)"
   ]
  }
 ],
 "metadata": {
  "kernelspec": {
   "display_name": "Python 3",
   "language": "python",
   "name": "python3"
  },
  "language_info": {
   "codemirror_mode": {
    "name": "ipython",
    "version": 3
   },
   "file_extension": ".py",
   "mimetype": "text/x-python",
   "name": "python",
   "nbconvert_exporter": "python",
   "pygments_lexer": "ipython3",
   "version": "3.7.4"
  }
 },
 "nbformat": 4,
 "nbformat_minor": 2
}
