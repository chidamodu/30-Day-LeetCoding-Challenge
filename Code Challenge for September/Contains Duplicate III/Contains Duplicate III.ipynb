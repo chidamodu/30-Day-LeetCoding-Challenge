{
 "cells": [
  {
   "cell_type": "code",
   "execution_count": null,
   "metadata": {},
   "outputs": [],
   "source": [
    "\n",
    "Given an array of integers, find out whether there are two distinct indices i and j in the array such that the \n",
    "absolute difference between nums[i] and nums[j] is at most t and the absolute difference between i and j is at most k.\n",
    "\n",
    "Example 1:\n",
    "Input: nums = [1,2,3,1], k = 3, t = 0\n",
    "Output: true\n",
    "\n",
    "Example 2:\n",
    "Input: nums = [1,0,1,1], k = 1, t = 2\n",
    "Output: true\n",
    "\n",
    "Example 3:\n",
    "Input: nums = [1,5,9,1,5,9], k = 2, t = 3\n",
    "Output: false\n",
    "        \n",
    "hint 1:\n",
    "Time complexity O(n logk) - This will give an indication that sorting is involved for k elements.\n",
    "\n",
    "hint 2:\n",
    "Use already existing state to evaluate next state - Like, a set of k sorted numbers are only needed to be tracked. \n",
    "When we are processing the next number in array, then we can utilize the existing sorted state and it is not \n",
    "necessary to sort next overlapping set of k numbers again.\n",
    "\n"
   ]
  },
  {
   "cell_type": "code",
   "execution_count": 37,
   "metadata": {},
   "outputs": [],
   "source": [
    "class Solution:\n",
    "    def containsNearbyAlmostDuplicate(self, nums: List[int], k: int, t: int) -> bool:\n",
    "        if t < 0: return False # edge case \n",
    "        d = {}\n",
    "        for i, x in enumerate(nums): \n",
    "            bucket = x//(t+1)\n",
    "            if bucket in d and i - d[bucket][0] <= k: return True \n",
    "            if bucket-1 in d and i - d[bucket-1][0] <= k and abs(x - d[bucket-1][1]) <= t: return True \n",
    "            if bucket+1 in d and i - d[bucket+1][0] <= k and abs(x - d[bucket+1][1]) <= t: return True \n",
    "            d[bucket] = (i, x) \n",
    "        return False \n",
    "\n",
    "\n",
    "outcome:\n",
    "Your runtime beats 73.90 % of python3 submissions.\n",
    "Runtime: 64 ms\n",
    "Memory Usage: 17.8 MB"
   ]
  },
  {
   "cell_type": "code",
   "execution_count": null,
   "metadata": {},
   "outputs": [],
   "source": []
  }
 ],
 "metadata": {
  "kernelspec": {
   "display_name": "Python 3",
   "language": "python",
   "name": "python3"
  },
  "language_info": {
   "codemirror_mode": {
    "name": "ipython",
    "version": 3
   },
   "file_extension": ".py",
   "mimetype": "text/x-python",
   "name": "python",
   "nbconvert_exporter": "python",
   "pygments_lexer": "ipython3",
   "version": "3.7.4"
  }
 },
 "nbformat": 4,
 "nbformat_minor": 2
}
