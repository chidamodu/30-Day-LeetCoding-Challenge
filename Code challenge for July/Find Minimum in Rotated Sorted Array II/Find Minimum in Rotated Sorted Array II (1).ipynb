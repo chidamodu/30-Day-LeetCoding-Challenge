{
 "cells": [
  {
   "cell_type": "code",
   "execution_count": null,
   "metadata": {},
   "outputs": [],
   "source": [
    "Suppose an array sorted in ascending order is rotated at some pivot unknown to you beforehand.\n",
    "\n",
    "(i.e.,  [0,1,2,4,5,6,7] might become  [4,5,6,7,0,1,2]).\n",
    "\n",
    "Find the minimum element.\n",
    "\n",
    "The array may contain duplicates.\n",
    "\n",
    "Example 1:\n",
    "Input: [1,3,5]\n",
    "Output: 1\n",
    "\n",
    "Example 2:\n",
    "Input: [2,2,2,0,1]\n",
    "Output: 0\n",
    "\n",
    "Note:\n",
    "This is a follow up problem to Find Minimum in Rotated Sorted Array.\n",
    "Would allow duplicates affect the run-time complexity? How and why?"
   ]
  },
  {
   "cell_type": "code",
   "execution_count": null,
   "metadata": {},
   "outputs": [],
   "source": [
    "class Solution:\n",
    "    def findMin(self, nums: List[int]) -> int:\n",
    "        min_now= float(\"inf\")\n",
    "        for item in nums:\n",
    "            m = min(min_now, item)\n",
    "            min_now = min(min_now, m)\n",
    "        return m\n",
    "  # binarySearch\n",
    "        l = 0; r = len(nums) - 1\n",
    "        while l < r:\n",
    "            mid = l + (r - l) // 2\n",
    "            if nums[r] < nums[mid]:\n",
    "                # min is b/w mid and r\n",
    "                l = mid + 1\n",
    "            elif nums[r] > nums[mid]:\n",
    "                # min lies to the left as in an unrotated array\n",
    "                r = mid\n",
    "            else:\n",
    "                # we dont know  where the min lies, so we shorten the  search window \n",
    "                r -= 1\n",
    "        return nums[l]\n",
    "        \n",
    "result:\n",
    "Your runtime beats 47.38 % of python3 submissions.\n",
    "Runtime: 60 ms\n",
    "Memory Usage: 14.3 MB"
   ]
  },
  {
   "cell_type": "code",
   "execution_count": null,
   "metadata": {},
   "outputs": [],
   "source": [
    "some explanation on Leetcode:\n",
    "    \n",
    "The non BS solution probably runs faster for small arrays which is why you got the faster runtime. Big O notation just\n",
    "tells us how we can expect the runtime to grow as we run the algorithm on increasingly large inputs. We can't truly \n",
    "compare runtimes for very small inputs with just Big O. For example, although insertion sort is O(n^2), it may \n",
    "actually run faster on small inputs compared to sorting algorithms like merge sort which is O(n log(n)). In summary, \n",
    "Big O isn't the only factor to comparing actual runtime; it only tells us how we can expect runtime to grow rather \n",
    "than actual concrete numbers for runtime. \n"
   ]
  }
 ],
 "metadata": {
  "kernelspec": {
   "display_name": "Python 3",
   "language": "python",
   "name": "python3"
  },
  "language_info": {
   "codemirror_mode": {
    "name": "ipython",
    "version": 3
   },
   "file_extension": ".py",
   "mimetype": "text/x-python",
   "name": "python",
   "nbconvert_exporter": "python",
   "pygments_lexer": "ipython3",
   "version": "3.7.4"
  }
 },
 "nbformat": 4,
 "nbformat_minor": 2
}
