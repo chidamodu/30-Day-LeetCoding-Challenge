{
 "cells": [
  {
   "cell_type": "code",
   "execution_count": null,
   "metadata": {},
   "outputs": [],
   "source": [
    "Given an array of integers nums containing n + 1 integers where each integer is in the range [1, n] inclusive.\n",
    "\n",
    "There is only one duplicate number in nums, return this duplicate number.\n",
    "\n",
    "Follow-ups:\n",
    "How can we prove that at least one duplicate number must exist in nums? \n",
    "Can you solve the problem without modifying the array nums?\n",
    "Can you solve the problem using only constant, O(1) extra space?\n",
    "Can you solve the problem with runtime complexity less than O(n2)?\n",
    " \n",
    "\n",
    "Example 1:\n",
    "Input: nums = [1,3,4,2,2]\n",
    "Output: 2\n",
    "\n",
    "Example 2:\n",
    "Input: nums = [3,1,3,4,2]\n",
    "Output: 3\n",
    "\n",
    "Example 3:\n",
    "Input: nums = [1,1]\n",
    "Output: 1\n",
    "\n",
    "Example 4:\n",
    "Input: nums = [1,1,2]\n",
    "Output: 1\n",
    " \n",
    "\n",
    "Constraints:\n",
    "2 <= n <= 3 * 104\n",
    "nums.length == n + 1\n",
    "1 <= nums[i] <= n\n",
    "All the integers in nums appear only once except for precisely one integer which appears two or more times."
   ]
  },
  {
   "cell_type": "code",
   "execution_count": null,
   "metadata": {},
   "outputs": [],
   "source": [
    "class Solution:\n",
    "    def findDuplicate(self, nums: List[int]) -> int:\n",
    "        slow, fast = nums[0], nums[0]\n",
    "        while True:\n",
    "            slow, fast = nums[slow], nums[nums[fast]]\n",
    "            if slow == fast: break\n",
    "           \n",
    "        slow = nums[0];\n",
    "        while slow != fast:\n",
    "            slow, fast = nums[slow], nums[fast]\n",
    "        return slow\n",
    "        \n",
    "\n",
    "Complexity: Time complexity is O(n), because we potentially can traverse all list. Space complexity is O(1), \n",
    "because we actually do not use any extra space: our linked list is virtual.\n",
    "\n"
   ]
  },
  {
   "cell_type": "code",
   "execution_count": null,
   "metadata": {},
   "outputs": [],
   "source": [
    "Explanation:\n",
    "    \n",
    "Finding duplicate number is same as finding a loop in a list. One of the ways to solve this problem is to\n",
    "treat the list as a linked list and apply the principle of finding a loop as in the problem Linked List Cycle II.\n",
    "\n",
    "Because a loop exists is a duplicate number exists. As mentioned in the problem description, a duplicate always exists in \n",
    "the list. \n",
    "\n",
    "The only difference between the problems: Linked List Cycle II and Find the Duplicate Number is:\n",
    "In Find the Duplicate Number we return the duplicate value (i.e., duplicate number)\n",
    "In Linked List Cycle II we return the start index of a loop if a loop exists\n"
   ]
  }
 ],
 "metadata": {
  "kernelspec": {
   "display_name": "Python 3",
   "language": "python",
   "name": "python3"
  },
  "language_info": {
   "codemirror_mode": {
    "name": "ipython",
    "version": 3
   },
   "file_extension": ".py",
   "mimetype": "text/x-python",
   "name": "python",
   "nbconvert_exporter": "python",
   "pygments_lexer": "ipython3",
   "version": "3.7.4"
  }
 },
 "nbformat": 4,
 "nbformat_minor": 2
}
