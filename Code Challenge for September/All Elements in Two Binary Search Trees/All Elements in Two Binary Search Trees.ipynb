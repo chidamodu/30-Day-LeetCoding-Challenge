{
 "cells": [
  {
   "cell_type": "code",
   "execution_count": null,
   "metadata": {},
   "outputs": [],
   "source": [
    "Given two binary search trees root1 and root2.\n",
    "\n",
    "Return a list containing all the integers from both trees sorted in ascending order.\n",
    " \n",
    "Example 1:\n",
    "Input: root1 = [2,1,4], root2 = [1,0,3]\n",
    "Output: [0,1,1,2,3,4]\n",
    "\n",
    "Example 2:\n",
    "Input: root1 = [0,-10,10], root2 = [5,1,7,0,2]\n",
    "Output: [-10,0,0,1,2,5,7,10]\n",
    "\n",
    "Example 3:\n",
    "Input: root1 = [], root2 = [5,1,7,0,2]\n",
    "Output: [0,1,2,5,7]\n",
    "\n",
    "Example 4:\n",
    "Input: root1 = [0,-10,10], root2 = []\n",
    "Output: [-10,0,10]\n",
    "\n",
    "Example 5:\n",
    "Input: root1 = [1,null,8], root2 = [8,1]\n",
    "Output: [1,1,8,8]\n",
    " \n",
    "Constraints:\n",
    "Each tree has at most 5000 nodes.\n",
    "Each node's value is between [-10^5, 10^5]."
   ]
  },
  {
   "cell_type": "code",
   "execution_count": 13,
   "metadata": {},
   "outputs": [],
   "source": [
    "Leetcode submission\n",
    "\n",
    "# Definition for a binary tree node.\n",
    "# class TreeNode:\n",
    "#     def __init__(self, val=0, left=None, right=None):\n",
    "#         self.val = val\n",
    "#         self.left = left\n",
    "#         self.right = right\n",
    "class Solution:\n",
    "    def getAllElements(self, root1: TreeNode, root2: TreeNode) -> List[int]:\n",
    "        s1, s2, answer=[], [], []\n",
    "        while root1!= None or root2 != None or len(s1)>0 or len(s2)>0:\n",
    "            while root1 != None:\n",
    "                s1.append(root1)\n",
    "                root1=root1.left\n",
    "        \n",
    "            while root2 != None:\n",
    "                s2.append(root2)\n",
    "                root2=root2.left\n",
    "            \n",
    "            if len(s2)==0 or (len(s1)>0 and s1[-1].val <= s2[-1].val):\n",
    "                root1=s1.pop()\n",
    "                answer.append(root1.val)\n",
    "                root1=root1.right\n",
    "        \n",
    "            else:\n",
    "                root2=s2.pop()\n",
    "                answer.append(root2.val)\n",
    "                root2=root2.right\n",
    "            \n",
    "        return answer\n",
    "            \n",
    "result:\n",
    "Your runtime beats 55.51 % of python3 submissions.\n",
    "Runtime: 408 ms\n",
    "Memory Usage: 16.9 MB"
   ]
  },
  {
   "cell_type": "code",
   "execution_count": 15,
   "metadata": {},
   "outputs": [],
   "source": [
    "# getAllElements(root1 = [0,-10,10], root2 = [])"
   ]
  }
 ],
 "metadata": {
  "kernelspec": {
   "display_name": "Python 3",
   "language": "python",
   "name": "python3"
  },
  "language_info": {
   "codemirror_mode": {
    "name": "ipython",
    "version": 3
   },
   "file_extension": ".py",
   "mimetype": "text/x-python",
   "name": "python",
   "nbconvert_exporter": "python",
   "pygments_lexer": "ipython3",
   "version": "3.7.4"
  }
 },
 "nbformat": 4,
 "nbformat_minor": 2
}
