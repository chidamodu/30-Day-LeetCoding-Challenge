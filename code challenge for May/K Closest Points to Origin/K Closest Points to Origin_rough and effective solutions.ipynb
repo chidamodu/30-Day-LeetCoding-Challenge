{
 "cells": [
  {
   "cell_type": "code",
   "execution_count": null,
   "metadata": {},
   "outputs": [],
   "source": [
    "We have a list of points on the plane.  Find the K closest points to the origin (0, 0).\n",
    "\n",
    "(Here, the distance between two points on a plane is the Euclidean distance.)\n",
    "\n",
    "You may return the answer in any order.  The answer is guaranteed to be unique (except for the order that it is in.)\n",
    "\n",
    "Example 1:\n",
    "Input: points = [[1,3],[-2,2]], K = 1\n",
    "\n",
    "Output: [[-2,2]]\n",
    "\n",
    "Explanation: \n",
    "The distance between (1, 3) and the origin is sqrt(10).\n",
    "The distance between (-2, 2) and the origin is sqrt(8).\n",
    "Since sqrt(8) < sqrt(10), (-2, 2) is closer to the origin.\n",
    "We only want the closest K = 1 points from the origin, so the answer is just [[-2,2]].\n",
    "\n",
    "\n",
    "Example 2:\n",
    "Input: points = [[3,3],[5,-1],[-2,4]], K = 2\n",
    "\n",
    "Output: [[3,3],[-2,4]]\n",
    "(The answer [[-2,4],[3,3]] would also be accepted.)\n",
    " \n",
    "\n",
    "Note:\n",
    "1 <= K <= points.length <= 10000\n",
    "-10000 < points[i][0] < 10000\n",
    "-10000 < points[i][1] < 10000"
   ]
  },
  {
   "cell_type": "code",
   "execution_count": 50,
   "metadata": {},
   "outputs": [],
   "source": [
    "# A long and windy way to solve the problem. but have got the answers right. the nect step is to reduce the solution to \n",
    "# an efficient fewer operations with lesser than O(N) runtime if possible\n",
    "\n",
    "Rough Solution that I tried. It worked! But tried the following effective solutions.\n",
    "\n",
    "def find_euclidean(l1, l2):\n",
    "    return round(((l2[0]-l1[0])**2 + (l2[1]-l1[1])**2)**(1/2), 2)\n",
    "    \n",
    "    \n",
    "\n",
    "def kClosest(points, K):\n",
    "    from collections import defaultdict\n",
    "    origin=[0,0]\n",
    "    result=defaultdict(list)\n",
    "    ans=10000\n",
    "    answer=[]\n",
    "    res=[]\n",
    "    \n",
    "    for i in points:\n",
    "        result[find_euclidean(i, origin)].append(i)\n",
    "        \n",
    "        \n",
    "#     return result\n",
    "        \n",
    "    for key, val in result.items():\n",
    "        if key<ans:\n",
    "            answer.append(key)\n",
    "            \n",
    "    answer=sorted(answer)\n",
    "    for i in range(K):\n",
    "        res.append(result[answer[i]])\n",
    "        \n",
    "        \n",
    "    return res\n",
    "        \n",
    "    \n",
    "#     for i in range(K):\n",
    "#         ans.append(sorted(result, reverse=True).pop())\n",
    "        \n",
    "        \n",
    "#     return ans\n",
    " \n",
    "        \n",
    "        \n",
    "    \n",
    "    "
   ]
  },
  {
   "cell_type": "code",
   "execution_count": 51,
   "metadata": {},
   "outputs": [
    {
     "data": {
      "text/plain": [
       "[[[3, 3]], [[-2, 4]]]"
      ]
     },
     "execution_count": 51,
     "metadata": {},
     "output_type": "execute_result"
    }
   ],
   "source": [
    "kClosest([[3,3],[5,-1],[-2,4]], K = 2)"
   ]
  },
  {
   "cell_type": "code",
   "execution_count": 62,
   "metadata": {},
   "outputs": [],
   "source": [
    "Solution:1\n",
    "\n",
    "def kClosest(points, K):\n",
    "    distance=[]\n",
    "    for p in points:\n",
    "        distance.append((round(((p[0])**2 + (p[1])**2)**(1/2), 2), p))\n",
    "    return [point for dist, point in sorted(distance)[:K]]\n",
    "\n",
    "\n",
    "result:\n",
    "Your runtime beats 12.94 % of python3 submissions.\n",
    "Runtime: 1100 ms\n",
    "Memory Usage: 19.5 MB"
   ]
  },
  {
   "cell_type": "code",
   "execution_count": 63,
   "metadata": {},
   "outputs": [
    {
     "data": {
      "text/plain": [
       "[[3, 3], [-2, 4]]"
      ]
     },
     "execution_count": 63,
     "metadata": {},
     "output_type": "execute_result"
    }
   ],
   "source": [
    "kClosest([[3,3],[5,-1],[-2,4]], K = 2)"
   ]
  },
  {
   "cell_type": "code",
   "execution_count": null,
   "metadata": {},
   "outputs": [],
   "source": [
    "Solution:2\n",
    "    \n",
    "def kClosest(self, points: List[List[int]], K: int) -> List[List[int]]:\n",
    "    distance=[(round(((p[0])**2 + (p[1])**2)**(1/2), 2), p) for p in points]\n",
    "    return [point for dist, point in sorted(distance)[:K]]\n",
    "    \n",
    "    \n",
    "result\n",
    "Your runtime beats 41.52 % of python3 submissions.\n",
    "Runtime: 764 ms\n",
    "Memory Usage: 19.5 MB"
   ]
  }
 ],
 "metadata": {
  "kernelspec": {
   "display_name": "Python 3",
   "language": "python",
   "name": "python3"
  },
  "language_info": {
   "codemirror_mode": {
    "name": "ipython",
    "version": 3
   },
   "file_extension": ".py",
   "mimetype": "text/x-python",
   "name": "python",
   "nbconvert_exporter": "python",
   "pygments_lexer": "ipython3",
   "version": "3.7.4"
  }
 },
 "nbformat": 4,
 "nbformat_minor": 2
}
