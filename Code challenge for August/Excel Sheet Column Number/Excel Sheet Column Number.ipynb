{
 "cells": [
  {
   "cell_type": "code",
   "execution_count": null,
   "metadata": {},
   "outputs": [],
   "source": [
    "Given a column title as appear in an Excel sheet, return its corresponding column number.\n",
    "\n",
    "For example:\n",
    "\n",
    "    A -> 1\n",
    "    B -> 2\n",
    "    C -> 3\n",
    "    ...\n",
    "    Z -> 26\n",
    "    AA -> 27\n",
    "    AB -> 28 \n",
    "    ...\n",
    "\n",
    "Example 1:\n",
    "Input: \"A\"\n",
    "Output: 1\n",
    "\n",
    "Example 2:\n",
    "Input: \"AB\"\n",
    "Output: 28\n",
    "\n",
    "Example 3:\n",
    "Input: \"ZY\"\n",
    "Output: 701\n",
    " \n",
    "\n",
    "Constraints:\n",
    "1 <= s.length <= 7\n",
    "s consists only of uppercase English letters.\n",
    "s is between \"A\" and \"FXSHRXW\"."
   ]
  },
  {
   "cell_type": "code",
   "execution_count": null,
   "metadata": {},
   "outputs": [],
   "source": [
    "class Solution:\n",
    "    def titleToNumber(self, s: str) -> int:\n",
    "        return reduce(lambda a, x: a * 26 + ord(x) - 64, s, 0)\n",
    "        \n",
    "\n",
    "Your runtime beats 59.12 % of python3 submissions.\n",
    "Runtime: 36 ms\n",
    "Memory Usage: 13.9 MB"
   ]
  }
 ],
 "metadata": {
  "kernelspec": {
   "display_name": "Python 3",
   "language": "python",
   "name": "python3"
  },
  "language_info": {
   "codemirror_mode": {
    "name": "ipython",
    "version": 3
   },
   "file_extension": ".py",
   "mimetype": "text/x-python",
   "name": "python",
   "nbconvert_exporter": "python",
   "pygments_lexer": "ipython3",
   "version": "3.7.4"
  }
 },
 "nbformat": 4,
 "nbformat_minor": 2
}
