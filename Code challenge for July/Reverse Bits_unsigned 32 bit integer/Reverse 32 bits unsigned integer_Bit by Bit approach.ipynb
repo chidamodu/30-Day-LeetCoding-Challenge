{
 "cells": [
  {
   "cell_type": "code",
   "execution_count": null,
   "metadata": {},
   "outputs": [],
   "source": [
    "Reverse bits of a given 32 bits unsigned integer.\n",
    "\n",
    "\n",
    "Example 1:\n",
    "Input: 00000010100101000001111010011100\n",
    "Output: 00111001011110000010100101000000\n",
    "Explanation: The input binary string 00000010100101000001111010011100 represents the unsigned integer 43261596, so \n",
    "return 964176192 which its binary representation is 00111001011110000010100101000000.\n",
    "\n",
    "Example 2:\n",
    "Input: 11111111111111111111111111111101\n",
    "Output: 10111111111111111111111111111111\n",
    "Explanation: The input binary string 11111111111111111111111111111101 represents the unsigned integer 4294967293, so \n",
    "return 3221225471 which its binary representation is 10111111111111111111111111111111.\n",
    "\n",
    "Follow up:\n",
    "If this function is called many times, how would you optimize it?"
   ]
  },
  {
   "cell_type": "code",
   "execution_count": null,
   "metadata": {},
   "outputs": [],
   "source": [
    "Approach 1: Bit by Bit\n",
    "\n",
    "Intuition\n",
    "\n",
    "Though the question is not difficult, it often serves as a warm-up question to kick off the interview. The point is to \n",
    "test one's basic knowledge on data type and bit operations.\n",
    "\n",
    "As one of the most intuitive solutions that one could come up during an interview, one could reverse the bits one by \n",
    "one.\n",
    "\n",
    "As easy as it sounds, the above intuition could lead to quite some variants of implementation. For instance, to \n",
    "retrieve the right-most bit in an integer n, one could either apply the modulo operation (i.e. n % 2) or the bit AND \n",
    "operation (i.e. n & 1). Another example would be that in order to combine the results of reversed bits (e.g. \n",
    "\n",
    "2^a, 2^b), one could either use the addition operation (i.e. 2^a + 2^b) or again the bit OR operation (i.e. 2^a ∣ 2^b).\n",
    "\n",
    "Algorithm\n",
    "\n",
    "Here we show on example of implementation based on the above intuition.\n",
    "\n",
    "The key idea is that for a bit that is situated at the index i, after the reversion, its position should be 31-i \n",
    "(note: the index starts from zero).\n",
    "We iterate through the bit string of the input integer, from right to left (i.e. n = n >> 1). To retrieve the \n",
    "right-most bit of an integer, we apply the bit AND operation (n & 1). \n",
    "\n",
    "For each bit, we reverse it to the correct position (i.e. (n & 1) << power). Then we accumulate this reversed bit to \n",
    "the final result. \n",
    "\n",
    "When there is no more bits of one left (i.e. n == 0), we terminate the iteration. "
   ]
  },
  {
   "cell_type": "code",
   "execution_count": null,
   "metadata": {},
   "outputs": [],
   "source": [
    "class Solution:\n",
    "    # @param n, an integer\n",
    "    # @return an integer\n",
    "    def reverseBits(self, n):\n",
    "        ret, power = 0, 31\n",
    "        while n:\n",
    "            ret += (n & 1) << power\n",
    "            n = n >> 1\n",
    "            power -= 1\n",
    "        return ret"
   ]
  },
  {
   "cell_type": "code",
   "execution_count": null,
   "metadata": {},
   "outputs": [],
   "source": [
    "Complexity\n",
    "\n",
    "Time Complexity: \n",
    "O(1). Though we have a loop in the algorithm, the number of iteration is fixed regardless the input, since the \n",
    "integer is of fixed-size (32-bits) in our problem. \n",
    "\n",
    "Space Complexity: \n",
    "O(1), since the consumption of memory is constant regardless the input. \n",
    "\n",
    "\n"
   ]
  }
 ],
 "metadata": {
  "kernelspec": {
   "display_name": "Python 3",
   "language": "python",
   "name": "python3"
  },
  "language_info": {
   "codemirror_mode": {
    "name": "ipython",
    "version": 3
   },
   "file_extension": ".py",
   "mimetype": "text/x-python",
   "name": "python",
   "nbconvert_exporter": "python",
   "pygments_lexer": "ipython3",
   "version": "3.7.4"
  }
 },
 "nbformat": 4,
 "nbformat_minor": 2
}
