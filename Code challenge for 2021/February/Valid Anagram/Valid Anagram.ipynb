{
 "cells": [
  {
   "cell_type": "code",
   "execution_count": null,
   "metadata": {},
   "outputs": [],
   "source": [
    "Given two strings s and t , write a function to determine if t is an anagram of s.\n",
    "\n",
    "Example 1:\n",
    "Input: s = \"anagram\", t = \"nagaram\"\n",
    "Output: true\n",
    "\n",
    "Example 2:\n",
    "Input: s = \"rat\", t = \"car\"\n",
    "Output: false\n",
    "\n",
    "Note:\n",
    "You may assume the string contains only lowercase alphabets.\n",
    "\n",
    "Follow up:\n",
    "What if the inputs contain unicode characters? How would you adapt your solution to such case?"
   ]
  },
  {
   "cell_type": "code",
   "execution_count": 3,
   "metadata": {},
   "outputs": [],
   "source": [
    "Yay, my solution rocks!\n",
    "\n",
    "from collections import Counter\n",
    "def isAnagram(s, t):\n",
    "    c1=Counter(s)\n",
    "    c2=Counter(t)\n",
    "    return c1==c2\n",
    "    \n",
    "    \n",
    "outcome:\n",
    "Your runtime beats 98.27 % of python3 submissions.\n",
    "Runtime: 32 ms\n",
    "Memory Usage: 14.5 MB"
   ]
  },
  {
   "cell_type": "code",
   "execution_count": 4,
   "metadata": {},
   "outputs": [
    {
     "data": {
      "text/plain": [
       "False"
      ]
     },
     "execution_count": 4,
     "metadata": {},
     "output_type": "execute_result"
    }
   ],
   "source": [
    "isAnagram(s = \"rat\", t = \"car\")"
   ]
  },
  {
   "cell_type": "code",
   "execution_count": null,
   "metadata": {},
   "outputs": [],
   "source": [
    "Time complexity is O(n), and space is O(m), where m is size of alphabet we are using."
   ]
  }
 ],
 "metadata": {
  "kernelspec": {
   "display_name": "Python 3",
   "language": "python",
   "name": "python3"
  },
  "language_info": {
   "codemirror_mode": {
    "name": "ipython",
    "version": 3
   },
   "file_extension": ".py",
   "mimetype": "text/x-python",
   "name": "python",
   "nbconvert_exporter": "python",
   "pygments_lexer": "ipython3",
   "version": "3.7.4"
  }
 },
 "nbformat": 4,
 "nbformat_minor": 2
}
