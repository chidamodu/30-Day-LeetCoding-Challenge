{
 "cells": [
  {
   "cell_type": "code",
   "execution_count": null,
   "metadata": {},
   "outputs": [],
   "source": [
    "Given a non-negative index k where k ≤ 33, return the kth index row of the Pascal's triangle.\n",
    "\n",
    "Note that the row index starts from 0.\n",
    "\n",
    "\n",
    "In Pascal's triangle, each number is the sum of the two numbers directly above it.\n",
    "\n",
    "Example:\n",
    "Input: 3\n",
    "Output: [1,3,3,1]\n",
    "\n",
    "Follow up:\n",
    "Could you optimize your algorithm to use only O(k) extra space?"
   ]
  },
  {
   "cell_type": "code",
   "execution_count": 18,
   "metadata": {},
   "outputs": [],
   "source": [
    "def getRow(rowIndex):\n",
    "    result=[1]*(rowIndex+1)\n",
    "    \n",
    "    for i in range(rowIndex):\n",
    "        for j in range(i, 0, -1):\n",
    "            result[j]+=result[j-1]\n",
    "            print(j, result)\n",
    "    return result\n",
    "        \n",
    "        \n",
    "result:\n",
    "Your runtime beats 65.88 % of python3 submissions.\n",
    "Runtime: 32 ms\n",
    "Memory Usage: 13.9 MB"
   ]
  },
  {
   "cell_type": "code",
   "execution_count": 19,
   "metadata": {},
   "outputs": [
    {
     "name": "stdout",
     "output_type": "stream",
     "text": [
      "1 [1, 2, 1, 1]\n",
      "2 [1, 2, 3, 1]\n",
      "1 [1, 3, 3, 1]\n"
     ]
    },
    {
     "data": {
      "text/plain": [
       "[1, 3, 3, 1]"
      ]
     },
     "execution_count": 19,
     "metadata": {},
     "output_type": "execute_result"
    }
   ],
   "source": [
    "getRow(3)"
   ]
  },
  {
   "cell_type": "code",
   "execution_count": 23,
   "metadata": {},
   "outputs": [
    {
     "name": "stdout",
     "output_type": "stream",
     "text": [
      "2\n",
      "1\n"
     ]
    }
   ],
   "source": [
    "for i in range(2, 0, -1):\n",
    "    print(i)"
   ]
  }
 ],
 "metadata": {
  "kernelspec": {
   "display_name": "Python 3",
   "language": "python",
   "name": "python3"
  },
  "language_info": {
   "codemirror_mode": {
    "name": "ipython",
    "version": 3
   },
   "file_extension": ".py",
   "mimetype": "text/x-python",
   "name": "python",
   "nbconvert_exporter": "python",
   "pygments_lexer": "ipython3",
   "version": "3.7.4"
  }
 },
 "nbformat": 4,
 "nbformat_minor": 2
}
