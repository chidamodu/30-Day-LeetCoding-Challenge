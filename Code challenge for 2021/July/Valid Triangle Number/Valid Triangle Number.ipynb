{
 "cells": [
  {
   "cell_type": "code",
   "execution_count": null,
   "metadata": {},
   "outputs": [],
   "source": [
    "Given an integer array nums, return the number of triplets chosen from the array that can make triangles if we take \n",
    "them as side lengths of a triangle.\n",
    "\n",
    "Example 1:\n",
    "Input: nums = [2,2,3,4]\n",
    "Output: 3\n",
    "Explanation: Valid combinations are: \n",
    "2,3,4 (using the first 2)\n",
    "2,3,4 (using the second 2)\n",
    "2,2,3\n",
    "\n",
    "Example 2:\n",
    "Input: nums = [4,2,3,4]\n",
    "Output: 4\n",
    " \n",
    "Constraints:\n",
    "1 <= nums.length <= 1000\n",
    "0 <= nums[i] <= 1000"
   ]
  },
  {
   "cell_type": "code",
   "execution_count": 7,
   "metadata": {},
   "outputs": [],
   "source": [
    "def triangleNumber(nums):\n",
    "    nums=sorted(nums)\n",
    "    result=0\n",
    "    for k in range(2, len(nums)):\n",
    "        start=0\n",
    "        middle=k-1\n",
    "        while start<middle:\n",
    "            if nums[start]+nums[middle]>nums[k]:\n",
    "                result+=middle-start\n",
    "                middle-=1\n",
    "            else:\n",
    "                start+=1\n",
    "    return result\n",
    "                \n",
    "    "
   ]
  },
  {
   "cell_type": "code",
   "execution_count": 8,
   "metadata": {},
   "outputs": [
    {
     "data": {
      "text/plain": [
       "4"
      ]
     },
     "execution_count": 8,
     "metadata": {},
     "output_type": "execute_result"
    }
   ],
   "source": [
    "triangleNumber(nums = [4,2,3,4])"
   ]
  },
  {
   "cell_type": "code",
   "execution_count": null,
   "metadata": {},
   "outputs": [],
   "source": [
    "Complexity\n",
    "\n",
    "Time: O(N^2), where N <= 1000 is number of elements in the array nums.\n",
    "Space: O(logN), logN is the space complexity for sorting.\n"
   ]
  }
 ],
 "metadata": {
  "kernelspec": {
   "display_name": "Python 3",
   "language": "python",
   "name": "python3"
  },
  "language_info": {
   "codemirror_mode": {
    "name": "ipython",
    "version": 3
   },
   "file_extension": ".py",
   "mimetype": "text/x-python",
   "name": "python",
   "nbconvert_exporter": "python",
   "pygments_lexer": "ipython3",
   "version": "3.7.4"
  }
 },
 "nbformat": 4,
 "nbformat_minor": 2
}
