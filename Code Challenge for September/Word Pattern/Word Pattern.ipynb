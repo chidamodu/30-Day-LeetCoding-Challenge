{
 "cells": [
  {
   "cell_type": "code",
   "execution_count": null,
   "metadata": {},
   "outputs": [],
   "source": [
    "Given a pattern and a string str, find if str follows the same pattern.\n",
    "\n",
    "Here follow means a full match, such that there is a bijection between a letter in pattern and a non-empty word in str.\n",
    "\n",
    "Example 1:\n",
    "Input: pattern = \"abba\", str = \"dog cat cat dog\"\n",
    "Output: true\n",
    "\n",
    "Example 2:\n",
    "Input:pattern = \"abba\", str = \"dog cat cat fish\"\n",
    "Output: false\n",
    "\n",
    "Example 3:\n",
    "Input: pattern = \"aaaa\", str = \"dog cat cat dog\"\n",
    "Output: false\n",
    "\n",
    "Example 4:\n",
    "Input: pattern = \"abba\", str = \"dog dog dog dog\"\n",
    "Output: false\n",
    "\n",
    "Notes:\n",
    "You may assume pattern contains only lowercase letters, and str contains lowercase letters that may be separated by a \n",
    "single space."
   ]
  },
  {
   "cell_type": "code",
   "execution_count": 51,
   "metadata": {},
   "outputs": [],
   "source": [
    "def wordPattern(pattern, str):\n",
    "    char_str_map={}\n",
    "    str_char_map={}\n",
    "    words=str.split(\" \")\n",
    "    \n",
    "    element=0\n",
    "    \n",
    "    if len(pattern)!=len(words): return False\n",
    "    \n",
    "    while element < len(pattern):\n",
    "        chars, word=pattern[element], words[element]\n",
    "     \n",
    "        if  (chars in char_str_map) != (word in str_char_map): return False\n",
    "        if chars in char_str_map:\n",
    "            if (str_char_map[word] != chars) or (char_str_map[chars] != word): return False\n",
    "            \n",
    "        else:\n",
    "            char_str_map[chars] = word\n",
    "            str_char_map[word] = chars\n",
    "            \n",
    "        element+=1\n",
    "    \n",
    "    return element==len(pattern)\n",
    "            \n",
    "        \n",
    "\n",
    "Result:\n",
    "    \n",
    "Your runtime beats 59.65 % of python3 submissions.\n",
    "Runtime: 32 ms\n",
    "Memory Usage: 13.8 MB\n"
   ]
  },
  {
   "cell_type": "code",
   "execution_count": 52,
   "metadata": {},
   "outputs": [
    {
     "name": "stdout",
     "output_type": "stream",
     "text": [
      "['dog', 'dog', 'dog', 'dog']\n"
     ]
    },
    {
     "data": {
      "text/plain": [
       "False"
      ]
     },
     "execution_count": 52,
     "metadata": {},
     "output_type": "execute_result"
    }
   ],
   "source": [
    "wordPattern(pattern = \"abba\", str = \"dog dog dog dog\")"
   ]
  }
 ],
 "metadata": {
  "kernelspec": {
   "display_name": "Python 3",
   "language": "python",
   "name": "python3"
  },
  "language_info": {
   "codemirror_mode": {
    "name": "ipython",
    "version": 3
   },
   "file_extension": ".py",
   "mimetype": "text/x-python",
   "name": "python",
   "nbconvert_exporter": "python",
   "pygments_lexer": "ipython3",
   "version": "3.7.4"
  }
 },
 "nbformat": 4,
 "nbformat_minor": 2
}
