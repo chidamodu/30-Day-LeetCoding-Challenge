{
 "cells": [
  {
   "cell_type": "code",
   "execution_count": null,
   "metadata": {},
   "outputs": [],
   "source": [
    "Given inorder and postorder traversal of a tree, construct the binary tree.\n",
    "\n",
    "Note:\n",
    "You may assume that duplicates do not exist in the tree.\n",
    "\n",
    "For example, given\n",
    "\n",
    "inorder = [9,3,15,20,7]\n",
    "postorder = [9,15,7,20,3]\n",
    "\n",
    "Return the following binary tree:\n",
    "\n",
    "    3\n",
    "   / \\\n",
    "  9  20\n",
    "    /  \\\n",
    "   15   7"
   ]
  },
  {
   "cell_type": "code",
   "execution_count": null,
   "metadata": {},
   "outputs": [],
   "source": [
    "# Definition for a binary tree node.\n",
    "# class TreeNode:\n",
    "#     def __init__(self, val=0, left=None, right=None):\n",
    "#         self.val = val\n",
    "#         self.left = left\n",
    "#         self.right = right\n",
    "class Solution:\n",
    "    def buildTree(self, inorder: List[int], postorder: List[int]) -> TreeNode:\n",
    "        if not inorder:\n",
    "            return None  \n",
    "        root_val = postorder[-1]\n",
    "        root = TreeNode(root_val)\n",
    "        ind = inorder.index(root_val)\n",
    "        inorder_left = inorder[:ind]\n",
    "        inorder_right = inorder[ind+1:]\n",
    "        postorder_left = postorder[:ind]\n",
    "        postorder_right = postorder[ind:-1]\n",
    "        root.left = self.buildTree(inorder_left, postorder_left)\n",
    "        root.right = self.buildTree(inorder_right, postorder_right)\n",
    "        return root\n",
    "        \n",
    "\n",
    "\n",
    "\n",
    "\n",
    "result:\n",
    "Your runtime beats 32.24 % of python3 submissions.\n",
    "Runtime: 216 ms\n",
    "Memory Usage: 88.1 MB"
   ]
  }
 ],
 "metadata": {
  "kernelspec": {
   "display_name": "Python 3",
   "language": "python",
   "name": "python3"
  },
  "language_info": {
   "codemirror_mode": {
    "name": "ipython",
    "version": 3
   },
   "file_extension": ".py",
   "mimetype": "text/x-python",
   "name": "python",
   "nbconvert_exporter": "python",
   "pygments_lexer": "ipython3",
   "version": "3.7.4"
  }
 },
 "nbformat": 4,
 "nbformat_minor": 2
}
