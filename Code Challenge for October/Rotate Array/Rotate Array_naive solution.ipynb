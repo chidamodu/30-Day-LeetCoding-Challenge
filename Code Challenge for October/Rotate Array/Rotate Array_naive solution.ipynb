{
 "cells": [
  {
   "cell_type": "code",
   "execution_count": null,
   "metadata": {},
   "outputs": [],
   "source": [
    "Given an array, rotate the array to the right by k steps, where k is non-negative.\n",
    "\n",
    "Follow up:\n",
    "\n",
    "Try to come up as many solutions as you can, there are at least 3 different ways to solve this problem.\n",
    "Could you do it in-place with O(1) extra space?\n",
    " \n",
    "\n",
    "Example 1:\n",
    "Input: nums = [1,2,3,4,5,6,7], k = 3\n",
    "Output: [5,6,7,1,2,3,4]\n",
    "Explanation:\n",
    "rotate 1 steps to the right: [7,1,2,3,4,5,6]\n",
    "rotate 2 steps to the right: [6,7,1,2,3,4,5]\n",
    "rotate 3 steps to the right: [5,6,7,1,2,3,4]\n",
    "\n",
    "Example 2:\n",
    "Input: nums = [-1,-100,3,99], k = 2\n",
    "Output: [3,99,-1,-100]\n",
    "Explanation: \n",
    "rotate 1 steps to the right: [99,-1,-100,3]\n",
    "rotate 2 steps to the right: [3,99,-1,-100]\n",
    " \n",
    "\n",
    "Constraints:\n",
    "1 <= nums.length <= 2 * 104\n",
    "-231 <= nums[i] <= 231 - 1\n",
    "0 <= k <= 105\n",
    "\n",
    "Hint #1  \n",
    "The easiest solution would use additional memory and that is perfectly fine.\n",
    "\n",
    "Hint #2  \n",
    "The actual trick comes when trying to solve this problem without using any additional memory. This means you need to \n",
    "use the original array somehow to move the elements around. Now, we can place each element in its original location \n",
    "and shift all the elements around it to adjust as that would be too costly and most likely will time out on larger \n",
    "input arrays.\n",
    "\n",
    "Hint #3  \n",
    "One line of thought is based on reversing the array (or parts of it) to obtain the desired result. Think about how \n",
    "reversal might potentially help us out by using an example.\n",
    "\n",
    "Hint #4  \n",
    "The other line of thought is a tad bit complicated but essentially it builds on the idea of placing each element in \n",
    "its original position while keeping track of the element originally in that position. Basically, at every step, we \n",
    "place an element in its rightful position and keep track of the element already there or the one being overwritten in \n",
    "an additional variable. We can't do this in one linear pass and the idea here is based on cyclic-dependencies between \n",
    "elements.\n"
   ]
  },
  {
   "cell_type": "code",
   "execution_count": 7,
   "metadata": {},
   "outputs": [],
   "source": [
    "This is a naive solution - my first trial\n",
    "\n",
    "def rotate(nums, k):\n",
    "    N=1\n",
    "    \n",
    "    while N<=k and nums:\n",
    "        temp=nums.pop()\n",
    "        nums.insert(0, temp)\n",
    "      \n",
    "        N+=1\n",
    "        \n",
    "    return nums\n",
    "    \n",
    "result:\n",
    "Your runtime beats 17.02 % of python3 submissions.\n",
    "Runtime: 132 ms\n",
    "Memory Usage: 15.5 MB\n",
    "    \n",
    "Time complexity: O(n×k). All the numbers are shifted by one step (O(n)) k times."
   ]
  },
  {
   "cell_type": "code",
   "execution_count": 8,
   "metadata": {},
   "outputs": [
    {
     "name": "stdout",
     "output_type": "stream",
     "text": [
      "99\n",
      "3\n"
     ]
    },
    {
     "data": {
      "text/plain": [
       "[3, 99, -1, -100]"
      ]
     },
     "execution_count": 8,
     "metadata": {},
     "output_type": "execute_result"
    }
   ],
   "source": [
    "rotate(nums = [-1,-100,3,99], k = 2)"
   ]
  },
  {
   "cell_type": "code",
   "execution_count": 9,
   "metadata": {},
   "outputs": [
    {
     "data": {
      "text/plain": [
       "[99, 3, -100, -1]"
      ]
     },
     "execution_count": 9,
     "metadata": {},
     "output_type": "execute_result"
    }
   ],
   "source": [
    "nums = [-1,-100,3,99]\n",
    "nums[::-1]"
   ]
  },
  {
   "cell_type": "code",
   "execution_count": 27,
   "metadata": {},
   "outputs": [],
   "source": [
    "For some reason this solution is not working on the platform\n",
    "\n",
    "def rotate(nums, k):\n",
    "    N=1\n",
    "\n",
    "    \n",
    "    while N<=k and nums:\n",
    "        nums=[nums[-1]]+nums[:-1]\n",
    " \n",
    "        \n",
    "        N+=1\n",
    "        \n",
    "        \n",
    "    return nums"
   ]
  },
  {
   "cell_type": "code",
   "execution_count": 28,
   "metadata": {},
   "outputs": [
    {
     "data": {
      "text/plain": [
       "[5, 6, 7, 1, 2, 3, 4]"
      ]
     },
     "execution_count": 28,
     "metadata": {},
     "output_type": "execute_result"
    }
   ],
   "source": [
    "rotate(nums = [1,2,3,4,5,6,7], k = 3)"
   ]
  }
 ],
 "metadata": {
  "kernelspec": {
   "display_name": "Python 3",
   "language": "python",
   "name": "python3"
  },
  "language_info": {
   "codemirror_mode": {
    "name": "ipython",
    "version": 3
   },
   "file_extension": ".py",
   "mimetype": "text/x-python",
   "name": "python",
   "nbconvert_exporter": "python",
   "pygments_lexer": "ipython3",
   "version": "3.7.4"
  }
 },
 "nbformat": 4,
 "nbformat_minor": 2
}
