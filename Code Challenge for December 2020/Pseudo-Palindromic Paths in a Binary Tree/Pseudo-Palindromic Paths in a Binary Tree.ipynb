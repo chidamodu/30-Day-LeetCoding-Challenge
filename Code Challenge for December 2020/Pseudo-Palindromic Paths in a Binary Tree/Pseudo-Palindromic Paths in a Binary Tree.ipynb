{
 "cells": [
  {
   "cell_type": "code",
   "execution_count": null,
   "metadata": {},
   "outputs": [],
   "source": [
    "Given a binary tree where node values are digits from 1 to 9. A path in the binary tree is said to be \n",
    "pseudo-palindromic if at least one permutation of the node values in the path is a palindrome.\n",
    "\n",
    "Return the number of pseudo-palindromic paths going from the root node to leaf nodes.\n",
    "\n",
    "\n",
    "Example 1:\n",
    "Input: root = [2,3,1,3,1,null,1]\n",
    "Output: 2 \n",
    "Explanation: The figure above represents the given binary tree. There are three paths going from the root node to \n",
    "leaf nodes: the red path [2,3,3], the green path [2,1,1], and the path [2,3,1]. Among these paths only red path and \n",
    "green path are pseudo-palindromic paths since the red path [2,3,3] can be rearranged in [3,2,3] (palindrome) and the \n",
    "green path [2,1,1] can be rearranged in [1,2,1] (palindrome).\n",
    "\n",
    "Example 2:\n",
    "Input: root = [2,1,1,1,3,null,null,null,null,null,1]\n",
    "Output: 1 \n",
    "Explanation: The figure above represents the given binary tree. There are three paths going from the root node to \n",
    "leaf nodes: the green path [2,1,1], the path [2,1,3,1], and the path [2,1]. Among these paths only the green \n",
    "path is pseudo-palindromic since [2,1,1] can be rearranged in [1,2,1] (palindrome).\n",
    "\n",
    "Example 3:\n",
    "Input: root = [9]\n",
    "Output: 1\n",
    " \n",
    "\n",
    "Constraints:\n",
    "The given binary tree will have between 1 and 10^5 nodes. Node values are digits from 1 to 9.\n",
    "\n",
    "Hint #1  \n",
    "Note that the node values of a path form a palindrome if at most one digit has an odd frequency (parity).\n",
    "\n",
    "Hint #2  \n",
    "Use a Depth First Search (DFS) keeping the frequency (parity) of the digits. Once you are in a leaf node check if \n",
    "at most one digit has an odd frequency (parity).\n",
    "\n"
   ]
  },
  {
   "cell_type": "code",
   "execution_count": 17,
   "metadata": {},
   "outputs": [],
   "source": [
    "path=6\n",
    "node=1"
   ]
  },
  {
   "cell_type": "code",
   "execution_count": 18,
   "metadata": {},
   "outputs": [
    {
     "data": {
      "text/plain": [
       "4"
      ]
     },
     "execution_count": 18,
     "metadata": {},
     "output_type": "execute_result"
    }
   ],
   "source": [
    "path = path ^ (1 << node)\n",
    "path"
   ]
  },
  {
   "cell_type": "code",
   "execution_count": 19,
   "metadata": {},
   "outputs": [
    {
     "data": {
      "text/plain": [
       "0"
      ]
     },
     "execution_count": 19,
     "metadata": {},
     "output_type": "execute_result"
    }
   ],
   "source": [
    "path & (path - 1)"
   ]
  },
  {
   "cell_type": "code",
   "execution_count": null,
   "metadata": {},
   "outputs": [],
   "source": [
    "\n",
    "right_node=1\n",
    "path=4\n",
    "\n",
    "right_node=1\n",
    "path\n",
    "\n"
   ]
  },
  {
   "cell_type": "code",
   "execution_count": null,
   "metadata": {},
   "outputs": [],
   "source": [
    "\n",
    "def fn_name(node):\n",
    "    count_val=0\n",
    "    stack=[(root, 0)]\n",
    "    while stack:\n",
    "        node, path=stack.pop()\n",
    "        path=path^(1 << node.val)\n",
    "        \n",
    "        if node.left==None and node.right==None:#then we have reached a leaf node\n",
    "            if path & (path-1)==0:\n",
    "                count_val+=1\n",
    "                \n",
    "            else:\n",
    "                stack.append((node.right, path))#whether to append node.right or node.left first doesn't matter\n",
    "                stack.append((node.left, path))\n",
    "                \n",
    "                \n",
    "    return count_val\n",
    "                \n",
    "            \n",
    "    \n",
    "\n"
   ]
  },
  {
   "cell_type": "code",
   "execution_count": null,
   "metadata": {},
   "outputs": [],
   "source": [
    "Algorithm: Iterative Preorder Traversal\n",
    "\n",
    "Here we implement standard iterative preorder traversal with the stack:\n",
    "\n",
    "Initialize the counter to zero.\n",
    "\n",
    "Push root into stack.\n",
    "\n",
    "While stack is not empty:\n",
    "\n",
    "Pop out a node from the stack and update the current number.\n",
    "\n",
    "If the node is a leaf, update the root-to-leaf path, check it for being pseudo-palindromic, and update the count.\n",
    "\n",
    "Push right and left child nodes into stack.\n",
    "\n",
    "Return count.\n",
    "\n"
   ]
  },
  {
   "cell_type": "code",
   "execution_count": null,
   "metadata": {},
   "outputs": [],
   "source": [
    "Submission solution\n",
    "\n",
    "\n",
    "# Definition for a binary tree node.\n",
    "# class TreeNode:\n",
    "#     def __init__(self, val=0, left=None, right=None):\n",
    "#         self.val = val\n",
    "#         self.left = left\n",
    "#         self.right = right\n",
    "class Solution:\n",
    "    def pseudoPalindromicPaths (self, root: TreeNode) -> int:\n",
    "        num_pseudopalindrome = 0\n",
    "        \n",
    "        stack = [(root, 0) ]\n",
    "        while stack:\n",
    "            node, path = stack.pop()\n",
    "            if node is not None:\n",
    "                # compute occurences of each digit \n",
    "                # in the corresponding register\n",
    "                path = path ^ (1 << node.val)\n",
    "                # if it's a leaf, check if the path is pseudo-palindromic\n",
    "                if node.left is None and node.right is None:\n",
    "                    # check if at most one digit has an odd frequency\n",
    "                    if path & (path - 1) == 0:\n",
    "                        num_pseudopalindrome += 1\n",
    "                else:\n",
    "                    stack.append((node.right, path))\n",
    "                    stack.append((node.left, path))\n",
    "        \n",
    "        return num_pseudopalindrome\n",
    "        "
   ]
  },
  {
   "cell_type": "code",
   "execution_count": null,
   "metadata": {},
   "outputs": [],
   "source": [
    "Complexity Analysis\n",
    "\n",
    "Time complexity: O(N) since one has to visit each node, where N is a number of nodes.\n",
    "\n",
    "Space complexity: up to O(H) to keep the stack, where H is a tree height."
   ]
  },
  {
   "cell_type": "code",
   "execution_count": null,
   "metadata": {},
   "outputs": [],
   "source": [
    "Trick: use of bitwise operators\n",
    "\n",
    "How to check if the path is pseudo-palindromic or not\n",
    "\n",
    "It's quite evident that the path is pseudo-palindromic, if it has at most one digit with an odd frequency.\n",
    "How to check that?\n",
    "\n",
    "The straightforward way is to save each root-to-leaf path into a list and then to check each digit for parity.\n",
    "\n",
    "def check_palindrom(nums):\n",
    "    is_palindrom = 0\n",
    "\n",
    "    for i in range(1, 10):\n",
    "        if nums.count(i) % 2 == 1:\n",
    "            is_palindrom += 1\n",
    "            if is_palindrom > 1:\n",
    "                return False\n",
    "\n",
    "    return True\n",
    "\n",
    "\n",
    "This method requires to keep each root-to-leaf path, and that becomes space-consuming for the large trees. \n",
    "To save the space, let's compute the parity on-the-fly using bitwise operators.\n",
    "\n",
    "The idea is to keep the frequency of digit 1 in the first bit, 2 in the second bit, etc: path ^= (1 << node.val).\n",
    "\n",
    "Left shift operator is used to define the bit, and XOR operator - to compute the digit frequency.\n",
    "\n"
   ]
  }
 ],
 "metadata": {
  "kernelspec": {
   "display_name": "Python 3",
   "language": "python",
   "name": "python3"
  },
  "language_info": {
   "codemirror_mode": {
    "name": "ipython",
    "version": 3
   },
   "file_extension": ".py",
   "mimetype": "text/x-python",
   "name": "python",
   "nbconvert_exporter": "python",
   "pygments_lexer": "ipython3",
   "version": "3.7.4"
  }
 },
 "nbformat": 4,
 "nbformat_minor": 2
}
