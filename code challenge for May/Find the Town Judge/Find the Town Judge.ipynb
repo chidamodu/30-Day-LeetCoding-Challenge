{
 "cells": [
  {
   "cell_type": "code",
   "execution_count": 28,
   "metadata": {},
   "outputs": [],
   "source": [
    "Did not work\n",
    "\n",
    "def findJudge(N, trust):\n",
    "    from collections import defaultdict\n",
    "    d=defaultdict(list)\n",
    "    ans=0\n",
    "    for i in trust:\n",
    "        d[i[0]].append(i[1])\n",
    "        \n",
    "        \n",
    "    for j in range(1, N):\n",
    "        if j in d:\n",
    "            continue\n",
    "        else:\n",
    "            ans=j\n",
    "    return ans if ans else -1"
   ]
  },
  {
   "cell_type": "code",
   "execution_count": 29,
   "metadata": {},
   "outputs": [
    {
     "data": {
      "text/plain": [
       "3"
      ]
     },
     "execution_count": 29,
     "metadata": {},
     "output_type": "execute_result"
    }
   ],
   "source": [
    "findJudge(4, [[1,3],[1,4],[2,3],[2,4],[4,3]])"
   ]
  },
  {
   "cell_type": "code",
   "execution_count": 66,
   "metadata": {},
   "outputs": [],
   "source": [
    "Did not work for all the test cases - did not incorporate the idea clearly\n",
    "\n",
    "def findJudge(N, trust):\n",
    "    key=set()\n",
    "    values=set()\n",
    "#     from collections import defaultdict\n",
    "#     d=defaultdict(list)\n",
    "#     ans=0\n",
    "    for i in trust:\n",
    "        key.add(i[0])\n",
    "        values.add(i[1])\n",
    "\n",
    "    for j in values:\n",
    "        if j not in key:\n",
    "            return j\n",
    "    return -1\n",
    "            \n",
    "    "
   ]
  },
  {
   "cell_type": "code",
   "execution_count": 60,
   "metadata": {},
   "outputs": [
    {
     "data": {
      "text/plain": [
       "3"
      ]
     },
     "execution_count": 60,
     "metadata": {},
     "output_type": "execute_result"
    }
   ],
   "source": [
    "findJudge(4, [[1,3],[1,4],[2,3],[2,4],[4,3]])"
   ]
  },
  {
   "cell_type": "code",
   "execution_count": null,
   "metadata": {},
   "outputs": [],
   "source": []
  },
  {
   "cell_type": "code",
   "execution_count": 74,
   "metadata": {},
   "outputs": [],
   "source": [
    "Did not work\n",
    "\n",
    "def findJudge(N, trust):\n",
    "    key=set()\n",
    "    values=set()\n",
    "    for i in trust:\n",
    "        key.add(i[0])\n",
    "        values.add(i[1])\n",
    "        \n",
    "\n",
    "    \n",
    "    "
   ]
  },
  {
   "cell_type": "code",
   "execution_count": 75,
   "metadata": {},
   "outputs": [
    {
     "data": {
      "text/plain": [
       "{3}"
      ]
     },
     "execution_count": 75,
     "metadata": {},
     "output_type": "execute_result"
    }
   ],
   "source": [
    "findJudge(3, [[1,2],[2,3]])"
   ]
  },
  {
   "cell_type": "code",
   "execution_count": 88,
   "metadata": {},
   "outputs": [],
   "source": [
    "Trial\n",
    "def findJudge(N, trust):\n",
    "    for p1, p2 in trust:\n",
    "        print(p1)"
   ]
  },
  {
   "cell_type": "code",
   "execution_count": 89,
   "metadata": {},
   "outputs": [
    {
     "name": "stdout",
     "output_type": "stream",
     "text": [
      "1\n",
      "2\n"
     ]
    }
   ],
   "source": [
    "findJudge(3, [[1,2],[2,3]])"
   ]
  },
  {
   "cell_type": "code",
   "execution_count": null,
   "metadata": {},
   "outputs": [],
   "source": [
    "Using defaultdict\n",
    "\n",
    "class Solution:\n",
    "    def findJudge(self, N: int, trust: List[List[int]]) -> int:\n",
    "        from collections import defaultdict\n",
    "        d = defaultdict(int)\n",
    "        if N == 1:\n",
    "            return 1\n",
    "        \n",
    "        for t in trust:\n",
    "            d[t[1]] += 1\n",
    "            d[t[0]] -= 1\n",
    "            \n",
    "        for k, v in d.items():\n",
    "            if v == N - 1:\n",
    "                return k\n",
    "        return -1\n",
    "        \n",
    "\n",
    "\n",
    "\n",
    "\n",
    "Your runtime beats 5.23 % of python3 submissions."
   ]
  },
  {
   "cell_type": "code",
   "execution_count": null,
   "metadata": {},
   "outputs": [],
   "source": [
    "Leetcode Submission\n",
    "\n",
    "class Solution:\n",
    "    def findJudge(self, N: int, trust: List[List[int]]) -> int:\n",
    "        \n",
    "        if N == 1:\n",
    "            # Quick response for small case\n",
    "            return 1\n",
    "        \n",
    "        # first cell is dummy, just for the convenience of indexing start from 1 to N\n",
    "        trust_score = [ 0 for _ in range(N+1) ]\n",
    "        \n",
    "        for p1, p2 in trust:\n",
    "            \n",
    "            # decrease one point from p1 when p1 trusts other people\n",
    "            trust_score[p1] -=1\n",
    "            \n",
    "            # increase one point to p2 when p2 is trusted by others\n",
    "            trust_score[p2] +=1\n",
    "                        \n",
    "        \n",
    "        for person in range(1, N+1):\n",
    "            \n",
    "            # town judge will be trusted by other N-1 people, and town judge trust nobody.\n",
    "            if trust_score[person] == N-1:\n",
    "                return person\n",
    "        \n",
    "        return -1\n",
    "    \n",
    "    \n",
    "Your runtime beats 93.94 % of python3 submissions.\n",
    "Runtime: 764 ms\n",
    "Memory Usage: 18.2 MB"
   ]
  }
 ],
 "metadata": {
  "kernelspec": {
   "display_name": "Python 3",
   "language": "python",
   "name": "python3"
  },
  "language_info": {
   "codemirror_mode": {
    "name": "ipython",
    "version": 3
   },
   "file_extension": ".py",
   "mimetype": "text/x-python",
   "name": "python",
   "nbconvert_exporter": "python",
   "pygments_lexer": "ipython3",
   "version": "3.7.4"
  }
 },
 "nbformat": 4,
 "nbformat_minor": 2
}
