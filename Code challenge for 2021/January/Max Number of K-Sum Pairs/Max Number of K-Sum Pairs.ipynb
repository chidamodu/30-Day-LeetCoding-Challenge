{
 "cells": [
  {
   "cell_type": "code",
   "execution_count": null,
   "metadata": {},
   "outputs": [],
   "source": [
    "You are given an integer array nums and an integer k.\n",
    "\n",
    "In one operation, you can pick two numbers from the array whose sum equals k and remove them from the array.\n",
    "\n",
    "Return the maximum number of operations you can perform on the array.\n",
    "\n",
    "Example 1:\n",
    "Input: nums = [1,2,3,4], k = 5\n",
    "Output: 2\n",
    "Explanation: Starting with nums = [1,2,3,4]:\n",
    "- Remove numbers 1 and 4, then nums = [2,3]\n",
    "- Remove numbers 2 and 3, then nums = []\n",
    "There are no more pairs that sum up to 5, hence a total of 2 operations.\n",
    "\n",
    "Example 2:\n",
    "Input: nums = [3,1,3,4,3], k = 6\n",
    "Output: 1\n",
    "Explanation: Starting with nums = [3,1,3,4,3]:\n",
    "- Remove the first two 3's, then nums = [1,4,3]\n",
    "There are no more pairs that sum up to 6, hence a total of 1 operation.\n",
    " \n",
    "Constraints:\n",
    "1 <= nums.length <= 105\n",
    "1 <= nums[i] <= 109\n",
    "1 <= k <= 109\n",
    "\n",
    "Hint #1  \n",
    "The abstract problem asks to count the number of disjoint pairs with a given sum k.\n",
    "\n",
    "Hint #2  \n",
    "For each possible value x, it can be paired up with k - x.\n",
    "\n",
    "Hint #3  \n",
    "The number of such pairs equals to min(count(x), count(k-x)), unless that x = k / 2, where the number of such pairs \n",
    "will be floor(count(x) / 2).\n"
   ]
  },
  {
   "cell_type": "code",
   "execution_count": 3,
   "metadata": {},
   "outputs": [],
   "source": [
    "from collections import Counter\n",
    "def maxOperations(nums, k):\n",
    "    counter_dict, ans = Counter(nums), 0\n",
    "    for val in counter_dict:\n",
    "        ans += min(counter_dict[val], counter_dict[k - val])\n",
    "    return ans//2\n",
    "\n",
    "outcome:\n",
    "Runtime: 628 ms\n",
    "Memory Usage: 27.4 MB\n",
    "Your runtime beats 96.03 % of python3 submissions."
   ]
  },
  {
   "cell_type": "code",
   "execution_count": 4,
   "metadata": {},
   "outputs": [
    {
     "data": {
      "text/plain": [
       "2"
      ]
     },
     "execution_count": 4,
     "metadata": {},
     "output_type": "execute_result"
    }
   ],
   "source": [
    "maxOperations(nums = [1,2,3,4], k = 5)"
   ]
  },
  {
   "cell_type": "code",
   "execution_count": null,
   "metadata": {},
   "outputs": [],
   "source": [
    "Complexity: time and space complexity is O(n)"
   ]
  }
 ],
 "metadata": {
  "kernelspec": {
   "display_name": "Python 3",
   "language": "python",
   "name": "python3"
  },
  "language_info": {
   "codemirror_mode": {
    "name": "ipython",
    "version": 3
   },
   "file_extension": ".py",
   "mimetype": "text/x-python",
   "name": "python",
   "nbconvert_exporter": "python",
   "pygments_lexer": "ipython3",
   "version": "3.7.4"
  }
 },
 "nbformat": 4,
 "nbformat_minor": 2
}
