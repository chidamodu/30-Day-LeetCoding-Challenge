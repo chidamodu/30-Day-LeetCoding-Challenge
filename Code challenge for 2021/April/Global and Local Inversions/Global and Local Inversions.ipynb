{
 "cells": [
  {
   "cell_type": "markdown",
   "metadata": {},
   "source": [
    "We have some permutation A of [0, 1, ..., N - 1], where N is the length of A.\n",
    "\n",
    "The number of (global) inversions is the number of i < j with 0 <= i < j < N and A[i] > A[j].\n",
    "\n",
    "The number of local inversions is the number of i with 0 <= i < N and A[i] > A[i+1].\n",
    "\n",
    "Return true if and only if the number of global inversions is equal to the number of local inversions.\n",
    "\n",
    "Example 1:\n",
    "Input: A = [1,0,2]\n",
    "Output: true\n",
    "Explanation: There is 1 global inversion, and 1 local inversion.\n",
    "\n",
    "Example 2:\n",
    "Input: A = [1,2,0]\n",
    "Output: false\n",
    "Explanation: There are 2 global inversions, and 1 local inversion.\n",
    "\n",
    "Note:\n",
    "A will be a permutation of [0, 1, ..., A.length - 1].\n",
    "A will have length in range [1, 5000].\n",
    "The time limit for this problem has been reduced.\n",
    "\n",
    "Hint #1  \n",
    "Where can the 0 be placed in an ideal permutation? What about the 1?\n"
   ]
  },
  {
   "cell_type": "code",
   "execution_count": 33,
   "metadata": {},
   "outputs": [],
   "source": [
    "It gives correct answer but received time limit exceeded error and that is one of the constraints for this problem\n",
    "\n",
    "def isIdealPermutation(A):\n",
    "    local_inv=0\n",
    "    global_inv=0\n",
    "    \n",
    "    for i in range(len(A)):\n",
    "        j=1\n",
    "        while j<len(A):\n",
    "            if A[i]>A[j] and i<j:\n",
    "                global_inv+=1\n",
    "            j+=1\n",
    "     \n",
    "    for i in range(len(A)-1):\n",
    "        if A[i]>A[i+1]:\n",
    "            local_inv+=1 \n",
    "            \n",
    "    return local_inv==global_inv\n",
    "                \n",
    "            \n",
    "     \n"
   ]
  },
  {
   "cell_type": "code",
   "execution_count": 34,
   "metadata": {},
   "outputs": [
    {
     "data": {
      "text/plain": [
       "True"
      ]
     },
     "execution_count": 34,
     "metadata": {},
     "output_type": "execute_result"
    }
   ],
   "source": [
    "isIdealPermutation([1,0,2])"
   ]
  },
  {
   "cell_type": "code",
   "execution_count": 39,
   "metadata": {},
   "outputs": [],
   "source": [
    "Submission solution\n",
    "\n",
    "def isIdealPermutation(A):\n",
    "    for i in range(len(A)):\n",
    "        if abs(A[i]-i) > 1: return False\n",
    "    return True\n",
    "        \n",
    "Result:\n",
    "Runtime: 336 ms\n",
    "Memory Usage: 15.2 MB\n",
    "Your runtime beats 71.11 % of python3 submissions.\n",
    "\n",
    "\n",
    "Complexity\n",
    "Time complexity is O(n) as we discussed, space complexity is O(1)."
   ]
  },
  {
   "cell_type": "code",
   "execution_count": 40,
   "metadata": {},
   "outputs": [
    {
     "data": {
      "text/plain": [
       "False"
      ]
     },
     "execution_count": 40,
     "metadata": {},
     "output_type": "execute_result"
    }
   ],
   "source": [
    "isIdealPermutation([1,2,0])"
   ]
  }
 ],
 "metadata": {
  "kernelspec": {
   "display_name": "Python 3",
   "language": "python",
   "name": "python3"
  },
  "language_info": {
   "codemirror_mode": {
    "name": "ipython",
    "version": 3
   },
   "file_extension": ".py",
   "mimetype": "text/x-python",
   "name": "python",
   "nbconvert_exporter": "python",
   "pygments_lexer": "ipython3",
   "version": "3.7.4"
  }
 },
 "nbformat": 4,
 "nbformat_minor": 2
}
