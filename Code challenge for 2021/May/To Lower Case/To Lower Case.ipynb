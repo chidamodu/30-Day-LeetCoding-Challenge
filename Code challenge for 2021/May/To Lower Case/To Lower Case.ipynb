{
 "cells": [
  {
   "cell_type": "code",
   "execution_count": null,
   "metadata": {},
   "outputs": [],
   "source": [
    "Given a string s, return the string after replacing every uppercase letter with the same lowercase letter.\n",
    "\n",
    "Example 1:\n",
    "Input: s = \"Hello\"\n",
    "Output: \"hello\"\n",
    "\n",
    "Example 2:\n",
    "Input: s = \"here\"\n",
    "Output: \"here\"\n",
    "\n",
    "Example 3:\n",
    "Input: s = \"LOVELY\"\n",
    "Output: \"lovely\"\n",
    " \n",
    "\n",
    "Constraints:\n",
    "1 <= s.length <= 100\n",
    "s consists of printable ASCII characters.\n",
    "\n",
    "Hint #1  \n",
    "Most languages support lowercase conversion for a string data type. However, that is certainly not the purpose of the \n",
    "problem. Think about how the implementation of the lowercase function call can be done easily.\n",
    "\n",
    "Hint #2  \n",
    "Think ASCII!\n",
    "\n",
    "Hint #3  \n",
    "Think about the different capital letters and their ASCII codes and how that relates to their lowercase counterparts. \n",
    "Does there seem to be any pattern there? Any mathematical relationship that we can use?\n"
   ]
  },
  {
   "cell_type": "code",
   "execution_count": 3,
   "metadata": {},
   "outputs": [
    {
     "data": {
      "text/plain": [
       "97"
      ]
     },
     "execution_count": 3,
     "metadata": {},
     "output_type": "execute_result"
    }
   ],
   "source": [
    "ord(\"a\")"
   ]
  },
  {
   "cell_type": "code",
   "execution_count": 4,
   "metadata": {},
   "outputs": [
    {
     "data": {
      "text/plain": [
       "122"
      ]
     },
     "execution_count": 4,
     "metadata": {},
     "output_type": "execute_result"
    }
   ],
   "source": [
    "ord(\"z\")"
   ]
  },
  {
   "cell_type": "code",
   "execution_count": 5,
   "metadata": {},
   "outputs": [
    {
     "data": {
      "text/plain": [
       "65"
      ]
     },
     "execution_count": 5,
     "metadata": {},
     "output_type": "execute_result"
    }
   ],
   "source": [
    "ord(\"A\")"
   ]
  },
  {
   "cell_type": "code",
   "execution_count": 6,
   "metadata": {},
   "outputs": [
    {
     "data": {
      "text/plain": [
       "90"
      ]
     },
     "execution_count": 6,
     "metadata": {},
     "output_type": "execute_result"
    }
   ],
   "source": [
    "ord(\"Z\")"
   ]
  },
  {
   "cell_type": "code",
   "execution_count": 7,
   "metadata": {},
   "outputs": [
    {
     "data": {
      "text/plain": [
       "32"
      ]
     },
     "execution_count": 7,
     "metadata": {},
     "output_type": "execute_result"
    }
   ],
   "source": [
    "122-90"
   ]
  },
  {
   "cell_type": "code",
   "execution_count": 8,
   "metadata": {},
   "outputs": [
    {
     "data": {
      "text/plain": [
       "32"
      ]
     },
     "execution_count": 8,
     "metadata": {},
     "output_type": "execute_result"
    }
   ],
   "source": [
    "97-65"
   ]
  },
  {
   "cell_type": "markdown",
   "metadata": {},
   "source": [
    "You see the patterns:\n",
    "\n",
    "ord is bigger for small letters compared to capital letters\n",
    "\n",
    "The difference in ord between the same but small and capital letters, i.e., \"A\" and \"a\" is 32. \n",
    "\n",
    "What does this mean? It means that if you get ord of one of the letters and either add or subtract 32 from it you will get the other letter. Let's use this idea to convert capital letters into small letters.\n"
   ]
  },
  {
   "cell_type": "code",
   "execution_count": 17,
   "metadata": {},
   "outputs": [],
   "source": [
    "Yay, my solution rocks!\n",
    "\n",
    "def toLowerCase(s):\n",
    "    capital={}\n",
    "    result=\"\"\n",
    "    \n",
    "    for letter in range(65, 91):\n",
    "        capital[chr(letter)]=letter\n",
    "        \n",
    "    for i in list(s):\n",
    "        if i in capital:\n",
    "            result+=chr(capital[i]+32)#because I have stored capital letters I needed to add 32 here. for small letters\n",
    "            #I need to subtract 32\n",
    "        else:\n",
    "            result+=i\n",
    "            \n",
    "    return result\n",
    "        \n",
    "        \n",
    "outcome:\n",
    "Your runtime beats 98.04 % of python3 submissions.\n",
    "Runtime: 20 ms\n",
    "Memory Usage: 14.2 MB\n",
    "    \n",
    "    "
   ]
  },
  {
   "cell_type": "code",
   "execution_count": 18,
   "metadata": {},
   "outputs": [
    {
     "data": {
      "text/plain": [
       "'hello'"
      ]
     },
     "execution_count": 18,
     "metadata": {},
     "output_type": "execute_result"
    }
   ],
   "source": [
    "toLowerCase(s = \"Hello\")"
   ]
  },
  {
   "cell_type": "code",
   "execution_count": null,
   "metadata": {},
   "outputs": [],
   "source": [
    "Alternative solution\n",
    "\n",
    "class Solution:\n",
    "    def toLowerCase(self, s):\n",
    "        return \"\".join(chr(ord(i) + 32) if \"A\" <= i <= \"Z\" else i for i in s)"
   ]
  },
  {
   "cell_type": "code",
   "execution_count": null,
   "metadata": {},
   "outputs": [],
   "source": [
    "Time and space complexity is O(n), where n is the length of s."
   ]
  }
 ],
 "metadata": {
  "kernelspec": {
   "display_name": "Python 3",
   "language": "python",
   "name": "python3"
  },
  "language_info": {
   "codemirror_mode": {
    "name": "ipython",
    "version": 3
   },
   "file_extension": ".py",
   "mimetype": "text/x-python",
   "name": "python",
   "nbconvert_exporter": "python",
   "pygments_lexer": "ipython3",
   "version": "3.7.4"
  }
 },
 "nbformat": 4,
 "nbformat_minor": 2
}
