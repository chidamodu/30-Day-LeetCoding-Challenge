{
 "cells": [
  {
   "cell_type": "code",
   "execution_count": null,
   "metadata": {},
   "outputs": [],
   "source": [
    "Given a string s containing just the characters '(', ')', '{', '}', '[' and ']', determine if the input string is \n",
    "valid.\n",
    "\n",
    "An input string is valid if:\n",
    "\n",
    "Open brackets must be closed by the same type of brackets.\n",
    "Open brackets must be closed in the correct order.\n",
    " \n",
    "\n",
    "Example 1:\n",
    "Input: s = \"()\"\n",
    "Output: true\n",
    "\n",
    "Example 2:\n",
    "Input: s = \"()[]{}\"\n",
    "Output: true\n",
    "\n",
    "Example 3:\n",
    "Input: s = \"(]\"\n",
    "Output: false\n",
    "\n",
    "Example 4:\n",
    "Input: s = \"([)]\"\n",
    "Output: false\n",
    "\n",
    "Example 5:\n",
    "Input: s = \"{[]}\"\n",
    "Output: true\n",
    " \n",
    "\n",
    "Constraints:\n",
    "1 <= s.length <= 104\n",
    "s consists of parentheses only '()[]{}'.\n",
    "\n",
    "Hint #1  \n",
    "An interesting property about a valid parenthesis expression is that a sub-expression of a valid expression should \n",
    "also be a valid expression. (Not every sub-expression) e.g.\n",
    "\n",
    "{ { } [ ] [ [ [ ] ] ] } is VALID expression\n",
    "          [ [ [ ] ] ]    is VALID sub-expression\n",
    "  { } [ ]                is VALID sub-expression\n",
    "Can we exploit this recursive structure somehow?\n",
    "\n",
    "\n",
    "Hint #2  \n",
    "What if whenever we encounter a matching pair of parenthesis in the expression, we simply remove it from the \n",
    "expression? This would keep on shortening the expression. e.g.\n",
    "{ { ( { } ) } }\n",
    "      |_|\n",
    "\n",
    "{ { (      ) } }\n",
    "    |______|\n",
    "\n",
    "{ {          } }\n",
    "  |__________|\n",
    "\n",
    "{                }\n",
    "|________________|\n",
    "\n",
    "VALID EXPRESSION!\n",
    "\n",
    "Hint #3  \n",
    "The stack data structure can come in handy here in representing this recursive structure of the problem. \n",
    "We can't really process this from the inside out because we don't have an idea about the overall structure. \n",
    "But, the stack can help us process this recursively i.e. from outside to inwards."
   ]
  },
  {
   "cell_type": "code",
   "execution_count": 58,
   "metadata": {},
   "outputs": [],
   "source": [
    "Trial - but received a time exceeded error for this solution\n",
    "\n",
    "def isValid(s):\n",
    "    d={'[':']','{':'}','(':')'}\n",
    "    stack=[]\n",
    "    \n",
    "    for i in s:\n",
    "        if stack and i in d:\n",
    "            stack.append(i)\n",
    "      \n",
    "        elif stack and d[stack[-1]]==i:\n",
    "            stack.pop()\n",
    "            \n",
    "    return True if len(stack)==0 else False"
   ]
  },
  {
   "cell_type": "code",
   "execution_count": 59,
   "metadata": {},
   "outputs": [
    {
     "data": {
      "text/plain": [
       "True"
      ]
     },
     "execution_count": 59,
     "metadata": {},
     "output_type": "execute_result"
    }
   ],
   "source": [
    "isValid(s = \"()\")"
   ]
  },
  {
   "cell_type": "code",
   "execution_count": 66,
   "metadata": {},
   "outputs": [],
   "source": [
    "def isValid(s):\n",
    "    d={'[':']','{':'}','(':')'}\n",
    "    stack=[]\n",
    "    \n",
    "    for i in s:\n",
    "        if i in d:\n",
    "            stack.append(i)\n",
    "            \n",
    "        elif not stack or d[stack.pop()]!=i:\n",
    "            return False\n",
    "            \n",
    "    return not stack"
   ]
  },
  {
   "cell_type": "code",
   "execution_count": 67,
   "metadata": {},
   "outputs": [
    {
     "data": {
      "text/plain": [
       "False"
      ]
     },
     "execution_count": 67,
     "metadata": {},
     "output_type": "execute_result"
    }
   ],
   "source": [
    "isValid(s = \"()]\")"
   ]
  },
  {
   "cell_type": "code",
   "execution_count": null,
   "metadata": {},
   "outputs": [],
   "source": [
    "Complexity: \n",
    "    time complexity is O(n): we put and pop each element of string from our stack only once. \n",
    "    Space complexity is O(n).\n",
    "        \n",
    "        "
   ]
  }
 ],
 "metadata": {
  "kernelspec": {
   "display_name": "Python 3",
   "language": "python",
   "name": "python3"
  },
  "language_info": {
   "codemirror_mode": {
    "name": "ipython",
    "version": 3
   },
   "file_extension": ".py",
   "mimetype": "text/x-python",
   "name": "python",
   "nbconvert_exporter": "python",
   "pygments_lexer": "ipython3",
   "version": "3.7.4"
  }
 },
 "nbformat": 4,
 "nbformat_minor": 2
}
