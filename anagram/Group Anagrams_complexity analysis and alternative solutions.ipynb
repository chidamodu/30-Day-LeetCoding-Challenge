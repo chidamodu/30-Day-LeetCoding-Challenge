{
 "cells": [
  {
   "cell_type": "code",
   "execution_count": null,
   "metadata": {},
   "outputs": [],
   "source": [
    "My solution without the dictionary lookup while returning the results\n",
    "\n",
    "def groupAnagrams1(s):\n",
    "    from collections import defaultdict\n",
    "    d=defaultdict(list)\n",
    "    for i in s:\n",
    "        sort_i=''.join(sorted(i))\n",
    "        d[sort_i].append(i)\n",
    "        \n",
    "    return d.values()\n",
    "\n",
    "Your runtime beats 16.45 % of python3 submissions."
   ]
  },
  {
   "cell_type": "code",
   "execution_count": null,
   "metadata": {},
   "outputs": [],
   "source": [
    "From the solution part on Leetcode. There was not any runtime available for this solution.\n",
    "\n",
    "class Solution(object):\n",
    "    def groupAnagrams(self, strs):\n",
    "        ans = collections.defaultdict(list)\n",
    "        for s in strs:\n",
    "            ans[tuple(sorted(s))].append(s)#because of unhashable type a list is, adding a tuple here\n",
    "        return ans.values()\n",
    "    \n",
    "Complexity Analysis\n",
    "\n",
    "Time Complexity: \n",
    "\n",
    "O(NKlogK), where N is the length of s, and K is the maximum length of a string in s. The outer loop has \n",
    "complexity O(N) as we iterate through each string. Then, we sort each string in O(KlogK) time.\n",
    "\n",
    "Space Complexity: \n",
    "O(NK), the total information content stored in d. \n",
    "\n"
   ]
  },
  {
   "cell_type": "code",
   "execution_count": null,
   "metadata": {},
   "outputs": [],
   "source": [
    "From answers part on Leetcode: did not understand the solution yet \n",
    "\n",
    "class Solution:\n",
    "    def groupAnagrams(strs):\n",
    "        ans = collections.defaultdict(list)\n",
    "        for s in strs:\n",
    "            count = [0] * 26\n",
    "            for c in s:\n",
    "                count[ord(c) - ord('a')] += 1\n",
    "            ans[tuple(count)].append(s)\n",
    "        return ans.values()\n",
    "    \n",
    "Complexity Analysis\n",
    "\n",
    "Time Complexity: \n",
    "O(NK), where N is the length of strs, and K is the maximum length of a string in strs. Counting each string is linear \n",
    "in the size of the string, and we count every string.\n",
    "\n",
    "Space Complexity: \n",
    "O(NK), the total information content stored in ans."
   ]
  },
  {
   "cell_type": "code",
   "execution_count": 10,
   "metadata": {},
   "outputs": [],
   "source": [
    "def groupAnagrams(strs):\n",
    "    from collections import defaultdict\n",
    "    ans = defaultdict(list)\n",
    "    for s in strs:\n",
    "        ans[tuple(sorted(s))].append(s)\n",
    "    return ans.values()\n",
    "    "
   ]
  },
  {
   "cell_type": "code",
   "execution_count": 11,
   "metadata": {},
   "outputs": [
    {
     "data": {
      "text/plain": [
       "dict_values([['eat', 'tea', 'ate'], ['tan', 'nat'], ['bat']])"
      ]
     },
     "execution_count": 11,
     "metadata": {},
     "output_type": "execute_result"
    }
   ],
   "source": [
    "groupAnagrams([\"eat\", \"tea\", \"tan\", \"ate\", \"nat\", \"bat\"])"
   ]
  }
 ],
 "metadata": {
  "kernelspec": {
   "display_name": "Python 3",
   "language": "python",
   "name": "python3"
  },
  "language_info": {
   "codemirror_mode": {
    "name": "ipython",
    "version": 3
   },
   "file_extension": ".py",
   "mimetype": "text/x-python",
   "name": "python",
   "nbconvert_exporter": "python",
   "pygments_lexer": "ipython3",
   "version": "3.7.4"
  }
 },
 "nbformat": 4,
 "nbformat_minor": 2
}
