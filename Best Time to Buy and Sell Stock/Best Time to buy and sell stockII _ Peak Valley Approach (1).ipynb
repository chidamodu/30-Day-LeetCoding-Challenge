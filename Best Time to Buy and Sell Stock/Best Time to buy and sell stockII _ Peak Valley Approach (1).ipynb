{
 "cells": [
  {
   "cell_type": "code",
   "execution_count": 17,
   "metadata": {},
   "outputs": [],
   "source": [
    "def maxProfit(prices):\n",
    "    i=0\n",
    "    num=len(prices)-1\n",
    "    profit=0\n",
    "    valley=prices[0]\n",
    "    peak=prices[0]\n",
    " \n",
    "    \n",
    "    while i<num:\n",
    "        if prices[i]>=prices[i+1]:\n",
    "            i+=1\n",
    "            valley=prices[i]\n",
    "        else:\n",
    "\n",
    "            peak=prices[i]\n",
    "            \n",
    "            \n",
    "        profit+=peak-valley\n",
    "\n",
    "            \n",
    "    return profit\n",
    "                \n",
    "                "
   ]
  },
  {
   "cell_type": "code",
   "execution_count": 18,
   "metadata": {},
   "outputs": [
    {
     "data": {
      "text/plain": [
       "14"
      ]
     },
     "execution_count": 18,
     "metadata": {},
     "output_type": "execute_result"
    }
   ],
   "source": [
    "maxProfit([7,6,4,3,1])"
   ]
  },
  {
   "cell_type": "code",
   "execution_count": 23,
   "metadata": {},
   "outputs": [],
   "source": [
    "def maxProfit(prices):\n",
    "    i=0\n",
    "    num=len(prices)-1\n",
    "    profit=0\n",
    "    valley=prices[0]\n",
    "    peak=prices[0]\n",
    " \n",
    "    \n",
    "    while i<num:\n",
    "        while (i < num and prices[i] >= prices[i + 1]):\n",
    "            i+=1\n",
    "        valley = prices[i]\n",
    "        while (i < num and prices[i] <= prices[i + 1]):\n",
    "            i+=1\n",
    "        peak = prices[i]\n",
    "        profit += peak - valley\n",
    "        \n",
    "    return profit\n",
    "    "
   ]
  },
  {
   "cell_type": "code",
   "execution_count": 24,
   "metadata": {},
   "outputs": [
    {
     "data": {
      "text/plain": [
       "4"
      ]
     },
     "execution_count": 24,
     "metadata": {},
     "output_type": "execute_result"
    }
   ],
   "source": [
    "maxProfit([1,2,3,4,5])"
   ]
  }
 ],
 "metadata": {
  "kernelspec": {
   "display_name": "Python 3",
   "language": "python",
   "name": "python3"
  },
  "language_info": {
   "codemirror_mode": {
    "name": "ipython",
    "version": 3
   },
   "file_extension": ".py",
   "mimetype": "text/x-python",
   "name": "python",
   "nbconvert_exporter": "python",
   "pygments_lexer": "ipython3",
   "version": "3.7.4"
  }
 },
 "nbformat": 4,
 "nbformat_minor": 2
}
