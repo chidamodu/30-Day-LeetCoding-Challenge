{
 "cells": [
  {
   "cell_type": "code",
   "execution_count": null,
   "metadata": {},
   "outputs": [],
   "source": [
    "There are some spherical balloons spread in two-dimensional space. For each balloon, provided input is the start and \n",
    "end coordinates of the horizontal diameter. Since it's horizontal, y-coordinates don't matter, and hence the \n",
    "x-coordinates of start and end of the diameter suffice. The start is always smaller than the end.\n",
    "\n",
    "An arrow can be shot up exactly vertically from different points along the x-axis. A balloon with xstart and xend \n",
    "bursts by an arrow shot at x if xstart ≤ x ≤ xend. There is no limit to the number of arrows that can be shot. \n",
    "An arrow once shot keeps traveling up infinitely.\n",
    "\n",
    "Given an array points where points[i] = [xstart, xend], return the minimum number of arrows that must be shot to \n",
    "burst all balloons.\n",
    "\n",
    "--------------------------------------------------------------------------------------------------------------------------------------- \n",
    "\n",
    "Example 1:\n",
    "\n",
    "Input: points = [[10,16],[2,8],[1,6],[7,12]]\n",
    "\n",
    "Output: 2\n",
    "\n",
    "Explanation: One way is to shoot one arrow for example at x = 6 (bursting the balloons [2,8] and [1,6]) and another \n",
    "arrow at x = 11 (bursting the other two balloons).\n",
    "\n",
    "---------------------------------------------------------------------------------------------------------------------------------------\n",
    "\n",
    "Example 2:\n",
    "\n",
    "Input: points = [[1,2],[3,4],[5,6],[7,8]]\n",
    "\n",
    "Output: 4\n",
    "    \n",
    "---------------------------------------------------------------------------------------------------------------------------------------    \n",
    "\n",
    "Example 3:\n",
    "\n",
    "Input: points = [[1,2],[2,3],[3,4],[4,5]]\n",
    "\n",
    "Output: 2\n",
    "    \n",
    "---------------------------------------------------------------------------------------------------------------------------------------\n",
    "\n",
    "Example 4:\n",
    "\n",
    "Input: points = [[1,2]]\n",
    "Output: 1\n",
    "    \n",
    "---------------------------------------------------------------------------------------------------------------------------------------\n",
    "\n",
    "Example 5:\n",
    "\n",
    "Input: points = [[2,3],[2,3]]\n",
    "\n",
    "Output: 1\n",
    " \n",
    "--------------------------------------------------------------------------------------------------------------------------------------\n",
    "\n",
    "Constraints:\n",
    "\n",
    "0 <= points.length <= 104\n",
    "\n",
    "points.length == 2\n",
    "\n",
    "-231 <= xstart < xend <= 231 - 1\n"
   ]
  },
  {
   "cell_type": "code",
   "execution_count": 43,
   "metadata": {},
   "outputs": [],
   "source": [
    "Trial - not a bad try\n",
    "\n",
    "def findMinArrowShots(points):\n",
    "    result=[]\n",
    "    for i in range(len(points)-1):\n",
    "        if (points[i][1]>=points[i+1][0]) and (points[i][1] <= points[i+1][1]):\n",
    "            print(\"yes\")\n",
    "            result.append(points[i]),\n",
    "            \n",
    "    return result\n",
    "            "
   ]
  },
  {
   "cell_type": "code",
   "execution_count": 44,
   "metadata": {},
   "outputs": [
    {
     "name": "stdout",
     "output_type": "stream",
     "text": [
      "yes\n",
      "yes\n",
      "yes\n"
     ]
    },
    {
     "data": {
      "text/plain": [
       "[[1, 2], [2, 3], [3, 4]]"
      ]
     },
     "execution_count": 44,
     "metadata": {},
     "output_type": "execute_result"
    }
   ],
   "source": [
    "findMinArrowShots([[1,2],[2,3],[3,4],[4,5]])"
   ]
  },
  {
   "cell_type": "code",
   "execution_count": 47,
   "metadata": {},
   "outputs": [
    {
     "data": {
      "text/plain": [
       "True"
      ]
     },
     "execution_count": 47,
     "metadata": {},
     "output_type": "execute_result"
    }
   ],
   "source": [
    "10 > float('-inf')"
   ]
  },
  {
   "cell_type": "code",
   "execution_count": null,
   "metadata": {},
   "outputs": [],
   "source": [
    "[[10,16],[2,8],[1,6],[7,12]]\n",
    "\n"
   ]
  },
  {
   "cell_type": "code",
   "execution_count": 70,
   "metadata": {},
   "outputs": [],
   "source": [
    "def findMinArrowShots(points):\n",
    "    num_arrows=0\n",
    "    end=float('-inf')\n",
    "    sorted_points=sorted(points, key=lambda i: i[1])\n",
    "    \n",
    "    for i in sorted_points:\n",
    "        if i[0]>end:\n",
    "            num_arrows+=1\n",
    "            end=i[1]\n",
    "        \n",
    "    return num_arrows\n",
    "     \n",
    "result:\n",
    "Your runtime beats 96.26 % of python3 submissions.\n",
    "Runtime: 400 ms\n",
    "Memory Usage: 19.3 MB"
   ]
  },
  {
   "cell_type": "code",
   "execution_count": 71,
   "metadata": {},
   "outputs": [
    {
     "data": {
      "text/plain": [
       "1"
      ]
     },
     "execution_count": 71,
     "metadata": {},
     "output_type": "execute_result"
    }
   ],
   "source": [
    "findMinArrowShots([[2,3],[2,3]])"
   ]
  }
 ],
 "metadata": {
  "kernelspec": {
   "display_name": "Python 3",
   "language": "python",
   "name": "python3"
  },
  "language_info": {
   "codemirror_mode": {
    "name": "ipython",
    "version": 3
   },
   "file_extension": ".py",
   "mimetype": "text/x-python",
   "name": "python",
   "nbconvert_exporter": "python",
   "pygments_lexer": "ipython3",
   "version": "3.7.4"
  }
 },
 "nbformat": 4,
 "nbformat_minor": 2
}
