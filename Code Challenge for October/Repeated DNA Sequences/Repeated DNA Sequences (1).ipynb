{
 "cells": [
  {
   "cell_type": "code",
   "execution_count": null,
   "metadata": {},
   "outputs": [],
   "source": [
    "Repeated DNA Sequences\n",
    "All DNA is composed of a series of nucleotides abbreviated as 'A', 'C', 'G', and 'T', for example: \"ACGAATTCCG\". When \n",
    "studying DNA, it is sometimes useful to identify repeated sequences within the DNA.\n",
    "\n",
    "Write a function to find all the 10-letter-long sequences (substrings) that occur more than once in a DNA molecule.\n",
    "\n",
    " \n",
    "Example 1:\n",
    "Input: s = \"AAAAACCCCCAAAAACCCCCCAAAAAGGGTTT\"\n",
    "Output: [\"AAAAACCCCC\",\"CCCCCAAAAA\"]\n",
    "\n",
    "Example 2:\n",
    "Input: s = \"AAAAAAAAAAAAA\"\n",
    "Output: [\"AAAAAAAAAA\"]\n",
    " \n",
    "\n",
    "Constraints:\n",
    "0 <= s.length <= 105\n",
    "s[i] is 'A', 'C', 'G', or 'T'."
   ]
  },
  {
   "cell_type": "code",
   "execution_count": 26,
   "metadata": {},
   "outputs": [],
   "source": [
    "Trial - obviously did not work!\n",
    "\n",
    "def findRepeatedDnaSequences(s):\n",
    "    d={}\n",
    "    print(len(s))\n",
    "    \n",
    "    for i in range(len(s)):\n",
    "        print(s[i:i+10])\n",
    "        if len(s[i:i+10])>10:\n",
    "            d[s[i:i+10]]=d.get(s[i:i+10], 0)+1\n",
    "        \n",
    "    \n",
    "    return d\n",
    "        "
   ]
  },
  {
   "cell_type": "code",
   "execution_count": 27,
   "metadata": {},
   "outputs": [
    {
     "name": "stdout",
     "output_type": "stream",
     "text": [
      "32\n",
      "AAAAACCCCC\n",
      "AAAACCCCCA\n",
      "AAACCCCCAA\n",
      "AACCCCCAAA\n",
      "ACCCCCAAAA\n",
      "CCCCCAAAAA\n",
      "CCCCAAAAAC\n",
      "CCCAAAAACC\n",
      "CCAAAAACCC\n",
      "CAAAAACCCC\n",
      "AAAAACCCCC\n",
      "AAAACCCCCC\n",
      "AAACCCCCCA\n",
      "AACCCCCCAA\n",
      "ACCCCCCAAA\n",
      "CCCCCCAAAA\n",
      "CCCCCAAAAA\n",
      "CCCCAAAAAG\n",
      "CCCAAAAAGG\n",
      "CCAAAAAGGG\n",
      "CAAAAAGGGT\n",
      "AAAAAGGGTT\n",
      "AAAAGGGTTT\n",
      "AAAGGGTTT\n",
      "AAGGGTTT\n",
      "AGGGTTT\n",
      "GGGTTT\n",
      "GGTTT\n",
      "GTTT\n",
      "TTT\n",
      "TT\n",
      "T\n"
     ]
    },
    {
     "data": {
      "text/plain": [
       "{}"
      ]
     },
     "execution_count": 27,
     "metadata": {},
     "output_type": "execute_result"
    }
   ],
   "source": [
    "findRepeatedDnaSequences(\"AAAAACCCCCAAAAACCCCCCAAAAAGGGTTT\")"
   ]
  },
  {
   "cell_type": "code",
   "execution_count": 23,
   "metadata": {},
   "outputs": [
    {
     "data": {
      "text/plain": [
       "3"
      ]
     },
     "execution_count": 23,
     "metadata": {},
     "output_type": "execute_result"
    }
   ],
   "source": [
    "32//10"
   ]
  },
  {
   "cell_type": "code",
   "execution_count": 36,
   "metadata": {},
   "outputs": [],
   "source": [
    "Yay, my solution!\n",
    "\n",
    "def findRepeatedDnaSequences(s):\n",
    "    d={}\n",
    "    start=0    \n",
    "    while len(s[start:start+10]) >= 10:\n",
    "        d[s[start:start+10]]=d.get(s[start:start+10], 0)+1        \n",
    "        start+=1   \n",
    "    return [k for k, v in d.items() if v>1]\n",
    "        \n",
    "result:\n",
    "Your runtime beats 33.38 % of python3 submissions.\n",
    "Runtime: 80 ms\n",
    "Memory Usage: 27.8 MB"
   ]
  },
  {
   "cell_type": "code",
   "execution_count": 37,
   "metadata": {},
   "outputs": [
    {
     "data": {
      "text/plain": [
       "['AAAAAAAAAA']"
      ]
     },
     "execution_count": 37,
     "metadata": {},
     "output_type": "execute_result"
    }
   ],
   "source": [
    "findRepeatedDnaSequences(s = \"AAAAAAAAAAAAA\")"
   ]
  }
 ],
 "metadata": {
  "kernelspec": {
   "display_name": "Python 3",
   "language": "python",
   "name": "python3"
  },
  "language_info": {
   "codemirror_mode": {
    "name": "ipython",
    "version": 3
   },
   "file_extension": ".py",
   "mimetype": "text/x-python",
   "name": "python",
   "nbconvert_exporter": "python",
   "pygments_lexer": "ipython3",
   "version": "3.7.4"
  }
 },
 "nbformat": 4,
 "nbformat_minor": 2
}
