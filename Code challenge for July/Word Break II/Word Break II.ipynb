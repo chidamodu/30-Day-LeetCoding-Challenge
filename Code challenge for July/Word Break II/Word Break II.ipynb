{
 "cells": [
  {
   "cell_type": "code",
   "execution_count": null,
   "metadata": {},
   "outputs": [],
   "source": [
    "Given a non-empty string s and a dictionary wordDict containing a list of non-empty words, add spaces in s to \n",
    "construct a sentence where each word is a valid dictionary word. Return all such possible sentences.\n",
    "\n",
    "Note:\n",
    "The same word in the dictionary may be reused multiple times in the segmentation.\n",
    "You may assume the dictionary does not contain duplicate words.\n",
    "\n",
    "Example 1:\n",
    "Input:\n",
    "s = \"catsanddog\"\n",
    "wordDict = [\"cat\", \"cats\", \"and\", \"sand\", \"dog\"]\n",
    "Output:\n",
    "[\n",
    "  \"cats and dog\",\n",
    "  \"cat sand dog\"\n",
    "]\n",
    "\n",
    "Example 2:\n",
    "Input:\n",
    "s = \"pineapplepenapple\"\n",
    "wordDict = [\"apple\", \"pen\", \"applepen\", \"pine\", \"pineapple\"]\n",
    "Output:\n",
    "[\n",
    "  \"pine apple pen apple\",\n",
    "  \"pineapple pen apple\",\n",
    "  \"pine applepen apple\"\n",
    "]\n",
    "Explanation: Note that you are allowed to reuse a dictionary word.\n",
    "\n",
    "Example 3:\n",
    "Input:\n",
    "s = \"catsandog\"\n",
    "wordDict = [\"cats\", \"dog\", \"sand\", \"and\", \"cat\"]\n",
    "Output:\n",
    "[]"
   ]
  },
  {
   "cell_type": "code",
   "execution_count": null,
   "metadata": {},
   "outputs": [],
   "source": [
    "class Solution:\n",
    "    def wordBreak(self, s: str, wordDict: List[str]) -> List[str]:\n",
    "        dp = defaultdict(list)\n",
    "        \n",
    "        def sub_fn(start: int) -> List[str]:\n",
    "            if start not in dp:\n",
    "                for w in wordDict:\n",
    "                    if start + len(w) <= len(s) and w == s[start:start+len(w)]:\n",
    "                        if start + len(w) == len(s):\n",
    "\t\t\t\t\t\t\t# Case 1: No need to go deeper because we are at the end of s\n",
    "                            dp[start].append(w)\n",
    "                        else:\n",
    "\t\t\t\t\t\t\t# Case 2: Keep searching deeper\n",
    "                            for suffix in sub_fn(start + len(w)):\n",
    "                                dp[start].append(w + \" \" + suffix)\n",
    "            return dp[start]\n",
    "        \n",
    "        return sub_fn(0)\n",
    "\n",
    "result:\n",
    "Runtime: 84 ms\n",
    "Memory Usage: 14.1 MB\n",
    "Your runtime beats 21.84 % of python3 submissions."
   ]
  }
 ],
 "metadata": {
  "kernelspec": {
   "display_name": "Python 3",
   "language": "python",
   "name": "python3"
  },
  "language_info": {
   "codemirror_mode": {
    "name": "ipython",
    "version": 3
   },
   "file_extension": ".py",
   "mimetype": "text/x-python",
   "name": "python",
   "nbconvert_exporter": "python",
   "pygments_lexer": "ipython3",
   "version": "3.7.4"
  }
 },
 "nbformat": 4,
 "nbformat_minor": 2
}
