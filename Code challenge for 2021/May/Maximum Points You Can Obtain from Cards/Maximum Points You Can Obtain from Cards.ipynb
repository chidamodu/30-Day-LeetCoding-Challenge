{
 "cells": [
  {
   "cell_type": "code",
   "execution_count": null,
   "metadata": {},
   "outputs": [],
   "source": [
    "There are several cards arranged in a row, and each card has an associated number of points The points are given in \n",
    "the integer array cardPoints.\n",
    "\n",
    "In one step, you can take one card from the beginning or from the end of the row. You have to take exactly k cards.\n",
    "\n",
    "Your score is the sum of the points of the cards you have taken.\n",
    "\n",
    "Given the integer array cardPoints and the integer k, return the maximum score you can obtain.\n",
    "\n",
    "Example 1:\n",
    "Input: cardPoints = [1,2,3,4,5,6,1], k = 3\n",
    "Output: 12\n",
    "Explanation: After the first step, your score will always be 1. However, choosing the rightmost card first will \n",
    "maximize your total score. The optimal strategy is to take the three cards on the right, giving a final score of \n",
    "1 + 6 + 5 = 12.\n",
    "\n",
    "Example 2:\n",
    "Input: cardPoints = [2,2,2], k = 2\n",
    "Output: 4\n",
    "Explanation: Regardless of which two cards you take, your score will always be 4.\n",
    "\n",
    "Example 3:\n",
    "Input: cardPoints = [9,7,7,9,7,7,9], k = 7\n",
    "Output: 55\n",
    "Explanation: You have to take all the cards. Your score is the sum of points of all cards.\n",
    "\n",
    "Example 4:\n",
    "Input: cardPoints = [1,1000,1], k = 1\n",
    "Output: 1\n",
    "Explanation: You cannot take the card in the middle. Your best score is 1. \n",
    "\n",
    "Example 5:\n",
    "Input: cardPoints = [1,79,80,1,1,1,200,1], k = 3\n",
    "Output: 202\n",
    " \n",
    "\n",
    "Constraints:\n",
    "1 <= cardPoints.length <= 10^5\n",
    "1 <= cardPoints[i] <= 10^4\n",
    "1 <= k <= cardPoints.length\n",
    "\n",
    "Hint #1  \n",
    "Let the sum of all points be total_pts. You need to remove a sub-array from cardPoints with length n - k.\n",
    "\n",
    "Hint #2  \n",
    "Keep a window of size n - k over the array. The answer is max(answer, total_pts - sumOfCurrentWindow)\n"
   ]
  },
  {
   "cell_type": "code",
   "execution_count": 4,
   "metadata": {},
   "outputs": [],
   "source": [
    "Submission solution\n",
    "\n",
    "def maxScore(cardPoints, k):\n",
    "    total_sum=sum(cardPoints)\n",
    "    n=len(cardPoints)\n",
    "    result=current_window=sum(cardPoints[:n-k])\n",
    "    for i in range(n-k, n):\n",
    "        current_window = current_window - cardPoints[i-n+k] + cardPoints[i]\n",
    "        result=min(result, current_window)\n",
    "    return total_sum-result\n",
    "    \n",
    "    \n",
    "    "
   ]
  },
  {
   "cell_type": "code",
   "execution_count": 5,
   "metadata": {},
   "outputs": [
    {
     "data": {
      "text/plain": [
       "12"
      ]
     },
     "execution_count": 5,
     "metadata": {},
     "output_type": "execute_result"
    }
   ],
   "source": [
    "maxScore(cardPoints = [1,2,3,4,5,6,1], k = 3)"
   ]
  }
 ],
 "metadata": {
  "kernelspec": {
   "display_name": "Python 3",
   "language": "python",
   "name": "python3"
  },
  "language_info": {
   "codemirror_mode": {
    "name": "ipython",
    "version": 3
   },
   "file_extension": ".py",
   "mimetype": "text/x-python",
   "name": "python",
   "nbconvert_exporter": "python",
   "pygments_lexer": "ipython3",
   "version": "3.7.4"
  }
 },
 "nbformat": 4,
 "nbformat_minor": 2
}
