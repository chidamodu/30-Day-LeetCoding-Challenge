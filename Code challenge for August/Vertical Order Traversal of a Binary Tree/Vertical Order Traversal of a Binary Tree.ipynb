{
 "cells": [
  {
   "cell_type": "code",
   "execution_count": null,
   "metadata": {},
   "outputs": [],
   "source": [
    "Given a binary tree, return the vertical order traversal of its nodes values.\n",
    "\n",
    "For each node at position (X, Y), its left and right children respectively will be at positions (X-1, Y-1) and \n",
    "(X+1, Y-1).\n",
    "\n",
    "Running a vertical line from X = -infinity to X = +infinity, whenever the vertical line touches some nodes, we report \n",
    "the values of the nodes in order from top to bottom (decreasing Y coordinates).\n",
    "\n",
    "If two nodes have the same position, then the value of the node that is reported first is the value that is smaller.\n",
    "\n",
    "Return an list of non-empty reports in order of X coordinate.  Every report will have a list of values of nodes.\n",
    "\n",
    "example 1:\n",
    "Input: [3,9,20,null,null,15,7]\n",
    "Output: [[9],[3,15],[20],[7]]\n",
    "Explanation: \n",
    "Without loss of generality, we can assume the root node is at position (0, 0):\n",
    "Then, the node with value 9 occurs at position (-1, -1);\n",
    "The nodes with values 3 and 15 occur at positions (0, 0) and (0, -2);\n",
    "The node with value 20 occurs at position (1, -1);\n",
    "The node with value 7 occurs at position (2, -2).\n",
    "\n",
    "example 2:\n",
    "Input: [1,2,3,4,5,6,7]\n",
    "Output: [[4],[2],[1,5,6],[3],[7]]\n",
    "Explanation: \n",
    "The node with value 5 and the node with value 6 have the same position according to the given scheme.\n",
    "However, in the report \"[1,5,6]\", the node value of 5 comes first since 5 is smaller than 6.\n",
    " \n",
    "\n",
    "Note:\n",
    "The tree will have between 1 and 1000 nodes.\n",
    "Each node's value will be between 0 and 1000."
   ]
  },
  {
   "cell_type": "code",
   "execution_count": null,
   "metadata": {},
   "outputs": [],
   "source": [
    "# Definition for a binary tree node.\n",
    "# class TreeNode:\n",
    "#     def __init__(self, val=0, left=None, right=None):\n",
    "#         self.val = val\n",
    "#         self.left = left\n",
    "#         self.right = right\n",
    "class Solution:\n",
    "    def verticalTraversal(self, root: TreeNode) -> List[List[int]]:\n",
    "        d = collections.defaultdict(list)\n",
    "        def depth_search(node,x=0,y=0):\n",
    "            if not node:return None\n",
    "            d[x].append([y,node.val])\n",
    "            depth_search(node.left  ,x-1,y+1)\n",
    "            depth_search(node.right ,x+1,y+1)\n",
    "        \n",
    "        depth_search(root)\n",
    "        result = []\n",
    "        items = list(d.items())\n",
    "        items.sort()\n",
    "        for k,v in items:\n",
    "            v.sort()\n",
    "            ele = [x[1] for x in v]\n",
    "            result.append(ele)\n",
    "        return result\n",
    "        \n",
    "\n",
    "\n",
    "\n",
    "\n",
    "result:\n",
    "Your runtime beats 69.75 % of python3 submissions.\n",
    "Runtime: 36 ms\n",
    "Memory Usage: 14 MB"
   ]
  }
 ],
 "metadata": {
  "kernelspec": {
   "display_name": "Python 3",
   "language": "python",
   "name": "python3"
  },
  "language_info": {
   "codemirror_mode": {
    "name": "ipython",
    "version": 3
   },
   "file_extension": ".py",
   "mimetype": "text/x-python",
   "name": "python",
   "nbconvert_exporter": "python",
   "pygments_lexer": "ipython3",
   "version": "3.7.4"
  }
 },
 "nbformat": 4,
 "nbformat_minor": 2
}
