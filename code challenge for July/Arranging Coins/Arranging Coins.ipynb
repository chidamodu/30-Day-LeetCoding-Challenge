{
 "cells": [
  {
   "cell_type": "code",
   "execution_count": null,
   "metadata": {},
   "outputs": [],
   "source": [
    "You have a total of n coins that you want to form in a staircase shape, where every k-th row must have exactly k coins.\n",
    "\n",
    "Given n, find the total number of full staircase rows that can be formed.\n",
    "\n",
    "n is a non-negative integer and fits within the range of a 32-bit signed integer.\n",
    "\n",
    "Example 1:\n",
    "n = 5\n",
    "\n",
    "The coins can form the following rows:\n",
    "¤\n",
    "¤ ¤\n",
    "¤ ¤\n",
    "Because the 3rd row is incomplete, we return 2.\n",
    "\n",
    "\n",
    "Example 2:\n",
    "n = 8\n",
    "\n",
    "The coins can form the following rows:\n",
    "¤\n",
    "¤ ¤\n",
    "¤ ¤ ¤\n",
    "¤ ¤\n",
    "Because the 4th row is incomplete, we return 3."
   ]
  },
  {
   "cell_type": "code",
   "execution_count": 12,
   "metadata": {},
   "outputs": [],
   "source": [
    "def arrangeCoins(n):\n",
    "    steps=n\n",
    "    rows=0\n",
    "    for i in range(1, n+1):\n",
    "        if steps>=i:\n",
    "            steps-=i\n",
    "            rows+=1     \n",
    "        else:\n",
    "            break\n",
    "    return rows\n",
    "            \n",
    "result:\n",
    "Your runtime beats 31.90 % of python3 submissions.\n",
    "Runtime: 1076 ms\n",
    "Memory Usage: 13.7 MB"
   ]
  },
  {
   "cell_type": "code",
   "execution_count": 13,
   "metadata": {},
   "outputs": [
    {
     "data": {
      "text/plain": [
       "2"
      ]
     },
     "execution_count": 13,
     "metadata": {},
     "output_type": "execute_result"
    }
   ],
   "source": [
    "arrangeCoins(5)\n"
   ]
  },
  {
   "cell_type": "code",
   "execution_count": null,
   "metadata": {},
   "outputs": [],
   "source": [
    "Approach 2: Math\n",
    "\n",
    "If we look deeper into the formula of the problem, we could actually solve it with the help of mathematics, \n",
    "without using any iteration.\n",
    "\n",
    "As a reminder, the constraint of the problem can be expressed as follows:\n",
    "k(k+1)≤2N\n",
    "\n",
    "This could be solved by completing the square technique,\n",
    "\n",
    "SQRT(k+(1/2)) - (1/4) ≤ 2N\n",
    "\n",
    "that results in the following answer:\n",
    "\n",
    "k=[SQRT(2N+(1/4)) - (1/2)]"
   ]
  },
  {
   "cell_type": "code",
   "execution_count": 18,
   "metadata": {},
   "outputs": [],
   "source": [
    "#solving mathematically\n",
    "\n",
    "def arrangeCoins(n):\n",
    "    return int((((2*n)+0.25)**(0.5))-0.5)\n",
    "\n",
    "result:\n",
    "Your runtime beats 95.33 % of python3 submissions.\n",
    "Runtime: 28 ms\n",
    "Memory Usage: 13.7 MB\n",
    "    \n",
    "Complexity Analysis\n",
    "\n",
    "Time complexity : O(1)\n",
    "\n",
    "Space complexity : O(1)\n"
   ]
  },
  {
   "cell_type": "code",
   "execution_count": 19,
   "metadata": {},
   "outputs": [
    {
     "data": {
      "text/plain": [
       "3"
      ]
     },
     "execution_count": 19,
     "metadata": {},
     "output_type": "execute_result"
    }
   ],
   "source": [
    "arrangeCoins(8)"
   ]
  },
  {
   "cell_type": "code",
   "execution_count": 32,
   "metadata": {},
   "outputs": [],
   "source": [
    "#using binary search algorithm\n",
    "\n",
    "def arrangeCoins(n):\n",
    "    left=0\n",
    "    right=n\n",
    "    \n",
    "    while left <= right:\n",
    "        k=(left+right)//2\n",
    "        \n",
    "        curr=(k*(k+1))//2\n",
    "        \n",
    "        if curr==n:\n",
    "            return k\n",
    "        \n",
    "        elif curr>n:\n",
    "            right=k-1\n",
    "            \n",
    "        else:\n",
    "            left=k+1\n",
    "            \n",
    "    return right\n",
    "\n",
    "result:\n",
    "Your runtime beats 86.95 % of python3 submissions.\n",
    "Runtime: 32 ms\n",
    "Memory Usage: 13.8 MB\n",
    "    \n",
    "Complexity Analysis\n",
    "\n",
    "Time complexity : O(logN)\n",
    "\n",
    "Space complexity : O(1) \n"
   ]
  },
  {
   "cell_type": "code",
   "execution_count": 33,
   "metadata": {},
   "outputs": [
    {
     "data": {
      "text/plain": [
       "3"
      ]
     },
     "execution_count": 33,
     "metadata": {},
     "output_type": "execute_result"
    }
   ],
   "source": [
    "arrangeCoins(8)"
   ]
  }
 ],
 "metadata": {
  "kernelspec": {
   "display_name": "Python 3",
   "language": "python",
   "name": "python3"
  },
  "language_info": {
   "codemirror_mode": {
    "name": "ipython",
    "version": 3
   },
   "file_extension": ".py",
   "mimetype": "text/x-python",
   "name": "python",
   "nbconvert_exporter": "python",
   "pygments_lexer": "ipython3",
   "version": "3.7.4"
  }
 },
 "nbformat": 4,
 "nbformat_minor": 2
}
