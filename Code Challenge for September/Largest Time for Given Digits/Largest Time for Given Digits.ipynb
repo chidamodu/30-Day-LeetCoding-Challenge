{
 "cells": [
  {
   "cell_type": "code",
   "execution_count": null,
   "metadata": {},
   "outputs": [],
   "source": [
    "Largest Time for Given Digits\n",
    "Given an array of 4 digits, return the largest 24 hour time that can be made.\n",
    "\n",
    "The smallest 24 hour time is 00:00, and the largest is 23:59.  Starting from 00:00, a time is larger if more time has \n",
    "elapsed since midnight.\n",
    "\n",
    "Return the answer as a string of length 5.  If no valid time can be made, return an empty string.\n",
    "\n",
    "Example 1:\n",
    "Input: [1,2,3,4]\n",
    "Output: \"23:41\"\n",
    "\n",
    "Example 2:\n",
    "Input: [5,5,5,5]\n",
    "Output: \"\"\n",
    " \n",
    "\n",
    "Note:\n",
    "A.length == 4\n",
    "0 <= A[i] <= 9"
   ]
  },
  {
   "cell_type": "code",
   "execution_count": 38,
   "metadata": {},
   "outputs": [],
   "source": [
    "def largestTimeFromDigits(A):\n",
    "    result=\"\"\n",
    "    for i in range(0, 4):\n",
    "        for j in range(0, 4):\n",
    "            for k in range(0,4):\n",
    "                \n",
    "                if i==j or j==k or k==i:\n",
    "                    continue\n",
    "                \n",
    "                hh=str(A[i])+str(A[j])\n",
    "                mm=str(A[k])+str(A[6-i-j-k])\n",
    "                time=hh+\":\"+mm\n",
    "                \n",
    "                if hh<\"24\" and mm<\"60\" and time>result:\n",
    "                    result=time\n",
    "                    \n",
    "    return result"
   ]
  },
  {
   "cell_type": "code",
   "execution_count": 39,
   "metadata": {},
   "outputs": [
    {
     "data": {
      "text/plain": [
       "'23:59'"
      ]
     },
     "execution_count": 39,
     "metadata": {},
     "output_type": "execute_result"
    }
   ],
   "source": [
    "largestTimeFromDigits([3,5,2,9])"
   ]
  },
  {
   "cell_type": "code",
   "execution_count": 1,
   "metadata": {},
   "outputs": [
    {
     "data": {
      "text/plain": [
       "False"
      ]
     },
     "execution_count": 1,
     "metadata": {},
     "output_type": "execute_result"
    }
   ],
   "source": [
    "\"24:44\">\"55:55\""
   ]
  },
  {
   "cell_type": "code",
   "execution_count": null,
   "metadata": {},
   "outputs": [],
   "source": [
    "Leetcode submission\n",
    "\n",
    "class Solution:\n",
    "    def largestTimeFromDigits(self, A: List[int]) -> str:\n",
    "        result=\"\"\n",
    "        for i in range(0, 4):\n",
    "            for j in range(0, 4):\n",
    "                for k in range(0,4):\n",
    "                    if i==j or j==k or k==i:\n",
    "                        continue\n",
    "                \n",
    "                    hh=str(A[i])+str(A[j])\n",
    "                    mm=str(A[k])+str(A[6-i-j-k])\n",
    "                    time=hh+\":\"+mm\n",
    "                \n",
    "                    if hh<\"24\" and mm<\"60\" and time>result:\n",
    "                        result=time\n",
    "                    \n",
    "        return result\n",
    "        \n",
    "output:\n",
    "Your runtime beats 37.47 % of python3 submissions.\n",
    "Runtime: 44 ms\n",
    "Memory Usage: 13.6 MB"
   ]
  }
 ],
 "metadata": {
  "kernelspec": {
   "display_name": "Python 3",
   "language": "python",
   "name": "python3"
  },
  "language_info": {
   "codemirror_mode": {
    "name": "ipython",
    "version": 3
   },
   "file_extension": ".py",
   "mimetype": "text/x-python",
   "name": "python",
   "nbconvert_exporter": "python",
   "pygments_lexer": "ipython3",
   "version": "3.7.4"
  }
 },
 "nbformat": 4,
 "nbformat_minor": 2
}
