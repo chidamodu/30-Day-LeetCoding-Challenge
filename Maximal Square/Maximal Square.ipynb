{
 "cells": [
  {
   "cell_type": "code",
   "execution_count": null,
   "metadata": {},
   "outputs": [],
   "source": [
    "Maximal Square\n",
    "Given a 2D binary matrix filled with 0s and 1s, find the largest square containing only 1s and return its area.\n",
    "\n",
    "Example:\n",
    "\n",
    "Input: \n",
    "\n",
    "1 0 1 0 0\n",
    "1 0 1 1 1\n",
    "1 1 1 1 1\n",
    "1 0 0 1 0\n",
    "\n",
    "Output: 4"
   ]
  },
  {
   "cell_type": "code",
   "execution_count": 52,
   "metadata": {},
   "outputs": [],
   "source": [
    "Leetcode submission\n",
    "\n",
    "Input is given as list of lists containing strings and the output is expected in integer format\n",
    "\n",
    "def maximalSquare(matrix):\n",
    "    length=len(matrix)\n",
    "    if length==0:\n",
    "        return 0\n",
    "    \n",
    "    n=len(matrix[0])\n",
    "    h=0\n",
    "    \n",
    "    answer_matrix=[[0]*(n+1) for _ in range(length+1)]\n",
    "    \n",
    "    for i in range(1, length+1):\n",
    "        for j in range(1, n+1):\n",
    "            if matrix[i-1][j-1]==\"1\":\n",
    "                answer_matrix[i][j]=min(answer_matrix[i-1][j], answer_matrix[i][j-1], answer_matrix[i-1][j-1])+1\n",
    "                h=max(h, answer_matrix[i][j])\n",
    "                \n",
    "    \n",
    "    return h**2\n",
    "    \n",
    "    "
   ]
  },
  {
   "cell_type": "code",
   "execution_count": 53,
   "metadata": {},
   "outputs": [
    {
     "data": {
      "text/plain": [
       "4"
      ]
     },
     "execution_count": 53,
     "metadata": {},
     "output_type": "execute_result"
    }
   ],
   "source": [
    "maximalSquare([[\"1\",\"0\",\"1\",\"0\",\"0\"],[\"1\",\"0\",\"1\",\"1\",\"1\"],[\"1\",\"1\",\"1\",\"1\",\"1\"],[\"1\",\"0\",\"0\",\"1\",\"0\"]])"
   ]
  }
 ],
 "metadata": {
  "kernelspec": {
   "display_name": "Python 3",
   "language": "python",
   "name": "python3"
  },
  "language_info": {
   "codemirror_mode": {
    "name": "ipython",
    "version": 3
   },
   "file_extension": ".py",
   "mimetype": "text/x-python",
   "name": "python",
   "nbconvert_exporter": "python",
   "pygments_lexer": "ipython3",
   "version": "3.7.4"
  }
 },
 "nbformat": 4,
 "nbformat_minor": 2
}
