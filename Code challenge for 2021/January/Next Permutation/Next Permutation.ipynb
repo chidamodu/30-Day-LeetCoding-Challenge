{
 "cells": [
  {
   "cell_type": "code",
   "execution_count": null,
   "metadata": {},
   "outputs": [],
   "source": [
    "Implement next permutation, which rearranges numbers into the lexicographically next greater permutation of numbers.\n",
    "\n",
    "If such an arrangement is not possible, it must rearrange it as the lowest possible order \n",
    "(i.e., sorted in ascending order).\n",
    "\n",
    "The replacement must be in place and use only constant extra memory.\n",
    "\n",
    "\n",
    "Example 1:\n",
    "Input: nums = [1,2,3]\n",
    "Output: [1,3,2]\n",
    "\n",
    "Example 2:\n",
    "Input: nums = [3,2,1]\n",
    "Output: [1,2,3]\n",
    "\n",
    "Example 3:\n",
    "Input: nums = [1,1,5]\n",
    "Output: [1,5,1]\n",
    "\n",
    "Example 4:\n",
    "Input: nums = [1]\n",
    "Output: [1]\n",
    " \n",
    "Constraints:\n",
    "1 <= nums.length <= 100\n",
    "0 <= nums[i] <= 100\n"
   ]
  },
  {
   "cell_type": "code",
   "execution_count": 13,
   "metadata": {},
   "outputs": [],
   "source": [
    "def nextPermutation(nums):\n",
    "    leng=len(nums)\n",
    "    \n",
    "    if leng<=2:\n",
    "        return nums.reverse()\n",
    "    pointer=leng-2\n",
    "    \n",
    "    while pointer>=0 and nums[pointer]>=nums[pointer+1]:\n",
    "        pointer-=1\n",
    "        \n",
    "    if pointer==-1:\n",
    "        return nums.reverse()\n",
    "    \n",
    "    for x in range(leng-1, pointer, -1):\n",
    "        if nums[pointer]<nums[x]:\n",
    "            nums[pointer], nums[x]=nums[x], nums[pointer]\n",
    "            break\n",
    "            \n",
    "    nums[pointer+1:]=reversed(nums[pointer+1:])"
   ]
  },
  {
   "cell_type": "code",
   "execution_count": 14,
   "metadata": {},
   "outputs": [],
   "source": [
    "nextPermutation(nums = [1,2,3])"
   ]
  },
  {
   "cell_type": "code",
   "execution_count": null,
   "metadata": {},
   "outputs": [],
   "source": [
    "Complexity Analysis\n",
    "\n",
    "Time complexity : \n",
    "O(n). In worst case, only two scans of the whole array are needed.\n",
    "\n",
    "Space complexity : \n",
    "O(1). No extra space is used. In place replacements are done."
   ]
  }
 ],
 "metadata": {
  "kernelspec": {
   "display_name": "Python 3",
   "language": "python",
   "name": "python3"
  },
  "language_info": {
   "codemirror_mode": {
    "name": "ipython",
    "version": 3
   },
   "file_extension": ".py",
   "mimetype": "text/x-python",
   "name": "python",
   "nbconvert_exporter": "python",
   "pygments_lexer": "ipython3",
   "version": "3.7.4"
  }
 },
 "nbformat": 4,
 "nbformat_minor": 2
}
