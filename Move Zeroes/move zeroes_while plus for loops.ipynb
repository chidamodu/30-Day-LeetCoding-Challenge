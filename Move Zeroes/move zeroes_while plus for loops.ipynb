{
 "cells": [
  {
   "cell_type": "code",
   "execution_count": 14,
   "metadata": {},
   "outputs": [],
   "source": [
    "Another solution using while and for loops\n",
    "\n",
    "def moveZeroes(nums):\n",
    "    p=0 \n",
    "    for i in range(len(nums)):\n",
    "        if nums[i]!=0:\n",
    "            nums[p]=nums[i]\n",
    "            p+=1\n",
    "            \n",
    "    while p<len(nums):\n",
    "        nums[p]=0\n",
    "        p+=1\n",
    "                \n",
    "            \n",
    "    return nums\n",
    "\n",
    "Your runtime beats 52.65 % of python3 submissions."
   ]
  },
  {
   "cell_type": "code",
   "execution_count": 15,
   "metadata": {},
   "outputs": [
    {
     "data": {
      "text/plain": [
       "[1, 3, 12, 0, 0]"
      ]
     },
     "execution_count": 15,
     "metadata": {},
     "output_type": "execute_result"
    }
   ],
   "source": [
    "moveZeroes([0,1,0,3,12])"
   ]
  }
 ],
 "metadata": {
  "kernelspec": {
   "display_name": "Python 3",
   "language": "python",
   "name": "python3"
  },
  "language_info": {
   "codemirror_mode": {
    "name": "ipython",
    "version": 3
   },
   "file_extension": ".py",
   "mimetype": "text/x-python",
   "name": "python",
   "nbconvert_exporter": "python",
   "pygments_lexer": "ipython3",
   "version": "3.7.4"
  }
 },
 "nbformat": 4,
 "nbformat_minor": 2
}
