{
 "cells": [
  {
   "cell_type": "code",
   "execution_count": 1,
   "metadata": {},
   "outputs": [],
   "source": [
    "The following functions represent the problem:\n",
    "    \n",
    "You are given an array of distinct integers arr and an array of integer arrays pieces, where the integers in pieces \n",
    "are distinct. Your goal is to form arr by concatenating the arrays in pieces in any order. However, you are not \n",
    "allowed to reorder the integers in each array pieces[i].\n",
    "\n",
    "Return true if it is possible to form the array arr from pieces. Otherwise, return false.\n",
    "\n",
    "\n",
    "Example 1:\n",
    "Input: arr = [85], pieces = [[85]]\n",
    "Output: true\n",
    "\n",
    "Example 2:\n",
    "Input: arr = [15,88], pieces = [[88],[15]]\n",
    "Output: true\n",
    "Explanation: Concatenate [15] then [88]\n",
    "\n",
    "Example 3:\n",
    "Input: arr = [49,18,16], pieces = [[16,18,49]]\n",
    "Output: false\n",
    "Explanation: Even though the numbers match, we cannot reorder pieces[0].\n",
    "\n",
    "Example 4:\n",
    "Input: arr = [91,4,64,78], pieces = [[78],[4,64],[91]]\n",
    "Output: true\n",
    "Explanation: Concatenate [91] then [4,64] then [78]\n",
    "\n",
    "Example 5:\n",
    "Input: arr = [1,3,5,7], pieces = [[2,4,6,8]]\n",
    "Output: false\n",
    " \n",
    "\n",
    "Constraints:\n",
    "1 <= pieces.length <= arr.length <= 100\n",
    "sum(pieces[i].length) == arr.length\n",
    "1 <= pieces[i].length <= arr.length\n",
    "1 <= arr[i], pieces[i][j] <= 100\n",
    "The integers in arr are distinct.\n",
    "The integers in pieces are distinct (i.e., If we flatten pieces in a 1D array, all the integers in this array are \n",
    "                                     distinct).\n",
    "Hint #1  \n",
    "Note that the distinct part means that every position in the array belongs to only one piece\n",
    "\n",
    "Hint #2  \n",
    "Note that you can get the piece every position belongs to naively\n"
   ]
  },
  {
   "cell_type": "code",
   "execution_count": 21,
   "metadata": {},
   "outputs": [],
   "source": [
    "def canFormArray(arr, pieces):\n",
    "    d={val[0]:val for val in pieces}\n",
    "    return d"
   ]
  },
  {
   "cell_type": "code",
   "execution_count": 22,
   "metadata": {},
   "outputs": [
    {
     "data": {
      "text/plain": [
       "{78: [78], 4: [4, 64], 91: [91]}"
      ]
     },
     "execution_count": 22,
     "metadata": {},
     "output_type": "execute_result"
    }
   ],
   "source": [
    "canFormArray(arr = [91,4,64,78], pieces = [[78],[4,64],[91]])"
   ]
  },
  {
   "cell_type": "code",
   "execution_count": 9,
   "metadata": {},
   "outputs": [],
   "source": [
    "from itertools import chain\n",
    "\n",
    "def canFormArray(arr, pieces):\n",
    "    d = {x[0]: x for x in pieces}\n",
    "    return [d.get(num, []) for num in arr]\n",
    "\n",
    "\n",
    "    "
   ]
  },
  {
   "cell_type": "code",
   "execution_count": 10,
   "metadata": {},
   "outputs": [
    {
     "data": {
      "text/plain": [
       "[[91], [4, 64], [], [78]]"
      ]
     },
     "execution_count": 10,
     "metadata": {},
     "output_type": "execute_result"
    }
   ],
   "source": [
    "canFormArray(arr = [91,4,64,78], pieces = [[78],[4,64],[91]])"
   ]
  },
  {
   "cell_type": "code",
   "execution_count": 11,
   "metadata": {},
   "outputs": [],
   "source": [
    "The above is why we could use the chain command. But the Chain command returns a memory location so we use list \n",
    "explicitly to access the outcome of the command\n",
    "\n",
    "\n",
    "def canFormArray(arr, pieces):\n",
    "    d = {x[0]: x for x in pieces}\n",
    "    return list(chain(*[d.get(num, []) for num in arr]))\n"
   ]
  },
  {
   "cell_type": "code",
   "execution_count": 12,
   "metadata": {},
   "outputs": [
    {
     "data": {
      "text/plain": [
       "[91, 4, 64, 78]"
      ]
     },
     "execution_count": 12,
     "metadata": {},
     "output_type": "execute_result"
    }
   ],
   "source": [
    "canFormArray(arr = [91,4,64,78], pieces = [[78],[4,64],[91]])"
   ]
  },
  {
   "cell_type": "code",
   "execution_count": null,
   "metadata": {},
   "outputs": [],
   "source": [
    "chain() function\n",
    "\n",
    "It is a function that takes a series of iterables and returns one iterable. It groups all the iterables together and \n",
    "produces a single iterable as output. Its output cannot be used directly and thus explicitly converted into iterables.\n",
    "\n"
   ]
  },
  {
   "cell_type": "code",
   "execution_count": 17,
   "metadata": {},
   "outputs": [],
   "source": [
    "def canFormArray(arr, pieces):\n",
    "    d = {x[0]: x for x in pieces}\n",
    "    return list(chain(*[d.get(num, []) for num in arr]))"
   ]
  },
  {
   "cell_type": "code",
   "execution_count": 18,
   "metadata": {},
   "outputs": [
    {
     "name": "stdout",
     "output_type": "stream",
     "text": [
      "2.53 µs ± 215 ns per loop (mean ± std. dev. of 7 runs, 100000 loops each)\n"
     ]
    }
   ],
   "source": [
    "%timeit canFormArray(arr = [91,4,64,78], pieces = [[78],[4,64],[91]])"
   ]
  },
  {
   "cell_type": "code",
   "execution_count": 19,
   "metadata": {},
   "outputs": [],
   "source": [
    "def canFormArray1(arr, pieces):\n",
    "    d={}\n",
    "    result=[]\n",
    "    \n",
    "    for val in pieces:\n",
    "        d[val[0]]=val\n",
    "        \n",
    "    for item in arr:\n",
    "        if item in d:#brilliant idea\n",
    "            result.extend(d[item])\n",
    "    return result==arr\n",
    "        "
   ]
  },
  {
   "cell_type": "code",
   "execution_count": 20,
   "metadata": {},
   "outputs": [
    {
     "name": "stdout",
     "output_type": "stream",
     "text": [
      "1.69 µs ± 216 ns per loop (mean ± std. dev. of 7 runs, 1000000 loops each)\n"
     ]
    }
   ],
   "source": [
    "%timeit canFormArray1(arr = [91,4,64,78], pieces = [[78],[4,64],[91]])"
   ]
  }
 ],
 "metadata": {
  "kernelspec": {
   "display_name": "Python 3",
   "language": "python",
   "name": "python3"
  },
  "language_info": {
   "codemirror_mode": {
    "name": "ipython",
    "version": 3
   },
   "file_extension": ".py",
   "mimetype": "text/x-python",
   "name": "python",
   "nbconvert_exporter": "python",
   "pygments_lexer": "ipython3",
   "version": "3.7.4"
  }
 },
 "nbformat": 4,
 "nbformat_minor": 2
}
