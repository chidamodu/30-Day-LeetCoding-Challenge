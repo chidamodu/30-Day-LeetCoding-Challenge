{
 "cells": [
  {
   "cell_type": "code",
   "execution_count": null,
   "metadata": {},
   "outputs": [],
   "source": [
    "Given a string s, remove duplicate letters so that every letter appears once and only once. You must make sure your \n",
    "result is the smallest in lexicographical order among all possible results.\n",
    "\n",
    "Note: This question is the same as 1081: https://leetcode.com/problems/smallest-subsequence-of-distinct-characters/\n",
    "\n",
    "Example 1:\n",
    "Input: s = \"bcabc\"\n",
    "Output: \"abc\"\n",
    "\n",
    "    \n",
    "Example 2:\n",
    "Input: s = \"cbacdcbc\"\n",
    "Output: \"acdb\"\n",
    " \n",
    "\n",
    "Constraints:\n",
    "1 <= s.length <= 104\n",
    "s consists of lowercase English letters.\n",
    "\n",
    "Hint #1  \n",
    "Greedily try to add one missing character. How to check if adding some character will not cause problems ? \n",
    "Use bit-masks to check whether you will be able to complete the sub-sequence if you add the character at some index i.\n"
   ]
  },
  {
   "cell_type": "code",
   "execution_count": 27,
   "metadata": {},
   "outputs": [],
   "source": [
    "Trial and obviously the problem is not simple; dah!\n",
    "\n",
    "def removeDuplicateLetters(s):\n",
    "    result=[]\n",
    "    for i in s:\n",
    "        if i not in result:\n",
    "            result.append(i)\n",
    "            \n",
    "    return \"\"result\n",
    "            "
   ]
  },
  {
   "cell_type": "code",
   "execution_count": 28,
   "metadata": {},
   "outputs": [
    {
     "data": {
      "text/plain": [
       "['c', 'b', 'a', 'd']"
      ]
     },
     "execution_count": 28,
     "metadata": {},
     "output_type": "execute_result"
    }
   ],
   "source": [
    "removeDuplicateLetters(\"cbacdcbc\")"
   ]
  },
  {
   "cell_type": "code",
   "execution_count": 31,
   "metadata": {},
   "outputs": [],
   "source": [
    "Trial\n",
    "\n",
    "from collections import defaultdict\n",
    "def removeDuplicateLetters(s):\n",
    "    d=defaultdict(list)\n",
    "    \n",
    "    for k, v in enumerate(s):\n",
    "        d[v].append(k)\n",
    "\n",
    "    \n",
    "    for i, j in d.items():\n",
    "        d[i]=j[-1]\n",
    "    \n",
    "    return d\n",
    "        "
   ]
  },
  {
   "cell_type": "code",
   "execution_count": 32,
   "metadata": {},
   "outputs": [
    {
     "data": {
      "text/plain": [
       "defaultdict(list, {'c': 7, 'b': 6, 'a': 2, 'd': 4})"
      ]
     },
     "execution_count": 32,
     "metadata": {},
     "output_type": "execute_result"
    }
   ],
   "source": [
    "removeDuplicateLetters(\"cbacdcbc\")"
   ]
  },
  {
   "cell_type": "code",
   "execution_count": 38,
   "metadata": {},
   "outputs": [],
   "source": [
    "Trial\n",
    "\n",
    "def removeDuplicateLetters(s):\n",
    "    result=[]\n",
    "    \n",
    "    for i in s:\n",
    "        if result and i not in result and result[-1]>i:\n",
    "            result.pop()\n",
    "            result.append(i)\n",
    "            \n",
    "        else:\n",
    "            result.append(i)\n",
    "            \n",
    "    return result\n",
    "            "
   ]
  },
  {
   "cell_type": "code",
   "execution_count": 39,
   "metadata": {},
   "outputs": [
    {
     "data": {
      "text/plain": [
       "['a', 'c', 'd', 'b', 'c']"
      ]
     },
     "execution_count": 39,
     "metadata": {},
     "output_type": "execute_result"
    }
   ],
   "source": [
    "removeDuplicateLetters(\"cbacdcbc\")"
   ]
  },
  {
   "cell_type": "code",
   "execution_count": 35,
   "metadata": {},
   "outputs": [
    {
     "data": {
      "text/plain": [
       "90"
      ]
     },
     "execution_count": 35,
     "metadata": {},
     "output_type": "execute_result"
    }
   ],
   "source": [
    "result=[90]\n",
    "result[-1]"
   ]
  },
  {
   "cell_type": "code",
   "execution_count": 63,
   "metadata": {},
   "outputs": [],
   "source": [
    "def removeDuplicateLetters(s):\n",
    "    result=[]\n",
    "    \n",
    "    \n",
    "    d={value:index for index, value in enumerate(s)}\n",
    "    \n",
    "    \n",
    "    for ind, val in enumerate(s):\n",
    "        if val not in result:\n",
    "            while result and (ind < d[result[-1]]) and (result[-1]>val):\n",
    "                result.pop()\n",
    "            \n",
    "            result.append(val)\n",
    "        \n",
    "\n",
    "    return \"\".join(result)\n",
    "\n",
    "output:\n",
    "Your runtime beats 96.94 % of python3 submissions.\n",
    "Runtime: 28 ms\n",
    "Memory Usage: 14 MB"
   ]
  },
  {
   "cell_type": "code",
   "execution_count": 64,
   "metadata": {},
   "outputs": [
    {
     "data": {
      "text/plain": [
       "'acdb'"
      ]
     },
     "execution_count": 64,
     "metadata": {},
     "output_type": "execute_result"
    }
   ],
   "source": [
    "removeDuplicateLetters(\"cbacdcbc\")"
   ]
  }
 ],
 "metadata": {
  "kernelspec": {
   "display_name": "Python 3",
   "language": "python",
   "name": "python3"
  },
  "language_info": {
   "codemirror_mode": {
    "name": "ipython",
    "version": 3
   },
   "file_extension": ".py",
   "mimetype": "text/x-python",
   "name": "python",
   "nbconvert_exporter": "python",
   "pygments_lexer": "ipython3",
   "version": "3.7.4"
  }
 },
 "nbformat": 4,
 "nbformat_minor": 2
}
