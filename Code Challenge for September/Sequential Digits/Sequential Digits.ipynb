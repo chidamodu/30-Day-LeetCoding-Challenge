{
 "cells": [
  {
   "cell_type": "code",
   "execution_count": null,
   "metadata": {},
   "outputs": [],
   "source": [
    "An integer has sequential digits if and only if each digit in the number is one more than the previous digit.\n",
    "\n",
    "Return a sorted list of all the integers in the range [low, high] inclusive that have sequential digits.\n",
    "\n",
    " \n",
    "\n",
    "Example 1:\n",
    "Input: low = 100, high = 300\n",
    "Output: [123,234]\n",
    "\n",
    "Example 2:\n",
    "Input: low = 1000, high = 13000\n",
    "Output: [1234,2345,3456,4567,5678,6789,12345]\n",
    " \n",
    "\n",
    "Constraints:\n",
    "10 <= low <= high <= 10^9"
   ]
  },
  {
   "cell_type": "code",
   "execution_count": 35,
   "metadata": {},
   "outputs": [],
   "source": [
    "def sequentialDigits(low, high):\n",
    "    digits='123456789'\n",
    "    result=[]\n",
    "    low_length=len(str(low))\n",
    "    high_length=len(str(high))\n",
    " \n",
    "    \n",
    "    for i in range(low_length, high_length+1):\n",
    "        for j in range(0, 10-i):\n",
    "            num=digits[j: j+i]\n",
    "            if int(num)>=low and int(num)<=high:\n",
    "                result.append(num)\n",
    "            j+=1\n",
    "        \n",
    "        i+=1\n",
    "                             \n",
    "    return result\n",
    "                \n",
    "        \n",
    "Outcome:\n",
    "Your runtime beats 53.42 % of python3 submissions.\n",
    "Runtime: 32 ms\n",
    "Memory Usage: 13.8 MB"
   ]
  },
  {
   "cell_type": "code",
   "execution_count": 36,
   "metadata": {},
   "outputs": [
    {
     "data": {
      "text/plain": [
       "['1234', '2345', '3456', '4567', '5678', '6789', '12345']"
      ]
     },
     "execution_count": 36,
     "metadata": {},
     "output_type": "execute_result"
    }
   ],
   "source": [
    "sequentialDigits(low = 1000, high = 13000)"
   ]
  }
 ],
 "metadata": {
  "kernelspec": {
   "display_name": "Python 3",
   "language": "python",
   "name": "python3"
  },
  "language_info": {
   "codemirror_mode": {
    "name": "ipython",
    "version": 3
   },
   "file_extension": ".py",
   "mimetype": "text/x-python",
   "name": "python",
   "nbconvert_exporter": "python",
   "pygments_lexer": "ipython3",
   "version": "3.7.4"
  }
 },
 "nbformat": 4,
 "nbformat_minor": 2
}
