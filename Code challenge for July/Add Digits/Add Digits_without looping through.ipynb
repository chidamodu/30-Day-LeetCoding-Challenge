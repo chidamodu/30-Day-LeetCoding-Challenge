{
 "cells": [
  {
   "cell_type": "code",
   "execution_count": null,
   "metadata": {},
   "outputs": [],
   "source": [
    "Given a non-negative integer num, repeatedly add all its digits until the result has only one digit.\n",
    "\n",
    "Example:\n",
    "\n",
    "Input: 38\n",
    "Output: 2 \n",
    "Explanation: The process is like: 3 + 8 = 11, 1 + 1 = 2. \n",
    "             Since 2 has only one digit, return it.\n",
    "Follow up:\n",
    "Could you do it without any loop/recursion in O(1) runtime?\n",
    "\n",
    "Hide Hint #1  \n",
    "A naive implementation of the above process is trivial. Could you come up with other methods?\n",
    "\n",
    "Hide Hint #2  \n",
    "What are all the possible results?\n",
    "\n",
    "Hide Hint #3  \n",
    "How do they occur, periodically or randomly?\n",
    "\n",
    "Hide Hint #4  \n",
    "You may find this Wikipedia article useful.\n"
   ]
  },
  {
   "cell_type": "code",
   "execution_count": null,
   "metadata": {},
   "outputs": [],
   "source": [
    "The value we're asked to compute is the so-called Digital Root. Logarithmic time solution is easy to write, although \n",
    "the main question here is how to fit into a constant time.\n",
    "\n",
    "class Solution:\n",
    "    def addDigits(self, num: int) -> int:\n",
    "        digital_root = 0\n",
    "        while num > 0:\n",
    "            digital_root += num % 10\n",
    "            num = num // 10\n",
    "            \n",
    "            if num == 0 and digital_root > 9:\n",
    "                num = digital_root\n",
    "                digital_root = 0\n",
    "                \n",
    "        return digital_root"
   ]
  },
  {
   "cell_type": "code",
   "execution_count": null,
   "metadata": {},
   "outputs": [],
   "source": [
    "Approach 1: Mathematical: Digital Root\n",
    "\n",
    "Formula for the Digital Root\n",
    "\n",
    "There is a known formula to compute a digital root in a decimal numeral system\n",
    "\n",
    "\n",
    "How to derive it? Probably, you already know the following proof from school, where it was used for a divisibility by \n",
    "9: \"The original number is divisible by 9 if and only if the sum of its digits is divisible by 9\". \n",
    "    \n",
    "    "
   ]
  },
  {
   "cell_type": "code",
   "execution_count": null,
   "metadata": {},
   "outputs": [],
   "source": [
    "The straightforward implementation is\n",
    "\n",
    "class Solution:\n",
    "    def addDigits(self, num: int) -> int:\n",
    "        if num == 0:\n",
    "            return 0\n",
    "        if num % 9 == 0:\n",
    "            return 9\n",
    "        return num % 9"
   ]
  },
  {
   "cell_type": "code",
   "execution_count": null,
   "metadata": {},
   "outputs": [],
   "source": [
    "though two last cases could be merged into one and can be coded as follows: \n",
    "\n",
    "class Solution:\n",
    "    def addDigits(self, num: int) -> int:\n",
    "        return 1 + (num - 1) % 9 if num else 0\n",
    "    \n",
    "Complexity Analysis\n",
    "\n",
    "Time Complexity: \n",
    "O(1).\n",
    "\n",
    "Space Complexity: \n",
    "O(1)."
   ]
  }
 ],
 "metadata": {
  "kernelspec": {
   "display_name": "Python 3",
   "language": "python",
   "name": "python3"
  },
  "language_info": {
   "codemirror_mode": {
    "name": "ipython",
    "version": 3
   },
   "file_extension": ".py",
   "mimetype": "text/x-python",
   "name": "python",
   "nbconvert_exporter": "python",
   "pygments_lexer": "ipython3",
   "version": "3.7.4"
  }
 },
 "nbformat": 4,
 "nbformat_minor": 2
}
