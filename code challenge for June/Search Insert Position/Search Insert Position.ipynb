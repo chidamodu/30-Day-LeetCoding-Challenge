{
 "cells": [
  {
   "cell_type": "code",
   "execution_count": null,
   "metadata": {},
   "outputs": [],
   "source": [
    "Given a sorted array and a target value, return the index if the target is found. If not, return the index where it \n",
    "would be if it were inserted in order.\n",
    "\n",
    "You may assume no duplicates in the array.\n",
    "\n",
    "Example 1:\n",
    "Input: [1,3,5,6], 5\n",
    "Output: 2\n",
    "\n",
    "Example 2:\n",
    "Input: [1,3,5,6], 2\n",
    "Output: 1\n",
    "\n",
    "Example 3:\n",
    "Input: [1,3,5,6], 7\n",
    "Output: 4\n",
    "\n",
    "Example 4:\n",
    "Input: [1,3,5,6], 0\n",
    "Output: 0"
   ]
  },
  {
   "cell_type": "code",
   "execution_count": 35,
   "metadata": {},
   "outputs": [],
   "source": [
    "this did not work for all test cases\n",
    "\n",
    "def searchInsert(nums, target):\n",
    "\n",
    "    if target in nums:\n",
    "        return nums.index(target)\n",
    "    else:\n",
    "        for k, v in enumerate([n>target for n in nums]):#cool list comprehension\n",
    "            if v:\n",
    "                return k\n",
    "            \n",
    "            else:\n",
    "                return len(nums)\n",
    "            \n",
    "            "
   ]
  },
  {
   "cell_type": "code",
   "execution_count": 36,
   "metadata": {},
   "outputs": [
    {
     "data": {
      "text/plain": [
       "0"
      ]
     },
     "execution_count": 36,
     "metadata": {},
     "output_type": "execute_result"
    }
   ],
   "source": [
    "searchInsert([1,3,5,6], 0)"
   ]
  },
  {
   "cell_type": "code",
   "execution_count": 15,
   "metadata": {},
   "outputs": [],
   "source": [
    "trial did not work either\n",
    "\n",
    "def searchInsert(nums, target):\n",
    "    \n",
    "    middle=len(nums)//2\n",
    "    if target > nums[middle]:\n",
    "        searchtarget(nums[middle:], target)\n",
    "    else:\n",
    "        searchtarget(nums[:middle], target)\n",
    "        \n",
    "        \n",
    "def searchtarget(arr, target):\n",
    "    for i in range(1, len(arr)):\n",
    "        if arr[i]==target:\n",
    "            return i\n",
    "        \n",
    "        elif (target > arr[i-1]) and (target < arr[i+1]):\n",
    "            return i\n",
    "        \n",
    "        else:\n",
    "            return len(arr)\n",
    "        \n",
    "        \n",
    "        \n",
    "        "
   ]
  },
  {
   "cell_type": "code",
   "execution_count": 49,
   "metadata": {},
   "outputs": [],
   "source": [
    "# searchInsert([1,3,5,6], 7)"
   ]
  },
  {
   "cell_type": "code",
   "execution_count": 47,
   "metadata": {},
   "outputs": [],
   "source": [
    "\n",
    "def searchInsert(nums, target):\n",
    "    left=0\n",
    "    right=len(nums)-1\n",
    "    while left <= right:\n",
    "        middle=(left+right)//2\n",
    "        \n",
    "        if nums[middle]==target:\n",
    "            return middle\n",
    "        \n",
    "        elif target < nums[middle]:\n",
    "            right=middle-1\n",
    "        \n",
    "        else:\n",
    "            left=middle+1\n",
    "            \n",
    "    return left\n",
    "    \n",
    "    \n",
    "    \n",
    "result:\n",
    "Your runtime beats 54.16 % of python3 submissions.\n",
    "Runtime: 52 ms\n",
    "Memory Usage: 14.5 MB"
   ]
  },
  {
   "cell_type": "code",
   "execution_count": 48,
   "metadata": {},
   "outputs": [
    {
     "data": {
      "text/plain": [
       "1"
      ]
     },
     "execution_count": 48,
     "metadata": {},
     "output_type": "execute_result"
    }
   ],
   "source": [
    "searchInsert([1,3,5,6], 2)"
   ]
  }
 ],
 "metadata": {
  "kernelspec": {
   "display_name": "Python 3",
   "language": "python",
   "name": "python3"
  },
  "language_info": {
   "codemirror_mode": {
    "name": "ipython",
    "version": 3
   },
   "file_extension": ".py",
   "mimetype": "text/x-python",
   "name": "python",
   "nbconvert_exporter": "python",
   "pygments_lexer": "ipython3",
   "version": "3.7.4"
  }
 },
 "nbformat": 4,
 "nbformat_minor": 2
}
