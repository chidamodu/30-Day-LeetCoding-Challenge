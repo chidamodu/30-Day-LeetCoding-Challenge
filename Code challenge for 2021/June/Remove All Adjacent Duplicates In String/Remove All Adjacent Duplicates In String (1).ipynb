{
 "cells": [
  {
   "cell_type": "code",
   "execution_count": null,
   "metadata": {},
   "outputs": [],
   "source": [
    "You are given a string s consisting of lowercase English letters. A duplicate removal consists of choosing two \n",
    "adjacent and equal letters and removing them.\n",
    "\n",
    "We repeatedly make duplicate removals on s until we no longer can.\n",
    "\n",
    "Return the final string after all such duplicate removals have been made. It can be proven that the answer is unique.\n",
    "\n",
    "Example 1:\n",
    "Input: s = \"abbaca\"\n",
    "Output: \"ca\"\n",
    "Explanation: \n",
    "For example, in \"abbaca\" we could remove \"bb\" since the letters are adjacent and equal, and this is the only possible move.  The result of this move is that the string is \"aaca\", of which only \"aa\" is possible, so the final string is \"ca\".\n",
    "\n",
    "Example 2:\n",
    "Input: s = \"azxxzy\"\n",
    "Output: \"ay\"\n",
    " \n",
    "Constraints:\n",
    "1 <= s.length <= 105\n",
    "s consists of lowercase English letters.\n",
    "\n",
    "Hint #1  \n",
    "Use a stack to process everything greedily.\n"
   ]
  },
  {
   "cell_type": "code",
   "execution_count": 39,
   "metadata": {},
   "outputs": [],
   "source": [
    "# Yay, my solution rocks!\n",
    "\n",
    "def removeDuplicates(s):\n",
    "    stack=[s[0]]\n",
    "    for i in range(1, len(s)):\n",
    "        if stack and s[i]==stack[-1]:\n",
    "            stack.pop()\n",
    "        else:\n",
    "            stack.append(s[i])      \n",
    "    \n",
    "    return \"\".join(stack)"
   ]
  },
  {
   "cell_type": "code",
   "execution_count": 40,
   "metadata": {},
   "outputs": [
    {
     "data": {
      "text/plain": [
       "'ay'"
      ]
     },
     "execution_count": 40,
     "metadata": {},
     "output_type": "execute_result"
    }
   ],
   "source": [
    "s = \"azxxzy\"\n",
    "removeDuplicates(s)"
   ]
  },
  {
   "cell_type": "code",
   "execution_count": null,
   "metadata": {},
   "outputs": [],
   "source": [
    "Time and space complexity is O(n)."
   ]
  },
  {
   "cell_type": "code",
   "execution_count": null,
   "metadata": {},
   "outputs": [],
   "source": [
    "Alternative solution\n",
    "\n",
    "class Solution:\n",
    "    def removeDuplicates(self, s):\n",
    "        stack = []\n",
    "        for symb in s:\n",
    "            if stack and stack[-1] == symb:\n",
    "                stack.pop()\n",
    "            else:\n",
    "                stack.append(symb)\n",
    "        return \"\".join(stack)\n",
    "    "
   ]
  }
 ],
 "metadata": {
  "kernelspec": {
   "display_name": "Python 3",
   "language": "python",
   "name": "python3"
  },
  "language_info": {
   "codemirror_mode": {
    "name": "ipython",
    "version": 3
   },
   "file_extension": ".py",
   "mimetype": "text/x-python",
   "name": "python",
   "nbconvert_exporter": "python",
   "pygments_lexer": "ipython3",
   "version": "3.7.4"
  }
 },
 "nbformat": 4,
 "nbformat_minor": 2
}
