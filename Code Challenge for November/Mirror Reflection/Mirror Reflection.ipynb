{
 "cells": [
  {
   "cell_type": "code",
   "execution_count": null,
   "metadata": {},
   "outputs": [],
   "source": [
    "\n",
    "There is a special square room with mirrors on each of the four walls.  Except for the southwest corner, there are \n",
    "receptors on each of the remaining corners, numbered 0, 1, and 2.\n",
    "\n",
    "The square room has walls of length p, and a laser ray from the southwest corner first meets the east wall at a \n",
    "distance q from the 0th receptor.\n",
    "\n",
    "Return the number of the receptor that the ray meets first.\n",
    "(It is guaranteed that the ray will meet a receptor eventually.)\n",
    "\n",
    " \n",
    "\n",
    "Example 1:\n",
    "Input: p = 2, q = 1\n",
    "Output: 2\n",
    "Explanation: The ray meets receptor 2 the first time it gets reflected back to the left wall.\n",
    "\n",
    "Note:\n",
    "1 <= p <= 1000\n",
    "0 <= q <= p\n"
   ]
  },
  {
   "cell_type": "code",
   "execution_count": null,
   "metadata": {},
   "outputs": [],
   "source": [
    "class Solution:\n",
    "    def mirrorReflection(self, p: int, q: int) -> int:\n",
    "        return (q//gcd(p,q)%2 - p//gcd(p,q)%2 + 1)\n",
    "        "
   ]
  }
 ],
 "metadata": {
  "kernelspec": {
   "display_name": "Python 3",
   "language": "python",
   "name": "python3"
  },
  "language_info": {
   "codemirror_mode": {
    "name": "ipython",
    "version": 3
   },
   "file_extension": ".py",
   "mimetype": "text/x-python",
   "name": "python",
   "nbconvert_exporter": "python",
   "pygments_lexer": "ipython3",
   "version": "3.7.4"
  }
 },
 "nbformat": 4,
 "nbformat_minor": 2
}
