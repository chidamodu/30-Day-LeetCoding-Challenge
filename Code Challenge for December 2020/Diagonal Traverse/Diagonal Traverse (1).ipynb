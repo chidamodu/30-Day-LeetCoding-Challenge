{
 "cells": [
  {
   "cell_type": "code",
   "execution_count": null,
   "metadata": {},
   "outputs": [],
   "source": [
    "Given a matrix of M x N elements (M rows, N columns), return all elements of the matrix in diagonal order as shown \n",
    "in the below image.\n",
    "\n",
    "\n",
    "Example:\n",
    "\n",
    "Input:\n",
    "[\n",
    " [ 1, 2, 3 ],\n",
    " [ 4, 5, 6 ],\n",
    " [ 7, 8, 9 ]\n",
    "]\n",
    "\n",
    "Output:  [1,2,4,7,5,3,6,8,9]\n",
    "\n",
    "\n",
    "Note:\n",
    "The total number of elements of the given matrix will not exceed 10,000."
   ]
  },
  {
   "cell_type": "code",
   "execution_count": 10,
   "metadata": {},
   "outputs": [],
   "source": [
    "def findDiagonalOrder(matrix):\n",
    "    rows=len(matrix)\n",
    "    columns=len(matrix[0])-1\n",
    "    row=0\n",
    "    column=0\n",
    "    result=[]\n",
    "    \n",
    "    while column<=columns:\n",
    "        result.append(matrix[row][column])\n",
    "        print(result)\n",
    "        \n",
    "        \n",
    "        while row>=0 and column>=0 and column<=columns:\n",
    "            result.append(matrix[row+1][column-1])\n",
    "            row+=1\n",
    "            column-=1\n",
    "                          \n",
    "        \n",
    "                          \n",
    "        \n",
    "        column+=1\n",
    "        \n",
    "        \n",
    "    return result\n",
    "        \n",
    "    "
   ]
  },
  {
   "cell_type": "code",
   "execution_count": 11,
   "metadata": {},
   "outputs": [
    {
     "name": "stdout",
     "output_type": "stream",
     "text": [
      "[1]\n",
      "[1, 6, 4]\n",
      "[1, 6, 4, 9, 7]\n"
     ]
    },
    {
     "ename": "IndexError",
     "evalue": "list index out of range",
     "output_type": "error",
     "traceback": [
      "\u001b[0;31m---------------------------------------------------------------------------\u001b[0m",
      "\u001b[0;31mIndexError\u001b[0m                                Traceback (most recent call last)",
      "\u001b[0;32m<ipython-input-11-10e1932715d8>\u001b[0m in \u001b[0;36m<module>\u001b[0;34m\u001b[0m\n\u001b[1;32m      4\u001b[0m  \u001b[0;34m[\u001b[0m \u001b[0;36m7\u001b[0m\u001b[0;34m,\u001b[0m \u001b[0;36m8\u001b[0m\u001b[0;34m,\u001b[0m \u001b[0;36m9\u001b[0m\u001b[0;34m]\u001b[0m\u001b[0;34m\u001b[0m\u001b[0;34m\u001b[0m\u001b[0m\n\u001b[1;32m      5\u001b[0m ]\n\u001b[0;32m----> 6\u001b[0;31m \u001b[0mfindDiagonalOrder\u001b[0m\u001b[0;34m(\u001b[0m\u001b[0mmatrix\u001b[0m\u001b[0;34m)\u001b[0m\u001b[0;34m\u001b[0m\u001b[0;34m\u001b[0m\u001b[0m\n\u001b[0m",
      "\u001b[0;32m<ipython-input-10-87913626ceff>\u001b[0m in \u001b[0;36mfindDiagonalOrder\u001b[0;34m(matrix)\u001b[0m\n\u001b[1;32m     11\u001b[0m \u001b[0;34m\u001b[0m\u001b[0m\n\u001b[1;32m     12\u001b[0m         \u001b[0;32mwhile\u001b[0m \u001b[0mrow\u001b[0m\u001b[0;34m>=\u001b[0m\u001b[0;36m0\u001b[0m \u001b[0;32mand\u001b[0m \u001b[0mcolumn\u001b[0m\u001b[0;34m>=\u001b[0m\u001b[0;36m0\u001b[0m \u001b[0;32mand\u001b[0m \u001b[0mcolumn\u001b[0m\u001b[0;34m<=\u001b[0m\u001b[0mcolumns\u001b[0m\u001b[0;34m:\u001b[0m\u001b[0;34m\u001b[0m\u001b[0;34m\u001b[0m\u001b[0m\n\u001b[0;32m---> 13\u001b[0;31m             \u001b[0mresult\u001b[0m\u001b[0;34m.\u001b[0m\u001b[0mappend\u001b[0m\u001b[0;34m(\u001b[0m\u001b[0mmatrix\u001b[0m\u001b[0;34m[\u001b[0m\u001b[0mrow\u001b[0m\u001b[0;34m+\u001b[0m\u001b[0;36m1\u001b[0m\u001b[0;34m]\u001b[0m\u001b[0;34m[\u001b[0m\u001b[0mcolumn\u001b[0m\u001b[0;34m-\u001b[0m\u001b[0;36m1\u001b[0m\u001b[0;34m]\u001b[0m\u001b[0;34m)\u001b[0m\u001b[0;34m\u001b[0m\u001b[0;34m\u001b[0m\u001b[0m\n\u001b[0m\u001b[1;32m     14\u001b[0m             \u001b[0mrow\u001b[0m\u001b[0;34m+=\u001b[0m\u001b[0;36m1\u001b[0m\u001b[0;34m\u001b[0m\u001b[0;34m\u001b[0m\u001b[0m\n\u001b[1;32m     15\u001b[0m             \u001b[0mcolumn\u001b[0m\u001b[0;34m-=\u001b[0m\u001b[0;36m1\u001b[0m\u001b[0;34m\u001b[0m\u001b[0;34m\u001b[0m\u001b[0m\n",
      "\u001b[0;31mIndexError\u001b[0m: list index out of range"
     ]
    }
   ],
   "source": [
    "matrix=[\n",
    " [ 1, 2, 3],\n",
    " [ 4, 5, 6],\n",
    " [ 7, 8, 9]\n",
    "]\n",
    "findDiagonalOrder(matrix)"
   ]
  },
  {
   "cell_type": "code",
   "execution_count": 22,
   "metadata": {},
   "outputs": [],
   "source": [
    "Trial - did not work but am happy i tried it out. work in progress\n",
    "\n",
    "def findDiagonalOrder(matrix):\n",
    "    rows=len(matrix)-1\n",
    "    columns=len(matrix[0])-1\n",
    "    row=0\n",
    "    column=0\n",
    "    result=[]\n",
    "    \n",
    "    while column<=columns:\n",
    "        print(column)\n",
    "        \n",
    "        if column-1>=0:\n",
    "            while row<rows and column>=0:\n",
    "                result.append(matrix[row][column])\n",
    "                \n",
    "                row+=1\n",
    "                column-=1\n",
    "        \n",
    "        result.append(matrix[row][column])\n",
    "        column+=1\n",
    "        \n",
    "    return result\n",
    "    \n",
    "    \n",
    "#     the point is to understand, in case of using one row and one column counts globally, that the variables carrying the \n",
    "#     count values get updated globally, i.e., after every row and column change."
   ]
  },
  {
   "cell_type": "code",
   "execution_count": 23,
   "metadata": {},
   "outputs": [
    {
     "name": "stdout",
     "output_type": "stream",
     "text": [
      "0\n",
      "1\n",
      "0\n",
      "1\n",
      "2\n"
     ]
    },
    {
     "data": {
      "text/plain": [
       "[1, 2, 4, 9, 7, 8, 9]"
      ]
     },
     "execution_count": 23,
     "metadata": {},
     "output_type": "execute_result"
    }
   ],
   "source": [
    "matrix=[\n",
    " [ 1, 2, 3],\n",
    " [ 4, 5, 6],\n",
    " [ 7, 8, 9]\n",
    "]\n",
    "findDiagonalOrder(matrix)"
   ]
  },
  {
   "cell_type": "code",
   "execution_count": 46,
   "metadata": {},
   "outputs": [],
   "source": [
    "#working out another idea here: Final submission\n",
    "\n",
    "def findDiagonalOrder(matrix):\n",
    "    if not matrix or not matrix[0]:\n",
    "        return []\n",
    "        \n",
    "    rows=len(matrix)\n",
    "    columns=len(matrix[0])\n",
    "\n",
    "    d=[[] for _ in range(rows+columns-1)]\n",
    "    \n",
    "    for i in range(rows):\n",
    "        for j in range(columns):\n",
    "            d[i+j].append(matrix[i][j])\n",
    "                \n",
    "    result=d[0]\n",
    "        \n",
    "    for item in range(1, len(d)):\n",
    "        if item%2==1:\n",
    "            result.extend(d[item])\n",
    "                \n",
    "        else:\n",
    "            result.extend(d[item][::-1])\n",
    "                    \n",
    "    return result\n",
    "        "
   ]
  },
  {
   "cell_type": "code",
   "execution_count": 47,
   "metadata": {},
   "outputs": [
    {
     "data": {
      "text/plain": [
       "[1, 2, 4, 7, 5, 3, 6, 8, 9]"
      ]
     },
     "execution_count": 47,
     "metadata": {},
     "output_type": "execute_result"
    }
   ],
   "source": [
    "matrix=[\n",
    " [ 1, 2, 3],\n",
    " [ 4, 5, 6],\n",
    " [ 7, 8, 9]\n",
    "]\n",
    "findDiagonalOrder(matrix)"
   ]
  },
  {
   "cell_type": "code",
   "execution_count": null,
   "metadata": {},
   "outputs": [],
   "source": [
    "Leetcode solution: Diagonal Iteration and Reversal\n",
    "\n",
    "def findDiagonalOrder(self, matrix: List[List[int]]) -> List[int]:\n",
    "        \n",
    "        # Check for empty matrices\n",
    "        if not matrix or not matrix[0]:\n",
    "            return []\n",
    "        \n",
    "        # Variables to track the size of the matrix\n",
    "        N, M = len(matrix), len(matrix[0])\n",
    "        \n",
    "        # The two arrays as explained in the algorithm\n",
    "        result, intermediate = [], []\n",
    "        \n",
    "        # We have to go over all the elements in the first\n",
    "        # row and the last column to cover all possible diagonals\n",
    "        for d in range(N + M - 1):\n",
    "            \n",
    "            # Clear the intermediate array everytime we start\n",
    "            # to process another diagonal\n",
    "            intermediate.clear()\n",
    "            \n",
    "            # We need to figure out the \"head\" of this diagonal\n",
    "            # The elements in the first row and the last column\n",
    "            # are the respective heads.\n",
    "            r, c = 0 if d < M else d - M + 1, d if d < M else M - 1\n",
    "            \n",
    "            # Iterate until one of the indices goes out of scope\n",
    "            # Take note of the index math to go down the diagonal\n",
    "            while r < N and c > -1:\n",
    "                intermediate.append(matrix[r][c])\n",
    "                r += 1\n",
    "                c -= 1\n",
    "            \n",
    "            # Reverse even numbered diagonals. The\n",
    "            # article says we have to reverse odd \n",
    "            # numbered articles but here, the numbering\n",
    "            # is starting from 0 :P\n",
    "            if d % 2 == 0:\n",
    "                result.extend(intermediate[::-1])\n",
    "            else:\n",
    "                result.extend(intermediate)\n",
    "        return result        "
   ]
  }
 ],
 "metadata": {
  "kernelspec": {
   "display_name": "Python 3",
   "language": "python",
   "name": "python3"
  },
  "language_info": {
   "codemirror_mode": {
    "name": "ipython",
    "version": 3
   },
   "file_extension": ".py",
   "mimetype": "text/x-python",
   "name": "python",
   "nbconvert_exporter": "python",
   "pygments_lexer": "ipython3",
   "version": "3.7.4"
  }
 },
 "nbformat": 4,
 "nbformat_minor": 2
}
