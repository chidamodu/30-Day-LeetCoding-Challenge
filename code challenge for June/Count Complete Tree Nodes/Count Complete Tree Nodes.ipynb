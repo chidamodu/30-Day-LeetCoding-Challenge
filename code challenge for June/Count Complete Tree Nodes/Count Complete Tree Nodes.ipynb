{
 "cells": [
  {
   "cell_type": "code",
   "execution_count": null,
   "metadata": {},
   "outputs": [],
   "source": [
    "Given a complete binary tree, count the number of nodes.\n",
    "\n",
    "Note:\n",
    "\n",
    "Definition of a complete binary tree from Wikipedia:\n",
    "In a complete binary tree every level, except possibly the last, is completely filled, and all nodes in the last \n",
    "level are as far left as possible. It can have between 1 and 2h nodes inclusive at the last level h.\n",
    "\n",
    "Example:\n",
    "\n",
    "Input: \n",
    "    1\n",
    "   / \\\n",
    "  2   3\n",
    " / \\  /\n",
    "4  5 6\n",
    "\n",
    "Output: 6"
   ]
  },
  {
   "cell_type": "code",
   "execution_count": null,
   "metadata": {},
   "outputs": [],
   "source": [
    "Leetcode submission\n",
    "\n",
    "# Definition for a binary tree node.\n",
    "# class TreeNode:\n",
    "#     def __init__(self, val=0, left=None, right=None):\n",
    "#         self.val = val\n",
    "#         self.left = left\n",
    "#         self.right = right\n",
    "class Solution:\n",
    "    def countNodes(self, root: TreeNode) -> int:\n",
    "        if root is None:\n",
    "            return 0\n",
    "\n",
    "        left_lvl, right_lvl = self.levels(root)\n",
    "        if left_lvl == right_lvl:\n",
    "            return 2 ** left_lvl - 1\n",
    "        else:\n",
    "            return 1 + self.countNodes(root.left) + self.countNodes(root.right)\n",
    "        \n",
    "        \n",
    "    def levels(self, node):\n",
    "        right = 0\n",
    "        left_node, right_node = node, node\n",
    "        while right_node:\n",
    "            left_node = left_node.left\n",
    "            right_node = right_node.right\n",
    "            right += 1\n",
    "        if left_node is None:\n",
    "            return right, right\n",
    "        return right+1, right\n",
    "        \n",
    "result:\n",
    "Runtime: 84 ms\n",
    "Memory Usage: 21.3 MB\n",
    "Your runtime beats 68.83 % of python3 submissions.\n",
    "Time complexity: O(log(n) * log(n))"
   ]
  }
 ],
 "metadata": {
  "kernelspec": {
   "display_name": "Python 3",
   "language": "python",
   "name": "python3"
  },
  "language_info": {
   "codemirror_mode": {
    "name": "ipython",
    "version": 3
   },
   "file_extension": ".py",
   "mimetype": "text/x-python",
   "name": "python",
   "nbconvert_exporter": "python",
   "pygments_lexer": "ipython3",
   "version": "3.7.4"
  }
 },
 "nbformat": 4,
 "nbformat_minor": 2
}
