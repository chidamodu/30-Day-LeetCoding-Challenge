{
 "cells": [
  {
   "cell_type": "code",
   "execution_count": null,
   "metadata": {},
   "outputs": [],
   "source": [
    "Given an array of integers arr, return true if and only if it is a valid mountain array.\n",
    "\n",
    "Recall that arr is a mountain array if and only if:arr.length >= 3\n",
    "\n",
    "There exists some i with 0 < i < arr.length - 1 such that:\n",
    "arr[0] < arr[1] < ... < arr[i - 1] < A[i]\n",
    "arr[i] > arr[i + 1] > ... > arr[arr.length - 1]\n",
    "\n",
    "\n",
    "Example 1:\n",
    "Input: arr = [2,1]\n",
    "Output: false\n",
    "\n",
    "Example 2:\n",
    "Input: arr = [3,5,5]\n",
    "Output: false\n",
    "\n",
    "Example 3:\n",
    "Input: arr = [0,3,2,1]\n",
    "Output: true\n",
    " \n",
    "\n",
    "Constraints:\n",
    "1 <= arr.length <= 104\n",
    "0 <= arr[i] <= 104\n",
    "\n",
    "Hint #1  \n",
    "It's very easy to keep track of a monotonically increasing or decreasing ordering of elements. You just need to be \n",
    "able to determine the start of the valley in the mountain and from that point onwards, it should be a valley i.e. no \n",
    "mini-hills after that. Use this information in regards to the values in the array and you will be able to come up \n",
    "with a straightforward solution.\n"
   ]
  },
  {
   "cell_type": "code",
   "execution_count": 16,
   "metadata": {},
   "outputs": [],
   "source": [
    "Inspired by the Longest Mountain Array problem but the same solution would not work here as here we go up to the peak and\n",
    "then keep going down until we reach the end.\n",
    "\n",
    "def validMountainArray(arr):\n",
    "    if len(arr)<3:\n",
    "        return False\n",
    "    \n",
    "    result=0\n",
    "    for i in range(1, len(arr)-1):\n",
    "        if arr[i]>arr[i-1] and arr[i]>arr[i+1]:\n",
    "            left=right=i\n",
    "        \n",
    "            while left>0 and arr[left]>arr[left-1]:\n",
    "                left-=1\n",
    "        \n",
    "            while right+1<len(arr) and arr[right]>arr[right+1]:\n",
    "                right+=1\n",
    "                    \n",
    "            result=max(result, (right-left+1))\n",
    "            \n",
    "    return result\n",
    "\n",
    "#     return True if result else False"
   ]
  },
  {
   "cell_type": "code",
   "execution_count": 17,
   "metadata": {},
   "outputs": [
    {
     "data": {
      "text/plain": [
       "4"
      ]
     },
     "execution_count": 17,
     "metadata": {},
     "output_type": "execute_result"
    }
   ],
   "source": [
    "validMountainArray([0,1,2,1,2])"
   ]
  },
  {
   "cell_type": "code",
   "execution_count": null,
   "metadata": {},
   "outputs": [],
   "source": [
    "Algorithm\n",
    "\n",
    "Let's walk up from left to right until we can't: that has to be the peak. We should ensure the peak is not the first \n",
    "or last element. Then, we walk down. If we reach the end, the array is valid, otherwise its not.\n",
    "    \n",
    "    "
   ]
  },
  {
   "cell_type": "code",
   "execution_count": 88,
   "metadata": {},
   "outputs": [],
   "source": [
    "solution using One pass \n",
    "\n",
    "def validMountainArray(arr):\n",
    "        if len(arr)<3:\n",
    "            return False\n",
    "    \n",
    "        N = len(arr)\n",
    "        i = 0\n",
    "\n",
    "        # walk up\n",
    "        while i+1 < N and arr[i] < arr[i+1]:\n",
    "            i += 1\n",
    "\n",
    "        # peak can't be first or last\n",
    "        if i == 0 or i == N-1:\n",
    "            return False\n",
    "\n",
    "        # walk down\n",
    "        while i+1 < N and arr[i] > arr[i+1]:\n",
    "            i += 1\n",
    "        print(i)#i=2 as we have the same value repeated at index 3\n",
    "\n",
    "        return i == N-1\n",
    "            "
   ]
  },
  {
   "cell_type": "code",
   "execution_count": 89,
   "metadata": {},
   "outputs": [
    {
     "name": "stdout",
     "output_type": "stream",
     "text": [
      "2\n"
     ]
    },
    {
     "data": {
      "text/plain": [
       "False"
      ]
     },
     "execution_count": 89,
     "metadata": {},
     "output_type": "execute_result"
    }
   ],
   "source": [
    "validMountainArray([0,1,2,2,4,2,1])"
   ]
  },
  {
   "cell_type": "code",
   "execution_count": null,
   "metadata": {},
   "outputs": [],
   "source": [
    "Complexity Analysis\n",
    "\n",
    "Time Complexity: O(N), where N is the length of A.\n",
    "\n",
    "Space Complexity: O(1). \n"
   ]
  }
 ],
 "metadata": {
  "kernelspec": {
   "display_name": "Python 3",
   "language": "python",
   "name": "python3"
  },
  "language_info": {
   "codemirror_mode": {
    "name": "ipython",
    "version": 3
   },
   "file_extension": ".py",
   "mimetype": "text/x-python",
   "name": "python",
   "nbconvert_exporter": "python",
   "pygments_lexer": "ipython3",
   "version": "3.7.4"
  }
 },
 "nbformat": 4,
 "nbformat_minor": 2
}
