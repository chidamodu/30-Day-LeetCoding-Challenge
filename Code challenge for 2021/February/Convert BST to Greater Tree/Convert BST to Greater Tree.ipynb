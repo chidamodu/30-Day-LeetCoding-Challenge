{
 "cells": [
  {
   "cell_type": "code",
   "execution_count": null,
   "metadata": {},
   "outputs": [],
   "source": [
    "Given the root of a Binary Search Tree (BST), convert it to a Greater Tree such that every key of the original BST is \n",
    "changed to the original key plus sum of all keys greater than the original key in BST.\n",
    "\n",
    "As a reminder, a binary search tree is a tree that satisfies these constraints:\n",
    "\n",
    "The left subtree of a node contains only nodes with keys less than the node's key.\n",
    "The right subtree of a node contains only nodes with keys greater than the node's key.\n",
    "Both the left and right subtrees must also be binary search trees.\n",
    "Note: This question is the same as 1038: https://leetcode.com/problems/binary-search-tree-to-greater-sum-tree/\n",
    "\n",
    "Example 1:\n",
    "Input: root = [4,1,6,0,2,5,7,null,null,null,3,null,null,null,8]\n",
    "Output: [30,36,21,36,35,26,15,null,null,null,33,null,null,null,8]\n",
    "\n",
    "Example 2:\n",
    "Input: root = [0,null,1]\n",
    "Output: [1,null,1]\n",
    "\n",
    "Example 3:\n",
    "Input: root = [1,0,2]\n",
    "Output: [3,3,2]\n",
    "\n",
    "Example 4:\n",
    "Input: root = [3,2,4,1]\n",
    "Output: [7,9,4,10]\n",
    " \n",
    "\n",
    "Constraints:\n",
    "The number of nodes in the tree is in the range [0, 104].\n",
    "-104 <= Node.val <= 104\n",
    "All the values in the tree are unique.\n",
    "root is guaranteed to be a valid binary search tree.\n"
   ]
  },
  {
   "cell_type": "code",
   "execution_count": null,
   "metadata": {},
   "outputs": [],
   "source": [
    "Approach #1 Recursion\n",
    "\n",
    "Intuition\n",
    "One way to perform a reverse in-order traversal is via recursion. By using the call stack to return to previous \n",
    "nodes, we can easily visit the nodes in reverse order.\n",
    "\n",
    "\n",
    "\n",
    "Algorithm\n",
    "For the recursive approach, we maintain some minor \"global\" state so each recursive call can access and modify the \n",
    "current total sum. Essentially, we ensure that the current node exists, recurse on the right subtree, visit the \n",
    "current node by updating its value and the total sum, and finally recurse on the left subtree. If we know that \n",
    "recursing on root.right properly updates the right subtree and that recursing on root.left properly updates the \n",
    "left subtree, then we are guaranteed to update all nodes with larger values before the current node and all nodes \n",
    "with smaller values after.\n"
   ]
  },
  {
   "cell_type": "code",
   "execution_count": null,
   "metadata": {},
   "outputs": [],
   "source": [
    "# Definition for a binary tree node.\n",
    "# class TreeNode:\n",
    "#     def __init__(self, val=0, left=None, right=None):\n",
    "#         self.val = val\n",
    "#         self.left = left\n",
    "#         self.right = right\n",
    "class Solution:\n",
    "    def __init__(self):\n",
    "        self.prev=0\n",
    "    \n",
    "    def convertBST(self, root: TreeNode) -> TreeNode:\n",
    "        \n",
    "        if root is not None:\n",
    "            self.convertBST(root.right)\n",
    "            self.prev+=root.val\n",
    "            root.val=self.prev\n",
    "            self.convertBST(root.left)\n",
    "            \n",
    "        return root\n",
    " "
   ]
  },
  {
   "cell_type": "code",
   "execution_count": null,
   "metadata": {},
   "outputs": [],
   "source": [
    "Complexity Analysis\n",
    "\n",
    "Time complexity : O(n)\n",
    "\n",
    "A binary tree has no cycles by definition, so convertBST gets called on each node no more than once. Other than the \n",
    "recursive calls, convertBST does a constant amount of work, so a linear number of calls to convertBST will run in \n",
    "linear time.\n",
    "\n",
    "-------------------------------------------------------------------------------------------------------------------\n",
    "\n",
    "Space complexity : O(n)\n",
    "\n",
    "Using the prior assertion that convertBST is called a linear number of times, we can also show that the entire \n",
    "algorithm has linear space complexity. Consider the worst case, a tree with only right (or only left) subtrees. \n",
    "The call stack will grow until the end of the longest path is reached, which in this case includes all nn nodes.\n"
   ]
  }
 ],
 "metadata": {
  "kernelspec": {
   "display_name": "Python 3",
   "language": "python",
   "name": "python3"
  },
  "language_info": {
   "codemirror_mode": {
    "name": "ipython",
    "version": 3
   },
   "file_extension": ".py",
   "mimetype": "text/x-python",
   "name": "python",
   "nbconvert_exporter": "python",
   "pygments_lexer": "ipython3",
   "version": "3.7.4"
  }
 },
 "nbformat": 4,
 "nbformat_minor": 2
}
