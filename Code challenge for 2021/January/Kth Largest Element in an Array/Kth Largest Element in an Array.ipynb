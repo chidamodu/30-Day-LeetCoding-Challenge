{
 "cells": [
  {
   "cell_type": "code",
   "execution_count": null,
   "metadata": {},
   "outputs": [],
   "source": [
    "Find the kth largest element in an unsorted array. Note that it is the kth largest element in the sorted order, not \n",
    "the kth distinct element.\n",
    "\n",
    "Example 1:\n",
    "Input: [3,2,1,5,6,4] and k = 2\n",
    "Output: 5\n",
    "\n",
    "Example 2:\n",
    "Input: [3,2,3,1,2,4,5,5,6] and k = 4\n",
    "Output: 4\n",
    "\n",
    "Note: \n",
    "You may assume k is always valid, 1 ≤ k ≤ array's length."
   ]
  },
  {
   "cell_type": "code",
   "execution_count": 19,
   "metadata": {},
   "outputs": [],
   "source": [
    "Trial - but do not have to remove duplicates\n",
    "\n",
    "def findKthLargest(nums, k):\n",
    "    d=[]\n",
    "    c=0  \n",
    "    nums=sorted(nums)\n",
    "    \n",
    "    for i in range(len(nums)):\n",
    "        if nums[i] not in d:\n",
    "                d.append(nums[i])\n",
    " \n",
    "    return d[k], d\n",
    "    "
   ]
  },
  {
   "cell_type": "code",
   "execution_count": 20,
   "metadata": {},
   "outputs": [
    {
     "data": {
      "text/plain": [
       "(3, [1, 2, 3, 4, 5, 6])"
      ]
     },
     "execution_count": 20,
     "metadata": {},
     "output_type": "execute_result"
    }
   ],
   "source": [
    "findKthLargest([3,2,1,5,6,4], k = 2)"
   ]
  },
  {
   "cell_type": "code",
   "execution_count": 23,
   "metadata": {},
   "outputs": [],
   "source": [
    "Naive solution\n",
    "\n",
    "def findKthLargest(nums, k):\n",
    "    nums=sorted(nums)\n",
    "    return nums[-k]\n",
    "    \n",
    "outcome:\n",
    "Your runtime beats 73.99 % of python3 submissions.\n",
    "Runtime: 64 ms\n",
    "Memory Usage: 15.1 MB"
   ]
  },
  {
   "cell_type": "code",
   "execution_count": 24,
   "metadata": {},
   "outputs": [
    {
     "data": {
      "text/plain": [
       "4"
      ]
     },
     "execution_count": 24,
     "metadata": {},
     "output_type": "execute_result"
    }
   ],
   "source": [
    "findKthLargest([3,2,3,1,2,4,5,5,6], k = 4)"
   ]
  },
  {
   "cell_type": "code",
   "execution_count": 33,
   "metadata": {},
   "outputs": [],
   "source": [
    "#Let's check whether we can do better than the solution above - using heap\n",
    "import heapq\n",
    "\n",
    "def findKthLargest(nums, k):\n",
    "    result=[]\n",
    "    heaplength=0\n",
    "    \n",
    "    for i in nums:\n",
    "        if heaplength<k:\n",
    "            heapq.heappush(result, i)\n",
    "            heaplength+=1\n",
    "            \n",
    "        elif result[0]<i:\n",
    "            heapq.heappushpop(result, i)\n",
    "            \n",
    "    return result[0]\n",
    "            \n",
    "\n",
    "\n",
    "\n",
    "\n",
    "\n",
    "# Your runtime beats 88.94 % of python3 submissions.\n",
    "# Runtime: 60 ms\n",
    "# Memory Usage: 15.2 MB\n",
    "            \n",
    "       \n",
    "            \n",
    "        \n"
   ]
  },
  {
   "cell_type": "code",
   "execution_count": 34,
   "metadata": {},
   "outputs": [
    {
     "data": {
      "text/plain": [
       "5"
      ]
     },
     "execution_count": 34,
     "metadata": {},
     "output_type": "execute_result"
    }
   ],
   "source": [
    "findKthLargest([3,2,1,5,6,4], k = 2)"
   ]
  }
 ],
 "metadata": {
  "kernelspec": {
   "display_name": "Python 3",
   "language": "python",
   "name": "python3"
  },
  "language_info": {
   "codemirror_mode": {
    "name": "ipython",
    "version": 3
   },
   "file_extension": ".py",
   "mimetype": "text/x-python",
   "name": "python",
   "nbconvert_exporter": "python",
   "pygments_lexer": "ipython3",
   "version": "3.7.4"
  }
 },
 "nbformat": 4,
 "nbformat_minor": 2
}
