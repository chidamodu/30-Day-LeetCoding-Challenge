{
 "cells": [
  {
   "cell_type": "code",
   "execution_count": null,
   "metadata": {},
   "outputs": [],
   "source": [
    "Given an integer array nums, find the contiguous subarray within an array (containing at least one number) which has \n",
    "the largest product.\n",
    "\n",
    "Example 1:\n",
    "Input: [2,3,-2,4]\n",
    "Output: 6\n",
    "Explanation: [2,3] has the largest product 6.\n",
    "\n",
    "Example 2:\n",
    "Input: [-2,0,-1]\n",
    "Output: 0\n",
    "Explanation: The result cannot be 2, because [-2,-1] is not a subarray."
   ]
  },
  {
   "cell_type": "code",
   "execution_count": null,
   "metadata": {},
   "outputs": [],
   "source": [
    "def maxProduct(nums):\n",
    "    max_val = nums[0]\n",
    "    max_end, min_end = nums[0], nums[0]\n",
    "    for i in range(1, len(nums)):\n",
    "        tmp = max_end\n",
    "        max_end = max({nums[i], nums[i]*max_end, nums[i]*min_end})\n",
    "        min_end = min({nums[i], nums[i]*tmp, nums[i]*min_end})\n",
    "        max_val = max(max_val, max_end)\n",
    "        \n",
    "    return max_val\n",
    "\n",
    "result:\n",
    "Your runtime beats 60.16 % of python3 submissions.\n",
    "Runtime: 60 ms\n",
    "Memory Usage: 13.9 MB"
   ]
  }
 ],
 "metadata": {
  "kernelspec": {
   "display_name": "Python 3",
   "language": "python",
   "name": "python3"
  },
  "language_info": {
   "codemirror_mode": {
    "name": "ipython",
    "version": 3
   },
   "file_extension": ".py",
   "mimetype": "text/x-python",
   "name": "python",
   "nbconvert_exporter": "python",
   "pygments_lexer": "ipython3",
   "version": "3.7.4"
  }
 },
 "nbformat": 4,
 "nbformat_minor": 2
}
