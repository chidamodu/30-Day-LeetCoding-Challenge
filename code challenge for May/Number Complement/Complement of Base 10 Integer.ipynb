{
 "cells": [
  {
   "cell_type": "code",
   "execution_count": null,
   "metadata": {},
   "outputs": [],
   "source": [
    "class Solution:\n",
    "    def bitwiseComplement(self, N: int) -> int:\n",
    "        r=''\n",
    "        complement={\"0\":\"1\", \"1\":\"0\"}\n",
    "\n",
    "        if N==0:\n",
    "            return 1\n",
    "        \n",
    "        else:\n",
    "            while N>0:\n",
    "                r+=str(N%2)\n",
    "                N=N//2\n",
    "    \n",
    "        return int(''.join(complement[x] for x in r[::-1]), 2)\n",
    "        \n",
    "Runtime: 24 ms, faster than 90.12% of Python3 online submissions for Complement of Base 10 Integer.\n",
    "Memory Usage: 13.9 MB, less than 6.67% of Python3 online submissions for Complement of Base 10 Integer."
   ]
  },
  {
   "cell_type": "code",
   "execution_count": null,
   "metadata": {},
   "outputs": [],
   "source": [
    "class Solution:\n",
    "    def bitwiseComplement(self, N: int) -> int:\n",
    "        length=len(bin(N)[2:])\n",
    "            \n",
    "        return (2**length)-1-N\n",
    "        \n",
    "Runtime: 24 ms, faster than 90.12% of Python3 online submissions for Complement of Base 10 Integer.\n",
    "Memory Usage: 14 MB, less than 6.67% of Python3 online submissions for Complement of Base 10 Integer.\n"
   ]
  },
  {
   "cell_type": "code",
   "execution_count": null,
   "metadata": {},
   "outputs": [],
   "source": [
    "Every non-negative integer N has a binary representation.  For example, 5 can be represented as \"101\" in binary, 11 as\n",
    "\"1011\" in binary, and so on.  Note that except for N = 0, there are no leading zeroes in any binary representation.\n",
    "\n",
    "The complement of a binary representation is the number in binary you get when changing every 1 to a 0 and 0 to a 1.\n",
    "For example, the complement of \"101\" in binary is \"010\" in binary.\n",
    "\n",
    "For a given number N in base-10, return the complement of its binary representation as a base-10 integer.\n",
    "\n",
    " \n",
    "\n",
    "Example 1:\n",
    "\n",
    "Input: 5\n",
    "Output: 2\n",
    "Explanation: 5 is \"101\" in binary, with complement \"010\" in binary, which is 2 in base-10.\n",
    "Example 2:\n",
    "\n",
    "Input: 7\n",
    "Output: 0\n",
    "Explanation: 7 is \"111\" in binary, with complement \"000\" in binary, which is 0 in base-10.\n",
    "Example 3:\n",
    "\n",
    "Input: 10\n",
    "Output: 5\n",
    "Explanation: 10 is \"1010\" in binary, with complement \"0101\" in binary, which is 5 in base-10."
   ]
  }
 ],
 "metadata": {
  "kernelspec": {
   "display_name": "Python 3",
   "language": "python",
   "name": "python3"
  },
  "language_info": {
   "codemirror_mode": {
    "name": "ipython",
    "version": 3
   },
   "file_extension": ".py",
   "mimetype": "text/x-python",
   "name": "python",
   "nbconvert_exporter": "python",
   "pygments_lexer": "ipython3",
   "version": "3.7.4"
  }
 },
 "nbformat": 4,
 "nbformat_minor": 2
}
