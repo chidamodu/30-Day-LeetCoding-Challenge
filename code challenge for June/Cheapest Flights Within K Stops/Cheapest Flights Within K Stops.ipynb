{
 "cells": [
  {
   "cell_type": "code",
   "execution_count": null,
   "metadata": {},
   "outputs": [],
   "source": [
    "There are n cities connected by m flights. Each flight starts from city u and arrives at v with a price w.\n",
    "\n",
    "Now given all the cities and flights, together with starting city src and the destination dst, your task is to find the cheapest price from src to dst with up to k stops. If there is no such route, output -1.\n",
    "\n",
    "Example 1:\n",
    "\n",
    "Input: \n",
    "n = 3, edges = [[0,1,100],[1,2,100],[0,2,500]]\n",
    "src = 0, dst = 2, k = 1\n",
    "\n",
    "Output: 200\n",
    "\n",
    "Explanation:\n",
    "The cheapest price from city 0 to city 2 with at most 1 stop costs 200, as marked red in the picture.\n",
    "\n",
    "---------------------------------------------------------------------------------------------------------------------\n",
    "Example 2:\n",
    "\n",
    "Input: \n",
    "n = 3, edges = [[0,1,100],[1,2,100],[0,2,500]]\n",
    "src = 0, dst = 2, k = 0\n",
    "\n",
    "Output: 500\n",
    "\n",
    "Explanation: \n",
    "The cheapest price from city 0 to city 2 with at most 0 stop costs 500, as marked blue in the picture"
   ]
  },
  {
   "cell_type": "code",
   "execution_count": 43,
   "metadata": {},
   "outputs": [],
   "source": [
    "def findCheapestPrice(n, flights, src, dst, K):\n",
    "    from collections import defaultdict\n",
    "    price=defaultdict(lambda:float('inf'))\n",
    "    location=defaultdict(list)\n",
    "    \n",
    "    if src==dst:\n",
    "        return 0\n",
    "    \n",
    "    for u, v, p in flights:\n",
    "        location[u]+=[(v, p)]\n",
    "\n",
    "   \n",
    "    \n",
    "    \n",
    "    q=[(src, -1, 0)]\n",
    "    \n",
    "    while q:\n",
    "        position, k, cost=q.pop(0)\n",
    "        \n",
    "        if position==dst or k==K:\n",
    "            continue\n",
    "            \n",
    "        for ni, p in location[position]:\n",
    "            if cost+p >= price[ni]:\n",
    "                continue\n",
    "            else:\n",
    "                price[ni]=cost+p\n",
    "                q+=[(ni, k+1, cost+p)]\n",
    "                \n",
    "    if price[dst] < float('inf'):\n",
    "        return price[dst]\n",
    "    \n",
    "    else:\n",
    "        return -1\n",
    "        \n",
    "        \n",
    "result:\n",
    "Your runtime beats 37.81 % of python3 submissions.\n",
    "Runtime: 136 ms\n",
    "Memory Usage: 14.5 MB"
   ]
  },
  {
   "cell_type": "code",
   "execution_count": 44,
   "metadata": {},
   "outputs": [
    {
     "data": {
      "text/plain": [
       "500"
      ]
     },
     "execution_count": 44,
     "metadata": {},
     "output_type": "execute_result"
    }
   ],
   "source": [
    "findCheapestPrice(3, [[0,1,100],[1,2,100],[0,2,500]], 0, 2, 0)"
   ]
  }
 ],
 "metadata": {
  "kernelspec": {
   "display_name": "Python 3",
   "language": "python",
   "name": "python3"
  },
  "language_info": {
   "codemirror_mode": {
    "name": "ipython",
    "version": 3
   },
   "file_extension": ".py",
   "mimetype": "text/x-python",
   "name": "python",
   "nbconvert_exporter": "python",
   "pygments_lexer": "ipython3",
   "version": "3.7.4"
  }
 },
 "nbformat": 4,
 "nbformat_minor": 2
}
