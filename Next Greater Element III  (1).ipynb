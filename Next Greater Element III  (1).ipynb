{
 "cells": [
  {
   "cell_type": "code",
   "execution_count": null,
   "metadata": {},
   "outputs": [],
   "source": [
    "Given a positive integer n, find the smallest integer which has exactly the same digits existing in the integer n and \n",
    "is greater in value than n. If no such positive integer exists, return -1.\n",
    "\n",
    "Note that the returned integer should fit in 32-bit integer, if there is a valid answer but it does not fit in \n",
    "32-bit integer, return -1.\n",
    "\n",
    "\n",
    "Example 1:\n",
    "Input: n = 12\n",
    "Output: 21\n",
    "\n",
    "Example 2:\n",
    "Input: n = 21\n",
    "Output: -1\n",
    " \n",
    "\n",
    "Constraints:\n",
    "1 <= n <= 231 - 1"
   ]
  },
  {
   "cell_type": "code",
   "execution_count": 52,
   "metadata": {},
   "outputs": [],
   "source": [
    "Trial\n",
    "\n",
    "def nextGreaterElement(n):\n",
    "    end=len(str(n))-1\n",
    "    dip_index=0\n",
    "#     for i in range(len(str(n))-1, -1, -1):\n",
    "    while end>0:\n",
    "        if str(n)[end-1]<str(n)[end]:\n",
    "            dip_index=end-1\n",
    "            break\n",
    "        end-=1\n",
    "        \n",
    "    for i in (str(n)[dip_index+1:])[::-1]:\n",
    "        if i>str(n)[dip_index]:\n",
    "    \n",
    "            str(n)[dip_index], i=i, str(n)[dip_index]\n",
    "            break\n",
    "            \n",
    "    print(str(n))\n",
    "        \n",
    "        \n",
    "       \n",
    "#     print(dip_index)\n",
    "#             for i in range(str(n)[end-1:], -1, -1):\n",
    "#                 if \n",
    "        "
   ]
  },
  {
   "cell_type": "code",
   "execution_count": 53,
   "metadata": {},
   "outputs": [
    {
     "ename": "TypeError",
     "evalue": "'str' object does not support item assignment",
     "output_type": "error",
     "traceback": [
      "\u001b[0;31m---------------------------------------------------------------------------\u001b[0m",
      "\u001b[0;31mTypeError\u001b[0m                                 Traceback (most recent call last)",
      "\u001b[0;32m<ipython-input-53-82757f532f19>\u001b[0m in \u001b[0;36m<module>\u001b[0;34m\u001b[0m\n\u001b[0;32m----> 1\u001b[0;31m \u001b[0mnextGreaterElement\u001b[0m\u001b[0;34m(\u001b[0m\u001b[0;36m13951\u001b[0m\u001b[0;34m)\u001b[0m\u001b[0;34m\u001b[0m\u001b[0;34m\u001b[0m\u001b[0m\n\u001b[0m",
      "\u001b[0;32m<ipython-input-52-bff2bd353b20>\u001b[0m in \u001b[0;36mnextGreaterElement\u001b[0;34m(n)\u001b[0m\n\u001b[1;32m     12\u001b[0m         \u001b[0;32mif\u001b[0m \u001b[0mi\u001b[0m\u001b[0;34m>\u001b[0m\u001b[0mstr\u001b[0m\u001b[0;34m(\u001b[0m\u001b[0mn\u001b[0m\u001b[0;34m)\u001b[0m\u001b[0;34m[\u001b[0m\u001b[0mdip_index\u001b[0m\u001b[0;34m]\u001b[0m\u001b[0;34m:\u001b[0m\u001b[0;34m\u001b[0m\u001b[0;34m\u001b[0m\u001b[0m\n\u001b[1;32m     13\u001b[0m \u001b[0;34m\u001b[0m\u001b[0m\n\u001b[0;32m---> 14\u001b[0;31m             \u001b[0mstr\u001b[0m\u001b[0;34m(\u001b[0m\u001b[0mn\u001b[0m\u001b[0;34m)\u001b[0m\u001b[0;34m[\u001b[0m\u001b[0mdip_index\u001b[0m\u001b[0;34m]\u001b[0m\u001b[0;34m,\u001b[0m \u001b[0mi\u001b[0m\u001b[0;34m=\u001b[0m\u001b[0mi\u001b[0m\u001b[0;34m,\u001b[0m \u001b[0mstr\u001b[0m\u001b[0;34m(\u001b[0m\u001b[0mn\u001b[0m\u001b[0;34m)\u001b[0m\u001b[0;34m[\u001b[0m\u001b[0mdip_index\u001b[0m\u001b[0;34m]\u001b[0m\u001b[0;34m\u001b[0m\u001b[0;34m\u001b[0m\u001b[0m\n\u001b[0m\u001b[1;32m     15\u001b[0m             \u001b[0;32mbreak\u001b[0m\u001b[0;34m\u001b[0m\u001b[0;34m\u001b[0m\u001b[0m\n\u001b[1;32m     16\u001b[0m \u001b[0;34m\u001b[0m\u001b[0m\n",
      "\u001b[0;31mTypeError\u001b[0m: 'str' object does not support item assignment"
     ]
    }
   ],
   "source": [
    "nextGreaterElement(13951)"
   ]
  },
  {
   "cell_type": "code",
   "execution_count": 114,
   "metadata": {},
   "outputs": [],
   "source": [
    "Trial - yay my solution - fewer tweaks got it working in the cell below\n",
    "\n",
    "def nextGreaterElement(n):\n",
    "    l=list(map(int, str(n)))\n",
    "    end=len(l)-1\n",
    "    dip_index=0\n",
    "    \n",
    "    while end>0:#needed to include the if condition in the while statement.also had to include >=0 \n",
    "        if l[end-1]<l[end]:\n",
    "            dip_index=end-1\n",
    "            break\n",
    "        end-=1\n",
    "        \n",
    "    if dip_index==-1:\n",
    "        return -1\n",
    "    \n",
    "    swap_index=len(l)-1\n",
    "    while l[swap_index]<=l[dip_index]:\n",
    "        swap_index-=1\n",
    "        \n",
    "    l[dip_index], l[swap_index]=l[swap_index], l[dip_index]\n",
    "    \n",
    "    \n",
    "    l[dip_index+1:]=l[dip_index+1:][::-1]\n",
    "    \n",
    "    result=\"\"\n",
    "    for num in l:\n",
    "        result+=str(num)\n",
    "    result=int(result)\n",
    "    \n",
    "    return result if result<=(2**31)-1 else -1\n",
    "    \n",
    "        \n",
    "    \n"
   ]
  },
  {
   "cell_type": "code",
   "execution_count": 115,
   "metadata": {},
   "outputs": [
    {
     "ename": "IndexError",
     "evalue": "list index out of range",
     "output_type": "error",
     "traceback": [
      "\u001b[0;31m---------------------------------------------------------------------------\u001b[0m",
      "\u001b[0;31mIndexError\u001b[0m                                Traceback (most recent call last)",
      "\u001b[0;32m<ipython-input-115-fe2e3869a88c>\u001b[0m in \u001b[0;36m<module>\u001b[0;34m\u001b[0m\n\u001b[0;32m----> 1\u001b[0;31m \u001b[0mnextGreaterElement\u001b[0m\u001b[0;34m(\u001b[0m\u001b[0;36m21\u001b[0m\u001b[0;34m)\u001b[0m\u001b[0;34m\u001b[0m\u001b[0;34m\u001b[0m\u001b[0m\n\u001b[0m",
      "\u001b[0;32m<ipython-input-114-16162daadea6>\u001b[0m in \u001b[0;36mnextGreaterElement\u001b[0;34m(n)\u001b[0m\n\u001b[1;32m     14\u001b[0m \u001b[0;34m\u001b[0m\u001b[0m\n\u001b[1;32m     15\u001b[0m     \u001b[0mswap_index\u001b[0m\u001b[0;34m=\u001b[0m\u001b[0mlen\u001b[0m\u001b[0;34m(\u001b[0m\u001b[0ml\u001b[0m\u001b[0;34m)\u001b[0m\u001b[0;34m-\u001b[0m\u001b[0;36m1\u001b[0m\u001b[0;34m\u001b[0m\u001b[0;34m\u001b[0m\u001b[0m\n\u001b[0;32m---> 16\u001b[0;31m     \u001b[0;32mwhile\u001b[0m \u001b[0ml\u001b[0m\u001b[0;34m[\u001b[0m\u001b[0mswap_index\u001b[0m\u001b[0;34m]\u001b[0m\u001b[0;34m<=\u001b[0m\u001b[0ml\u001b[0m\u001b[0;34m[\u001b[0m\u001b[0mdip_index\u001b[0m\u001b[0;34m]\u001b[0m\u001b[0;34m:\u001b[0m\u001b[0;34m\u001b[0m\u001b[0;34m\u001b[0m\u001b[0m\n\u001b[0m\u001b[1;32m     17\u001b[0m         \u001b[0mswap_index\u001b[0m\u001b[0;34m-=\u001b[0m\u001b[0;36m1\u001b[0m\u001b[0;34m\u001b[0m\u001b[0;34m\u001b[0m\u001b[0m\n\u001b[1;32m     18\u001b[0m \u001b[0;34m\u001b[0m\u001b[0m\n",
      "\u001b[0;31mIndexError\u001b[0m: list index out of range"
     ]
    }
   ],
   "source": [
    "nextGreaterElement(21)"
   ]
  },
  {
   "cell_type": "code",
   "execution_count": 124,
   "metadata": {},
   "outputs": [],
   "source": [
    "Final submission\n",
    "\n",
    "def nextGreaterElement(n):\n",
    "    l=list(map(int, str(n)))\n",
    "    dip_index=len(l)-2\n",
    "    \n",
    "    \n",
    "    while dip_index>=0 and l[dip_index]>=l[dip_index+1]:\n",
    "        dip_index-=1\n",
    "        \n",
    "        \n",
    "    if dip_index==-1:\n",
    "        return -1\n",
    "    \n",
    "    swap_index=len(l)-1\n",
    "    while l[swap_index]<=l[dip_index]:\n",
    "        swap_index-=1\n",
    "        \n",
    "    l[dip_index], l[swap_index]=l[swap_index], l[dip_index]\n",
    "    \n",
    "    \n",
    "    l[dip_index+1:]=l[dip_index+1:][::-1]#because we want the smallest integer possible we reverse in this place\n",
    "    \n",
    "    result=\"\"\n",
    "    for num in l:\n",
    "        result+=str(num)\n",
    "    result=int(result)\n",
    "    \n",
    "    return result if result<=(2**31)-1 else -1#finally check whether the returned integer fits in 32-bit integer or not\n",
    "    \n",
    "    \n",
    "Your runtime beats 74.38 % of python3 submissions.\n",
    "Runtime: 28 ms\n",
    "Memory Usage: 14.3 MB"
   ]
  },
  {
   "cell_type": "code",
   "execution_count": 125,
   "metadata": {},
   "outputs": [
    {
     "data": {
      "text/plain": [
       "15139"
      ]
     },
     "execution_count": 125,
     "metadata": {},
     "output_type": "execute_result"
    }
   ],
   "source": [
    "nextGreaterElement(13951)"
   ]
  }
 ],
 "metadata": {
  "kernelspec": {
   "display_name": "Python 3",
   "language": "python",
   "name": "python3"
  },
  "language_info": {
   "codemirror_mode": {
    "name": "ipython",
    "version": 3
   },
   "file_extension": ".py",
   "mimetype": "text/x-python",
   "name": "python",
   "nbconvert_exporter": "python",
   "pygments_lexer": "ipython3",
   "version": "3.7.4"
  }
 },
 "nbformat": 4,
 "nbformat_minor": 2
}
