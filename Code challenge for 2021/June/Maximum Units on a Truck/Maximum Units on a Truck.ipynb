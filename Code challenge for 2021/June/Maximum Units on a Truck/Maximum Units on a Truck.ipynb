{
 "cells": [
  {
   "cell_type": "code",
   "execution_count": null,
   "metadata": {},
   "outputs": [],
   "source": [
    "You are assigned to put some amount of boxes onto one truck. You are given a 2D array boxTypes, where \n",
    "boxTypes[i] = [numberOfBoxesi, numberOfUnitsPerBoxi]:\n",
    "\n",
    "numberOfBoxesi is the number of boxes of type i.\n",
    "numberOfUnitsPerBoxi is the number of units in each box of the type i.\n",
    "You are also given an integer truckSize, which is the maximum number of boxes that can be put on the truck. \n",
    "You can choose any boxes to put on the truck as long as the number of boxes does not exceed truckSize.\n",
    "\n",
    "Return the maximum total number of units that can be put on the truck.\n",
    "\n",
    "Example 1:\n",
    "Input: boxTypes = [[1,3],[2,2],[3,1]], truckSize = 4\n",
    "Output: 8\n",
    "Explanation: There are:\n",
    "- 1 box of the first type that contains 3 units.\n",
    "- 2 boxes of the second type that contain 2 units each.\n",
    "- 3 boxes of the third type that contain 1 unit each.\n",
    "You can take all the boxes of the first and second types, and one box of the third type.\n",
    "The total number of units will be = (1 * 3) + (2 * 2) + (1 * 1) = 8.\n",
    "\n",
    "Example 2:\n",
    "Input: boxTypes = [[5,10],[2,5],[4,7],[3,9]], truckSize = 10\n",
    "Output: 91\n",
    " \n",
    "Constraints:\n",
    "1 <= boxTypes.length <= 1000\n",
    "1 <= numberOfBoxesi, numberOfUnitsPerBoxi <= 1000\n",
    "1 <= truckSize <= 106\n",
    "\n",
    "Hint #1  \n",
    "If we have space for at least one box, it's always optimal to put the box with the most units.\n",
    "\n",
    "Hint #2  \n",
    "Sort the box types with the number of units per box non-increasingly.\n",
    "\n",
    "Hint #3  \n",
    "Iterate on the box types and take from each type as many as you can."
   ]
  },
  {
   "cell_type": "code",
   "execution_count": 27,
   "metadata": {},
   "outputs": [],
   "source": [
    "def maximumUnits(boxTypes, truckSize):\n",
    "    boxTypes.sort(key=lambda x: x[1], reverse=True)\n",
    "    result_number=0\n",
    "    for num_box, unit in boxTypes:\n",
    "        if truckSize<=num_box:\n",
    "            result_number+=(truckSize*unit)\n",
    "            break\n",
    "        \n",
    "        result_number+=(num_box*unit)\n",
    "        truckSize-=num_box\n",
    "        \n",
    "    return result_number\n",
    "        \n",
    "    "
   ]
  },
  {
   "cell_type": "code",
   "execution_count": 28,
   "metadata": {},
   "outputs": [
    {
     "data": {
      "text/plain": [
       "91"
      ]
     },
     "execution_count": 28,
     "metadata": {},
     "output_type": "execute_result"
    }
   ],
   "source": [
    "maximumUnits(boxTypes = [[5,10],[2,5],[4,7],[3,9]], truckSize = 10)"
   ]
  },
  {
   "cell_type": "code",
   "execution_count": 6,
   "metadata": {},
   "outputs": [],
   "source": [
    "A=[[1,3],[2,4],[3,10]]\n",
    "A.sort(key=lambda x: x[1], reverse=True)"
   ]
  },
  {
   "cell_type": "code",
   "execution_count": 7,
   "metadata": {},
   "outputs": [
    {
     "data": {
      "text/plain": [
       "[[3, 10], [2, 4], [1, 3]]"
      ]
     },
     "execution_count": 7,
     "metadata": {},
     "output_type": "execute_result"
    }
   ],
   "source": [
    "A"
   ]
  },
  {
   "cell_type": "code",
   "execution_count": null,
   "metadata": {},
   "outputs": [],
   "source": [
    "Time Complexity : O(NlogN), where N is the number of elements in boxTypes\n",
    "Space Complexity : O(1), we are always using constant amount of space (ignoring the space required by the sort \n",
    "                                                                       algorithm)"
   ]
  }
 ],
 "metadata": {
  "kernelspec": {
   "display_name": "Python 3",
   "language": "python",
   "name": "python3"
  },
  "language_info": {
   "codemirror_mode": {
    "name": "ipython",
    "version": 3
   },
   "file_extension": ".py",
   "mimetype": "text/x-python",
   "name": "python",
   "nbconvert_exporter": "python",
   "pygments_lexer": "ipython3",
   "version": "3.7.4"
  }
 },
 "nbformat": 4,
 "nbformat_minor": 2
}
