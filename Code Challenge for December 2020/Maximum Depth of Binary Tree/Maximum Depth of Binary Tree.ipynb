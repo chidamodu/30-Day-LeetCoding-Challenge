{
 "cells": [
  {
   "cell_type": "code",
   "execution_count": null,
   "metadata": {},
   "outputs": [],
   "source": [
    "Given the root of a binary tree, return its maximum depth.\n",
    "\n",
    "A binary tree's maximum depth is the number of nodes along the longest path from the root node down to the farthest \n",
    "leaf node.\n",
    "\n",
    " \n",
    "\n",
    "Example 1:\n",
    "Input: root = [3,9,20,null,null,15,7]\n",
    "Output: 3\n",
    "\n",
    "Example 2:\n",
    "Input: root = [1,null,2]\n",
    "Output: 2\n",
    "\n",
    "Example 3:\n",
    "Input: root = []\n",
    "Output: 0\n",
    "\n",
    "Example 4:\n",
    "Input: root = [0]\n",
    "Output: 1\n",
    " \n",
    "\n",
    "Constraints:\n",
    "The number of nodes in the tree is in the range [0, 104].\n",
    "-100 <= Node.val <= 100\n"
   ]
  },
  {
   "cell_type": "code",
   "execution_count": null,
   "metadata": {},
   "outputs": [],
   "source": [
    "A depth first search approach\n",
    "\n",
    "# Definition for a binary tree node.\n",
    "# class TreeNode:\n",
    "#     def __init__(self, val=0, left=None, right=None):\n",
    "#         self.val = val\n",
    "#         self.left = left\n",
    "#         self.right = right\n",
    "class Solution:\n",
    "    def maxDepth(self, root: TreeNode) -> int:\n",
    "        if not root: return 0\n",
    "        \n",
    "        l=self.maxDepth(root.left)\n",
    "        r=self.maxDepth(root.right)\n",
    "        \n",
    "        if l>r:\n",
    "            return l+1\n",
    "        return r+1\n",
    "            "
   ]
  },
  {
   "cell_type": "code",
   "execution_count": null,
   "metadata": {},
   "outputs": [],
   "source": [
    "Alternative solution: one liner\n",
    "    \n",
    "# Definition for a binary tree node.\n",
    "# class TreeNode:\n",
    "#     def __init__(self, val=0, left=None, right=None):\n",
    "#         self.val = val\n",
    "#         self.left = left\n",
    "#         self.right = right\n",
    "class Solution:\n",
    "    def maxDepth(self, root: TreeNode) -> int:\n",
    "        if not root: return 0\n",
    "        return max(self.maxDepth(root.left), self.maxDepth(root.right))+1\n",
    "    "
   ]
  }
 ],
 "metadata": {
  "kernelspec": {
   "display_name": "Python 3",
   "language": "python",
   "name": "python3"
  },
  "language_info": {
   "codemirror_mode": {
    "name": "ipython",
    "version": 3
   },
   "file_extension": ".py",
   "mimetype": "text/x-python",
   "name": "python",
   "nbconvert_exporter": "python",
   "pygments_lexer": "ipython3",
   "version": "3.7.4"
  }
 },
 "nbformat": 4,
 "nbformat_minor": 2
}
