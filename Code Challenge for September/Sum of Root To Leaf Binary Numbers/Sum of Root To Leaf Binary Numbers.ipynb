{
 "cells": [
  {
   "cell_type": "code",
   "execution_count": null,
   "metadata": {},
   "outputs": [],
   "source": [
    "Given a binary tree, each node has value 0 or 1.  Each root-to-leaf path represents a binary number starting with the \n",
    "most significant bit.  For example, if the path is 0 -> 1 -> 1 -> 0 -> 1, then this could represent 01101 in binary, \n",
    "which is 13.\n",
    "\n",
    "For all leaves in the tree, consider the numbers represented by the path from the root to that leaf.\n",
    "\n",
    "Return the sum of these numbers.\n",
    "\n",
    "Example 1:\n",
    "Input: [1,0,1,0,1,0,1]\n",
    "Output: 22\n",
    "Explanation: (100) + (101) + (110) + (111) = 4 + 5 + 6 + 7 = 22\n",
    " \n",
    "Note:\n",
    "The number of nodes in the tree is between 1 and 1000.\n",
    "node.val is 0 or 1.\n",
    "The answer will not exceed 2^31 - 1."
   ]
  },
  {
   "cell_type": "code",
   "execution_count": null,
   "metadata": {},
   "outputs": [],
   "source": [
    "# Definition for a binary tree node.\n",
    "# class TreeNode:\n",
    "#     def __init__(self, val=0, left=None, right=None):\n",
    "#         self.val = val\n",
    "#         self.left = left\n",
    "#         self.right = right\n",
    "class Solution:\n",
    "    def sumRootToLeaf(self, root: TreeNode) -> int:\n",
    "        def sumRootToLeaf(root, s):\n",
    "            if root==None: return 0\n",
    "            s=(s<<1)+root.val\n",
    "            if root.left==None and root.right==None: return s\n",
    "            return sumRootToLeaf(root.left, s)+sumRootToLeaf(root.right, s)\n",
    "        return sumRootToLeaf(root, 0)\n",
    "        \n",
    "    \n",
    "    \n",
    "Your runtime beats 93.26 % of python3 submissions.\n",
    "Runtime: 32 ms\n",
    "Memory Usage: 14.2 MB"
   ]
  }
 ],
 "metadata": {
  "kernelspec": {
   "display_name": "Python 3",
   "language": "python",
   "name": "python3"
  },
  "language_info": {
   "codemirror_mode": {
    "name": "ipython",
    "version": 3
   },
   "file_extension": ".py",
   "mimetype": "text/x-python",
   "name": "python",
   "nbconvert_exporter": "python",
   "pygments_lexer": "ipython3",
   "version": "3.7.4"
  }
 },
 "nbformat": 4,
 "nbformat_minor": 2
}
