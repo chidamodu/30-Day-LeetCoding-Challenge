{
 "cells": [
  {
   "cell_type": "code",
   "execution_count": null,
   "metadata": {},
   "outputs": [],
   "source": [
    "In a country popular for train travel, you have planned some train travelling one year in advance.  The days of the \n",
    "year that you will travel is given as an array days.  Each day is an integer from 1 to 365.\n",
    "\n",
    "Train tickets are sold in 3 different ways:\n",
    "\n",
    "a 1-day pass is sold for costs[0] dollars;\n",
    "a 7-day pass is sold for costs[1] dollars;\n",
    "a 30-day pass is sold for costs[2] dollars.\n",
    "The passes allow that many days of consecutive travel.  For example, if we get a 7-day pass on day 2, then we can \n",
    "travel for 7 days: day 2, 3, 4, 5, 6, 7, and 8.\n",
    "\n",
    "Return the minimum number of dollars you need to travel every day in the given list of days.\n",
    "\n",
    " \n",
    "\n",
    "Example 1:\n",
    "Input: days = [1,4,6,7,8,20], costs = [2,7,15]\n",
    "Output: 11\n",
    "Explanation: \n",
    "For example, here is one way to buy passes that lets you travel your travel plan:\n",
    "On day 1, you bought a 1-day pass for costs[0] = $2, which covered day 1.\n",
    "On day 3, you bought a 7-day pass for costs[1] = $7, which covered days 3, 4, ..., 9.\n",
    "On day 20, you bought a 1-day pass for costs[0] = $2, which covered day 20.\n",
    "In total you spent $11 and covered all the days of your travel.\n",
    "\n",
    "Example 2:\n",
    "Input: days = [1,2,3,4,5,6,7,8,9,10,30,31], costs = [2,7,15]\n",
    "Output: 17\n",
    "Explanation: \n",
    "For example, here is one way to buy passes that lets you travel your travel plan:\n",
    "On day 1, you bought a 30-day pass for costs[2] = $15 which covered days 1, 2, ..., 30.\n",
    "On day 31, you bought a 1-day pass for costs[0] = $2 which covered day 31.\n",
    "In total you spent $17 and covered all the days of your travel.\n",
    " \n",
    "Note:\n",
    "1 <= days.length <= 365\n",
    "1 <= days[i] <= 365\n",
    "days is in strictly increasing order.\n",
    "costs.length == 3\n",
    "1 <= costs[i] <= 1000"
   ]
  },
  {
   "cell_type": "code",
   "execution_count": null,
   "metadata": {},
   "outputs": [],
   "source": [
    "class Solution:\n",
    "    def mincostTickets(self, days: List[int], costs: List[int]) -> int:\n",
    "        dayset = set(days)\n",
    "        durations = [1, 7, 30]\n",
    "\n",
    "        @lru_cache(None)\n",
    "        def dp(i):\n",
    "            if i > 365:\n",
    "                return 0\n",
    "            elif i in dayset:\n",
    "                return min(dp(i + d) + c\n",
    "                           for c, d in zip(costs, durations))\n",
    "            else:\n",
    "                return dp(i + 1)\n",
    "\n",
    "        return dp(1)\n",
    "        \n",
    "result:\n",
    "Your runtime beats 66.07 % of python3 submissions.\n",
    "Runtime: 48 ms\n",
    "Memory Usage: 14.8 MB"
   ]
  }
 ],
 "metadata": {
  "kernelspec": {
   "display_name": "Python 3",
   "language": "python",
   "name": "python3"
  },
  "language_info": {
   "codemirror_mode": {
    "name": "ipython",
    "version": 3
   },
   "file_extension": ".py",
   "mimetype": "text/x-python",
   "name": "python",
   "nbconvert_exporter": "python",
   "pygments_lexer": "ipython3",
   "version": "3.7.4"
  }
 },
 "nbformat": 4,
 "nbformat_minor": 2
}
