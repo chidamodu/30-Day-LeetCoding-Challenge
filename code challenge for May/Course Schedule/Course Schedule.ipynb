{
 "cells": [
  {
   "cell_type": "code",
   "execution_count": null,
   "metadata": {},
   "outputs": [],
   "source": [
    "\n",
    "There are a total of numCourses courses you have to take, labeled from 0 to numCourses-1.\n",
    "\n",
    "Some courses may have prerequisites, for example to take course 0 you have to first take course 1, which is expressed as a pair: [0,1]\n",
    "\n",
    "Given the total number of courses and a list of prerequisite pairs, is it possible for you to finish all courses?\n",
    "\n",
    " \n",
    "\n",
    "Example 1:\n",
    "\n",
    "Input: numCourses = 2, prerequisites = [[1,0]]\n",
    "Output: true\n",
    "Explanation: There are a total of 2 courses to take. \n",
    "             To take course 1 you should have finished course 0. So it is possible.\n",
    "Example 2:\n",
    "\n",
    "Input: numCourses = 2, prerequisites = [[1,0],[0,1]]\n",
    "Output: false\n",
    "Explanation: There are a total of 2 courses to take. \n",
    "             To take course 1 you should have finished course 0, and to take course 0 you should\n",
    "             also have finished course 1. So it is impossible.\n",
    " \n",
    "\n",
    "Constraints:\n",
    "\n",
    "The input prerequisites is a graph represented by a list of edges, not adjacency matrices. \n",
    "\n",
    "You may assume that there are no duplicate edges in the input prerequisites.\n",
    "1 <= numCourses <= 10^5\n",
    "\n"
   ]
  },
  {
   "cell_type": "code",
   "execution_count": null,
   "metadata": {},
   "outputs": [],
   "source": [
    "class Solution:\n",
    "    def canFinish(self, numCourses: int, prerequisites: List[List[int]]) -> bool:\n",
    "        from collections import defaultdict\n",
    "        indegree=defaultdict(set)\n",
    "        outdegree=defaultdict(set)\n",
    "        for x, y in prerequisites:\n",
    "            indegree[x].add(y)\n",
    "            outdegree[y].add(x)\n",
    "        \n",
    "        connection_removed=0\n",
    "        indegree_zero=[]\n",
    "        \n",
    "        for i in range(numCourses):\n",
    "            if not indegree[i]:\n",
    "                indegree_zero.append(i)\n",
    "                connection_removed+=1\n",
    "                \n",
    "        while indegree_zero:\n",
    "            node=indegree_zero.pop()\n",
    "            for x in outdegree[node]:\n",
    "                indegree[x].remove(node)\n",
    "                if not indegree[x]:\n",
    "                    indegree_zero.append(x)\n",
    "                    connection_removed+=1\n",
    "                    \n",
    "        return connection_removed==numCourses\n",
    "                \n",
    "                \n",
    "# Your runtime beats 42.08 % of python3 submissions.\n",
    "# Runtime: 116 ms\n",
    "# Memory Usage: 15.1 MB"
   ]
  }
 ],
 "metadata": {
  "kernelspec": {
   "display_name": "Python 3",
   "language": "python",
   "name": "python3"
  },
  "language_info": {
   "codemirror_mode": {
    "name": "ipython",
    "version": 3
   },
   "file_extension": ".py",
   "mimetype": "text/x-python",
   "name": "python",
   "nbconvert_exporter": "python",
   "pygments_lexer": "ipython3",
   "version": "3.7.4"
  }
 },
 "nbformat": 4,
 "nbformat_minor": 2
}
