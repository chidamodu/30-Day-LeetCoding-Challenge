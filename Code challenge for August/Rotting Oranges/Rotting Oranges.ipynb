{
 "cells": [
  {
   "cell_type": "code",
   "execution_count": null,
   "metadata": {},
   "outputs": [],
   "source": [
    "In a given grid, each cell can have one of three values:\n",
    "\n",
    "the value 0 representing an empty cell;\n",
    "the value 1 representing a fresh orange;\n",
    "the value 2 representing a rotten orange.\n",
    "Every minute, any fresh orange that is adjacent (4-directionally) to a rotten orange becomes rotten.\n",
    "\n",
    "Return the minimum number of minutes that must elapse until no cell has a fresh orange.  If this is impossible, \n",
    "return -1 instead.\n",
    "\n",
    "\n",
    "Example 1:\n",
    "Input: [[2,1,1],[1,1,0],[0,1,1]]\n",
    "Output: 4\n",
    "\n",
    "    \n",
    "Example 2:\n",
    "Input: [[2,1,1],[0,1,1],[1,0,1]]\n",
    "Output: -1\n",
    "Explanation:  The orange in the bottom left corner (row 2, column 0) is never rotten, because rotting only happens \n",
    "4-directionally.\n",
    "\n",
    "\n",
    "Example 3:\n",
    "Input: [[0,2]]\n",
    "Output: 0\n",
    "Explanation:  Since there are already no fresh oranges at minute 0, the answer is just 0.\n",
    " \n",
    "\n",
    "Note:\n",
    "1 <= grid.length <= 10\n",
    "1 <= grid[0].length <= 10\n",
    "grid[i][j] is only 0, 1, or 2.\n"
   ]
  },
  {
   "cell_type": "code",
   "execution_count": null,
   "metadata": {},
   "outputs": [],
   "source": [
    "class Solution:\n",
    "    def orangesRotting(self, grid: List[List[int]]) -> int:\n",
    "        m, n, queue, fresh = len(grid), len(grid[0]), deque(), 0\n",
    "        for i,j in product(range(m), range(n)):\n",
    "            if grid[i][j] == 2: queue.append((i,j))\n",
    "            if grid[i][j] == 1: fresh += 1\n",
    "        d = [[1,0],[-1,0],[0,1],[0,-1]]\n",
    "        levels = 0\n",
    "        \n",
    "        while queue:\n",
    "            levels += 1\n",
    "            for _ in range(len(queue)):\n",
    "                x, y = queue.popleft()\n",
    "                for dx, dy in d:\n",
    "                    if 0<=x+dx<m and 0<=y+dy<n and grid[x+dx][y+dy] == 1:\n",
    "                        fresh -= 1\n",
    "                        grid[x+dx][y+dy] = 2\n",
    "                        queue.append((x+dx, y+dy))\n",
    "                        \n",
    "        return -1 if fresh != 0 else max(levels-1, 0)\n",
    "        \n",
    "\n",
    "\n",
    "result:\n",
    "Your runtime beats 93.18 % of python3 submissions.\n",
    "Runtime: 48 ms\n",
    "Memory Usage: 13.8 MB"
   ]
  }
 ],
 "metadata": {
  "kernelspec": {
   "display_name": "Python 3",
   "language": "python",
   "name": "python3"
  },
  "language_info": {
   "codemirror_mode": {
    "name": "ipython",
    "version": 3
   },
   "file_extension": ".py",
   "mimetype": "text/x-python",
   "name": "python",
   "nbconvert_exporter": "python",
   "pygments_lexer": "ipython3",
   "version": "3.7.4"
  }
 },
 "nbformat": 4,
 "nbformat_minor": 2
}
