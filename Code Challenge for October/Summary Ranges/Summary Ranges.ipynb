{
 "cells": [
  {
   "cell_type": "code",
   "execution_count": null,
   "metadata": {},
   "outputs": [],
   "source": [
    "You are given a sorted unique integer array nums.\n",
    "\n",
    "Return the smallest sorted list of ranges that cover all the numbers in the array exactly. That is, each element of \n",
    "nums is covered by exactly one of the ranges, and there is no integer x such that x is in one of the ranges but not \n",
    "in nums.\n",
    "\n",
    "Each range [a,b] in the list should be output as:\n",
    "\n",
    "\"a->b\" if a != b\n",
    "\"a\" if a == b\n",
    " \n",
    "\n",
    "Example 1:\n",
    "Input: nums = [0,1,2,4,5,7]\n",
    "Output: [\"0->2\",\"4->5\",\"7\"]\n",
    "Explanation: The ranges are:\n",
    "[0,2] --> \"0->2\"\n",
    "[4,5] --> \"4->5\"\n",
    "[7,7] --> \"7\"\n",
    "\n",
    "Example 2:\n",
    "Input: nums = [0,2,3,4,6,8,9]\n",
    "Output: [\"0\",\"2->4\",\"6\",\"8->9\"]\n",
    "Explanation: The ranges are:\n",
    "[0,0] --> \"0\"\n",
    "[2,4] --> \"2->4\"\n",
    "[6,6] --> \"6\"\n",
    "[8,9] --> \"8->9\"\n",
    "\n",
    "Example 3:\n",
    "Input: nums = []\n",
    "Output: []\n",
    "\n",
    "Example 4:\n",
    "Input: nums = [-1]\n",
    "Output: [\"-1\"]\n",
    "\n",
    "Example 5:\n",
    "Input: nums = [0]\n",
    "Output: [\"0\"]\n",
    " \n",
    "\n",
    "Constraints:\n",
    "0 <= nums.length <= 20\n",
    "-231 <= nums[i] <= 231 - 1\n",
    "All the values of nums are unique."
   ]
  },
  {
   "cell_type": "code",
   "execution_count": 53,
   "metadata": {},
   "outputs": [],
   "source": [
    "def summaryRanges(nums):\n",
    "    result=[]\n",
    "    answer=[]\n",
    "\n",
    "    for i in nums:\n",
    "        if not result or i != result[-1][-1] + 1:\n",
    "            result.append([i])   \n",
    "        else:\n",
    "            result[-1].append(i)\n",
    "    \n",
    "    for item in result:\n",
    "        if item[0]!=item[-1]:\n",
    "            answer.append(([item[0], item[-1]]))\n",
    "        else:\n",
    "            answer.append([item[-1]])\n",
    "                   \n",
    "    return [\"->\".join(map(str, i)) for i in answer]\n",
    "        \n",
    "        \n",
    "    \n",
    "outcome:\n",
    "Your runtime beats 71.99 % of python3 submissions.\n",
    "Runtime: 28 ms\n",
    "Memory Usage: 13.9 MB\n",
    "\n",
    "            \n",
    "    \n",
    "\n",
    "   \n",
    "Complexity: \n",
    "Time complexity is O(n), because we pass only once over our data. \n",
    "Space complexity is also potentially O(n), because it can be the size of our answer.               \n",
    "        \n",
    "                \n",
    "                \n",
    "                \n",
    "                \n",
    "                \n",
    "                "
   ]
  },
  {
   "cell_type": "code",
   "execution_count": 54,
   "metadata": {},
   "outputs": [
    {
     "data": {
      "text/plain": [
       "['0']"
      ]
     },
     "execution_count": 54,
     "metadata": {},
     "output_type": "execute_result"
    }
   ],
   "source": [
    "summaryRanges(nums = [0])"
   ]
  },
  {
   "cell_type": "code",
   "execution_count": 59,
   "metadata": {},
   "outputs": [],
   "source": [
    "Brilliant and succinct approach\n",
    "\n",
    "def summaryRanges(nums):\n",
    "    i, result, N = 0, [], len(nums)\n",
    "        \n",
    "    while i < N:\n",
    "        \n",
    "        beg = end = i\n",
    "        \n",
    "        while end < N - 1 and nums[end] + 1 == nums[end + 1]:\n",
    "            end += 1\n",
    "        \n",
    "        result.append(str(nums[beg]) + (\"->\" + str(nums[end])) * (beg != end))   \n",
    "        \n",
    "        i = end + 1\n",
    "        \n",
    "    return result\n",
    "\n",
    "IMHO:\n",
    "(beg != end): This is a brilliant idea to include this boolean statement here and directly add the beginning and end without having to \n",
    "use two lists.\n",
    "\n",
    "Complexity: \n",
    "Time complexity is O(n), because we pass only once over our data. \n",
    "Space complexity is also potentially O(n), because it can be the size of our answer.               \n",
    "        \n",
    "                \n",
    "        "
   ]
  },
  {
   "cell_type": "code",
   "execution_count": 60,
   "metadata": {},
   "outputs": [
    {
     "name": "stdout",
     "output_type": "stream",
     "text": [
      "True\n",
      "True\n",
      "False\n"
     ]
    },
    {
     "data": {
      "text/plain": [
       "['0->2', '4->5', '7']"
      ]
     },
     "execution_count": 60,
     "metadata": {},
     "output_type": "execute_result"
    }
   ],
   "source": [
    "summaryRanges(nums = [0,1,2,4,5,7])"
   ]
  },
  {
   "cell_type": "code",
   "execution_count": 71,
   "metadata": {},
   "outputs": [],
   "source": [
    "Alternative approach\n",
    "\n",
    "def summaryRanges(nums):\n",
    "    result=[]\n",
    "    answer=[]\n",
    "\n",
    "    for i in nums:\n",
    "        if not result or i != result[-1][-1] + 1:\n",
    "            if result and len(result[-1])>=2:\n",
    "                result[-1]=[result[-1][0]]+[result[-1][-1]]\n",
    "            result.append([i])   \n",
    "        else:\n",
    "            result[-1].append(i)\n",
    "            \n",
    "        if result and len(result[-1])>=2:\n",
    "            result[-1]=[result[-1][0]]+[result[-1][-1]]\n",
    "            \n",
    "    return [\"->\".join(map(str, i)) for i in result]\n",
    "    "
   ]
  },
  {
   "cell_type": "code",
   "execution_count": 72,
   "metadata": {},
   "outputs": [
    {
     "data": {
      "text/plain": [
       "['0->2', '4->5', '7']"
      ]
     },
     "execution_count": 72,
     "metadata": {},
     "output_type": "execute_result"
    }
   ],
   "source": [
    "summaryRanges(nums = [0,1,2,4,5,7])"
   ]
  }
 ],
 "metadata": {
  "kernelspec": {
   "display_name": "Python 3",
   "language": "python",
   "name": "python3"
  },
  "language_info": {
   "codemirror_mode": {
    "name": "ipython",
    "version": 3
   },
   "file_extension": ".py",
   "mimetype": "text/x-python",
   "name": "python",
   "nbconvert_exporter": "python",
   "pygments_lexer": "ipython3",
   "version": "3.7.4"
  }
 },
 "nbformat": 4,
 "nbformat_minor": 2
}
