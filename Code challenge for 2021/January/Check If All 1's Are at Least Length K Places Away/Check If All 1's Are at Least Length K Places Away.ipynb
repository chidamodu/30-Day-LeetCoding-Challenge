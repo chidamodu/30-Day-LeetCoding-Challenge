{
 "cells": [
  {
   "cell_type": "code",
   "execution_count": null,
   "metadata": {},
   "outputs": [],
   "source": [
    "Given an array nums of 0s and 1s and an integer k, return True if all 1's are at least k places away from each other, \n",
    "otherwise return False.\n",
    "\n",
    "Example 1:\n",
    "Input: nums = [1,0,0,0,1,0,0,1], k = 2\n",
    "Output: true\n",
    "Explanation: Each of the 1s are at least 2 places away from each other.\n",
    "\n",
    "Example 2:\n",
    "Input: nums = [1,0,0,1,0,1], k = 2\n",
    "Output: false\n",
    "Explanation: The second 1 and third 1 are only one apart from each other.\n",
    "\n",
    "Example 3:\n",
    "Input: nums = [1,1,1,1,1], k = 0\n",
    "Output: true\n",
    "\n",
    "Example 4:\n",
    "Input: nums = [0,1,0,1], k = 1\n",
    "Output: true\n",
    " \n",
    "\n",
    "Constraints:\n",
    "1 <= nums.length <= 105\n",
    "0 <= k <= nums.length\n",
    "nums[i] is 0 or 1\n",
    "\n",
    "Hint #1  \n",
    "Each time you find a number 1, check whether or not it is K or more places away from the next one. If it's not, \n",
    "return false.\n"
   ]
  },
  {
   "cell_type": "code",
   "execution_count": 24,
   "metadata": {},
   "outputs": [],
   "source": [
    "first draft - windy solution with not great runtime\n",
    "\n",
    "def kLengthApart(nums, k):\n",
    "    prev_one=0\n",
    "    d=[]\n",
    "    for i, val in enumerate(nums):\n",
    "        if val==1:\n",
    "            d.append(i)\n",
    "            \n",
    "    for ind in range(len(d)-1):\n",
    "        if d[ind+1]-d[ind]-1 >=k:\n",
    "            continue\n",
    "        else:\n",
    "            return False\n",
    "        \n",
    "    return True\n",
    "        \n",
    "        \n",
    "Runtime: 576 ms\n",
    "Memory Usage: 20.1 MB\n",
    "Your runtime beats 48.24 % of python3 submissions."
   ]
  },
  {
   "cell_type": "code",
   "execution_count": 25,
   "metadata": {},
   "outputs": [
    {
     "data": {
      "text/plain": [
       "True"
      ]
     },
     "execution_count": 25,
     "metadata": {},
     "output_type": "execute_result"
    }
   ],
   "source": [
    "kLengthApart(nums = [0,1,0,1], k = 1)"
   ]
  },
  {
   "cell_type": "code",
   "execution_count": null,
   "metadata": {},
   "outputs": [],
   "source": [
    "Alternative solution with better runtime\n",
    "\n",
    "def kLengthApart(nums, k):\n",
    "    count = k\n",
    "    for num in nums:\n",
    "        if num == 1:\n",
    "            if count < k:\n",
    "                return False\n",
    "            # reinitialize counter\n",
    "            count = 0\n",
    "            \n",
    "        # if the current integer is 0\n",
    "        else:\n",
    "            # increase the counter\n",
    "            count += 1\n",
    "                \n",
    "    return True\n",
    "    \n",
    "        \n",
    "Runtime: 540 ms\n",
    "Memory Usage: 17 MB\n",
    "Your runtime beats 94.49 % of python3 submissions."
   ]
  },
  {
   "cell_type": "code",
   "execution_count": null,
   "metadata": {},
   "outputs": [],
   "source": [
    "Complexity Analysis\n",
    "\n",
    "Time complexity: \n",
    "O(N) to parse an array of N elements.\n",
    "\n",
    "Space complexity: \n",
    "O(1) since we don't allocate any additional data structures here. "
   ]
  }
 ],
 "metadata": {
  "kernelspec": {
   "display_name": "Python 3",
   "language": "python",
   "name": "python3"
  },
  "language_info": {
   "codemirror_mode": {
    "name": "ipython",
    "version": 3
   },
   "file_extension": ".py",
   "mimetype": "text/x-python",
   "name": "python",
   "nbconvert_exporter": "python",
   "pygments_lexer": "ipython3",
   "version": "3.7.4"
  }
 },
 "nbformat": 4,
 "nbformat_minor": 2
}
