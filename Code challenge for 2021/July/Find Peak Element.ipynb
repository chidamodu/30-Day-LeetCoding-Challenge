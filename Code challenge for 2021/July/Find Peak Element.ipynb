{
 "cells": [
  {
   "cell_type": "code",
   "execution_count": null,
   "metadata": {},
   "outputs": [],
   "source": [
    "A peak element is an element that is strictly greater than its neighbors.\n",
    "\n",
    "Given an integer array nums, find a peak element, and return its index. If the array contains multiple peaks, return \n",
    "the index to any of the peaks.\n",
    "\n",
    "You may imagine that nums[-1] = nums[n] = -∞.\n",
    "\n",
    "You must write an algorithm that runs in O(log n) time.\n",
    "\n",
    "Example 1:\n",
    "Input: nums = [1,2,3,1]\n",
    "Output: 2\n",
    "Explanation: 3 is a peak element and your function should return the index number 2.\n",
    "\n",
    "Example 2:\n",
    "Input: nums = [1,2,1,3,5,6,4]\n",
    "Output: 5\n",
    "Explanation: Your function can return either index number 1 where the peak element is 2, or index number 5 where the \n",
    "peak element is 6.\n",
    "\n",
    "Constraints:\n",
    "1 <= nums.length <= 1000\n",
    "-231 <= nums[i] <= 231 - 1\n",
    "nums[i] != nums[i + 1] for all valid i.\n"
   ]
  },
  {
   "cell_type": "code",
   "execution_count": 15,
   "metadata": {},
   "outputs": [],
   "source": [
    "#First try - received a Runtime Error Message: IndexError: list index out of range\n",
    "\n",
    "def findPeakElement(nums):\n",
    "    peaks_index=[]\n",
    "    for i in range(1, len(nums)-1):\n",
    "        if nums[i]>nums[i-1] and nums[i]>nums[i+1]:\n",
    "            peaks_index.append(i)\n",
    "    return peaks_index[-1]\n",
    "                "
   ]
  },
  {
   "cell_type": "code",
   "execution_count": 16,
   "metadata": {},
   "outputs": [
    {
     "data": {
      "text/plain": [
       "2"
      ]
     },
     "execution_count": 16,
     "metadata": {},
     "output_type": "execute_result"
    }
   ],
   "source": [
    "findPeakElement(nums = [1,2,3,1])"
   ]
  },
  {
   "cell_type": "code",
   "execution_count": 21,
   "metadata": {},
   "outputs": [],
   "source": [
    "#Binary search to achieve O(log N)\n",
    "\n",
    "def findPeakElement(nums):\n",
    "    left=0\n",
    "    right=len(nums)-1\n",
    "    while right>left:\n",
    "        mid=left +(right-left)//2\n",
    "        if nums[mid]<nums[mid+1]:\n",
    "            left=mid+1\n",
    "        else:\n",
    "            right=mid\n",
    "    return left\n",
    "                "
   ]
  },
  {
   "cell_type": "code",
   "execution_count": 22,
   "metadata": {},
   "outputs": [
    {
     "data": {
      "text/plain": [
       "5"
      ]
     },
     "execution_count": 22,
     "metadata": {},
     "output_type": "execute_result"
    }
   ],
   "source": [
    "findPeakElement(nums = [1,2,1,3,5,6,4])"
   ]
  },
  {
   "cell_type": "code",
   "execution_count": null,
   "metadata": {},
   "outputs": [],
   "source": [
    "Time complexity: O(log N)"
   ]
  }
 ],
 "metadata": {
  "kernelspec": {
   "display_name": "Python 3",
   "language": "python",
   "name": "python3"
  },
  "language_info": {
   "codemirror_mode": {
    "name": "ipython",
    "version": 3
   },
   "file_extension": ".py",
   "mimetype": "text/x-python",
   "name": "python",
   "nbconvert_exporter": "python",
   "pygments_lexer": "ipython3",
   "version": "3.7.4"
  }
 },
 "nbformat": 4,
 "nbformat_minor": 2
}
