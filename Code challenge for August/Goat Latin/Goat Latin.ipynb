{
 "cells": [
  {
   "cell_type": "code",
   "execution_count": null,
   "metadata": {},
   "outputs": [],
   "source": [
    "A sentence S is given, composed of words separated by spaces. Each word consists of lowercase and uppercase letters \n",
    "only.\n",
    "\n",
    "We would like to convert the sentence to \"Goat Latin\" (a made-up language similar to Pig Latin.)\n",
    "\n",
    "The rules of Goat Latin are as follows:\n",
    "\n",
    "If a word begins with a vowel (a, e, i, o, or u), append \"ma\" to the end of the word.\n",
    "For example, the word 'apple' becomes 'applema'.\n",
    " \n",
    "If a word begins with a consonant (i.e. not a vowel), remove the first letter and append it to the end, then add \"ma\".\n",
    "For example, the word \"goat\" becomes \"oatgma\".\n",
    " \n",
    "Add one letter 'a' to the end of each word per its word index in the sentence, starting with 1.\n",
    "For example, the first word gets \"a\" added to the end, the second word gets \"aa\" added to the end and so on.\n",
    "Return the final sentence representing the conversion from S to Goat Latin. \n",
    "\n",
    "Example 1:\n",
    "Input: \"I speak Goat Latin\"\n",
    "Output: \"Imaa peaksmaaa oatGmaaaa atinLmaaaaa\"\n",
    "\n",
    "Example 2:\n",
    "Input: \"The quick brown fox jumped over the lazy dog\"\n",
    "Output: \"heTmaa uickqmaaa rownbmaaaa oxfmaaaaa umpedjmaaaaaa overmaaaaaaa hetmaaaaaaaa azylmaaaaaaaaa ogdmaaaaaaaaaa\"\n",
    " \n",
    "\n",
    "Notes:\n",
    "S contains only uppercase, lowercase and spaces. Exactly one space between each word.\n",
    "1 <= S.length <= 150."
   ]
  },
  {
   "cell_type": "code",
   "execution_count": 101,
   "metadata": {},
   "outputs": [],
   "source": [
    "My first attempt: not the cleanest code. also did not work for all test cases.\n",
    "\n",
    "def toGoatLatin(S):\n",
    "    \n",
    "    \n",
    "    even=['a', 'e', 'i', 'o', 'u']\n",
    "    \n",
    "    for ind, key in enumerate(S.split(), start=1):\n",
    "        \n",
    "        if key[0].lower() not in even:\n",
    "            S=S.replace(key, key[1:]+ key[0] +'ma'+ (ind*'a'))\n",
    "        \n",
    "        else:    \n",
    "            S=S.replace(key, key +'ma'+ (ind*'a')) \n",
    "            \n",
    "    return S\n",
    "            \n"
   ]
  },
  {
   "cell_type": "code",
   "execution_count": 102,
   "metadata": {},
   "outputs": [
    {
     "data": {
      "text/plain": [
       "'FdmaaaaRmaa vQoabFmaaa dmaaaa'"
      ]
     },
     "execution_count": 102,
     "metadata": {},
     "output_type": "execute_result"
    }
   ],
   "source": [
    "toGoatLatin(\"RFd FvQoab d\")"
   ]
  },
  {
   "cell_type": "code",
   "execution_count": 105,
   "metadata": {},
   "outputs": [],
   "source": [
    "def toGoatLatin(S):\n",
    "    even=['a', 'e', 'i', 'o', 'u']\n",
    "    solution, end_letter=\"\", \"\"\n",
    "    \n",
    "    for w in S.split():\n",
    "        end_letter+='a'\n",
    "        if not w[0].lower() in even:\n",
    "            w=w[1:]+w[0]\n",
    "        solution+=w+'ma'+end_letter+ ' '#we are adding space and therefore there will be space after the last word\n",
    "        \n",
    "    return solution[:-1]#in order to get rid of the space after the last word \n",
    "        \n",
    "    \n",
    "result:\n",
    "Your memory usage beats 53.16 % of python3 submissions.\n",
    "Runtime: 64 ms\n",
    "Memory Usage: 13.8 MB"
   ]
  },
  {
   "cell_type": "code",
   "execution_count": 106,
   "metadata": {},
   "outputs": [
    {
     "data": {
      "text/plain": [
       "'FdRmaa vQoabFmaaa dmaaaa'"
      ]
     },
     "execution_count": 106,
     "metadata": {},
     "output_type": "execute_result"
    }
   ],
   "source": [
    "toGoatLatin(\"RFd FvQoab d\")"
   ]
  }
 ],
 "metadata": {
  "kernelspec": {
   "display_name": "Python 3",
   "language": "python",
   "name": "python3"
  },
  "language_info": {
   "codemirror_mode": {
    "name": "ipython",
    "version": 3
   },
   "file_extension": ".py",
   "mimetype": "text/x-python",
   "name": "python",
   "nbconvert_exporter": "python",
   "pygments_lexer": "ipython3",
   "version": "3.7.4"
  }
 },
 "nbformat": 4,
 "nbformat_minor": 2
}
