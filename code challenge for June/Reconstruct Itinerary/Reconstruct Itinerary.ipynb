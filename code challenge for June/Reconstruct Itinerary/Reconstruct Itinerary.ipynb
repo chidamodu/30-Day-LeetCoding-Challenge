{
 "cells": [
  {
   "cell_type": "code",
   "execution_count": null,
   "metadata": {},
   "outputs": [],
   "source": [
    "Given a list of airline tickets represented by pairs of departure and arrival airports [from, to], reconstruct the \n",
    "itinerary in order. All of the tickets belong to a man who departs from JFK. Thus, the itinerary must begin with JFK.\n",
    "\n",
    "Note:\n",
    "If there are multiple valid itineraries, you should return the itinerary that has the smallest lexical order when \n",
    "read as a single string. For example, the itinerary [\"JFK\", \"LGA\"] has a smaller lexical order than [\"JFK\", \"LGB\"].\n",
    "All airports are represented by three capital letters (IATA code).\n",
    "You may assume all tickets form at least one valid itinerary.\n",
    "One must use all the tickets once and only once.\n",
    "\n",
    "Example 1:\n",
    "Input: [[\"MUC\", \"LHR\"], [\"JFK\", \"MUC\"], [\"SFO\", \"SJC\"], [\"LHR\", \"SFO\"]]\n",
    "Output: [\"JFK\", \"MUC\", \"LHR\", \"SFO\", \"SJC\"]\n",
    "\n",
    "Example 2:\n",
    "Input: [[\"JFK\",\"SFO\"],[\"JFK\",\"ATL\"],[\"SFO\",\"ATL\"],[\"ATL\",\"JFK\"],[\"ATL\",\"SFO\"]]\n",
    "Output: [\"JFK\",\"ATL\",\"JFK\",\"SFO\",\"ATL\",\"SFO\"]\n",
    "Explanation: Another possible reconstruction is [\"JFK\",\"SFO\",\"ATL\",\"JFK\",\"ATL\",\"SFO\"].\n",
    "             But it is larger in lexical order."
   ]
  },
  {
   "cell_type": "code",
   "execution_count": null,
   "metadata": {},
   "outputs": [],
   "source": [
    "class Solution:\n",
    "    def findItinerary(self, tickets: List[List[str]]) -> List[str]:\n",
    "        result, map_ = [], {}\n",
    "        stack = [\"JFK\"]\n",
    "\n",
    "        for i in tickets:\n",
    "            if i[0] in map_:\n",
    "                map_[i[0]].append(i[1])\n",
    "            else:\n",
    "                map_[i[0]] = [i[1]]\n",
    "        \n",
    "        for i in map_:\n",
    "            map_[i].sort()\n",
    "\n",
    "        while(stack):\n",
    "            curr = stack[-1]\n",
    "            if curr in map_ and len(map_[curr]) > 0:\n",
    "                stack.append(map_[curr].pop(0))\n",
    "            else:\n",
    "                result.append(stack.pop())\n",
    "        \n",
    "        return result[::-1]\n",
    "        \n",
    "result:\n",
    "Your runtime beats 66.50 % of python3 submissions.\n",
    "Runtime: 84 ms\n",
    "Memory Usage: 14.2 MB"
   ]
  }
 ],
 "metadata": {
  "kernelspec": {
   "display_name": "Python 3",
   "language": "python",
   "name": "python3"
  },
  "language_info": {
   "codemirror_mode": {
    "name": "ipython",
    "version": 3
   },
   "file_extension": ".py",
   "mimetype": "text/x-python",
   "name": "python",
   "nbconvert_exporter": "python",
   "pygments_lexer": "ipython3",
   "version": "3.7.4"
  }
 },
 "nbformat": 4,
 "nbformat_minor": 2
}
