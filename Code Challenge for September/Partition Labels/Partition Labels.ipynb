{
 "cells": [
  {
   "cell_type": "code",
   "execution_count": null,
   "metadata": {},
   "outputs": [],
   "source": [
    "A string S of lowercase English letters is given. We want to partition this string into as many parts as possible so \n",
    "that each letter appears in at most one part, and return a list of integers representing the size of these parts.\n",
    "\n",
    "Example 1:\n",
    "Input: S = \"ababcbacadefegdehijhklij\"\n",
    "Output: [9,7,8]\n",
    "Explanation:\n",
    "The partition is \"ababcbaca\", \"defegde\", \"hijhklij\".\n",
    "This is a partition so that each letter appears in at most one part.\n",
    "A partition like \"ababcbacadefegde\", \"hijhklij\" is incorrect, because it splits S into less parts.\n",
    " \n",
    "Note:\n",
    "S will have length in range [1, 500].\n",
    "S will consist of lowercase English letters ('a' to 'z') only.\n",
    "\n",
    "Hint:\n",
    "Try to greedily choose the smallest partition that includes the first letter. If you have something like \n",
    "\"abaccbdeffed\", then you might need to add b. You can use an map like \"last['b'] = 5\" to help you expand the width of \n",
    "your partition.\n"
   ]
  },
  {
   "cell_type": "code",
   "execution_count": 1,
   "metadata": {},
   "outputs": [],
   "source": [
    "def partitionLabels(S):\n",
    "    end_ind=[0]*26\n",
    "    for i in range(len(S)):\n",
    "        end_ind[ord(S[i])-ord('a')]=i\n",
    "        \n",
    "    result=[]\n",
    "    start, end=0, 0\n",
    "    for i in range(len(S)):\n",
    "        end=max(end, end_ind[ord(S[i])-ord('a')])\n",
    "        if i==end:\n",
    "            result.append(i-start+1)\n",
    "            start=i+1\n",
    "    return result\n",
    "            "
   ]
  },
  {
   "cell_type": "code",
   "execution_count": 2,
   "metadata": {},
   "outputs": [
    {
     "data": {
      "text/plain": [
       "[9, 7, 8]"
      ]
     },
     "execution_count": 2,
     "metadata": {},
     "output_type": "execute_result"
    }
   ],
   "source": [
    "partitionLabels(\"ababcbacadefegdehijhklij\")"
   ]
  }
 ],
 "metadata": {
  "kernelspec": {
   "display_name": "Python 3",
   "language": "python",
   "name": "python3"
  },
  "language_info": {
   "codemirror_mode": {
    "name": "ipython",
    "version": 3
   },
   "file_extension": ".py",
   "mimetype": "text/x-python",
   "name": "python",
   "nbconvert_exporter": "python",
   "pygments_lexer": "ipython3",
   "version": "3.7.4"
  }
 },
 "nbformat": 4,
 "nbformat_minor": 2
}
