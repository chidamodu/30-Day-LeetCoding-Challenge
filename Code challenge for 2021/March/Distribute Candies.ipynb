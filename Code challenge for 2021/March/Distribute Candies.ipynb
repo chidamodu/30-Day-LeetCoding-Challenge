{
 "cells": [
  {
   "cell_type": "code",
   "execution_count": null,
   "metadata": {},
   "outputs": [],
   "source": [
    "Alice has n candies, where the ith candy is of type candyType[i]. Alice noticed that she started to gain weight, so \n",
    "she visited a doctor.\n",
    "\n",
    "The doctor advised Alice to only eat n / 2 of the candies she has (n is always even). Alice likes her candies very \n",
    "much, and she wants to eat the maximum number of different types of candies while still following the doctor's advice.\n",
    "\n",
    "Given the integer array candyType of length n, return the maximum number of different types of candies she can eat if \n",
    "she only eats n / 2 of them.\n",
    "\n",
    "Example 1:\n",
    "Input: candyType = [1,1,2,2,3,3]\n",
    "Output: 3\n",
    "Explanation: Alice can only eat 6 / 2 = 3 candies. Since there are only 3 types, she can eat one of each type.\n",
    "\n",
    "Example 2:\n",
    "Input: candyType = [1,1,2,3]\n",
    "Output: 2\n",
    "Explanation: Alice can only eat 4 / 2 = 2 candies. Whether she eats types [1,2], [1,3], or [2,3], she still can only \n",
    "eat 2 different types.\n",
    "\n",
    "Example 3:\n",
    "Input: candyType = [6,6,6,6]\n",
    "Output: 1\n",
    "Explanation: Alice can only eat 4 / 2 = 2 candies. Even though she can eat 2 candies, she only has 1 type.\n",
    " \n",
    "\n",
    "Constraints:\n",
    "n == candyType.length\n",
    "2 <= n <= 104\n",
    "n is even.\n",
    "-105 <= candyType[i] <= 105\n",
    "\n",
    "Hint #1  \n",
    "To maximize the number of kinds of candies, we should try to distribute candies such that sister will gain all kinds.\n",
    "\n",
    "Hint #2  \n",
    "What is the upper limit of the number of kinds of candies sister will gain? Remember candies are to distributed \n",
    "equally.\n",
    "\n",
    "Hint #3  \n",
    "Which data structure is the most suitable for finding the number of kinds of candies?\n",
    "\n",
    "Hint #4  \n",
    "Will hashset solves the problem? Inserting all candies kind in the hashset and then checking its size with upper limit.\n"
   ]
  },
  {
   "cell_type": "code",
   "execution_count": 21,
   "metadata": {},
   "outputs": [],
   "source": [
    "from collections import Counter\n",
    "def distributeCandies(candyType):\n",
    "    upperlimit=len(candyType)//2\n",
    "    d=Counter(candyType)\n",
    "    return upperlimit if len(d.keys())>upperlimit else len(d.keys())\n",
    "    \n",
    "outcome:\n",
    "Your runtime beats 56.15 % of python3 submissions.\n",
    "Runtime: 804 ms\n",
    "Memory Usage: 15.9 MB"
   ]
  },
  {
   "cell_type": "code",
   "execution_count": 22,
   "metadata": {},
   "outputs": [
    {
     "data": {
      "text/plain": [
       "1"
      ]
     },
     "execution_count": 22,
     "metadata": {},
     "output_type": "execute_result"
    }
   ],
   "source": [
    "distributeCandies(candyType = [6,6,6,6])"
   ]
  },
  {
   "cell_type": "markdown",
   "metadata": {},
   "source": [
    "Approach: Using a Hash Set\n",
    "    \n",
    "Intuition and Algorithm\n",
    "\n",
    "Recall that a Set cannot contain duplicates, and attempting to add a duplicate item into a Set will do nothing.\n",
    "\n",
    "Therefore, the best way to find the number of unique elements is to simply insert all of the candyType elements into \n",
    "a Hash Set. After that, the number of unique candies is simply the number of elements in the Hash Set.\n"
   ]
  },
  {
   "cell_type": "code",
   "execution_count": null,
   "metadata": {},
   "outputs": [],
   "source": [
    "Solution using hash set\n",
    "\n",
    "class Solution:\n",
    "    def distributeCandies(self, candyType: List[int]) -> int:\n",
    "        # Count the number of unique candies by creating a set with\n",
    "        # candyType, and then taking its length.\n",
    "        unique_candies = len(set(candyType))\n",
    "        # And find the answer in the same way as before.\n",
    "        return min(unique_candies, len(candyType) // 2)\n",
    "    \n",
    "\n",
    "outcome:\n",
    "Your runtime beats 92.26 % of python3 submissions.\n",
    "Runtime: 772 ms\n",
    "Memory Usage: 16.2 MB"
   ]
  },
  {
   "cell_type": "markdown",
   "metadata": {},
   "source": [
    "Complexity Analysis\n",
    "\n",
    "Let N be the the length of candyType.\n",
    "\n",
    "Time complexity : O(N).\n",
    "\n",
    "Adding an item into a Hash Set has an amortized time of O(1). Therefore, adding N items requires O(N) time. All of \n",
    "the other operations we use are O(1).\n",
    "\n",
    "Space complexity : O(N).\n",
    "\n",
    "The worst case for space complexity occurs when all N elements are unique. This will result in a Hash Set containing N elements."
   ]
  }
 ],
 "metadata": {
  "kernelspec": {
   "display_name": "Python 3",
   "language": "python",
   "name": "python3"
  },
  "language_info": {
   "codemirror_mode": {
    "name": "ipython",
    "version": 3
   },
   "file_extension": ".py",
   "mimetype": "text/x-python",
   "name": "python",
   "nbconvert_exporter": "python",
   "pygments_lexer": "ipython3",
   "version": "3.7.4"
  }
 },
 "nbformat": 4,
 "nbformat_minor": 2
}
