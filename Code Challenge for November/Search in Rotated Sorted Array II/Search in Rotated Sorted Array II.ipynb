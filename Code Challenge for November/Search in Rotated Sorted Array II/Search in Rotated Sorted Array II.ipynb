{
 "cells": [
  {
   "cell_type": "code",
   "execution_count": null,
   "metadata": {},
   "outputs": [],
   "source": [
    "Suppose an array sorted in ascending order is rotated at some pivot unknown to you beforehand.\n",
    "\n",
    "(i.e., [0,0,1,2,2,5,6] might become [2,5,6,0,0,1,2]).\n",
    "\n",
    "You are given a target value to search. If found in the array return true, otherwise return false.\n",
    "\n",
    "Example 1:\n",
    "Input: nums = [2,5,6,0,0,1,2], target = 0\n",
    "Output: true\n",
    "\n",
    "Example 2:\n",
    "Input: nums = [2,5,6,0,0,1,2], target = 3\n",
    "Output: false\n",
    "\n",
    "Follow up:\n",
    "This is a follow up problem to Search in Rotated Sorted Array, where nums may contain duplicates.\n",
    "Would this affect the run-time complexity? How and why?"
   ]
  },
  {
   "cell_type": "code",
   "execution_count": null,
   "metadata": {},
   "outputs": [],
   "source": [
    "class Solution:\n",
    "    def search(self, nums: List[int], target: int) -> bool:\n",
    "        left, right = 0, len(nums) - 1\n",
    "        while left <= right:\n",
    "            m = left + right >> 1\n",
    "            if nums[m] == target: return True\n",
    "            \n",
    "            while nums[left] == nums[m] == nums[right]:\n",
    "                left += 1; right -= 1\n",
    "                if left > right: return False\n",
    "            \n",
    "            if (target < nums[left], target) < (nums[m] < nums[left], nums[m]):\n",
    "                right = m - 1\n",
    "            else:\n",
    "                left = m + 1\n",
    "                \n",
    "        return False"
   ]
  }
 ],
 "metadata": {
  "kernelspec": {
   "display_name": "Python 3",
   "language": "python",
   "name": "python3"
  },
  "language_info": {
   "codemirror_mode": {
    "name": "ipython",
    "version": 3
   },
   "file_extension": ".py",
   "mimetype": "text/x-python",
   "name": "python",
   "nbconvert_exporter": "python",
   "pygments_lexer": "ipython3",
   "version": "3.7.4"
  }
 },
 "nbformat": 4,
 "nbformat_minor": 2
}
