{
 "cells": [
  {
   "cell_type": "code",
   "execution_count": null,
   "metadata": {},
   "outputs": [],
   "source": [
    "Given the root of a binary tree, determine if it is a valid binary search tree (BST).\n",
    "\n",
    "A valid BST is defined as follows:\n",
    "\n",
    "The left subtree of a node contains only nodes with keys less than the node's key.\n",
    "The right subtree of a node contains only nodes with keys greater than the node's key.\n",
    "Both the left and right subtrees must also be binary search trees.\n",
    " \n",
    "\n",
    "Example 1:\n",
    "Input: root = [2,1,3]\n",
    "Output: true\n",
    "\n",
    "Example 2:\n",
    "Input: root = [5,1,4,null,null,3,6]\n",
    "Output: false\n",
    "Explanation: The root node's value is 5 but its right child's value is 4.\n",
    " \n",
    "\n",
    "Constraints:\n",
    "The number of nodes in the tree is in the range [1, 104].\n",
    "-2^31 <= Node.val <= 2^31 - 1"
   ]
  },
  {
   "cell_type": "code",
   "execution_count": null,
   "metadata": {},
   "outputs": [],
   "source": [
    "Approach 1: Recursive Traversal with Valid Range\n",
    "\n",
    "The idea above could be implemented as a recursion. One compares the node value with its upper and lower limits if \n",
    "they are available. Then one repeats the same step recursively for left and right subtrees.\n",
    "\n"
   ]
  },
  {
   "cell_type": "code",
   "execution_count": null,
   "metadata": {},
   "outputs": [],
   "source": [
    "Yay my code!\n",
    "# Definition for a binary tree node.\n",
    "# class TreeNode:\n",
    "#     def __init__(self, val=0, left=None, right=None):\n",
    "#         self.val = val\n",
    "#         self.left = left\n",
    "#         self.right = right\n",
    "class Solution:\n",
    "    def isValidBST(self, root: TreeNode) -> bool:\n",
    "        def validate(root, low=-math.inf, high=math.inf):\n",
    "            \n",
    "            if not root:#the binary search tree is not affected by null values at all\n",
    "                return True\n",
    "            \n",
    "            if root.val<=low or root.val>=high:\n",
    "                return False\n",
    "            \n",
    "            return (validate(root.left, low, root.val) and validate(root.right, root.val, high))#the trick is to understand\n",
    "        #that the root.val represents the root from which you have the left and right children, i.e., the root that had been\n",
    "        #traversed before the left and right children. To begin with the root.val reprents the root and then every node and keeps\n",
    "        #going until the leaves. So for the left child the root.val is the upper bound and for the right child the root.val \n",
    "        # is the lower bound\n",
    "        \n",
    "        return validate(root)#to initiate the code to run\n",
    "            \n",
    "            "
   ]
  },
  {
   "cell_type": "code",
   "execution_count": null,
   "metadata": {},
   "outputs": [],
   "source": [
    "the trick is to understand that the root.val represents the root from which you have the left and right children, \n",
    "i.e., the root that had been traversed before the left and right children. To begin with the root.val reprents the \n",
    "root and then every node and keeps going until the leaves.\n",
    "        \n",
    "So for the left child the root.val is the upper bound and for the right child the root.val is the lower bound.\n"
   ]
  },
  {
   "cell_type": "code",
   "execution_count": null,
   "metadata": {},
   "outputs": [],
   "source": [
    "Complexity Analysis\n",
    "\n",
    "Time complexity : O(N) since we visit each node exactly once.\n",
    "\n",
    "Space complexity : O(N) since we keep up to the entire tree.\n",
    "\n"
   ]
  }
 ],
 "metadata": {
  "kernelspec": {
   "display_name": "Python 3",
   "language": "python",
   "name": "python3"
  },
  "language_info": {
   "codemirror_mode": {
    "name": "ipython",
    "version": 3
   },
   "file_extension": ".py",
   "mimetype": "text/x-python",
   "name": "python",
   "nbconvert_exporter": "python",
   "pygments_lexer": "ipython3",
   "version": "3.7.4"
  }
 },
 "nbformat": 4,
 "nbformat_minor": 2
}
