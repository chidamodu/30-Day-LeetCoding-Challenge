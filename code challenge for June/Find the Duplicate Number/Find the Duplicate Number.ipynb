{
 "cells": [
  {
   "cell_type": "code",
   "execution_count": null,
   "metadata": {},
   "outputs": [],
   "source": [
    "Given an array nums containing n + 1 integers where each integer is between 1 and n (inclusive), prove that at least \n",
    "one duplicate number must exist. Assume that there is only one duplicate number, find the duplicate one.\n",
    "\n",
    "Example 1:\n",
    "Input: [1,3,4,2,2]\n",
    "Output: 2\n",
    "\n",
    "Example 2:\n",
    "Input: [3,1,3,4,2]\n",
    "Output: 3\n",
    "\n",
    "Note:\n",
    "You must not modify the array (assume the array is read only).\n",
    "You must use only constant, O(1) extra space.\n",
    "Your runtime complexity should be less than O(n2).\n",
    "There is only one duplicate number in the array, but it could be repeated more than once."
   ]
  },
  {
   "cell_type": "code",
   "execution_count": null,
   "metadata": {},
   "outputs": [],
   "source": [
    "class Solution:\n",
    "    def findDuplicate(self, nums: List[int]) -> int:\n",
    "        slow, fast = nums[0], nums[0]\n",
    "        while True:\n",
    "            slow, fast = nums[slow], nums[nums[fast]]\n",
    "            if slow == fast: break\n",
    "           \n",
    "        slow = nums[0];\n",
    "        while slow != fast:\n",
    "            slow, fast = nums[slow], nums[fast]\n",
    "        return slow\n",
    "        \n",
    "Your runtime beats 15.82 % of python3 submissions.\n",
    "Runtime: 108 ms\n",
    "Memory Usage: 16.4 MB"
   ]
  }
 ],
 "metadata": {
  "kernelspec": {
   "display_name": "Python 3",
   "language": "python",
   "name": "python3"
  },
  "language_info": {
   "codemirror_mode": {
    "name": "ipython",
    "version": 3
   },
   "file_extension": ".py",
   "mimetype": "text/x-python",
   "name": "python",
   "nbconvert_exporter": "python",
   "pygments_lexer": "ipython3",
   "version": "3.7.4"
  }
 },
 "nbformat": 4,
 "nbformat_minor": 2
}
