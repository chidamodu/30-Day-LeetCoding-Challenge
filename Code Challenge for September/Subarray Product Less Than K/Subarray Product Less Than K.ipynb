{
 "cells": [
  {
   "cell_type": "code",
   "execution_count": null,
   "metadata": {},
   "outputs": [],
   "source": [
    "Your are given an array of positive integers nums.\n",
    "\n",
    "Count and print the number of (contiguous) subarrays where the product of all the elements in the subarray is less \n",
    "than k.\n",
    "\n",
    "Example 1:\n",
    "Input: nums = [10, 5, 2, 6], k = 100\n",
    "Output: 8\n",
    "Explanation: The 8 subarrays that have product less than 100 are: [10], [5], [2], [6], [10, 5], [5, 2], [2, 6], \n",
    "[5, 2, 6].\n",
    "\n",
    "        Note that [10, 5, 2] is not included as the product of 100 is not strictly less than k.\n",
    "\n",
    "Note:\n",
    "0 < nums.length <= 50000.\n",
    "0 < nums[i] < 1000.\n",
    "0 <= k < 10^6.\n",
    "\n",
    "Hint:  \n",
    "For each j, let opt(j) be the smallest i so that nums[i] * nums[i+1] * ... * nums[j] is less than k. opt is an \n",
    "increasing function."
   ]
  },
  {
   "cell_type": "code",
   "execution_count": 7,
   "metadata": {},
   "outputs": [],
   "source": [
    "def numSubarrayProductLessThanK(nums, k):\n",
    "    if k<=1: return 0\n",
    "    product=1\n",
    "    result=0\n",
    "    left=0\n",
    "    right=0\n",
    "    \n",
    "    while right<len(nums):\n",
    "        product*=nums[right]\n",
    "        \n",
    "        while (product>=k):\n",
    "            product/=nums[left]\n",
    "            left+=1\n",
    "            \n",
    "        result+=right-left+1\n",
    "        right+=1\n",
    "        \n",
    "    return result\n",
    "\n",
    "outcome:\n",
    "Your runtime beats 97.57 % of python3 submissions.\n",
    "Runtime: 1116 ms\n",
    "Memory Usage: 18.2 MB"
   ]
  },
  {
   "cell_type": "code",
   "execution_count": 8,
   "metadata": {},
   "outputs": [
    {
     "data": {
      "text/plain": [
       "8"
      ]
     },
     "execution_count": 8,
     "metadata": {},
     "output_type": "execute_result"
    }
   ],
   "source": [
    "numSubarrayProductLessThanK(nums = [10, 5, 2, 6], k = 100)"
   ]
  },
  {
   "cell_type": "code",
   "execution_count": null,
   "metadata": {},
   "outputs": [],
   "source": [
    "Sliding Window Approach\n",
    "\n",
    "Approach #2: Sliding Window\n",
    "\n",
    "Intuition\n",
    "\n",
    "For each right, call opt(right) the smallest left so that the product of the subarray \n",
    "nums[left] * nums[left + 1] * ... * nums[right] is less than k. opt is a monotone increasing function, \n",
    "so we can use a sliding window.\n",
    "\n",
    "\n",
    "Algorithm\n",
    "\n",
    "Our loop invariant is that left is the smallest value so that the product in the window \n",
    "prod = nums[left] * nums[left + 1] * ... * nums[right] is less than k.\n",
    "\n",
    "For every right, we update left and prod to maintain this invariant. Then, the number of intervals with \n",
    "subarray product less than k and with right-most coordinate right, is right - left + 1. \n",
    "We'll count all of these for each value of right.\n",
    "\n",
    "\n",
    "Complexity Analysis\n",
    "\n",
    "Time Complexity: \n",
    "O(N), where N is the length of nums. left can only be incremented at most N times.\n",
    "\n",
    "Space Complexity: \n",
    "O(1), the space used by prod, left, and ans.\n",
    "\n"
   ]
  }
 ],
 "metadata": {
  "kernelspec": {
   "display_name": "Python 3",
   "language": "python",
   "name": "python3"
  },
  "language_info": {
   "codemirror_mode": {
    "name": "ipython",
    "version": 3
   },
   "file_extension": ".py",
   "mimetype": "text/x-python",
   "name": "python",
   "nbconvert_exporter": "python",
   "pygments_lexer": "ipython3",
   "version": "3.7.4"
  }
 },
 "nbformat": 4,
 "nbformat_minor": 2
}
