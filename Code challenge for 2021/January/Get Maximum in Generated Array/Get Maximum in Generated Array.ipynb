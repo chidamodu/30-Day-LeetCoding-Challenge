{
 "cells": [
  {
   "cell_type": "code",
   "execution_count": null,
   "metadata": {},
   "outputs": [],
   "source": [
    "You are given an integer n. An array nums of length n + 1 is generated in the following way:\n",
    "\n",
    "nums[0] = 0\n",
    "nums[1] = 1\n",
    "nums[2 * i] = nums[i] when 2 <= 2 * i <= n\n",
    "nums[2 * i + 1] = nums[i] + nums[i + 1] when 2 <= 2 * i + 1 <= n\n",
    "Return the maximum integer in the array nums.\n",
    "\n",
    "Example 1:\n",
    "Input: n = 7\n",
    "Output: 3\n",
    "Explanation: According to the given rules:\n",
    "  nums[0] = 0\n",
    "  nums[1] = 1\n",
    "  nums[(1 * 2) = 2] = nums[1] = 1\n",
    "  nums[(1 * 2) + 1 = 3] = nums[1] + nums[2] = 1 + 1 = 2\n",
    "  nums[(2 * 2) = 4] = nums[2] = 1\n",
    "  nums[(2 * 2) + 1 = 5] = nums[2] + nums[3] = 1 + 2 = 3\n",
    "  nums[(3 * 2) = 6] = nums[3] = 2\n",
    "  nums[(3 * 2) + 1 = 7] = nums[3] + nums[4] = 2 + 1 = 3\n",
    "Hence, nums = [0,1,1,2,1,3,2,3], and the maximum is 3.\n",
    "\n",
    "Example 2:\n",
    "Input: n = 2\n",
    "Output: 1\n",
    "Explanation: According to the given rules, the maximum between nums[0], nums[1], and nums[2] is 1.\n",
    "\n",
    "Example 3:\n",
    "Input: n = 3\n",
    "Output: 2\n",
    "Explanation: According to the given rules, the maximum between nums[0], nums[1], nums[2], and nums[3] is 2.\n",
    " \n",
    "\n",
    "Constraints:\n",
    "0 <= n <= 100\n",
    "\n",
    "Hint #1  \n",
    "Try generating the array.\n",
    "\n",
    "Hint #2  \n",
    "Make sure not to fall in the base case of 0.\n"
   ]
  },
  {
   "cell_type": "code",
   "execution_count": 54,
   "metadata": {},
   "outputs": [],
   "source": [
    "def getMaximumGenerated(n):\n",
    "    if n>=1:\n",
    "        nums={0:0, 1:1}\n",
    "    else:\n",
    "        nums={0:0}\n",
    "    \n",
    "    i=1\n",
    "    \n",
    "    while 2*i<=n and 2*i+1<=n:\n",
    "        if nums[i]:\n",
    "            nums[2*i]=nums[i]\n",
    "            nums[2*i+1]=nums[i]+nums[i+1]\n",
    "        i+=1\n",
    "    return max(nums.values())\n",
    "        \n",
    "        \n",
    "Yay! my solution rocks - not bad at all\n",
    "Your runtime beats 61.15 % of python3 submissions.\n",
    "Runtime: 32 ms\n",
    "Memory Usage: 14.3 MB\n",
    "    \n",
    "    \n",
    "Complexity: time and space complexity is O(n)."
   ]
  },
  {
   "cell_type": "code",
   "execution_count": 55,
   "metadata": {},
   "outputs": [
    {
     "data": {
      "text/plain": [
       "1"
      ]
     },
     "execution_count": 55,
     "metadata": {},
     "output_type": "execute_result"
    }
   ],
   "source": [
    "getMaximumGenerated(1)"
   ]
  },
  {
   "cell_type": "code",
   "execution_count": 15,
   "metadata": {},
   "outputs": [
    {
     "data": {
      "text/plain": [
       "4"
      ]
     },
     "execution_count": 15,
     "metadata": {},
     "output_type": "execute_result"
    }
   ],
   "source": [
    "2*2"
   ]
  },
  {
   "cell_type": "code",
   "execution_count": 56,
   "metadata": {},
   "outputs": [
    {
     "data": {
      "text/plain": [
       "[0, 0, 0, 0, 0, 0, 0, 0, 0]"
      ]
     },
     "execution_count": 56,
     "metadata": {},
     "output_type": "execute_result"
    }
   ],
   "source": [
    "n=7\n",
    "[0]*(n+2)"
   ]
  },
  {
   "cell_type": "code",
   "execution_count": null,
   "metadata": {},
   "outputs": [],
   "source": [
    "#alternative solution using list (that's what the question has asked:the question has asked to create a list nums)\n",
    "\n",
    "def getMaximumGenerated(n):\n",
    "    nums=[0]*(n+2)\n",
    "    nums[1]=1\n",
    "    \n",
    "    for i in range(2, n+1):\n",
    "        nums[i]=nums[i//2]+nums[(i//2)+1]*(i%2)\n",
    "        \n",
    "    return return max(nums[:n+1])\n",
    "    \n",
    "outcome:\n",
    "Your runtime beats 87.72 % of python3 submissions.\n",
    "Runtime: 28 ms\n",
    "Memory Usage: 14.2 MB\n",
    "    \n",
    "    \n",
    "Create nums = [0] * (n + 2) to handle case n = 0.\n",
    "Use nums[i] = nums[i//2] + nums[(i//2)+1] * (i%2) to handle both cases of even and odd indexes\n",
    "Finally, return maximum among first n + 1 elements.\n",
    "\n"
   ]
  }
 ],
 "metadata": {
  "kernelspec": {
   "display_name": "Python 3",
   "language": "python",
   "name": "python3"
  },
  "language_info": {
   "codemirror_mode": {
    "name": "ipython",
    "version": 3
   },
   "file_extension": ".py",
   "mimetype": "text/x-python",
   "name": "python",
   "nbconvert_exporter": "python",
   "pygments_lexer": "ipython3",
   "version": "3.7.4"
  }
 },
 "nbformat": 4,
 "nbformat_minor": 2
}
