{
 "cells": [
  {
   "cell_type": "code",
   "execution_count": null,
   "metadata": {},
   "outputs": [],
   "source": [
    "Given a set of intervals, for each of the interval i, check if there exists an interval j whose start point is bigger \n",
    "than or equal to the end point of the interval i, which can be called that j is on the \"right\" of i.\n",
    "\n",
    "For any interval i, you need to store the minimum interval j's index, which means that the interval j has the minimum \n",
    "start point to build the \"right\" relationship for interval i. If the interval j doesn't exist, store -1 for the \n",
    "interval i. Finally, you need output the stored value of each interval as an array.\n",
    "\n",
    "Note:\n",
    "You may assume the interval's end point is always bigger than its start point.\n",
    "You may assume none of these intervals have the same start point.\n",
    " \n",
    "\n",
    "Example 1:\n",
    "\n",
    "Input: [ [1,2] ]\n",
    "\n",
    "Output: [-1]\n",
    "\n",
    "Explanation: There is only one interval in the collection, so it outputs -1.\n",
    " \n",
    "\n",
    "Example 2:\n",
    "\n",
    "Input: [ [3,4], [2,3], [1,2] ]\n",
    "\n",
    "Output: [-1, 0, 1]\n",
    "\n",
    "Explanation: There is no satisfied \"right\" interval for [3,4].\n",
    "For [2,3], the interval [3,4] has minimum-\"right\" start point;\n",
    "For [1,2], the interval [2,3] has minimum-\"right\" start point.\n",
    " \n",
    "\n",
    "Example 3:\n",
    "\n",
    "Input: [ [1,4], [2,3], [3,4] ]\n",
    "\n",
    "Output: [-1, 2, -1]\n",
    "\n",
    "Explanation: There is no satisfied \"right\" interval for [1,4] and [3,4].\n",
    "For [2,3], the interval [3,4] has minimum-\"right\" start point."
   ]
  },
  {
   "cell_type": "code",
   "execution_count": 5,
   "metadata": {},
   "outputs": [],
   "source": [
    "def findRightInterval(intervals):\n",
    "    result=[]\n",
    "    length=len(intervals)\n",
    "    for i in range(length):\n",
    "        result.append([intervals[i], i])\n",
    "    result.sort()\n",
    "    \n",
    "    answer=[-1]*length\n",
    "    \n",
    "    def binary_search(x):\n",
    "        if result[length-1][0][0]<x: return -1\n",
    "        \n",
    "        l, r=0, length-1\n",
    "        \n",
    "        while l<=r:\n",
    "            mid=l+(r-l)//2\n",
    "            \n",
    "            if result[mid][0][0] >= x: r=mid-1\n",
    "            else: l=mid+1\n",
    "                \n",
    "        return result[l][1]\n",
    "                \n",
    "    for i in range(length):\n",
    "        answer[i]=binary_search(intervals[i][1])\n",
    "    return answer\n",
    "            \n",
    "        \n",
    "    \n",
    "output:\n",
    "Your runtime beats 62.44 % of python3 submissions\n",
    "Runtime: 392 ms\n",
    "Memory Usage: 19.3 MB"
   ]
  },
  {
   "cell_type": "code",
   "execution_count": 6,
   "metadata": {},
   "outputs": [
    {
     "data": {
      "text/plain": [
       "[-1, 2, -1]"
      ]
     },
     "execution_count": 6,
     "metadata": {},
     "output_type": "execute_result"
    }
   ],
   "source": [
    "findRightInterval([[1,4], [2,3], [3,4]])"
   ]
  }
 ],
 "metadata": {
  "kernelspec": {
   "display_name": "Python 3",
   "language": "python",
   "name": "python3"
  },
  "language_info": {
   "codemirror_mode": {
    "name": "ipython",
    "version": 3
   },
   "file_extension": ".py",
   "mimetype": "text/x-python",
   "name": "python",
   "nbconvert_exporter": "python",
   "pygments_lexer": "ipython3",
   "version": "3.7.4"
  }
 },
 "nbformat": 4,
 "nbformat_minor": 2
}
