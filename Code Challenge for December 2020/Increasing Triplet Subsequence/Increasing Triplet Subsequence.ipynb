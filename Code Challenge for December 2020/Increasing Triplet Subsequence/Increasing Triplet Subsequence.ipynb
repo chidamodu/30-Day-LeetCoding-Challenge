{
 "cells": [
  {
   "cell_type": "code",
   "execution_count": null,
   "metadata": {},
   "outputs": [],
   "source": [
    "Given an integer array nums, return true if there exists a triple of indices (i, j, k) such that i < j < k and \n",
    "nums[i] < nums[j] < nums[k]. If no such indices exists, return false.\n",
    "\n",
    "\n",
    "Example 1:\n",
    "Input: nums = [1,2,3,4,5]\n",
    "Output: true\n",
    "Explanation: Any triplet where i < j < k is valid.\n",
    "\n",
    "Example 2:\n",
    "Input: nums = [5,4,3,2,1]\n",
    "Output: false\n",
    "Explanation: No triplet exists.\n",
    "\n",
    "Example 3:\n",
    "Input: nums = [2,1,5,0,4,6]\n",
    "Output: true\n",
    "Explanation: The triplet (3, 4, 5) is valid because nums[3] == 0 < nums[4] == 4 < nums[5] == 6.\n",
    " \n",
    "\n",
    "Constraints:\n",
    "1 <= nums.length <= 105\n",
    "-231 <= nums[i] <= 231 - 1\n",
    " \n",
    "\n",
    "Follow up: Could you implement a solution that runs in O(n) time complexity and O(1) space complexity?\n"
   ]
  },
  {
   "cell_type": "code",
   "execution_count": 13,
   "metadata": {},
   "outputs": [],
   "source": [
    "Thought this was the problem when I started to solve\n",
    "\n",
    "def increasingTriplet(nums):\n",
    "    for i in range(len(nums)-2):\n",
    "#         start,mid,end=i,i+1,i+2\n",
    "        print(nums[i])\n",
    "        \n",
    "        if (nums[i]<nums[i+1]) and (nums[i+1]<nums[i+2]):\n",
    "            return True\n",
    "    return False\n",
    "        \n",
    "    "
   ]
  },
  {
   "cell_type": "code",
   "execution_count": 14,
   "metadata": {},
   "outputs": [
    {
     "name": "stdout",
     "output_type": "stream",
     "text": [
      "5\n",
      "1\n",
      "5\n",
      "5\n",
      "2\n"
     ]
    },
    {
     "data": {
      "text/plain": [
       "False"
      ]
     },
     "execution_count": 14,
     "metadata": {},
     "output_type": "execute_result"
    }
   ],
   "source": [
    "increasingTriplet([5,1,5,5,2,5,4])"
   ]
  },
  {
   "cell_type": "code",
   "execution_count": 15,
   "metadata": {},
   "outputs": [],
   "source": [
    "import math\n",
    "a = [float(\"inf\")]*2"
   ]
  },
  {
   "cell_type": "code",
   "execution_count": 16,
   "metadata": {},
   "outputs": [
    {
     "data": {
      "text/plain": [
       "[inf, inf]"
      ]
     },
     "execution_count": 16,
     "metadata": {},
     "output_type": "execute_result"
    }
   ],
   "source": [
    "a"
   ]
  },
  {
   "cell_type": "code",
   "execution_count": 33,
   "metadata": {},
   "outputs": [],
   "source": [
    "\n",
    "def increasingTriplet(nums):\n",
    "    val=float(\"inf\")\n",
    "    val1=float(\"inf\")\n",
    "    \n",
    "    for i in range(len(nums)):\n",
    "        if nums[i]<val:\n",
    "            val=nums[i]\n",
    "        if nums[i]<val1 and nums[i]>val:\n",
    "            val1=nums[i]\n",
    "        if nums[i]>val and nums[i]>val1:\n",
    "            return True\n",
    "            \n",
    "    return False\n",
    "        "
   ]
  },
  {
   "cell_type": "code",
   "execution_count": 34,
   "metadata": {},
   "outputs": [
    {
     "data": {
      "text/plain": [
       "True"
      ]
     },
     "execution_count": 34,
     "metadata": {},
     "output_type": "execute_result"
    }
   ],
   "source": [
    "increasingTriplet([2,1,5,0,4,6])"
   ]
  },
  {
   "cell_type": "code",
   "execution_count": null,
   "metadata": {},
   "outputs": [],
   "source": [
    "Final submission:\n",
    "    \n",
    "class Solution:\n",
    "    def increasingTriplet(self, nums: List[int]) -> bool:\n",
    "        val=float(\"inf\")\n",
    "        val1=float(\"inf\")\n",
    "    \n",
    "        for i in range(len(nums)):\n",
    "            if nums[i]<val:\n",
    "                val=nums[i]\n",
    "            if nums[i]<val1 and nums[i]>val:\n",
    "                val1=nums[i]\n",
    "            if nums[i]>val1:#checking nums[i] against val again here is not necessary\n",
    "                return True\n",
    "            \n",
    "        return False"
   ]
  }
 ],
 "metadata": {
  "kernelspec": {
   "display_name": "Python 3",
   "language": "python",
   "name": "python3"
  },
  "language_info": {
   "codemirror_mode": {
    "name": "ipython",
    "version": 3
   },
   "file_extension": ".py",
   "mimetype": "text/x-python",
   "name": "python",
   "nbconvert_exporter": "python",
   "pygments_lexer": "ipython3",
   "version": "3.7.4"
  }
 },
 "nbformat": 4,
 "nbformat_minor": 2
}
