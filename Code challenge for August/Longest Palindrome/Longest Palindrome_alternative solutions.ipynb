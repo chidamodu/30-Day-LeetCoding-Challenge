{
 "cells": [
  {
   "cell_type": "code",
   "execution_count": null,
   "metadata": {},
   "outputs": [],
   "source": [
    "Given a string which consists of lowercase or uppercase letters, find the length of the longest palindromes that can \n",
    "be built with those letters.\n",
    "\n",
    "This is case sensitive, for example \"Aa\" is not considered a palindrome here.\n",
    "\n",
    "Note:\n",
    "Assume the length of given string will not exceed 1,010.\n",
    "\n",
    "Example:\n",
    "\n",
    "Input:\n",
    "\"abccccdd\"\n",
    "\n",
    "Output:\n",
    "7\n",
    "\n",
    "Explanation:\n",
    "One longest palindrome that can be built is \"dccaccd\", whose length is 7."
   ]
  },
  {
   "cell_type": "code",
   "execution_count": null,
   "metadata": {},
   "outputs": [],
   "source": [
    "alternative solution: 1\n",
    "\n",
    "class Solution:\n",
    "    def longestPalindrome(self, s):\n",
    "        ans = 0\n",
    "        for v in collections.Counter(s).itervalues():\n",
    "            ans += v / 2 * 2\n",
    "            if ans % 2 == 0 and v % 2 == 1:\n",
    "                ans += 1\n",
    "        return ans\n",
    "\n"
   ]
  },
  {
   "cell_type": "code",
   "execution_count": null,
   "metadata": {},
   "outputs": [],
   "source": [
    "Complexity Analysis\n",
    "\n",
    "Time Complexity: \n",
    "O(N), where N is the length of s. We need to count each letter.\n",
    "\n",
    "Space Complexity: \n",
    "O(1), the space for our count, as the alphabet size of s is fixed. We should also consider that in a bit complexity \n",
    "model, technically we need O(logN) bits to store the count values."
   ]
  },
  {
   "cell_type": "code",
   "execution_count": null,
   "metadata": {},
   "outputs": [],
   "source": [
    "alternative solution: 2 (same as mine)\n",
    "\n",
    "class Solution:\n",
    "    def longestPalindrome(self, string: str) -> int:\n",
    "        \n",
    "        if not string: return 0\n",
    "    \n",
    "        from collections import Counter\n",
    "        c = Counter(string)\n",
    "        \n",
    "        length, flag = 0, False\n",
    "    \n",
    "        for ele in c:\n",
    "            if c[ele]%2==0:\n",
    "                length+=c[ele]\n",
    "                \n",
    "            elif c[ele]%2==1:\n",
    "                length+=c[ele]-1\n",
    "                flag=True\n",
    "                \n",
    "        if flag==True:\n",
    "            return length+1\n",
    "        else:\n",
    "            return length"
   ]
  }
 ],
 "metadata": {
  "kernelspec": {
   "display_name": "Python 3",
   "language": "python",
   "name": "python3"
  },
  "language_info": {
   "codemirror_mode": {
    "name": "ipython",
    "version": 3
   },
   "file_extension": ".py",
   "mimetype": "text/x-python",
   "name": "python",
   "nbconvert_exporter": "python",
   "pygments_lexer": "ipython3",
   "version": "3.7.4"
  }
 },
 "nbformat": 4,
 "nbformat_minor": 2
}
