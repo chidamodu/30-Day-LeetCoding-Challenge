{
 "cells": [
  {
   "cell_type": "code",
   "execution_count": null,
   "metadata": {},
   "outputs": [],
   "source": [
    "Given the API rand7 which generates a uniform random integer in the range 1 to 7, write a function rand10 which \n",
    "generates a uniform random integer in the range 1 to 10. You can only call the API rand7 and you shouldn't call \n",
    "any other API. Please don't use the system's Math.random().\n",
    "\n",
    "Notice that Each test case has one argument n, the number of times that your implemented function rand10 will be \n",
    "called while testing. \n",
    "\n",
    "Follow up:\n",
    "\n",
    "What is the expected value for the number of calls to rand7() function?\n",
    "Could you minimize the number of calls to rand7()?\n",
    " \n",
    "\n",
    "Example 1:\n",
    "Input: n = 1\n",
    "Output: [2]\n",
    "\n",
    "Example 2:\n",
    "Input: n = 2\n",
    "Output: [2,8]\n",
    "\n",
    "Example 3:\n",
    "Input: n = 3\n",
    "Output: [3,8,10]\n",
    " \n",
    "\n",
    "Constraints:\n",
    "1 <= n <= 105"
   ]
  },
  {
   "cell_type": "code",
   "execution_count": null,
   "metadata": {},
   "outputs": [],
   "source": [
    "# The rand7() API is already defined for you.\n",
    "# def rand7():\n",
    "# @return a random integer in the range 1 to 7\n",
    "\n",
    "class Solution:\n",
    "    def rand10(self):\n",
    "        \"\"\"\n",
    "        :rtype: int\n",
    "        \"\"\"\n",
    "        v1, v2=rand7(), rand7()\n",
    "        while v1>5: v1 =rand7()\n",
    "        while v2==7: v2 = rand7()\n",
    "        return v1 if (v2<=3) else (v1+5)\n",
    "        \n",
    "result:\n",
    "Your runtime beats 60.33 % of python3 submissions.\n",
    "Runtime: 368 ms\n",
    "Memory Usage: 16.5 MB"
   ]
  }
 ],
 "metadata": {
  "kernelspec": {
   "display_name": "Python 3",
   "language": "python",
   "name": "python3"
  },
  "language_info": {
   "codemirror_mode": {
    "name": "ipython",
    "version": 3
   },
   "file_extension": ".py",
   "mimetype": "text/x-python",
   "name": "python",
   "nbconvert_exporter": "python",
   "pygments_lexer": "ipython3",
   "version": "3.7.4"
  }
 },
 "nbformat": 4,
 "nbformat_minor": 2
}
