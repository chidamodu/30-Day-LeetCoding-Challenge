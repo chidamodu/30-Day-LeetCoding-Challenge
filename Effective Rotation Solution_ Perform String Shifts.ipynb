{
 "cells": [
  {
   "cell_type": "code",
   "execution_count": 26,
   "metadata": {},
   "outputs": [],
   "source": [
    "this did not work\n",
    "\n",
    "def stringShift(s, shift):\n",
    "    left, right=[], []\n",
    "    val=0\n",
    "    left_flag, right_flag=False, False\n",
    "    for i in shift:\n",
    "        if i[0]==0:\n",
    "            left.append(i[1])        \n",
    "    \n",
    "        else:\n",
    "            right.append(i[1])\n",
    "        \n",
    "    if len(left)<len(right):\n",
    "        arr=left\n",
    "        not_arr=right\n",
    "        right_flag=True\n",
    "    else:\n",
    "        arr=right\n",
    "        not_arr=left\n",
    "        left_flag=True\n",
    "        \n",
    "    while len(arr)!=0:\n",
    "        val+=abs(arr.pop()-not_arr.pop())\n",
    "        \n",
    "    not_arr.append(val)\n",
    "    \n",
    "    return not_arr\n",
    "    \n",
    "#     for k in not_arr:\n",
    "#         if left_flag==True:\n",
    "#             s=s[k:]+s[:k]\n",
    "#         else:\n",
    "#             s=s[-k:]+s[:-k]\n",
    "    \n",
    "#     return s\n",
    "        \n",
    "        \n",
    "            "
   ]
  },
  {
   "cell_type": "code",
   "execution_count": 27,
   "metadata": {},
   "outputs": [
    {
     "data": {
      "text/plain": [
       "[7, 8, 7, 6, 6]"
      ]
     },
     "execution_count": 27,
     "metadata": {},
     "output_type": "execute_result"
    }
   ],
   "source": [
    "stringShift(\"xqgwkiqpif\",[[1,4],[0,7],[0,8],[0,7],[0,6],[1,3],[0,1],[1,7],[0,5],[0,6]])"
   ]
  },
  {
   "cell_type": "code",
   "execution_count": 33,
   "metadata": {},
   "outputs": [],
   "source": [
    "Effective rotation solution\n",
    "\n",
    "def stringShift(s, shift):\n",
    "    left, right=0, 0\n",
    "    \n",
    "    left_flag, right_flag=False, False\n",
    "    for i in shift:\n",
    "        if i[0]==0:\n",
    "            left+=i[1]\n",
    "            \n",
    "        else:\n",
    "            right-=i[1]\n",
    "            \n",
    "    if (left+right) >0:\n",
    "        left_flag=True           \n",
    "    else:\n",
    "        right_flag=True\n",
    "        \n",
    "    \n",
    "    f=abs(left+right)%len(s)\n",
    "    \n",
    "    return s[f:]+s[:f] if left_flag==True else s[-f:]+s[:-f]\n",
    "            \n",
    "Runtime: 32 ms\n",
    "Memory Usage: 13.8 MB\n",
    "time complexity: O(N+len(string)->for rotation and the max length of rotation will be less than or equal to the \n",
    "length of the string)\n",
    "    \n",
    "space complexity: O(N)"
   ]
  },
  {
   "cell_type": "code",
   "execution_count": 34,
   "metadata": {},
   "outputs": [
    {
     "data": {
      "text/plain": [
       "'qpifxqgwki'"
      ]
     },
     "execution_count": 34,
     "metadata": {},
     "output_type": "execute_result"
    }
   ],
   "source": [
    "stringShift(\"xqgwkiqpif\",[[1,4],[0,7],[0,8],[0,7],[0,6],[1,3],[0,1],[1,7],[0,5],[0,6]])"
   ]
  },
  {
   "cell_type": "code",
   "execution_count": 35,
   "metadata": {},
   "outputs": [],
   "source": [
    "Effective rotation solution with a few tweaks\n",
    "def stringShift(s, shift):\n",
    "    fin=0\n",
    "    \n",
    "    left_flag, right_flag=False, False\n",
    "    for i in shift:\n",
    "        if i[0]==0:\n",
    "            fin+=i[1]\n",
    "            \n",
    "        else:\n",
    "            fin-=i[1]\n",
    "            \n",
    "    if fin>0:\n",
    "        left_flag=True           \n",
    "    else:\n",
    "        right_flag=True\n",
    "        \n",
    "    \n",
    "    f=abs(fin)%len(s)\n",
    "    \n",
    "    return s[f:]+s[:f] if left_flag==True else s[-f:]+s[:-f]\n",
    "\n",
    "\n",
    "Runtime: 28 ms\n",
    "Memory Usage: 13.9 MB\n",
    "            "
   ]
  },
  {
   "cell_type": "code",
   "execution_count": 36,
   "metadata": {},
   "outputs": [
    {
     "data": {
      "text/plain": [
       "'qpifxqgwki'"
      ]
     },
     "execution_count": 36,
     "metadata": {},
     "output_type": "execute_result"
    }
   ],
   "source": [
    "stringShift(\"xqgwkiqpif\",[[1,4],[0,7],[0,8],[0,7],[0,6],[1,3],[0,1],[1,7],[0,5],[0,6]])"
   ]
  }
 ],
 "metadata": {
  "kernelspec": {
   "display_name": "Python 3",
   "language": "python",
   "name": "python3"
  },
  "language_info": {
   "codemirror_mode": {
    "name": "ipython",
    "version": 3
   },
   "file_extension": ".py",
   "mimetype": "text/x-python",
   "name": "python",
   "nbconvert_exporter": "python",
   "pygments_lexer": "ipython3",
   "version": "3.7.4"
  }
 },
 "nbformat": 4,
 "nbformat_minor": 2
}
