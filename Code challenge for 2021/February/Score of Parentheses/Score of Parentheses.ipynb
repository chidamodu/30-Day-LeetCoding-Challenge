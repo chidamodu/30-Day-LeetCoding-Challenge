{
 "cells": [
  {
   "cell_type": "code",
   "execution_count": null,
   "metadata": {},
   "outputs": [],
   "source": [
    "Given a balanced parentheses string S, compute the score of the string based on the following rule:\n",
    "\n",
    "() has score 1\n",
    "AB has score A + B, where A and B are balanced parentheses strings.\n",
    "(A) has score 2 * A, where A is a balanced parentheses string.\n",
    " \n",
    "Example 1:\n",
    "Input: \"()\"\n",
    "Output: 1\n",
    "\n",
    "Example 2:\n",
    "Input: \"(())\"\n",
    "Output: 2\n",
    "\n",
    "Example 3:\n",
    "Input: \"()()\"\n",
    "Output: 2\n",
    "\n",
    "Example 4:\n",
    "Input: \"(()(()))\"\n",
    "Output: 6\n",
    " \n",
    "\n",
    "Note:\n",
    "S is a balanced parentheses string, containing only ( and ).\n",
    "2 <= S.length <= 50"
   ]
  },
  {
   "cell_type": "code",
   "execution_count": null,
   "metadata": {},
   "outputs": [],
   "source": [
    "Approach 2: Stack\n",
    "\n",
    "Intuition and Algorithm\n",
    "\n",
    "Every position in the string has a depth - some number of matching parentheses surrounding it. For example, the \n",
    "dot in (()(.())) has depth 2, because of these parentheses: (__(.__))\n",
    "\n",
    "Our goal is to maintain the score at the current depth we are on. When we see an opening bracket, we increase our \n",
    "depth, and our score at the new depth is 0. When we see a closing bracket, we add twice the score of the previous \n",
    "deeper part - except when counting (), which has a score of 1.\n",
    "\n",
    "For example, when counting (()(())), our stack will look like this:\n",
    "\n",
    "[0, 0] after parsing (\n",
    "[0, 0, 0] after (\n",
    "[0, 1] after )\n",
    "[0, 1, 0] after (\n",
    "[0, 1, 0, 0] after (\n",
    "[0, 1, 1] after )\n",
    "[0, 3] after )\n",
    "[6] after )\n"
   ]
  },
  {
   "cell_type": "code",
   "execution_count": 7,
   "metadata": {},
   "outputs": [],
   "source": [
    "def scoreOfParentheses(S):\n",
    "    stack=[]\n",
    "    score=0\n",
    "    for char in S:\n",
    "        if char ==\"(\":\n",
    "            stack.append(score)\n",
    "            score=0\n",
    "        else:\n",
    "            print(stack)\n",
    "            score=stack.pop()+max(score*2, 1)\n",
    "            \n",
    "    return score\n",
    "            \n",
    "        \n",
    "        "
   ]
  },
  {
   "cell_type": "code",
   "execution_count": 8,
   "metadata": {},
   "outputs": [
    {
     "name": "stdout",
     "output_type": "stream",
     "text": [
      "[0, 0]\n",
      "[0, 1, 0]\n",
      "[0, 1]\n",
      "[0]\n"
     ]
    },
    {
     "data": {
      "text/plain": [
       "6"
      ]
     },
     "execution_count": 8,
     "metadata": {},
     "output_type": "execute_result"
    }
   ],
   "source": [
    "scoreOfParentheses(\"(()(()))\")"
   ]
  },
  {
   "cell_type": "code",
   "execution_count": null,
   "metadata": {},
   "outputs": [],
   "source": [
    "Complexity Analysis\n",
    "\n",
    "Time Complexity: \n",
    "O(N), where N is the length of S.\n",
    "\n",
    "Space Complexity: \n",
    "O(N), the size of the stack. "
   ]
  },
  {
   "cell_type": "code",
   "execution_count": 9,
   "metadata": {},
   "outputs": [
    {
     "data": {
      "text/plain": [
       "4"
      ]
     },
     "execution_count": 9,
     "metadata": {},
     "output_type": "execute_result"
    }
   ],
   "source": [
    "2<<1"
   ]
  }
 ],
 "metadata": {
  "kernelspec": {
   "display_name": "Python 3",
   "language": "python",
   "name": "python3"
  },
  "language_info": {
   "codemirror_mode": {
    "name": "ipython",
    "version": 3
   },
   "file_extension": ".py",
   "mimetype": "text/x-python",
   "name": "python",
   "nbconvert_exporter": "python",
   "pygments_lexer": "ipython3",
   "version": "3.7.4"
  }
 },
 "nbformat": 4,
 "nbformat_minor": 2
}
