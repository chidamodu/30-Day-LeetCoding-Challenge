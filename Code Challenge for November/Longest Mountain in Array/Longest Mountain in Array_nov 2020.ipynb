{
 "cells": [
  {
   "cell_type": "code",
   "execution_count": null,
   "metadata": {},
   "outputs": [],
   "source": [
    "Let's call any (contiguous) subarray B (of A) a mountain if the following properties hold:\n",
    "\n",
    "B.length >= 3\n",
    "There exists some 0 < i < B.length - 1 such that B[0] < B[1] < ... B[i-1] < B[i] > B[i+1] > ... > B[B.length - 1]\n",
    "(Note that B could be any subarray of A, including the entire array A.)\n",
    "\n",
    "Given an array A of integers, return the length of the longest mountain. \n",
    "\n",
    "Return 0 if there is no mountain.\n",
    "\n",
    "Example 1:\n",
    "Input: [2,1,4,7,3,2,5]\n",
    "Output: 5\n",
    "Explanation: The largest mountain is [1,4,7,3,2] which has length 5.\n",
    "\n",
    "Example 2:\n",
    "Input: [2,2,2]\n",
    "Output: 0\n",
    "Explanation: There is no mountain.\n",
    "\n",
    "Note:\n",
    "0 <= A.length <= 10000\n",
    "0 <= A[i] <= 10000\n",
    "\n",
    "Follow up:\n",
    "Can you solve it using only one pass?\n",
    "Can you solve it in O(1) space?"
   ]
  },
  {
   "cell_type": "code",
   "execution_count": 3,
   "metadata": {},
   "outputs": [],
   "source": [
    "Trial\n",
    "def longestMountain(A):\n",
    "    if len(set(A))==1:\n",
    "        return 0\n",
    "    \n",
    "    mountain=A.index(max(A))\n",
    "    \n",
    "    return mountain"
   ]
  },
  {
   "cell_type": "code",
   "execution_count": 4,
   "metadata": {},
   "outputs": [
    {
     "data": {
      "text/plain": [
       "3"
      ]
     },
     "execution_count": 4,
     "metadata": {},
     "output_type": "execute_result"
    }
   ],
   "source": [
    "longestMountain([2,1,4,7,3,2,5])"
   ]
  },
  {
   "cell_type": "code",
   "execution_count": 2,
   "metadata": {},
   "outputs": [
    {
     "data": {
      "text/plain": [
       "{2}"
      ]
     },
     "execution_count": 2,
     "metadata": {},
     "output_type": "execute_result"
    }
   ],
   "source": [
    "A=[2,2,2]\n",
    "set(A)"
   ]
  },
  {
   "cell_type": "code",
   "execution_count": 84,
   "metadata": {},
   "outputs": [],
   "source": [
    "def longestMountain(A):\n",
    "    result=0\n",
    "    left=0\n",
    "    right=0\n",
    "    \n",
    "\n",
    "    if len(set(A))==1:\n",
    "        return 0\n",
    "    \n",
    "\n",
    "    for i in range(len(A)-1):\n",
    "        \n",
    "        if A[i+1]>A[i]:\n",
    "#             print(left)          \n",
    "            left+=1\n",
    "\n",
    "            \n",
    "        elif A[i+1]<A[i]:\n",
    "            print(i)\n",
    "            \n",
    "            right+=1\n",
    "            \n",
    "        else:\n",
    "            continue\n",
    "            \n",
    "   \n",
    "            \n",
    "\n",
    "    \n",
    "    return right\n",
    "    \n",
    "#     elif mountain < len(A):\n",
    "#         while mountain <=len(A):\n",
    "#             if A[mountain]\n",
    "        \n",
    "        \n",
    "        \n",
    "            "
   ]
  },
  {
   "cell_type": "code",
   "execution_count": 85,
   "metadata": {},
   "outputs": [
    {
     "name": "stdout",
     "output_type": "stream",
     "text": [
      "0\n",
      "3\n",
      "4\n"
     ]
    },
    {
     "data": {
      "text/plain": [
       "3"
      ]
     },
     "execution_count": 85,
     "metadata": {},
     "output_type": "execute_result"
    }
   ],
   "source": [
    "longestMountain([2,1,4,7,3,2,5])"
   ]
  },
  {
   "cell_type": "code",
   "execution_count": 60,
   "metadata": {},
   "outputs": [],
   "source": [
    "Trial\n",
    "\n",
    "def longestMountain(A):\n",
    "    result=0\n",
    "    left=1\n",
    "    right=0\n",
    "    i=0\n",
    "    \n",
    "    if len(set(A))==1:\n",
    "        return 0\n",
    "    \n",
    "\n",
    "    while left<=len(A):\n",
    "        if A[left]>A[left-1]:\n",
    "            result+=1\n",
    "            left+=1\n",
    "            \n",
    "        \n",
    "        \n",
    "        right=left+1\n",
    "        break;\n",
    "        \n",
    "    while right<=len(A):\n",
    "        if A[right-1]<A[right]:\n",
    "            result+=1\n",
    "            right+=1\n",
    "            \n",
    "    return result\n",
    "            \n",
    "        \n",
    "        \n",
    "            \n",
    "            \n",
    "            \n"
   ]
  },
  {
   "cell_type": "code",
   "execution_count": 157,
   "metadata": {},
   "outputs": [],
   "source": [
    "Trial - here i thought there would be only one peak. but that is not the case\n",
    "\n",
    "def longestMountain(A):  \n",
    "    left=0\n",
    "    right=0\n",
    " \n",
    "    if len(set(A))==1:\n",
    "        return 0 \n",
    "\n",
    "    ind=A.index(max(A))\n",
    "    \n",
    "    result=1\n",
    "        \n",
    "    while left <= len(A[:ind+1])-1:\n",
    "        if A[left]>A[left+1]:\n",
    "            result+=1\n",
    "            left+=1 \n",
    "        else:\n",
    "            left+=1\n",
    "           \n",
    "    while right<=len(A[ind:])-1:\n",
    "        if A[right]>A[right+1]:\n",
    "            result+=1\n",
    "            right+=1  \n",
    "        else:\n",
    "            right+=1\n",
    "             \n",
    "    return result\n",
    "        \n",
    "        "
   ]
  },
  {
   "cell_type": "code",
   "execution_count": 158,
   "metadata": {},
   "outputs": [
    {
     "data": {
      "text/plain": [
       "5"
      ]
     },
     "execution_count": 158,
     "metadata": {},
     "output_type": "execute_result"
    }
   ],
   "source": [
    "longestMountain([2,1,4,7,3,2,5])"
   ]
  },
  {
   "cell_type": "code",
   "execution_count": 177,
   "metadata": {},
   "outputs": [],
   "source": [
    "Two pointer approach\n",
    "\n",
    "class Solution:\n",
    "    def longestMountain(self, A: List[int]) -> int:\n",
    "        result=0\n",
    "        \n",
    "        if len(set(A))==1:\n",
    "            return 0\n",
    "    \n",
    "        for i in range(1, len(A)-1):\n",
    "            if A[i]>A[i-1] and A[i]>A[i+1]:\n",
    "                left=right=i\n",
    "            \n",
    "                while left>0 and A[left]>A[left-1]:\n",
    "                    left-=1\n",
    "        \n",
    "                while right+1<len(A) and A[right]>A[right+1]:\n",
    "                    right+=1\n",
    "                    \n",
    "                result=max(result, (right-left+1))\n",
    "\n",
    "        return result\n",
    "        \n",
    "             \n",
    "        \n",
    "            \n",
    "    "
   ]
  },
  {
   "cell_type": "code",
   "execution_count": 178,
   "metadata": {},
   "outputs": [
    {
     "data": {
      "text/plain": [
       "5"
      ]
     },
     "execution_count": 178,
     "metadata": {},
     "output_type": "execute_result"
    }
   ],
   "source": [
    "longestMountain([2,1,4,7,3,2,5])"
   ]
  },
  {
   "cell_type": "code",
   "execution_count": null,
   "metadata": {},
   "outputs": [],
   "source": [
    "Complexity Analysis\n",
    "\n",
    "Time Complexity: O(N), where N is the length of A\n",
    "\n",
    "Space Complexity: O(1)"
   ]
  }
 ],
 "metadata": {
  "kernelspec": {
   "display_name": "Python 3",
   "language": "python",
   "name": "python3"
  },
  "language_info": {
   "codemirror_mode": {
    "name": "ipython",
    "version": 3
   },
   "file_extension": ".py",
   "mimetype": "text/x-python",
   "name": "python",
   "nbconvert_exporter": "python",
   "pygments_lexer": "ipython3",
   "version": "3.7.4"
  }
 },
 "nbformat": 4,
 "nbformat_minor": 2
}
