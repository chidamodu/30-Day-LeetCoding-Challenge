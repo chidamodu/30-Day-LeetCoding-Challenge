{
 "cells": [
  {
   "cell_type": "markdown",
   "metadata": {},
   "source": [
    "The Fibonacci numbers, commonly denoted F(n) form a sequence, called the Fibonacci sequence, such that each number is the sum of the two preceding ones, starting from 0 and 1. That is,\n",
    "\n",
    "F(0) = 0, F(1) = 1\n",
    "F(n) = F(n - 1) + F(n - 2), for n > 1.\n",
    "Given n, calculate F(n).\n",
    "\n",
    "Example 1:\n",
    "Input: n = 2\n",
    "Output: 1\n",
    "Explanation: F(2) = F(1) + F(0) = 1 + 0 = 1.\n",
    "\n",
    "Example 2:\n",
    "Input: n = 3\n",
    "Output: 2\n",
    "Explanation: F(3) = F(2) + F(1) = 1 + 1 = 2.\n",
    "\n",
    "Example 3:\n",
    "Input: n = 4\n",
    "Output: 3\n",
    "Explanation: F(4) = F(3) + F(2) = 2 + 1 = 3.\n",
    " \n",
    "Constraints:\n",
    "0 <= n <= 30"
   ]
  },
  {
   "cell_type": "code",
   "execution_count": 8,
   "metadata": {},
   "outputs": [],
   "source": [
    "Yay, my solution rocks!\n",
    "\n",
    "def fib(n):\n",
    "    fibonacci=[0]*n\n",
    "    temp=2\n",
    "    if len(fibonacci)>=2:\n",
    "        fibonacci[0], fibonacci[1]=0, 1\n",
    "        while temp<n:\n",
    "            fibonacci[temp]=fibonacci[temp-1]+fibonacci[temp-2]\n",
    "            temp+=1\n",
    "        \n",
    "    elif len(fibonacci)==1:\n",
    "        return 1\n",
    "    \n",
    "    else:\n",
    "        return 0\n",
    "    \n",
    "    return fibonacci[-2]+fibonacci[-1]\n",
    "        \n",
    "        \n",
    "outcome:\n",
    "Your runtime beats 94.81 % of python3 submissions.\n",
    "Runtime: 24 ms\n",
    "Memory Usage: 14.3 MB        \n",
    "    "
   ]
  },
  {
   "cell_type": "code",
   "execution_count": 17,
   "metadata": {},
   "outputs": [
    {
     "data": {
      "text/plain": [
       "21"
      ]
     },
     "execution_count": 17,
     "metadata": {},
     "output_type": "execute_result"
    }
   ],
   "source": [
    "fib(8)"
   ]
  },
  {
   "cell_type": "code",
   "execution_count": 7,
   "metadata": {},
   "outputs": [
    {
     "data": {
      "text/plain": [
       "[0, 0, 0]"
      ]
     },
     "execution_count": 7,
     "metadata": {},
     "output_type": "execute_result"
    }
   ],
   "source": [
    "[0]*3"
   ]
  },
  {
   "cell_type": "code",
   "execution_count": 6,
   "metadata": {},
   "outputs": [
    {
     "data": {
      "text/plain": [
       "0"
      ]
     },
     "execution_count": 6,
     "metadata": {},
     "output_type": "execute_result"
    }
   ],
   "source": [
    "len([])"
   ]
  },
  {
   "cell_type": "code",
   "execution_count": null,
   "metadata": {},
   "outputs": [],
   "source": [
    "I like this approach for O(1) space complexity\n",
    "\n",
    "Approach: Iterative Top-Down Approach\n",
    "\n",
    "Intuition\n",
    "\n",
    "Lets get rid of the need to use all of that space and instead use the minimum amount of space required. We can achieve \n",
    "O(1) space complexity by only storing the value of the two previous numbers and updating them as we iterate to N.\n",
    "\n",
    "\n",
    "Algorithm\n",
    "Check if N <= 1, if it is then we should return N.\n",
    "Check if N == 2, if it is then we should return 1 since N is 2 and fib(2-1) + fib(2-2) equals 1 + 0 = 1.\n",
    "To use an iterative approach, we need at least 3 variables to store each state fib(N), fib(N-1) and fib(N-2).\n",
    "Preset the initial values:\n",
    "Initialize current with 0.\n",
    "Initialize prev1 with 1, since this will represent fib(N-1) when computing the current value.\n",
    "Initialize prev2 with 1, since this will represent fib(N-2) when computing the current value.\n",
    "Iterate, incrementally by 1, all the way up to and including N. Starting at 3, since 0, 1 and 2 are pre-computed.\n",
    "Set the current value to fib(N-1) + fib(N-2) because that is the value we are currently computing.\n",
    "Set the prev2 value to fib(N-1).\n",
    "Set the prev1 value to current_value.\n",
    "When we reach N+1, we will exit the loop and return the previously set current value.\n",
    "\n",
    "\n",
    "class Solution:\n",
    "    def fib(self, N: int) -> int:\n",
    "        if (N <= 1):\n",
    "            return N\n",
    "        if (N == 2):\n",
    "            return 1\n",
    "\n",
    "        current = 0\n",
    "        prev1 = 1\n",
    "        prev2 = 1\n",
    "\n",
    "        # Since range is exclusive and we want to include N, we need to put N+1.\n",
    "        for i in range(3, N+1):\n",
    "            current = prev1 + prev2\n",
    "            prev2 = prev1\n",
    "            prev1 = current\n",
    "        return current\n",
    "    \n",
    "    \n",
    "Complexity Analysis\n",
    "\n",
    "Time complexity : \n",
    "O(N). Each value from 2 to N will be visited at least once. The time it takes to do this is directly proportionate to \n",
    "N where N is the Fibonacci Number we are looking to compute.\n",
    "\n",
    "Space complexity : \n",
    "O(1). This requires 1 unit of Space for the integer N and 3 units of Space to store the computed values \n",
    "(curr, prev1 and prev2) for every loop iteration. The amount of Space doesnt change so this is constant \n",
    "Space complexity.\n",
    "\n"
   ]
  },
  {
   "cell_type": "code",
   "execution_count": null,
   "metadata": {},
   "outputs": [],
   "source": [
    "But we can achieve O(1) for both time and space complexities using Math\n",
    "\n",
    "Approach: Math\n",
    "\n",
    "Intuition Using the golden ratio, a.k.a Binet's forumula: \n",
    "(1+SQRT(5))/2\n",
    "\n",
    "Heres a link to find out more about how the Fibonacci sequence and the golden ratio work.\n",
    "\n",
    "We can derive the most efficient solution to this problem using only constant time and constant space!\n",
    "\n",
    "Algorithm\n",
    "Use the golden ratio formula to calculate the Nth Fibonacci number.\n",
    "\n",
    "class Solution:\n",
    "    def fib(self, N):\n",
    "        golden_ratio = (1 + 5 ** 0.5) / 2\n",
    "        return int((golden_ratio ** N + 1) / 5 ** 0.5)\n",
    "    \n",
    "Complexity Analysis\n",
    "\n",
    "Time complexity : \n",
    "O(1). Constant time complexity since we are using no loops or recursion and the time is based on the result of \n",
    "performing the calculation using Binet's formula.\n",
    "\n",
    "Space complexity : \n",
    "O(1). The space used is the space needed to create the variable to store the golden ratio formula."
   ]
  },
  {
   "cell_type": "code",
   "execution_count": null,
   "metadata": {},
   "outputs": [],
   "source": [
    "Another solution: very cool using the memoization concept without using cache\n",
    "    \n",
    "class Solution:\n",
    "    def fib(self, N: int) -> int:\n",
    "        d={}\n",
    "        d[1]=1\n",
    "        d[0]=0\n",
    "        for i in range(2, N+1):\n",
    "            d[i]=d[i-1]+d[i-2]\n",
    "        return d[N]\n",
    "        "
   ]
  },
  {
   "cell_type": "code",
   "execution_count": null,
   "metadata": {},
   "outputs": [],
   "source": [
    "Approach: Bottom-Up Approach using Memoization\n",
    "\n",
    "Intuition\n",
    "\n",
    "Improve upon the recursive option by using iteration, still solving for all of the sub-problems and returning the \n",
    "answer for N, using already computed Fibonacci values. In using a bottom-up approach, we can iteratively compute and \n",
    "store the values, only returning once we reach the result.\n",
    "\n",
    "Algorithm\n",
    "If N is less than or equal to 1, return N\n",
    "Otherwise, iterate through N, storing each computed answer in an array along the way.\n",
    "Use this array as a reference to the 2 previous numbers to calculate the current Fibonacci number.\n",
    "Once we have reached the last number, return it is Fibonacci number.\n",
    "\n",
    "class Solution:\n",
    "    def fib(self, N: int) -> int:\n",
    "        if N <= 1:\n",
    "            return N\n",
    "        return self.memoize(N)\n",
    "\n",
    "    def memoize(self, N: int) -> {}:\n",
    "        cache = {0: 0, 1: 1}\n",
    "\n",
    "        # Since range is exclusive and we want to include N, we need to put N+1.\n",
    "        for i in range(2, N+1):\n",
    "            cache[i] = cache[i-1] + cache[i-2]\n",
    "\n",
    "        return cache[N]\n",
    "    \n",
    "\n",
    "Complexity Analysis\n",
    "\n",
    "Time complexity : \n",
    "O(N). Each number, starting at 2 up to and including N, is visited, computed and then stored for O(1) access later on.\n",
    "\n",
    "Space complexity : \n",
    "O(N). The size of the data structure is proportionate to N.\n",
    "\n"
   ]
  }
 ],
 "metadata": {
  "kernelspec": {
   "display_name": "Python 3",
   "language": "python",
   "name": "python3"
  },
  "language_info": {
   "codemirror_mode": {
    "name": "ipython",
    "version": 3
   },
   "file_extension": ".py",
   "mimetype": "text/x-python",
   "name": "python",
   "nbconvert_exporter": "python",
   "pygments_lexer": "ipython3",
   "version": "3.7.4"
  }
 },
 "nbformat": 4,
 "nbformat_minor": 2
}
