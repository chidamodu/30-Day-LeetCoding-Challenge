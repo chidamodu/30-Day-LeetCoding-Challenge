{
 "cells": [
  {
   "cell_type": "code",
   "execution_count": null,
   "metadata": {},
   "outputs": [],
   "source": [
    "Given an array of distinct integers candidates and a target integer target, return a list of all unique combinations \n",
    "of candidates where the chosen numbers sum to target. You may return the combinations in any order.\n",
    "\n",
    "The same number may be chosen from candidates an unlimited number of times. Two combinations are unique if the \n",
    "frequency of at least one of the chosen numbers is different.\n",
    "\n",
    " \n",
    "\n",
    "Example 1:\n",
    "Input: candidates = [2,3,6,7], target = 7\n",
    "Output: [[2,2,3],[7]]\n",
    "Explanation:\n",
    "2 and 3 are candidates, and 2 + 2 + 3 = 7. Note that 2 can be used multiple times.\n",
    "7 is a candidate, and 7 = 7.\n",
    "These are the only two combinations.\n",
    "\n",
    "\n",
    "Example 2:\n",
    "Input: candidates = [2,3,5], target = 8\n",
    "Output: [[2,2,2,2],[2,3,3],[3,5]]\n",
    "\n",
    "    \n",
    "Example 3:\n",
    "Input: candidates = [2], target = 1\n",
    "Output: []\n",
    "\n",
    "    \n",
    "Example 4:\n",
    "Input: candidates = [1], target = 1\n",
    "Output: [[1]]\n",
    "\n",
    "    \n",
    "Example 5:\n",
    "Input: candidates = [1], target = 2\n",
    "Output: [[1,1]]\n",
    " \n",
    "\n",
    "Constraints:\n",
    "1 <= candidates.length <= 30\n",
    "1 <= candidates[i] <= 200\n",
    "All elements of candidates are distinct.\n",
    "1 <= target <= 500"
   ]
  },
  {
   "cell_type": "code",
   "execution_count": null,
   "metadata": {},
   "outputs": [],
   "source": [
    "class Solution:\n",
    "    def combinationSum(self, candidates: List[int], target: int) -> List[List[int]]:\n",
    "        self.res = []\n",
    "        self.candidates = candidates\n",
    "        self.backtrack([], 0, target)\n",
    "        return self.res\n",
    "    \n",
    "    def backtrack(self, path, indx, target):\n",
    "        \n",
    "        if target < 0:\n",
    "            return\n",
    "        \n",
    "        if target == 0:\n",
    "            self.res.append(path)\n",
    "            return \n",
    "        \n",
    "        for x in range(indx, len(self.candidates)):\n",
    "            self.backtrack(path+[self.candidates[x]], x, target - self.candidates[x])\n",
    "            \n",
    "result:\n",
    "Your runtime beats 22.10 % of python3 submissions.\n",
    "Runtime: 136 ms\n",
    "Memory Usage: 14.1 MB"
   ]
  }
 ],
 "metadata": {
  "kernelspec": {
   "display_name": "Python 3",
   "language": "python",
   "name": "python3"
  },
  "language_info": {
   "codemirror_mode": {
    "name": "ipython",
    "version": 3
   },
   "file_extension": ".py",
   "mimetype": "text/x-python",
   "name": "python",
   "nbconvert_exporter": "python",
   "pygments_lexer": "ipython3",
   "version": "3.7.4"
  }
 },
 "nbformat": 4,
 "nbformat_minor": 2
}
