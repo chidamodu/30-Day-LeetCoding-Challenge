{
 "cells": [
  {
   "cell_type": "code",
   "execution_count": null,
   "metadata": {},
   "outputs": [],
   "source": [
    "You are given a map in form of a two-dimensional integer grid where 1 represents land and 0 represents water.\n",
    "\n",
    "Grid cells are connected horizontally/vertically (not diagonally). The grid is completely surrounded by water, and \n",
    "there is exactly one island (i.e., one or more connected land cells).\n",
    "\n",
    "The island doesn't have \"lakes\" (water inside that isn't connected to the water around the island). One cell is a \n",
    "square with side length 1. The grid is rectangular, width and height don't exceed 100. Determine the perimeter of the \n",
    "island. \n",
    "\n",
    "Example:\n",
    "\n",
    "Input:\n",
    "[[0,1,0,0],\n",
    " [1,1,1,0],\n",
    " [0,1,0,0],\n",
    " [1,1,0,0]]\n",
    "\n",
    "Output: 16\n"
   ]
  },
  {
   "cell_type": "code",
   "execution_count": null,
   "metadata": {},
   "outputs": [],
   "source": [
    "Leetcode submission\n",
    "\n",
    "class Solution:\n",
    "    def islandPerimeter(self, grid: List[List[int]]) -> int:\n",
    "        m, n, Perimeter = len(grid), len(grid[0]), 0\n",
    "\n",
    "        for i in range(m):\n",
    "            for j in range(n):\n",
    "                Perimeter += 4*grid[i][j]\n",
    "                if i > 0:   Perimeter -= grid[i][j]*grid[i-1][j]\n",
    "                if i < m-1: Perimeter -= grid[i][j]*grid[i+1][j]\n",
    "                if j > 0:   Perimeter -= grid[i][j]*grid[i][j-1]\n",
    "                if j < n-1: Perimeter -= grid[i][j]*grid[i][j+1]\n",
    "                    \n",
    "        return Perimeter\n",
    "\n",
    "result:\n",
    "Your runtime beats 20.91 % of python3 submissions.\n",
    "Runtime: 796 ms\n",
    "Memory Usage: 13.9 MB"
   ]
  }
 ],
 "metadata": {
  "kernelspec": {
   "display_name": "Python 3",
   "language": "python",
   "name": "python3"
  },
  "language_info": {
   "codemirror_mode": {
    "name": "ipython",
    "version": 3
   },
   "file_extension": ".py",
   "mimetype": "text/x-python",
   "name": "python",
   "nbconvert_exporter": "python",
   "pygments_lexer": "ipython3",
   "version": "3.7.4"
  }
 },
 "nbformat": 4,
 "nbformat_minor": 2
}
