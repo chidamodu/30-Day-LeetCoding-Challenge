{
 "cells": [
  {
   "cell_type": "code",
   "execution_count": null,
   "metadata": {},
   "outputs": [],
   "source": [
    "Given two binary trees original and cloned and given a reference to a node target in the original tree.\n",
    "\n",
    "The cloned tree is a copy of the original tree.\n",
    "\n",
    "Return a reference to the same node in the cloned tree.\n",
    "\n",
    "Note that you are not allowed to change any of the two trees or the target node and the answer must be a reference \n",
    "to a node in the cloned tree.\n",
    "\n",
    "Follow up: Solve the problem if repeated values on the tree are allowed.\n",
    "\n",
    "Example 1:\n",
    "Input: tree = [7,4,3,null,null,6,19], target = 3\n",
    "Output: 3\n",
    "Explanation: In all examples the original and cloned trees are shown. The target node is a green node from the \n",
    "original tree. The answer is the yellow node from the cloned tree.\n",
    "    \n",
    "Example 2:\n",
    "Input: tree = [7], target =  7\n",
    "Output: 7\n",
    "\n",
    "Example 3:\n",
    "Input: tree = [8,null,6,null,5,null,4,null,3,null,2,null,1], target = 4\n",
    "Output: 4\n",
    "\n",
    "Example 4:\n",
    "Input: tree = [1,2,3,4,5,6,7,8,9,10], target = 5\n",
    "Output: 5\n",
    "\n",
    "Example 5:\n",
    "Input: tree = [1,2,null,3], target = 2\n",
    "Output: 2\n",
    " \n",
    "Constraints:\n",
    "The number of nodes in the tree is in the range [1, 10^4].\n",
    "The values of the nodes of the tree are unique.\n",
    "target node is a node from the original tree and is not null."
   ]
  },
  {
   "cell_type": "code",
   "execution_count": null,
   "metadata": {},
   "outputs": [],
   "source": [
    "Final submission\n",
    "\n",
    "# Definition for a binary tree node.\n",
    "# class TreeNode:\n",
    "#     def __init__(self, x):\n",
    "#         self.val = x\n",
    "#         self.left = None\n",
    "#         self.right = None\n",
    "\n",
    "class Solution:\n",
    "    def getTargetCopy(self, original: TreeNode, cloned: TreeNode, target: TreeNode) -> TreeNode:\n",
    "        from collections import deque\n",
    "        if not original:\n",
    "            return None\n",
    "        \n",
    "        stack=deque([(original, cloned)])\n",
    "        \n",
    "        while stack:\n",
    "            \n",
    "            orig, clone=stack.popleft()\n",
    "            \n",
    "            if orig==target:\n",
    "                return clone\n",
    "            \n",
    "            if orig.left:\n",
    "                stack.append((orig.left, clone.left))\n",
    "                \n",
    "            if orig.right:\n",
    "                stack.append((orig.right, clone.right))\n",
    "                \n",
    "        return None\n",
    "                \n",
    "            \n",
    "            \n",
    "        "
   ]
  },
  {
   "cell_type": "code",
   "execution_count": null,
   "metadata": {},
   "outputs": [],
   "source": [
    "Complexity Analysis\n",
    "\n",
    "Time complexity: O(N) since one has to visit each node.\n",
    "\n",
    "Space complexity: up to O(H) to keep the stack, where H is a tree height.\n"
   ]
  }
 ],
 "metadata": {
  "kernelspec": {
   "display_name": "Python 3",
   "language": "python",
   "name": "python3"
  },
  "language_info": {
   "codemirror_mode": {
    "name": "ipython",
    "version": 3
   },
   "file_extension": ".py",
   "mimetype": "text/x-python",
   "name": "python",
   "nbconvert_exporter": "python",
   "pygments_lexer": "ipython3",
   "version": "3.7.4"
  }
 },
 "nbformat": 4,
 "nbformat_minor": 2
}
