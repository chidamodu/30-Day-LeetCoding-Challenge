{
 "cells": [
  {
   "cell_type": "code",
   "execution_count": null,
   "metadata": {},
   "outputs": [],
   "source": [
    "Given an integer n, return true if it is a power of three. Otherwise, return false.\n",
    "\n",
    "An integer n is a power of three, if there exists an integer x such that n == 3x.\n",
    "\n",
    "Example 1:\n",
    "Input: n = 27\n",
    "Output: true\n",
    "\n",
    "Example 2:\n",
    "Input: n = 0\n",
    "Output: false\n",
    "\n",
    "Example 3:\n",
    "Input: n = 9\n",
    "Output: true\n",
    "\n",
    "Example 4:\n",
    "Input: n = 45\n",
    "Output: false\n",
    " \n",
    "Constraints:\n",
    "-231 <= n <= 231 - 1\n",
    " \n",
    "Follow up: Could you solve it without loops/recursion?"
   ]
  },
  {
   "cell_type": "code",
   "execution_count": 4,
   "metadata": {},
   "outputs": [],
   "source": [
    "def isPowerOfThree(n):\n",
    "    if n==0:\n",
    "        return False\n",
    "    while n!=1:\n",
    "        if n%3==0:\n",
    "            n=n/3\n",
    "        else:\n",
    "            return False\n",
    "    return True\n",
    "\n",
    "Runtime: 80 ms\n",
    "Memory Usage: 14.2 MB\n",
    "Your runtime beats 53.02 % of python3 submissions."
   ]
  },
  {
   "cell_type": "code",
   "execution_count": 7,
   "metadata": {},
   "outputs": [
    {
     "data": {
      "text/plain": [
       "False"
      ]
     },
     "execution_count": 7,
     "metadata": {},
     "output_type": "execute_result"
    }
   ],
   "source": [
    "isPowerOfThree(45)"
   ]
  },
  {
   "cell_type": "code",
   "execution_count": 13,
   "metadata": {},
   "outputs": [],
   "source": [
    "# Alternative solution\n",
    "\n",
    "def isPowerOfThree(n):\n",
    "    return 0 if n <= 0 else 1162261467 % n == 0\n",
    "\n",
    "outcome\n",
    "Your runtime beats 86.64 % of python3 submissions.\n",
    "Runtime: 68 ms\n",
    "Memory Usage: 14.3 MB"
   ]
  },
  {
   "cell_type": "code",
   "execution_count": 14,
   "metadata": {},
   "outputs": [
    {
     "data": {
      "text/plain": [
       "True"
      ]
     },
     "execution_count": 14,
     "metadata": {},
     "output_type": "execute_result"
    }
   ],
   "source": [
    "isPowerOfThree(27)"
   ]
  },
  {
   "cell_type": "code",
   "execution_count": 15,
   "metadata": {},
   "outputs": [
    {
     "data": {
      "text/plain": [
       "1162261467"
      ]
     },
     "execution_count": 15,
     "metadata": {},
     "output_type": "execute_result"
    }
   ],
   "source": [
    "3**19"
   ]
  },
  {
   "cell_type": "markdown",
   "metadata": {},
   "source": [
    "Complexity\n",
    "\n",
    "Time and space complexity is just O(1) to check one division, because we precompute 3^19.\n",
    "\n",
    "Explanation:\n",
    "Will use the fact 3 is a prime number, so if we take number 3^19, then it is divisible by powers of 3 and by only them. Why we choose 3^19? Because it is the biggest power of 3, which fits in int32.\n",
    "    \n",
    "    "
   ]
  }
 ],
 "metadata": {
  "kernelspec": {
   "display_name": "Python 3",
   "language": "python",
   "name": "python3"
  },
  "language_info": {
   "codemirror_mode": {
    "name": "ipython",
    "version": 3
   },
   "file_extension": ".py",
   "mimetype": "text/x-python",
   "name": "python",
   "nbconvert_exporter": "python",
   "pygments_lexer": "ipython3",
   "version": "3.7.4"
  }
 },
 "nbformat": 4,
 "nbformat_minor": 2
}
