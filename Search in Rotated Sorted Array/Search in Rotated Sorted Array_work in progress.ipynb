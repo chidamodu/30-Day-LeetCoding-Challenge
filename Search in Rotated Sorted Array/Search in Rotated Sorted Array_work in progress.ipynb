{
 "cells": [
  {
   "cell_type": "code",
   "execution_count": 4,
   "metadata": {},
   "outputs": [],
   "source": [
    "def search(nums, target):\n",
    "    for i in range(len(nums)):\n",
    "        if nums[i]==target:\n",
    "            return i\n",
    "        \n",
    "    return -1\n",
    "        \n",
    "    "
   ]
  },
  {
   "cell_type": "code",
   "execution_count": 5,
   "metadata": {},
   "outputs": [
    {
     "data": {
      "text/plain": [
       "-1"
      ]
     },
     "execution_count": 5,
     "metadata": {},
     "output_type": "execute_result"
    }
   ],
   "source": [
    "search([4,5,6,7,0,1,2], 3)"
   ]
  },
  {
   "cell_type": "code",
   "execution_count": 51,
   "metadata": {},
   "outputs": [],
   "source": [
    "#first we try to take advantage of the fact that the array is sorted by finding the index of the smallest element. let's\n",
    "#consider this as the pivot element.\n",
    "#next we have to identify which way to go in order to search for our target \n",
    "#we use binary search for finding both the pivot element and the target\n",
    "\n",
    "def search(nums, target):\n",
    "    start=0\n",
    "    end=len(nums)-1\n",
    "    pivot=0\n",
    "    \n",
    "    while start<=end:\n",
    "        if nums[start]<nums[end]:\n",
    "            pivot=start\n",
    "    \n",
    "        else:\n",
    "            mid=int((start+end)/2)\n",
    "        \n",
    "            if nums[mid]>nums[mid+1]:\n",
    "                pivot=mid+1\n",
    "                break\n",
    "                \n",
    "            elif nums[start]<=nums[mid]:\n",
    "                start=mid+1\n",
    "                \n",
    "            else:\n",
    "                start=mid-1\n",
    "            \n",
    "                \n",
    "   \n",
    "    if target==nums[pivot]:\n",
    "        return pivot\n",
    "    \n",
    "    elif (target > nums[pivot]) and (target < len(nums)-1):\n",
    "        s=pivot\n",
    "        e=len(nums)-1\n",
    "    \n",
    "    elif (target < nums[pivot]):\n",
    "        e=pivot-1\n",
    "        s=0\n",
    "   \n",
    "    while s<=e:\n",
    "        middle=int((s+e)/2)\n",
    " \n",
    "        if nums[middle]==target:\n",
    "            return middle\n",
    "            break\n",
    "        \n",
    "        elif target<nums[middle]:\n",
    "            e=middle-1\n",
    "            \n",
    "        else:\n",
    "            s=middle+1\n",
    "            \n",
    "\n",
    "            \n",
    "        \n",
    "    return -1\n",
    "        \n",
    "            \n",
    "    \n",
    "    \n",
    "    \n",
    "    \n",
    "    "
   ]
  },
  {
   "cell_type": "code",
   "execution_count": 52,
   "metadata": {},
   "outputs": [
    {
     "data": {
      "text/plain": [
       "4"
      ]
     },
     "execution_count": 52,
     "metadata": {},
     "output_type": "execute_result"
    }
   ],
   "source": [
    "search([4,5,6,7,0,1,2], 0)"
   ]
  }
 ],
 "metadata": {
  "kernelspec": {
   "display_name": "Python 3",
   "language": "python",
   "name": "python3"
  },
  "language_info": {
   "codemirror_mode": {
    "name": "ipython",
    "version": 3
   },
   "file_extension": ".py",
   "mimetype": "text/x-python",
   "name": "python",
   "nbconvert_exporter": "python",
   "pygments_lexer": "ipython3",
   "version": "3.7.4"
  }
 },
 "nbformat": 4,
 "nbformat_minor": 2
}
