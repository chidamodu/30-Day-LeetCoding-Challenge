{
 "cells": [
  {
   "cell_type": "code",
   "execution_count": null,
   "metadata": {},
   "outputs": [],
   "source": [
    "Given a root node reference of a BST and a key, delete the node with the given key in the BST. Return the root node \n",
    "reference (possibly updated) of the BST.\n",
    "\n",
    "Basically, the deletion can be divided into two stages:\n",
    "\n",
    "Search for a node to remove.\n",
    "If the node is found, delete the node.\n",
    "Note: Time complexity should be O(height of tree).\n",
    "\n",
    "Example:\n",
    "root = [5,3,6,2,4,null,7]\n",
    "key = 3\n",
    "\n",
    "    5\n",
    "   / \\\n",
    "  3   6\n",
    " / \\   \\\n",
    "2   4   7\n",
    "\n",
    "Given key to delete is 3. So we find the node with value 3 and delete it.\n",
    "\n",
    "One valid answer is [5,4,6,2,null,null,7], shown in the following BST.\n",
    "\n",
    "    5\n",
    "   / \\\n",
    "  4   6\n",
    " /     \\\n",
    "2       7\n",
    "\n",
    "Another valid answer is [5,2,6,null,4,null,7].\n",
    "\n",
    "    5\n",
    "   / \\\n",
    "  2   6\n",
    "   \\   \\\n",
    "    4   7"
   ]
  },
  {
   "cell_type": "code",
   "execution_count": null,
   "metadata": {},
   "outputs": [],
   "source": [
    "# Definition for a binary tree node.\n",
    "# class TreeNode:\n",
    "#     def __init__(self, val=0, left=None, right=None):\n",
    "#         self.val = val\n",
    "#         self.left = left\n",
    "#         self.right = right\n",
    "class Solution:\n",
    "    def deleteNode(self, root: TreeNode, key: int) -> TreeNode:\n",
    "        if not root: return None\n",
    "        \n",
    "        if root.val == key:\n",
    "            if not root.right: return root.left\n",
    "            \n",
    "            if not root.left: return root.right\n",
    "            \n",
    "            if root.left and root.right:\n",
    "                temp = root.right\n",
    "                while temp.left: temp = temp.left\n",
    "                root.val = temp.val\n",
    "                root.right = self.deleteNode(root.right, root.val)\n",
    "\n",
    "        elif root.val > key:\n",
    "            root.left = self.deleteNode(root.left, key)\n",
    "        else:\n",
    "            root.right = self.deleteNode(root.right, key)\n",
    "            \n",
    "        return root\n",
    "    \n",
    "Your runtime beats 57.62 % of python3 submissions.\n",
    "Runtime: 84 ms\n",
    "Memory Usage: 18.1 MB\n",
    "        "
   ]
  }
 ],
 "metadata": {
  "kernelspec": {
   "display_name": "Python 3",
   "language": "python",
   "name": "python3"
  },
  "language_info": {
   "codemirror_mode": {
    "name": "ipython",
    "version": 3
   },
   "file_extension": ".py",
   "mimetype": "text/x-python",
   "name": "python",
   "nbconvert_exporter": "python",
   "pygments_lexer": "ipython3",
   "version": "3.7.4"
  }
 },
 "nbformat": 4,
 "nbformat_minor": 2
}
