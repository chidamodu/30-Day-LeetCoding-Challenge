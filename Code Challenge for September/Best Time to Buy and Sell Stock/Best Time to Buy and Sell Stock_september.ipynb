{
 "cells": [
  {
   "cell_type": "code",
   "execution_count": null,
   "metadata": {},
   "outputs": [],
   "source": [
    "Say you have an array for which the ith element is the price of a given stock on day i.\n",
    "\n",
    "If you were only permitted to complete at most one transaction (i.e., buy one and sell one share of the stock), \n",
    "design an algorithm to find the maximum profit.\n",
    "\n",
    "Note that you cannot sell a stock before you buy one.\n",
    "\n",
    "Example 1:\n",
    "Input: [7,1,5,3,6,4]\n",
    "Output: 5\n",
    "Explanation: Buy on day 2 (price = 1) and sell on day 5 (price = 6), profit = 6-1 = 5.\n",
    "             Not 7-1 = 6, as selling price needs to be larger than buying price.\n",
    "\n",
    "        \n",
    "Example 2:\n",
    "Input: [7,6,4,3,1]\n",
    "Output: 0\n",
    "Explanation: In this case, no transaction is done, i.e. max profit = 0."
   ]
  },
  {
   "cell_type": "code",
   "execution_count": 5,
   "metadata": {},
   "outputs": [],
   "source": [
    "def maxProfit(prices):\n",
    "    d={}\n",
    "    for i in prices:\n",
    "        d[i]=prices[i:]\n",
    "        \n",
    "    print(d)"
   ]
  },
  {
   "cell_type": "code",
   "execution_count": 6,
   "metadata": {},
   "outputs": [
    {
     "name": "stdout",
     "output_type": "stream",
     "text": [
      "{7: [], 1: [1, 5, 3, 6, 4], 5: [4], 3: [3, 6, 4], 6: [], 4: [6, 4]}\n"
     ]
    }
   ],
   "source": [
    "maxProfit([7,1,5,3,6,4])"
   ]
  },
  {
   "cell_type": "code",
   "execution_count": 39,
   "metadata": {},
   "outputs": [],
   "source": [
    "This is a wrong idea. Having it around for awareness. Why is it wrong? We are not checking every price with a price \n",
    "at the previous day. We are buying only once at the smallest value possible and selling once at the highest value \n",
    "possible.\n",
    "\n",
    "def maxProfit(prices):\n",
    "    d={}\n",
    "    prev_day=0\n",
    "    prev_price=prices[0]\n",
    "    max_profit=0\n",
    "    for k, v in enumerate(prices[1:], 1):\n",
    "        if (k>prev_day) and (v>prev_price):\n",
    "            print((k, prev_day), (v, prev_price))\n",
    "            max_profit=max(max_profit, (v-prev_price))\n",
    "            \n",
    "        prev_day=k\n",
    "        prev_price=v\n",
    "            \n",
    "    return max_profit\n",
    "            \n",
    "        \n"
   ]
  },
  {
   "cell_type": "code",
   "execution_count": 40,
   "metadata": {},
   "outputs": [
    {
     "name": "stdout",
     "output_type": "stream",
     "text": [
      "(2, 1) (5, 1)\n",
      "(4, 3) (6, 3)\n"
     ]
    },
    {
     "data": {
      "text/plain": [
       "4"
      ]
     },
     "execution_count": 40,
     "metadata": {},
     "output_type": "execute_result"
    }
   ],
   "source": [
    "maxProfit([7,1,5,3,6,4])"
   ]
  },
  {
   "cell_type": "code",
   "execution_count": 44,
   "metadata": {},
   "outputs": [],
   "source": [
    "Single Pass\n",
    "\n",
    "The points of interest are the peaks and valleys in the given graph. We need to find the largest peak following the \n",
    "smallest valley. We can maintain two variables - minprice and maxprofit corresponding to the smallest valley and \n",
    "maximum profit (maximum difference between selling price and minprice) obtained so far respectively. Try to remember the\n",
    "graph of drawing peaks and troughs.\n",
    "\n",
    "\n",
    "def maxProfit(prices):\n",
    "    min_price=(2**63)-1#equivalent to Integer.MAX_VALUE\n",
    "    max_profit=0 \n",
    "    for i in range(len(prices)):\n",
    "        if prices[i] < min_price:\n",
    "            min_price=prices[i]\n",
    "        \n",
    "        else:\n",
    "            max_profit=max(max_profit, prices[i]-min_price)      \n",
    "    return max_profit\n",
    "\n",
    "The idea here is that there will always be one smallest value in the array and that once we have decided to buy at that \n",
    "value, the rest of the values after the buying price become the potential candidates for selling prices. Also that in order \n",
    "to accomplish the idea without two pointers, one to track day and another to track the price.\n",
    "\n",
    "\n",
    "result:\n",
    "Your runtime beats 76.46 % of python3 submissions.\n",
    "Runtime: 64 ms\n",
    "Memory Usage: 15.1 MB\n",
    "    \n",
    "    \n",
    "Complexity Analysis\n",
    "\n",
    "Time complexity : \n",
    "O(n). Only a single pass is needed.\n",
    "\n",
    "Space complexity : \n",
    "O(1). Only two variables are used."
   ]
  },
  {
   "cell_type": "code",
   "execution_count": 45,
   "metadata": {},
   "outputs": [
    {
     "data": {
      "text/plain": [
       "5"
      ]
     },
     "execution_count": 45,
     "metadata": {},
     "output_type": "execute_result"
    }
   ],
   "source": [
    "maxProfit([7,1,5,3,6,4])"
   ]
  },
  {
   "cell_type": "code",
   "execution_count": 41,
   "metadata": {},
   "outputs": [],
   "source": [
    "max_val=(2**63)-1"
   ]
  },
  {
   "cell_type": "code",
   "execution_count": 42,
   "metadata": {},
   "outputs": [
    {
     "data": {
      "text/plain": [
       "9223372036854775807"
      ]
     },
     "execution_count": 42,
     "metadata": {},
     "output_type": "execute_result"
    }
   ],
   "source": [
    "max_val"
   ]
  },
  {
   "cell_type": "code",
   "execution_count": 46,
   "metadata": {},
   "outputs": [],
   "source": [
    "#Brute Force\n",
    "\n",
    "def maxProfit(prices):\n",
    "    \n",
    "    max_profit=0 \n",
    "    for i in range(len(prices)-1):\n",
    "        for j in range(i+1, len(prices)):\n",
    "            profit=prices[j]-prices[i]\n",
    "            \n",
    "            if profit>max_profit:\n",
    "                max_profit=profit\n",
    "                \n",
    "    return max_profit\n",
    "\n",
    "\n",
    "Complexity Analysis\n",
    "\n",
    "Time complexity : \n",
    "O(n^2). Loop runs n(n−1)/2 times.\n",
    "\n",
    "\n",
    "Space complexity : \n",
    "O(1). Only two variables - maxprofit and profit are used. \n",
    "\n",
    "\n",
    "Explanation:\n",
    "We need to find out the maximum difference (which will be the maximum profit) between two numbers in the given array. \n",
    "Also, the second number (selling price) must be larger than the first one (buying price).\n",
    "\n",
    "In formal terms, we need to find max(prices[j]−prices[i]), for every i and j such that j>i."
   ]
  },
  {
   "cell_type": "code",
   "execution_count": 47,
   "metadata": {},
   "outputs": [
    {
     "data": {
      "text/plain": [
       "5"
      ]
     },
     "execution_count": 47,
     "metadata": {},
     "output_type": "execute_result"
    }
   ],
   "source": [
    "maxProfit([7,1,5,3,6,4])"
   ]
  }
 ],
 "metadata": {
  "kernelspec": {
   "display_name": "Python 3",
   "language": "python",
   "name": "python3"
  },
  "language_info": {
   "codemirror_mode": {
    "name": "ipython",
    "version": 3
   },
   "file_extension": ".py",
   "mimetype": "text/x-python",
   "name": "python",
   "nbconvert_exporter": "python",
   "pygments_lexer": "ipython3",
   "version": "3.7.4"
  }
 },
 "nbformat": 4,
 "nbformat_minor": 2
}
