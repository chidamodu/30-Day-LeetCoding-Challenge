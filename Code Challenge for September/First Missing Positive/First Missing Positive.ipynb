{
 "cells": [
  {
   "cell_type": "code",
   "execution_count": null,
   "metadata": {},
   "outputs": [],
   "source": [
    "Given an unsorted integer array, find the smallest missing positive integer.\n",
    "\n",
    "Example 1:\n",
    "Input: [1,2,0]\n",
    "Output: 3\n",
    "\n",
    "Example 2:\n",
    "Input: [3,4,-1,1]\n",
    "Output: 2\n",
    "\n",
    "Example 3:\n",
    "Input: [7,8,9,11,12]\n",
    "Output: 1\n",
    "\n",
    "Follow up:\n",
    "Your algorithm should run in O(n) time and uses constant extra space.\n",
    "\n",
    "Hint #1  \n",
    "Think about how you would solve the problem in non-constant space. Can you apply that logic to the existing space?\n",
    "\n",
    "Hint #2  \n",
    "We don't care about duplicates or non-positive integers\n",
    "\n",
    "Hint #3  \n",
    "Remember that O(2n) = O(n)"
   ]
  },
  {
   "cell_type": "code",
   "execution_count": 5,
   "metadata": {},
   "outputs": [],
   "source": [
    "The below logic does not work because for an input array: [1,2,0] the expected Output is 3. Also this logic uses \n",
    "extra space.\n",
    "\n",
    "\n",
    "\n",
    "def firstMissingPositive(nums):\n",
    "    missing=[]\n",
    "    nums=sorted(nums)\n",
    "    \n",
    "    for i in range(len(nums)-1):\n",
    "        if nums[i]>0:\n",
    "            if nums[i]+1!=nums[i+1]:\n",
    "                missing.append(nums[i]+1)\n",
    "                \n",
    "            else:\n",
    "                continue\n",
    "                \n",
    "    return missing\n",
    "                \n",
    "                \n",
    "                \n",
    "                \n",
    "        "
   ]
  },
  {
   "cell_type": "code",
   "execution_count": 6,
   "metadata": {},
   "outputs": [
    {
     "data": {
      "text/plain": [
       "[2]"
      ]
     },
     "execution_count": 6,
     "metadata": {},
     "output_type": "execute_result"
    }
   ],
   "source": [
    "firstMissingPositive([3,4,-1,1])"
   ]
  },
  {
   "cell_type": "code",
   "execution_count": 11,
   "metadata": {},
   "outputs": [],
   "source": [
    "def firstMissingPositive(nums):\n",
    "    for ind in range(len(nums)):\n",
    "        if nums[ind]<=0 or nums[ind]>len(nums):\n",
    "            nums[ind]=len(nums)+1\n",
    "            \n",
    "    for number in nums:\n",
    "        number=abs(number)\n",
    "        if number<=len(nums) and nums[number-1]>=0:\n",
    "            nums[number-1]*=-1\n",
    "            \n",
    "    for index in range(len(nums)):\n",
    "        if nums[index]>0:\n",
    "            return index+1\n",
    "        \n",
    "    return len(nums)+1\n",
    "        \n",
    "result:\n",
    "Your runtime beats 67.28 % of python3 submissions.\n",
    "Runtime: 36 ms\n",
    "Memory Usage: 14.2 MB"
   ]
  },
  {
   "cell_type": "code",
   "execution_count": 12,
   "metadata": {},
   "outputs": [
    {
     "data": {
      "text/plain": [
       "1"
      ]
     },
     "execution_count": 12,
     "metadata": {},
     "output_type": "execute_result"
    }
   ],
   "source": [
    "firstMissingPositive([7,8,9,11,12])"
   ]
  }
 ],
 "metadata": {
  "kernelspec": {
   "display_name": "Python 3",
   "language": "python",
   "name": "python3"
  },
  "language_info": {
   "codemirror_mode": {
    "name": "ipython",
    "version": 3
   },
   "file_extension": ".py",
   "mimetype": "text/x-python",
   "name": "python",
   "nbconvert_exporter": "python",
   "pygments_lexer": "ipython3",
   "version": "3.7.4"
  }
 },
 "nbformat": 4,
 "nbformat_minor": 2
}
