{
 "cells": [
  {
   "cell_type": "code",
   "execution_count": null,
   "metadata": {},
   "outputs": [],
   "source": [
    "Given an array of integers nums and an integer threshold, we will choose a positive integer divisor and divide all \n",
    "the array by it and sum the result of the division. Find the smallest divisor such that the result mentioned above \n",
    "is less than or equal to threshold.\n",
    "\n",
    "Each result of division is rounded to the nearest integer greater than or equal to that element. \n",
    "(For example: 7/3 = 3 and 10/2 = 5).\n",
    "\n",
    "It is guaranteed that there will be an answer.\n",
    "\n",
    " \n",
    "Example 1:\n",
    "Input: nums = [1,2,5,9], threshold = 6\n",
    "Output: 5\n",
    "Explanation: We can get a sum to 17 (1+2+5+9) if the divisor is 1. \n",
    "If the divisor is 4 we can get a sum to 7 (1+1+2+3) and if the divisor is 5 the sum will be 5 (1+1+1+2). \n",
    "\n",
    "Example 2:\n",
    "Input: nums = [2,3,5,7,11], threshold = 11\n",
    "Output: 3\n",
    "\n",
    "Example 3:\n",
    "Input: nums = [19], threshold = 5\n",
    "Output: 4\n",
    " \n",
    "\n",
    "Constraints:\n",
    "1 <= nums.length <= 5 * 10^4\n",
    "1 <= nums[i] <= 10^6\n",
    "nums.length <= threshold <= 10^6\n",
    "\n",
    "Hint #1  \n",
    "Examine every possible number for solution. Choose the largest of them.\n",
    "\n",
    "Hint #2  \n",
    "Use binary search to reduce the time complexity."
   ]
  },
  {
   "cell_type": "code",
   "execution_count": 12,
   "metadata": {},
   "outputs": [],
   "source": [
    "import math\n",
    "def smallestDivisor(nums, threshold):\n",
    "    left, right=1, max(nums)\n",
    "    \n",
    "    while left <= right:\n",
    "        middle=(left+right)//2\n",
    "        \n",
    "        if sum(math.ceil(n/middle) for n in nums) > threshold:\n",
    "            left=middle+1\n",
    "            \n",
    "        else:\n",
    "            right=middle-1\n",
    "            \n",
    "    return left\n",
    "    \n",
    "    \n",
    "        "
   ]
  },
  {
   "cell_type": "code",
   "execution_count": 13,
   "metadata": {},
   "outputs": [
    {
     "data": {
      "text/plain": [
       "4"
      ]
     },
     "execution_count": 13,
     "metadata": {},
     "output_type": "execute_result"
    }
   ],
   "source": [
    "smallestDivisor(nums = [19], threshold = 5)"
   ]
  },
  {
   "cell_type": "code",
   "execution_count": null,
   "metadata": {},
   "outputs": [],
   "source": [
    "Approach: Math + Binary Search\n",
    "\n",
    "The idea is to perform binary search in limits 1, max(nums). This approach uses the idea that the maximum divisor to \n",
    "consider is max(nums). For this divisor and all greater numbers, the requested sum is equal to 2N, and hence there is \n",
    "no sense to consider greater divisors.\n",
    "\n",
    "Algorithm\n",
    "\n",
    "Implement function computeSum(x) which divides nums elements by x and then returns their sum.\n",
    "\n",
    "Initialize search limits: left = 1, right = max(nums) = nums[nums.length - 1].\n",
    "\n",
    "Perform binary search in boundaries from 1 to max(nums):\n",
    "\n",
    "While left <= right:\n",
    "\n",
    "1. Pick a pivot divisor in the middle: pivot = (left + right) / 2. To avoid overflow in Java, use the form \n",
    "    pivot = left + ((right - left) >> 1) instead of straightforward expression above. Note, that there is no overflow in Python.\n",
    "\n",
    "2. Compute the requested sum for that pivot divisor: num = compute_sum(pivot).\n",
    "\n",
    "3. Compare num and the threshold:\n",
    "\n",
    "        a. If num > threshold, continue to search on the right left = pivot + 1.\n",
    "\n",
    "        b. Else continue to search on the left right = pivot - 1.\n",
    "\n",
    "4. At the end of loop, left > right, computeSum(right) > threshold and computeSum(left) <= threshold. Hence left is the \n",
    "    smallest divisor for which the requested sum is less or equal to threshold. Return left.\n",
    "    "
   ]
  }
 ],
 "metadata": {
  "kernelspec": {
   "display_name": "Python 3",
   "language": "python",
   "name": "python3"
  },
  "language_info": {
   "codemirror_mode": {
    "name": "ipython",
    "version": 3
   },
   "file_extension": ".py",
   "mimetype": "text/x-python",
   "name": "python",
   "nbconvert_exporter": "python",
   "pygments_lexer": "ipython3",
   "version": "3.7.4"
  }
 },
 "nbformat": 4,
 "nbformat_minor": 2
}
