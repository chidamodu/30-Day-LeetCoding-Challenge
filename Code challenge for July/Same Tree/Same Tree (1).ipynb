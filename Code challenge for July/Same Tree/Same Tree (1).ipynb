{
 "cells": [
  {
   "cell_type": "code",
   "execution_count": null,
   "metadata": {},
   "outputs": [],
   "source": [
    "Given two binary trees, write a function to check if they are the same or not.\n",
    "\n",
    "Two binary trees are considered the same if they are structurally identical and the nodes have the same value.\n",
    "\n",
    "Example 1:\n",
    "\n",
    "Input:     1         1\n",
    "          / \\       / \\\n",
    "         2   3     2   3\n",
    "\n",
    "        [1,2,3],   [1,2,3]\n",
    "\n",
    "Output: true\n",
    "Example 2:\n",
    "\n",
    "Input:     1         1\n",
    "          /           \\\n",
    "         2             2\n",
    "\n",
    "        [1,2],     [1,null,2]\n",
    "\n",
    "Output: false\n",
    "Example 3:\n",
    "\n",
    "Input:     1         1\n",
    "          / \\       / \\\n",
    "         2   1     1   2\n",
    "\n",
    "        [1,2,1],   [1,1,2]\n",
    "\n",
    "Output: false"
   ]
  },
  {
   "cell_type": "code",
   "execution_count": null,
   "metadata": {},
   "outputs": [],
   "source": [
    "Three situations to consider:\n",
    "1. baseline: whether both the trees null (but we dont use null but none in python). if yes then they are same and so \n",
    "return true\n",
    "2. if either of the trees is null then they are not same so return false\n",
    "3. check if the roots of both the trees are equal. if yes then recursively check whether left and right values of both \n",
    "the trees are same or not"
   ]
  },
  {
   "cell_type": "code",
   "execution_count": null,
   "metadata": {},
   "outputs": [],
   "source": [
    "# Definition for a binary tree node.\n",
    "# class TreeNode:\n",
    "#     def __init__(self, val=0, left=None, right=None):\n",
    "#         self.val = val\n",
    "#         self.left = left\n",
    "#         self.right = right\n",
    "class Solution:\n",
    "    def isSameTree(self, p: TreeNode, q: TreeNode) -> bool:\n",
    "        if p == None and q==None:\n",
    "            return True\n",
    "        elif p == None or q==None:\n",
    "            return False\n",
    "        elif p.val!=q.val:\n",
    "            return False\n",
    "        else:\n",
    "            return self.isSameTree(p.left, q.left) and self.isSameTree(p.right, q.right)\n",
    "                \n",
    "result:\n",
    "Your runtime beats 18.38 % of python3 submissions.\n",
    "Runtime: 44 ms\n",
    "Memory Usage: 13.8 MB"
   ]
  }
 ],
 "metadata": {
  "kernelspec": {
   "display_name": "Python 3",
   "language": "python",
   "name": "python3"
  },
  "language_info": {
   "codemirror_mode": {
    "name": "ipython",
    "version": 3
   },
   "file_extension": ".py",
   "mimetype": "text/x-python",
   "name": "python",
   "nbconvert_exporter": "python",
   "pygments_lexer": "ipython3",
   "version": "3.7.4"
  }
 },
 "nbformat": 4,
 "nbformat_minor": 2
}
