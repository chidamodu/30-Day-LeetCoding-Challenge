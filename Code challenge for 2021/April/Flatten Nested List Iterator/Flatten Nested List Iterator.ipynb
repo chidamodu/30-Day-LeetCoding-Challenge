{
 "cells": [
  {
   "cell_type": "markdown",
   "metadata": {},
   "source": [
    "You are given a nested list of integers nestedList. Each element is either an integer or a list whose elements may also be integers or other lists. Implement an iterator to flatten it.\n",
    "\n",
    "Implement the NestedIterator class:\n",
    "\n",
    "NestedIterator(List<NestedInteger> nestedList) Initializes the iterator with the nested list nestedList.\n",
    "int next() Returns the next integer in the nested list.\n",
    "boolean hasNext() Returns true if there are still some integers in the nested list and false otherwise.\n",
    " \n",
    "Example 1:\n",
    "Input: nestedList = [[1,1],2,[1,1]]\n",
    "Output: [1,1,2,1,1]\n",
    "Explanation: By calling next repeatedly until hasNext returns false, the order of elements returned by next should be: [1,1,2,1,1].\n",
    "\n",
    "Example 2:\n",
    "Input: nestedList = [1,[4,[6]]]\n",
    "Output: [1,4,6]\n",
    "Explanation: By calling next repeatedly until hasNext returns false, the order of elements returned by next should be: [1,4,6].\n",
    " \n",
    "\n",
    "Constraints:\n",
    "1 <= nestedList.length <= 500\n",
    "The values of the integers in the nested list is in the range [-106, 106]."
   ]
  },
  {
   "cell_type": "code",
   "execution_count": null,
   "metadata": {},
   "outputs": [],
   "source": [
    "# \"\"\"\n",
    "# This is the interface that allows for creating nested lists.\n",
    "# You should not implement it, or speculate about its implementation\n",
    "# \"\"\"\n",
    "#class NestedInteger:\n",
    "#    def isInteger(self) -> bool:\n",
    "#        \"\"\"\n",
    "#        @return True if this NestedInteger holds a single integer, rather than a nested list.\n",
    "#        \"\"\"\n",
    "#\n",
    "#    def getInteger(self) -> int:\n",
    "#        \"\"\"\n",
    "#        @return the single integer that this NestedInteger holds, if it holds a single integer\n",
    "#        Return None if this NestedInteger holds a nested list\n",
    "#        \"\"\"\n",
    "#\n",
    "#    def getList(self) -> [NestedInteger]:\n",
    "#        \"\"\"\n",
    "#        @return the nested list that this NestedInteger holds, if it holds a nested list\n",
    "#        Return None if this NestedInteger holds a single integer\n",
    "#        \"\"\"\n",
    "\n",
    "class NestedIterator:\n",
    "    def __init__(self, nestedList: [NestedInteger]):\n",
    "        self.data=[]\n",
    "        self.flatten(nestedList)\n",
    "        \n",
    "    def flatten(self, l):\n",
    "        for i in l:\n",
    "            if i.isInteger(): self.data.append(i.getInteger())\n",
    "            else: self.flatten(i.getList())\n",
    "                \n",
    "    def next(self) -> int:\n",
    "        return self.data.pop(0)\n",
    "        \n",
    "    def hasNext(self) -> bool:\n",
    "        return len(self.data)\n",
    "        \n",
    "         \n",
    "# Your NestedIterator object will be instantiated and called as such:\n",
    "# i, v = NestedIterator(nestedList), []\n",
    "# while i.hasNext(): v.append(i.next())"
   ]
  },
  {
   "cell_type": "markdown",
   "metadata": {},
   "source": [
    "Complexity\n",
    "\n",
    "Time complexity potentially O(n+k), where k is number of brackets and n is number of numbers. \n",
    "Space complexity is the same.\n",
    "\n"
   ]
  }
 ],
 "metadata": {
  "kernelspec": {
   "display_name": "Python 3",
   "language": "python",
   "name": "python3"
  },
  "language_info": {
   "codemirror_mode": {
    "name": "ipython",
    "version": 3
   },
   "file_extension": ".py",
   "mimetype": "text/x-python",
   "name": "python",
   "nbconvert_exporter": "python",
   "pygments_lexer": "ipython3",
   "version": "3.7.4"
  }
 },
 "nbformat": 4,
 "nbformat_minor": 2
}
