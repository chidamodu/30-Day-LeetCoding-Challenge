{
 "cells": [
  {
   "cell_type": "code",
   "execution_count": null,
   "metadata": {},
   "outputs": [],
   "source": [
    "Find the sum of all left leaves in a given binary tree.\n",
    "\n",
    "Example:\n",
    "\n",
    "    3\n",
    "   / \\\n",
    "  9  20\n",
    "    /  \\\n",
    "   15   7\n",
    "\n",
    "There are two left leaves in the binary tree, with values 9 and 15 respectively. Return 24."
   ]
  },
  {
   "cell_type": "code",
   "execution_count": null,
   "metadata": {},
   "outputs": [],
   "source": [
    "\n",
    "# Definition for a binary tree node.\n",
    "# class TreeNode:\n",
    "#     def __init__(self, val=0, left=None, right=None):\n",
    "#         self.val = val\n",
    "#         self.left = left\n",
    "#         self.right = right\n",
    "class Solution:\n",
    "    def sumOfLeftLeaves(self, root: TreeNode) -> int:\n",
    "        self.total=0\n",
    "        def sumOfLeftLeaves(root, left=True):\n",
    "            if left and root.left==None and root.right==None:\n",
    "                self.total+=root.val\n",
    "                return \n",
    "            if root.left!=None: sumOfLeftLeaves(root.left, True)\n",
    "            if root.right!=None: sumOfLeftLeaves(root.right, False)\n",
    "                \n",
    "        if root==None: return 0\n",
    "        sumOfLeftLeaves(root, False)\n",
    "        return self.total\n",
    "                \n",
    "        \n",
    "                \n",
    "#the following is the concept        \n",
    "#         if root==None:\n",
    "#             return 0\n",
    "        \n",
    "#         elif (root.left==None and root.left.left==None and root.left.right==None):\n",
    "#             return root.left.val+ sumOfLeftLeaves(root.right)\n",
    "        \n",
    "#         else:\n",
    "#             return sumOfLeftLeaves(root.left)+ sumOfLeftLeaves(root.right)\n",
    "        \n",
    "\n",
    "\n",
    "\n",
    "result:\n",
    "Runtime: 64 ms\n",
    "Memory Usage: 14.7 MB\n",
    "Your runtime beats 6.71 % of python3 submissions."
   ]
  }
 ],
 "metadata": {
  "kernelspec": {
   "display_name": "Python 3",
   "language": "python",
   "name": "python3"
  },
  "language_info": {
   "codemirror_mode": {
    "name": "ipython",
    "version": 3
   },
   "file_extension": ".py",
   "mimetype": "text/x-python",
   "name": "python",
   "nbconvert_exporter": "python",
   "pygments_lexer": "ipython3",
   "version": "3.7.4"
  }
 },
 "nbformat": 4,
 "nbformat_minor": 2
}
