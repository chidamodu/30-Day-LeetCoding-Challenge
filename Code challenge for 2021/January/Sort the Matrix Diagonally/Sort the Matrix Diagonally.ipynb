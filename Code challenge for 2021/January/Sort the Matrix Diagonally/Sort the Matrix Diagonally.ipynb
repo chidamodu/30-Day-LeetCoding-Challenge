{
 "cells": [
  {
   "cell_type": "code",
   "execution_count": null,
   "metadata": {},
   "outputs": [],
   "source": [
    "A matrix diagonal is a diagonal line of cells starting from some cell in either the topmost row or leftmost column \n",
    "and going in the bottom-right direction until reaching the matrix's end. For example, the matrix diagonal starting \n",
    "from mat[2][0], where mat is a 6 x 3 matrix, includes cells mat[2][0], mat[3][1], and mat[4][2].\n",
    "\n",
    "Given an m x n matrix mat of integers, sort each matrix diagonal in ascending order and return the resulting matrix.\n",
    "\n",
    "Example 1:\n",
    "Input: mat = [[3,3,1,1],[2,2,1,2],[1,1,1,2]]\n",
    "Output: [[1,1,1,1],[1,2,2,2],[1,2,3,3]]\n",
    " \n",
    "\n",
    "Constraints:\n",
    "m == mat.length\n",
    "n == mat[i].length\n",
    "1 <= m, n <= 100\n",
    "1 <= mat[i][j] <= 100\n",
    "\n",
    "Hint #1  \n",
    "Use a data structure to store all values of each diagonal.\n",
    "\n",
    "Hint #2  \n",
    "How to index the data structure with the id of the diagonal?\n",
    "\n",
    "Hint #3  \n",
    "All cells in the same diagonal (i,j) have the same difference so we can get the diagonal of a cell using the \n",
    "difference i-j.\n"
   ]
  },
  {
   "cell_type": "code",
   "execution_count": 61,
   "metadata": {},
   "outputs": [],
   "source": [
    "from collections import defaultdict\n",
    "\n",
    "def diagonalSort(mat):\n",
    "    rows=len(mat)\n",
    "    columns=len(mat[0])\n",
    "    d=defaultdict(list)\n",
    "    \n",
    "    for row in range(rows):\n",
    "        for col in range(columns):\n",
    "            d[row-col].append(mat[row][col])\n",
    "    \n",
    "            \n",
    "    for k in d:\n",
    "        d[k].sort(reverse=True)#really important to note that we are sorting the values of the keys and not the \n",
    "        #order of the keys. There is no order maintained in dict including defaultdict\n",
    "  \n",
    "        \n",
    "    for i in range(rows):\n",
    "        for j in range(columns):\n",
    "            mat[i][j]=d[i-j].pop()\n",
    "        \n",
    "    return mat\n",
    "            \n",
    "        \n",
    "outcome:\n",
    "    \n",
    "Your runtime beats 96.56 % of python3 submissions.\n",
    "Runtime: 76 ms\n",
    "Memory Usage: 14.8 MB"
   ]
  },
  {
   "cell_type": "code",
   "execution_count": 62,
   "metadata": {},
   "outputs": [
    {
     "data": {
      "text/plain": [
       "[[1, 1, 1, 1], [1, 2, 2, 2], [1, 2, 3, 3]]"
      ]
     },
     "execution_count": 62,
     "metadata": {},
     "output_type": "execute_result"
    }
   ],
   "source": [
    "mat = [[3,3,1,1],[2,2,1,2],[1,1,1,2]]\n",
    "diagonalSort(mat)"
   ]
  },
  {
   "cell_type": "code",
   "execution_count": null,
   "metadata": {},
   "outputs": [],
   "source": [
    "Complexity Analysis\n",
    "\n",
    "Time complexity: O(N×M×log(min(N,M))), where N is a number of rows and M is a number of columns. We perform \n",
    "N×M operations in two nested loops. At each iteration, we push an element into the dictionary that contains the current \n",
    "diagonal.\n",
    "\n",
    "The longest diagonal contains not more than min(N,M) elements.\n",
    "\n",
    "Space complexity: O(N×M) to keep the hashmap with all input elements, where N is a number of rows and \n",
    "M is a number of columns. \n"
   ]
  }
 ],
 "metadata": {
  "kernelspec": {
   "display_name": "Python 3",
   "language": "python",
   "name": "python3"
  },
  "language_info": {
   "codemirror_mode": {
    "name": "ipython",
    "version": 3
   },
   "file_extension": ".py",
   "mimetype": "text/x-python",
   "name": "python",
   "nbconvert_exporter": "python",
   "pygments_lexer": "ipython3",
   "version": "3.7.4"
  }
 },
 "nbformat": 4,
 "nbformat_minor": 2
}
