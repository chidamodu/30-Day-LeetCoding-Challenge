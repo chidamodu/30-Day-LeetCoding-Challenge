{
 "cells": [
  {
   "cell_type": "markdown",
   "metadata": {},
   "source": [
    "Given three integers x, y, and bound, return a list of all the powerful integers that have a value less than or equal \n",
    "to bound.\n",
    "\n",
    "An integer is powerful if it can be represented as xi + yj for some integers i >= 0 and j >= 0.\n",
    "\n",
    "You may return the answer in any order. In your answer, each value should occur at most once.\n",
    "\n",
    "Example 1:\n",
    "\n",
    "Input: x = 2, y = 3, bound = 10\n",
    "Output: [2,3,4,5,7,9,10]\n",
    "Explanation:\n",
    "2 = 20 + 30\n",
    "3 = 21 + 30\n",
    "4 = 20 + 31\n",
    "5 = 21 + 31\n",
    "7 = 22 + 31\n",
    "9 = 23 + 30\n",
    "10 = 20 + 32\n",
    "\n",
    "Example 2:\n",
    "Input: x = 3, y = 5, bound = 15\n",
    "Output: [2,4,6,8,10,14]\n",
    " \n",
    "Constraints:\n",
    "1 <= x, y <= 100\n",
    "0 <= bound <= 106"
   ]
  },
  {
   "cell_type": "code",
   "execution_count": 1,
   "metadata": {},
   "outputs": [],
   "source": [
    "Trial - tried something very literal\n",
    "\n",
    "def powerfulIntegers(x, y, bound):\n",
    "    #Let's find the maximum of y\n",
    "    y_max=bound-(x**0)\n",
    "    x_max=bound-(y**0)\n",
    "    \n",
    "    return x_max, y_max"
   ]
  },
  {
   "cell_type": "code",
   "execution_count": 2,
   "metadata": {},
   "outputs": [
    {
     "data": {
      "text/plain": [
       "(9, 9)"
      ]
     },
     "execution_count": 2,
     "metadata": {},
     "output_type": "execute_result"
    }
   ],
   "source": [
    "powerfulIntegers(2, 3, 10)"
   ]
  },
  {
   "cell_type": "code",
   "execution_count": 8,
   "metadata": {},
   "outputs": [],
   "source": [
    "\n",
    "\n",
    "def powerfulIntegers(x, y, bound):\n",
    "    power_x=[]\n",
    "    power_y=[]\n",
    "    temp_pow_x=x\n",
    "    temp_pow_y=y\n",
    "    power_x.append(1)\n",
    "    power_y.append(1)\n",
    "    result=set()\n",
    "    \n",
    "    if x!=1:\n",
    "        while temp_pow_x<bound:\n",
    "            power_x.append(temp_pow_x)\n",
    "            temp_pow_x*=x\n",
    "            \n",
    "    if y!=1:\n",
    "        while temp_pow_y<bound:\n",
    "            power_y.append(temp_pow_y)\n",
    "            temp_pow_y*=y\n",
    "            \n",
    "    for i in power_x:\n",
    "        for j in power_y:\n",
    "            if i+j <= bound:\n",
    "                result.add(i+j)\n",
    "                \n",
    "    return list(result)\n",
    "        \n",
    "            \n",
    "outcome:\n",
    "Your runtime beats 68.44 % of python3 submissions.\n",
    "Runtime: 32 ms\n",
    "Memory Usage: 14.4 MB\n",
    "    \n",
    "\n",
    "    "
   ]
  },
  {
   "cell_type": "code",
   "execution_count": 9,
   "metadata": {},
   "outputs": [
    {
     "data": {
      "text/plain": [
       "[2, 4, 6, 8, 10, 14]"
      ]
     },
     "execution_count": 9,
     "metadata": {},
     "output_type": "execute_result"
    }
   ],
   "source": [
    "powerfulIntegers(x = 3, y = 5, bound = 15)"
   ]
  },
  {
   "cell_type": "code",
   "execution_count": null,
   "metadata": {},
   "outputs": [],
   "source": [
    "Alternative solution using logarithmic approach\n",
    "\n",
    "Approach: Logartihmic Bounds\n",
    "\n",
    "Intuition\n",
    "\n",
    "Our approach here will only focus on finding the bounds for numbers x and y. One way to get the bounds on the powers \n",
    "is to have nested loops that iterate from \n",
    "\n",
    "[0⋯bound]. However, this is very inefficient because the bound can be an extremely large value and a nested-loop over \n",
    "this bound will take forever to finish. Also, we don't need to iterate over all of the values and combinations. \n",
    "There is a way to find a much smaller bound for the powers.\n",
    "\n",
    "m**n<=bound\n",
    "\n",
    "This formula implies that\n",
    "\n",
    "n<= log (to the base m) bound\n",
    "\n",
    "We can use the log function to determine the bounds for the powers of \"x\" and \"y\".\n",
    "\n",
    "\n",
    "class Solution:\n",
    "    def powerfulIntegers(self, x: int, y: int, bound: int) -> List[int]:\n",
    "        \n",
    "        a = bound if x == 1 else int(log(bound, x))\n",
    "        b = bound if y == 1 else int(log(bound, y))\n",
    "        \n",
    "        powerful_integers = set([])\n",
    "        \n",
    "        for i in range(a + 1):\n",
    "            for j in range(b + 1):\n",
    "                \n",
    "                value = x**i + y**j\n",
    "                \n",
    "                if value <= bound:\n",
    "                    powerful_integers.add(value)\n",
    "                    \n",
    "                if y == 1:\n",
    "                    break\n",
    "            \n",
    "            if x == 1:\n",
    "                break\n",
    "                \n",
    "        return list(powerful_integers)"
   ]
  },
  {
   "cell_type": "code",
   "execution_count": null,
   "metadata": {},
   "outputs": [],
   "source": [
    "Complexity Analysis\n",
    "\n",
    "Time Complexity: \n",
    "\n",
    "Then the overall time complexity is O(N×M) because we used a nested loop structure to calculate all of the powerful \n",
    "integers.\n",
    "\n",
    "Space Complexity: \n",
    "O(N×M) because we use a set to omit duplicates. We could just use our result list to check membership before adding \n",
    "values. However, that would be costly in terms of time complexity because it would require a full scan of the result \n",
    "list to see if the value already exists.\n"
   ]
  }
 ],
 "metadata": {
  "kernelspec": {
   "display_name": "Python 3",
   "language": "python",
   "name": "python3"
  },
  "language_info": {
   "codemirror_mode": {
    "name": "ipython",
    "version": 3
   },
   "file_extension": ".py",
   "mimetype": "text/x-python",
   "name": "python",
   "nbconvert_exporter": "python",
   "pygments_lexer": "ipython3",
   "version": "3.7.4"
  }
 },
 "nbformat": 4,
 "nbformat_minor": 2
}
