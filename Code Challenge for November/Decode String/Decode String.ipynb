{
 "cells": [
  {
   "cell_type": "code",
   "execution_count": null,
   "metadata": {},
   "outputs": [],
   "source": [
    "Given an encoded string, return its decoded string.\n",
    "\n",
    "The encoding rule is: k[encoded_string], where the encoded_string inside the square brackets is being repeated \n",
    "exactly k times. Note that k is guaranteed to be a positive integer.\n",
    "\n",
    "You may assume that the input string is always valid; No extra white spaces, square brackets are well-formed, etc.\n",
    "\n",
    "Furthermore, you may assume that the original data does not contain any digits and that digits are only for those \n",
    "repeat numbers, k. For example, there won't be input like 3a or 2[4].\n",
    "\n",
    " \n",
    "Example 1:\n",
    "Input: s = \"3[a]2[bc]\"\n",
    "Output: \"aaabcbc\"\n",
    "\n",
    "Example 2:\n",
    "Input: s = \"3[a2[c]]\"\n",
    "Output: \"accaccacc\"\n",
    "\n",
    "Example 3:\n",
    "Input: s = \"2[abc]3[cd]ef\"\n",
    "Output: \"abcabccdcdcdef\"\n",
    "\n",
    "Example 4:\n",
    "Input: s = \"abc3[cd]xyz\"\n",
    "Output: \"abccdcdcdxyz\"\n",
    " \n",
    "\n",
    "Constraints:\n",
    "1 <= s.length <= 30\n",
    "s consists of lowercase English letters, digits, and square brackets '[]'.\n",
    "s is guaranteed to be a valid input.\n",
    "All the integers in s are in the range [1, 300]."
   ]
  },
  {
   "cell_type": "code",
   "execution_count": null,
   "metadata": {},
   "outputs": [],
   "source": [
    "class Solution:\n",
    "    def decodeString(self, s: str) -> str:\n",
    "        it, num, stack = 0, 0, [\"\"]\n",
    "        while it < len(s):\n",
    "            if s[it].isdigit():\n",
    "                num = num * 10 + int(s[it])\n",
    "            elif s[it] == \"[\":\n",
    "                stack.append(num)\n",
    "                num = 0\n",
    "                stack.append(\"\")\n",
    "            elif s[it] == \"]\":\n",
    "                str1 = stack.pop()\n",
    "                rep = stack.pop()\n",
    "                str2 = stack.pop()\n",
    "                stack.append(str2 + str1 * rep)\n",
    "            else:\n",
    "                stack[-1] += s[it]              \n",
    "            it += 1           \n",
    "        return \"\".join(stack)\n",
    "        "
   ]
  }
 ],
 "metadata": {
  "kernelspec": {
   "display_name": "Python 3",
   "language": "python",
   "name": "python3"
  },
  "language_info": {
   "codemirror_mode": {
    "name": "ipython",
    "version": 3
   },
   "file_extension": ".py",
   "mimetype": "text/x-python",
   "name": "python",
   "nbconvert_exporter": "python",
   "pygments_lexer": "ipython3",
   "version": "3.7.4"
  }
 },
 "nbformat": 4,
 "nbformat_minor": 2
}
