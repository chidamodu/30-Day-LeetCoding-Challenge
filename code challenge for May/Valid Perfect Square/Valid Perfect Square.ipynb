{
 "cells": [
  {
   "cell_type": "code",
   "execution_count": 41,
   "metadata": {},
   "outputs": [],
   "source": [
    "def isPerfectSquare(num):\n",
    "    return (num ** 0.5).is_integer()\n",
    "\n",
    "Runtime: 24 ms\n",
    "Memory Usage: 13.8 MB\n",
    "Your runtime beats 93.30 % of python3 submissions."
   ]
  },
  {
   "cell_type": "code",
   "execution_count": 42,
   "metadata": {},
   "outputs": [
    {
     "data": {
      "text/plain": [
       "True"
      ]
     },
     "execution_count": 42,
     "metadata": {},
     "output_type": "execute_result"
    }
   ],
   "source": [
    "isPerfectSquare(1)"
   ]
  },
  {
   "cell_type": "code",
   "execution_count": 43,
   "metadata": {},
   "outputs": [
    {
     "data": {
      "text/plain": [
       "True"
      ]
     },
     "execution_count": 43,
     "metadata": {},
     "output_type": "execute_result"
    }
   ],
   "source": [
    "isPerfectSquare(16)"
   ]
  },
  {
   "cell_type": "code",
   "execution_count": 44,
   "metadata": {},
   "outputs": [
    {
     "data": {
      "text/plain": [
       "False"
      ]
     },
     "execution_count": 44,
     "metadata": {},
     "output_type": "execute_result"
    }
   ],
   "source": [
    "isPerfectSquare(14)"
   ]
  },
  {
   "cell_type": "code",
   "execution_count": 45,
   "metadata": {},
   "outputs": [
    {
     "data": {
      "text/plain": [
       "8"
      ]
     },
     "execution_count": 45,
     "metadata": {},
     "output_type": "execute_result"
    }
   ],
   "source": [
    "16//2"
   ]
  },
  {
   "cell_type": "code",
   "execution_count": null,
   "metadata": {},
   "outputs": [],
   "source": [
    "Binary Search Solution\n",
    "\n",
    "class Solution(object):\n",
    "    def isPerfectSquare(self, num):\n",
    "        \"\"\"\n",
    "        :type num: int\n",
    "        :rtype: bool\n",
    "        \"\"\"\n",
    "        if num < 0:\n",
    "            return False\n",
    "\n",
    "        sqrtMin = 0\n",
    "        sqrtMax = num\n",
    "\n",
    "        while sqrtMin < sqrtMax:\n",
    "            sqrtMid = (sqrtMin+sqrtMax)//2\n",
    "\n",
    "            Mid = sqrtMid ** 2\n",
    "            if num == Mid:\n",
    "                return True\n",
    "            elif num < Mid:\n",
    "                sqrtMax = sqrtMid-1\n",
    "            else:\n",
    "                sqrtMin = sqrtMid+1\n",
    "\n",
    "        return any( num==x**2 for x in range(sqrtMin,sqrtMax+1) )\n",
    "            \n",
    "\n",
    "\n",
    "\n",
    "\n",
    "\n",
    "Your runtime beats 9.11 % of python3 submissions.\n",
    "Runtime: 48 ms\n",
    "Memory Usage: 13.8 MB"
   ]
  }
 ],
 "metadata": {
  "kernelspec": {
   "display_name": "Python 3",
   "language": "python",
   "name": "python3"
  },
  "language_info": {
   "codemirror_mode": {
    "name": "ipython",
    "version": 3
   },
   "file_extension": ".py",
   "mimetype": "text/x-python",
   "name": "python",
   "nbconvert_exporter": "python",
   "pygments_lexer": "ipython3",
   "version": "3.7.4"
  }
 },
 "nbformat": 4,
 "nbformat_minor": 2
}
