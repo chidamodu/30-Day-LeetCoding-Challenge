{
 "cells": [
  {
   "cell_type": "code",
   "execution_count": null,
   "metadata": {},
   "outputs": [],
   "source": [
    "Given a list of non-overlapping axis-aligned rectangles rects, write a function pick which randomly and uniformily \n",
    "picks an integer point in the space covered by the rectangles.\n",
    "\n",
    "Note:\n",
    "An integer point is a point that has integer coordinates. \n",
    "A point on the perimeter of a rectangle is included in the space covered by the rectangles. \n",
    "ith rectangle = rects[i] = [x1,y1,x2,y2], where [x1, y1] are the integer coordinates of the bottom-left corner, \n",
    "and [x2, y2] are the integer coordinates of the top-right corner.\n",
    "length and width of each rectangle does not exceed 2000.\n",
    "1 <= rects.length <= 100\n",
    "pick return a point as an array of integer coordinates [p_x, p_y]\n",
    "pick is called at most 10000 times.\n",
    "\n",
    "Example 1:\n",
    "Input: \n",
    "[\"Solution\",\"pick\",\"pick\",\"pick\"]\n",
    "[[[[1,1,5,5]]],[],[],[]]\n",
    "Output: \n",
    "[null,[4,1],[4,1],[3,3]]\n",
    "\n",
    "Example 2:\n",
    "Input: \n",
    "[\"Solution\",\"pick\",\"pick\",\"pick\",\"pick\",\"pick\"]\n",
    "[[[[-2,-2,-1,-1],[1,0,3,0]]],[],[],[],[],[]]\n",
    "Output: \n",
    "[null,[-1,-2],[2,0],[-2,-1],[3,0],[-2,-2]]\n",
    "\n",
    "Explanation of Input Syntax:\n",
    "\n",
    "The input is two lists: the subroutines called and their arguments. Solution's constructor has one argument, \n",
    "the array of rectangles rects. pick has no arguments. Arguments are always wrapped with a list, even if there \n",
    "aren't any.\n",
    "\n",
    " "
   ]
  },
  {
   "cell_type": "code",
   "execution_count": 1,
   "metadata": {},
   "outputs": [
    {
     "ename": "NameError",
     "evalue": "name 'List' is not defined",
     "output_type": "error",
     "traceback": [
      "\u001b[0;31m---------------------------------------------------------------------------\u001b[0m",
      "\u001b[0;31mNameError\u001b[0m                                 Traceback (most recent call last)",
      "\u001b[0;32m<ipython-input-1-eaa0126b5a0c>\u001b[0m in \u001b[0;36m<module>\u001b[0;34m\u001b[0m\n\u001b[0;32m----> 1\u001b[0;31m \u001b[0;32mclass\u001b[0m \u001b[0mSolution\u001b[0m\u001b[0;34m:\u001b[0m\u001b[0;34m\u001b[0m\u001b[0;34m\u001b[0m\u001b[0m\n\u001b[0m\u001b[1;32m      2\u001b[0m \u001b[0;34m\u001b[0m\u001b[0m\n\u001b[1;32m      3\u001b[0m     \u001b[0;32mdef\u001b[0m \u001b[0m__init__\u001b[0m\u001b[0;34m(\u001b[0m\u001b[0mself\u001b[0m\u001b[0;34m,\u001b[0m \u001b[0mrects\u001b[0m\u001b[0;34m:\u001b[0m \u001b[0mList\u001b[0m\u001b[0;34m[\u001b[0m\u001b[0mList\u001b[0m\u001b[0;34m[\u001b[0m\u001b[0mint\u001b[0m\u001b[0;34m]\u001b[0m\u001b[0;34m]\u001b[0m\u001b[0;34m)\u001b[0m\u001b[0;34m:\u001b[0m\u001b[0;34m\u001b[0m\u001b[0;34m\u001b[0m\u001b[0m\n\u001b[1;32m      4\u001b[0m         \u001b[0mself\u001b[0m\u001b[0;34m.\u001b[0m\u001b[0mnum\u001b[0m\u001b[0;34m=\u001b[0m\u001b[0;36m0\u001b[0m\u001b[0;34m\u001b[0m\u001b[0;34m\u001b[0m\u001b[0m\n\u001b[1;32m      5\u001b[0m         \u001b[0mself\u001b[0m\u001b[0;34m.\u001b[0m\u001b[0mrects\u001b[0m\u001b[0;34m=\u001b[0m\u001b[0mrects\u001b[0m\u001b[0;34m\u001b[0m\u001b[0;34m\u001b[0m\u001b[0m\n",
      "\u001b[0;32m<ipython-input-1-eaa0126b5a0c>\u001b[0m in \u001b[0;36mSolution\u001b[0;34m()\u001b[0m\n\u001b[1;32m      1\u001b[0m \u001b[0;32mclass\u001b[0m \u001b[0mSolution\u001b[0m\u001b[0;34m:\u001b[0m\u001b[0;34m\u001b[0m\u001b[0;34m\u001b[0m\u001b[0m\n\u001b[1;32m      2\u001b[0m \u001b[0;34m\u001b[0m\u001b[0m\n\u001b[0;32m----> 3\u001b[0;31m     \u001b[0;32mdef\u001b[0m \u001b[0m__init__\u001b[0m\u001b[0;34m(\u001b[0m\u001b[0mself\u001b[0m\u001b[0;34m,\u001b[0m \u001b[0mrects\u001b[0m\u001b[0;34m:\u001b[0m \u001b[0mList\u001b[0m\u001b[0;34m[\u001b[0m\u001b[0mList\u001b[0m\u001b[0;34m[\u001b[0m\u001b[0mint\u001b[0m\u001b[0;34m]\u001b[0m\u001b[0;34m]\u001b[0m\u001b[0;34m)\u001b[0m\u001b[0;34m:\u001b[0m\u001b[0;34m\u001b[0m\u001b[0;34m\u001b[0m\u001b[0m\n\u001b[0m\u001b[1;32m      4\u001b[0m         \u001b[0mself\u001b[0m\u001b[0;34m.\u001b[0m\u001b[0mnum\u001b[0m\u001b[0;34m=\u001b[0m\u001b[0;36m0\u001b[0m\u001b[0;34m\u001b[0m\u001b[0;34m\u001b[0m\u001b[0m\n\u001b[1;32m      5\u001b[0m         \u001b[0mself\u001b[0m\u001b[0;34m.\u001b[0m\u001b[0mrects\u001b[0m\u001b[0;34m=\u001b[0m\u001b[0mrects\u001b[0m\u001b[0;34m\u001b[0m\u001b[0;34m\u001b[0m\u001b[0m\n",
      "\u001b[0;31mNameError\u001b[0m: name 'List' is not defined"
     ]
    }
   ],
   "source": [
    "class Solution:\n",
    "\n",
    "    def __init__(self, rects: List[List[int]]):\n",
    "        self.num=0\n",
    "        self.rects=rects\n",
    "        self.rect_cumulative=[]\n",
    "        for point in rects:\n",
    "            self.num+=(point[2]-point[0]+1)*(point[3]-point[1]+1)\n",
    "            self.rect_cumulative.append(num)\n",
    "        \n",
    "\n",
    "    def pick(self) -> List[int]:\n",
    "        point_index=random.randint(0, self.num-1)\n",
    "        l, r=0, len(self.rects)-1\n",
    "        while l<r:\n",
    "            mid=l+(r-l)//2\n",
    "            if self.rect_cumulative[mid]<= point_index: l=mid+1\n",
    "            else: r=mid\n",
    "                \n",
    "        rect=self.rects[l]\n",
    "        x_pt=rect[2]-rect[0]+1\n",
    "        y_pt=rect[3]-rect[1]+1\n",
    "        points_rect=x_pt*y_pt\n",
    "        pt_start=rect_cumulative[l]-points_rect\n",
    "        offset=point_index-pt_start\n",
    "        return [rect[0]+offset%x_pt, rect[1]+offset/x_pt]\n",
    "        \n",
    "        \n",
    "\n",
    "\n",
    "# Your Solution object will be instantiated and called as such:\n",
    "# obj = Solution(rects)\n",
    "# param_1 = obj.pick()\n",
    "\n",
    "\n",
    "result:\n",
    "Your runtime beats 80.93 % of python3 submissions.\n",
    "Runtime: 196 ms\n",
    "Memory Usage: 17.7 MB"
   ]
  }
 ],
 "metadata": {
  "kernelspec": {
   "display_name": "Python 3",
   "language": "python",
   "name": "python3"
  },
  "language_info": {
   "codemirror_mode": {
    "name": "ipython",
    "version": 3
   },
   "file_extension": ".py",
   "mimetype": "text/x-python",
   "name": "python",
   "nbconvert_exporter": "python",
   "pygments_lexer": "ipython3",
   "version": "3.7.4"
  }
 },
 "nbformat": 4,
 "nbformat_minor": 2
}
