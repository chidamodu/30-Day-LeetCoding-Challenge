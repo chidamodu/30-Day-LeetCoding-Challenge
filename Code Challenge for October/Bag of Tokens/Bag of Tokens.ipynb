{
 "cells": [
  {
   "cell_type": "code",
   "execution_count": null,
   "metadata": {},
   "outputs": [],
   "source": [
    "You have an initial power of P, an initial score of 0, and a bag of tokens where tokens[i] is the value of the ith \n",
    "token (0-indexed).\n",
    "\n",
    "Your goal is to maximize your total score by potentially playing each token in one of two ways:\n",
    "\n",
    "If your current power is at least tokens[i], you may play the ith token face up, losing tokens[i] power and gaining 1 \n",
    "score.\n",
    "If your current score is at least 1, you may play the ith token face down, gaining tokens[i] power and losing 1 score.\n",
    "Each token may be played at most once and in any order. You do not have to play all the tokens.\n",
    "\n",
    "Return the largest possible score you can achieve after playing any number of tokens.\n",
    "\n",
    "Example 1:\n",
    "Input: tokens = [100], P = 50\n",
    "Output: 0\n",
    "Explanation: Playing the only token in the bag is impossible because you either have too little power or too little \n",
    "score.\n",
    "\n",
    "Example 2:\n",
    "Input: tokens = [100,200], P = 150\n",
    "Output: 1\n",
    "Explanation: Play the 0th token (100) face up, your power becomes 50 and score becomes 1.\n",
    "There is no need to play the 1st token since you cannot play it face up to add to your score.\n",
    "\n",
    "Example 3:\n",
    "Input: tokens = [100,200,300,400], P = 200\n",
    "Output: 2\n",
    "Explanation: Play the tokens in this order to get a score of 2:\n",
    "1. Play the 0th token (100) face up, your power becomes 100 and score becomes 1.\n",
    "2. Play the 3rd token (400) face down, your power becomes 500 and score becomes 0.\n",
    "3. Play the 1st token (200) face up, your power becomes 300 and score becomes 1.\n",
    "4. Play the 2nd token (300) face up, your power becomes 0 and score becomes 2.\n",
    " \n",
    "Constraints:\n",
    "0 <= tokens.length <= 1000\n",
    "0 <= tokens[i], P < 104"
   ]
  },
  {
   "cell_type": "code",
   "execution_count": null,
   "metadata": {},
   "outputs": [],
   "source": [
    "class Solution:\n",
    "    def bagOfTokensScore(self, tokens: List[int], P: int) -> int:\n",
    "        tokens.sort()\n",
    "        start, end, S, max_S = 0, len(tokens) - 1, 0, 0\n",
    "        while start <= end:\n",
    "            if tokens[start] <= P:\n",
    "                P -= tokens[start]\n",
    "                S += 1\n",
    "                max_S = max(max_S, S)\n",
    "                start += 1\n",
    "            elif S >= 1:\n",
    "                P += tokens[end]\n",
    "                S -= 1\n",
    "                end -= 1\n",
    "            else: break\n",
    "        return max_S\n",
    "        \n",
    "result:\n",
    "Your runtime beats 73.98 % of python3 submissions.\n",
    "Runtime: 52 ms\n",
    "Memory Usage: 14.4 MB"
   ]
  },
  {
   "cell_type": "code",
   "execution_count": null,
   "metadata": {},
   "outputs": [],
   "source": [
    "# Visualising the clusters\n",
    "\n",
    "plt.scatter(X[Y_Kmeans == 0, 0], X[Y_Kmeans == 0,1],s = 100, c='red', label = 'Cluster 1')\n",
    "\n",
    "plt.scatter(X[Y_Kmeans == 1, 0], X[Y_Kmeans == 1,1],s = 100, c='blue', label = 'Cluster 2')\n",
    "\n",
    "plt.scatter(X[Y_Kmeans == 2, 0], X[Y_Kmeans == 2,1],s = 100, c='green', label = 'Cluster 3')\n",
    "\n",
    "plt.scatter(X[Y_Kmeans == 3, 0], X[Y_Kmeans == 3,1],s = 100, c='cyan', label = 'Cluster 4')\n",
    "\n",
    "plt.scatter(X[Y_Kmeans == 4, 0], X[Y_Kmeans == 4,1],s = 100, c='magenta', label = 'Cluster 5')\n",
    "\n",
    "plt.scatter(kmeans.cluster_centers_[:,0], kmeans.cluster_centers_[:,1], s = 300, c = 'yellow', label = 'Centroids')\n",
    "    \n",
    "plt.title('Clusters of clients')\n",
    "plt.xlabel('Annual Income (k$)')\n",
    "plt.ylabel('Spending score (1-100)')\n",
    "plt.legend()\n",
    "plt.show()\n"
   ]
  }
 ],
 "metadata": {
  "kernelspec": {
   "display_name": "Python 3",
   "language": "python",
   "name": "python3"
  },
  "language_info": {
   "codemirror_mode": {
    "name": "ipython",
    "version": 3
   },
   "file_extension": ".py",
   "mimetype": "text/x-python",
   "name": "python",
   "nbconvert_exporter": "python",
   "pygments_lexer": "ipython3",
   "version": "3.7.4"
  }
 },
 "nbformat": 4,
 "nbformat_minor": 2
}
