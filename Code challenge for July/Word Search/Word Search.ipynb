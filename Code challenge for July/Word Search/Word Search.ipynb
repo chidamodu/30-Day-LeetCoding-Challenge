{
 "cells": [
  {
   "cell_type": "code",
   "execution_count": null,
   "metadata": {},
   "outputs": [],
   "source": [
    "Given a 2D board and a word, find if the word exists in the grid.\n",
    "\n",
    "The word can be constructed from letters of sequentially adjacent cell, where \"adjacent\" cells are those horizontally \n",
    "or vertically neighboring. The same letter cell may not be used more than once.\n",
    "\n",
    "Example:\n",
    "\n",
    "board =\n",
    "[\n",
    "  ['A','B','C','E'],\n",
    "  ['S','F','C','S'],\n",
    "  ['A','D','E','E']\n",
    "]\n",
    "\n",
    "Given word = \"ABCCED\", return true.\n",
    "Given word = \"SEE\", return true.\n",
    "Given word = \"ABCB\", return false.\n",
    " \n",
    "\n",
    "Constraints:\n",
    "board and word consists only of lowercase and uppercase English letters.\n",
    "1 <= board.length <= 200\n",
    "1 <= board[i].length <= 200\n",
    "1 <= word.length <= 10^3"
   ]
  },
  {
   "cell_type": "code",
   "execution_count": 38,
   "metadata": {},
   "outputs": [],
   "source": [
    "class Solution:\n",
    "    def exist(self, board: List[List[str]], word: str) -> bool:\n",
    "        def dfs(ind, i, j):\n",
    "            if self.Found: return        #early stop if word is found\n",
    "\n",
    "            if ind == k:\n",
    "                self.Found = True                #for early stopping\n",
    "                return \n",
    "\n",
    "            if i < 0 or i >= m or j < 0 or j >= n: return \n",
    "            tmp = board[i][j]\n",
    "            if tmp != word[ind]: return\n",
    "\n",
    "            board[i][j] = \"#\"\n",
    "            for x, y in [[0,-1], [0,1], [1,0], [-1,0]]:\n",
    "                dfs(ind + 1, i+x, j+y)\n",
    "            board[i][j] = tmp\n",
    "        \n",
    "        self.Found = False\n",
    "        m, n, k = len(board), len(board[0]), len(word)\n",
    "        \n",
    "        for i, j in product(range(m), range(n)):\n",
    "            if self.Found: return True          #early stop if word is found\n",
    "            dfs(0, i, j)\n",
    "        return self.Found\n",
    "        \n",
    "    \n",
    "    \n",
    "result:\n",
    "Your runtime beats 10.45 % of python3 submissions.\n",
    "Runtime: 616 ms\n",
    "Memory Usage: 15.3 MB\n",
    "    \n",
    "    \n",
    "Complexity: Time complexity is potentially O(m*n*3^k), where k is length of word and m and n are sizes of our board: \n",
    "we start from all possible cells of board, and each time (except first) we can go in 3 directions (we can not go back).\n",
    "In practice however this number will be usually much smaller, because we have a lot of dead-ends.\n",
    "Space complexity is O(k) - potential size of our recursion stack. \n"
   ]
  },
  {
   "cell_type": "code",
   "execution_count": 40,
   "metadata": {},
   "outputs": [],
   "source": [
    "board =[['A','B','C','E'],['S','F','C','S'],['A','D','E','E']]\n",
    "\n",
    "exist(board, \"ABCCED\")"
   ]
  }
 ],
 "metadata": {
  "kernelspec": {
   "display_name": "Python 3",
   "language": "python",
   "name": "python3"
  },
  "language_info": {
   "codemirror_mode": {
    "name": "ipython",
    "version": 3
   },
   "file_extension": ".py",
   "mimetype": "text/x-python",
   "name": "python",
   "nbconvert_exporter": "python",
   "pygments_lexer": "ipython3",
   "version": "3.7.4"
  }
 },
 "nbformat": 4,
 "nbformat_minor": 2
}
