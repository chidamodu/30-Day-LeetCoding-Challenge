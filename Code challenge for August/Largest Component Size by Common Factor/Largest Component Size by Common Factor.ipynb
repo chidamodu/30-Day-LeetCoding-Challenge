{
 "cells": [
  {
   "cell_type": "code",
   "execution_count": null,
   "metadata": {},
   "outputs": [],
   "source": [
    "Given a non-empty array of unique positive integers A, consider the following graph:\n",
    "\n",
    "There are A.length nodes, labelled A[0] to A[A.length - 1];\n",
    "There is an edge between A[i] and A[j] if and only if A[i] and A[j] share a common factor greater than 1.\n",
    "Return the size of the largest connected component in the graph.\n",
    "\n",
    "Example 1:\n",
    "Input: [4,6,15,35]\n",
    "Output: 4\n",
    "\n",
    "Example 2:\n",
    "Input: [20,50,9,63]\n",
    "Output: 2\n",
    "\n",
    "Example 3:\n",
    "Input: [2,3,6,7,4,12,21,39]\n",
    "Output: 8\n",
    "\n",
    "Note:\n",
    "1 <= A.length <= 20000\n",
    "1 <= A[i] <= 100000\n"
   ]
  },
  {
   "cell_type": "code",
   "execution_count": null,
   "metadata": {},
   "outputs": [],
   "source": [
    "class Solution:\n",
    "    def largestComponentSize(self, A: List[int]) -> int:\n",
    "        p=[-1]*100001\n",
    "        \n",
    "        def find(x):\n",
    "            if p[x]==-1:\n",
    "                return x\n",
    "            p[x] = find(p[x])\n",
    "            return p[x]\n",
    "        \n",
    "        def union(x, y):\n",
    "            xpoint=find(x)\n",
    "            ypoint=find(y)\n",
    "            if xpoint != ypoint:\n",
    "                p[ypoint]=xpoint\n",
    "                \n",
    "        for x in A:\n",
    "            for i in range(2, int(sqrt(x)) +1):\n",
    "                if x%i==0:\n",
    "                    union(i, x)\n",
    "                    union(x, x//i)\n",
    "                    \n",
    "        c=0\n",
    "        d={}\n",
    "        for x in A:\n",
    "            xpoint=find(x)\n",
    "            c=max(c, 1+d.get(xpoint, 0))\n",
    "            d[xpoint]=1+d.get(xpoint, 0)\n",
    "            \n",
    "        return c\n",
    "            \n",
    "Runtime: 2460 ms\n",
    "Memory Usage: 85.9 MB      \n",
    "        "
   ]
  }
 ],
 "metadata": {
  "kernelspec": {
   "display_name": "Python 3",
   "language": "python",
   "name": "python3"
  },
  "language_info": {
   "codemirror_mode": {
    "name": "ipython",
    "version": 3
   },
   "file_extension": ".py",
   "mimetype": "text/x-python",
   "name": "python",
   "nbconvert_exporter": "python",
   "pygments_lexer": "ipython3",
   "version": "3.7.4"
  }
 },
 "nbformat": 4,
 "nbformat_minor": 2
}
