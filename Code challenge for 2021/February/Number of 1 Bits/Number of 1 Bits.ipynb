{
 "cells": [
  {
   "cell_type": "code",
   "execution_count": null,
   "metadata": {},
   "outputs": [],
   "source": [
    "Write a function that takes an unsigned integer and returns the number of '1' bits it has \n",
    "(also known as the Hamming weight).\n",
    "\n",
    "Note:\n",
    "Note that in some languages such as Java, there is no unsigned integer type. In this case, the input will be given as \n",
    "a signed integer type. It should not affect your implementation, as the integer's internal binary representation is \n",
    "the same, whether it is signed or unsigned.\n",
    "In Java, the compiler represents the signed integers using 2's complement notation. Therefore, in Example 3 above, \n",
    "the input represents the signed integer. -3.\n",
    "Follow up: If this function is called many times, how would you optimize it?\n",
    "\n",
    "Example 1:\n",
    "Input: n = 00000000000000000000000000001011\n",
    "Output: 3\n",
    "Explanation: The input binary string 00000000000000000000000000001011 has a total of three '1' bits.\n",
    "\n",
    "Example 2:\n",
    "Input: n = 00000000000000000000000010000000\n",
    "Output: 1\n",
    "Explanation: The input binary string 00000000000000000000000010000000 has a total of one '1' bit.\n",
    "\n",
    "Example 3:\n",
    "Input: n = 11111111111111111111111111111101\n",
    "Output: 31\n",
    "Explanation: The input binary string 11111111111111111111111111111101 has a total of thirty one '1' bits.\n",
    " \n",
    "Constraints:\n",
    "The input must be a binary string of length 32"
   ]
  },
  {
   "cell_type": "code",
   "execution_count": 44,
   "metadata": {},
   "outputs": [],
   "source": [
    "# Final submission - i couldn't run the solution on Jupyter but it worked on Leetcode platform\n",
    "\n",
    "def hammingWeight(n):\n",
    "    count_val_1=0\n",
    "    \n",
    "    while n:\n",
    "        n &= (n-1)\n",
    "        count_val_1+=1\n",
    "        \n",
    "    return count_val_1\n",
    "        \n",
    "        "
   ]
  },
  {
   "cell_type": "code",
   "execution_count": 46,
   "metadata": {},
   "outputs": [],
   "source": [
    "# hammingWeight(n = 00000000000000000000000000001011)"
   ]
  },
  {
   "cell_type": "code",
   "execution_count": null,
   "metadata": {},
   "outputs": [],
   "source": [
    "The key idea here is to realize that for any number n, doing a bit-wise AND of n and n−1 flips the least-significant \n",
    "1-bit in n to 0.\n",
    "\n",
    "In the binary representation, the least significant 1-bit in n always corresponds to a 0-bit in n−1. Therefore, \n",
    "anding the two numbers n and n−1 always flips the least significant 1-bit in n to 0, and keeps all other bits the same.\n",
    "\n"
   ]
  },
  {
   "cell_type": "code",
   "execution_count": null,
   "metadata": {},
   "outputs": [],
   "source": [
    "Complexity Analysis\n",
    "\n",
    "The run time depends on the number of 1-bits in n. In the worst case, all bits in n are 1-bits. In case of a \n",
    "32-bit integer, the run time is O(1).\n",
    "\n",
    "The space complexity is O(1), since no additional space is allocated."
   ]
  }
 ],
 "metadata": {
  "kernelspec": {
   "display_name": "Python 3",
   "language": "python",
   "name": "python3"
  },
  "language_info": {
   "codemirror_mode": {
    "name": "ipython",
    "version": 3
   },
   "file_extension": ".py",
   "mimetype": "text/x-python",
   "name": "python",
   "nbconvert_exporter": "python",
   "pygments_lexer": "ipython3",
   "version": "3.7.4"
  }
 },
 "nbformat": 4,
 "nbformat_minor": 2
}
