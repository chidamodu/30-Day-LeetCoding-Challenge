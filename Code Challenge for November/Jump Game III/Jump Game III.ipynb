{
 "cells": [
  {
   "cell_type": "code",
   "execution_count": null,
   "metadata": {},
   "outputs": [],
   "source": [
    "Given an array of non-negative integers arr, you are initially positioned at start index of the array. When you are \n",
    "at index i, you can jump to i + arr[i] or i - arr[i], check if you can reach to any index with value 0.\n",
    "\n",
    "Notice that you can not jump outside of the array at any time.\n",
    "\n",
    "Example 1:\n",
    "Input: arr = [4,2,3,0,3,1,2], start = 5\n",
    "Output: true\n",
    "Explanation: \n",
    "All possible ways to reach at index 3 with value 0 are: \n",
    "index 5 -> index 4 -> index 1 -> index 3 \n",
    "index 5 -> index 6 -> index 4 -> index 1 -> index 3 \n",
    "\n",
    "Example 2:\n",
    "Input: arr = [4,2,3,0,3,1,2], start = 0\n",
    "Output: true \n",
    "Explanation: \n",
    "One possible way to reach at index 3 with value 0 is: \n",
    "index 0 -> index 4 -> index 1 -> index 3\n",
    "\n",
    "Example 3:\n",
    "Input: arr = [3,0,2,1,2], start = 2\n",
    "Output: false\n",
    "Explanation: There is no way to reach at index 1 with value 0.\n",
    " \n",
    "\n",
    "Constraints:\n",
    "1 <= arr.length <= 5 * 10^4\n",
    "0 <= arr[i] < arr.length\n",
    "0 <= start < arr.length\n",
    "\n",
    "Hint #1  \n",
    "Think of BFS to solve the problem.\n",
    "\n",
    "Hint #2  \n",
    "When you reach a position with a value = 0 then return true.\n"
   ]
  },
  {
   "cell_type": "code",
   "execution_count": null,
   "metadata": {},
   "outputs": [],
   "source": [
    "class Solution:\n",
    "    def canReach(self, arr, start):\n",
    "        stack, visited, n = [start], set(), len(arr)\n",
    "        \n",
    "        while stack:\n",
    "            pos = stack.pop()\n",
    "            if arr[pos] == 0: return True\n",
    "            visited.add(pos)\n",
    "            cand1, cand2 = pos + arr[pos], pos - arr[pos]\n",
    "            if cand1 <  n and cand1 not in visited: stack.append(cand1)\n",
    "            if cand2 >= 0 and cand2 not in visited: stack.append(cand2)\n",
    "                \n",
    "        return False"
   ]
  },
  {
   "cell_type": "code",
   "execution_count": null,
   "metadata": {},
   "outputs": [],
   "source": [
    "Approach 2: Depth-First Search\n",
    "\n",
    "DFS is similar to BFS but differs in the order of searching. You should consider DFS when you think of BFS.\n",
    "\n",
    "Still, we make the value negative to mark as visited.\n",
    "\n",
    "class Solution:\n",
    "    def canReach(self, arr: List[int], start: int) -> bool:\n",
    "        if 0 <= start < len(arr) and arr[start] >= 0:\n",
    "            if arr[start] == 0:\n",
    "                return True\n",
    "\n",
    "            arr[start] = -arr[start]\n",
    "            return self.canReach(arr, start+arr[start]) or self.canReach(arr, start-arr[start])\n",
    "\n",
    "        return False\n",
    "\n",
    "Complexity Analysis\n",
    "\n",
    "Assume N is the length of arr.\n",
    "\n",
    "Time complexity: O(N), since we will visit every index only once.\n",
    "\n",
    "Space complexity: O(N) since it needs at most O(N) stacks for recursions."
   ]
  }
 ],
 "metadata": {
  "kernelspec": {
   "display_name": "Python 3",
   "language": "python",
   "name": "python3"
  },
  "language_info": {
   "codemirror_mode": {
    "name": "ipython",
    "version": 3
   },
   "file_extension": ".py",
   "mimetype": "text/x-python",
   "name": "python",
   "nbconvert_exporter": "python",
   "pygments_lexer": "ipython3",
   "version": "3.7.4"
  }
 },
 "nbformat": 4,
 "nbformat_minor": 2
}
