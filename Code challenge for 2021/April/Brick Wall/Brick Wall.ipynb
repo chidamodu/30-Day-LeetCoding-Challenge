{
 "cells": [
  {
   "cell_type": "markdown",
   "metadata": {},
   "source": [
    "There is a brick wall in front of you. The wall is rectangular and has several rows of bricks. The bricks have the same height but different width. You want to draw a vertical line from the top to the bottom and cross the least bricks.\n",
    "\n",
    "The brick wall is represented by a list of rows. Each row is a list of integers representing the width of each brick in this row from left to right.\n",
    "\n",
    "If your line go through the edge of a brick, then the brick is not considered as crossed. You need to find out how to draw the line to cross the least bricks and return the number of crossed bricks.\n",
    "\n",
    "You cannot draw a line just along one of the two vertical edges of the wall, in which case the line will obviously cross no bricks.\n",
    "\n",
    " \n",
    "Example:\n",
    "\n",
    "Input: [[1,2,2,1],\n",
    "        [3,1,2],\n",
    "        [1,3,2],\n",
    "        [2,4],\n",
    "        [3,1,2],\n",
    "        [1,3,1,1]]\n",
    "\n",
    "Output: 2\n",
    "\n",
    "Note:\n",
    "The width sum of bricks in different rows are the same and won't exceed INT_MAX.\n",
    "The number of bricks in each row is in range [1,10,000]. The height of wall is in range [1,10,000]. Total number of bricks of the wall won't exceed 20,000."
   ]
  },
  {
   "cell_type": "code",
   "execution_count": 10,
   "metadata": {},
   "outputs": [],
   "source": [
    "from collections import defaultdict\n",
    "def leastBricks(wall):\n",
    "    freq = defaultdict(int)\n",
    "    for row in wall:\n",
    "        rowSum = row[0]\n",
    "        for j in range(1, len(row)):\n",
    "            freq[rowSum] += 1\n",
    "            rowSum += row[j]\n",
    "    print(freq)\n",
    "#     return len(wall) - max(freq.values() or [0])"
   ]
  },
  {
   "cell_type": "code",
   "execution_count": 11,
   "metadata": {},
   "outputs": [
    {
     "name": "stdout",
     "output_type": "stream",
     "text": [
      "defaultdict(<class 'int'>, {1: 3, 3: 3, 5: 2, 4: 4, 2: 1})\n"
     ]
    }
   ],
   "source": [
    "leastBricks([[1,2,2,1],\n",
    "        [3,1,2],\n",
    "        [1,3,2],\n",
    "        [2,4],\n",
    "        [3,1,2],\n",
    "        [1,3,1,1]])"
   ]
  },
  {
   "cell_type": "markdown",
   "metadata": {},
   "source": [
    "Idea: pretty cool\n",
    "\n",
    "If the goal here is to find where a line will cross the fewest bricks, then we could also say that the goal is to find where the most brick edges line up. We can consider the edges to occur at an index representing the current running total of the previous elements of a given row of the wall. For example, if the row is defined as [1,2,2,1], then the inside edges occur at [1,1+2,1+2+2], or [1,3,5].\n",
    "\n",
    "If we now know how to find the edges, then we're left with finding out which index has the highest frequency of edges, which naturally calls for a frequency map.\n",
    "\n",
    "So we can iterate through each row in the wall, keep a running total of the current row (rowSum), and then update the frequency of each edge's index in our frequency map (freq).\n",
    "\n",
    "Once we're done filling freq, we just need to iterate through it to find the highest value (best), which represents the number of edges aligned on a single index. Our actual answer, however, is the number of bricks, not edges, so we should return the total number of rows minus best.\n",
    "\n"
   ]
  }
 ],
 "metadata": {
  "kernelspec": {
   "display_name": "Python 3",
   "language": "python",
   "name": "python3"
  },
  "language_info": {
   "codemirror_mode": {
    "name": "ipython",
    "version": 3
   },
   "file_extension": ".py",
   "mimetype": "text/x-python",
   "name": "python",
   "nbconvert_exporter": "python",
   "pygments_lexer": "ipython3",
   "version": "3.7.4"
  }
 },
 "nbformat": 4,
 "nbformat_minor": 2
}
