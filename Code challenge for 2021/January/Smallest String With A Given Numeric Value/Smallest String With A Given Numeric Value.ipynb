{
 "cells": [
  {
   "cell_type": "code",
   "execution_count": null,
   "metadata": {},
   "outputs": [],
   "source": [
    "The numeric value of a lowercase character is defined as its position (1-indexed) in the alphabet, so the numeric \n",
    "value of a is 1, the numeric value of b is 2, the numeric value of c is 3, and so on.\n",
    "\n",
    "The numeric value of a string consisting of lowercase characters is defined as the sum of its characters' \n",
    "numeric values. For example, the numeric value of the string \"abe\" is equal to 1 + 2 + 5 = 8.\n",
    "\n",
    "You are given two integers n and k. Return the lexicographically smallest string with length equal to n and \n",
    "numeric value equal to k.\n",
    "\n",
    "Note that a string x is lexicographically smaller than string y if x comes before y in dictionary order, that is, \n",
    "either x is a prefix of y, or if i is the first position such that x[i] != y[i], then x[i] comes before y[i] in \n",
    "alphabetic order.\n",
    " \n",
    "Example 1:\n",
    "Input: n = 3, k = 27\n",
    "Output: \"aay\"\n",
    "Explanation: The numeric value of the string is 1 + 1 + 25 = 27, and it is the smallest string with such a value and \n",
    "length equal to 3.\n",
    "\n",
    "Example 2:\n",
    "Input: n = 5, k = 73\n",
    "Output: \"aaszz\"\n",
    " \n",
    "\n",
    "Constraints:\n",
    "1 <= n <= 105\n",
    "n <= k <= 26 * n\n",
    "\n",
    "Hint #1  \n",
    "Think greedily.\n",
    "\n",
    "Hint #2  \n",
    "If you build the string from the end to the beginning, it will always be optimal to put the highest possible \n",
    "character at the current index.\n"
   ]
  },
  {
   "cell_type": "code",
   "execution_count": 103,
   "metadata": {},
   "outputs": [],
   "source": [
    "This works but let see if we can do better with re to runtime and also shorten the dictionary prep\n",
    "\n",
    "def getSmallestString(n, k):\n",
    "    char_arr=[0]*n\n",
    "    d={}\n",
    "    \n",
    "    alphabet=[]\n",
    "    for i in range(ord('a'), ord('z')+1):\n",
    "        alphabet.append(str(chr(i)))\n",
    "    \n",
    "    for i in range(len(alphabet)):\n",
    "        d[i+1]=alphabet[i]\n",
    "    \n",
    "    for j in range(n-1, -1, -1):\n",
    "        val=min(26, k-j)\n",
    "   \n",
    "\n",
    "        char_arr[j]=d[val]\n",
    "        k-=val\n",
    "\n",
    "    return \"\".join(i for i in char_arr)\n",
    "    \n",
    "outcome:\n",
    "Your runtime beats 29.96 % of python3 submissions.\n",
    "Runtime: 968 ms\n",
    "Memory Usage: 17.1 MB"
   ]
  },
  {
   "cell_type": "code",
   "execution_count": 104,
   "metadata": {},
   "outputs": [
    {
     "data": {
      "text/plain": [
       "'aaszz'"
      ]
     },
     "execution_count": 104,
     "metadata": {},
     "output_type": "execute_result"
    }
   ],
   "source": [
    "getSmallestString(5, 73)"
   ]
  },
  {
   "cell_type": "code",
   "execution_count": 126,
   "metadata": {},
   "outputs": [],
   "source": [
    "def getSmallestString(n, k):\n",
    "    char_arr=[0]*n\n",
    "    \n",
    "    for j in range(n-1, -1, -1):\n",
    "        val=min(26, k-j)\n",
    "   \n",
    "        char_arr[j]=chr(ord('a') + val-1)#for a situation when val represents z it goes outside the alphabets and gives { and that's ehy we subtract 1 from val here\n",
    "        k-=val\n",
    "\n",
    "    return \"\".join(char_arr)\n",
    "    "
   ]
  },
  {
   "cell_type": "code",
   "execution_count": 127,
   "metadata": {},
   "outputs": [
    {
     "data": {
      "text/plain": [
       "'aaszz'"
      ]
     },
     "execution_count": 127,
     "metadata": {},
     "output_type": "execute_result"
    }
   ],
   "source": [
    "getSmallestString(5, 73)"
   ]
  },
  {
   "cell_type": "code",
   "execution_count": 128,
   "metadata": {},
   "outputs": [
    {
     "data": {
      "text/plain": [
       "123"
      ]
     },
     "execution_count": 128,
     "metadata": {},
     "output_type": "execute_result"
    }
   ],
   "source": [
    "for the explanation above - examples to prove why we subtract\n",
    "\n",
    "97+26"
   ]
  },
  {
   "cell_type": "code",
   "execution_count": 131,
   "metadata": {},
   "outputs": [
    {
     "data": {
      "text/plain": [
       "'{'"
      ]
     },
     "execution_count": 131,
     "metadata": {},
     "output_type": "execute_result"
    }
   ],
   "source": [
    "chr(123)"
   ]
  },
  {
   "cell_type": "code",
   "execution_count": 130,
   "metadata": {},
   "outputs": [
    {
     "data": {
      "text/plain": [
       "'z'"
      ]
     },
     "execution_count": 130,
     "metadata": {},
     "output_type": "execute_result"
    }
   ],
   "source": [
    "that is why we subtract\n",
    "chr(123-1)"
   ]
  },
  {
   "cell_type": "code",
   "execution_count": 139,
   "metadata": {},
   "outputs": [],
   "source": [
    "Smart dictionary prep here\n",
    "\n",
    "def getSmallestString(n, k):\n",
    "    char_arr=[0]*n\n",
    "    \n",
    "    d={i+1:chr(ord('a')+i) for i in range(26)}\n",
    "    \n",
    "    for j in range(n-1, -1, -1):\n",
    "        val=min(26, k-j)\n",
    "   \n",
    "        char_arr[j]=d[val]\n",
    "        k-=val\n",
    "\n",
    "    return \"\".join(char_arr)\n",
    "    \n",
    "outcome:\n",
    "Your runtime beats 22.73 % of python3 submissions.\n",
    "Runtime: 1084 ms\n",
    "Memory Usage: 15.7 MB"
   ]
  },
  {
   "cell_type": "code",
   "execution_count": 140,
   "metadata": {},
   "outputs": [
    {
     "data": {
      "text/plain": [
       "'aaszz'"
      ]
     },
     "execution_count": 140,
     "metadata": {},
     "output_type": "execute_result"
    }
   ],
   "source": [
    "getSmallestString(5, 73)"
   ]
  }
 ],
 "metadata": {
  "kernelspec": {
   "display_name": "Python 3",
   "language": "python",
   "name": "python3"
  },
  "language_info": {
   "codemirror_mode": {
    "name": "ipython",
    "version": 3
   },
   "file_extension": ".py",
   "mimetype": "text/x-python",
   "name": "python",
   "nbconvert_exporter": "python",
   "pygments_lexer": "ipython3",
   "version": "3.7.4"
  }
 },
 "nbformat": 4,
 "nbformat_minor": 2
}
