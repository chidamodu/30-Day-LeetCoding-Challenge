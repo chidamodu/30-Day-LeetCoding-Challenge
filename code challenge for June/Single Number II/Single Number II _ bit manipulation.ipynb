{
 "cells": [
  {
   "cell_type": "code",
   "execution_count": null,
   "metadata": {},
   "outputs": [],
   "source": [
    "Given a non-empty array of integers, every element appears three times except for one, which appears exactly once.\n",
    "Find that single one.\n",
    "\n",
    "Note:\n",
    "\n",
    "Your algorithm should have a linear runtime complexity. Could you implement it without using extra memory?\n",
    "\n",
    "Example 1:\n",
    "Input: [2,2,3,2]\n",
    "Output: 3\n",
    "    \n",
    "Example 2:\n",
    "Input: [0,1,0,1,0,1,99]\n",
    "Output: 99"
   ]
  },
  {
   "cell_type": "code",
   "execution_count": null,
   "metadata": {},
   "outputs": [],
   "source": [
    "Bit manipulation\n",
    "\n",
    "def singleNumber(self, nums: List[int]) -> int:\n",
    "    ones, twos = 0, 0\n",
    "    for num in nums:\n",
    "        ones, twos = (ones ^ num) & ~twos, (ones & num) | (twos & ~num)\n",
    "    return ones\n",
    "\n"
   ]
  },
  {
   "cell_type": "code",
   "execution_count": null,
   "metadata": {},
   "outputs": [],
   "source": [
    "Explanation: came across this on Quora\n",
    "\n",
    "Let's unpack what the code is doing. We have two updates:\n",
    "\n",
    "ones = (ones ^ num) & ~twos\n",
    "ones ^ num performs the same XOR operation you see in the duplicate entries version of Single Number\n",
    "& ~twos removes the newly added number if it's been seen twice\n",
    "twos = (ones & num) | (twos & ~num)\n",
    "ones & num takes the number if it's in ones\n",
    "twos & ~num takes the number only if it's not in twos\n",
    "These updates work because of the communtativity and associativity of & and ^.\n",
    "\n",
    "The following explanation is my original attempt at explaining the above algorithm. I leave it here for those who \n",
    "prefer these types of explanations. The gist of the algorithm is that ones is XORed with num in the same way that \n",
    "you would in the duplicate number version of the Single Number problem (ones ^ num), but we remove the number if it \n",
    "has already been stored in twos by only accepting the bits not present in twos (& ~twos). This gives us the update \n",
    "ones = (ones ^ num) & ~twos. The twos update simply checks if the number has been seen in ones (ones & num) and if \n",
    "the number has not been seen in twos (twos & ~num). This gives us the twos update of \n",
    "twos = (ones & num) | (twos & ~num). \n",
    "# It's important to note that this works because of the commutativity and associativity of the AND (&) and \n",
    "# XOR (^) operators."
   ]
  }
 ],
 "metadata": {
  "kernelspec": {
   "display_name": "Python 3",
   "language": "python",
   "name": "python3"
  },
  "language_info": {
   "codemirror_mode": {
    "name": "ipython",
    "version": 3
   },
   "file_extension": ".py",
   "mimetype": "text/x-python",
   "name": "python",
   "nbconvert_exporter": "python",
   "pygments_lexer": "ipython3",
   "version": "3.7.4"
  }
 },
 "nbformat": 4,
 "nbformat_minor": 2
}
