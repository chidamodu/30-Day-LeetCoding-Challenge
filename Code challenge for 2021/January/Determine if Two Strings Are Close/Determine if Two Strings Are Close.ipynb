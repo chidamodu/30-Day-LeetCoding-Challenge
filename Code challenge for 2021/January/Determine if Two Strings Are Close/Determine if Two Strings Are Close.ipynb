{
 "cells": [
  {
   "cell_type": "code",
   "execution_count": null,
   "metadata": {},
   "outputs": [],
   "source": [
    "Two strings are considered close if you can attain one from the other using the following operations:\n",
    "\n",
    "Operation 1: Swap any two existing characters.\n",
    "For example, abcde -> aecdb\n",
    "Operation 2: Transform every occurrence of one existing character into another existing character, and do the same \n",
    "with the other character.\n",
    "\n",
    "For example, aacabb -> bbcbaa (all a's turn into b's, and all b's turn into a's)\n",
    "You can use the operations on either string as many times as necessary.\n",
    "\n",
    "Given two strings, word1 and word2, return true if word1 and word2 are close, and false otherwise.\n",
    "\n",
    "\n",
    "Example 1:\n",
    "Input: word1 = \"abc\", word2 = \"bca\"\n",
    "Output: true\n",
    "Explanation: You can attain word2 from word1 in 2 operations.\n",
    "Apply Operation 1: \"abc\" -> \"acb\"\n",
    "Apply Operation 1: \"acb\" -> \"bca\"\n",
    "\n",
    "Example 2:\n",
    "Input: word1 = \"a\", word2 = \"aa\"\n",
    "Output: false\n",
    "Explanation: It is impossible to attain word2 from word1, or vice versa, in any number of operations.\n",
    "\n",
    "Example 3:\n",
    "Input: word1 = \"cabbba\", word2 = \"abbccc\"\n",
    "Output: true\n",
    "Explanation: You can attain word2 from word1 in 3 operations.\n",
    "Apply Operation 1: \"cabbba\" -> \"caabbb\"\n",
    "Apply Operation 2: \"caabbb\" -> \"baaccc\"\n",
    "Apply Operation 2: \"baaccc\" -> \"abbccc\"\n",
    "\n",
    "Example 4:\n",
    "Input: word1 = \"cabbba\", word2 = \"aabbss\"\n",
    "Output: false\n",
    "Explanation: It is impossible to attain word2 from word1, or vice versa, in any amount of operations.\n",
    " \n",
    "\n",
    "Constraints:\n",
    "1 <= word1.length, word2.length <= 105\n",
    "word1 and word2 contain only lowercase English letters.\n",
    "\n",
    "Hint #1  \n",
    "Operation 1 allows you to freely reorder the string.\n",
    "\n",
    "Hint #2  \n",
    "Operation 2 allows you to freely reassign the letters' frequencies."
   ]
  },
  {
   "cell_type": "code",
   "execution_count": 16,
   "metadata": {},
   "outputs": [],
   "source": [
    "Trial - in the right direction\n",
    "\n",
    "\n",
    "from collections import Counter\n",
    "def closeStrings(word1, word2):\n",
    "    if len(word1)!=len(word2) or set(word1)!=set(word2):\n",
    "        return False\n",
    "    \n",
    "    if Counter(word1)==Counter(word2):\n",
    "        d={j:k for j, k in enumerate(word1)}\n",
    "        while word1 != word2:\n",
    "            word2[0]\n",
    "    else:\n",
    "        return \"reassign\"\n",
    "        \n",
    "    \n",
    "    \n",
    "        \n",
    "    "
   ]
  },
  {
   "cell_type": "code",
   "execution_count": 17,
   "metadata": {},
   "outputs": [
    {
     "data": {
      "text/plain": [
       "'reassign'"
      ]
     },
     "execution_count": 17,
     "metadata": {},
     "output_type": "execute_result"
    }
   ],
   "source": [
    "closeStrings(word1 = \"cabbba\", word2 = \"abbccc\")"
   ]
  },
  {
   "cell_type": "code",
   "execution_count": 27,
   "metadata": {},
   "outputs": [],
   "source": [
    "word1 = \"cabbba\"\n",
    "d={j:k for j, k in enumerate(word1)}\n"
   ]
  },
  {
   "cell_type": "code",
   "execution_count": 28,
   "metadata": {},
   "outputs": [
    {
     "data": {
      "text/plain": [
       "{0: 'c', 1: 'a', 2: 'b', 3: 'b', 4: 'b', 5: 'a'}"
      ]
     },
     "execution_count": 28,
     "metadata": {},
     "output_type": "execute_result"
    }
   ],
   "source": [
    "d"
   ]
  },
  {
   "cell_type": "code",
   "execution_count": 35,
   "metadata": {},
   "outputs": [
    {
     "data": {
      "text/plain": [
       "True"
      ]
     },
     "execution_count": 35,
     "metadata": {},
     "output_type": "execute_result"
    }
   ],
   "source": [
    "len(set(\"abc\")-set(\"cba\"))==0"
   ]
  },
  {
   "cell_type": "code",
   "execution_count": 58,
   "metadata": {},
   "outputs": [],
   "source": [
    "from collections import Counter\n",
    "def closeStrings(word1, word2):\n",
    "    \n",
    "    if len(word1)!=len(word2) or set(word1)!=set(word2):\n",
    "        return False\n",
    "    \n",
    "    d1=Counter(word1)\n",
    "    d2=Counter(word2)\n",
    "    \n",
    "    for item in d1.keys():\n",
    "        if d1[item]!=d2[item]:\n",
    "            for i, j in d1.items():\n",
    "                if j==d2[item]:\n",
    "                    d1[item], d1[i]=d1[i], d1[item]\n",
    "                    break\n",
    "                    \n",
    "            if d1[item]!=d2[item]:\n",
    "                return False\n",
    "                    \n",
    "        d1[item]=0\n",
    "        \n",
    "    return True\n",
    "    \n",
    "\n",
    "outcome:\n",
    "Runtime: 148 ms\n",
    "Memory Usage: 15.4 MB\n",
    "Your runtime beats 57.74 % of python3 submissions.\n",
    "\n",
    "Complexity: \n",
    "\n",
    "Time complexity is O(n) as we have two for loops. It is not always bad to use two for loops.\n",
    "    \n",
    "Space complexity is O(m), where m is size of alphabet to keep our counters.\n",
    "        \n",
    "        "
   ]
  },
  {
   "cell_type": "code",
   "execution_count": 59,
   "metadata": {},
   "outputs": [
    {
     "data": {
      "text/plain": [
       "True"
      ]
     },
     "execution_count": 59,
     "metadata": {},
     "output_type": "execute_result"
    }
   ],
   "source": [
    "closeStrings(word1 = \"cabbba\", word2 = \"abbccc\")"
   ]
  },
  {
   "cell_type": "code",
   "execution_count": null,
   "metadata": {},
   "outputs": [],
   "source": [
    "Alternative solution - but feels like cheating\n",
    "\n",
    "\n",
    "class Solution:\n",
    "    def closeStrings(self, word1: str, word2: str) -> bool:\n",
    "        c1, c2 = Counter(word1),  Counter(word2)\n",
    "        return sorted(c2.values()) == sorted(c1.values()) and c1.keys() == c2.keys()\n",
    "\n",
    "\n",
    "\n",
    "Complexity: time complexity is O(n): we create counters, and then again create counters. \n",
    "Space complexity is O(m), where m is size of alphabet to keep our counters.\n",
    "        \n",
    "        \n",
    "\n"
   ]
  }
 ],
 "metadata": {
  "kernelspec": {
   "display_name": "Python 3",
   "language": "python",
   "name": "python3"
  },
  "language_info": {
   "codemirror_mode": {
    "name": "ipython",
    "version": 3
   },
   "file_extension": ".py",
   "mimetype": "text/x-python",
   "name": "python",
   "nbconvert_exporter": "python",
   "pygments_lexer": "ipython3",
   "version": "3.7.4"
  }
 },
 "nbformat": 4,
 "nbformat_minor": 2
}
