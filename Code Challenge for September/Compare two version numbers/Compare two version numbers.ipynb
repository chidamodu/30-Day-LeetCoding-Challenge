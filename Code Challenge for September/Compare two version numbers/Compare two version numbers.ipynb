{
 "cells": [
  {
   "cell_type": "code",
   "execution_count": null,
   "metadata": {},
   "outputs": [],
   "source": [
    "Compare two version numbers version1 and version2\n",
    "\n",
    "If version1 > version2 return 1; if version1 < version2 return -1;otherwise return 0.\n",
    "\n",
    "You may assume that the version strings are non-empty and contain only digits and the . character.\n",
    "\n",
    "The . character does not represent a decimal point and is used to separate number sequences.\n",
    "\n",
    "For instance, 2.5 is not \"two and a half\" or \"half way to version three\", it is the fifth second-level revision of \n",
    "the second first-level revision.\n",
    "\n",
    "You may assume the default revision number for each level of a version number to be 0. For example, version number \n",
    "3.4 has a revision number of 3 and 4 for its first and second level revision number. Its third and fourth level revision number are both 0.\n",
    "\n",
    " \n",
    "Example 1:\n",
    "Input: version1 = \"0.1\", version2 = \"1.1\"\n",
    "Output: -1\n",
    "\n",
    "Example 2:\n",
    "Input: version1 = \"1.0.1\", version2 = \"1\"\n",
    "Output: 1\n",
    "\n",
    "Example 3:\n",
    "Input: version1 = \"7.5.2.4\", version2 = \"7.5.3\"\n",
    "Output: -1\n",
    "\n",
    "Example 4:\n",
    "Input: version1 = \"1.01\", version2 = \"1.001\"\n",
    "Output: 0\n",
    "Explanation: Ignoring leading zeroes, both “01” and “001\" represent the same number “1”\n",
    "\n",
    "Example 5:\n",
    "Input: version1 = \"1.0\", version2 = \"1.0.0\"\n",
    "Output: 0\n",
    "Explanation: The first version number does not have a third level revision number, which means its third level revision number is default to \"0\"\n",
    " \n",
    "\n",
    "Note:\n",
    "Version strings are composed of numeric strings separated by dots . and this numeric strings may have leading zeroes.\n",
    "Version strings do not start or end with dots, and they will not be two consecutive dots."
   ]
  },
  {
   "cell_type": "code",
   "execution_count": 29,
   "metadata": {},
   "outputs": [],
   "source": [
    "This does not work because the code executes the if statement before executing the else statement.\n",
    "\n",
    "def compareVersion(version1, version2):\n",
    "    result1=version1.split(\".\")\n",
    "    result2=version2.split(\".\")\n",
    "    length=max(len(result1), len(result2))\n",
    "    \n",
    "    \n",
    "    \n",
    "    for i in range(length):\n",
    "        if i < length:\n",
    "            item1=int(result1[i])\n",
    "            item2=int(result2[i])\n",
    "        else:\n",
    "            item1, item2=0,0\n",
    "            \n",
    "        if item1!=item2:\n",
    "            return 1 if item1>item2 else -1\n",
    "    return 0\n",
    "             "
   ]
  },
  {
   "cell_type": "code",
   "execution_count": 30,
   "metadata": {},
   "outputs": [
    {
     "ename": "IndexError",
     "evalue": "list index out of range",
     "output_type": "error",
     "traceback": [
      "\u001b[0;31m---------------------------------------------------------------------------\u001b[0m",
      "\u001b[0;31mIndexError\u001b[0m                                Traceback (most recent call last)",
      "\u001b[0;32m<ipython-input-30-a8c73c96ce4d>\u001b[0m in \u001b[0;36m<module>\u001b[0;34m\u001b[0m\n\u001b[0;32m----> 1\u001b[0;31m \u001b[0mcompareVersion\u001b[0m\u001b[0;34m(\u001b[0m\u001b[0mversion1\u001b[0m \u001b[0;34m=\u001b[0m \u001b[0;34m\"1.0\"\u001b[0m\u001b[0;34m,\u001b[0m \u001b[0mversion2\u001b[0m \u001b[0;34m=\u001b[0m \u001b[0;34m\"1.0.0\"\u001b[0m\u001b[0;34m)\u001b[0m\u001b[0;34m\u001b[0m\u001b[0;34m\u001b[0m\u001b[0m\n\u001b[0m",
      "\u001b[0;32m<ipython-input-29-28af5d8b50d6>\u001b[0m in \u001b[0;36mcompareVersion\u001b[0;34m(version1, version2)\u001b[0m\n\u001b[1;32m      6\u001b[0m     \u001b[0;32mfor\u001b[0m \u001b[0mi\u001b[0m \u001b[0;32min\u001b[0m \u001b[0mrange\u001b[0m\u001b[0;34m(\u001b[0m\u001b[0mlength\u001b[0m\u001b[0;34m)\u001b[0m\u001b[0;34m:\u001b[0m\u001b[0;34m\u001b[0m\u001b[0;34m\u001b[0m\u001b[0m\n\u001b[1;32m      7\u001b[0m         \u001b[0;32mif\u001b[0m \u001b[0mi\u001b[0m \u001b[0;34m<\u001b[0m \u001b[0mlength\u001b[0m\u001b[0;34m:\u001b[0m\u001b[0;34m\u001b[0m\u001b[0;34m\u001b[0m\u001b[0m\n\u001b[0;32m----> 8\u001b[0;31m             \u001b[0mitem1\u001b[0m\u001b[0;34m=\u001b[0m\u001b[0mint\u001b[0m\u001b[0;34m(\u001b[0m\u001b[0mresult1\u001b[0m\u001b[0;34m[\u001b[0m\u001b[0mi\u001b[0m\u001b[0;34m]\u001b[0m\u001b[0;34m)\u001b[0m\u001b[0;34m\u001b[0m\u001b[0;34m\u001b[0m\u001b[0m\n\u001b[0m\u001b[1;32m      9\u001b[0m             \u001b[0mitem2\u001b[0m\u001b[0;34m=\u001b[0m\u001b[0mint\u001b[0m\u001b[0;34m(\u001b[0m\u001b[0mresult2\u001b[0m\u001b[0;34m[\u001b[0m\u001b[0mi\u001b[0m\u001b[0;34m]\u001b[0m\u001b[0;34m)\u001b[0m\u001b[0;34m\u001b[0m\u001b[0;34m\u001b[0m\u001b[0m\n\u001b[1;32m     10\u001b[0m         \u001b[0;32melse\u001b[0m\u001b[0;34m:\u001b[0m\u001b[0;34m\u001b[0m\u001b[0;34m\u001b[0m\u001b[0m\n",
      "\u001b[0;31mIndexError\u001b[0m: list index out of range"
     ]
    }
   ],
   "source": [
    "compareVersion(version1 = \"1.0\", version2 = \"1.0.0\")"
   ]
  },
  {
   "cell_type": "code",
   "execution_count": 35,
   "metadata": {},
   "outputs": [],
   "source": [
    "Leetcode Submission\n",
    "    \n",
    "def compareVersion(version1, version2):\n",
    "    result1=version1.split(\".\")\n",
    "    result2=version2.split(\".\")\n",
    "    length=max(len(result1), len(result2))\n",
    "    length1=len(result1)\n",
    "    length2=len(result2)\n",
    "    \n",
    "    \n",
    "    for i in range(length):\n",
    "        item1=int(result1[i]) if i<length1 else 0\n",
    "        item2=int(result2[i]) if i<length2 else 0\n",
    "        \n",
    "        if item1 != item2:\n",
    "            return 1 if item1>item2 else -1\n",
    "    return 0\n",
    "            \n",
    "        \n",
    "        \n",
    "    \n",
    "result:\n",
    "Your runtime beats 80.44 % of python3 submissions.\n",
    "Runtime: 28 ms\n",
    "Memory Usage: 13.8 MB"
   ]
  },
  {
   "cell_type": "code",
   "execution_count": 36,
   "metadata": {},
   "outputs": [
    {
     "data": {
      "text/plain": [
       "-1"
      ]
     },
     "execution_count": 36,
     "metadata": {},
     "output_type": "execute_result"
    }
   ],
   "source": [
    "compareVersion(version1 = \"0.1\", version2 = \"1.1\")"
   ]
  }
 ],
 "metadata": {
  "kernelspec": {
   "display_name": "Python 3",
   "language": "python",
   "name": "python3"
  },
  "language_info": {
   "codemirror_mode": {
    "name": "ipython",
    "version": 3
   },
   "file_extension": ".py",
   "mimetype": "text/x-python",
   "name": "python",
   "nbconvert_exporter": "python",
   "pygments_lexer": "ipython3",
   "version": "3.7.4"
  }
 },
 "nbformat": 4,
 "nbformat_minor": 2
}
