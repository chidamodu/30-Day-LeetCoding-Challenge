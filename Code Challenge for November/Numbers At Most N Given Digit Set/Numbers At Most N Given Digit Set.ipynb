{
 "cells": [
  {
   "cell_type": "code",
   "execution_count": null,
   "metadata": {},
   "outputs": [],
   "source": [
    "Given an array of digits, you can write numbers using each digits[i] as many times as we want.  For example, \n",
    "if digits = ['1','3','5'], we may write numbers such as '13', '551', and '1351315'.\n",
    "\n",
    "Return the number of positive integers that can be generated that are less than or equal to a given integer n.\n",
    "\n",
    "\n",
    "Example 1:\n",
    "Input: digits = [\"1\",\"3\",\"5\",\"7\"], n = 100\n",
    "Output: 20\n",
    "Explanation: \n",
    "The 20 numbers that can be written are:\n",
    "1, 3, 5, 7, 11, 13, 15, 17, 31, 33, 35, 37, 51, 53, 55, 57, 71, 73, 75, 77.\n",
    "\n",
    "Example 2:\n",
    "Input: digits = [\"1\",\"4\",\"9\"], n = 1000000000\n",
    "Output: 29523\n",
    "Explanation: \n",
    "We can write 3 one digit numbers, 9 two digit numbers, 27 three digit numbers,\n",
    "81 four digit numbers, 243 five digit numbers, 729 six digit numbers,\n",
    "2187 seven digit numbers, 6561 eight digit numbers, and 19683 nine digit numbers.\n",
    "In total, this is 29523 integers that can be written using the digits array.\n",
    "\n",
    "Example 3:\n",
    "Input: digits = [\"7\"], n = 8\n",
    "Output: 1\n",
    " \n",
    "\n",
    "Constraints:\n",
    "1 <= digits.length <= 9\n",
    "digits[i].length == 1\n",
    "digits[i] is a digit from '1' to '9'.\n",
    "All the values in digits are unique.\n",
    "1 <= n <= 109"
   ]
  },
  {
   "cell_type": "code",
   "execution_count": null,
   "metadata": {},
   "outputs": [],
   "source": [
    "class Solution:\n",
    "    def atMostNGivenDigitSet(self, digits: List[str], n: int) -> int:\n",
    "        up, ans, T, str_n = [0]*10, 0, len(digits), str(n)\n",
    "        for i in range(10):\n",
    "            for dig in digits:\n",
    "                up[i] += (dig < str(i))\n",
    "        \n",
    "        k, d_set = len(str_n), set(digits)\n",
    "        for i in range(k):\n",
    "            if i > 0 and str_n[i-1] not in d_set: break\n",
    "            ans += up[int(str_n[i])] * T**(k-i-1)\n",
    "        \n",
    "        addon = (T**k - 1)//(T-1) - 1 if T != 1 else k - 1\n",
    "        return ans + addon + (not set(str_n) - set(digits))\n",
    "        "
   ]
  },
  {
   "cell_type": "code",
   "execution_count": null,
   "metadata": {},
   "outputs": [],
   "source": [
    "\n",
    "Complexity: time complexity is O(10k + T), where k is lenght of our number n and k is lenght of digits. Actually, \n",
    "it can be just written as O(T), because 10k <= 100 always. Space complexity is O(T).\n",
    "    \n",
    "    "
   ]
  }
 ],
 "metadata": {
  "kernelspec": {
   "display_name": "Python 3",
   "language": "python",
   "name": "python3"
  },
  "language_info": {
   "codemirror_mode": {
    "name": "ipython",
    "version": 3
   },
   "file_extension": ".py",
   "mimetype": "text/x-python",
   "name": "python",
   "nbconvert_exporter": "python",
   "pygments_lexer": "ipython3",
   "version": "3.7.4"
  }
 },
 "nbformat": 4,
 "nbformat_minor": 2
}
