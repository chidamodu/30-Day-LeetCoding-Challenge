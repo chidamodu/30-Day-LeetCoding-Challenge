{
 "cells": [
  {
   "cell_type": "code",
   "execution_count": null,
   "metadata": {},
   "outputs": [],
   "source": [
    "Given a string s, find the length of the longest substring without repeating characters.\n",
    "\n",
    "Example 1:\n",
    "Input: s = \"abcabcbb\"\n",
    "Output: 3\n",
    "Explanation: The answer is \"abc\", with the length of 3.\n",
    "\n",
    "Example 2:\n",
    "Input: s = \"bbbbb\"\n",
    "Output: 1\n",
    "Explanation: The answer is \"b\", with the length of 1.\n",
    "\n",
    "Example 3:\n",
    "Input: s = \"pwwkew\"\n",
    "Output: 3\n",
    "Explanation: The answer is \"wke\", with the length of 3.\n",
    "Notice that the answer must be a substring, \"pwke\" is a subsequence and not a substring.\n",
    "\n",
    "Example 4:\n",
    "Input: s = \"\"\n",
    "Output: 0\n",
    " \n",
    "Constraints:\n",
    "0 <= s.length <= 5 * 104\n",
    "s consists of English letters, digits, symbols and spaces.\n"
   ]
  },
  {
   "cell_type": "code",
   "execution_count": 31,
   "metadata": {},
   "outputs": [],
   "source": [
    "Trial - but this problem is of different strategy-the idea is whenever we get a duplicate character we push the start \n",
    "(assuming we have start and end as two pointers for our sliding window approach)\n",
    "to the next character and as long as we have the duplicate character, because that is where our end pointer is, we will \n",
    "be removing the character at the start index and push the start index forward\n",
    "\n",
    "def lengthOfLongestSubstring(s):\n",
    "    max_val=-float('inf')\n",
    "    \n",
    "    if len(s)<1:\n",
    "        return 0\n",
    "    \n",
    "    for i in range(len(s)):\n",
    "        d=set()\n",
    "        d.add(s[i])\n",
    "        \n",
    "        while i+1<len(s):\n",
    "            if s[i+1] not in d:\n",
    "                d.add(s[i+1])  \n",
    "            i+=1\n",
    "            print(d)\n",
    "            \n",
    "        max_val=max(max_val, len(d))\n",
    "        \n",
    "    return max_val\n",
    "              \n",
    "        "
   ]
  },
  {
   "cell_type": "code",
   "execution_count": 32,
   "metadata": {},
   "outputs": [
    {
     "name": "stdout",
     "output_type": "stream",
     "text": [
      "{'p', 'w'}\n",
      "{'p', 'w'}\n",
      "{'k', 'p', 'w'}\n",
      "{'k', 'p', 'w', 'e'}\n",
      "{'k', 'p', 'w', 'e'}\n",
      "{'w'}\n",
      "{'k', 'w'}\n",
      "{'k', 'w', 'e'}\n",
      "{'k', 'w', 'e'}\n",
      "{'k', 'w'}\n",
      "{'k', 'w', 'e'}\n",
      "{'k', 'w', 'e'}\n",
      "{'k', 'e'}\n",
      "{'k', 'w', 'e'}\n",
      "{'w', 'e'}\n"
     ]
    },
    {
     "data": {
      "text/plain": [
       "4"
      ]
     },
     "execution_count": 32,
     "metadata": {},
     "output_type": "execute_result"
    }
   ],
   "source": [
    "lengthOfLongestSubstring(s = \"pwwkew\")"
   ]
  },
  {
   "cell_type": "code",
   "execution_count": 44,
   "metadata": {},
   "outputs": [],
   "source": [
    "Final submission: sliding window approach\n",
    "\n",
    "def lengthOfLongestSubstring(s):\n",
    "    max_val=0\n",
    "    start, end=0, 0\n",
    "    d=set()\n",
    "    \n",
    "    while end<len(s):\n",
    "        if s[end] not in d:\n",
    "            d.add(s[end])\n",
    "            end+=1\n",
    "            max_val=max(max_val,len(d))    \n",
    "        else:\n",
    "            d.remove(s[start])\n",
    "            start+=1\n",
    "            \n",
    "    return max_val\n",
    "        "
   ]
  },
  {
   "cell_type": "code",
   "execution_count": 45,
   "metadata": {},
   "outputs": [
    {
     "data": {
      "text/plain": [
       "3"
      ]
     },
     "execution_count": 45,
     "metadata": {},
     "output_type": "execute_result"
    }
   ],
   "source": [
    "lengthOfLongestSubstring(s = \"pwwkew\")"
   ]
  },
  {
   "cell_type": "code",
   "execution_count": null,
   "metadata": {},
   "outputs": [],
   "source": [
    "Alternative solution: optimized sliding window approach\n",
    "\n",
    "class Solution:\n",
    "    def lengthOfLongestSubstring(self, s: str) -> int:\n",
    "        n = len(s)\n",
    "        ans = 0\n",
    "        # mp stores the current index of a character\n",
    "        mp = {}\n",
    "\n",
    "        i = 0\n",
    "        # try to extend the range [i, j]\n",
    "        for j in range(n):\n",
    "            if s[j] in mp:\n",
    "                i = max(mp[s[j]], i)\n",
    "\n",
    "            ans = max(ans, j - i + 1)\n",
    "            mp[s[j]] = j + 1\n",
    "\n",
    "        return ans"
   ]
  }
 ],
 "metadata": {
  "kernelspec": {
   "display_name": "Python 3",
   "language": "python",
   "name": "python3"
  },
  "language_info": {
   "codemirror_mode": {
    "name": "ipython",
    "version": 3
   },
   "file_extension": ".py",
   "mimetype": "text/x-python",
   "name": "python",
   "nbconvert_exporter": "python",
   "pygments_lexer": "ipython3",
   "version": "3.7.4"
  }
 },
 "nbformat": 4,
 "nbformat_minor": 2
}
