{
 "cells": [
  {
   "cell_type": "code",
   "execution_count": null,
   "metadata": {},
   "outputs": [],
   "source": [
    "Write a function to check whether an input string is a valid IPv4 address or IPv6 address or neither.\n",
    "\n",
    "IPv4 addresses are canonically represented in dot-decimal notation, which consists of four decimal numbers, each \n",
    "ranging from 0 to 255, separated by dots (\".\"), e.g.,172.16.254.1;\n",
    "\n",
    "Besides, leading zeros in the IPv4 is invalid. For example, the address 172.16.254.01 is invalid.\n",
    "\n",
    "IPv6 addresses are represented as eight groups of four hexadecimal digits, each group representing 16 bits. The groups \n",
    "are separated by colons (\":\"). For example, the address 2001:0db8:85a3:0000:0000:8a2e:0370:7334 is a valid one. Also, \n",
    "we could omit some leading zeros among four hexadecimal digits and some low-case characters in the address to \n",
    "upper-case ones, so 2001:db8:85a3:0:0:8A2E:0370:7334 is also a valid IPv6 address(Omit leading zeros and using \n",
    "                                                                                  upper cases).\n",
    "\n",
    "However, we dont replace a consecutive group of zero value with a single empty group using two consecutive \n",
    "colons (::) to pursue simplicity. For example, 2001:0db8:85a3::8A2E:0370:7334 is an invalid IPv6 address.\n",
    "\n",
    "Besides, extra leading zeros in the IPv6 is also invalid. For example, the address \n",
    "02001:0db8:85a3:0000:0000:8a2e:0370:7334 is invalid.\n",
    "\n",
    "Note: You may assume there is no extra space or special characters in the input string.\n",
    "\n",
    "Example 1:\n",
    "\n",
    "Input: \"172.16.254.1\"\n",
    "\n",
    "Output: \"IPv4\"\n",
    "\n",
    "Explanation: This is a valid IPv4 address, return \"IPv4\".\n",
    "\n",
    "\n",
    "Example 2:\n",
    "\n",
    "Input: \"2001:0db8:85a3:0:0:8A2E:0370:7334\"\n",
    "\n",
    "Output: \"IPv6\"\n",
    "\n",
    "Explanation: This is a valid IPv6 address, return \"IPv6\".\n",
    "\n",
    "\n",
    "Example 3:\n",
    "\n",
    "Input: \"256.256.256.256\"\n",
    "\n",
    "Output: \"Neither\"\n",
    "\n",
    "Explanation: This is neither a IPv4 address nor a IPv6 address."
   ]
  },
  {
   "cell_type": "code",
   "execution_count": 3,
   "metadata": {},
   "outputs": [],
   "source": [
    "s=\"2001:0db8::85a3:0000:0000:8a2e:0370:7334\""
   ]
  },
  {
   "cell_type": "code",
   "execution_count": 6,
   "metadata": {},
   "outputs": [],
   "source": [
    "ans=s.split(\":\")"
   ]
  },
  {
   "cell_type": "code",
   "execution_count": 11,
   "metadata": {},
   "outputs": [
    {
     "name": "stdout",
     "output_type": "stream",
     "text": [
      "(0, '2001')\n",
      "(1, '0db8')\n",
      "(2, '')\n",
      "(3, '85a3')\n",
      "(4, '0000')\n",
      "(5, '0000')\n",
      "(6, '8a2e')\n",
      "(7, '0370')\n",
      "(8, '7334')\n"
     ]
    }
   ],
   "source": [
    "for i in enumerate(ans):\n",
    "    print(i)\n",
    "\n",
    "    "
   ]
  },
  {
   "cell_type": "code",
   "execution_count": 59,
   "metadata": {},
   "outputs": [],
   "source": [
    "Leetcode submission solution\n",
    "\n",
    "def validIPAddress(IP):\n",
    "\n",
    "    if \".\" in IP:\n",
    "        answer1=IP.split('.')\n",
    "        if len(answer1)!=4: return \"Neither\"\n",
    "        for part in answer1:\n",
    "            if len(part) == 0 or (len(part)>1 and part[0] == \"0\"): return \"Neither\"        \n",
    "            if not part.isnumeric() or int(part) > 255: return \"Neither\"\n",
    "                \n",
    "        return \"IPv4\"\n",
    "                                 \n",
    "    if \":\" in IP:\n",
    "        alphanumeric=\"0123456789abcdefABCDEF\"\n",
    "        answer2=IP.split(':')\n",
    "        if len(answer2)!=8: return \"Neither\"\n",
    "        for i in answer2:\n",
    "            if len(i)==0 or len(i)>4: return \"Neither\"\n",
    "            for p in i:\n",
    "                if p not in alphanumeric: return \"Neither\"           \n",
    "        return \"IPv6\"\n",
    "    \n",
    "    return \"Neither\"\n",
    "                \n",
    "           \n",
    "result:\n",
    "Your runtime beats 69.80 % of python3 submissions.\n",
    "Runtime: 28 ms\n",
    "Memory Usage: 13.8 MB"
   ]
  },
  {
   "cell_type": "code",
   "execution_count": 60,
   "metadata": {},
   "outputs": [
    {
     "data": {
      "text/plain": [
       "'IPv4'"
      ]
     },
     "execution_count": 60,
     "metadata": {},
     "output_type": "execute_result"
    }
   ],
   "source": [
    "validIPAddress(\"172.16.254.1\")"
   ]
  },
  {
   "cell_type": "code",
   "execution_count": 43,
   "metadata": {},
   "outputs": [
    {
     "data": {
      "text/plain": [
       "True"
      ]
     },
     "execution_count": 43,
     "metadata": {},
     "output_type": "execute_result"
    }
   ],
   "source": [
    "\"123\".isnumeric()"
   ]
  },
  {
   "cell_type": "code",
   "execution_count": 57,
   "metadata": {},
   "outputs": [],
   "source": [
    "trial of just the \"IPv6\" part\n",
    "\n",
    "def validIPAddress(IP):\n",
    "    \n",
    "    if \":\" in IP:\n",
    "        symbol=\"0123456789abcdefABCDEF\"\n",
    "        answer2=IP.split(':')\n",
    "        if len(answer2)!=8: return \"Neither\"\n",
    "        for i in answer2:\n",
    "            if len(i)>4 or len(i)==0: return \"Neither\"\n",
    "            for p in i:\n",
    "                if p not in symbol: return \"Neither\"           \n",
    "        return \"IPv6\"\n",
    "            \n",
    "    "
   ]
  },
  {
   "cell_type": "code",
   "execution_count": 58,
   "metadata": {},
   "outputs": [
    {
     "data": {
      "text/plain": [
       "'IPv6'"
      ]
     },
     "execution_count": 58,
     "metadata": {},
     "output_type": "execute_result"
    }
   ],
   "source": [
    "validIPAddress(\"2001:0db8:85a3:0:0:8A2E:0370:7334\")"
   ]
  }
 ],
 "metadata": {
  "kernelspec": {
   "display_name": "Python 3",
   "language": "python",
   "name": "python3"
  },
  "language_info": {
   "codemirror_mode": {
    "name": "ipython",
    "version": 3
   },
   "file_extension": ".py",
   "mimetype": "text/x-python",
   "name": "python",
   "nbconvert_exporter": "python",
   "pygments_lexer": "ipython3",
   "version": "3.7.4"
  }
 },
 "nbformat": 4,
 "nbformat_minor": 2
}
