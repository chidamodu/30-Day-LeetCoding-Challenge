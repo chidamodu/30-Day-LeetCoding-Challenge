{
 "cells": [
  {
   "cell_type": "code",
   "execution_count": null,
   "metadata": {},
   "outputs": [],
   "source": [
    "Given two binary strings, return their sum (also a binary string).\n",
    "\n",
    "The input strings are both non-empty and contains only characters 1 or 0.\n",
    "\n",
    "Example 1:\n",
    "Input: a = \"11\", b = \"1\"\n",
    "Output: \"100\"\n",
    "\n",
    "Example 2:\n",
    "Input: a = \"1010\", b = \"1011\"\n",
    "Output: \"10101\"\n",
    " \n",
    "\n",
    "Constraints:\n",
    "Each string consists only of '0' or '1' characters.\n",
    "1 <= a.length, b.length <= 10^4\n",
    "Each string is either \"0\" or doesn't contain any leading zero."
   ]
  },
  {
   "cell_type": "code",
   "execution_count": null,
   "metadata": {},
   "outputs": [],
   "source": [
    "def addBinary(a, b):\n",
    "    return bin(int(a,2) + int(b,2))[2:]\n",
    "    \n",
    "result:\n",
    "Your runtime beats 19.03 % of python3 submissions.\n",
    "Runtime: 52 ms\n",
    "Memory Usage: 13.9 MB"
   ]
  },
  {
   "cell_type": "code",
   "execution_count": 2,
   "metadata": {},
   "outputs": [
    {
     "data": {
      "text/plain": [
       "3"
      ]
     },
     "execution_count": 2,
     "metadata": {},
     "output_type": "execute_result"
    }
   ],
   "source": [
    "int(\"11\", 2)"
   ]
  },
  {
   "cell_type": "code",
   "execution_count": 4,
   "metadata": {},
   "outputs": [
    {
     "data": {
      "text/plain": [
       "1"
      ]
     },
     "execution_count": 4,
     "metadata": {},
     "output_type": "execute_result"
    }
   ],
   "source": [
    "int(\"1\", 2)"
   ]
  },
  {
   "cell_type": "code",
   "execution_count": 5,
   "metadata": {},
   "outputs": [
    {
     "data": {
      "text/plain": [
       "'0b100'"
      ]
     },
     "execution_count": 5,
     "metadata": {},
     "output_type": "execute_result"
    }
   ],
   "source": [
    "bin(4)"
   ]
  }
 ],
 "metadata": {
  "kernelspec": {
   "display_name": "Python 3",
   "language": "python",
   "name": "python3"
  },
  "language_info": {
   "codemirror_mode": {
    "name": "ipython",
    "version": 3
   },
   "file_extension": ".py",
   "mimetype": "text/x-python",
   "name": "python",
   "nbconvert_exporter": "python",
   "pygments_lexer": "ipython3",
   "version": "3.7.4"
  }
 },
 "nbformat": 4,
 "nbformat_minor": 2
}
