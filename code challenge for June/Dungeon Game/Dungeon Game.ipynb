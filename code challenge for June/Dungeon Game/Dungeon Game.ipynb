{
 "cells": [
  {
   "cell_type": "code",
   "execution_count": null,
   "metadata": {},
   "outputs": [],
   "source": [
    "The demons had captured the princess (P) and imprisoned her in the bottom-right corner of a dungeon. The dungeon \n",
    "consists of M x N rooms laid out in a 2D grid. Our valiant knight (K) was initially positioned in the top-left room \n",
    "and must fight his way through the dungeon to rescue the princess.\n",
    "\n",
    "The knight has an initial health point represented by a positive integer. If at any point his health point drops to 0 \n",
    "or below, he dies immediately.\n",
    "\n",
    "Some of the rooms are guarded by demons, so the knight loses health (negative integers) upon entering these rooms; \n",
    "other rooms are either empty (0's) or contain magic orbs that increase the knight's health (positive integers).\n",
    "\n",
    "In order to reach the princess as quickly as possible, the knight decides to move only rightward or downward in each \n",
    "                              step.\n",
    "\n",
    " \n",
    "\n",
    "Write a function to determine the knight's minimum initial health so that he is able to rescue the princess.\n",
    "\n",
    "For example, given the dungeon below, the initial health of the knight must be at least 7 if he follows the optimal \n",
    "path RIGHT-> RIGHT -> DOWN -> DOWN.\n",
    "\n",
    "-2(K)\t -3\t  3\n",
    "-5\t    -10\t  1\n",
    "10\t     30\t  -5 (P)\n",
    " \n",
    "\n",
    "Note:\n",
    "\n",
    "The knight's health has no upper bound.\n",
    "Any room can contain threats or power-ups, even the first room the knight enters and the bottom-right room where the princess is imprisoned."
   ]
  },
  {
   "cell_type": "code",
   "execution_count": null,
   "metadata": {},
   "outputs": [],
   "source": [
    "Leetcode submission\n",
    "\n",
    "class Solution:\n",
    "    def calculateMinimumHP(self, dungeon: List[List[int]]) -> int:\n",
    "        m, n = len(dungeon), len(dungeon[0])\n",
    "        dp = [[float(\"inf\")]*(n+1) for _ in range(m+1)]\n",
    "        dp[m-1][n], dp[m][n-1] = 1, 1\n",
    "            \n",
    "        for i in range(m-1,-1,-1):\n",
    "            for j in range(n-1,-1,-1):\n",
    "                dp[i][j] = max(min(dp[i+1][j],dp[i][j+1])-dungeon[i][j],1)\n",
    "        \n",
    "        return dp[0][0]\n",
    "        \n",
    "\n",
    "\n",
    "result:\n",
    "Your runtime beats 86.97 % of python3 submissions\n",
    "Runtime: 72 ms\n",
    "Memory Usage: 14.8 MB"
   ]
  }
 ],
 "metadata": {
  "kernelspec": {
   "display_name": "Python 3",
   "language": "python",
   "name": "python3"
  },
  "language_info": {
   "codemirror_mode": {
    "name": "ipython",
    "version": 3
   },
   "file_extension": ".py",
   "mimetype": "text/x-python",
   "name": "python",
   "nbconvert_exporter": "python",
   "pygments_lexer": "ipython3",
   "version": "3.7.4"
  }
 },
 "nbformat": 4,
 "nbformat_minor": 2
}
