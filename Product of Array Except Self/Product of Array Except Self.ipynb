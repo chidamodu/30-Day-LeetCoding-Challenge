{
 "cells": [
  {
   "cell_type": "code",
   "execution_count": null,
   "metadata": {},
   "outputs": [],
   "source": [
    "# Product of Array Except Self\n",
    "\n",
    "Given an array nums of n integers where n > 1,  return an array output such that output[i] is equal to the product of \n",
    "all the elements of nums except nums[i].\n",
    "\n",
    "Example:\n",
    "\n",
    "Input:  [1,2,3,4]\n",
    "Output: [24,12,8,6]\n",
    "Constraint: It is guaranteed that the product of the elements of any prefix or suffix of the array\n",
    "(including the whole array) fits in a 32 bit integer.\n",
    "\n",
    "Note: Please solve it without division and in O(n).\n",
    "\n",
    "Follow up:\n",
    "Could you solve it with constant space complexity?\n",
    "(The output array does not count as extra space for the purpose of space complexity analysis.)\n",
    "\n"
   ]
  },
  {
   "cell_type": "code",
   "execution_count": 56,
   "metadata": {},
   "outputs": [],
   "source": [
    "\n",
    "\n",
    "def productExceptSelf(nums):\n",
    "    c=[]\n",
    "    d=[]\n",
    "    \n",
    "    for i in range(len(nums)):\n",
    "        c.append(nums[i+1:])\n",
    "        d.append(1*nums[:i])\n",
    "        \n",
    "        \n",
    "    return c, d"
   ]
  },
  {
   "cell_type": "code",
   "execution_count": 57,
   "metadata": {},
   "outputs": [
    {
     "data": {
      "text/plain": [
       "([[2, 3, 4], [3, 4], [4], []], [[], [1], [1, 2], [1, 2, 3]])"
      ]
     },
     "execution_count": 57,
     "metadata": {},
     "output_type": "execute_result"
    }
   ],
   "source": [
    "productExceptSelf([1,2,3,4])"
   ]
  },
  {
   "cell_type": "code",
   "execution_count": 36,
   "metadata": {},
   "outputs": [],
   "source": [
    "Leetcode submission\n",
    "\n",
    "def productExceptSelf(nums):\n",
    "    output_arr=[1]*len(nums)\n",
    "    p=1\n",
    "    \n",
    "    for i in range(len(nums)):\n",
    "        output_arr[i]*=p\n",
    "        p*=nums[i]\n",
    "        \n",
    "    p=1\n",
    "    for i in range(len(nums)-1, -1, -1):\n",
    "        output_arr[i]*=p\n",
    "        p*=nums[i]\n",
    "         \n",
    "    return output_arr\n",
    "        \n",
    "            \n",
    "    \n",
    "\n",
    "Your runtime beats 66.46 % of python3 submissions.\n",
    "Runtime: 124 ms\n",
    "Memory Usage: 20.4 MB"
   ]
  },
  {
   "cell_type": "code",
   "execution_count": 37,
   "metadata": {},
   "outputs": [
    {
     "data": {
      "text/plain": [
       "[24, 12, 8, 6]"
      ]
     },
     "execution_count": 37,
     "metadata": {},
     "output_type": "execute_result"
    }
   ],
   "source": [
    "productExceptSelf([1,2,3,4])"
   ]
  }
 ],
 "metadata": {
  "kernelspec": {
   "display_name": "Python 3",
   "language": "python",
   "name": "python3"
  },
  "language_info": {
   "codemirror_mode": {
    "name": "ipython",
    "version": 3
   },
   "file_extension": ".py",
   "mimetype": "text/x-python",
   "name": "python",
   "nbconvert_exporter": "python",
   "pygments_lexer": "ipython3",
   "version": "3.7.4"
  }
 },
 "nbformat": 4,
 "nbformat_minor": 2
}
