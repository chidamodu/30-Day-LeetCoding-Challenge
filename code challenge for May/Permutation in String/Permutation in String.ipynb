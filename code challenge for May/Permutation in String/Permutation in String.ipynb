{
 "cells": [
  {
   "cell_type": "code",
   "execution_count": null,
   "metadata": {},
   "outputs": [],
   "source": [
    "Permutation in String\n",
    "Given two strings s1 and s2, write a function to return true if s2 contains the permutation of s1. In other words, one \n",
    "of the first strings permutations is the substring of the second string.\n",
    "\n",
    " \n",
    "\n",
    "Example 1:\n",
    "\n",
    "Input: s1 = \"ab\" s2 = \"eidbaooo\"\n",
    "Output: True\n",
    "Explanation: s2 contains one permutation of s1 (\"ba\").\n",
    "Example 2:\n",
    "\n",
    "Input:s1= \"ab\" s2 = \"eidboaoo\"\n",
    "Output: False\n",
    " \n",
    "\n",
    "Note:\n",
    "The input strings only contain lower case letters.\n",
    "The length of both given strings is in range [1, 10,000]."
   ]
  },
  {
   "cell_type": "code",
   "execution_count": null,
   "metadata": {},
   "outputs": [],
   "source": [
    "Trials first. solution in the last cell\n",
    "    "
   ]
  },
  {
   "cell_type": "code",
   "execution_count": 2,
   "metadata": {},
   "outputs": [
    {
     "name": "stdout",
     "output_type": "stream",
     "text": [
      "no match!\n"
     ]
    }
   ],
   "source": [
    "import re\n",
    "word = \"eidboaoo\"\n",
    "regexp = re.compile(r'ab')\n",
    "if regexp.search(word):\n",
    "    print('matched')\n",
    "    \n",
    "else:\n",
    "    print('no match!')"
   ]
  },
  {
   "cell_type": "code",
   "execution_count": 3,
   "metadata": {},
   "outputs": [
    {
     "data": {
      "text/plain": [
       "{'a', 'b'}"
      ]
     },
     "execution_count": 3,
     "metadata": {},
     "output_type": "execute_result"
    }
   ],
   "source": [
    "s1 = \"ab\"\n",
    "s2 = \"eidbaooo\"\n",
    "set(s1)"
   ]
  },
  {
   "cell_type": "code",
   "execution_count": 46,
   "metadata": {},
   "outputs": [
    {
     "data": {
      "text/plain": [
       "Counter({'e': 1, 'i': 1, 'd': 1, 'b': 1, 'a': 1, 'o': 3})"
      ]
     },
     "execution_count": 46,
     "metadata": {},
     "output_type": "execute_result"
    }
   ],
   "source": [
    "from collections import Counter\n",
    "Counter(s2)"
   ]
  },
  {
   "cell_type": "code",
   "execution_count": 4,
   "metadata": {},
   "outputs": [
    {
     "data": {
      "text/plain": [
       "{'a', 'b', 'd', 'e', 'i', 'o'}"
      ]
     },
     "execution_count": 4,
     "metadata": {},
     "output_type": "execute_result"
    }
   ],
   "source": [
    "set(s2)"
   ]
  },
  {
   "cell_type": "markdown",
   "metadata": {},
   "source": [
    "set(s1) in set(s2)"
   ]
  },
  {
   "cell_type": "code",
   "execution_count": 5,
   "metadata": {},
   "outputs": [
    {
     "data": {
      "text/plain": [
       "False"
      ]
     },
     "execution_count": 5,
     "metadata": {},
     "output_type": "execute_result"
    }
   ],
   "source": [
    "set(s1) in set(s2)"
   ]
  },
  {
   "cell_type": "code",
   "execution_count": 8,
   "metadata": {},
   "outputs": [
    {
     "data": {
      "text/plain": [
       "['b', 'a']"
      ]
     },
     "execution_count": 8,
     "metadata": {},
     "output_type": "execute_result"
    }
   ],
   "source": [
    "ans=[]\n",
    "for i in set(s1):\n",
    "    if i in set(s2):\n",
    "        ans.append(i)\n",
    "        \n",
    "        \n",
    "    else:\n",
    "        print(\"False\")\n",
    "        \n",
    "ans"
   ]
  },
  {
   "cell_type": "code",
   "execution_count": 12,
   "metadata": {},
   "outputs": [
    {
     "data": {
      "text/plain": [
       "[('a', 'b'), ('b', 'a')]"
      ]
     },
     "execution_count": 12,
     "metadata": {},
     "output_type": "execute_result"
    }
   ],
   "source": [
    "import itertools\n",
    "list(itertools.permutations(s1))"
   ]
  },
  {
   "cell_type": "code",
   "execution_count": 20,
   "metadata": {},
   "outputs": [
    {
     "name": "stdout",
     "output_type": "stream",
     "text": [
      "eid\n",
      "edi\n",
      "ied\n",
      "ide\n",
      "dei\n",
      "die\n"
     ]
    }
   ],
   "source": [
    "s1=\"eid\"\n",
    "\n",
    "from itertools import permutations\n",
    "perms = [''.join(p) for p in permutations(s1)]\n",
    "\n",
    "for i in perms:\n",
    "    print(i)"
   ]
  },
  {
   "cell_type": "code",
   "execution_count": 91,
   "metadata": {},
   "outputs": [],
   "source": [
    "# this did not work for all test cases for example when s1='a' and s2='a'\n",
    "\n",
    "def checkInclusion(s1, s2):\n",
    "    window_size=len(s1)\n",
    "    s2_window=[]\n",
    "    s1_d={}\n",
    "    \n",
    "    \n",
    "   \n",
    "    for i in s1:\n",
    "        s1_d[i]=s1_d.get(i, 0)+1\n",
    "    \n",
    "    for i in range(len(s2)):\n",
    "        s2_window.append(s2[i:i+window_size])\n",
    "        \n",
    "\n",
    "    for j in s2_window:\n",
    "        if Counter(j)==s1_d:\n",
    "            return True\n",
    "    \n",
    "    return False\n",
    "        \n",
    "    \n",
    "\n",
    "    \n",
    "    \n",
    "            \n",
    "    "
   ]
  },
  {
   "cell_type": "code",
   "execution_count": 92,
   "metadata": {},
   "outputs": [
    {
     "name": "stdout",
     "output_type": "stream",
     "text": [
      "['ei', 'id', 'db', 'ba', 'ao', 'oo', 'oo', 'o']\n"
     ]
    },
    {
     "data": {
      "text/plain": [
       "True"
      ]
     },
     "execution_count": 92,
     "metadata": {},
     "output_type": "execute_result"
    }
   ],
   "source": [
    "checkInclusion(s1 = \"ab\", s2 = \"eidbaooo\")\n"
   ]
  },
  {
   "cell_type": "code",
   "execution_count": 49,
   "metadata": {},
   "outputs": [
    {
     "data": {
      "text/plain": [
       "True"
      ]
     },
     "execution_count": 49,
     "metadata": {},
     "output_type": "execute_result"
    }
   ],
   "source": [
    "This is great about counter and dictionary\n",
    "{'a':1, 'b':1}=={'b':1, 'a':1}"
   ]
  },
  {
   "cell_type": "code",
   "execution_count": 77,
   "metadata": {},
   "outputs": [],
   "source": [
    "This worked\n",
    "\n",
    "def checkInclusion(s1, s2):\n",
    "    from collections import Counter\n",
    "    window_counter=Counter()\n",
    "    for i, c in enumerate(s2):\n",
    "        window_counter[c]+=1\n",
    "        \n",
    "        if i>=len(s1):\n",
    "            left_element=i-len(s1)\n",
    "            \n",
    "            if window_counter[s2[left_element]]==1:\n",
    "                del window_counter[s2[left_element]]\n",
    "            else:\n",
    "                window_counter[s2[left_element]]-=1\n",
    "                \n",
    "        if window_counter==Counter(s1):\n",
    "            return True\n",
    "        \n",
    "    return False\n",
    "                \n",
    "        \n",
    "Your runtime beats 32.89 % of python3 submissions.\n",
    "Runtime: 108 ms\n",
    "Memory Usage: 14.1 MB"
   ]
  },
  {
   "cell_type": "code",
   "execution_count": 78,
   "metadata": {},
   "outputs": [
    {
     "data": {
      "text/plain": [
       "True"
      ]
     },
     "execution_count": 78,
     "metadata": {},
     "output_type": "execute_result"
    }
   ],
   "source": [
    "checkInclusion(s1 = \"a\", s2 = \"a\")"
   ]
  }
 ],
 "metadata": {
  "kernelspec": {
   "display_name": "Python 3",
   "language": "python",
   "name": "python3"
  },
  "language_info": {
   "codemirror_mode": {
    "name": "ipython",
    "version": 3
   },
   "file_extension": ".py",
   "mimetype": "text/x-python",
   "name": "python",
   "nbconvert_exporter": "python",
   "pygments_lexer": "ipython3",
   "version": "3.7.4"
  }
 },
 "nbformat": 4,
 "nbformat_minor": 2
}
