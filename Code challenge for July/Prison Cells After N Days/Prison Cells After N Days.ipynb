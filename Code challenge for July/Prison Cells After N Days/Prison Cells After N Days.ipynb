{
 "cells": [
  {
   "cell_type": "code",
   "execution_count": null,
   "metadata": {},
   "outputs": [],
   "source": [
    "There are 8 prison cells in a row, and each cell is either occupied or vacant.\n",
    "\n",
    "Each day, whether the cell is occupied or vacant changes according to the following rules:\n",
    "\n",
    "If a cell has two adjacent neighbors that are both occupied or both vacant, then the cell becomes occupied.\n",
    "Otherwise, it becomes vacant.\n",
    "(Note that because the prison is a row, the first and the last cells in the row can't have two adjacent neighbors.)\n",
    "\n",
    "We describe the current state of the prison in the following way: cells[i] == 1 if the i-th cell is occupied, else \n",
    "cells[i] == 0.\n",
    "\n",
    "Given the initial state of the prison, return the state of the prison after N days (and N such changes described above.)\n",
    "\n",
    " \n",
    "Example 1:\n",
    "Input: cells = [0,1,0,1,1,0,0,1], N = 7\n",
    "\n",
    "Output: [0,0,1,1,0,0,0,0]\n",
    "\n",
    "Explanation: \n",
    "The following table summarizes the state of the prison on each day:\n",
    "Day 0: [0, 1, 0, 1, 1, 0, 0, 1]\n",
    "Day 1: [0, 1, 1, 0, 0, 0, 0, 0]\n",
    "Day 2: [0, 0, 0, 0, 1, 1, 1, 0]\n",
    "Day 3: [0, 1, 1, 0, 0, 1, 0, 0]\n",
    "Day 4: [0, 0, 0, 0, 0, 1, 0, 0]\n",
    "Day 5: [0, 1, 1, 1, 0, 1, 0, 0]\n",
    "Day 6: [0, 0, 1, 0, 1, 1, 0, 0]\n",
    "Day 7: [0, 0, 1, 1, 0, 0, 0, 0]\n",
    "\n",
    "Example 2:\n",
    "Input: cells = [1,0,0,1,0,0,1,0], N = 1000000000\n",
    "\n",
    "Output: [0,0,1,1,1,1,1,0]\n",
    " \n",
    "\n",
    "Note:\n",
    "cells.length == 8\n",
    "cells[i] is in {0, 1}\n",
    "1 <= N <= 10^9"
   ]
  },
  {
   "cell_type": "code",
   "execution_count": 32,
   "metadata": {},
   "outputs": [],
   "source": [
    "def prisonAfterNDays(cells, N):\n",
    "    prison_size = len(cells)\n",
    "    if cells[0] == 1 or cells[-1] == 1:\n",
    "        N = (N-1) % 14 + 1 #did not understand how this statement here is different from N = N % 14 in the else portion\n",
    "    else:\n",
    "        N = N % 14\n",
    "    for d in range(N):\n",
    "        cells = [0]+[1-cells[i-1]^cells[i+1] for i in range(1, prison_size-1)]+[0]\n",
    "    return cells\n",
    "    \n",
    "\n",
    "        \n",
    "        \n",
    "result:\n",
    "Your runtime beats 17.44 % of python3 submissions.\n",
    "Runtime: 56 ms\n",
    "Memory Usage: 14 MB\n",
    "    \n",
    "    \n",
    "explanation:\n",
    "There is a pattern which repeats at every 14 steps. So we can simply take the modulo of N by 14 and calculate the \n",
    "pattern. Only there is a problem if the first and last cells are 1 at the beginning. In this case, the pattern will \n",
    "start after the first iteration. So take the modulo of N-1 by 14 and add 1 for the first iteration.\n",
    "\n",
    "I used a one line statement for calculating the value of cells. We need to check if the neighbor cells have the same \n",
    "value and write 1 if they do. This is basically XNOR operation so I took XOR of the values and substract it from 1.\n"
   ]
  },
  {
   "cell_type": "code",
   "execution_count": 33,
   "metadata": {},
   "outputs": [
    {
     "data": {
      "text/plain": [
       "[0, 0, 1, 1, 0, 0, 0, 0]"
      ]
     },
     "execution_count": 33,
     "metadata": {},
     "output_type": "execute_result"
    }
   ],
   "source": [
    "prisonAfterNDays(cells = [0,1,0,1,1,0,0,1], N = 7)"
   ]
  },
  {
   "cell_type": "code",
   "execution_count": null,
   "metadata": {},
   "outputs": [],
   "source": [
    "what does an XOR operation do?\n",
    "\n",
    "XOR is a binary operation, it stands for \"exclusive or\", that is to say the resulting bit evaluates to one if only \n",
    "exactly one of the bits is set.\n",
    "\n",
    "This is its function table:\n",
    "\n",
    "a | b | a ^ b\n",
    "--|---|------\n",
    "0 | 0 | 0\n",
    "0 | 1 | 1\n",
    "1 | 0 | 1\n",
    "1 | 1 | 0\n",
    "\n",
    "This operation is performed between every two corresponding bits of a number."
   ]
  },
  {
   "cell_type": "code",
   "execution_count": 36,
   "metadata": {},
   "outputs": [
    {
     "data": {
      "text/plain": [
       "8"
      ]
     },
     "execution_count": 36,
     "metadata": {},
     "output_type": "execute_result"
    }
   ],
   "source": [
    "8%14"
   ]
  },
  {
   "cell_type": "code",
   "execution_count": 37,
   "metadata": {},
   "outputs": [
    {
     "data": {
      "text/plain": [
       "7"
      ]
     },
     "execution_count": 37,
     "metadata": {},
     "output_type": "execute_result"
    }
   ],
   "source": [
    "7%14"
   ]
  },
  {
   "cell_type": "code",
   "execution_count": 52,
   "metadata": {},
   "outputs": [
    {
     "data": {
      "text/plain": [
       "6"
      ]
     },
     "execution_count": 52,
     "metadata": {},
     "output_type": "execute_result"
    }
   ],
   "source": [
    "N=1000000000\n",
    "((N-1) % 14)+1"
   ]
  },
  {
   "cell_type": "code",
   "execution_count": 53,
   "metadata": {},
   "outputs": [
    {
     "data": {
      "text/plain": [
       "6"
      ]
     },
     "execution_count": 53,
     "metadata": {},
     "output_type": "execute_result"
    }
   ],
   "source": [
    "1000000000%14"
   ]
  }
 ],
 "metadata": {
  "kernelspec": {
   "display_name": "Python 3",
   "language": "python",
   "name": "python3"
  },
  "language_info": {
   "codemirror_mode": {
    "name": "ipython",
    "version": 3
   },
   "file_extension": ".py",
   "mimetype": "text/x-python",
   "name": "python",
   "nbconvert_exporter": "python",
   "pygments_lexer": "ipython3",
   "version": "3.7.4"
  }
 },
 "nbformat": 4,
 "nbformat_minor": 2
}
