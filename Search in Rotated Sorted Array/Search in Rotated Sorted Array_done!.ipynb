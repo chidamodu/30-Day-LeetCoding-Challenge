{
 "cells": [
  {
   "cell_type": "code",
   "execution_count": 67,
   "metadata": {},
   "outputs": [],
   "source": [
    "To find the minimum in the array as pivot point. the idea is to use the pivot point to search for the target. looks like if i get \n",
    "the minimum as pivot then it gets the big O time complexity as (N logN). but the question requires logN. \n",
    "\n",
    "def search(nums, target):\n",
    "    start=0\n",
    "    end=len(nums)-1\n",
    "    pivot=0\n",
    "    \n",
    "    \n",
    "    while start<=end:\n",
    "        middle=int(start+end/2)\n",
    "    \n",
    "        if (nums[middle]>nums[middle+1] and nums[middle]>nums[middle-1]):\n",
    "            pivot=middle\n",
    "            break\n",
    "            \n",
    "        elif nums[middle]<nums[0]:\n",
    "            end=middle\n",
    "            \n",
    "        else:\n",
    "            start=middle\n",
    "            \n",
    "    return pivot\n",
    "            \n",
    "\n",
    "    \n",
    "       \n",
    "        \n",
    "    "
   ]
  },
  {
   "cell_type": "code",
   "execution_count": 68,
   "metadata": {},
   "outputs": [
    {
     "data": {
      "text/plain": [
       "3"
      ]
     },
     "execution_count": 68,
     "metadata": {},
     "output_type": "execute_result"
    }
   ],
   "source": [
    "search([4,5,6,7,0,1,2], 1)"
   ]
  },
  {
   "cell_type": "code",
   "execution_count": 73,
   "metadata": {},
   "outputs": [],
   "source": [
    "#using binary search without actually finding a pivot point\n",
    "\n",
    "\n",
    "def search(nums, target):\n",
    "    start=0\n",
    "    end=len(nums)-1\n",
    "    \n",
    "    if not nums:\n",
    "        return -1\n",
    "   \n",
    "    while start<=end:\n",
    "        middle=int((start+end)/2)\n",
    "        \n",
    "        if nums[middle]==target:\n",
    "            return middle\n",
    "        \n",
    "        if nums[start]<=nums[middle]:\n",
    "            if (target<=nums[middle]) and (target>=nums[start]):\n",
    "                end=middle-1\n",
    "            else:\n",
    "                start=middle+1\n",
    "                \n",
    "        else:\n",
    "            if (target>=nums[middle]) and (target<=nums[end]):\n",
    "                start=middle+1\n",
    "            else:\n",
    "                end=middle-1\n",
    "                \n",
    "    return -1\n",
    "            \n",
    "            \n",
    "        \n",
    "Your runtime beats 97.54 % of python3 submissions.\n",
    "Runtime: 32 ms\n",
    "Memory Usage: 14.1 MB"
   ]
  },
  {
   "cell_type": "code",
   "execution_count": 74,
   "metadata": {},
   "outputs": [
    {
     "data": {
      "text/plain": [
       "5"
      ]
     },
     "execution_count": 74,
     "metadata": {},
     "output_type": "execute_result"
    }
   ],
   "source": [
    "search([4,5,6,7,0,1,2], 1)"
   ]
  }
 ],
 "metadata": {
  "kernelspec": {
   "display_name": "Python 3",
   "language": "python",
   "name": "python3"
  },
  "language_info": {
   "codemirror_mode": {
    "name": "ipython",
    "version": 3
   },
   "file_extension": ".py",
   "mimetype": "text/x-python",
   "name": "python",
   "nbconvert_exporter": "python",
   "pygments_lexer": "ipython3",
   "version": "3.7.4"
  }
 },
 "nbformat": 4,
 "nbformat_minor": 2
}
