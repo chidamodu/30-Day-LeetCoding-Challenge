{
 "cells": [
  {
   "cell_type": "code",
   "execution_count": null,
   "metadata": {},
   "outputs": [],
   "source": [
    "Given a positive integer n, generate an n x n matrix filled with elements from 1 to n2 in spiral order.\n",
    "\n",
    "Example 1:\n",
    "Input: n = 3\n",
    "Output: [[1,2,3],[8,9,4],[7,6,5]]\n",
    "\n",
    "Example 2:\n",
    "Input: n = 1\n",
    "Output: [[1]]\n",
    " \n",
    "Constraints:\n",
    "1 <= n <= 20\n"
   ]
  },
  {
   "cell_type": "code",
   "execution_count": 77,
   "metadata": {},
   "outputs": [],
   "source": [
    "Trial - included the values on border twice so did not work\n",
    "\n",
    "def generateMatrix(n):\n",
    "    rowstart=0\n",
    "    rowend=n-1\n",
    "    colstart=0\n",
    "    colend=n-1\n",
    "    val=1\n",
    "    \n",
    "    matrix=[[0 for _ in range(n)] for _ in range(n)]\n",
    "    \n",
    "    while (rowstart<=rowend) & (colstart<=colend):\n",
    "        for i in range(colend): \n",
    "            matrix[rowstart][i]=val\n",
    "            val+=1\n",
    "        \n",
    "        rowstart+=1\n",
    "        \n",
    "        \n",
    "        for i in range(rowend):\n",
    "            matrix[i][colend]=val\n",
    "            val+=1\n",
    "            \n",
    "        \n",
    "        colend-=1\n",
    "        \n",
    "        if rowstart<=rowend:\n",
    "            for i in range(colend+1, -1, -1):\n",
    "                \n",
    "                matrix[rowend][i]=val\n",
    "                val+=1\n",
    "                \n",
    "        rowend-=1 \n",
    "        \n",
    "        if colstart<=colend:\n",
    "            for i in range(rowend, -1, -1):\n",
    "                matrix[i][colstart]=val\n",
    "                val+=1\n",
    "                \n",
    "        colstart+=1\n",
    "                \n",
    "    print(matrix)\n",
    "        "
   ]
  },
  {
   "cell_type": "code",
   "execution_count": 78,
   "metadata": {
    "scrolled": true
   },
   "outputs": [
    {
     "name": "stdout",
     "output_type": "stream",
     "text": [
      "[[9, 11, 3], [10, 0, 4], [7, 6, 5]]\n"
     ]
    }
   ],
   "source": [
    "generateMatrix(3)"
   ]
  },
  {
   "cell_type": "code",
   "execution_count": null,
   "metadata": {},
   "outputs": [],
   "source": [
    "Approach 1: Traverse Layer by Layer in Spiral Form\n",
    "\n",
    "Intuition\n",
    "\n",
    "If we try to build a pattern for a given n, we observe that the pattern repeats after completing one circular \n",
    "traversal around the matrix. Let's call this one circular traversal as layer. We start traversing from the outer \n",
    "layer and move towards inner layers on every iteration.\n",
    "\n"
   ]
  },
  {
   "cell_type": "code",
   "execution_count": 227,
   "metadata": {},
   "outputs": [],
   "source": [
    "# Final submission\n",
    "\n",
    "def generateMatrix(n):\n",
    "    if n <= 0:\n",
    "        return [[]]\n",
    "    \n",
    "    rowstart=0\n",
    "    rowend=n-1\n",
    "    colstart=0\n",
    "    colend=n-1\n",
    "    val=0\n",
    "    \n",
    "    matrix=[[0 for _ in range(n)] for _ in range(n)]\n",
    "    \n",
    "    while rowstart <= rowend and colstart <= colend:\n",
    "        for i in range(colstart, colend + 1, 1):# the trick is to know that the value on 1st row and 1st column, i.e., 9\n",
    "            #is acutally created as the last loop here before the ehile loops exits completely\n",
    "            val+=1\n",
    "            matrix[rowstart][i]=val\n",
    "        rowstart+=1\n",
    "        \n",
    "            \n",
    "        for i in range(rowstart, rowend + 1, 1): \n",
    "            val+=1\n",
    "            matrix[i][colend]=val \n",
    "        colend-=1\n",
    "        \n",
    "        for i in range(colend, colstart-1, -1):   \n",
    "            val+=1\n",
    "            matrix[rowend][i]=val\n",
    "        rowend-=1 \n",
    "        \n",
    "        for i in range(rowend, rowstart-1, -1): \n",
    "            val+=1   \n",
    "            matrix[i][colstart]=val\n",
    "            \n",
    "        colstart+=1\n",
    "        \n",
    "        \n",
    "                \n",
    "    return matrix\n",
    "        "
   ]
  },
  {
   "cell_type": "code",
   "execution_count": 228,
   "metadata": {},
   "outputs": [
    {
     "data": {
      "text/plain": [
       "[[1, 2, 3], [8, 9, 4], [7, 6, 5]]"
      ]
     },
     "execution_count": 228,
     "metadata": {},
     "output_type": "execute_result"
    }
   ],
   "source": [
    "generateMatrix(3)"
   ]
  },
  {
   "cell_type": "code",
   "execution_count": 229,
   "metadata": {},
   "outputs": [
    {
     "name": "stdout",
     "output_type": "stream",
     "text": [
      "1\n"
     ]
    }
   ],
   "source": [
    "for i in range(1, 2, 1):\n",
    "    print(i)"
   ]
  },
  {
   "cell_type": "code",
   "execution_count": null,
   "metadata": {},
   "outputs": [],
   "source": [
    "Complexity Analysis\n",
    "\n",
    "Time Complexity: O(n^2). Here, n is given input and we are iterating over n⋅n matrix in spiral form.\n",
    "\n",
    "Space Complexity: O(1) We use constant extra space for storing count."
   ]
  },
  {
   "cell_type": "code",
   "execution_count": 173,
   "metadata": {},
   "outputs": [
    {
     "name": "stdout",
     "output_type": "stream",
     "text": [
      "1\n",
      "0\n"
     ]
    }
   ],
   "source": [
    "for i in range(1, -1, -1):\n",
    "    print(i)"
   ]
  }
 ],
 "metadata": {
  "kernelspec": {
   "display_name": "Python 3",
   "language": "python",
   "name": "python3"
  },
  "language_info": {
   "codemirror_mode": {
    "name": "ipython",
    "version": 3
   },
   "file_extension": ".py",
   "mimetype": "text/x-python",
   "name": "python",
   "nbconvert_exporter": "python",
   "pygments_lexer": "ipython3",
   "version": "3.7.4"
  }
 },
 "nbformat": 4,
 "nbformat_minor": 2
}
