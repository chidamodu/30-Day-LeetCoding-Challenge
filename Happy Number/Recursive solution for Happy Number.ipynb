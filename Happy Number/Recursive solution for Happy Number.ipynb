{
 "cells": [
  {
   "cell_type": "code",
   "execution_count": 17,
   "metadata": {},
   "outputs": [],
   "source": [
    "Recursive solution for Happy Number\n",
    "\n",
    "def isHappyNumber(n):\n",
    "    digit = s = 0    \n",
    "    while(n > 0):    \n",
    "        digit = n % 10 \n",
    "        s+=digit * digit  \n",
    "        n = n // 10   \n",
    "    return s    \n",
    "        \n",
    "def isHappy(num):\n",
    "    result = num   \n",
    "    while(result != 1 and result != 4):#as long as the result (which is s that's returned by the function isHappyNumber is not \n",
    "        #either 1 and 4 this loop keeps repeating which means that numbers that are other than happy numbers have 4\n",
    "        #in their squared sum loop)    \n",
    "        result = isHappyNumber(result)   \n",
    "     \n",
    "    if(result == 1):    \n",
    "        print(num, \" is a Happy Number!!!\")   \n",
    "    \n",
    "    else:    \n",
    "        print(num, \" is an Unhappy Number!!!\")"
   ]
  },
  {
   "cell_type": "code",
   "execution_count": 18,
   "metadata": {},
   "outputs": [
    {
     "name": "stdout",
     "output_type": "stream",
     "text": [
      "19  is a Happy Number!!!\n"
     ]
    }
   ],
   "source": [
    "isHappy(19)"
   ]
  },
  {
   "cell_type": "code",
   "execution_count": 19,
   "metadata": {},
   "outputs": [
    {
     "data": {
      "text/plain": [
       "0"
      ]
     },
     "execution_count": 19,
     "metadata": {},
     "output_type": "execute_result"
    }
   ],
   "source": [
    "1//10"
   ]
  }
 ],
 "metadata": {
  "kernelspec": {
   "display_name": "Python 3",
   "language": "python",
   "name": "python3"
  },
  "language_info": {
   "codemirror_mode": {
    "name": "ipython",
    "version": 3
   },
   "file_extension": ".py",
   "mimetype": "text/x-python",
   "name": "python",
   "nbconvert_exporter": "python",
   "pygments_lexer": "ipython3",
   "version": "3.7.4"
  }
 },
 "nbformat": 4,
 "nbformat_minor": 2
}
