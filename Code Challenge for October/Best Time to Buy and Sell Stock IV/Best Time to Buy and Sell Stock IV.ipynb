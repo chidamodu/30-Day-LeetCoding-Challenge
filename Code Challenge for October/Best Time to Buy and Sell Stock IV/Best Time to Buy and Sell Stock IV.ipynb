{
 "cells": [
  {
   "cell_type": "code",
   "execution_count": null,
   "metadata": {},
   "outputs": [],
   "source": [
    "You are given an integer array prices where prices[i] is the price of a given stock on the ith day.\n",
    "\n",
    "Design an algorithm to find the maximum profit. You may complete at most k transactions.\n",
    "\n",
    "Notice that you may not engage in multiple transactions simultaneously (i.e., you must sell the stock before you buy \n",
    "                                                                        again).\n",
    "\n",
    "Example 1:\n",
    "Input: k = 2, prices = [2,4,1]\n",
    "Output: 2\n",
    "Explanation: Buy on day 1 (price = 2) and sell on day 2 (price = 4), profit = 4-2 = 2.\n",
    "\n",
    "Example 2:\n",
    "Input: k = 2, prices = [3,2,6,5,0,3]\n",
    "Output: 7\n",
    "Explanation: Buy on day 2 (price = 2) and sell on day 3 (price = 6), profit = 6-2 = 4. Then buy on day 5 (price = 0) \n",
    "and sell on day 6 (price = 3), profit = 3-0 = 3.\n",
    " \n",
    "\n",
    "Constraints:\n",
    "0 <= k <= 109\n",
    "0 <= prices.length <= 104\n",
    "0 <= prices[i] <= 1000"
   ]
  },
  {
   "cell_type": "code",
   "execution_count": 20,
   "metadata": {},
   "outputs": [],
   "source": [
    "Trial - did not work\n",
    "\n",
    "def maxProfit(k, prices):\n",
    "    N=0\n",
    "    d={}\n",
    "    \n",
    "    for i in range(len(prices)):\n",
    "        max_profit=-float('inf')\n",
    "\n",
    "        while i+1 <= len(prices)-1:\n",
    "            if prices[i+1]>prices[i]:\n",
    "                max_profit=max(max_profit, prices[i+1]-prices[i])\n",
    "                \n",
    "            i+=1\n",
    "            \n",
    "        d[i]=d.get(i, 0)+max_profit\n",
    "\n",
    "        \n",
    "        \n",
    "        \n",
    "    return d\n",
    "                \n",
    "            \n",
    "            \n",
    "   \n",
    "    "
   ]
  },
  {
   "cell_type": "code",
   "execution_count": 21,
   "metadata": {},
   "outputs": [
    {
     "data": {
      "text/plain": [
       "{5: -inf}"
      ]
     },
     "execution_count": 21,
     "metadata": {},
     "output_type": "execute_result"
    }
   ],
   "source": [
    "maxProfit(2, [3,2,6,5,0,3])"
   ]
  },
  {
   "cell_type": "code",
   "execution_count": 30,
   "metadata": {},
   "outputs": [],
   "source": [
    "Trial - implemented finding the maximum profit successfully!\n",
    "\n",
    "def maxProfit(k, prices):\n",
    "    N=0\n",
    "    d={}\n",
    "    \n",
    "    for i in range(len(prices)):\n",
    "        max_profit=-float('inf')\n",
    "        for j in range(i+1, len(prices)):\n",
    "            if prices[j]>prices[i]:\n",
    "                max_profit=max(max_profit, prices[j]-prices[i])\n",
    "                \n",
    "        d[i]=d.get(i, 0)+max_profit\n",
    "        \n",
    "    return d"
   ]
  },
  {
   "cell_type": "code",
   "execution_count": 31,
   "metadata": {},
   "outputs": [
    {
     "data": {
      "text/plain": [
       "{0: 3, 1: 4, 2: -inf, 3: -inf, 4: 3, 5: -inf}"
      ]
     },
     "execution_count": 31,
     "metadata": {},
     "output_type": "execute_result"
    }
   ],
   "source": [
    "maxProfit(2, [3,2,6,5,0,3])"
   ]
  },
  {
   "cell_type": "code",
   "execution_count": 38,
   "metadata": {},
   "outputs": [],
   "source": [
    "Trial - but k has not been used?\n",
    "\n",
    "def maxProfit(k, prices):\n",
    "    max_profit=0\n",
    "    for i in range(1, len(prices)):\n",
    "        if prices[i]>prices[i-1]:\n",
    "            max_profit+=prices[i]-prices[i-1]\n",
    "            \n",
    "    return max_profit\n",
    "        "
   ]
  },
  {
   "cell_type": "code",
   "execution_count": 39,
   "metadata": {},
   "outputs": [
    {
     "data": {
      "text/plain": [
       "7"
      ]
     },
     "execution_count": 39,
     "metadata": {},
     "output_type": "execute_result"
    }
   ],
   "source": [
    "maxProfit(2, [3,2,6,5,0,3])"
   ]
  },
  {
   "cell_type": "code",
   "execution_count": null,
   "metadata": {},
   "outputs": [],
   "source": [
    "Trial - did not work\n",
    "\n",
    "def maxProfit(k, prices):\n",
    "    max_profit=0\n",
    "    start=1\n",
    "    end=len(prices)\n",
    "    \n",
    "    while N<=k:\n",
    "        while start<=end:\n",
    "            if prices[start]>prices[start-1]:\n",
    "                max_profit+=prices[start]-prices[start-1]\n",
    "                \n",
    "            start=\n",
    "                \n",
    "            \n",
    "            \n",
    "    for i in range(1, len(prices)):\n",
    "        "
   ]
  },
  {
   "cell_type": "code",
   "execution_count": null,
   "metadata": {},
   "outputs": [],
   "source": [
    "Final submission\n",
    "\n",
    "class Solution:\n",
    "    def maxProfit(self, k: int, prices: List[int]) -> int:\n",
    "        if len(prices) <= 1 or k == 0: return 0\n",
    "        \n",
    "        diff = [prices[i+1]-prices[i] for i in range (len(prices)-1)]\n",
    "        B=[sum(diff) for _, diff in groupby(diff, key=lambda x: x < 0)]\n",
    "        n = len(B) + 1\n",
    "\n",
    "        if k > len(prices)//2: return sum(x for x in B if x > 0)\n",
    "        \n",
    "        dp = [[0]*(k+1) for _ in range(n-1)] \n",
    "        max_profit = [[0]*(k+1) for _ in range(n-1)] \n",
    "\n",
    "        dp[0][1], max_profit[0][1] = B[0], B[0]\n",
    "\n",
    "        for i in range(1, n-1):\n",
    "            for j in range(1, k+1):\n",
    "                dp[i][j] = max(max_profit[i-1][j-1], dp[i-1][j]) + B[i]\n",
    "                max_profit[i][j] = max(dp[i][j], max_profit[i-1][j])\n",
    "\n",
    "        return max(max_profit[-1])\n",
    "\n",
    "\n",
    "\n",
    "result:\n",
    "Your runtime beats 91.69 % of python3 submissions.\n",
    "Runtime: 92 ms\n",
    "Memory Usage: 16.7 MB"
   ]
  }
 ],
 "metadata": {
  "kernelspec": {
   "display_name": "Python 3",
   "language": "python",
   "name": "python3"
  },
  "language_info": {
   "codemirror_mode": {
    "name": "ipython",
    "version": 3
   },
   "file_extension": ".py",
   "mimetype": "text/x-python",
   "name": "python",
   "nbconvert_exporter": "python",
   "pygments_lexer": "ipython3",
   "version": "3.7.4"
  }
 },
 "nbformat": 4,
 "nbformat_minor": 2
}
