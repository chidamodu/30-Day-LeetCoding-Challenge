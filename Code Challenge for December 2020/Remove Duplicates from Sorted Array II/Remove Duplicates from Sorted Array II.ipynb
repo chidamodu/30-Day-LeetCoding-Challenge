{
 "cells": [
  {
   "cell_type": "code",
   "execution_count": null,
   "metadata": {},
   "outputs": [],
   "source": [
    "Given a sorted array nums, remove the duplicates in-place such that duplicates appeared at most twice and return the \n",
    "new length.\n",
    "\n",
    "Do not allocate extra space for another array; you must do this by modifying the input array in-place with O(1) extra \n",
    "memory.\n",
    "\n",
    "Clarification:\n",
    "\n",
    "Confused why the returned value is an integer, but your answer is an array?\n",
    "\n",
    "Note that the input array is passed in by reference, which means a modification to the input array will be known to \n",
    "the caller.\n",
    "\n",
    "Internally you can think of this:\n",
    "\n",
    "// nums is passed in by reference. (i.e., without making a copy)\n",
    "int len = removeDuplicates(nums);\n",
    "\n",
    "// any modification to nums in your function would be known by the caller.\n",
    "// using the length returned by your function, it prints the first len elements.\n",
    "for (int i = 0; i < len; i++) {\n",
    "    print(nums[i]);\n",
    "}\n",
    " \n",
    "\n",
    "Example 1:\n",
    "Input: nums = [1,1,1,2,2,3]\n",
    "Output: 5, nums = [1,1,2,2,3]\n",
    "Explanation: Your function should return length = 5, with the first five elements of nums being 1, 1, 2, 2 and 3 \n",
    "respectively. It doesn't matter what you leave beyond the returned length.\n",
    "\n",
    "Example 2:\n",
    "Input: nums = [0,0,1,1,1,1,2,3,3]\n",
    "Output: 7, nums = [0,0,1,1,2,3,3]\n",
    "Explanation: Your function should return length = 7, with the first seven elements of nums being modified \n",
    "to 0, 0, 1, 1, 2, 3 and 3 respectively. It doesn't matter what values are set beyond the returned length.\n",
    " \n",
    "\n",
    "Constraints:\n",
    "0 <= nums.length <= 3 * 104\n",
    "-104 <= nums[i] <= 104\n",
    "nums is sorted in ascending order."
   ]
  },
  {
   "cell_type": "code",
   "execution_count": 43,
   "metadata": {},
   "outputs": [],
   "source": [
    "Good Trial - got the result however can do better without using extra space and also take advantage of the fact that \n",
    "the given array is already a sorted one\n",
    "\n",
    "\n",
    "def removeDuplicates(nums):\n",
    "    prev=0\n",
    "    same_val=1\n",
    "    to_delete=[]\n",
    "    \n",
    "    for cur in range(1, len(nums)-1):\n",
    "        \n",
    "        if nums[cur]==nums[prev] and same_val<2:\n",
    "            same_val+=1\n",
    "            \n",
    "        elif nums[cur]==nums[prev] and same_val>=2:\n",
    "            to_delete.append(cur)\n",
    "            \n",
    "        elif nums[cur]!=nums[prev]:\n",
    "            same_val=1\n",
    "            \n",
    "        prev=cur\n",
    "        \n",
    "    print(to_delete)\n",
    "        \n",
    "    for i in to_delete:\n",
    "        print(i, nums[i])\n",
    "        \n",
    "                \n",
    "#     return nums\n",
    "        \n",
    "    \n",
    "        "
   ]
  },
  {
   "cell_type": "code",
   "execution_count": 44,
   "metadata": {},
   "outputs": [
    {
     "name": "stdout",
     "output_type": "stream",
     "text": [
      "[4, 5]\n",
      "4 1\n",
      "5 1\n"
     ]
    }
   ],
   "source": [
    "removeDuplicates([0,0,1,1,1,1,2,3,3])"
   ]
  },
  {
   "cell_type": "code",
   "execution_count": 89,
   "metadata": {},
   "outputs": [],
   "source": [
    "def removeDuplicates(nums):\n",
    "    prev=0\n",
    "    same_val=1\n",
    "    cur=1\n",
    "    \n",
    "    while cur<=len(nums)-1:\n",
    "        \n",
    "        if nums[cur]==nums[prev] and same_val<2:\n",
    "            same_val+=1\n",
    "            prev=cur\n",
    "            \n",
    "        elif nums[cur]==nums[prev] and same_val>=2:\n",
    "            nums.pop(cur)\n",
    "            cur=prev\n",
    "                    \n",
    "        elif nums[cur]!=nums[prev]:\n",
    "            same_val=1\n",
    "            prev=cur\n",
    "               \n",
    "        cur+=1\n",
    "        \n",
    "    return nums\n",
    "        \n",
    "        \n",
    "    "
   ]
  },
  {
   "cell_type": "code",
   "execution_count": 90,
   "metadata": {},
   "outputs": [
    {
     "data": {
      "text/plain": [
       "[1, 1, 2, 2, 3]"
      ]
     },
     "execution_count": 90,
     "metadata": {},
     "output_type": "execute_result"
    }
   ],
   "source": [
    "removeDuplicates([1,1,1,2,2,3])"
   ]
  },
  {
   "cell_type": "code",
   "execution_count": null,
   "metadata": {},
   "outputs": [],
   "source": [
    "Final Submission: Yay, my code rocks!\n",
    "    \n",
    "class Solution:\n",
    "    def removeDuplicates(self, nums: List[int]) -> int:\n",
    "        prev=0\n",
    "        same_val=1\n",
    "        cur=1\n",
    "    \n",
    "        while cur<=len(nums)-1:\n",
    "        \n",
    "            if nums[cur]==nums[prev] and same_val<2:\n",
    "                same_val+=1\n",
    "                prev=cur\n",
    "            \n",
    "            elif nums[cur]==nums[prev] and same_val>=2:\n",
    "                nums.pop(cur)\n",
    "                cur=prev#this is the trick. remember when you pop an index, i.e. value at an index, so by assigning prev\n",
    "                #value to cur we are offsetting the reduction in the length of the given array, nums\n",
    "                    \n",
    "            elif nums[cur]!=nums[prev]:\n",
    "                same_val=1\n",
    "                prev=cur\n",
    "               \n",
    "            cur+=1\n",
    "        \n",
    "        return len(nums)\n",
    "        \n",
    "        \n",
    "outcome of my code:\n",
    "Your runtime beats 75.10 % of python3 submissions.\n",
    "Runtime: 52 ms\n",
    "Memory Usage: 14.2 MB"
   ]
  }
 ],
 "metadata": {
  "kernelspec": {
   "display_name": "Python 3",
   "language": "python",
   "name": "python3"
  },
  "language_info": {
   "codemirror_mode": {
    "name": "ipython",
    "version": 3
   },
   "file_extension": ".py",
   "mimetype": "text/x-python",
   "name": "python",
   "nbconvert_exporter": "python",
   "pygments_lexer": "ipython3",
   "version": "3.7.4"
  }
 },
 "nbformat": 4,
 "nbformat_minor": 2
}
