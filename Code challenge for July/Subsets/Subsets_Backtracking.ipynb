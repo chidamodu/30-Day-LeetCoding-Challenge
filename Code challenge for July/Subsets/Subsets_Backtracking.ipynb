{
 "cells": [
  {
   "cell_type": "code",
   "execution_count": null,
   "metadata": {},
   "outputs": [],
   "source": [
    "Problem:\n",
    "Given a set of distinct integers, nums, return all possible subsets (the power set).\n",
    "\n",
    "Note: The solution set must not contain duplicate subsets.\n",
    "\n",
    "Example:\n",
    "Input: nums = [1,2,3]\n",
    "Output:\n",
    "[\n",
    "  [3],\n",
    "  [1],\n",
    "  [2],\n",
    "  [1,2,3],\n",
    "  [1,3],\n",
    "  [2,3],\n",
    "  [1,2],\n",
    "  []\n",
    "]"
   ]
  },
  {
   "cell_type": "code",
   "execution_count": null,
   "metadata": {},
   "outputs": [],
   "source": [
    "Approach 2: Backtracking\n",
    "\n",
    "Algorithm\n",
    "\n",
    "Power set is all possible combinations of all possible lengths, from 0 to n.\n",
    "Given the definition, the problem can also be interpreted as finding the power set from a sequence.\n",
    "\n",
    "So, this time let us loop over the length of combination, rather than the candidate numbers, and generate all \n"
   ]
  },
  {
   "cell_type": "code",
   "execution_count": null,
   "metadata": {},
   "outputs": [],
   "source": [
    "\n",
    "Backtracking is an algorithm for finding all solutions by exploring all potential candidates. If the solution \n",
    "candidate turns to be not a solution (or at least not the last one), backtracking algorithm discards it by making \n",
    "some changes on the previous step, i.e. backtracks and then try again.combinations for a given length with the help \n",
    "of backtracking technique.\n",
    "\n"
   ]
  },
  {
   "cell_type": "code",
   "execution_count": null,
   "metadata": {},
   "outputs": [],
   "source": [
    "Algorithm\n",
    "\n",
    "We define a backtrack function named backtrack(first, curr) which takes the index of first element to add and a current combination as arguments.\n",
    "\n",
    "If the current combination is done, we add the combination to the final output.\n",
    "\n",
    "Otherwise, we iterate over the indexes i from first to the length of the entire sequence n.\n",
    "\n",
    "Add integer nums[i] into the current combination curr.\n",
    "\n",
    "Proceed to add more integers into the combination : backtrack(i + 1, curr).\n",
    "\n",
    "Backtrack by removing nums[i] from curr.\n",
    "\n"
   ]
  },
  {
   "cell_type": "code",
   "execution_count": null,
   "metadata": {},
   "outputs": [],
   "source": [
    "class Solution:\n",
    "    def subsets(self, nums: List[int]) -> List[List[int]]:\n",
    "        def backtrack(first = 0, curr = []):\n",
    "            # if the combination is done\n",
    "            if len(curr) == k:  \n",
    "                output.append(curr[:])\n",
    "            for i in range(first, n):\n",
    "                # add nums[i] into the current combination\n",
    "                curr.append(nums[i])\n",
    "                # use next integers to complete the combination\n",
    "                backtrack(i + 1, curr)\n",
    "                # backtrack\n",
    "                curr.pop()\n",
    "        \n",
    "        output = []\n",
    "        n = len(nums)\n",
    "        for k in range(n + 1):\n",
    "            backtrack()\n",
    "        return output"
   ]
  },
  {
   "cell_type": "code",
   "execution_count": null,
   "metadata": {},
   "outputs": [],
   "source": [
    "Complexity Analysis\n",
    "\n",
    "Time complexity: \n",
    "\n",
    "O(N×2^N) to generate all subsets and then copy them into output list.\n",
    "\n",
    "Space complexity: \n",
    "O(N×2^N). This is exactly the number of solutions for subsets multiplied by the number N of elements to keep for each \n",
    "subset.\n",
    "\n",
    "For a given number, it could be present or absent (i.e. binary choice) in a subset solution. As as result, for \n",
    "N numbers, we would have in total 2^N choices (solutions). \n"
   ]
  }
 ],
 "metadata": {
  "kernelspec": {
   "display_name": "Python 3",
   "language": "python",
   "name": "python3"
  },
  "language_info": {
   "codemirror_mode": {
    "name": "ipython",
    "version": 3
   },
   "file_extension": ".py",
   "mimetype": "text/x-python",
   "name": "python",
   "nbconvert_exporter": "python",
   "pygments_lexer": "ipython3",
   "version": "3.7.4"
  }
 },
 "nbformat": 4,
 "nbformat_minor": 2
}
