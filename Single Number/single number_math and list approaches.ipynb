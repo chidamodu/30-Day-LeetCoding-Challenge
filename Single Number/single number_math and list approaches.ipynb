{
 "cells": [
  {
   "cell_type": "code",
   "execution_count": 4,
   "metadata": {},
   "outputs": [],
   "source": [
    "math concept:\n",
    "\n",
    "2∗(a+b+c)−(a+a+b+b+c)=c"
   ]
  },
  {
   "cell_type": "code",
   "execution_count": 6,
   "metadata": {},
   "outputs": [],
   "source": [
    "def singleNumber(nums):\n",
    "    return 2*(sum(set(nums)))-sum(nums)"
   ]
  },
  {
   "cell_type": "code",
   "execution_count": 5,
   "metadata": {},
   "outputs": [
    {
     "data": {
      "text/plain": [
       "4"
      ]
     },
     "execution_count": 5,
     "metadata": {},
     "output_type": "execute_result"
    }
   ],
   "source": [
    "singleNumber([4,1,2,1,2])"
   ]
  },
  {
   "cell_type": "code",
   "execution_count": null,
   "metadata": {},
   "outputs": [],
   "source": [
    "Time complexity: O(n+n)=O(n). sum will call next to iterate through nums. We can see it as sum(list(i, for i in nums))\n",
    "which means the time complexity is O(n) because of the number of elements(n) in nums.\n"
   ]
  },
  {
   "cell_type": "code",
   "execution_count": null,
   "metadata": {},
   "outputs": [],
   "source": [
    "Bit Manipulation\n",
    "\n",
    "If we take XOR of zero and some bit, it will return that bit\n",
    "a⊕0=a\n",
    "\n",
    "If we take XOR of two same bits, it will return 0\n",
    "a⊕a=0\n",
    "\n",
    "a⊕b⊕a=(a⊕a)⊕b=0⊕b=b\n",
    "\n",
    "So we can XOR all bits together to find the unique number.\n",
    "\n",
    "\n",
    "Complexity Analysis\n",
    "\n",
    "Time complexity : \n",
    "O(n). We only iterate through nums, so the time complexity is the number of elements in nums.\n",
    "\n",
    "Space complexity : O(1)."
   ]
  },
  {
   "cell_type": "code",
   "execution_count": null,
   "metadata": {},
   "outputs": [],
   "source": [
    "Hash Table\n",
    "\n",
    "Algorithm\n",
    "\n",
    "We use hash table to avoid the O(n) time required for searching the elements.\n",
    "\n",
    "Iterate through all elements in nums and set up key/value pair.\n",
    "Return the element which appeared only once.\n",
    "\n",
    "from collections import defaultdict\n",
    "class Solution:\n",
    "    def singleNumber(self, nums: List[int]) -> int:\n",
    "        hash_table = defaultdict(int)\n",
    "        for i in nums:\n",
    "            hash_table[i] += 1\n",
    "        \n",
    "        for i in hash_table:\n",
    "            if hash_table[i] == 1:\n",
    "                return i\n",
    "            \n",
    "Complexity Analysis\n",
    "\n",
    "Time complexity : \n",
    "\n",
    "O(n⋅1)=O(n). Time complexity of for loop is O(n). Time complexity of hash table(dictionary in python) operation pop \n",
    "is O(1).\n",
    "\n",
    "Space complexity : \n",
    "O(n). The space required by hash_table is equal to the number of elements in nums."
   ]
  },
  {
   "cell_type": "code",
   "execution_count": null,
   "metadata": {},
   "outputs": [],
   "source": [
    "List operation\n",
    "\n",
    "Algorithm\n",
    "\n",
    "Iterate over all the elements in nums\n",
    "If some number in nums is new to array, append it\n",
    "If some number is already in the array, remove it\n",
    "\n",
    "class Solution(object):\n",
    "    def singleNumber(self, nums):\n",
    "        \"\"\"\n",
    "        :type nums: List[int]\n",
    "        :rtype: int\n",
    "        \"\"\"\n",
    "        no_duplicate_list = []\n",
    "        for i in nums:\n",
    "            if i not in no_duplicate_list:\n",
    "                no_duplicate_list.append(i)\n",
    "            else:\n",
    "                no_duplicate_list.remove(i)\n",
    "        return no_duplicate_list.pop()\n",
    "    \n",
    "    \n",
    "Complexity Analysis\n",
    "\n",
    "Time complexity : O(n2) We iterate through \n",
    "nums, taking O(n) time. We search the whole list to find whether there is duplicate number, taking \n",
    "\n",
    "O(n) time. Because search is in the for loop, so we have to multiply both time complexities which is O(n2)."
   ]
  }
 ],
 "metadata": {
  "kernelspec": {
   "display_name": "Python 3",
   "language": "python",
   "name": "python3"
  },
  "language_info": {
   "codemirror_mode": {
    "name": "ipython",
    "version": 3
   },
   "file_extension": ".py",
   "mimetype": "text/x-python",
   "name": "python",
   "nbconvert_exporter": "python",
   "pygments_lexer": "ipython3",
   "version": "3.7.4"
  }
 },
 "nbformat": 4,
 "nbformat_minor": 2
}
