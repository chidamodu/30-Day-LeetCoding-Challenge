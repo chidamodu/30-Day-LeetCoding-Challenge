{
 "cells": [
  {
   "cell_type": "code",
   "execution_count": null,
   "metadata": {},
   "outputs": [],
   "source": [
    "Given the root of a binary search tree, rearrange the tree in in-order so that the leftmost node in the tree is now \n",
    "the root of the tree, and every node has no left child and only one right child.\n",
    "\n",
    "\n",
    "Example 1:\n",
    "Input: root = [5,3,6,2,4,null,8,1,null,null,null,7,9]\n",
    "Output: [1,null,2,null,3,null,4,null,5,null,6,null,7,null,8,null,9]\n",
    "\n",
    "Example 2:\n",
    "Input: root = [5,1,7]\n",
    "Output: [1,null,5,null,7]\n",
    " \n",
    "\n",
    "Constraints:\n",
    "The number of nodes in the given tree will be in the range [1, 100].\n",
    "0 <= Node.val <= 1000"
   ]
  },
  {
   "cell_type": "code",
   "execution_count": null,
   "metadata": {},
   "outputs": [],
   "source": [
    "Approach: Traversal with Relinking\n",
    "\n",
    "Intuition and Algorithm\n",
    "\n",
    "We can perform the same in-order traversal as in Approach 1. During the traversal, we'll construct the answer on the\n",
    "fly, reusing the nodes of the given tree by cutting their left child and adjoining them to the answer.\n",
    "\n"
   ]
  },
  {
   "cell_type": "code",
   "execution_count": null,
   "metadata": {},
   "outputs": [],
   "source": [
    "class Solution:\n",
    "    def increasingBST(self, root):\n",
    "        def inorder(node):\n",
    "            if node:\n",
    "                inorder(node.left)\n",
    "                node.left = None\n",
    "                self.cur.right = node\n",
    "                self.cur = node\n",
    "                inorder(node.right)\n",
    "\n",
    "        ans = self.cur = TreeNode(None)\n",
    "        inorder(root)\n",
    "        return ans.right"
   ]
  },
  {
   "cell_type": "code",
   "execution_count": null,
   "metadata": {},
   "outputs": [],
   "source": [
    "Complexity Analysis\n",
    "\n",
    "Time Complexity: O(N), where N is the number of nodes in the given tree.\n",
    "\n",
    "Space Complexity: O(H) in additional space complexity, where H is the height of the given tree, and the size of the \n",
    "implicit call stack in our in-order traversal. \n"
   ]
  }
 ],
 "metadata": {
  "kernelspec": {
   "display_name": "Python 3",
   "language": "python",
   "name": "python3"
  },
  "language_info": {
   "codemirror_mode": {
    "name": "ipython",
    "version": 3
   },
   "file_extension": ".py",
   "mimetype": "text/x-python",
   "name": "python",
   "nbconvert_exporter": "python",
   "pygments_lexer": "ipython3",
   "version": "3.7.4"
  }
 },
 "nbformat": 4,
 "nbformat_minor": 2
}
