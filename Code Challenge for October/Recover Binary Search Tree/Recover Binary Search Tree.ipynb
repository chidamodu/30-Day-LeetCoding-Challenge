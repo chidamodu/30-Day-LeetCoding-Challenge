{
 "cells": [
  {
   "cell_type": "code",
   "execution_count": null,
   "metadata": {},
   "outputs": [],
   "source": [
    "You are given the root of a binary search tree (BST), where exactly two nodes of the tree were swapped by mistake. \n",
    "Recover the tree without changing its structure.\n",
    "\n",
    "Follow up: A solution using O(n) space is pretty straight forward. Could you devise a constant space solution?\n",
    "\n",
    "Example 1:\n",
    "Input: root = [1,3,null,null,2]\n",
    "Output: [3,1,null,null,2]\n",
    "Explanation: 3 cannot be a left child of 1 because 3 > 1. Swapping 1 and 3 makes the BST valid.\n",
    "  \n",
    "Example 2:\n",
    "Input: root = [3,1,4,null,null,2]\n",
    "Output: [2,1,4,null,null,3]\n",
    "Explanation: 2 cannot be in the right subtree of 3 because 2 < 3. Swapping 2 and 3 makes the BST valid.\n",
    " \n",
    "Constraints:\n",
    "The number of nodes in the tree is in the range [2, 1000].\n",
    "-231 <= Node.val <= 231 - 1"
   ]
  },
  {
   "cell_type": "code",
   "execution_count": null,
   "metadata": {},
   "outputs": [],
   "source": [
    "# Definition for a binary tree node.\n",
    "# class TreeNode:\n",
    "#     def __init__(self, val=0, left=None, right=None):\n",
    "#         self.val = val\n",
    "#         self.left = left\n",
    "#         self.right = right\n",
    "class Solution:\n",
    "    def recoverTree(self, root: TreeNode) -> None:\n",
    "        \"\"\"\n",
    "        Do not return anything, modify root in-place instead.\n",
    "        \"\"\"\n",
    "        swap=[]\n",
    "        current=root\n",
    "        previous=TreeNode(float('-inf'))\n",
    "        stack=[]\n",
    "        \n",
    "        while current or stack:\n",
    "            while current:\n",
    "                stack.append(current)\n",
    "                current=current.left\n",
    "                \n",
    "            temp=stack.pop()\n",
    "            \n",
    "            if temp.val<previous.val:\n",
    "                swap.append((previous, temp))\n",
    "                \n",
    "            previous=temp\n",
    "            current=temp.right\n",
    "            \n",
    "        \n",
    "        swap[0][0].val, swap[-1][1].val=swap[-1][1].val, swap[0][0].val\n",
    "            \n",
    "      \n",
    "result:\n",
    "Your runtime beats 77.45 % of python3 submissions.\n",
    "Runtime: 72 ms\n",
    "Memory Usage: 14.4 MB\n",
    "            \n",
    "        \n",
    "        "
   ]
  },
  {
   "cell_type": "code",
   "execution_count": 5,
   "metadata": {},
   "outputs": [
    {
     "data": {
      "text/plain": [
       "(2, 6)"
      ]
     },
     "execution_count": 5,
     "metadata": {},
     "output_type": "execute_result"
    }
   ],
   "source": [
    "s=[(2,3), (3,6)]\n",
    "s[0][0], s[-1][1]"
   ]
  }
 ],
 "metadata": {
  "kernelspec": {
   "display_name": "Python 3",
   "language": "python",
   "name": "python3"
  },
  "language_info": {
   "codemirror_mode": {
    "name": "ipython",
    "version": 3
   },
   "file_extension": ".py",
   "mimetype": "text/x-python",
   "name": "python",
   "nbconvert_exporter": "python",
   "pygments_lexer": "ipython3",
   "version": "3.7.4"
  }
 },
 "nbformat": 4,
 "nbformat_minor": 2
}
