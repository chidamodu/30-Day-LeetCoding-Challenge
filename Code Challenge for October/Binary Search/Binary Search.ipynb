{
 "cells": [
  {
   "cell_type": "code",
   "execution_count": null,
   "metadata": {},
   "outputs": [],
   "source": [
    "Given a sorted (in ascending order) integer array nums of n elements and a target value, write a function to search \n",
    "target in nums. If target exists, then return its index, otherwise return -1.\n",
    "\n",
    "\n",
    "Example 1:\n",
    "Input: nums = [-1,0,3,5,9,12], target = 9\n",
    "Output: 4\n",
    "Explanation: 9 exists in nums and its index is 4\n",
    "\n",
    "Example 2:\n",
    "Input: nums = [-1,0,3,5,9,12], target = 2\n",
    "Output: -1\n",
    "Explanation: 2 does not exist in nums so return -1\n",
    " \n",
    "\n",
    "Note:\n",
    "You may assume that all elements in nums are unique.\n",
    "n will be in the range [1, 10000].\n",
    "The value of each element in nums will be in the range [-9999, 9999]."
   ]
  },
  {
   "cell_type": "code",
   "execution_count": 58,
   "metadata": {},
   "outputs": [],
   "source": [
    "def search(nums, target):\n",
    "    start=0\n",
    "    end=len(nums)-1\n",
    "    \n",
    "    \n",
    "    while start <= end:\n",
    "        mid=start+(end-start)//2 #this version here is better. it might be even slower but will avoid time exceeded error\n",
    "#         mid=(start+end)//2\n",
    "\n",
    "        if nums[mid]==target:\n",
    "            return mid\n",
    "        \n",
    "        elif nums[mid] < target:\n",
    "            start=mid+1\n",
    "            \n",
    "        else:\n",
    "            end=mid-1\n",
    "            \n",
    "    return -1\n",
    "        \n",
    "        "
   ]
  },
  {
   "cell_type": "code",
   "execution_count": 59,
   "metadata": {},
   "outputs": [
    {
     "data": {
      "text/plain": [
       "-1"
      ]
     },
     "execution_count": 59,
     "metadata": {},
     "output_type": "execute_result"
    }
   ],
   "source": [
    "search(nums = [-1,0,3,5,9,12], target = 13)"
   ]
  },
  {
   "cell_type": "code",
   "execution_count": null,
   "metadata": {},
   "outputs": [],
   "source": [
    "Approach 1: Binary Search\n",
    "\n",
    "Intuition\n",
    "\n",
    "Binary search is a textbook algorithm based on the idea to compare the target value to the middle element of the array.\n",
    "\n",
    "If the target value is equal to the middle element - we're done.\n",
    "\n",
    "If the target value is smaller - continue to search on the left.\n",
    "\n",
    "If the target value is larger - continue to search on the right.\n",
    "\n"
   ]
  },
  {
   "cell_type": "code",
   "execution_count": null,
   "metadata": {},
   "outputs": [],
   "source": [
    "Complexity Analysis\n",
    "\n",
    "Time complexity : O(logN).\n",
    "\n",
    "Space complexity : O(1) since it's a constant space solution."
   ]
  }
 ],
 "metadata": {
  "kernelspec": {
   "display_name": "Python 3",
   "language": "python",
   "name": "python3"
  },
  "language_info": {
   "codemirror_mode": {
    "name": "ipython",
    "version": 3
   },
   "file_extension": ".py",
   "mimetype": "text/x-python",
   "name": "python",
   "nbconvert_exporter": "python",
   "pygments_lexer": "ipython3",
   "version": "3.7.4"
  }
 },
 "nbformat": 4,
 "nbformat_minor": 2
}
