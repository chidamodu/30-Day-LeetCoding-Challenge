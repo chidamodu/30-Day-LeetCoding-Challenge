{
 "cells": [
  {
   "cell_type": "markdown",
   "metadata": {},
   "source": [
    "You are given a string s of even length. Split this string into two halves of equal lengths, and let a be the first half and b be the second half.\n",
    "\n",
    "Two strings are alike if they have the same number of vowels ('a', 'e', 'i', 'o', 'u', 'A', 'E', 'I', 'O', 'U'). Notice that s contains uppercase and lowercase letters.\n",
    "\n",
    "Return true if a and b are alike. Otherwise, return false.\n",
    "\n",
    "Example 1:\n",
    "Input: s = \"book\"\n",
    "Output: true\n",
    "Explanation: a = \"bo\" and b = \"ok\". a has 1 vowel and b has 1 vowel. Therefore, they are alike.\n",
    "\n",
    "Example 2:\n",
    "Input: s = \"textbook\"\n",
    "Output: false\n",
    "Explanation: a = \"text\" and b = \"book\". a has 1 vowel whereas b has 2. Therefore, they are not alike.\n",
    "Notice that the vowel o is counted twice.\n",
    "\n",
    "Example 3:\n",
    "Input: s = \"MerryChristmas\"\n",
    "Output: false\n",
    "\n",
    "Example 4:\n",
    "Input: s = \"AbCdEfGh\"\n",
    "Output: true\n",
    " \n",
    "Constraints:\n",
    "2 <= s.length <= 1000\n",
    "s.length is even.\n",
    "s consists of uppercase and lowercase letters.\n",
    "\n",
    "Hint #1  \n",
    "Create a function that checks if a character is a vowel, either uppercase or lowercase.\n"
   ]
  },
  {
   "cell_type": "code",
   "execution_count": 21,
   "metadata": {},
   "outputs": [],
   "source": [
    "Yay, my solution rocks!\n",
    "\n",
    "from collections import Counter\n",
    "def halvesAreAlike(s):\n",
    "    mid_point=len(s)//2\n",
    "    \n",
    "    def if_alike(g):\n",
    "        set_vowels={'a','e','i','o','u'}\n",
    "        result=0\n",
    "        d=Counter(g.lower())\n",
    "        for k, v in d.items():\n",
    "            if k in set_vowels:\n",
    "                result+=d[k]\n",
    "        return result\n",
    "    \n",
    "    return if_alike(s[:mid_point])==if_alike(s[mid_point:])\n",
    "    \n",
    "outcome:\n",
    "Your runtime beats 81.85 % of python3 submissions.\n",
    "Runtime: 32 ms\n",
    "Memory Usage: 14.3 MB"
   ]
  },
  {
   "cell_type": "code",
   "execution_count": 22,
   "metadata": {},
   "outputs": [
    {
     "data": {
      "text/plain": [
       "True"
      ]
     },
     "execution_count": 22,
     "metadata": {},
     "output_type": "execute_result"
    }
   ],
   "source": [
    "halvesAreAlike(s = \"book\")"
   ]
  },
  {
   "cell_type": "code",
   "execution_count": null,
   "metadata": {},
   "outputs": [],
   "source": [
    "Alternative solution thta avoids Counter, writing another function\n",
    "\n",
    "class Solution:\n",
    "    def halvesAreAlike(self, s):\n",
    "        s, n, cand = s.lower(), len(s), set(\"aeiou\")\n",
    "        return sum(i in cand for i in s[:n//2]) == sum(i in cand for i in s[n//2:])"
   ]
  }
 ],
 "metadata": {
  "kernelspec": {
   "display_name": "Python 3",
   "language": "python",
   "name": "python3"
  },
  "language_info": {
   "codemirror_mode": {
    "name": "ipython",
    "version": 3
   },
   "file_extension": ".py",
   "mimetype": "text/x-python",
   "name": "python",
   "nbconvert_exporter": "python",
   "pygments_lexer": "ipython3",
   "version": "3.7.4"
  }
 },
 "nbformat": 4,
 "nbformat_minor": 2
}
