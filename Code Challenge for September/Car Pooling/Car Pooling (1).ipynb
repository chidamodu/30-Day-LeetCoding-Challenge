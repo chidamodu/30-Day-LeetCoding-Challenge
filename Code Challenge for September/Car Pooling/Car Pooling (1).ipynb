{
 "cells": [
  {
   "cell_type": "code",
   "execution_count": null,
   "metadata": {},
   "outputs": [],
   "source": [
    "You are driving a vehicle that has capacity empty seats initially available for passengers.  The vehicle only drives \n",
    "east (ie. it cannot turn around and drive west.)\n",
    "\n",
    "Given a list of trips, trip[i] = [num_passengers, start_location, end_location] contains information about the \n",
    "i-th trip: the number of passengers that must be picked up, and the locations to pick them up and drop them off.  \n",
    "The locations are given as the number of kilometers due east from your vehicle's initial location.\n",
    "\n",
    "Return true if and only if it is possible to pick up and drop off all passengers for all the given trips. \n",
    "\n",
    "Example 1:\n",
    "Input: trips = [[2,1,5],[3,3,7]], capacity = 4\n",
    "Output: false\n",
    "\n",
    "Example 2:\n",
    "Input: trips = [[2,1,5],[3,3,7]], capacity = 5\n",
    "Output: true\n",
    "\n",
    "Example 3:\n",
    "Input: trips = [[2,1,5],[3,5,7]], capacity = 3\n",
    "Output: true\n",
    "\n",
    "Example 4:\n",
    "Input: trips = [[3,2,7],[3,7,9],[8,3,9]], capacity = 11\n",
    "Output: true\n",
    " \n",
    " \n",
    "\n",
    "Constraints:\n",
    "trips.length <= 1000\n",
    "trips[i].length == 3\n",
    "1 <= trips[i][0] <= 100\n",
    "0 <= trips[i][1] < trips[i][2] <= 1000\n",
    "1 <= capacity <= 100000\n",
    "\n",
    "Hint #1  \n",
    "Sort the pickup and dropoff events by location, then process them in order.\n"
   ]
  },
  {
   "cell_type": "code",
   "execution_count": 82,
   "metadata": {},
   "outputs": [],
   "source": [
    "def carPooling(trips, capacity):\n",
    "    prev=trips[0]\n",
    "    total_capacity=0\n",
    "    \n",
    "    for i in range(1, len(trips)):\n",
    "        if (prev[2] > trips[i][1]) or (prev[2] < trips[i][1]):\n",
    "            if prev[0]+trips[i][0] <= capacity:\n",
    "                total_capacity+=prev[0]+trips[i][0]\n",
    "                \n",
    "            else:\n",
    "                break\n",
    "                \n",
    "           \n",
    "        elif prev[2] == trips[i][1]:\n",
    "            if max(prev[0], trips[i][0]) <= capacity:\n",
    "                total_capacity+=trips[i][0]\n",
    "                \n",
    "            else:\n",
    "                break\n",
    "        \n",
    "        prev=trips[i]\n",
    "        \n",
    "\n",
    "    return True if total_capacity<=capacity else False\n",
    "            \n",
    "            "
   ]
  },
  {
   "cell_type": "code",
   "execution_count": 83,
   "metadata": {},
   "outputs": [
    {
     "data": {
      "text/plain": [
       "True"
      ]
     },
     "execution_count": 83,
     "metadata": {},
     "output_type": "execute_result"
    }
   ],
   "source": [
    "carPooling(trips = [[2,1,5],[3,3,7]], capacity = 4)"
   ]
  },
  {
   "cell_type": "code",
   "execution_count": 96,
   "metadata": {},
   "outputs": [],
   "source": [
    "def carPooling(trips, capacity):\n",
    "    trip_sort=[]\n",
    "    \n",
    "    for passenger, pickup, drop in trips:\n",
    "        trip_sort.append((pickup, passenger))\n",
    "        trip_sort.append((drop, -passenger))\n",
    "        \n",
    "    print(trip_sort)\n",
    "    \n",
    "    trip_sort=sorted(trip_sort)\n",
    "    \n",
    "    print(trip_sort)\n",
    "    \n",
    "    for _, people in trip_sort:\n",
    "        capacity-=people\n",
    "        if capacity<0:\n",
    "            return False\n",
    "        \n",
    "    return True\n",
    "    \n",
    "    \n",
    "result:\n",
    "Your runtime beats 89.95 % of python3 submissions.\n",
    "Runtime: 60 ms\n",
    "Memory Usage: 14.1 MB"
   ]
  },
  {
   "cell_type": "code",
   "execution_count": 97,
   "metadata": {},
   "outputs": [
    {
     "name": "stdout",
     "output_type": "stream",
     "text": [
      "[(3, 9), (6, -9), (1, 8), (7, -8), (6, 6), (8, -6), (4, 8), (9, -8), (2, 4), (9, -4)]\n",
      "[(1, 8), (2, 4), (3, 9), (4, 8), (6, -9), (6, 6), (7, -8), (8, -6), (9, -8), (9, -4)]\n"
     ]
    },
    {
     "data": {
      "text/plain": [
       "False"
      ]
     },
     "execution_count": 97,
     "metadata": {},
     "output_type": "execute_result"
    }
   ],
   "source": [
    "carPooling(trips = [[9,3,6],[8,1,7],[6,6,8],[8,4,9],[4,2,9]], capacity = 28)"
   ]
  }
 ],
 "metadata": {
  "kernelspec": {
   "display_name": "Python 3",
   "language": "python",
   "name": "python3"
  },
  "language_info": {
   "codemirror_mode": {
    "name": "ipython",
    "version": 3
   },
   "file_extension": ".py",
   "mimetype": "text/x-python",
   "name": "python",
   "nbconvert_exporter": "python",
   "pygments_lexer": "ipython3",
   "version": "3.7.4"
  }
 },
 "nbformat": 4,
 "nbformat_minor": 2
}
