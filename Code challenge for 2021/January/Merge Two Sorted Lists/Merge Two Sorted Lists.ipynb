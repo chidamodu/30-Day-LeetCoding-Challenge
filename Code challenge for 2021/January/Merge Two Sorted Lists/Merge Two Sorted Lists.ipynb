{
 "cells": [
  {
   "cell_type": "code",
   "execution_count": null,
   "metadata": {},
   "outputs": [],
   "source": [
    "Merge two sorted linked lists and return it as a sorted list. The list should be made by splicing together the nodes \n",
    "of the first two lists.\n",
    "\n",
    "Example 1:\n",
    "Input: l1 = [1,2,4], l2 = [1,3,4]\n",
    "Output: [1,1,2,3,4,4]\n",
    "\n",
    "Example 2:\n",
    "Input: l1 = [], l2 = []\n",
    "Output: []\n",
    "\n",
    "Example 3:\n",
    "Input: l1 = [], l2 = [0]\n",
    "Output: [0]\n",
    " \n",
    "\n",
    "Constraints:\n",
    "The number of nodes in both lists is in the range [0, 50].\n",
    "-100 <= Node.val <= 100\n",
    "Both l1 and l2 are sorted in non-decreasing order."
   ]
  },
  {
   "cell_type": "code",
   "execution_count": null,
   "metadata": {},
   "outputs": [],
   "source": [
    "# Definition for singly-linked list.\n",
    "# class ListNode:\n",
    "#     def __init__(self, val=0, next=None):\n",
    "#         self.val = val\n",
    "#         self.next = next\n",
    "class Solution:\n",
    "    def mergeTwoLists(self, l1: ListNode, l2: ListNode) -> ListNode:\n",
    "        dummy=ListNode(-1)\n",
    "        head=dummy\n",
    "        \n",
    "        while (l1 != None) & (l2 != None):\n",
    "            if l1.val<l2.val:\n",
    "                dummy.next=l1\n",
    "                l1=l1.next\n",
    "                \n",
    "            else:\n",
    "                dummy.next=l2\n",
    "                l2=l2.next\n",
    "                \n",
    "            dummy=dummy.next#we do this here to make sure that we are not updating an already existing value in the dummy\n",
    "            \n",
    "        if l1 != None:\n",
    "            dummy.next=l1\n",
    "        else:\n",
    "            dummy.next=l2\n",
    "            \n",
    "        return head.next#because head point to the entire dummy array starting with -1 we need to return the head (i.e., \n",
    "    #the entire array) but starting from the very next value to -1\n",
    "            \n",
    "        "
   ]
  },
  {
   "cell_type": "code",
   "execution_count": null,
   "metadata": {},
   "outputs": [],
   "source": []
  }
 ],
 "metadata": {
  "kernelspec": {
   "display_name": "Python 3",
   "language": "python",
   "name": "python3"
  },
  "language_info": {
   "codemirror_mode": {
    "name": "ipython",
    "version": 3
   },
   "file_extension": ".py",
   "mimetype": "text/x-python",
   "name": "python",
   "nbconvert_exporter": "python",
   "pygments_lexer": "ipython3",
   "version": "3.7.4"
  }
 },
 "nbformat": 4,
 "nbformat_minor": 2
}
