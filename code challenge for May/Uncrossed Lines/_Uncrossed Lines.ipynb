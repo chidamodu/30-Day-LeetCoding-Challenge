{
 "cells": [
  {
   "cell_type": "code",
   "execution_count": null,
   "metadata": {},
   "outputs": [],
   "source": [
    "Uncrossed Lines\n",
    "We write the integers of A and B (in the order they are given) on two separate horizontal lines.\n",
    "\n",
    "Now, we may draw connecting lines: a straight line connecting two numbers A[i] and B[j] such that:\n",
    "\n",
    "A[i] == B[j];\n",
    "\n",
    "The line we draw does not intersect any other connecting (non-horizontal) line.\n",
    "Note that a connecting lines cannot intersect even at the endpoints: each number can only belong to one connecting \n",
    "line.\n",
    "\n",
    "Return the maximum number of connecting lines we can draw in this way.\n",
    "\n",
    " \n",
    "\n",
    "Example 1:\n",
    "Input: A = [1,4,2], B = [1,2,4]\n",
    "Output: 2\n",
    "Explanation: We can draw 2 uncrossed lines as in the diagram.\n",
    "We cannot draw 3 uncrossed lines, because the line from A[1]=4 to B[2]=4 will intersect the line from A[2]=2 to B[1]=2.\n",
    "\n",
    "Example 2:\n",
    "Input: A = [2,5,1,2,5], B = [10,5,2,1,5,2]\n",
    "Output: 3\n",
    "\n",
    "Example 3:\n",
    "Input: A = [1,3,7,1,7,5], B = [1,9,2,5,1]\n",
    "Output: 2\n",
    " \n",
    "\n",
    "Note:\n",
    "1 <= A.length <= 500\n",
    "1 <= B.length <= 500\n",
    "1 <= A[i], B[i] <= 2000"
   ]
  },
  {
   "cell_type": "code",
   "execution_count": 36,
   "metadata": {},
   "outputs": [],
   "source": [
    "def maxUncrossedLines(A, B):\n",
    "\n",
    "    \n",
    "    dp=[[0 for i in range(len(B)+1)] for j in range(len(A)+1)]\n",
    "    \n",
    "    for i in range(len(A)):\n",
    "        for j in range(len(B)):\n",
    "            if A[i]==B[j]:\n",
    "                dp[i+1][j+1]=dp[i][j] + 1\n",
    "                \n",
    "            else:\n",
    "                dp[i+1][j+1]=max(dp[i+1][j], dp[i][j+1])\n",
    "                \n",
    "    return dp[len(A)][len(B)]\n",
    "                \n",
    "    \n",
    "    \n",
    "#     if dp[i][j]==dp[j][i]:\n",
    "      \n",
    "#         dp[i-1][j-1]+1\n",
    "        \n",
    "#     else:\n",
    "#         max(dp[i-1][j], dp[i][j-1])\n",
    "        \n",
    "\n",
    "Your runtime beats 63.85 % of python3 submissions.\n",
    "Runtime: 236 ms\n",
    "Memory Usage: 13.8 MB"
   ]
  },
  {
   "cell_type": "code",
   "execution_count": 37,
   "metadata": {},
   "outputs": [
    {
     "data": {
      "text/plain": [
       "3"
      ]
     },
     "execution_count": 37,
     "metadata": {},
     "output_type": "execute_result"
    }
   ],
   "source": [
    "# A = [1,4,2]\n",
    "# B = [1,2,4]\n",
    "\n",
    "A = [2,5,1,2,5]\n",
    "B = [10,5,2,1,5,2]\n",
    "\n",
    "# A = [1,3,7,1,7,5]\n",
    "# B = [1,9,2,5,1]\n",
    "\n",
    "maxUncrossedLines(A, B)"
   ]
  },
  {
   "cell_type": "code",
   "execution_count": 21,
   "metadata": {},
   "outputs": [
    {
     "data": {
      "text/plain": [
       "[0, 0, 0, 0]"
      ]
     },
     "execution_count": 21,
     "metadata": {},
     "output_type": "execute_result"
    }
   ],
   "source": [
    "this is why we do what we do!\n",
    "\n",
    "d=[0 for i in range(len(A)+1)]\n",
    "d"
   ]
  }
 ],
 "metadata": {
  "kernelspec": {
   "display_name": "Python 3",
   "language": "python",
   "name": "python3"
  },
  "language_info": {
   "codemirror_mode": {
    "name": "ipython",
    "version": 3
   },
   "file_extension": ".py",
   "mimetype": "text/x-python",
   "name": "python",
   "nbconvert_exporter": "python",
   "pygments_lexer": "ipython3",
   "version": "3.7.4"
  }
 },
 "nbformat": 4,
 "nbformat_minor": 2
}
