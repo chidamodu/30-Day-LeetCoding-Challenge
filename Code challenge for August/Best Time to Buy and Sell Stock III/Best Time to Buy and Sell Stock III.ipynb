{
 "cells": [
  {
   "cell_type": "code",
   "execution_count": null,
   "metadata": {},
   "outputs": [],
   "source": [
    "Say you have an array for which the ith element is the price of a given stock on day i.\n",
    "\n",
    "Design an algorithm to find the maximum profit. You may complete at most two transactions.\n",
    "\n",
    "Note: You may not engage in multiple transactions at the same time (i.e., you must sell the stock before you buy again).\n",
    "\n",
    "Example 1:\n",
    "Input: [3,3,5,0,0,3,1,4]\n",
    "Output: 6\n",
    "Explanation: Buy on day 4 (price = 0) and sell on day 6 (price = 3), profit = 3-0 = 3.\n",
    "             Then buy on day 7 (price = 1) and sell on day 8 (price = 4), profit = 4-1 = 3.\n",
    "Example 2:\n",
    "Input: [1,2,3,4,5]\n",
    "Output: 4\n",
    "Explanation: Buy on day 1 (price = 1) and sell on day 5 (price = 5), profit = 5-1 = 4.\n",
    "             Note that you cannot buy on day 1, buy on day 2 and sell them later, as you are\n",
    "             engaging multiple transactions at the same time. You must sell before buying again.\n",
    "Example 3:\n",
    "Input: [7,6,4,3,1]\n",
    "Output: 0\n",
    "Explanation: In this case, no transaction is done, i.e. max profit = 0."
   ]
  },
  {
   "cell_type": "code",
   "execution_count": 20,
   "metadata": {},
   "outputs": [],
   "source": [
    "\n",
    "\n",
    "def maxProfit(prices):\n",
    "    n=len(prices)\n",
    "    if n<2: return 0\n",
    "    \n",
    "    p1, p2=prices[0], prices[n-1]\n",
    "    profit1, profit2=[0]*n, [0]*n\n",
    "    \n",
    "    for i in range(1, n):\n",
    "        profit1[i]=max(profit1[i-1], prices[i]-p1)\n",
    "        p1=min(p1, prices[i])\n",
    "        \n",
    "        j=n-1-i\n",
    "        profit2[j]=max(profit2[j+1], p2-prices[j])\n",
    "        p2=max(p2, prices[j])\n",
    "        \n",
    "    profit=0\n",
    "    for i in range(n):\n",
    "        profit=max(profit, profit1[i]+profit2[i])\n",
    "        \n",
    "    return profit\n",
    "    \n",
    "\n",
    "result:\n",
    "Your runtime beats 66.83 % of python3 submissions.\n",
    "Runtime: 88 ms\n",
    "Memory Usage: 15.1 MB"
   ]
  },
  {
   "cell_type": "code",
   "execution_count": 21,
   "metadata": {},
   "outputs": [
    {
     "data": {
      "text/plain": [
       "0"
      ]
     },
     "execution_count": 21,
     "metadata": {},
     "output_type": "execute_result"
    }
   ],
   "source": [
    "maxProfit([7,6,4,3,1])"
   ]
  },
  {
   "cell_type": "code",
   "execution_count": 9,
   "metadata": {},
   "outputs": [],
   "source": [
    "#Let's try to solve the same question but with a single transaction\n",
    "\n",
    "def maxprofit_single(prices):\n",
    "    pmin=10000\n",
    "    profit=0\n",
    "    for i in range(len(prices)):\n",
    "        pmin=min(prices[i], pmin)\n",
    "        if (prices[i]-pmin) > profit:\n",
    "            profit=prices[i]-pmin\n",
    "               \n",
    "    return profit"
   ]
  },
  {
   "cell_type": "code",
   "execution_count": 10,
   "metadata": {},
   "outputs": [
    {
     "data": {
      "text/plain": [
       "4"
      ]
     },
     "execution_count": 10,
     "metadata": {},
     "output_type": "execute_result"
    }
   ],
   "source": [
    "maxprofit_single([3,3,5,0,0,3,1,4])"
   ]
  }
 ],
 "metadata": {
  "kernelspec": {
   "display_name": "Python 3",
   "language": "python",
   "name": "python3"
  },
  "language_info": {
   "codemirror_mode": {
    "name": "ipython",
    "version": 3
   },
   "file_extension": ".py",
   "mimetype": "text/x-python",
   "name": "python",
   "nbconvert_exporter": "python",
   "pygments_lexer": "ipython3",
   "version": "3.7.4"
  }
 },
 "nbformat": 4,
 "nbformat_minor": 2
}
