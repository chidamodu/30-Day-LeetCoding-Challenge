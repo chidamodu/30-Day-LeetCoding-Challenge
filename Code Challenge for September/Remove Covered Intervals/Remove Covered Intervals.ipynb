{
 "cells": [
  {
   "cell_type": "code",
   "execution_count": null,
   "metadata": {},
   "outputs": [],
   "source": [
    "Given a list of intervals, remove all intervals that are covered by another interval in the list.\n",
    "\n",
    "Interval [a,b) is covered by interval [c,d) if and only if c <= a and b <= d.\n",
    "\n",
    "After doing so, return the number of remaining intervals.\n",
    "\n",
    " \n",
    "Example 1:\n",
    "Input: intervals = [[1,4],[3,6],[2,8]]\n",
    "Output: 2\n",
    "Explanation: Interval [3,6] is covered by [2,8], therefore it is removed.\n",
    "\n",
    "Example 2:\n",
    "Input: intervals = [[1,4],[2,3]]\n",
    "Output: 1\n",
    "\n",
    "Example 3:\n",
    "Input: intervals = [[0,10],[5,12]]\n",
    "Output: 2\n",
    "\n",
    "Example 4:\n",
    "Input: intervals = [[3,10],[4,10],[5,11]]\n",
    "Output: 2\n",
    "\n",
    "Example 5:\n",
    "Input: intervals = [[1,2],[1,4],[3,4]]\n",
    "Output: 1\n",
    " \n",
    "\n",
    "Constraints:\n",
    "1 <= intervals.length <= 1000\n",
    "intervals[i].length == 2\n",
    "0 <= intervals[i][0] < intervals[i][1] <= 10^5\n",
    "All the intervals are unique.\n",
    "\n",
    "Hint #1  \n",
    "How to check if an interval is covered by another?\n",
    "   \n",
    "Hint #2  \n",
    "Compare each interval to all others and check if it is covered by any interval."
   ]
  },
  {
   "cell_type": "code",
   "execution_count": 11,
   "metadata": {},
   "outputs": [],
   "source": [
    "Trial\n",
    "\n",
    "from collections import Counter\n",
    "def findPairs(nums, k):\n",
    "    c = Counter(nums)\n",
    "    result=print(sum([i + k in c for i in c]))\n",
    "    \n",
    "#     return c"
   ]
  },
  {
   "cell_type": "code",
   "execution_count": 12,
   "metadata": {},
   "outputs": [
    {
     "name": "stdout",
     "output_type": "stream",
     "text": [
      "2\n"
     ]
    }
   ],
   "source": [
    "findPairs(nums=[1,2,4,4,3,3,0,9,2,3], k = 3)"
   ]
  },
  {
   "cell_type": "code",
   "execution_count": 25,
   "metadata": {},
   "outputs": [],
   "source": [
    "# trial but did not work\n",
    "\n",
    "def removeCoveredIntervals(intervals):\n",
    "    intervals=sorted(intervals)\n",
    "#     c=0\n",
    "#     for i in range(len(intervals)):\n",
    "#         left=i\n",
    "#         right=len(intervals)-1\n",
    "        \n",
    "#         while right>left:\n",
    "#             if (intervals[right][0]<=intervals[left][0]) and (intervals[right][1]>=intervals[left][1]):\n",
    "#                 c+=1     \n",
    "#             right-=1\n",
    "            \n",
    "#     return c\n",
    "    print(intervals)\n",
    "                \n",
    "                \n",
    "            \n",
    "            "
   ]
  },
  {
   "cell_type": "code",
   "execution_count": 26,
   "metadata": {},
   "outputs": [
    {
     "name": "stdout",
     "output_type": "stream",
     "text": [
      "[[1, 4], [2, 8], [3, 3]]\n"
     ]
    }
   ],
   "source": [
    "removeCoveredIntervals([[1,4],[3,3],[2,8]])"
   ]
  },
  {
   "cell_type": "code",
   "execution_count": null,
   "metadata": {},
   "outputs": [],
   "source": [
    "Trial: was trying the traditional way of looping and comparing the intervals\n",
    "def removeCoveredIntervals(intervals):\n",
    "    result=\n",
    "    ending=0\n",
    "    \n",
    "    intervals=sorted(intervals)\n",
    "    for i in range(len(intervals)-1):\n",
    "        if intervals[i][0]==intervals[i+1][0]:\n",
    "            \n",
    "            \n",
    "        elif intervals[i][0]!=intervals[i+1][0]:\n",
    "            if intervals[i][1]<=intervals[i+1][1]:"
   ]
  },
  {
   "cell_type": "code",
   "execution_count": 45,
   "metadata": {},
   "outputs": [],
   "source": [
    "Final submission\n",
    "\n",
    "def removeCoveredIntervals(intervals):\n",
    "    result=0\n",
    "    ending=0\n",
    "    intervals=sorted(intervals, key=lambda x:(x[0], -x[1]))#this is the trick: to sort in descending order given the \n",
    "    #starting itnerval is the same for two elements\n",
    "    \n",
    "    for s, end in intervals:\n",
    "        if end>ending:\n",
    "            ending=end\n",
    "            result+=1\n",
    "            \n",
    "    return result\n",
    "        \n",
    "    \n",
    "outcome:\n",
    "Your runtime beats 98.31 % of python3 submissions.\n",
    "Runtime: 88 ms\n",
    "Memory Usage: 14.5 MB"
   ]
  },
  {
   "cell_type": "code",
   "execution_count": 46,
   "metadata": {},
   "outputs": [
    {
     "data": {
      "text/plain": [
       "2"
      ]
     },
     "execution_count": 46,
     "metadata": {},
     "output_type": "execute_result"
    }
   ],
   "source": [
    "removeCoveredIntervals([[1,4],[3,6],[2,8]])"
   ]
  }
 ],
 "metadata": {
  "kernelspec": {
   "display_name": "Python 3",
   "language": "python",
   "name": "python3"
  },
  "language_info": {
   "codemirror_mode": {
    "name": "ipython",
    "version": 3
   },
   "file_extension": ".py",
   "mimetype": "text/x-python",
   "name": "python",
   "nbconvert_exporter": "python",
   "pygments_lexer": "ipython3",
   "version": "3.7.4"
  }
 },
 "nbformat": 4,
 "nbformat_minor": 2
}
