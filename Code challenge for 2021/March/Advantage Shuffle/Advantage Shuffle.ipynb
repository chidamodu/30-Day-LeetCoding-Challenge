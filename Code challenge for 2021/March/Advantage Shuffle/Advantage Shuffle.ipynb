{
 "cells": [
  {
   "cell_type": "code",
   "execution_count": null,
   "metadata": {},
   "outputs": [],
   "source": [
    "Given two arrays A and B of equal size, the advantage of A with respect to B is the number of indices i for which \n",
    "A[i] > B[i].\n",
    "\n",
    "Return any permutation of A that maximizes its advantage with respect to B.\n",
    "\n",
    "Example 1:\n",
    "Input: A = [2,7,11,15], B = [1,10,4,11]\n",
    "Output: [2,11,7,15]\n",
    "\n",
    "Example 2:\n",
    "Input: A = [12,24,8,32], B = [13,25,32,11]\n",
    "Output: [24,32,8,12]\n",
    " \n",
    "Note:\n",
    "1 <= A.length = B.length <= 10000\n",
    "0 <= A[i] <= 10^9\n",
    "0 <= B[i] <= 10^9"
   ]
  },
  {
   "cell_type": "code",
   "execution_count": 29,
   "metadata": {},
   "outputs": [],
   "source": [
    "Trial - but incomplete so did not work for all test cases\n",
    "\n",
    "def advantageCount(A, B):\n",
    "    for i in range(len(A)):\n",
    "        if A[i]>B[i]:\n",
    "            continue\n",
    "        else:\n",
    "            j=i+1\n",
    "            while j<=len(A)-1:\n",
    "                if A[j]>B[i]:\n",
    "                    A[i], A[j]=A[j], A[i]\n",
    "                    break\n",
    "                j+=1\n",
    "    return A\n",
    "            \n",
    "\n",
    "          "
   ]
  },
  {
   "cell_type": "code",
   "execution_count": 30,
   "metadata": {},
   "outputs": [
    {
     "data": {
      "text/plain": [
       "[9, 4, 2, 5, 1]"
      ]
     },
     "execution_count": 30,
     "metadata": {},
     "output_type": "execute_result"
    }
   ],
   "source": [
    "advantageCount([9,1,2,4,5], [6,2,9,1,4])"
   ]
  },
  {
   "cell_type": "code",
   "execution_count": 43,
   "metadata": {},
   "outputs": [],
   "source": [
    "def advantageCount(A, B):\n",
    "    sorted_A=sorted(A)\n",
    "    sorted_B=sorted(B)\n",
    "    \n",
    "    assigned_list={b: [] for b in B}\n",
    "    \n",
    "    remaining_num=[]\n",
    "    j=0\n",
    "    for i in sorted_A:\n",
    "        if i>sorted_B[j]:\n",
    "            assigned_list[sorted_B[j]].append(i)\n",
    "            j+=1\n",
    "        else:\n",
    "            remaining_num.append(i)\n",
    "            \n",
    "        \n",
    "    return [assigned_list[b].pop() if assigned_list[b] else remaining_num.pop() for b in B]\n",
    "    \n",
    "            \n",
    "        "
   ]
  },
  {
   "cell_type": "code",
   "execution_count": 44,
   "metadata": {},
   "outputs": [
    {
     "data": {
      "text/plain": [
       "[9, 4, 1, 2, 5]"
      ]
     },
     "execution_count": 44,
     "metadata": {},
     "output_type": "execute_result"
    }
   ],
   "source": [
    "advantageCount([9,1,2,4,5], [6,2,9,1,4])"
   ]
  },
  {
   "cell_type": "code",
   "execution_count": null,
   "metadata": {},
   "outputs": [],
   "source": [
    "Complexity Analysis\n",
    "\n",
    "Time Complexity: O(NlogN), where N is the length of A and B.\n",
    "\n",
    "Space Complexity: O(N). \n"
   ]
  }
 ],
 "metadata": {
  "kernelspec": {
   "display_name": "Python 3",
   "language": "python",
   "name": "python3"
  },
  "language_info": {
   "codemirror_mode": {
    "name": "ipython",
    "version": 3
   },
   "file_extension": ".py",
   "mimetype": "text/x-python",
   "name": "python",
   "nbconvert_exporter": "python",
   "pygments_lexer": "ipython3",
   "version": "3.7.4"
  }
 },
 "nbformat": 4,
 "nbformat_minor": 2
}
