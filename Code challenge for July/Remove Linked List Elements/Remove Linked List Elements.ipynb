{
 "cells": [
  {
   "cell_type": "code",
   "execution_count": null,
   "metadata": {},
   "outputs": [],
   "source": [
    "Remove all elements from a linked list of integers that have value val.\n",
    "\n",
    "Example:\n",
    "\n",
    "Input:  1->2->6->3->4->5->6, val = 6\n",
    "Output: 1->2->3->4->5"
   ]
  },
  {
   "cell_type": "code",
   "execution_count": null,
   "metadata": {},
   "outputs": [],
   "source": [
    "# Definition for singly-linked list.\n",
    "# class ListNode:\n",
    "#     def __init__(self, val=0, next=None):\n",
    "#         self.val = val\n",
    "#         self.next = next\n",
    "class Solution:\n",
    "    def removeElements(self, head: ListNode, val: int) -> ListNode:\n",
    "        dummy = ListNode(-1)\n",
    "        dummy.next = head\n",
    "        start = dummy\n",
    "        while start.next:\n",
    "            if start.next.val == val:\n",
    "                start.next = start.next.next\n",
    "            else:\n",
    "                start = start.next         \n",
    "        return dummy.next   \n",
    "        \n",
    "        \n",
    "            \n",
    "Your runtime beats 28.92 % of python3 submissions.\n",
    "Runtime: 92 ms\n",
    "Memory Usage: 16.9 MB"
   ]
  },
  {
   "cell_type": "code",
   "execution_count": null,
   "metadata": {},
   "outputs": [],
   "source": [
    "Easy linked list traversal problem, without any smart ideas: just traverse list and do what is asked. Two small things \n",
    "which helps to simplify code:\n",
    "\n",
    "When traverse, always look at the next element in list, because if we already at element with value equal to val, we \n",
    "can not delete it, we need to go back somehow.\n",
    "Use dummy head to deal with case when head is equal to val.\n",
    "So, basically our algorithm looks like this: we traverse our list and if value of next element is equal to val, we \n",
    "need to delete it, so we do start.next = start.next.next. Note, that in this case we do not move our pointers, \n",
    "because there can be more element equal to val. If value is not equal to val, we move to the next element.\n",
    "\n",
    "Complexity: time complexity is O(n) with only one pass, space complexity is O(1), because we do not use any additional \n",
    "memory except couple of variable.\n",
    "\n"
   ]
  }
 ],
 "metadata": {
  "kernelspec": {
   "display_name": "Python 3",
   "language": "python",
   "name": "python3"
  },
  "language_info": {
   "codemirror_mode": {
    "name": "ipython",
    "version": 3
   },
   "file_extension": ".py",
   "mimetype": "text/x-python",
   "name": "python",
   "nbconvert_exporter": "python",
   "pygments_lexer": "ipython3",
   "version": "3.7.4"
  }
 },
 "nbformat": 4,
 "nbformat_minor": 2
}
