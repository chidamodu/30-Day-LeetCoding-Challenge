{
 "cells": [
  {
   "cell_type": "code",
   "execution_count": null,
   "metadata": {},
   "outputs": [],
   "source": [
    "Given an array of integers, 1 ≤ a[i] ≤ n (n = size of array), some elements appear twice and others appear once.\n",
    "\n",
    "Find all the elements that appear twice in this array.\n",
    "\n",
    "Could you do it without extra space and in O(n) runtime?\n",
    "\n",
    "Example:\n",
    "\n",
    "Input:\n",
    "[4,3,2,7,8,2,3,1]\n",
    "\n",
    "Output:\n",
    "[2,3]"
   ]
  },
  {
   "cell_type": "code",
   "execution_count": 13,
   "metadata": {},
   "outputs": [],
   "source": [
    "def findDuplicates(nums):\n",
    "    result=[]#what you return does not count towards space complexity\n",
    "    for n in nums:\n",
    "        n=abs(n)\n",
    "        if nums[n-1]>0:\n",
    "            nums[n-1]*=-1   \n",
    "        else:\n",
    "            result.append(n)        \n",
    "    return result\n",
    "            \n",
    "result:\n",
    "Your runtime beats 89.11 % of python3 submissions.\n",
    "Runtime: 376 ms\n",
    "Memory Usage: 21.2 MB\n",
    "    \n",
    "    \n",
    "Idea:\n",
    "1. In order to implement the solution in O(n) time we need to alter the input array every iteration so that the time complexity\n",
    "stay at O(n).\n",
    "2. weird condition: 1 ≤ a[i] ≤ n (n = size of array) but that is the key. What it means is that if we subtract every index by \n",
    "1 we wont face out of index error.\n",
    "3. For repeated numbers we get the same index. So if we spot a negative value at the same index it means that it is repeated \n",
    "number or the number had already occurred.\n",
    "\n"
   ]
  },
  {
   "cell_type": "code",
   "execution_count": 14,
   "metadata": {},
   "outputs": [
    {
     "data": {
      "text/plain": [
       "[2, 3]"
      ]
     },
     "execution_count": 14,
     "metadata": {},
     "output_type": "execute_result"
    }
   ],
   "source": [
    "findDuplicates([4,3,2,7,8,2,3,1])"
   ]
  }
 ],
 "metadata": {
  "kernelspec": {
   "display_name": "Python 3",
   "language": "python",
   "name": "python3"
  },
  "language_info": {
   "codemirror_mode": {
    "name": "ipython",
    "version": 3
   },
   "file_extension": ".py",
   "mimetype": "text/x-python",
   "name": "python",
   "nbconvert_exporter": "python",
   "pygments_lexer": "ipython3",
   "version": "3.7.4"
  }
 },
 "nbformat": 4,
 "nbformat_minor": 2
}
