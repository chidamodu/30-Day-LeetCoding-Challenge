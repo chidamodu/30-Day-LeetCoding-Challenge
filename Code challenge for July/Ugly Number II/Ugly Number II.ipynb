{
 "cells": [
  {
   "cell_type": "code",
   "execution_count": null,
   "metadata": {},
   "outputs": [],
   "source": [
    "Write a program to find the n-th ugly number.\n",
    "\n",
    "Ugly numbers are positive numbers whose prime factors only include 2, 3, 5. \n",
    "\n",
    "Example:\n",
    "Input: n = 10\n",
    "Output: 12\n",
    "Explanation: 1, 2, 3, 4, 5, 6, 8, 9, 10, 12 is the sequence of the first 10 ugly numbers.\n",
    "\n",
    "Note:  \n",
    "1 is typically treated as an ugly number.\n",
    "n does not exceed 1690."
   ]
  },
  {
   "cell_type": "code",
   "execution_count": null,
   "metadata": {},
   "outputs": [],
   "source": [
    "class Solution:\n",
    "    def nthUglyNumber(self, n: int) -> int:\n",
    "        factors, k = [2,3,5], 3\n",
    "        starts, Numbers = [0] * k, [1]\n",
    "        for i in range(n-1):\n",
    "            candidates = [factors[i]*Numbers[starts[i]] for i in range(k)]\n",
    "            new_num = min(candidates)\n",
    "            Numbers.append(new_num)\n",
    "            starts = [starts[i] + (candidates[i] == new_num) for i in range(k)]\n",
    "        return Numbers[-1]\n",
    "        \n",
    "result\n",
    "Runtime: 368 ms\n",
    "Memory Usage: 14.1 MB\n",
    "Your runtime beats 23.05 % of python3 submissions."
   ]
  }
 ],
 "metadata": {
  "kernelspec": {
   "display_name": "Python 3",
   "language": "python",
   "name": "python3"
  },
  "language_info": {
   "codemirror_mode": {
    "name": "ipython",
    "version": 3
   },
   "file_extension": ".py",
   "mimetype": "text/x-python",
   "name": "python",
   "nbconvert_exporter": "python",
   "pygments_lexer": "ipython3",
   "version": "3.7.4"
  }
 },
 "nbformat": 4,
 "nbformat_minor": 2
}
