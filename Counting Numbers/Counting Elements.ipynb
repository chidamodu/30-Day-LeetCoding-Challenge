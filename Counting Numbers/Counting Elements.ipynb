{
 "cells": [
  {
   "cell_type": "code",
   "execution_count": 7,
   "metadata": {},
   "outputs": [],
   "source": [
    "def countElements(arr):\n",
    "    d={}\n",
    "    result=0\n",
    "    for i in arr:\n",
    "        d[i]=1\n",
    "        \n",
    "    for x in arr:\n",
    "        if x+1 in d:\n",
    "            result+=1\n",
    "            \n",
    "    return result\n",
    "            \n",
    "            "
   ]
  },
  {
   "cell_type": "code",
   "execution_count": 8,
   "metadata": {},
   "outputs": [
    {
     "data": {
      "text/plain": [
       "3"
      ]
     },
     "execution_count": 8,
     "metadata": {},
     "output_type": "execute_result"
    }
   ],
   "source": [
    "countElements([1,3,2,3,5,0])"
   ]
  },
  {
   "cell_type": "code",
   "execution_count": null,
   "metadata": {},
   "outputs": [],
   "source": [
    "hint1:Use hashset to store all elements.\n",
    "\n",
    "hint2:Loop again to count all valid elements."
   ]
  },
  {
   "cell_type": "code",
   "execution_count": null,
   "metadata": {},
   "outputs": [],
   "source": [
    "Leetcode submission\n",
    "\n",
    "class Solution:\n",
    "    def countElements(self, arr: List[int]) -> int:\n",
    "        d={}\n",
    "        result=0\n",
    "        for i in arr:\n",
    "            d[i]=1\n",
    "        \n",
    "        for x in arr:\n",
    "            if x+1 in d:\n",
    "                result+=1\n",
    "            \n",
    "        return result"
   ]
  }
 ],
 "metadata": {
  "kernelspec": {
   "display_name": "Python 3",
   "language": "python",
   "name": "python3"
  },
  "language_info": {
   "codemirror_mode": {
    "name": "ipython",
    "version": 3
   },
   "file_extension": ".py",
   "mimetype": "text/x-python",
   "name": "python",
   "nbconvert_exporter": "python",
   "pygments_lexer": "ipython3",
   "version": "3.7.4"
  }
 },
 "nbformat": 4,
 "nbformat_minor": 2
}
