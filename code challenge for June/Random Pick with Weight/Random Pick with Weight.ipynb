{
 "cells": [
  {
   "cell_type": "code",
   "execution_count": null,
   "metadata": {},
   "outputs": [],
   "source": [
    "Given an array w of positive integers, where w[i] describes the weight of index i, write a function pickIndex which \n",
    "randomly picks an index in proportion to its weight.\n",
    "\n",
    "Note:\n",
    "\n",
    "1 <= w.length <= 10000\n",
    "1 <= w[i] <= 10^5\n",
    "pickIndex will be called at most 10000 times.\n",
    "\n",
    "Example 1:\n",
    "Input: \n",
    "[\"Solution\",\"pickIndex\"]\n",
    "[[[1]],[]]\n",
    "\n",
    "Output: [null,0]\n",
    "\n",
    "Example 2:\n",
    "Input: \n",
    "[\"Solution\",\"pickIndex\",\"pickIndex\",\"pickIndex\",\"pickIndex\",\"pickIndex\"]\n",
    "[[[1,3]],[],[],[],[],[]]\n",
    "\n",
    "Output: [null,0,1,1,1,0]\n",
    "\n",
    "Explanation of Input Syntax:\n",
    "The input is two lists: the subroutines called and their arguments. Solutions constructor has one argument, the \n",
    "array w. pickIndex has no arguments. Arguments are always wrapped with a list, even if there arent any.\n",
    "\n"
   ]
  },
  {
   "cell_type": "code",
   "execution_count": null,
   "metadata": {},
   "outputs": [],
   "source": [
    "class Solution:\n",
    "\n",
    "    def __init__(self, w: List[int]):\n",
    "        self.prefix_sum=[]\n",
    "        prefix_sum=0\n",
    "        for wt in w:\n",
    "            prefix_sum += wt\n",
    "            self.prefix_sum.append(prefix_sum)\n",
    "        self.tot_sum = prefix_sum\n",
    "        \n",
    "\n",
    "    def pickIndex(self) -> int:\n",
    "        random_num=self.tot_sum*random.random()\n",
    "        low, high=0, len(self.prefix_sum)\n",
    "        while low<high:\n",
    "            mid=low+(high-low)//2\n",
    "            if random_num>self.prefix_sum[mid]:\n",
    "                low=mid+1\n",
    "            else:\n",
    "                high=mid\n",
    "                \n",
    "        return low       \n",
    "\n",
    "\n",
    "# Your Solution object will be instantiated and called as such:\n",
    "# obj = Solution(w)\n",
    "# param_1 = obj.pickIndex()\n",
    "\n",
    "\n",
    "\n",
    "result:\n",
    "    \n",
    "Your runtime beats 76.05 % of python3 submissions.\n",
    "Runtime: 248 ms\n",
    "Memory Usage: 18.1 MB"
   ]
  }
 ],
 "metadata": {
  "kernelspec": {
   "display_name": "Python 3",
   "language": "python",
   "name": "python3"
  },
  "language_info": {
   "codemirror_mode": {
    "name": "ipython",
    "version": 3
   },
   "file_extension": ".py",
   "mimetype": "text/x-python",
   "name": "python",
   "nbconvert_exporter": "python",
   "pygments_lexer": "ipython3",
   "version": "3.7.4"
  }
 },
 "nbformat": 4,
 "nbformat_minor": 2
}
