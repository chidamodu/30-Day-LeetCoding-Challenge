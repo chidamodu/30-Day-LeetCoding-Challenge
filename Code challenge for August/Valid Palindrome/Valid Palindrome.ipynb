{
 "cells": [
  {
   "cell_type": "code",
   "execution_count": null,
   "metadata": {},
   "outputs": [],
   "source": [
    "Given a string, determine if it is a palindrome, considering only alphanumeric characters and ignoring cases.\n",
    "\n",
    "Note: For the purpose of this problem, we define empty string as valid palindrome.\n",
    "\n",
    "Example 1:\n",
    "Input: \"A man, a plan, a canal: Panama\"\n",
    "Output: true\n",
    "\n",
    "Example 2:\n",
    "Input: \"race a car\"\n",
    "Output: false\n",
    " \n",
    "\n",
    "Constraints:\n",
    "s consists only of printable ASCII characters."
   ]
  },
  {
   "cell_type": "code",
   "execution_count": 34,
   "metadata": {},
   "outputs": [],
   "source": [
    "Yay, my solution rocks!\n",
    "\n",
    "def isPalindrome(s):    \n",
    "    \n",
    "    s_new=(''.join(e for e in s if e.isalnum())).lower()\n",
    "    return s_new==s_new[::-1]\n",
    "\n",
    "result:\n",
    "Your runtime beats 97.14 % of python3 submissions.\n",
    "Runtime: 36 ms\n",
    "Memory Usage: 14.6 MB"
   ]
  },
  {
   "cell_type": "code",
   "execution_count": 35,
   "metadata": {},
   "outputs": [
    {
     "data": {
      "text/plain": [
       "False"
      ]
     },
     "execution_count": 35,
     "metadata": {},
     "output_type": "execute_result"
    }
   ],
   "source": [
    "isPalindrome(\"race a car\")"
   ]
  }
 ],
 "metadata": {
  "kernelspec": {
   "display_name": "Python 3",
   "language": "python",
   "name": "python3"
  },
  "language_info": {
   "codemirror_mode": {
    "name": "ipython",
    "version": 3
   },
   "file_extension": ".py",
   "mimetype": "text/x-python",
   "name": "python",
   "nbconvert_exporter": "python",
   "pygments_lexer": "ipython3",
   "version": "3.7.4"
  }
 },
 "nbformat": 4,
 "nbformat_minor": 2
}
