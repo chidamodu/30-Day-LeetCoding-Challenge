{
 "cells": [
  {
   "cell_type": "code",
   "execution_count": 1,
   "metadata": {},
   "outputs": [],
   "source": [
    "Solution provided by leetcode\n",
    "\n",
    "def firstBadVersion(n):\n",
    "    left=0\n",
    "\n",
    "    right=0\n",
    "    \n",
    "    while left<right:\n",
    "        mid=int(left+(right-left)/2)\n",
    "        if isBadVersion(mid):\n",
    "            right=mid\n",
    "            \n",
    "        else:\n",
    "            left=mid+1\n",
    "            \n",
    "    return left\n",
    "\n",
    "Your runtime beats 32.83 % of python3 submissions.\n",
    "Runtime: 32 ms\n",
    "Memory Usage: 13.7 MB\n",
    "    \n",
    "Complexity analysis\n",
    "\n",
    "Time complexity : \n",
    "O(logn). The search space is halved each time, so the time complexity is O(logn).\n",
    "\n",
    "Space complexity : \n",
    "O(1)."
   ]
  }
 ],
 "metadata": {
  "kernelspec": {
   "display_name": "Python 3",
   "language": "python",
   "name": "python3"
  },
  "language_info": {
   "codemirror_mode": {
    "name": "ipython",
    "version": 3
   },
   "file_extension": ".py",
   "mimetype": "text/x-python",
   "name": "python",
   "nbconvert_exporter": "python",
   "pygments_lexer": "ipython3",
   "version": "3.7.4"
  }
 },
 "nbformat": 4,
 "nbformat_minor": 2
}
