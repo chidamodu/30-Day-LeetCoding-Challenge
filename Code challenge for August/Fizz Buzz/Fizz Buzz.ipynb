{
 "cells": [
  {
   "cell_type": "code",
   "execution_count": null,
   "metadata": {},
   "outputs": [],
   "source": [
    "Fizz Buzz\n",
    "Write a program that outputs the string representation of numbers from 1 to n.\n",
    "\n",
    "But for multiples of three it should output “Fizz” instead of the number and for the multiples of five output “Buzz”. \n",
    "For numbers which are multiples of both three and five output “FizzBuzz”.\n",
    "\n",
    "Example:\n",
    "\n",
    "n = 15,\n",
    "\n",
    "Return:\n",
    "[\n",
    "    \"1\",\n",
    "    \"2\",\n",
    "    \"Fizz\",\n",
    "    \"4\",\n",
    "    \"Buzz\",\n",
    "    \"Fizz\",\n",
    "    \"7\",\n",
    "    \"8\",\n",
    "    \"Fizz\",\n",
    "    \"Buzz\",\n",
    "    \"11\",\n",
    "    \"Fizz\",\n",
    "    \"13\",\n",
    "    \"14\",\n",
    "    \"FizzBuzz\"\n",
    "]"
   ]
  },
  {
   "cell_type": "code",
   "execution_count": 7,
   "metadata": {},
   "outputs": [],
   "source": [
    "Naive approach\n",
    "\n",
    "def fizzBuzz(n):\n",
    "    result=[]\n",
    "    for i in range(1, n+1):\n",
    "        if (i%3==0) and (i%5==0):\n",
    "            result.append(\"FizzBuzz\")\n",
    "        elif i%3==0:\n",
    "            result.append(\"Fizz\")\n",
    "        elif i%5==0:\n",
    "            result.append(\"Buzz\")\n",
    "        else:\n",
    "            result.append(str(i))\n",
    "            \n",
    "    return result\n",
    "            \n",
    "            \n",
    "            \n",
    "result:\n",
    "Your runtime beats 99.30 % of python3 submissions.\n",
    "Runtime: 32 ms\n",
    "Memory Usage: 14.7 MB\n",
    "            \n",
    "        \n"
   ]
  },
  {
   "cell_type": "code",
   "execution_count": 8,
   "metadata": {},
   "outputs": [
    {
     "data": {
      "text/plain": [
       "['1',\n",
       " '2',\n",
       " 'Fizz',\n",
       " '4',\n",
       " 'Buzz',\n",
       " 'Fizz',\n",
       " '7',\n",
       " '8',\n",
       " 'Fizz',\n",
       " 'Buzz',\n",
       " '11',\n",
       " 'Fizz',\n",
       " '13',\n",
       " '14',\n",
       " 'FizzBuzz']"
      ]
     },
     "execution_count": 8,
     "metadata": {},
     "output_type": "execute_result"
    }
   ],
   "source": [
    "fizzBuzz(15)"
   ]
  },
  {
   "cell_type": "code",
   "execution_count": null,
   "metadata": {},
   "outputs": [],
   "source": [
    "Approach 2: String Concatenation\n",
    "\n",
    "Intuition\n",
    "\n",
    "This approach won't reduce the asymptotic complexity, but proves to be a neater solution when FizzBuzz comes with a twist. What if FizzBuzz is now FizzBuzzJazz i.e.\n",
    "\n",
    "3 ---> \"Fizz\" , 5 ---> \"Buzz\", 7 ---> \"Jazz\"\n",
    "If you try to solve this with the previous approach the program would have too many conditions to check:\n",
    "\n",
    "Divisible by 3\n",
    "Divisible by 5\n",
    "Divisible by 7\n",
    "Divisible by 3 and 5\n",
    "Divisible by 3 and 7\n",
    "Divisible by 7 and 3\n",
    "Divisible by 3 and 5 and 7\n",
    "Not divisible by 3 or 5 or 7.\n",
    "This way if the FizzBuzz mappings increase, the conditions would grow exponentially in your program.\n",
    "\n",
    "Algorithm\n",
    "\n",
    "Instead of checking for every combination of these conditions, check for divisibility by given numbers i.e. 3, 5 as \n",
    "given in the problem. If the number is divisible, concatenate the corresponding string mapping Fizz or Buzz to the \n",
    "current answer string.\n",
    "\n",
    "For eg. If we are checking for the number 15, the steps would be:\n",
    "\n",
    "Condition 1: 15 % 3 == 0 , num_ans_str = \"Fizz\"\n",
    "Condition 2: 15 % 5 == 0 , num_ans_str += \"Buzz\"\n",
    "=> num_ans_str = \"FizzBuzz\"\n",
    "So for FizzBuzz we just check for two conditions instead of three conditions as in the first approach.\n",
    "\n",
    "Similarly, for FizzBuzzJazz now we would just have three conditions to check for divisibility."
   ]
  },
  {
   "cell_type": "code",
   "execution_count": 13,
   "metadata": {},
   "outputs": [],
   "source": [
    "Approach 2: String Concatenation\n",
    "def fizzBuzz(n):\n",
    "    \n",
    "    result=[]\n",
    "    for i in range(1, n+1):\n",
    "        ans=\"\"\n",
    "        \n",
    "        divisible_by_3=(i%3==0)\n",
    "        divisible_by_5=(i%5==0)\n",
    "        \n",
    "        if divisible_by_3:\n",
    "            ans+=\"Fizz\"\n",
    "        if divisible_by_5:\n",
    "            ans+=\"Buzz\"\n",
    "        if not ans:\n",
    "            ans=str(i)\n",
    "        \n",
    "        result.append(ans)\n",
    "            \n",
    "    return result\n",
    "\n",
    "\n",
    "Complexity Analysis\n",
    "\n",
    "Time Complexity: \n",
    "O(N)\n",
    "\n",
    "Space Complexity: \n",
    "O(1) \n"
   ]
  },
  {
   "cell_type": "code",
   "execution_count": 14,
   "metadata": {},
   "outputs": [
    {
     "data": {
      "text/plain": [
       "['1',\n",
       " '2',\n",
       " 'Fizz',\n",
       " '4',\n",
       " 'Buzz',\n",
       " 'Fizz',\n",
       " '7',\n",
       " '8',\n",
       " 'Fizz',\n",
       " 'Buzz',\n",
       " '11',\n",
       " 'Fizz',\n",
       " '13',\n",
       " '14',\n",
       " 'FizzBuzz']"
      ]
     },
     "execution_count": 14,
     "metadata": {},
     "output_type": "execute_result"
    }
   ],
   "source": [
    "fizzBuzz(15)"
   ]
  },
  {
   "cell_type": "code",
   "execution_count": null,
   "metadata": {},
   "outputs": [],
   "source": [
    "Approach 3: Hash it!\n",
    "    \n",
    "Intuition\n",
    "\n",
    "This approach is an optimization over approach 2. When the number of mappings are limited, approach 2 looks good. But \n",
    "what if you face a tricky interviewer and he decides to add too many mappings?\n",
    "\n",
    "Having a condition for every mapping is not feasible or may be we can say the code might get ugly and tough to \n",
    "maintain.\n",
    "\n",
    "What if tomorrow we have to change a mapping or may be delete a mapping? Are we going to change the code every time \n",
    "we have a modification in the mappings?\n",
    "\n",
    "We don't have to. We can put all these mappings in a Hash Table.\n",
    "\n",
    "Algorithm\n",
    "\n",
    "Put all the mappings in a hash table. The hash table fizzBuzzHash would look something like { 3: 'Fizz', 5: 'Buzz' }\n",
    "Iterate on the numbers from \n",
    "1...\n",
    "N\n",
    "1...N.\n",
    "For every number, iterate over the fizzBuzzHash keys and check for divisibility.\n",
    "If the number is divisible by the key, concatenate the corresponding hash value to the answer string for current \n",
    "number. We do this for every entry in the hash table.\n",
    "Add the answer string to the answer list.\n",
    "This way you can add/delete mappings to/from to the hash table and not worry about changing the code.\n",
    "So, for FizzBuzzJazz the hash table would look something like { 3: 'Fizz', 5: 'Buzz', 7: 'Jazz' }\n",
    "\n"
   ]
  },
  {
   "cell_type": "code",
   "execution_count": 35,
   "metadata": {},
   "outputs": [],
   "source": [
    "Approach 3: Hash it!\n",
    "    \n",
    "def fizzBuzz(n):\n",
    "    result=[]\n",
    "    d={3: \"Fizz\", 5: \"Buzz\"}\n",
    "    \n",
    "    for i in range(1, n+1):\n",
    "        ans=\"\"\n",
    "\n",
    "        for k in d.keys():\n",
    "            if i%k ==0:\n",
    "                ans += d[k]\n",
    "        \n",
    "        if not ans:\n",
    "            ans=str(i)\n",
    "        \n",
    "        result.append(ans)\n",
    "            \n",
    "    return result\n"
   ]
  },
  {
   "cell_type": "code",
   "execution_count": 36,
   "metadata": {},
   "outputs": [
    {
     "data": {
      "text/plain": [
       "['1',\n",
       " '2',\n",
       " 'Fizz',\n",
       " '4',\n",
       " 'Buzz',\n",
       " 'Fizz',\n",
       " '7',\n",
       " '8',\n",
       " 'Fizz',\n",
       " 'Buzz',\n",
       " '11',\n",
       " 'Fizz',\n",
       " '13',\n",
       " '14',\n",
       " 'FizzBuzz']"
      ]
     },
     "execution_count": 36,
     "metadata": {},
     "output_type": "execute_result"
    }
   ],
   "source": [
    "fizzBuzz(15)"
   ]
  }
 ],
 "metadata": {
  "kernelspec": {
   "display_name": "Python 3",
   "language": "python",
   "name": "python3"
  },
  "language_info": {
   "codemirror_mode": {
    "name": "ipython",
    "version": 3
   },
   "file_extension": ".py",
   "mimetype": "text/x-python",
   "name": "python",
   "nbconvert_exporter": "python",
   "pygments_lexer": "ipython3",
   "version": "3.7.4"
  }
 },
 "nbformat": 4,
 "nbformat_minor": 2
}
