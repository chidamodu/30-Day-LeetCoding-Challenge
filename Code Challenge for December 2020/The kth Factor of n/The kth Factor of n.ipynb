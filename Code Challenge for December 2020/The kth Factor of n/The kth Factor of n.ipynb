{
 "cells": [
  {
   "cell_type": "code",
   "execution_count": null,
   "metadata": {},
   "outputs": [],
   "source": [
    "Given two positive integers n and k.\n",
    "\n",
    "A factor of an integer n is defined as an integer i where n % i == 0.\n",
    "\n",
    "Consider a list of all factors of n sorted in ascending order, return the kth factor in this list or return -1 if n \n",
    "has less than k factors.\n",
    "\n",
    " \n",
    "Example 1:\n",
    "Input: n = 12, k = 3\n",
    "Output: 3\n",
    "Explanation: Factors list is [1, 2, 3, 4, 6, 12], the 3rd factor is 3.\n",
    "\n",
    "Example 2:\n",
    "Input: n = 7, k = 2\n",
    "Output: 7\n",
    "Explanation: Factors list is [1, 7], the 2nd factor is 7.\n",
    "\n",
    "Example 3:\n",
    "Input: n = 4, k = 4\n",
    "Output: -1\n",
    "Explanation: Factors list is [1, 2, 4], there is only 3 factors. We should return -1.\n",
    "\n",
    "Example 4:\n",
    "Input: n = 1, k = 1\n",
    "Output: 1\n",
    "Explanation: Factors list is [1], the 1st factor is 1.\n",
    "\n",
    "Example 5:\n",
    "Input: n = 1000, k = 3\n",
    "Output: 4\n",
    "Explanation: Factors list is [1, 2, 4, 5, 8, 10, 20, 25, 40, 50, 100, 125, 200, 250, 500, 1000].\n",
    " \n",
    "\n",
    "Constraints:\n",
    "1 <= k <= n <= 1000\n",
    "\n",
    "Hint #1  \n",
    "The factors of n will be always in the range [1, n].\n",
    "\n",
    "Hint #2  \n",
    "Keep a list of all factors sorted. Loop i from 1 to n and add i if n % i == 0. Return the kth factor if it exist in \n",
    "this list.\n"
   ]
  },
  {
   "cell_type": "code",
   "execution_count": 13,
   "metadata": {},
   "outputs": [],
   "source": [
    "def kthFactor(n, k):\n",
    "    factors=[]\n",
    "    for i in range(1, n+1):\n",
    "        if n%i==0:\n",
    "            factors.append(i)\n",
    "            \n",
    "    if len(factors)>=k:\n",
    "        return factors[k-1]\n",
    "    else:\n",
    "        return -1\n",
    "        \n",
    "\n",
    "outcome:\n",
    "Your runtime beats 95.02 % of python3 submissions.\n",
    "Runtime: 24 ms\n",
    "Memory Usage: 14.2 MB"
   ]
  },
  {
   "cell_type": "code",
   "execution_count": 14,
   "metadata": {},
   "outputs": [
    {
     "data": {
      "text/plain": [
       "-1"
      ]
     },
     "execution_count": 14,
     "metadata": {},
     "output_type": "execute_result"
    }
   ],
   "source": [
    "kthFactor(n = 4, k = 4)"
   ]
  },
  {
   "cell_type": "code",
   "execution_count": 17,
   "metadata": {},
   "outputs": [
    {
     "data": {
      "text/plain": [
       "1"
      ]
     },
     "execution_count": 17,
     "metadata": {},
     "output_type": "execute_result"
    }
   ],
   "source": [
    "import math\n",
    "int(math.sqrt(3))"
   ]
  },
  {
   "cell_type": "code",
   "execution_count": 22,
   "metadata": {},
   "outputs": [],
   "source": [
    "def kthFactor(n, k):\n",
    "    f1, f2 = [], []\n",
    "    for s in range(1, int(math.sqrt(n)) + 1 ):\n",
    "        if n % s == 0:\n",
    "            f1 += [s]\n",
    "            f2 += [n//s]\n",
    "            print(f1)\n",
    "                \n",
    "    if f1[-1] == f2[-1]: f2.pop()\n",
    "            \n",
    "    factors = f1 + f2[::-1]\n",
    "    return -1 if len(factors) < k else factors[k-1]"
   ]
  },
  {
   "cell_type": "code",
   "execution_count": 23,
   "metadata": {},
   "outputs": [
    {
     "name": "stdout",
     "output_type": "stream",
     "text": [
      "[1]\n",
      "[1, 2]\n",
      "[1, 2, 3]\n"
     ]
    },
    {
     "data": {
      "text/plain": [
       "3"
      ]
     },
     "execution_count": 23,
     "metadata": {},
     "output_type": "execute_result"
    }
   ],
   "source": [
    "kthFactor(n = 12, k = 3)"
   ]
  },
  {
   "cell_type": "code",
   "execution_count": 24,
   "metadata": {},
   "outputs": [
    {
     "data": {
      "text/plain": [
       "3"
      ]
     },
     "execution_count": 24,
     "metadata": {},
     "output_type": "execute_result"
    }
   ],
   "source": [
    "int(math.sqrt(12))"
   ]
  },
  {
   "cell_type": "code",
   "execution_count": 26,
   "metadata": {},
   "outputs": [
    {
     "data": {
      "text/plain": [
       "[6, 4, 12]"
      ]
     },
     "execution_count": 26,
     "metadata": {},
     "output_type": "execute_result"
    }
   ],
   "source": [
    "f2=[12, 4, 6]\n",
    "f2[::-1]"
   ]
  },
  {
   "cell_type": "code",
   "execution_count": null,
   "metadata": {},
   "outputs": [],
   "source": [
    "Brilliant idea using sqrt(n)\n",
    "\n",
    "class Solution:\n",
    "    def kthFactor(self, n, k):\n",
    "        f1, f2 = [], []\n",
    "        for s in range(1, int(sqrt(n)) + 1 ):\n",
    "            if n % s == 0:\n",
    "                f1 += [s]\n",
    "                f2 += [n//s]\n",
    "                \n",
    "        if f1[-1] == f2[-1]: f2.pop() #for example if n=9 then we have a situation where 9//3=3 so we will have\n",
    "            #3 in both f1 and f2 thats why we have to pop from f2 in order to avoid duplicates.\n",
    "            \n",
    "        factors = f1 + f2[::-1]\n",
    "        return -1 if len(factors) < k else factors[k-1]\n",
    "\n",
    "Complexity: time and space complexity is O(sqrt(n)), because there will be at most 2*sqrt(n) factors of n."
   ]
  }
 ],
 "metadata": {
  "kernelspec": {
   "display_name": "Python 3",
   "language": "python",
   "name": "python3"
  },
  "language_info": {
   "codemirror_mode": {
    "name": "ipython",
    "version": 3
   },
   "file_extension": ".py",
   "mimetype": "text/x-python",
   "name": "python",
   "nbconvert_exporter": "python",
   "pygments_lexer": "ipython3",
   "version": "3.7.4"
  }
 },
 "nbformat": 4,
 "nbformat_minor": 2
}
