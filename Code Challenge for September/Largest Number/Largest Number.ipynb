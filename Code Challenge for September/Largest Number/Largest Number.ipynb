{
 "cells": [
  {
   "cell_type": "code",
   "execution_count": null,
   "metadata": {},
   "outputs": [],
   "source": [
    "Given a list of non negative integers, arrange them such that they form the largest number.\n",
    "\n",
    "Example 1:\n",
    "Input: [10,2]\n",
    "Output: \"210\"\n",
    "\n",
    "Example 2:\n",
    "Input: [3,30,34,5,9]\n",
    "Output: \"9534330\"\n",
    "Note: The result may be very large, so you need to return a string instead of an integer."
   ]
  },
  {
   "cell_type": "code",
   "execution_count": 51,
   "metadata": {},
   "outputs": [],
   "source": [
    "This gave time exceeded limit error. the continue after if did not work\n",
    "\n",
    "def largestNumber(nums):\n",
    "  \n",
    "    for i in range(len(nums)-1):\n",
    "        j=i+1\n",
    "        \n",
    "        while i<len(nums) and j<len(nums):\n",
    "            \n",
    "            if int(''.join((str(nums[i]), str(nums[j])))) > int(''.join((str(nums[j]), str(nums[i])))):\n",
    "                continue\n",
    "            else:\n",
    "                nums[j], nums[i]=nums[i], nums[j]\n",
    "                \n",
    "            j+=1\n",
    "            \n",
    "            \n",
    "    return nums\n",
    "            \n",
    "            \n",
    "       "
   ]
  },
  {
   "cell_type": "code",
   "execution_count": 65,
   "metadata": {},
   "outputs": [],
   "source": [
    "Trial worked\n",
    "    \n",
    "    \n",
    "def largestNumber(nums):\n",
    "    nums = list(map(str, nums))\n",
    "    \n",
    "    if len(nums) < 2:\n",
    "        return \"\".join(nums)\n",
    "  \n",
    "    for i in range(len(nums)-1):\n",
    "        j=i+1\n",
    "        \n",
    "        while (i<len(nums)) and (j<len(nums)):\n",
    "            if not((int(nums[i]+nums[j])) > (int(nums[j]+nums[i]))):\n",
    "                nums[j], nums[i]=nums[i], nums[j]\n",
    "                \n",
    "            j+=1\n",
    "            \n",
    "            \n",
    "    return \"\".join(nums)\n",
    "            \n",
    "            "
   ]
  },
  {
   "cell_type": "code",
   "execution_count": 66,
   "metadata": {},
   "outputs": [
    {
     "data": {
      "text/plain": [
       "'9534330'"
      ]
     },
     "execution_count": 66,
     "metadata": {},
     "output_type": "execute_result"
    }
   ],
   "source": [
    "largestNumber([3,30,34,5,9])"
   ]
  },
  {
   "cell_type": "code",
   "execution_count": 59,
   "metadata": {},
   "outputs": [],
   "source": [
    "My Leetcode submission\n",
    "\n",
    "def largestNumber(nums):\n",
    "    if not any(map(bool, nums)):#this is important in case of having nums=[0,0]. joining those two will give \"00\" which can be reduced to \"0\"\n",
    "        return '0'\n",
    "        \n",
    "    nums = list(map(str, nums))\n",
    "    if len(nums) < 2:\n",
    "        return \"\".join(nums)\n",
    "        \n",
    "    def compare(x, y):\n",
    "        return (int(nums[x]+nums[y])) > (int(nums[y]+nums[x]))\n",
    "        \n",
    "    for x in range(len(nums) - 1):\n",
    "        y = x + 1\n",
    "        while x < len(nums) and y < (len(nums)):\n",
    "            if not compare(x,y):\n",
    "                nums[y], nums[x] = nums[x], nums[y]\n",
    "            y+=1\n",
    "\n",
    "    return \"\".join(nums) \n",
    "\n",
    "\n",
    "result:\n",
    "Your runtime beats 16.26 % of python3 submissions.\n",
    "Runtime: 80 ms\n",
    "Memory Usage: 14.1 MB"
   ]
  },
  {
   "cell_type": "code",
   "execution_count": 60,
   "metadata": {},
   "outputs": [
    {
     "data": {
      "text/plain": [
       "'9534330'"
      ]
     },
     "execution_count": 60,
     "metadata": {},
     "output_type": "execute_result"
    }
   ],
   "source": [
    "largestNumber([3,30,34,5,9])"
   ]
  },
  {
   "cell_type": "code",
   "execution_count": null,
   "metadata": {},
   "outputs": [],
   "source": [
    "Leetcode solution - provided by Leetcode \n",
    "\n",
    "class LargerNumKey(str):\n",
    "    def __lt__(x, y):\n",
    "        return x+y > y+x\n",
    "        \n",
    "class Solution:\n",
    "    def largestNumber(self, nums):\n",
    "        largest_num = ''.join(sorted(map(str, nums), key=LargerNumKey))\n",
    "        return '0' if largest_num[0] == '0' else largest_num\n",
    "    \n",
    "Your runtime beats 85.09 % of python3 submissions.\n",
    "Runtime: 36 ms\n",
    "Memory Usage: 14 MB\n",
    "    \n",
    "    \n",
    "    \n",
    "Complexity Analysis\n",
    "\n",
    "Time complexity : O(nlgn)\n",
    "Although we are doing extra work in our comparator, it is only by a constant factor. Therefore, the overall runtime is \n",
    "dominated by the complexity of sort, which is O(nlgn) in Python and Java.\n",
    "\n",
    "Space complexity : \n",
    "Here, we allocate O(n) additional space to store the copy of nums. Although we could do that work in place \n",
    "(if we decide that it is okay to modify nums), we must allocate O(n) space for the final return string. \n",
    "Therefore, the overall memory footprint is linear in the length of nums."
   ]
  }
 ],
 "metadata": {
  "kernelspec": {
   "display_name": "Python 3",
   "language": "python",
   "name": "python3"
  },
  "language_info": {
   "codemirror_mode": {
    "name": "ipython",
    "version": 3
   },
   "file_extension": ".py",
   "mimetype": "text/x-python",
   "name": "python",
   "nbconvert_exporter": "python",
   "pygments_lexer": "ipython3",
   "version": "3.7.4"
  }
 },
 "nbformat": 4,
 "nbformat_minor": 2
}
