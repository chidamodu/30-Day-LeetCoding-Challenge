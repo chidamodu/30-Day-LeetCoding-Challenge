{
 "cells": [
  {
   "cell_type": "code",
   "execution_count": null,
   "metadata": {},
   "outputs": [],
   "source": [
    "International Morse Code defines a standard encoding where each letter is mapped to a series of dots and dashes, as \n",
    "follows: \"a\" maps to \".-\", \"b\" maps to \"-...\", \"c\" maps to \"-.-.\", and so on.\n",
    "\n",
    "For convenience, the full table for the 26 letters of the English alphabet is given below:\n",
    "\n",
    "[\".-\",\"-...\",\"-.-.\",\"-..\",\".\",\"..-.\",\"--.\",\"....\",\"..\",\".---\",\"-.-\",\".-..\",\"--\",\"-.\",\"---\",\".--.\",\"--.-\",\".-.\",\"...\",\n",
    " \"-\",\"..-\",\"...-\",\".--\",\"-..-\",\"-.--\",\"--..\"]\n",
    "\n",
    "Now, given a list of words, each word can be written as a concatenation of the Morse code of each letter. \n",
    "For example, \"cab\" can be written as \"-.-..--...\", (which is the concatenation \"-.-.\" + \".-\" + \"-...\"). We'll call such a concatenation, the transformation of a word.\n",
    "\n",
    "Return the number of different transformations among all words we have.\n",
    "\n",
    "Example:\n",
    "Input: words = [\"gin\", \"zen\", \"gig\", \"msg\"]\n",
    "Output: 2\n",
    "Explanation: \n",
    "The transformation of each word is:\n",
    "\"gin\" -> \"--...-.\"\n",
    "\"zen\" -> \"--...-.\"\n",
    "\"gig\" -> \"--...--.\"\n",
    "\"msg\" -> \"--...--.\"\n",
    "\n",
    "There are 2 different transformations, \"--...-.\" and \"--...--.\".\n",
    "\n",
    "Note:\n",
    "The length of words will be at most 100.\n",
    "Each words[i] will have length in range [1, 12].\n",
    "words[i] will only consist of lowercase letters."
   ]
  },
  {
   "cell_type": "code",
   "execution_count": 49,
   "metadata": {},
   "outputs": [],
   "source": [
    "Yay, my solution rocks!\n",
    "\n",
    "def uniqueMorseRepresentations(words):\n",
    "    alphabet=list(string.ascii_lowercase)\n",
    "    d={}\n",
    "    l=[\".-\",\"-...\",\"-.-.\",\"-..\",\".\",\"..-.\",\"--.\",\"....\",\"..\",\".---\",\"-.-\",\".-..\",\"--\",\"-.\",\"---\",\".--.\",\"--.-\",\".-.\",\"...\",\"-\",\"..-\",\"...-\",\".--\",\"-..-\",\"-.--\",\"--..\"]\n",
    "    cur=0\n",
    "    result=set()\n",
    "    \n",
    "    for i in range(len(alphabet)):\n",
    "        d[alphabet[i]]=l[i]\n",
    "        \n",
    "    while cur<len(words):\n",
    "        temp=\"\"\n",
    "        for j in words[cur]:\n",
    "            temp+=d[j]\n",
    "            \n",
    "        result.add(temp)\n",
    "        cur+=1\n",
    "        \n",
    "    return len(result)\n",
    "        \n",
    "        \n",
    "outcome:\n",
    "Your runtime beats 93.08 % of python3 submissions.\n",
    "Runtime: 28 ms\n",
    "Memory Usage: 14.5 MB\n",
    "        \n",
    "    \n",
    "Complexity Analysis\n",
    "\n",
    "Time Complexity: O(S), where S is the sum of the lengths of words in words. We iterate through each character of each \n",
    "word in words.\n",
    "\n",
    "Space Complexity: O(S).\n",
    "\n",
    "\n",
    "    \n",
    "But why not O(S^2)?    \n",
    "the first loop as u know will be running S times but since maximum size of a word is given 12 so complexity is \n",
    "O(12*S) that is same as O(S)\n",
    "\n"
   ]
  },
  {
   "cell_type": "code",
   "execution_count": 50,
   "metadata": {},
   "outputs": [
    {
     "data": {
      "text/plain": [
       "2"
      ]
     },
     "execution_count": 50,
     "metadata": {},
     "output_type": "execute_result"
    }
   ],
   "source": [
    "uniqueMorseRepresentations([\"gin\", \"zen\", \"gig\", \"msg\"])"
   ]
  },
  {
   "cell_type": "code",
   "execution_count": 44,
   "metadata": {},
   "outputs": [
    {
     "name": "stdout",
     "output_type": "stream",
     "text": [
      "g\n",
      "i\n",
      "n\n"
     ]
    }
   ],
   "source": [
    "words=[\"gin\", \"zen\", \"gig\", \"msg\"]\n",
    "for j in words[0]:\n",
    "    print(j)"
   ]
  },
  {
   "cell_type": "code",
   "execution_count": 51,
   "metadata": {},
   "outputs": [
    {
     "data": {
      "text/plain": [
       "6"
      ]
     },
     "execution_count": 51,
     "metadata": {},
     "output_type": "execute_result"
    }
   ],
   "source": [
    "ord(\"g\")-ord(\"a\")"
   ]
  },
  {
   "cell_type": "code",
   "execution_count": 52,
   "metadata": {},
   "outputs": [
    {
     "data": {
      "text/plain": [
       "8"
      ]
     },
     "execution_count": 52,
     "metadata": {},
     "output_type": "execute_result"
    }
   ],
   "source": [
    "ord(\"i\")-ord(\"a\")"
   ]
  },
  {
   "cell_type": "code",
   "execution_count": 53,
   "metadata": {},
   "outputs": [
    {
     "data": {
      "text/plain": [
       "13"
      ]
     },
     "execution_count": 53,
     "metadata": {},
     "output_type": "execute_result"
    }
   ],
   "source": [
    "ord(\"n\")-ord(\"a\")"
   ]
  },
  {
   "cell_type": "code",
   "execution_count": 54,
   "metadata": {},
   "outputs": [
    {
     "data": {
      "text/plain": [
       "97"
      ]
     },
     "execution_count": 54,
     "metadata": {},
     "output_type": "execute_result"
    }
   ],
   "source": [
    "ord(\"a\")"
   ]
  },
  {
   "cell_type": "code",
   "execution_count": 55,
   "metadata": {},
   "outputs": [
    {
     "data": {
      "text/plain": [
       "103"
      ]
     },
     "execution_count": 55,
     "metadata": {},
     "output_type": "execute_result"
    }
   ],
   "source": [
    "ord(\"g\")"
   ]
  },
  {
   "cell_type": "code",
   "execution_count": 2,
   "metadata": {},
   "outputs": [
    {
     "ename": "SyntaxError",
     "evalue": "can't assign to literal (<ipython-input-2-1d9cd3ce12d9>, line 1)",
     "output_type": "error",
     "traceback": [
      "\u001b[0;36m  File \u001b[0;32m\"<ipython-input-2-1d9cd3ce12d9>\"\u001b[0;36m, line \u001b[0;32m1\u001b[0m\n\u001b[0;31m    \"gin\" = \"--...-.\"\u001b[0m\n\u001b[0m                     ^\u001b[0m\n\u001b[0;31mSyntaxError\u001b[0m\u001b[0;31m:\u001b[0m can't assign to literal\n"
     ]
    }
   ],
   "source": [
    "\"gin\" = \"--...-.\"\n",
    "\"zen\" = \"--...-.\"\n",
    "\"gig\" = \"--...--.\"\n",
    "\"msg\" = \"--...--.\""
   ]
  },
  {
   "cell_type": "code",
   "execution_count": 1,
   "metadata": {},
   "outputs": [],
   "source": [
    "d=set()"
   ]
  },
  {
   "cell_type": "code",
   "execution_count": 3,
   "metadata": {},
   "outputs": [],
   "source": [
    "d.add(\"--...-.\")"
   ]
  },
  {
   "cell_type": "code",
   "execution_count": 4,
   "metadata": {},
   "outputs": [],
   "source": [
    "d.add(\"--...-.\")"
   ]
  },
  {
   "cell_type": "code",
   "execution_count": 5,
   "metadata": {},
   "outputs": [],
   "source": [
    "d.add(\"--...--.\")"
   ]
  },
  {
   "cell_type": "code",
   "execution_count": 6,
   "metadata": {},
   "outputs": [],
   "source": [
    "d.add(\"--...--.\")"
   ]
  },
  {
   "cell_type": "code",
   "execution_count": 7,
   "metadata": {},
   "outputs": [
    {
     "data": {
      "text/plain": [
       "{'--...--.', '--...-.'}"
      ]
     },
     "execution_count": 7,
     "metadata": {},
     "output_type": "execute_result"
    }
   ],
   "source": [
    "d"
   ]
  },
  {
   "cell_type": "code",
   "execution_count": 17,
   "metadata": {},
   "outputs": [
    {
     "name": "stdout",
     "output_type": "stream",
     "text": [
      "g\n",
      "i\n",
      "n\n",
      "z\n",
      "e\n",
      "n\n",
      "g\n",
      "i\n",
      "g\n",
      "m\n",
      "s\n",
      "g\n"
     ]
    }
   ],
   "source": [
    "words = [\"gin\", \"zen\", \"gig\", \"msg\"]\n",
    "for i in words:\n",
    "    for j in i:\n",
    "        print(j)"
   ]
  },
  {
   "cell_type": "code",
   "execution_count": 18,
   "metadata": {},
   "outputs": [
    {
     "data": {
      "text/plain": [
       "[<map at 0x10d275b50>,\n",
       " <map at 0x10d275a10>,\n",
       " <map at 0x10d275990>,\n",
       " <map at 0x10d275910>,\n",
       " <map at 0x10d275890>,\n",
       " <map at 0x10d275850>,\n",
       " <map at 0x10d2757d0>,\n",
       " <map at 0x10d275750>,\n",
       " <map at 0x10d2756d0>,\n",
       " <map at 0x10d275650>,\n",
       " <map at 0x10d275510>,\n",
       " <map at 0x10d2754d0>]"
      ]
     },
     "execution_count": 18,
     "metadata": {},
     "output_type": "execute_result"
    }
   ],
   "source": [
    "[map(str, j) for j in i for i in words]"
   ]
  },
  {
   "cell_type": "code",
   "execution_count": 22,
   "metadata": {},
   "outputs": [
    {
     "data": {
      "text/plain": [
       "[('.-', 'a'),\n",
       " ('-...', 'b'),\n",
       " ('-.-.', 'c'),\n",
       " ('-..', 'd'),\n",
       " ('.', 'e'),\n",
       " ('..-.', 'f'),\n",
       " ('--.', 'g'),\n",
       " ('....', 'h'),\n",
       " ('..', 'i'),\n",
       " ('.---', 'j'),\n",
       " ('-.-', 'k'),\n",
       " ('.-..', 'l'),\n",
       " ('--', 'm'),\n",
       " ('-.', 'n'),\n",
       " ('---', 'o'),\n",
       " ('.--.', 'p'),\n",
       " ('--.-', 'q'),\n",
       " ('.-.', 'r'),\n",
       " ('...', 's'),\n",
       " ('-', 't'),\n",
       " ('..-', 'u'),\n",
       " ('...-', 'v'),\n",
       " ('.--', 'w'),\n",
       " ('-..-', 'x'),\n",
       " ('-.--', 'y'),\n",
       " ('--..', 'z')]"
      ]
     },
     "execution_count": 22,
     "metadata": {},
     "output_type": "execute_result"
    }
   ],
   "source": [
    "import string\n",
    "\n",
    "d={}\n",
    "\n",
    "l=[\".-\",\"-...\",\"-.-.\",\"-..\",\".\",\"..-.\",\"--.\",\"....\",\"..\",\".---\",\"-.-\",\".-..\",\"--\",\"-.\",\"---\",\".--.\",\"--.-\",\".-.\",\"...\",\"-\",\"..-\",\"...-\",\".--\",\"-..-\",\"-.--\",\"--..\"]\n",
    "\n",
    "r=list(string.ascii_lowercase)\n",
    "\n",
    "\n",
    "list(zip(l, r))"
   ]
  },
  {
   "cell_type": "code",
   "execution_count": 24,
   "metadata": {},
   "outputs": [
    {
     "data": {
      "text/plain": [
       "{'a': '.-',\n",
       " 'b': '-...',\n",
       " 'c': '-.-.',\n",
       " 'd': '-..',\n",
       " 'e': '.',\n",
       " 'f': '..-.',\n",
       " 'g': '--.',\n",
       " 'h': '....',\n",
       " 'i': '..',\n",
       " 'j': '.---',\n",
       " 'k': '-.-',\n",
       " 'l': '.-..',\n",
       " 'm': '--',\n",
       " 'n': '-.',\n",
       " 'o': '---',\n",
       " 'p': '.--.',\n",
       " 'q': '--.-',\n",
       " 'r': '.-.',\n",
       " 's': '...',\n",
       " 't': '-',\n",
       " 'u': '..-',\n",
       " 'v': '...-',\n",
       " 'w': '.--',\n",
       " 'x': '-..-',\n",
       " 'y': '-.--',\n",
       " 'z': '--..'}"
      ]
     },
     "execution_count": 24,
     "metadata": {},
     "output_type": "execute_result"
    }
   ],
   "source": [
    "r=list(string.ascii_lowercase)\n",
    "d={}\n",
    "l=[\".-\",\"-...\",\"-.-.\",\"-..\",\".\",\"..-.\",\"--.\",\"....\",\"..\",\".---\",\"-.-\",\".-..\",\"--\",\"-.\",\"---\",\".--.\",\"--.-\",\".-.\",\"...\",\"-\",\"..-\",\"...-\",\".--\",\"-..-\",\"-.--\",\"--..\"]\n",
    "\n",
    "for i in range(len(r)):\n",
    "    d[r[i]]=l[i]\n",
    "    \n",
    "d"
   ]
  },
  {
   "cell_type": "code",
   "execution_count": null,
   "metadata": {},
   "outputs": [],
   "source": [
    "Alternative solution provided by Leetcode: Hash Set\n",
    "\n",
    "    \n",
    "We can transform each word into it's Morse Code representation.\n",
    "\n",
    "After, we put all transformations into a set seen, and return the size of the set.\n",
    "\n",
    "class Solution(object):\n",
    "    def uniqueMorseRepresentations(self, words):\n",
    "        MORSE = [\".-\",\"-...\",\"-.-.\",\"-..\",\".\",\"..-.\",\"--.\",\n",
    "                 \"....\",\"..\",\".---\",\"-.-\",\".-..\",\"--\",\"-.\",\n",
    "                 \"---\",\".--.\",\"--.-\",\".-.\",\"...\",\"-\",\"..-\",\n",
    "                 \"...-\",\".--\",\"-..-\",\"-.--\",\"--..\"]\n",
    "\n",
    "        seen = {\"\".join(MORSE[ord(c) - ord('a')] for c in word)\n",
    "                for word in words}\n",
    "\n",
    "        return len(seen)  \n",
    "    \n",
    "    \n",
    "    \n",
    "Why subtract every ascii character by ord('a')?\n",
    "    \n",
    "characters are ascii values that are just numbers. We want to translate this to array index. 'a' represents some \n",
    "number. if we do 'a' - 'a' we got 0. doing c - 'a', where c is any lower case character we get a range of values 0-25, \n",
    "which translate to our array of a-z.\n",
    "\n",
    "\n",
    "Complexity Analysis\n",
    "\n",
    "Time Complexity: O(S), where S is the sum of the lengths of words in words. We iterate through each character of \n",
    "each word in words.\n",
    "\n",
    "Space Complexity: O(S).\n",
    "\n",
    "\n",
    "\n",
    "\n"
   ]
  }
 ],
 "metadata": {
  "kernelspec": {
   "display_name": "Python 3",
   "language": "python",
   "name": "python3"
  },
  "language_info": {
   "codemirror_mode": {
    "name": "ipython",
    "version": 3
   },
   "file_extension": ".py",
   "mimetype": "text/x-python",
   "name": "python",
   "nbconvert_exporter": "python",
   "pygments_lexer": "ipython3",
   "version": "3.7.4"
  }
 },
 "nbformat": 4,
 "nbformat_minor": 2
}
