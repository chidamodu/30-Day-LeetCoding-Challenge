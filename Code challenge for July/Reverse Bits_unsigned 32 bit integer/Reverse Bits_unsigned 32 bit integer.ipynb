{
 "cells": [
  {
   "cell_type": "code",
   "execution_count": null,
   "metadata": {},
   "outputs": [],
   "source": [
    "Reverse bits of a given 32 bits unsigned integer.\n",
    "\n",
    "\n",
    "Example 1:\n",
    "Input: 00000010100101000001111010011100\n",
    "Output: 00111001011110000010100101000000\n",
    "Explanation: The input binary string 00000010100101000001111010011100 represents the unsigned integer 43261596, so \n",
    "return 964176192 which its binary representation is 00111001011110000010100101000000.\n",
    "\n",
    "Example 2:\n",
    "Input: 11111111111111111111111111111101\n",
    "Output: 10111111111111111111111111111111\n",
    "Explanation: The input binary string 11111111111111111111111111111101 represents the unsigned integer 4294967293, so \n",
    "return 3221225471 which its binary representation is 10111111111111111111111111111111.\n",
    "\n",
    "Follow up:\n",
    "If this function is called many times, how would you optimize it?"
   ]
  },
  {
   "cell_type": "code",
   "execution_count": 18,
   "metadata": {},
   "outputs": [],
   "source": [
    "def reverseBits(n):\n",
    "    return int(''.join(reversed(n)))"
   ]
  },
  {
   "cell_type": "code",
   "execution_count": 19,
   "metadata": {},
   "outputs": [
    {
     "data": {
      "text/plain": [
       "111001011110000010100101000000"
      ]
     },
     "execution_count": 19,
     "metadata": {},
     "output_type": "execute_result"
    }
   ],
   "source": [
    "reverseBits(\"00000010100101000001111010011100\")"
   ]
  },
  {
   "cell_type": "code",
   "execution_count": 53,
   "metadata": {},
   "outputs": [],
   "source": [
    "def reverseBits(n):\n",
    "    result = 0\n",
    "    for i in range(32):\n",
    "        result = (result << 1)^(n & 1)\n",
    "        print(result)\n",
    "        n >>= 1\n",
    "    return result\n",
    "    \n",
    "result\n",
    "Your runtime beats 20.96 % of python3 submissions.\n",
    "Runtime: 44 ms\n",
    "Memory Usage: 14 MB"
   ]
  },
  {
   "cell_type": "code",
   "execution_count": 44,
   "metadata": {},
   "outputs": [
    {
     "data": {
      "text/plain": [
       "1"
      ]
     },
     "execution_count": 44,
     "metadata": {},
     "output_type": "execute_result"
    }
   ],
   "source": [
    "0^1"
   ]
  },
  {
   "cell_type": "code",
   "execution_count": 54,
   "metadata": {},
   "outputs": [
    {
     "data": {
      "text/plain": [
       "0"
      ]
     },
     "execution_count": 54,
     "metadata": {},
     "output_type": "execute_result"
    }
   ],
   "source": [
    "0<<1"
   ]
  },
  {
   "cell_type": "code",
   "execution_count": 62,
   "metadata": {},
   "outputs": [
    {
     "name": "stdout",
     "output_type": "stream",
     "text": [
      "1\n",
      "2\n",
      "5\n",
      "11\n",
      "23\n",
      "46\n",
      "93\n",
      "187\n",
      "375\n",
      "751\n",
      "1503\n",
      "3006\n",
      "6012\n",
      "12025\n",
      "24051\n",
      "48102\n",
      "96205\n",
      "192411\n",
      "384823\n",
      "769647\n",
      "1539294\n",
      "3078588\n",
      "6157177\n",
      "12314354\n",
      "24628708\n",
      "49257416\n",
      "98514832\n",
      "197029665\n",
      "394059331\n",
      "788118663\n",
      "1576237327\n",
      "3152474654\n"
     ]
    }
   ],
   "source": [
    "out=0\n",
    "n=10000010100101000001111010011101\n",
    "for i in range(32):\n",
    "    out = (out << 1)^(n & 1)\n",
    "    print(out)\n",
    "    n>>=1\n",
    "#     print(n)\n",
    "    \n",
    "# print(out)"
   ]
  },
  {
   "cell_type": "code",
   "execution_count": null,
   "metadata": {},
   "outputs": [],
   "source": [
    "def reverseBits(self, n):\n",
    "        out = 0\n",
    "        for i in range(32):\n",
    "            out = (out << 1)^(n & 1)\n",
    "            n >>= 1\n",
    "        return out"
   ]
  }
 ],
 "metadata": {
  "kernelspec": {
   "display_name": "Python 3",
   "language": "python",
   "name": "python3"
  },
  "language_info": {
   "codemirror_mode": {
    "name": "ipython",
    "version": 3
   },
   "file_extension": ".py",
   "mimetype": "text/x-python",
   "name": "python",
   "nbconvert_exporter": "python",
   "pygments_lexer": "ipython3",
   "version": "3.7.4"
  }
 },
 "nbformat": 4,
 "nbformat_minor": 2
}
