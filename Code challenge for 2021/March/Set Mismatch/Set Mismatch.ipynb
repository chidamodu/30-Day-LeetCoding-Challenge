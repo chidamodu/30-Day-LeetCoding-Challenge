{
 "cells": [
  {
   "cell_type": "code",
   "execution_count": null,
   "metadata": {},
   "outputs": [],
   "source": [
    "You have a set of integers s, which originally contains all the numbers from 1 to n. Unfortunately, due to some error, \n",
    "one of the numbers in s got duplicated to another number in the set, which results in repetition of one number and \n",
    "loss of another number.\n",
    "\n",
    "You are given an integer array nums representing the data status of this set after the error.\n",
    "\n",
    "Find the number that occurs twice and the number that is missing and return them in the form of an array.\n",
    "\n",
    "Example 1:\n",
    "Input: nums = [1,2,2,4]\n",
    "Output: [2,3]\n",
    "\n",
    "Example 2:\n",
    "Input: nums = [1,1]\n",
    "Output: [1,2]\n",
    " \n",
    "Constraints:\n",
    "2 <= nums.length <= 104\n",
    "1 <= nums[i] <= 104\n"
   ]
  },
  {
   "cell_type": "code",
   "execution_count": 39,
   "metadata": {},
   "outputs": [],
   "source": [
    "Trial 1\n",
    "\n",
    "from collections import Counter\n",
    "def findErrorNums(nums):\n",
    "    result=[]\n",
    "\n",
    "    s=set(i for i in range(1, len(nums)+1))\n",
    "    d=Counter(nums)\n",
    "    for k, v in d.items():\n",
    "        if v>1:\n",
    "            result.append(k)\n",
    "            \n",
    "    result.append(list(s-set(d.keys()))[0])\n",
    "    \n",
    "    return result\n",
    "        \n",
    "        \n",
    "outcome:\n",
    "Your runtime beats 56.13 % of python3 submissions.\n",
    "Runtime: 204 ms\n",
    "Memory Usage: 16.9 MB\n",
    "    "
   ]
  },
  {
   "cell_type": "code",
   "execution_count": 40,
   "metadata": {},
   "outputs": [
    {
     "data": {
      "text/plain": [
       "[2, 3]"
      ]
     },
     "execution_count": 40,
     "metadata": {},
     "output_type": "execute_result"
    }
   ],
   "source": [
    "findErrorNums(nums = [1,2,2,4])"
   ]
  },
  {
   "cell_type": "code",
   "execution_count": 53,
   "metadata": {},
   "outputs": [],
   "source": [
    "# Stunning solution using math:\n",
    "    \n",
    "def findErrorNums(nums):\n",
    "    n=len(nums)\n",
    "    A=-sum(nums)+ n*(n+1)//2\n",
    "    B=-sum(i*i for i in nums)+ n*(n+1)*(2*n+1)//6\n",
    "    \n",
    "    return [(B-A*A)//2//A, (B+A*A)//2//A]\n",
    "\n",
    "outcome:\n",
    "Runtime: 180 ms\n",
    "Memory Usage: 15.5 MB\n",
    "Your runtime beats 94.45 % of python3 submissions. "
   ]
  },
  {
   "cell_type": "code",
   "execution_count": 54,
   "metadata": {},
   "outputs": [
    {
     "data": {
      "text/plain": [
       "[3, 1]"
      ]
     },
     "execution_count": 54,
     "metadata": {},
     "output_type": "execute_result"
    }
   ],
   "source": [
    "findErrorNums(nums = [3,2,3,4,6,5])"
   ]
  },
  {
   "cell_type": "code",
   "execution_count": 59,
   "metadata": {},
   "outputs": [],
   "source": [
    "# Can avoid the lot of calculations in trial 1 (although it is O(N) in time and space complexity:\n",
    "    \n",
    "from collections import Counter\n",
    "def findErrorNums(nums):\n",
    "    result=[]\n",
    "    d=Counter(nums)\n",
    "    \n",
    "    missing=duplicate=0                                         \n",
    "                                              \n",
    "    for i in range(1, len(nums)+1):\n",
    "        if i not in d:\n",
    "            missing=i\n",
    "        elif d[i]>1:\n",
    "            duplicate=i\n",
    "            \n",
    "    return [duplicate, missing]\n",
    "            \n",
    "outcome:\n",
    "Your runtime beats 82.20 % of python3 submissions.\n",
    "Runtime: 188 ms\n",
    "Memory Usage: 15.8 MB\n",
    "    \n",
    "    \n",
    "Time: O(N)\n",
    "Space: O(N)\n",
    "    "
   ]
  },
  {
   "cell_type": "code",
   "execution_count": 60,
   "metadata": {},
   "outputs": [
    {
     "data": {
      "text/plain": [
       "[3, 1]"
      ]
     },
     "execution_count": 60,
     "metadata": {},
     "output_type": "execute_result"
    }
   ],
   "source": [
    "findErrorNums(nums = [3,2,3,4,6,5])"
   ]
  },
  {
   "cell_type": "code",
   "execution_count": 67,
   "metadata": {},
   "outputs": [],
   "source": [
    "# Can we do in Constant space without using Counter/dictionary?\n",
    "\n",
    "\n",
    "def findErrorNums(nums):\n",
    "    n=len(nums)\n",
    "    \n",
    "    missing=duplicate=0\n",
    "    \n",
    "    for x in nums:\n",
    "        if nums[abs(x)-1]<0:\n",
    "            duplicate=abs(x)\n",
    "            \n",
    "        else:\n",
    "            nums[abs(x)-1]*=-1\n",
    "          \n",
    "    \n",
    "    for i in range(1, n+1):\n",
    "        if nums[i-1]>0:\n",
    "            missing=i\n",
    "            break;\n",
    "            \n",
    "    return [duplicate, missing]\n",
    "        \n",
    "    \n",
    "    \n",
    "Time: O(N)\n",
    "Space: O(1)\n",
    "    "
   ]
  },
  {
   "cell_type": "code",
   "execution_count": 68,
   "metadata": {},
   "outputs": [
    {
     "data": {
      "text/plain": [
       "[3, 1]"
      ]
     },
     "execution_count": 68,
     "metadata": {},
     "output_type": "execute_result"
    }
   ],
   "source": [
    "findErrorNums(nums = [3,2,3,4,6,5])"
   ]
  }
 ],
 "metadata": {
  "kernelspec": {
   "display_name": "Python 3",
   "language": "python",
   "name": "python3"
  },
  "language_info": {
   "codemirror_mode": {
    "name": "ipython",
    "version": 3
   },
   "file_extension": ".py",
   "mimetype": "text/x-python",
   "name": "python",
   "nbconvert_exporter": "python",
   "pygments_lexer": "ipython3",
   "version": "3.7.4"
  }
 },
 "nbformat": 4,
 "nbformat_minor": 2
}
