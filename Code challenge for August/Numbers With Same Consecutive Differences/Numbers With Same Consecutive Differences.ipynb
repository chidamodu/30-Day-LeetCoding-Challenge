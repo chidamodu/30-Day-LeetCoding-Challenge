{
 "cells": [
  {
   "cell_type": "code",
   "execution_count": null,
   "metadata": {},
   "outputs": [],
   "source": [
    "Return all non-negative integers of length N such that the absolute difference between every two consecutive digits is \n",
    "K.\n",
    "\n",
    "Note that every number in the answer must not have leading zeros except for the number 0 itself. For example, 01 has \n",
    "one leading zero and is invalid, but 0 is valid.\n",
    "\n",
    "You may return the answer in any order.\n",
    "\n",
    " \n",
    "\n",
    "Example 1:\n",
    "Input: N = 3, K = 7\n",
    "Output: [181,292,707,818,929]\n",
    "Explanation: Note that 070 is not a valid number, because it has leading zeroes.\n",
    "\n",
    "Example 2:\n",
    "Input: N = 2, K = 1\n",
    "Output: [10,12,21,23,32,34,43,45,54,56,65,67,76,78,87,89,98]\n",
    " \n",
    "\n",
    "Note:\n",
    "1 <= N <= 9\n",
    "0 <= K <= 9"
   ]
  },
  {
   "cell_type": "code",
   "execution_count": 9,
   "metadata": {},
   "outputs": [],
   "source": [
    "def numsSameConsecDiff(N, K):\n",
    "    result=[]\n",
    "    \n",
    "    if N==1: result.append(0)\n",
    "        \n",
    "    def dfs(num, N):\n",
    "        if N==0:\n",
    "            result.append(num)\n",
    "            return\n",
    "        \n",
    "        lastd=num%10\n",
    "        if lastd>=K: dfs(num*10+lastd-K, N-1)\n",
    "        if K>0 and lastd+K<10: dfs(num*10+lastd+K, N-1)\n",
    "            \n",
    "    for x in range(1, 10):\n",
    "        dfs(x, N-1)\n",
    "        \n",
    "    return result\n",
    "\n",
    "result:\n",
    "Your runtime beats 97.22 % of python3 submissions.\n",
    "Runtime: 32 ms\n",
    "Memory Usage: 14.1 MB"
   ]
  },
  {
   "cell_type": "code",
   "execution_count": 10,
   "metadata": {},
   "outputs": [
    {
     "data": {
      "text/plain": [
       "[181, 292, 707, 818, 929]"
      ]
     },
     "execution_count": 10,
     "metadata": {},
     "output_type": "execute_result"
    }
   ],
   "source": [
    "numsSameConsecDiff(3, 7)"
   ]
  }
 ],
 "metadata": {
  "kernelspec": {
   "display_name": "Python 3",
   "language": "python",
   "name": "python3"
  },
  "language_info": {
   "codemirror_mode": {
    "name": "ipython",
    "version": 3
   },
   "file_extension": ".py",
   "mimetype": "text/x-python",
   "name": "python",
   "nbconvert_exporter": "python",
   "pygments_lexer": "ipython3",
   "version": "3.7.4"
  }
 },
 "nbformat": 4,
 "nbformat_minor": 2
}
