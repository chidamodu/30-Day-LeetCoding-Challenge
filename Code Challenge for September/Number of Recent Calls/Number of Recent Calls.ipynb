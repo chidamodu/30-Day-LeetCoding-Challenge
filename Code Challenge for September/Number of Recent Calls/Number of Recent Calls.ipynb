{
 "cells": [
  {
   "cell_type": "code",
   "execution_count": null,
   "metadata": {},
   "outputs": [],
   "source": [
    "You have a RecentCounter class which counts the number of recent requests within a certain time frame.\n",
    "\n",
    "Implement the RecentCounter class:\n",
    "\n",
    "RecentCounter() Initializes the counter with zero recent requests.\n",
    "int ping(int t) Adds a new request at time t, where t represents some time in milliseconds, and returns the number of \n",
    "requests that has happened in the past 3000 milliseconds (including the new request). \n",
    "Specifically, return the number of requests that have happened in the inclusive range [t - 3000, t].\n",
    "It is guaranteed that every call to ping uses a strictly larger value of t than the previous call.\n",
    "\n",
    "\n",
    "Example 1:\n",
    "Input\n",
    "[\"RecentCounter\", \"ping\", \"ping\", \"ping\", \"ping\"]\n",
    "[[], [1], [100], [3001], [3002]]\n",
    "Output\n",
    "[null, 1, 2, 3, 3]\n",
    "\n",
    "Explanation\n",
    "RecentCounter recentCounter = new RecentCounter();\n",
    "recentCounter.ping(1);     // requests = [1], range is [-2999,1], return 1\n",
    "recentCounter.ping(100);   // requests = [1, 100], range is [-2900,100], return 2\n",
    "recentCounter.ping(3001);  // requests = [1, 100, 3001], range is [1,3001], return 3\n",
    "recentCounter.ping(3002);  // requests = [1, 100, 3001, 3002], range is [2,3002], return 3\n",
    " \n",
    "\n",
    "Constraints:\n",
    "1 <= t <= 109\n",
    "Each test case will call ping with strictly increasing values of t.\n",
    "At most 104 calls will be made to ping."
   ]
  },
  {
   "cell_type": "code",
   "execution_count": 3,
   "metadata": {},
   "outputs": [],
   "source": [
    "Trial - this is why we need a class to do such kind of problems. i.e., you need to remember all the values that were \n",
    "the results of previous pings.\n",
    "\n",
    "def ping(t):\n",
    "    already_seen=[]\n",
    "    already_seen.append(t)\n",
    "    result=[]\n",
    "    c=0\n",
    "    \n",
    "    for i in already_seen:\n",
    "        if i > (t - 3000) and i <= t:\n",
    "            c+=1\n",
    "            result.append(c)\n",
    "            \n",
    "    return result"
   ]
  },
  {
   "cell_type": "code",
   "execution_count": 4,
   "metadata": {},
   "outputs": [
    {
     "data": {
      "text/plain": [
       "[1]"
      ]
     },
     "execution_count": 4,
     "metadata": {},
     "output_type": "execute_result"
    }
   ],
   "source": [
    "ping(200)"
   ]
  },
  {
   "cell_type": "code",
   "execution_count": null,
   "metadata": {},
   "outputs": [],
   "source": [
    "invalid ping\n",
    "\n",
    "your max number of pigs have exceeded: you have exceeded the limit"
   ]
  },
  {
   "cell_type": "code",
   "execution_count": 5,
   "metadata": {},
   "outputs": [],
   "source": [
    "Trial\n",
    "class RecentCounter:\n",
    "\n",
    "    def __init__(self):\n",
    "        self.queue=[]\n",
    "        \n",
    "    def ping(self, t: int) -> int:\n",
    "        self.queue.append(t)\n",
    "        \n",
    "        while self.queue[0] < t-3000:\n",
    "            self.queue.pop(0)\n",
    "            \n",
    "        return len(self.queue)\n",
    "        \n",
    "\n",
    "\n",
    "# Your RecentCounter object will be instantiated and called as such:\n",
    "# obj = RecentCounter()\n",
    "# param_1 = obj.ping(t)"
   ]
  },
  {
   "cell_type": "code",
   "execution_count": null,
   "metadata": {},
   "outputs": [],
   "source": [
    "Submission with self.queue as a list\n",
    "\n",
    "class RecentCounter:\n",
    "\n",
    "    def __init__(self):\n",
    "        self.queue=[]\n",
    "        \n",
    "\n",
    "    def ping(self, t: int) -> int:\n",
    "        self.queue.append(t)\n",
    "        \n",
    "        while self.queue[0] < t-3000:\n",
    "            self.queue.pop(0)\n",
    "            \n",
    "        return len(self.queue)\n",
    "        \n",
    "\n",
    "\n",
    "# Your RecentCounter object will be instantiated and called as such:\n",
    "# obj = RecentCounter()\n",
    "# param_1 = obj.ping(t)\n",
    "\n",
    "result\n",
    "Your runtime beats 92.35 % of python3 submissions.\n",
    "Runtime: 292 ms\n",
    "Memory Usage: 18.7 MB"
   ]
  },
  {
   "cell_type": "code",
   "execution_count": null,
   "metadata": {},
   "outputs": [],
   "source": [
    "Submission with self.queue as a deque (from collections) what is the difference? well speed!\n",
    "\n",
    "class RecentCounter:\n",
    "    from collections import deque\n",
    "\n",
    "    def __init__(self):\n",
    "        self.queue=deque()\n",
    "        \n",
    "\n",
    "    def ping(self, t: int) -> int:\n",
    "        self.queue.append(t)\n",
    "        \n",
    "        while self.queue[0] < t-3000:\n",
    "            self.queue.popleft()\n",
    "            \n",
    "        return len(self.queue)\n",
    "        \n",
    "\n",
    "\n",
    "# Your RecentCounter object will be instantiated and called as such:\n",
    "# obj = RecentCounter()\n",
    "# param_1 = obj.ping(t)\n",
    "\n",
    "result\n",
    "Your runtime beats 98.78 % of python3 submissions.\n",
    "Runtime: 276 ms\n",
    "Memory Usage: 19 MB"
   ]
  }
 ],
 "metadata": {
  "kernelspec": {
   "display_name": "Python 3",
   "language": "python",
   "name": "python3"
  },
  "language_info": {
   "codemirror_mode": {
    "name": "ipython",
    "version": 3
   },
   "file_extension": ".py",
   "mimetype": "text/x-python",
   "name": "python",
   "nbconvert_exporter": "python",
   "pygments_lexer": "ipython3",
   "version": "3.7.4"
  }
 },
 "nbformat": 4,
 "nbformat_minor": 2
}
