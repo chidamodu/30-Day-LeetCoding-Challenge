{
 "cells": [
  {
   "cell_type": "code",
   "execution_count": null,
   "metadata": {},
   "outputs": [],
   "source": [
    "Two images A and B are given, represented as binary, square matrices of the same size. \n",
    "(A binary matrix has only 0s and 1s as values.)\n",
    "\n",
    "We translate one image however we choose (sliding it left, right, up, or down any number of units), and place it on \n",
    "top of the other image.  After, the overlap of this translation is the number of positions that have a 1 in both \n",
    "images.\n",
    "\n",
    "(Note also that a translation does not include any kind of rotation.)\n",
    "\n",
    "What is the largest possible overlap?\n",
    "\n",
    "Example 1:\n",
    "\n",
    "Input: A = [[1,1,0],\n",
    "            [0,1,0],\n",
    "            [0,1,0]]\n",
    "       B = [[0,0,0],\n",
    "            [0,1,1],\n",
    "            [0,0,1]]\n",
    "Output: 3\n",
    "Explanation: We slide A to right by 1 unit and down by 1 unit.\n",
    "\n",
    "Notes: \n",
    "1 <= A.length = A[0].length = B.length = B[0].length <= 30\n",
    "0 <= A[i][j], B[i][j] <= 1"
   ]
  },
  {
   "cell_type": "code",
   "execution_count": 2,
   "metadata": {},
   "outputs": [],
   "source": [
    "def largestOverlap(A, B):\n",
    "    def image_shift(AA, BB):\n",
    "        n, count_val=len(AA), 0\n",
    "        for x in range(n):\n",
    "            for y in range(n):\n",
    "                tmp=0\n",
    "                for i in range(y, n):\n",
    "                    for j in range(x, n):\n",
    "                        if AA[i][j]==1 and BB[i-y][j-x]==1: tmp+=1\n",
    "                count_val=max(count_val, tmp)\n",
    "        return count_val\n",
    "    return max(image_shift(A, B), image_shift(B, A))\n",
    "        \n",
    "# result:\n",
    "# Your runtime beats 57.95 % of python3 submissions.\n",
    "# Runtime: 432 ms\n",
    "# Memory Usage: 14 MB"
   ]
  },
  {
   "cell_type": "code",
   "execution_count": 3,
   "metadata": {},
   "outputs": [
    {
     "data": {
      "text/plain": [
       "3"
      ]
     },
     "execution_count": 3,
     "metadata": {},
     "output_type": "execute_result"
    }
   ],
   "source": [
    "A = [[1,1,0],\n",
    "            [0,1,0],\n",
    "            [0,1,0]]\n",
    "B = [[0,0,0],\n",
    "    [0,1,1],\n",
    "    [0,0,1]]\n",
    "\n",
    "largestOverlap(A, B)"
   ]
  },
  {
   "cell_type": "code",
   "execution_count": null,
   "metadata": {},
   "outputs": [],
   "source": []
  }
 ],
 "metadata": {
  "kernelspec": {
   "display_name": "Python 3",
   "language": "python",
   "name": "python3"
  },
  "language_info": {
   "codemirror_mode": {
    "name": "ipython",
    "version": 3
   },
   "file_extension": ".py",
   "mimetype": "text/x-python",
   "name": "python",
   "nbconvert_exporter": "python",
   "pygments_lexer": "ipython3",
   "version": "3.7.4"
  }
 },
 "nbformat": 4,
 "nbformat_minor": 2
}
