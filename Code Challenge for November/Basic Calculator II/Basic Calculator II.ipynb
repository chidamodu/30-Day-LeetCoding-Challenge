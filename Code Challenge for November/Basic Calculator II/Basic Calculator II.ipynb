{
 "cells": [
  {
   "cell_type": "code",
   "execution_count": null,
   "metadata": {},
   "outputs": [],
   "source": [
    "Implement a basic calculator to evaluate a simple expression string.\n",
    "\n",
    "The expression string contains only non-negative integers, +, -, *, / operators and empty spaces . The integer \n",
    "division should truncate toward zero.\n",
    "\n",
    "Example 1:\n",
    "Input: \"3+2*2\"\n",
    "Output: 7\n",
    "\n",
    "Example 2:\n",
    "Input: \" 3/2 \"\n",
    "Output: 1\n",
    "\n",
    "Example 3:\n",
    "Input: \" 3+5 / 2 \"\n",
    "Output: 5\n",
    "\n",
    "Note:\n",
    "You may assume that the given expression is always valid.\n",
    "Do not use the eval built-in library function."
   ]
  },
  {
   "cell_type": "code",
   "execution_count": 35,
   "metadata": {},
   "outputs": [],
   "source": [
    "class Solution:\n",
    "    def calculate(self, s: str) -> int:\n",
    "        op = '+'\n",
    "        pre = cur = res = 0\n",
    "        for c in s+'+':\n",
    "            if c.isdigit():\n",
    "                cur = 10*cur + int(c)\n",
    "            elif c != ' ':\n",
    "                if op == '+' or op == '-': \n",
    "                    res += pre\n",
    "                    pre = cur if op == '+' else -cur\n",
    "                else:\n",
    "                    pre = pre*cur if op == '*' else int(pre/cur)\n",
    "                cur, op = 0, c\n",
    "        return res+pre\n",
    "        \n",
    "    \n",
    "    "
   ]
  }
 ],
 "metadata": {
  "kernelspec": {
   "display_name": "Python 3",
   "language": "python",
   "name": "python3"
  },
  "language_info": {
   "codemirror_mode": {
    "name": "ipython",
    "version": 3
   },
   "file_extension": ".py",
   "mimetype": "text/x-python",
   "name": "python",
   "nbconvert_exporter": "python",
   "pygments_lexer": "ipython3",
   "version": "3.7.4"
  }
 },
 "nbformat": 4,
 "nbformat_minor": 2
}
