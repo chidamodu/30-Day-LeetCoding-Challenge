{
 "cells": [
  {
   "cell_type": "code",
   "execution_count": null,
   "metadata": {},
   "outputs": [],
   "source": [
    "You are driving a vehicle that has capacity empty seats initially available for passengers.  The vehicle only drives \n",
    "east (ie. it cannot turn around and drive west.)\n",
    "\n",
    "Given a list of trips, trip[i] = [num_passengers, start_location, end_location] contains information about the \n",
    "i-th trip: the number of passengers that must be picked up, and the locations to pick them up and drop them off.  \n",
    "The locations are given as the number of kilometers due east from your vehicle's initial location.\n",
    "\n",
    "Return true if and only if it is possible to pick up and drop off all passengers for all the given trips. \n",
    "\n",
    "Example 1:\n",
    "Input: trips = [[2,1,5],[3,3,7]], capacity = 4\n",
    "Output: false\n",
    "\n",
    "Example 2:\n",
    "Input: trips = [[2,1,5],[3,3,7]], capacity = 5\n",
    "Output: true\n",
    "\n",
    "Example 3:\n",
    "Input: trips = [[2,1,5],[3,5,7]], capacity = 3\n",
    "Output: true\n",
    "\n",
    "Example 4:\n",
    "Input: trips = [[3,2,7],[3,7,9],[8,3,9]], capacity = 11\n",
    "Output: true\n",
    " \n",
    " \n",
    "\n",
    "Constraints:\n",
    "trips.length <= 1000\n",
    "trips[i].length == 3\n",
    "1 <= trips[i][0] <= 100\n",
    "0 <= trips[i][1] < trips[i][2] <= 1000\n",
    "1 <= capacity <= 100000\n",
    "\n",
    "Hint #1  \n",
    "Sort the pickup and dropoff events by location, then process them in order.\n"
   ]
  },
  {
   "cell_type": "code",
   "execution_count": null,
   "metadata": {},
   "outputs": [],
   "source": [
    "Approach: Time Stamp\n",
    "\n",
    "Intuition\n",
    "\n",
    "A simple idea is to go through from the start to end, and check if the actual capacity exceeds capacity.\n",
    "\n",
    "To know the actual capacity, we just need the number of passengers changed at each timestamp.\n",
    "\n",
    "We can save the number of passengers changed at each time, sort it by timestamp, and finally iterate it to check the \n",
    "actual capacity.\n",
    "\n",
    "Algorithm\n",
    "\n",
    "We will initialize a list to store the number of passengers changed and the corresponding timestamp and then sort it.\n",
    "\n",
    "Note that in Java, we do not have a nice API to do this. However, we can use a TreeMap, which can help us to sort \n",
    "during insertion. You can use a PriorityQueue instead.\n",
    "\n",
    "Finally, we just need to iterate from the start timestamp to the end timestamp and check if the actual capacity meets \n",
    "the condition.\n",
    "\n"
   ]
  },
  {
   "cell_type": "code",
   "execution_count": null,
   "metadata": {},
   "outputs": [],
   "source": [
    "class Solution:\n",
    "    def carPooling(self, trips: List[List[int]], capacity: int) -> bool:\n",
    "        timestamp = []\n",
    "        for trip in trips:\n",
    "            timestamp.append([trip[1], trip[0]])\n",
    "            timestamp.append([trip[2], -trip[0]])\n",
    "\n",
    "        timestamp.sort()\n",
    "\n",
    "        used_capacity = 0\n",
    "        for time, passenger_change in timestamp:\n",
    "            used_capacity += passenger_change\n",
    "            if used_capacity > capacity:\n",
    "                return False\n",
    "\n",
    "        return True"
   ]
  },
  {
   "cell_type": "code",
   "execution_count": null,
   "metadata": {},
   "outputs": [],
   "source": [
    "Complexity Analysis\n",
    "\n",
    "Assume N is the length of trips.\n",
    "\n",
    "Time complexity: \n",
    "O(Nlog(N)) since we need to iterate over trips and sort our timestamp. Iterating costs O(N), and sorting \n",
    "costs \\mathcal{O(N\\log(N)), and adding together we have O(N)+O(Nlog(N))=O(Nlog(N)).\n",
    "\n",
    "Space complexity: \n",
    "O(N) since in the worst case we need O(N) to store timestamp."
   ]
  }
 ],
 "metadata": {
  "kernelspec": {
   "display_name": "Python 3",
   "language": "python",
   "name": "python3"
  },
  "language_info": {
   "codemirror_mode": {
    "name": "ipython",
    "version": 3
   },
   "file_extension": ".py",
   "mimetype": "text/x-python",
   "name": "python",
   "nbconvert_exporter": "python",
   "pygments_lexer": "ipython3",
   "version": "3.7.4"
  }
 },
 "nbformat": 4,
 "nbformat_minor": 2
}
