{
 "cells": [
  {
   "cell_type": "code",
   "execution_count": 1,
   "metadata": {},
   "outputs": [],
   "source": [
    "O(n)=nlog(n)\n",
    "\n",
    "def majorityElement(nums):\n",
    "    nums=sorted(nums)\n",
    "    \n",
    "    return nums[len(nums)//2]"
   ]
  },
  {
   "cell_type": "code",
   "execution_count": 2,
   "metadata": {},
   "outputs": [
    {
     "data": {
      "text/plain": [
       "3"
      ]
     },
     "execution_count": 2,
     "metadata": {},
     "output_type": "execute_result"
    }
   ],
   "source": [
    "majorityElement([3,2,3])"
   ]
  },
  {
   "cell_type": "code",
   "execution_count": 3,
   "metadata": {},
   "outputs": [
    {
     "data": {
      "text/plain": [
       "2"
      ]
     },
     "execution_count": 3,
     "metadata": {},
     "output_type": "execute_result"
    }
   ],
   "source": [
    "majorityElement([2,2,1,1,1,2,2])"
   ]
  },
  {
   "cell_type": "code",
   "execution_count": 4,
   "metadata": {},
   "outputs": [
    {
     "data": {
      "text/plain": [
       "1"
      ]
     },
     "execution_count": 4,
     "metadata": {},
     "output_type": "execute_result"
    }
   ],
   "source": [
    "3//2"
   ]
  },
  {
   "cell_type": "code",
   "execution_count": 5,
   "metadata": {},
   "outputs": [
    {
     "data": {
      "text/plain": [
       "3"
      ]
     },
     "execution_count": 5,
     "metadata": {},
     "output_type": "execute_result"
    }
   ],
   "source": [
    "7//2"
   ]
  },
  {
   "cell_type": "code",
   "execution_count": null,
   "metadata": {},
   "outputs": [],
   "source": [
    "\n",
    "This solution is provided by Leetcode: divide and conquer approach\n",
    "    \n",
    "O(n)=nlog(n)\n",
    "\n",
    "class Solution:\n",
    "    def majorityElement(self, nums, lo=0, hi=None):\n",
    "        def majority_element_rec(lo, hi):\n",
    "            # base case; the only element in an array of size 1 is the majority\n",
    "            # element.\n",
    "            if lo == hi:\n",
    "                return nums[lo]\n",
    "\n",
    "            # recurse on left and right halves of this slice.\n",
    "            mid = (hi-lo)//2 + lo\n",
    "            left = majority_element_rec(lo, mid)\n",
    "            right = majority_element_rec(mid+1, hi)\n",
    "\n",
    "            # if the two halves agree on the majority element, return it.\n",
    "            if left == right:\n",
    "                return left\n",
    "\n",
    "            # otherwise, count each element and return the \"winner\".\n",
    "            left_count = sum(1 for i in range(lo, hi+1) if nums[i] == left)\n",
    "            right_count = sum(1 for i in range(lo, hi+1) if nums[i] == right)\n",
    "\n",
    "            return left if left_count > right_count else right\n",
    "\n",
    "        return majority_element_rec(0, len(nums)-1)\n",
    "\n",
    "\n",
    "Your runtime beats 7.00 % of python3 submissions.\n",
    "Runtime: 296 ms\n",
    "Memory Usage: 15.5 MB"
   ]
  }
 ],
 "metadata": {
  "kernelspec": {
   "display_name": "Python 3",
   "language": "python",
   "name": "python3"
  },
  "language_info": {
   "codemirror_mode": {
    "name": "ipython",
    "version": 3
   },
   "file_extension": ".py",
   "mimetype": "text/x-python",
   "name": "python",
   "nbconvert_exporter": "python",
   "pygments_lexer": "ipython3",
   "version": "3.7.4"
  }
 },
 "nbformat": 4,
 "nbformat_minor": 2
}
