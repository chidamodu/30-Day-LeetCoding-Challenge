{
 "cells": [
  {
   "cell_type": "code",
   "execution_count": null,
   "metadata": {},
   "outputs": [],
   "source": [
    "Given two numbers, hour and minutes. Return the smaller angle (in degrees) formed between the hour and the minute hand.\n",
    "\n",
    "Input: hour = 12, minutes = 30\n",
    "Output: 165\n",
    "    \n",
    "Input: hour = 3, minutes = 30\n",
    "Output: 75\n",
    "    \n",
    "Input: hour = 3, minutes = 15\n",
    "Output: 7.5\n",
    "    \n",
    "Input: hour = 4, minutes = 50\n",
    "Output: 155\n",
    "    \n",
    "Input: hour = 12, minutes = 0\n",
    "Output: 0\n",
    " \n",
    "\n",
    "Constraints:\n",
    "1 <= hour <= 12\n",
    "0 <= minutes <= 59\n",
    "Answers within 10^-5 of the actual value will be accepted as correct."
   ]
  },
  {
   "cell_type": "code",
   "execution_count": 1,
   "metadata": {},
   "outputs": [],
   "source": [
    "#Yay my solution rocks. thanks to my math skills/gmat knowledge\n",
    "\n",
    "def angleClock(hour,minutes):\n",
    "    formula=abs((11*minutes)/2 - 30*hour)\n",
    "    return 360-formula if formula>180 else formula\n",
    "    \n",
    "Your runtime beats 76.63 % of python3 submissions.\n",
    "Runtime: 28 ms\n",
    "Memory Usage: 13.9 MB"
   ]
  },
  {
   "cell_type": "code",
   "execution_count": 2,
   "metadata": {},
   "outputs": [
    {
     "data": {
      "text/plain": [
       "155.0"
      ]
     },
     "execution_count": 2,
     "metadata": {},
     "output_type": "execute_result"
    }
   ],
   "source": [
    "angleClock(4, 50)"
   ]
  },
  {
   "cell_type": "code",
   "execution_count": null,
   "metadata": {},
   "outputs": [],
   "source": [
    "some context re the formula:\n",
    "\n",
    "There is general formula for this, (though no need to memorize):\n",
    "\n",
    "(11/2)*m − (30*h)\n",
    "\n",
    "\n",
    "If the result is greater than 180 degrees, subtract it from 360 to get the included angle. \n",
    "\n",
    "The above can be derived from the fact that:\n",
    "In 1 minute:\n",
    "Hour hand moves 0.5 degrees,\n",
    "Minute hand moves 6 degrees.\n",
    "\n",
    "AND\n",
    "\n",
    "In an hour:\n",
    "Hour hand moves 30 degrees,\n",
    "Minute hand moves 360 degrees.\n"
   ]
  }
 ],
 "metadata": {
  "kernelspec": {
   "display_name": "Python 3",
   "language": "python",
   "name": "python3"
  },
  "language_info": {
   "codemirror_mode": {
    "name": "ipython",
    "version": 3
   },
   "file_extension": ".py",
   "mimetype": "text/x-python",
   "name": "python",
   "nbconvert_exporter": "python",
   "pygments_lexer": "ipython3",
   "version": "3.7.4"
  }
 },
 "nbformat": 4,
 "nbformat_minor": 2
}
