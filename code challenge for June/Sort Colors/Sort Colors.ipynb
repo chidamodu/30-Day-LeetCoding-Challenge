{
 "cells": [
  {
   "cell_type": "code",
   "execution_count": null,
   "metadata": {},
   "outputs": [],
   "source": [
    "Given an array with n objects colored red, white or blue, sort them in-place so that objects of the same color are \n",
    "adjacent, with the colors in the order red, white and blue.\n",
    "\n",
    "Here, we will use the integers 0, 1, and 2 to represent the color red, white, and blue respectively.\n",
    "\n",
    "Note: You are not suppose to use the librarys sort function for this problem.\n",
    "\n",
    "\n",
    "Example:\n",
    "\n",
    "Input: [2,0,2,1,1,0]\n",
    "Output: [0,0,1,1,2,2]\n",
    "\n",
    "\n",
    "Follow up:\n",
    "\n",
    "A rather straight forward solution is a two-pass algorithm using counting sort.\n",
    "\n",
    "First, iterate the array counting number of 0s, 1s, and 2s, then overwrite array with total number of 0s, then 1s \n",
    "and followed by 2s.\n",
    "\n",
    "Could you come up with a one-pass algorithm using only constant space?"
   ]
  },
  {
   "cell_type": "code",
   "execution_count": 39,
   "metadata": {},
   "outputs": [],
   "source": [
    "def sort_colors(nums):\n",
    "    left=0\n",
    "    right=len(nums)-1\n",
    "    i=0\n",
    "    while i<=right:\n",
    "        if nums[i]==0:\n",
    "            nums[left], nums[i]=nums[i], nums[left]\n",
    "            left+=1\n",
    "            i+=1\n",
    "            \n",
    "        elif nums[i]==2:\n",
    "            nums[right], nums[i]=nums[i], nums[right]\n",
    "            right-=1\n",
    "               \n",
    "        else:\n",
    "            i+=1 \n",
    "    return nums\n",
    "                \n",
    "                \n",
    "                \n",
    "result:\n",
    "Your runtime beats 70.11 % of python3 submissions.\n",
    "Runtime: 32 ms\n",
    "Memory Usage: 14 MB\n",
    "    "
   ]
  },
  {
   "cell_type": "code",
   "execution_count": 40,
   "metadata": {},
   "outputs": [
    {
     "data": {
      "text/plain": [
       "[0, 0, 1, 1, 2, 2]"
      ]
     },
     "execution_count": 40,
     "metadata": {},
     "output_type": "execute_result"
    }
   ],
   "source": [
    "sort_colors([2,1,0,2,1,0])"
   ]
  }
 ],
 "metadata": {
  "kernelspec": {
   "display_name": "Python 3",
   "language": "python",
   "name": "python3"
  },
  "language_info": {
   "codemirror_mode": {
    "name": "ipython",
    "version": 3
   },
   "file_extension": ".py",
   "mimetype": "text/x-python",
   "name": "python",
   "nbconvert_exporter": "python",
   "pygments_lexer": "ipython3",
   "version": "3.7.4"
  }
 },
 "nbformat": 4,
 "nbformat_minor": 2
}
