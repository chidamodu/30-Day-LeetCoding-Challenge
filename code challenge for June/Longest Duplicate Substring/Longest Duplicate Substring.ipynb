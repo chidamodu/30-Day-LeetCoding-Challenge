{
 "cells": [
  {
   "cell_type": "code",
   "execution_count": null,
   "metadata": {},
   "outputs": [],
   "source": [
    "Given a string S, consider all duplicated substrings: (contiguous) substrings of S that occur 2 or more times. \n",
    "(The occurrences may overlap.)\n",
    "\n",
    "Return any duplicated substring that has the longest possible length.  (If S does not have a duplicated substring, \n",
    "                                                                        the answer is \"\".)\n",
    "\n",
    " \n",
    "\n",
    "Example 1:\n",
    "Input: \"banana\"\n",
    "Output: \"ana\"\n",
    "\n",
    "Example 2:\n",
    "Input: \"abcd\"\n",
    "Output: \"\"\n",
    " \n",
    "\n",
    "Note:\n",
    "2 <= S.length <= 10^5\n",
    "S consists of lowercase English letters."
   ]
  },
  {
   "cell_type": "code",
   "execution_count": 19,
   "metadata": {},
   "outputs": [],
   "source": [
    "class Solution:\n",
    "    def longestDupSubstring(self, S: str) -> str:\n",
    "        def search(m, MOD):\n",
    "            h = 0\n",
    "            for i in range(m):\n",
    "                h = (h * 26 + nums[i]) % MOD\n",
    "            s = {h}\n",
    "            aL = pow(26, m, MOD)\n",
    "            for pos in range(1, n - m + 1):\n",
    "                h = (h * 26 - nums[pos - 1] * aL + nums[pos + m - 1]) % MOD\n",
    "                if h in s:\n",
    "                    return pos\n",
    "                s.add(h)\n",
    "            return -1\n",
    "\n",
    "        n = len(S)\n",
    "        nums = [ord(c) - ord('a') for c in S]\n",
    "        l, r = 1, n\n",
    "        pos = -1\n",
    "        MOD = 2**63 - 1\n",
    "        while l <= r:\n",
    "            m = (l + r) // 2\n",
    "            cur = search(m, MOD)\n",
    "            if cur != -1:\n",
    "                l = m + 1\n",
    "                pos = cur\n",
    "            else:\n",
    "                r = m - 1\n",
    "        return S[pos: pos + l - 1]\n",
    "        \n",
    "            \n",
    "                    \n",
    "Your runtime beats 69.91 % of python3 submissions.\n",
    "Runtime: 1424 ms\n",
    "Memory Usage: 26.5 MB"
   ]
  },
  {
   "cell_type": "code",
   "execution_count": 20,
   "metadata": {},
   "outputs": [
    {
     "data": {
      "text/plain": [
       "{'anan': 1, 'na': 1, '': 1}"
      ]
     },
     "execution_count": 20,
     "metadata": {},
     "output_type": "execute_result"
    }
   ],
   "source": [
    "longestDupSubstring(\"banana\")"
   ]
  },
  {
   "cell_type": "code",
   "execution_count": 8,
   "metadata": {},
   "outputs": [
    {
     "data": {
      "text/plain": [
       "['b', 'n', 'n', '']"
      ]
     },
     "execution_count": 8,
     "metadata": {},
     "output_type": "execute_result"
    }
   ],
   "source": [
    "S=\"banana\"\n",
    "S.split(\"a\")"
   ]
  }
 ],
 "metadata": {
  "kernelspec": {
   "display_name": "Python 3",
   "language": "python",
   "name": "python3"
  },
  "language_info": {
   "codemirror_mode": {
    "name": "ipython",
    "version": 3
   },
   "file_extension": ".py",
   "mimetype": "text/x-python",
   "name": "python",
   "nbconvert_exporter": "python",
   "pygments_lexer": "ipython3",
   "version": "3.7.4"
  }
 },
 "nbformat": 4,
 "nbformat_minor": 2
}
