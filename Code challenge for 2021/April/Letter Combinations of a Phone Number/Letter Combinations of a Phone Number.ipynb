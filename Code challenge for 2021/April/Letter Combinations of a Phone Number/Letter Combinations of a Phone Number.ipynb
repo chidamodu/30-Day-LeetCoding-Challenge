{
 "cells": [
  {
   "cell_type": "markdown",
   "metadata": {},
   "source": [
    "Given a string containing digits from 2-9 inclusive, return all possible letter combinations that the number could represent. Return the answer in any order.\n",
    "\n",
    "A mapping of digit to letters (just like on the telephone buttons) is given below. Note that 1 does not map to any letters.\n",
    "\n",
    "Example 1:\n",
    "Input: digits = \"23\"\n",
    "Output: [\"ad\",\"ae\",\"af\",\"bd\",\"be\",\"bf\",\"cd\",\"ce\",\"cf\"]\n",
    "\n",
    "Example 2:\n",
    "Input: digits = \"\"\n",
    "Output: []\n",
    "\n",
    "Example 3:\n",
    "Input: digits = \"2\"\n",
    "Output: [\"a\",\"b\",\"c\"]\n",
    " \n",
    "Constraints:\n",
    "0 <= digits.length <= 4\n",
    "digits[i] is a digit in the range ['2', '9']."
   ]
  },
  {
   "cell_type": "code",
   "execution_count": 28,
   "metadata": {},
   "outputs": [
    {
     "data": {
      "text/plain": [
       "['ad', 'ae', 'af', 'bd', 'be', 'bf', 'cd', 'ce', 'cf']"
      ]
     },
     "execution_count": 28,
     "metadata": {},
     "output_type": "execute_result"
    }
   ],
   "source": [
    "Bruteforce but of course will lead to O(N^2) time complexity for two digit input\n",
    "\n",
    "second=['d','e','f']\n",
    "result=[]\n",
    "\n",
    "for i in ['a', 'b', 'c']:\n",
    "    j=0\n",
    "    while j<3:\n",
    "        result.append((i+second[j]))\n",
    "        j+=1\n",
    "result\n",
    "        \n",
    "        \n",
    "    "
   ]
  },
  {
   "cell_type": "code",
   "execution_count": 41,
   "metadata": {},
   "outputs": [
    {
     "data": {
      "text/plain": [
       "['apm',\n",
       " 'apn',\n",
       " 'aom',\n",
       " 'aon',\n",
       " 'ahm',\n",
       " 'ahn',\n",
       " 'bpm',\n",
       " 'bpn',\n",
       " 'bom',\n",
       " 'bon',\n",
       " 'bhm',\n",
       " 'bhn',\n",
       " 'cpm',\n",
       " 'cpn',\n",
       " 'com',\n",
       " 'con',\n",
       " 'chm',\n",
       " 'chn',\n",
       " 'dpm',\n",
       " 'dpn',\n",
       " 'dom',\n",
       " 'don',\n",
       " 'dhm',\n",
       " 'dhn']"
      ]
     },
     "execution_count": 41,
     "metadata": {},
     "output_type": "execute_result"
    }
   ],
   "source": [
    "Amazing quality of product function in python\n",
    "\n",
    "[''.join(num) for num in list(product(*['abcd', 'poh', 'mn']))]#the * here is unpacking every string and then finding the product"
   ]
  },
  {
   "cell_type": "code",
   "execution_count": 46,
   "metadata": {},
   "outputs": [],
   "source": [
    "def letterCombinations(digits):\n",
    "    d={'2':'abc','3':'def','4':'ghi','5':'jkl','6':'mno','7':'pqrs','8':'tuv','9':'wxyz'}\n",
    "    return [''.join(num) for num in product(*[d[i] for i in digits])]\n",
    "\n",
    "\n",
    "outcome:\n",
    "Your runtime beats 95.02 % of python3 submissions.\n",
    "Runtime: 24 ms\n",
    "Memory Usage: 14.1 MB"
   ]
  },
  {
   "cell_type": "code",
   "execution_count": 47,
   "metadata": {},
   "outputs": [
    {
     "data": {
      "text/plain": [
       "['agj',\n",
       " 'agk',\n",
       " 'agl',\n",
       " 'ahj',\n",
       " 'ahk',\n",
       " 'ahl',\n",
       " 'aij',\n",
       " 'aik',\n",
       " 'ail',\n",
       " 'bgj',\n",
       " 'bgk',\n",
       " 'bgl',\n",
       " 'bhj',\n",
       " 'bhk',\n",
       " 'bhl',\n",
       " 'bij',\n",
       " 'bik',\n",
       " 'bil',\n",
       " 'cgj',\n",
       " 'cgk',\n",
       " 'cgl',\n",
       " 'chj',\n",
       " 'chk',\n",
       " 'chl',\n",
       " 'cij',\n",
       " 'cik',\n",
       " 'cil']"
      ]
     },
     "execution_count": 47,
     "metadata": {},
     "output_type": "execute_result"
    }
   ],
   "source": [
    "letterCombinations(digits = \"245\")"
   ]
  }
 ],
 "metadata": {
  "kernelspec": {
   "display_name": "Python 3",
   "language": "python",
   "name": "python3"
  },
  "language_info": {
   "codemirror_mode": {
    "name": "ipython",
    "version": 3
   },
   "file_extension": ".py",
   "mimetype": "text/x-python",
   "name": "python",
   "nbconvert_exporter": "python",
   "pygments_lexer": "ipython3",
   "version": "3.7.4"
  }
 },
 "nbformat": 4,
 "nbformat_minor": 2
}
