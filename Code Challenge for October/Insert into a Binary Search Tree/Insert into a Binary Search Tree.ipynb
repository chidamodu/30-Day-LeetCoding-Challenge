{
 "cells": [
  {
   "cell_type": "code",
   "execution_count": null,
   "metadata": {},
   "outputs": [],
   "source": [
    "You are given the root node of a binary search tree (BST) and a value to insert into the tree. Return the root node \n",
    "of the BST after the insertion. It is guaranteed that the new value does not exist in the original BST.\n",
    "\n",
    "Notice that there may exist multiple valid ways for the insertion, as long as the tree remains a BST after insertion. \n",
    "You can return any of them.\n",
    "\n",
    "Example 1:\n",
    "Input: root = [4,2,7,1,3], val = 5\n",
    "Output: [4,2,7,1,3,5]\n",
    "Explanation: Another accepted tree is:\n",
    "\n",
    "Example 2:\n",
    "Input: root = [40,20,60,10,30,50,70], val = 25\n",
    "Output: [40,20,60,10,30,50,70,null,null,25]\n",
    "\n",
    "Example 3:\n",
    "Input: root = [4,2,7,1,3,null,null,null,null,null,null], val = 5\n",
    "Output: [4,2,7,1,3,5]\n",
    " \n",
    "\n",
    "Constraints:\n",
    "The number of nodes in the tree will be in the range [0, 104].\n",
    "-108 <= Node.val <= 108\n",
    "All the values Node.val are unique.\n",
    "-108 <= val <= 108\n",
    "It's guaranteed that val does not exist in the original BST."
   ]
  },
  {
   "cell_type": "code",
   "execution_count": null,
   "metadata": {},
   "outputs": [],
   "source": [
    "Recursive solution\n",
    "\n",
    "# Definition for a binary tree node.\n",
    "# class TreeNode:\n",
    "#     def __init__(self, val=0, left=None, right=None):\n",
    "#         self.val = val\n",
    "#         self.left = left\n",
    "#         self.right = right\n",
    "class Solution:\n",
    "    def insertIntoBST(self, root: TreeNode, val: int) -> TreeNode:\n",
    "        if not root:\n",
    "            return TreeNode(val)\n",
    "        \n",
    "        elif val>root.val:\n",
    "            root.right=self.insertIntoBST(root.right, val)\n",
    "            \n",
    "        else:\n",
    "            root.left=self.insertIntoBST(root.left, val)\n",
    "            \n",
    "        return root\n",
    "    \n",
    "result:\n",
    "Your runtime beats 99.26 % of python3 submissions.\n",
    "Runtime: 124 ms\n",
    "Memory Usage: 16.4 MB"
   ]
  }
 ],
 "metadata": {
  "kernelspec": {
   "display_name": "Python 3",
   "language": "python",
   "name": "python3"
  },
  "language_info": {
   "codemirror_mode": {
    "name": "ipython",
    "version": 3
   },
   "file_extension": ".py",
   "mimetype": "text/x-python",
   "name": "python",
   "nbconvert_exporter": "python",
   "pygments_lexer": "ipython3",
   "version": "3.7.4"
  }
 },
 "nbformat": 4,
 "nbformat_minor": 2
}
