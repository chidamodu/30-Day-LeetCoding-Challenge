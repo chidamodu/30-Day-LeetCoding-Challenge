{
 "cells": [
  {
   "cell_type": "code",
   "execution_count": null,
   "metadata": {},
   "outputs": [],
   "source": [
    "Given inorder and postorder traversal of a tree, construct the binary tree.\n",
    "\n",
    "Note:\n",
    "You may assume that duplicates do not exist in the tree.\n",
    "\n",
    "For example, given\n",
    "\n",
    "inorder = [9,3,15,20,7]\n",
    "postorder = [9,15,7,20,3]\n",
    "\n",
    "Return the following binary tree:\n",
    "\n",
    "    3\n",
    "   / \\\n",
    "  9  20\n",
    "    /  \\\n",
    "   15   7"
   ]
  },
  {
   "cell_type": "code",
   "execution_count": null,
   "metadata": {},
   "outputs": [],
   "source": [
    "Alternative solution sending indices of values in the tree rather than the values\n",
    "\n",
    "# Definition for a binary tree node.\n",
    "# class TreeNode:\n",
    "#     def __init__(self, val=0, left=None, right=None):\n",
    "#         self.val = val\n",
    "#         self.left = left\n",
    "#         self.right = right\n",
    "class Solution:\n",
    "    def recursive_tree_building(self, in_start, in_end, post_start, post_end):\n",
    "        if in_start >= in_end or post_start >= post_end: return None\n",
    "        root=TreeNode(self.postorder[post_end-1])\n",
    "        inorder_order=self.inorder.index(self.postorder[post_end-1])\n",
    "        diff=inorder_order-in_start\n",
    "        root.left=self.recursive_tree_building(in_start, in_start+diff, post_start, post_start+diff)\n",
    "        root.right=self.recursive_tree_building(in_start+diff+1, in_end, post_start+diff, post_end-1)\n",
    "        return root\n",
    "    \n",
    "    def buildTree(self, inorder: List[int], postorder: List[int]) -> TreeNode:\n",
    "        n=len(postorder)\n",
    "        if n==0: return None\n",
    "        self.inorder=inorder\n",
    "        self.postorder=postorder\n",
    "        return self.recursive_tree_building(0, n, 0, n)\n",
    "\n",
    "result:\n",
    "Your runtime beats 59.94 % of python3 submissions.\n",
    "Runtime: 116 ms\n",
    "Memory Usage: 18 MB"
   ]
  }
 ],
 "metadata": {
  "kernelspec": {
   "display_name": "Python 3",
   "language": "python",
   "name": "python3"
  },
  "language_info": {
   "codemirror_mode": {
    "name": "ipython",
    "version": 3
   },
   "file_extension": ".py",
   "mimetype": "text/x-python",
   "name": "python",
   "nbconvert_exporter": "python",
   "pygments_lexer": "ipython3",
   "version": "3.7.4"
  }
 },
 "nbformat": 4,
 "nbformat_minor": 2
}
