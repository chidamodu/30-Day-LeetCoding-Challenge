{
 "cells": [
  {
   "cell_type": "code",
   "execution_count": null,
   "metadata": {},
   "outputs": [],
   "source": [
    "Given an array of integers nums and an integer k, return the number of unique k-diff pairs in the array.\n",
    "\n",
    "A k-diff pair is an integer pair (nums[i], nums[j]), where the following are true:\n",
    "\n",
    "0 <= i, j < nums.length\n",
    "i != j\n",
    "a <= b\n",
    "b - a == k\n",
    " \n",
    "\n",
    "Example 1:\n",
    "\n",
    "Input: nums = [3,1,4,1,5], k = 2\n",
    "Output: 2\n",
    "Explanation: There are two 2-diff pairs in the array, (1, 3) and (3, 5).\n",
    "Although we have two 1s in the input, we should only return the number of unique pairs.\n",
    "\n",
    "Example 2:\n",
    "Input: nums = [1,2,3,4,5], k = 1\n",
    "Output: 4\n",
    "Explanation: There are four 1-diff pairs in the array, (1, 2), (2, 3), (3, 4) and (4, 5).\n",
    "\n",
    "Example 3:\n",
    "Input: nums = [1,3,1,5,4], k = 0\n",
    "Output: 1\n",
    "Explanation: There is one 0-diff pair in the array, (1, 1).\n",
    "\n",
    "Example 4:\n",
    "Input: nums = [1,2,4,4,3,3,0,9,2,3], k = 3\n",
    "Output: 2\n",
    "\n",
    "Example 5:\n",
    "Input: nums = [-1,-2,-3], k = 1\n",
    "Output: 2\n",
    " \n",
    "\n",
    "Constraints:\n",
    "1 <= nums.length <= 104\n",
    "-107 <= nums[i] <= 107\n",
    "0 <= k <= 107"
   ]
  },
  {
   "cell_type": "code",
   "execution_count": 16,
   "metadata": {},
   "outputs": [],
   "source": [
    "def findPairs(nums, k):\n",
    "    nums=sorted(nums)\n",
    "    \n",
    "    start=1\n",
    "    result=0\n",
    "    \n",
    "    while start<=len(nums)-1:\n",
    "        if nums[start]-nums[start-1]==k:\n",
    "            result+=1\n",
    "        start+=1\n",
    "            \n",
    "    return result\n",
    "            \n",
    "            "
   ]
  },
  {
   "cell_type": "code",
   "execution_count": 17,
   "metadata": {},
   "outputs": [
    {
     "data": {
      "text/plain": [
       "1"
      ]
     },
     "execution_count": 17,
     "metadata": {},
     "output_type": "execute_result"
    }
   ],
   "source": [
    "findPairs(nums = [3,1,4,1,5], k = 2)"
   ]
  },
  {
   "cell_type": "code",
   "execution_count": null,
   "metadata": {},
   "outputs": [],
   "source": [
    "def findPairs(self, nums: List[int], k: int) -> int:\n",
    "        count = Counter(nums)\n",
    "        if k > 0:\n",
    "            result = sum([i + k in count for i in count])\n",
    "        else:\n",
    "            result = sum([count[i] > 1 for i in count])\n",
    "        return result\n",
    "        \n",
    "outcome:\n",
    "Runtime: 72 ms\n",
    "Memory Usage: 15.5 MB\n",
    "Your runtime beats 99.24 % of python3 submissions.  "
   ]
  },
  {
   "cell_type": "code",
   "execution_count": null,
   "metadata": {},
   "outputs": [],
   "source": [
    "\n",
    "Complexity: time and space complexity is O(n), because we traverse our array twice: first time to create counter and \n",
    "second to find res.\n",
    "        \n",
    "        "
   ]
  }
 ],
 "metadata": {
  "kernelspec": {
   "display_name": "Python 3",
   "language": "python",
   "name": "python3"
  },
  "language_info": {
   "codemirror_mode": {
    "name": "ipython",
    "version": 3
   },
   "file_extension": ".py",
   "mimetype": "text/x-python",
   "name": "python",
   "nbconvert_exporter": "python",
   "pygments_lexer": "ipython3",
   "version": "3.7.4"
  }
 },
 "nbformat": 4,
 "nbformat_minor": 2
}
