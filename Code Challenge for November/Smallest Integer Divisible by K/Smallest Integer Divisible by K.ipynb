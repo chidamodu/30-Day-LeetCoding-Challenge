{
 "cells": [
  {
   "cell_type": "code",
   "execution_count": null,
   "metadata": {},
   "outputs": [],
   "source": [
    "Given a positive integer K, you need to find the length of the smallest positive integer N such that N is divisible \n",
    "by K, and N only contains the digit 1.\n",
    "\n",
    "Return the length of N. If there is no such N, return -1.\n",
    "\n",
    "Note: N may not fit in a 64-bit signed integer.\n",
    "\n",
    "\n",
    "Example 1:\n",
    "Input: K = 1\n",
    "Output: 1\n",
    "Explanation: The smallest answer is N = 1, which has length 1.\n",
    "\n",
    "Example 2:\n",
    "Input: K = 2\n",
    "Output: -1\n",
    "Explanation: There is no such positive integer N divisible by 2.\n",
    "\n",
    "Example 3:\n",
    "Input: K = 3\n",
    "Output: 3\n",
    "Explanation: The smallest answer is N = 111, which has length 3.\n",
    " \n",
    "\n",
    "Constraints:\n",
    "1 <= K <= 105\n",
    "\n",
    "Hint #1  \n",
    "11111 = 1111 * 10 + 1 We only need to store remainders modulo K.\n",
    "\n",
    "Hint #2  \n",
    "If we never get a remainder of 0, why would that happen, and how would we know that?\n"
   ]
  },
  {
   "cell_type": "code",
   "execution_count": null,
   "metadata": {},
   "outputs": [],
   "source": [
    "Trial-very simple component not the entire solution\n",
    "\n",
    "def smallestRepunitDivByK(self, K: int) -> int:\n",
    "        res=\"\"\n",
    "        for i in range(K):\n",
    "            res+=str(1)\n",
    "        \n",
    "        return len(res) if int(res)%K==0 else -1\n",
    "        \n",
    "        "
   ]
  },
  {
   "cell_type": "code",
   "execution_count": 44,
   "metadata": {},
   "outputs": [],
   "source": [
    "Almost there: thinking along the right track\n",
    "\n",
    "def smallestRepunitDivByK(K):\n",
    "    res=str(1)\n",
    "    prev=0\n",
    "    \n",
    "    while True:\n",
    "        cur=int(res)%K\n",
    "        \n",
    "        if cur==0:\n",
    "            return len(res)\n",
    "        \n",
    "        elif cur!=prev and cur<K:#this will run infinitely because it isalways true that the remainders are always less \n",
    "            #than K\n",
    "            res+=str(1)\n",
    "            \n",
    "        else:#in case of equal remainders it reaches the else part and breaks but it is possible that for numbers\n",
    "            #like 900 the remainders are not equal at all and therefore the loop keeps running without exit\n",
    "            break;\n",
    "        \n",
    "        prev=cur         \n",
    "        \n",
    "    return -1\n",
    "        \n",
    "    \n",
    "received error: Time Limit Exceeded "
   ]
  },
  {
   "cell_type": "code",
   "execution_count": 45,
   "metadata": {},
   "outputs": [
    {
     "data": {
      "text/plain": [
       "-1"
      ]
     },
     "execution_count": 45,
     "metadata": {},
     "output_type": "execute_result"
    }
   ],
   "source": [
    "smallestRepunitDivByK(100)"
   ]
  },
  {
   "cell_type": "code",
   "execution_count": 48,
   "metadata": {},
   "outputs": [],
   "source": [
    "Final submission\n",
    "\n",
    "def smallestRepunitDivByK(K):\n",
    "    if (K%2==0) or (K%5==0):\n",
    "        return -1\n",
    "    \n",
    "    rem, length=1, 1\n",
    "    \n",
    "    while (rem%K != 0):\n",
    "        rem=(rem*10 +1)%K\n",
    "        length+=1\n",
    "        \n",
    "    return length"
   ]
  },
  {
   "cell_type": "code",
   "execution_count": 49,
   "metadata": {},
   "outputs": [
    {
     "data": {
      "text/plain": [
       "-1"
      ]
     },
     "execution_count": 49,
     "metadata": {},
     "output_type": "execute_result"
    }
   ],
   "source": [
    "smallestRepunitDivByK(900)"
   ]
  },
  {
   "cell_type": "code",
   "execution_count": null,
   "metadata": {},
   "outputs": [],
   "source": [
    "Reasonings:\n",
    "\n",
    "Because the remainder can never be greater than K? It will always take a value among 0,1,2, .... K-1.\n",
    "https://en.wikipedia.org/wiki/Modular_arithmetic\n",
    "https://en.wikipedia.org/wiki/Modulo_operation\n",
    "Remainders (mods) are invariant under addition and multiplication.\n",
    "(a + b) mod n = [(a mod n) + (b mod n)] mod n.\n",
    "(ab) mod n = [(a mod n)(b mod n)] mod n."
   ]
  },
  {
   "cell_type": "code",
   "execution_count": null,
   "metadata": {},
   "outputs": [],
   "source": [
    "Algorithm\n",
    "\n",
    "remainder = 1\n",
    "length_N = 1\n",
    "\n",
    "seen_remainders = set()\n",
    "\n",
    "while remainder%K != 0\n",
    "    N = remainder*10 + 1\n",
    "    remainder = N%K\n",
    "    length_N += 1\n",
    "\n",
    "    if remainder in seen_remainders\n",
    "        return -1\n",
    "    else\n",
    "        seen_remainders.add(remainder)\n",
    "\n",
    "return length_N"
   ]
  }
 ],
 "metadata": {
  "kernelspec": {
   "display_name": "Python 3",
   "language": "python",
   "name": "python3"
  },
  "language_info": {
   "codemirror_mode": {
    "name": "ipython",
    "version": 3
   },
   "file_extension": ".py",
   "mimetype": "text/x-python",
   "name": "python",
   "nbconvert_exporter": "python",
   "pygments_lexer": "ipython3",
   "version": "3.7.4"
  }
 },
 "nbformat": 4,
 "nbformat_minor": 2
}
