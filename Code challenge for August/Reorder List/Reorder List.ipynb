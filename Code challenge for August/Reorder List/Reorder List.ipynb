{
 "cells": [
  {
   "cell_type": "code",
   "execution_count": null,
   "metadata": {},
   "outputs": [],
   "source": [
    "Given a singly linked list L: L0→L1→…→Ln-1→Ln,\n",
    "reorder it to: L0→Ln→L1→Ln-1→L2→Ln-2→…\n",
    "\n",
    "You may not modify the values in the list's nodes, only nodes itself may be changed.\n",
    "\n",
    "Example 1:\n",
    "Given 1->2->3->4, reorder it to 1->4->2->3.\n",
    "\n",
    "Example 2:\n",
    "Given 1->2->3->4->5, reorder it to 1->5->2->4->3."
   ]
  },
  {
   "cell_type": "code",
   "execution_count": 6,
   "metadata": {},
   "outputs": [],
   "source": [
    "\n",
    "def reorderList(head):\n",
    "    if head==None or head.next==None: return \n",
    "    \n",
    "    h1, h2=head, head\n",
    "    while h1 != None and h1.next != None:\n",
    "        h2=h2.next\n",
    "        h1=h1.next.next\n",
    "        \n",
    "    prev, cur=None, h2\n",
    "    \n",
    "    while cur != None:\n",
    "        temp=cur.next\n",
    "        cur.next=prev\n",
    "        prev=cur\n",
    "        cur=temp\n",
    "        \n",
    "    n1, n2=head, prev\n",
    "    while n2.next != None:\n",
    "        temp=n1.next\n",
    "        n1.next=n2\n",
    "        n1=temp\n",
    "        temp=n2.next\n",
    "        n2.next=n1\n",
    "        n2=temp\n",
    "        \n",
    "result: \n",
    "Your runtime beats 5.12 % of python3 submissions.\n",
    "Runtime: 196 ms\n",
    "Memory Usage: 23.2 MB"
   ]
  },
  {
   "cell_type": "code",
   "execution_count": null,
   "metadata": {},
   "outputs": [],
   "source": [
    "reorderList(head)"
   ]
  }
 ],
 "metadata": {
  "kernelspec": {
   "display_name": "Python 3",
   "language": "python",
   "name": "python3"
  },
  "language_info": {
   "codemirror_mode": {
    "name": "ipython",
    "version": 3
   },
   "file_extension": ".py",
   "mimetype": "text/x-python",
   "name": "python",
   "nbconvert_exporter": "python",
   "pygments_lexer": "ipython3",
   "version": "3.7.4"
  }
 },
 "nbformat": 4,
 "nbformat_minor": 2
}
