{
 "cells": [
  {
   "cell_type": "code",
   "execution_count": null,
   "metadata": {},
   "outputs": [],
   "source": [
    "Given an integer n, return the number of strings of length n that consist only of vowels (a, e, i, o, u) and are \n",
    "lexicographically sorted.\n",
    "\n",
    "A string s is lexicographically sorted if for all valid i, s[i] is the same as or comes before s[i+1] in the alphabet.\n",
    "\n",
    "Example 1:\n",
    "Input: n = 1\n",
    "Output: 5\n",
    "Explanation: The 5 sorted strings that consist of vowels only are [\"a\",\"e\",\"i\",\"o\",\"u\"].\n",
    "\n",
    "Example 2:\n",
    "Input: n = 2\n",
    "Output: 15\n",
    "Explanation: The 15 sorted strings that consist of vowels only are\n",
    "[\"aa\",\"ae\",\"ai\",\"ao\",\"au\",\"ee\",\"ei\",\"eo\",\"eu\",\"ii\",\"io\",\"iu\",\"oo\",\"ou\",\"uu\"].\n",
    "Note that \"ea\" is not a valid string since 'e' comes after 'a' in the alphabet.\n",
    "\n",
    "Example 3:\n",
    "Input: n = 33\n",
    "Output: 66045\n",
    " \n",
    "Constraints:\n",
    "1 <= n <= 50 \n",
    "\n",
    "Hint #1  \n",
    "For each character, its possible values will depend on the value of its previous character, because it needs to be \n",
    "not smaller than it.\n",
    "\n",
    "Hint #2  \n",
    "Think backtracking. Build a recursive function count(n, last_character) that counts the number of valid strings of \n",
    "length n and whose first characters are not less than last_character.\n",
    "\n",
    "Hint #3  \n",
    "In this recursive function, iterate on the possible characters for the first character, which will be all the vowels \n",
    "not less than last_character, and for each possible value c, increase the answer by count(n-1, c).\n"
   ]
  },
  {
   "cell_type": "code",
   "execution_count": 9,
   "metadata": {},
   "outputs": [],
   "source": [
    "Using recursive function and backtracking concept\n",
    "\n",
    "def countVowelStrings(n):\n",
    "    \n",
    "    def helper(n, vowel):\n",
    "        if n==0:\n",
    "            return 1\n",
    "        \n",
    "        result=0\n",
    "    \n",
    "        for i in range(vowel, 5):\n",
    "            result+=helper(n-1, i)\n",
    "        return result\n",
    "        \n",
    "    return helper(n, 0)\n",
    "\n",
    "\n",
    "outcome:\n",
    "Your runtime beats 16.08 % of python3 submissions.\n",
    "Runtime: 5080 ms (you can see the difference between using factorial Vs. recursive function)\n",
    "Memory Usage: 14.2 MB"
   ]
  },
  {
   "cell_type": "code",
   "execution_count": 10,
   "metadata": {},
   "outputs": [
    {
     "data": {
      "text/plain": [
       "5"
      ]
     },
     "execution_count": 10,
     "metadata": {},
     "output_type": "execute_result"
    }
   ],
   "source": [
    "countVowelStrings(1)"
   ]
  },
  {
   "cell_type": "code",
   "execution_count": null,
   "metadata": {},
   "outputs": [],
   "source": [
    "Alternative solution using the combinatorial formula\n",
    "\n",
    "\n",
    "class Solution:\n",
    "    def countVowelStrings(self, n):\n",
    "        return factorial(4+n)//factorial(4)//factorial(n)\n",
    "\n",
    "\n",
    "outcome:\n",
    "Your runtime beats 69.21 % of python3 submissions.\n",
    "Runtime: 32 ms\n",
    "Memory Usage: 14.2 MB\n",
    "    \n",
    "Complexity: time and space complexity is O(1)"
   ]
  }
 ],
 "metadata": {
  "kernelspec": {
   "display_name": "Python 3",
   "language": "python",
   "name": "python3"
  },
  "language_info": {
   "codemirror_mode": {
    "name": "ipython",
    "version": 3
   },
   "file_extension": ".py",
   "mimetype": "text/x-python",
   "name": "python",
   "nbconvert_exporter": "python",
   "pygments_lexer": "ipython3",
   "version": "3.7.4"
  }
 },
 "nbformat": 4,
 "nbformat_minor": 2
}
