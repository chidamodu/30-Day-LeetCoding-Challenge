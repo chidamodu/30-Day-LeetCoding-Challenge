{
 "cells": [
  {
   "cell_type": "code",
   "execution_count": null,
   "metadata": {},
   "outputs": [],
   "source": [
    "Subarray Sum Equals K\n",
    "\n",
    "Given an array of integers and an integer k, you need to find the total number of continuous subarrays whose sum \n",
    "equals to k.\n",
    "\n",
    "Example 1:\n",
    "\n",
    "Input:nums = [1,1,1], k = 2\n",
    "Output: 2\n",
    "Note:\n",
    "\n",
    "The length of the array is in range [1, 20,000].\n",
    "The range of numbers in the array is [-1000, 1000] and the range of the integer k is [-1e7, 1e7]."
   ]
  },
  {
   "cell_type": "code",
   "execution_count": 11,
   "metadata": {},
   "outputs": [],
   "source": [
    "why this wont work! because you will always find curr_sum in prefix_sum and it becomes a problem for k=0, as there will\n",
    "be curr_sum-k in prefix_sum always!\n",
    "\n",
    "def subarraySum(nums, k):\n",
    "    curr_sum=0\n",
    "    prefix_sum=[]\n",
    "    count_subarray=0\n",
    "    \n",
    "    for i in range(len(nums)):\n",
    "        curr_sum+=nums[i]\n",
    "        prefix_sum.append(curr_sum)\n",
    "        \n",
    "        if curr_sum==k:\n",
    "            count_subarray+=1\n",
    "            \n",
    "        elif curr_sum>k:\n",
    "            if curr_sum-k in prefix_sum:\n",
    "                count_subarray+=1\n",
    "                \n",
    "        else:\n",
    "            continue\n",
    "            \n",
    "    \n",
    "    return count_subarray         \n",
    "            \n",
    "        \n",
    "#[3,4,7,2,-3,1,4,2], 7        "
   ]
  },
  {
   "cell_type": "code",
   "execution_count": 12,
   "metadata": {},
   "outputs": [
    {
     "data": {
      "text/plain": [
       "1"
      ]
     },
     "execution_count": 12,
     "metadata": {},
     "output_type": "execute_result"
    }
   ],
   "source": [
    "subarraySum([1],0)"
   ]
  },
  {
   "cell_type": "code",
   "execution_count": null,
   "metadata": {},
   "outputs": [],
   "source": [
    "this works!\n",
    "\n",
    "def subarraySum(self, nums: List[int], k: int) -> int:\n",
    "        curr_sum=0\n",
    "        res=0\n",
    "        d={0:1}\n",
    "\n",
    "        for i in range(len(nums)):\n",
    "            curr_sum+=nums[i]\n",
    "            if curr_sum-k in d:\n",
    "                res+=d[curr_sum-k]\n",
    "            if curr_sum not in d:\n",
    "                d[curr_sum]=1\n",
    "            else:\n",
    "                d[curr_sum]+=1\n",
    "            \n",
    "        return res\n",
    "        "
   ]
  },
  {
   "cell_type": "code",
   "execution_count": null,
   "metadata": {},
   "outputs": [],
   "source": [
    "Leetcode submission same as the one in the immediate cell above but coded in the submission format\n",
    "\n",
    "class Solution:\n",
    "    def subarraySum(self, nums: List[int], k: int) -> int:\n",
    "        curr_sum=0\n",
    "        res=0\n",
    "        d={0:1}\n",
    "\n",
    "        for i in range(len(nums)):\n",
    "            curr_sum+=nums[i]\n",
    "            if curr_sum-k in d:\n",
    "                res+=d[curr_sum-k]\n",
    "            if curr_sum not in d:\n",
    "                d[curr_sum]=1\n",
    "            else:\n",
    "                d[curr_sum]+=1\n",
    "            \n",
    "        return res\n",
    "        \n",
    "        \n",
    "Your runtime beats 98.85 % of python3 submissions.\n",
    "80 / 80 test cases passed.\n",
    "Status: Accepted\n",
    "Runtime: 100 ms\n",
    "Memory Usage: 16.2 MB"
   ]
  }
 ],
 "metadata": {
  "kernelspec": {
   "display_name": "Python 3",
   "language": "python",
   "name": "python3"
  },
  "language_info": {
   "codemirror_mode": {
    "name": "ipython",
    "version": 3
   },
   "file_extension": ".py",
   "mimetype": "text/x-python",
   "name": "python",
   "nbconvert_exporter": "python",
   "pygments_lexer": "ipython3",
   "version": "3.7.4"
  }
 },
 "nbformat": 4,
 "nbformat_minor": 2
}
