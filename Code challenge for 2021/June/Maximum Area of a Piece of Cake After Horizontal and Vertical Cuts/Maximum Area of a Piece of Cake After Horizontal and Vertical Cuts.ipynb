{
 "cells": [
  {
   "cell_type": "code",
   "execution_count": null,
   "metadata": {},
   "outputs": [],
   "source": [
    "Given a rectangular cake with height h and width w, and two arrays of integers horizontalCuts and verticalCuts where \n",
    "horizontalCuts[i] is the distance from the top of the rectangular cake to the ith horizontal cut and similarly, \n",
    "verticalCuts[j] is the distance from the left of the rectangular cake to the jth vertical cut.\n",
    "\n",
    "Return the maximum area of a piece of cake after you cut at each horizontal and vertical position provided in the \n",
    "arrays horizontalCuts and verticalCuts. Since the answer can be a huge number, return this modulo 10^9 + 7.\n",
    "\n",
    "Example 1:\n",
    "Input: h = 5, w = 4, horizontalCuts = [1,2,4], verticalCuts = [1,3]\n",
    "Output: 4 \n",
    "Explanation: The figure above represents the given rectangular cake. Red lines are the horizontal and vertical cuts. \n",
    "After you cut the cake, the green piece of cake has the maximum area.\n",
    "\n",
    "Example 2:\n",
    "Input: h = 5, w = 4, horizontalCuts = [3,1], verticalCuts = [1]\n",
    "Output: 6\n",
    "Explanation: The figure above represents the given rectangular cake. Red lines are the horizontal and vertical cuts. \n",
    "After you cut the cake, the green and yellow pieces of cake have the maximum area.\n",
    "\n",
    "Example 3:\n",
    "Input: h = 5, w = 4, horizontalCuts = [3], verticalCuts = [3]\n",
    "Output: 9\n",
    " \n",
    "Constraints:\n",
    "2 <= h, w <= 10^9\n",
    "1 <= horizontalCuts.length < min(h, 10^5)\n",
    "1 <= verticalCuts.length < min(w, 10^5)\n",
    "1 <= horizontalCuts[i] < h\n",
    "1 <= verticalCuts[i] < w\n",
    "It is guaranteed that all elements in horizontalCuts are distinct.\n",
    "It is guaranteed that all elements in verticalCuts are distinct.\n",
    "\n",
    "Hint #1  \n",
    "Sort the arrays, then compute the maximum difference between two consecutive elements for horizontal cuts and vertical \n",
    "cuts.\n",
    "\n",
    "Hint #2  \n",
    "The answer is the product of these maximum values in horizontal cuts and vertical cuts.\n"
   ]
  },
  {
   "cell_type": "code",
   "execution_count": 43,
   "metadata": {},
   "outputs": [],
   "source": [
    "def maxArea(h, w, horizontalCuts, verticalCuts):\n",
    "    h_alt=sorted([0]+horizontalCuts+[h])\n",
    "    w_alt=sorted([0]+verticalCuts+[w])\n",
    "    \n",
    "    res1=max(j-i for i, j in zip(h_alt, h_alt[1:]))* max(m-k for k, m in zip(w_alt, w_alt[1:]))% (10**9 + 7)\n",
    "    \n",
    "    return res1"
   ]
  },
  {
   "cell_type": "code",
   "execution_count": 44,
   "metadata": {},
   "outputs": [
    {
     "data": {
      "text/plain": [
       "4"
      ]
     },
     "execution_count": 44,
     "metadata": {},
     "output_type": "execute_result"
    }
   ],
   "source": [
    "maxArea(h = 5, w = 4, horizontalCuts = [1,2,4], verticalCuts = [1,3])"
   ]
  }
 ],
 "metadata": {
  "kernelspec": {
   "display_name": "Python 3",
   "language": "python",
   "name": "python3"
  },
  "language_info": {
   "codemirror_mode": {
    "name": "ipython",
    "version": 3
   },
   "file_extension": ".py",
   "mimetype": "text/x-python",
   "name": "python",
   "nbconvert_exporter": "python",
   "pygments_lexer": "ipython3",
   "version": "3.7.4"
  }
 },
 "nbformat": 4,
 "nbformat_minor": 2
}
