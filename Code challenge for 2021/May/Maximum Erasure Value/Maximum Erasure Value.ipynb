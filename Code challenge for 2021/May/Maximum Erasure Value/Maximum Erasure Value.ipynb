{
 "cells": [
  {
   "cell_type": "code",
   "execution_count": null,
   "metadata": {},
   "outputs": [],
   "source": [
    "You are given an array of positive integers nums and want to erase a subarray containing unique elements. The score \n",
    "you get by erasing the subarray is equal to the sum of its elements.\n",
    "\n",
    "Return the maximum score you can get by erasing exactly one subarray.\n",
    "\n",
    "An array b is called to be a subarray of a if it forms a contiguous subsequence of a, that is, if it is equal to \n",
    "a[l],a[l+1],...,a[r] for some (l,r).\n",
    "\n",
    "Example 1:\n",
    "Input: nums = [4,2,4,5,6]\n",
    "Output: 17\n",
    "Explanation: The optimal subarray here is [2,4,5,6].\n",
    "\n",
    "Example 2:\n",
    "Input: nums = [5,2,1,2,5,2,1,2,5]\n",
    "Output: 8\n",
    "Explanation: The optimal subarray here is [5,2,1] or [1,2,5].\n",
    " \n",
    "Constraints:\n",
    "1 <= nums.length <= 105\n",
    "1 <= nums[i] <= 104\n",
    "\n",
    "Hint #1  \n",
    "The main point here is for the subarray to contain unique elements for each index. Only the first subarrays starting from that index have unique elements.\n",
    "\n",
    "Hint #2  \n",
    "This can be solved using the two pointers technique"
   ]
  },
  {
   "cell_type": "code",
   "execution_count": null,
   "metadata": {},
   "outputs": [],
   "source": [
    "class Solution:\n",
    "    def maximumUniqueSubarray(self, nums: List[int]) -> int:\n",
    "        seen = dict()\n",
    "        ans = sum_val = 0\n",
    "        l = 0\n",
    "        for r, x in enumerate(nums):\n",
    "            if x in seen:\n",
    "                index = seen[x]\n",
    "                while l <= index:  # Move the left side until index + 1\n",
    "                    del seen[nums[l]]\n",
    "                    sum_val -= nums[l]\n",
    "                    l += 1\n",
    "\n",
    "            seen[x] = r\n",
    "            sum_val += x\n",
    "            ans = max(ans, sum_val)\n",
    "        return ans\n",
    "        "
   ]
  },
  {
   "cell_type": "code",
   "execution_count": null,
   "metadata": {},
   "outputs": [],
   "source": [
    "Complexity\n",
    "Time: O(N), where N is number of elements in array nums.\n",
    "Space: O(M), where M <= N is the maximum number of distinct numbers in an subarray.\n"
   ]
  }
 ],
 "metadata": {
  "kernelspec": {
   "display_name": "Python 3",
   "language": "python",
   "name": "python3"
  },
  "language_info": {
   "codemirror_mode": {
    "name": "ipython",
    "version": 3
   },
   "file_extension": ".py",
   "mimetype": "text/x-python",
   "name": "python",
   "nbconvert_exporter": "python",
   "pygments_lexer": "ipython3",
   "version": "3.7.4"
  }
 },
 "nbformat": 4,
 "nbformat_minor": 2
}
