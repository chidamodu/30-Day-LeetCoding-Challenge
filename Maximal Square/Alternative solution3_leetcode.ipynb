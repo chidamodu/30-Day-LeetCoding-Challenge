{
 "cells": [
  {
   "cell_type": "code",
   "execution_count": 14,
   "metadata": {},
   "outputs": [],
   "source": [
    "Alternative solution:3 by leetcode\n",
    "    \n",
    "Instead of storing the result in another matrix with size (rows+1) and (columns+1), the leetcode suggests to store the result\n",
    "in a single array\n",
    "\n",
    "def maximalSquare(matrix):\n",
    "    length=len(matrix)\n",
    "    if length==0:\n",
    "        return 0\n",
    "    \n",
    "    n=len(matrix[0])\n",
    "    h=0\n",
    "    prev=0\n",
    "    \n",
    "#     answer_matrix=[[0]*(n+1) for _ in range(length+1)]\n",
    "    answer_matrix=[0]*(n+1)\n",
    "    \n",
    "    for i in range(1, length+1):\n",
    "        for j in range(1, n+1):\n",
    "            temp=answer_matrix[j]\n",
    "            if matrix[i-1][j-1]==\"1\":\n",
    "                answer_matrix[j]=min(min(answer_matrix[j-1], prev),answer_matrix[j]) +1\n",
    "                h=max(h, answer_matrix[j])\n",
    "                \n",
    "            else:\n",
    "                answer_matrix[j]=0\n",
    "                \n",
    "                \n",
    "            prev=temp\n",
    "                \n",
    "    \n",
    "    return h**2\n",
    "    \n",
    "Your runtime beats 53.59 % of python3 submissions.\n",
    "Runtime: 208 ms\n",
    "Memory Usage: 14.5 MB"
   ]
  },
  {
   "cell_type": "code",
   "execution_count": 15,
   "metadata": {},
   "outputs": [
    {
     "data": {
      "text/plain": [
       "4"
      ]
     },
     "execution_count": 15,
     "metadata": {},
     "output_type": "execute_result"
    }
   ],
   "source": [
    "maximalSquare([[\"1\",\"0\",\"1\",\"0\",\"0\"],[\"1\",\"0\",\"1\",\"1\",\"1\"],[\"1\",\"1\",\"1\",\"1\",\"1\"],[\"1\",\"0\",\"0\",\"1\",\"0\"]])"
   ]
  }
 ],
 "metadata": {
  "kernelspec": {
   "display_name": "Python 3",
   "language": "python",
   "name": "python3"
  },
  "language_info": {
   "codemirror_mode": {
    "name": "ipython",
    "version": 3
   },
   "file_extension": ".py",
   "mimetype": "text/x-python",
   "name": "python",
   "nbconvert_exporter": "python",
   "pygments_lexer": "ipython3",
   "version": "3.7.4"
  }
 },
 "nbformat": 4,
 "nbformat_minor": 2
}
