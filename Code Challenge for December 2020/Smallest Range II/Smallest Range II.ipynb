{
 "cells": [
  {
   "cell_type": "code",
   "execution_count": null,
   "metadata": {},
   "outputs": [],
   "source": [
    "Given an array A of integers, for each integer A[i] we need to choose either x = -K or x = K, and add x to A[i] \n",
    "(only once).\n",
    "\n",
    "After this process, we have some array B.\n",
    "\n",
    "Return the smallest possible difference between the maximum value of B and the minimum value of B.\n",
    "\n",
    "Example 1:\n",
    "Input: A = [1], K = 0\n",
    "Output: 0\n",
    "Explanation: B = [1]\n",
    "\n",
    "Example 2:\n",
    "Input: A = [0,10], K = 2\n",
    "Output: 6\n",
    "Explanation: B = [2,8]\n",
    "\n",
    "Example 3:\n",
    "Input: A = [1,3,6], K = 3\n",
    "Output: 3\n",
    "Explanation: B = [4,6,3]\n",
    " \n",
    "Note:\n",
    "1 <= A.length <= 10000\n",
    "0 <= A[i] <= 10000\n",
    "0 <= K <= 10000"
   ]
  },
  {
   "cell_type": "code",
   "execution_count": null,
   "metadata": {},
   "outputs": [],
   "source": [
    "The trick is to understand this:\n",
    "\n",
    "For sorted A, say A[i] is the largest i that goes up. Then A[0] + K, A[i] + K, A[i+1] - K, A[A.length - 1] - K are \n",
    "the only relevant values for calculating the answer: every other value is between one of these extremal values.\n",
    "    \n",
    "    "
   ]
  },
  {
   "cell_type": "code",
   "execution_count": 13,
   "metadata": {},
   "outputs": [],
   "source": [
    "def smallestRangeII(A, K):\n",
    "    if len(A)<=1:\n",
    "        return 0\n",
    "    \n",
    "    A=sorted(A)\n",
    "    \n",
    "    result=A[-1]-A[0]\n",
    "        \n",
    "    for i in range(len(A)-1):#we are not including the last element in the array\n",
    "        min_val=min(A[0]+K, A[i+1]-K)#why not included the last element in the range: because to calculate one of the \n",
    "        #extreme values A[i+1]-K\n",
    "        max_val=max(A[i]+K, A[-1]-K)#that's why we have included the last element as A[-1] here\n",
    "        result=min(result, max_val-min_val)\n",
    "        \n",
    "    return result"
   ]
  },
  {
   "cell_type": "code",
   "execution_count": 14,
   "metadata": {},
   "outputs": [
    {
     "data": {
      "text/plain": [
       "3"
      ]
     },
     "execution_count": 14,
     "metadata": {},
     "output_type": "execute_result"
    }
   ],
   "source": [
    "smallestRangeII(A = [2,7,2], K = 1)"
   ]
  },
  {
   "cell_type": "code",
   "execution_count": null,
   "metadata": {},
   "outputs": [],
   "source": [
    "Complexity Analysis\n",
    "\n",
    "Time Complexity: O(NlogN), where N is the length of the A.\n",
    "\n",
    "Space complexity : O(N) or O(logN)\n",
    "\n",
    "The space complexity of the sorting algorithm depends on the implementation of each program language.\n",
    "\n",
    "For instance, the list.sort() function in Python is implemented with the Timsort algorithm whose space \n",
    "complexity is O(N)."
   ]
  }
 ],
 "metadata": {
  "kernelspec": {
   "display_name": "Python 3",
   "language": "python",
   "name": "python3"
  },
  "language_info": {
   "codemirror_mode": {
    "name": "ipython",
    "version": 3
   },
   "file_extension": ".py",
   "mimetype": "text/x-python",
   "name": "python",
   "nbconvert_exporter": "python",
   "pygments_lexer": "ipython3",
   "version": "3.7.4"
  }
 },
 "nbformat": 4,
 "nbformat_minor": 2
}
