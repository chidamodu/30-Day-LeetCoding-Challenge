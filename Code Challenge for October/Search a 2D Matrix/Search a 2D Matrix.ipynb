{
 "cells": [
  {
   "cell_type": "code",
   "execution_count": null,
   "metadata": {},
   "outputs": [],
   "source": [
    "Write an efficient algorithm that searches for a value in an m x n matrix. This matrix has the following properties:\n",
    "\n",
    "Integers in each row are sorted from left to right.\n",
    "The first integer of each row is greater than the last integer of the previous row.\n",
    " \n",
    "Example 1:\n",
    "Input: matrix = [[1,3,5,7],[10,11,16,20],[23,30,34,50]], target = 3\n",
    "Output: true\n",
    "\n",
    "Example 2:\n",
    "Input: matrix = [[1,3,5,7],[10,11,16,20],[23,30,34,50]], target = 13\n",
    "Output: false\n",
    "\n",
    "Example 3:\n",
    "Input: matrix = [], target = 0\n",
    "Output: false\n",
    " \n",
    "\n",
    "Constraints:\n",
    "m == matrix.length\n",
    "n == matrix[i].length\n",
    "0 <= m, n <= 100\n",
    "-104 <= matrix[i][j], target <= 104"
   ]
  },
  {
   "cell_type": "code",
   "execution_count": 21,
   "metadata": {},
   "outputs": [],
   "source": [
    "def searchMatrix(matrix, target):\n",
    "    if not matrix:\n",
    "        return False\n",
    "    \n",
    "    for i in range(len(matrix)):\n",
    "        if matrix[i][0]>target:\n",
    "            if target in matrix[i-1]:\n",
    "                return True\n",
    "                \n",
    "            else:\n",
    "                return False\n",
    "                "
   ]
  },
  {
   "cell_type": "code",
   "execution_count": 22,
   "metadata": {},
   "outputs": [
    {
     "data": {
      "text/plain": [
       "False"
      ]
     },
     "execution_count": 22,
     "metadata": {},
     "output_type": "execute_result"
    }
   ],
   "source": [
    "searchMatrix(matrix = [], target = 0)"
   ]
  },
  {
   "cell_type": "code",
   "execution_count": 24,
   "metadata": {},
   "outputs": [],
   "source": [
    "def searchMatrix(matrix, target):\n",
    "    m=len(matrix)\n",
    "    n=len(matrix[0])\n",
    "    \n",
    "    print(m, n)"
   ]
  },
  {
   "cell_type": "code",
   "execution_count": 25,
   "metadata": {},
   "outputs": [
    {
     "name": "stdout",
     "output_type": "stream",
     "text": [
      "3 4\n"
     ]
    }
   ],
   "source": [
    "searchMatrix(matrix = [[1,3,5,7],[10,11,16,20],[23,30,34,50]], target = 3)"
   ]
  },
  {
   "cell_type": "code",
   "execution_count": null,
   "metadata": {},
   "outputs": [],
   "source": [
    "class Solution:\n",
    "    def searchMatrix(self, matrix: List[List[int]], target: int) -> bool:\n",
    "        if not matrix or not matrix[0]: \n",
    "            return False\n",
    "        m, n = len(matrix[0]), len(matrix)\n",
    "        beg, end = 0, m*n - 1\n",
    "        \n",
    "        while beg < end:\n",
    "            mid = (beg + end)//2\n",
    "            if matrix[mid//m][mid%m] < target:\n",
    "                beg = mid + 1\n",
    "            else:\n",
    "                end = mid\n",
    "        return matrix[beg//m][beg%m] == target\n",
    "                \n",
    "        \n",
    "outcome:\n",
    "Your runtime beats 92.85 % of python3 submissions.\n",
    "Runtime: 44 ms\n",
    "Memory Usage: 14.4 MB"
   ]
  }
 ],
 "metadata": {
  "kernelspec": {
   "display_name": "Python 3",
   "language": "python",
   "name": "python3"
  },
  "language_info": {
   "codemirror_mode": {
    "name": "ipython",
    "version": 3
   },
   "file_extension": ".py",
   "mimetype": "text/x-python",
   "name": "python",
   "nbconvert_exporter": "python",
   "pygments_lexer": "ipython3",
   "version": "3.7.4"
  }
 },
 "nbformat": 4,
 "nbformat_minor": 2
}
