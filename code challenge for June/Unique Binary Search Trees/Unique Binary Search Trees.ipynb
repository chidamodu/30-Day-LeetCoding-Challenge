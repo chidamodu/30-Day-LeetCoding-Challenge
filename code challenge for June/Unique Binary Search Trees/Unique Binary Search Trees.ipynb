{
 "cells": [
  {
   "cell_type": "code",
   "execution_count": null,
   "metadata": {},
   "outputs": [],
   "source": [
    "Given n, how many structurally unique BST's (binary search trees) that store values 1 ... n?\n",
    "\n",
    "Example:\n",
    "Input: 3\n",
    "\n",
    "Output: 5\n",
    "\n",
    "Explanation:\n",
    "Given n = 3, there are a total of 5 unique BST's:\n",
    "\n",
    "   1         3     3      2      1\n",
    "    \\       /     /      / \\      \\\n",
    "     3     2     1      1   3      2\n",
    "    /     /       \\                 \\\n",
    "   2     1         2                 3"
   ]
  },
  {
   "cell_type": "code",
   "execution_count": null,
   "metadata": {},
   "outputs": [],
   "source": [
    "class Solution:\n",
    "    def numTrees(self, n: int) -> int:\n",
    "        return factorial(2*n)//factorial(n)//factorial(n)//(n+1)\n",
    "        \n",
    "        \n",
    "result:\n",
    "Runtime: 28 ms\n",
    "Memory Usage: 13.6 MB\n",
    "Your runtime beats 76.04 % of python3 submissions."
   ]
  },
  {
   "cell_type": "code",
   "execution_count": null,
   "metadata": {},
   "outputs": [],
   "source": [
    "class Solution:\n",
    "    def numTrees(self, n: int) -> int:\n",
    "\t\t# Base case:\n",
    "\t\t# 0 nodes = 1 tree\n",
    "        # 1 nodes = 1 tree\n",
    "\t\t\n",
    "        # numTree[4] = numTree[0] * numTree[3] +\n",
    "        #              numTree[1] * numTree[2] +\n",
    "        #              numTree[2] * numTree[1] +\n",
    "        #              numTree[3] * numTree[0]\n",
    "\t\t\n",
    "        numTree = [1] * (n + 1)\n",
    "        for nodes in range(2, n + 1):\n",
    "            total = 0\n",
    "            for root in range(1, nodes + 1):\n",
    "                left = root - 1\n",
    "                right = nodes - root\n",
    "                total += numTree[left] * numTree[right]\n",
    "            numTree[nodes] = total\n",
    "        return numTree[n]\n",
    "\n",
    "\n",
    "\n",
    "\n",
    "\n",
    "Your runtime beats 76.04 % of python3 submissions.\n",
    "Runtime: 28 ms\n",
    "Memory Usage: 13.8 MB"
   ]
  }
 ],
 "metadata": {
  "kernelspec": {
   "display_name": "Python 3",
   "language": "python",
   "name": "python3"
  },
  "language_info": {
   "codemirror_mode": {
    "name": "ipython",
    "version": 3
   },
   "file_extension": ".py",
   "mimetype": "text/x-python",
   "name": "python",
   "nbconvert_exporter": "python",
   "pygments_lexer": "ipython3",
   "version": "3.7.4"
  }
 },
 "nbformat": 4,
 "nbformat_minor": 2
}
