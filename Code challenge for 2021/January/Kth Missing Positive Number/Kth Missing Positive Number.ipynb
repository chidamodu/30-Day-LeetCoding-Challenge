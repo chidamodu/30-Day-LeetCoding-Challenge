{
 "cells": [
  {
   "cell_type": "code",
   "execution_count": null,
   "metadata": {},
   "outputs": [],
   "source": [
    "Given an array arr of positive integers sorted in a strictly increasing order, and an integer k.\n",
    "\n",
    "Find the kth positive integer that is missing from this array.\n",
    "\n",
    "\n",
    "Example 1:\n",
    "Input: arr = [2,3,4,7,11], k = 5\n",
    "Output: 9\n",
    "Explanation: The missing positive integers are [1,5,6,8,9,10,12,13,...]. The 5th missing positive integer is 9.\n",
    "\n",
    "Example 2:\n",
    "Input: arr = [1,2,3,4], k = 2\n",
    "Output: 6\n",
    "Explanation: The missing positive integers are [5,6,7,...]. The 2nd missing positive integer is 6.\n",
    " \n",
    "\n",
    "Constraints:\n",
    "1 <= arr.length <= 1000\n",
    "1 <= arr[i] <= 1000\n",
    "1 <= k <= 1000\n",
    "arr[i] < arr[j] for 1 <= i < j <= arr.length\n",
    "\n",
    "Hint #1  \n",
    "Keep track of how many positive numbers are missing as you scan the array."
   ]
  },
  {
   "cell_type": "code",
   "execution_count": 22,
   "metadata": {},
   "outputs": [],
   "source": [
    "Linear search\n",
    "\n",
    "def findKthPositive(arr, k):\n",
    "    missing=[]\n",
    "    \n",
    "    upper_bound=arr[-1]+k\n",
    "    \n",
    "    for i in range(1, upper_bound+1):\n",
    "        if i not in arr:\n",
    "            missing.append(i)\n",
    "\n",
    "    return missing[k-1]\n",
    "        \n",
    "  \n",
    "\n",
    "Your runtime beats 7.18 % of python3 submissions.\n",
    "Runtime: 184 ms\n",
    "Memory Usage: 14.4 MB\n",
    "    \n",
    "    \n",
    "Complexity: time complexity is O(N+k), space is O(N+k)"
   ]
  },
  {
   "cell_type": "code",
   "execution_count": 23,
   "metadata": {},
   "outputs": [
    {
     "data": {
      "text/plain": [
       "6"
      ]
     },
     "execution_count": 23,
     "metadata": {},
     "output_type": "execute_result"
    }
   ],
   "source": [
    "findKthPositive(arr = [1,2,3,4], k = 2)"
   ]
  },
  {
   "cell_type": "code",
   "execution_count": null,
   "metadata": {},
   "outputs": [],
   "source": [
    "But we can do better than the above linear approach. What is better than the linear approach, O(log N) and that is \n",
    "why we are trying binary search\n",
    "\n",
    "Alternative approach: Binary Search \n",
    "    \n",
    "def findKthPositive(arr, k):\n",
    "    beg, end = 0, len(arr)\n",
    "        while beg < end:\n",
    "            mid = (beg + end) // 2\n",
    "            if arr[mid] - mid - 1 < k:\n",
    "                beg = mid + 1\n",
    "            else:\n",
    "                end = mid\n",
    "        return end + k\n",
    "    \n",
    "Complexity: time complexity is O(log N), space is O(1).\n",
    "    \n",
    "outcome: check out the runtime between the binary search solution and the above linear solution\n",
    "    \n",
    "Your runtime beats 84.04 % of python3 submissions.\n",
    "Runtime: 48 ms\n",
    "Memory Usage: 14.5 MB"
   ]
  }
 ],
 "metadata": {
  "kernelspec": {
   "display_name": "Python 3",
   "language": "python",
   "name": "python3"
  },
  "language_info": {
   "codemirror_mode": {
    "name": "ipython",
    "version": 3
   },
   "file_extension": ".py",
   "mimetype": "text/x-python",
   "name": "python",
   "nbconvert_exporter": "python",
   "pygments_lexer": "ipython3",
   "version": "3.7.4"
  }
 },
 "nbformat": 4,
 "nbformat_minor": 2
}
