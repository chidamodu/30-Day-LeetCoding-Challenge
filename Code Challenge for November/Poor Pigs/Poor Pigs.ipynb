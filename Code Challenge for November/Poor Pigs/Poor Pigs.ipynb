{
 "cells": [
  {
   "cell_type": "code",
   "execution_count": null,
   "metadata": {},
   "outputs": [],
   "source": [
    "\n",
    "There are 1000 buckets, one and only one of them is poisonous, while the rest are filled with water. They all look \n",
    "identical. If a pig drinks the poison it will die within 15 minutes. What is the minimum amount of pigs you need to \n",
    "figure out which bucket is poisonous within one hour?\n",
    "\n",
    "Answer this question, and write an algorithm for the general case.\n",
    "\n",
    "General case:\n",
    "If there are n buckets and a pig drinking poison will die within m minutes, how many pigs (x) you need to figure out \n",
    "the poisonous bucket within p minutes? There is exactly one bucket with poison.\n",
    "\n",
    "Note:\n",
    "A pig can be allowed to drink simultaneously on as many buckets as one would like, and the feeding takes no time.\n",
    "After a pig has instantly finished drinking buckets, there has to be a cool down time of m minutes. During this time, only observation is allowed and no feedings at all.\n",
    "Any given bucket can be sampled an infinite number of times (by an unlimited number of pigs).\n",
    "\n",
    "Hint #1  \n",
    "What if you only have one shot? Eg. 4 buckets, 15 mins to die, and 15 mins to test.\n",
    "\n",
    "Hint #2  \n",
    "How many states can we generate with x pigs and T tests?\n",
    "\n",
    "Hint #3  \n",
    "Find minimum x such that (T+1)^x >= N\n"
   ]
  },
  {
   "cell_type": "code",
   "execution_count": 4,
   "metadata": {},
   "outputs": [],
   "source": [
    "def poorPigs(buckets, minutesToDie, minutesToTest):\n",
    "    pigs=0\n",
    "    \n",
    "    while (minutesToTest//minutesToDie +1)**pigs<buckets:\n",
    "        pigs+=1\n",
    "    return pigs\n",
    "            \n",
    "        \n",
    "        \n",
    "        \n",
    "result:\n",
    "Your runtime beats 71.83 % of python3 submissions.\n",
    "Runtime: 28 ms\n",
    "Memory Usage: 14 MB\n",
    "    "
   ]
  },
  {
   "cell_type": "code",
   "execution_count": 5,
   "metadata": {},
   "outputs": [
    {
     "data": {
      "text/plain": [
       "3"
      ]
     },
     "execution_count": 5,
     "metadata": {},
     "output_type": "execute_result"
    }
   ],
   "source": [
    "poorPigs(100, 15, 60)"
   ]
  }
 ],
 "metadata": {
  "kernelspec": {
   "display_name": "Python 3",
   "language": "python",
   "name": "python3"
  },
  "language_info": {
   "codemirror_mode": {
    "name": "ipython",
    "version": 3
   },
   "file_extension": ".py",
   "mimetype": "text/x-python",
   "name": "python",
   "nbconvert_exporter": "python",
   "pygments_lexer": "ipython3",
   "version": "3.7.4"
  }
 },
 "nbformat": 4,
 "nbformat_minor": 2
}
