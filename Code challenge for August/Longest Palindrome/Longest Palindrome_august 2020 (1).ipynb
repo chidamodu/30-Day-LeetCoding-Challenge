{
 "cells": [
  {
   "cell_type": "code",
   "execution_count": null,
   "metadata": {},
   "outputs": [],
   "source": [
    "Given a string which consists of lowercase or uppercase letters, find the length of the longest palindromes that can \n",
    "be built with those letters.\n",
    "\n",
    "This is case sensitive, for example \"Aa\" is not considered a palindrome here.\n",
    "\n",
    "Note:\n",
    "Assume the length of given string will not exceed 1,010.\n",
    "\n",
    "Example:\n",
    "\n",
    "Input:\n",
    "\"abccccdd\"\n",
    "\n",
    "Output:\n",
    "7\n",
    "\n",
    "Explanation:\n",
    "One longest palindrome that can be built is \"dccaccd\", whose length is 7."
   ]
  },
  {
   "cell_type": "code",
   "execution_count": 7,
   "metadata": {},
   "outputs": [],
   "source": [
    "First trial - a slight modification of this got me to the correct solution\n",
    "\n",
    "def longestPalindrome(s):\n",
    "    d={}\n",
    "    len_palindrome=0\n",
    "    odd=0\n",
    "    for i in s:\n",
    "        d[i]=d.get(i, 0)+1\n",
    "    \n",
    "    for k, v in d.items():\n",
    "        if v%2==0:\n",
    "            len_palindrome+=v\n",
    "        else:\n",
    "            if (v-1)!=0:\n",
    "                len_palindrome+=(v-1)\n",
    "            else:\n",
    "                odd+=1\n",
    "                \n",
    "    return len_palindrome+1 if odd else len_palindrome\n",
    "                \n",
    "                \n",
    "                \n",
    "                \n",
    "                \n",
    "                \n",
    "                \n",
    "            \n",
    "            \n",
    "    "
   ]
  },
  {
   "cell_type": "code",
   "execution_count": 8,
   "metadata": {},
   "outputs": [
    {
     "data": {
      "text/plain": [
       "7"
      ]
     },
     "execution_count": 8,
     "metadata": {},
     "output_type": "execute_result"
    }
   ],
   "source": [
    "longestPalindrome(\"abccccdd\")"
   ]
  },
  {
   "cell_type": "code",
   "execution_count": null,
   "metadata": {},
   "outputs": [],
   "source": [
    "First Leetcode trial\n",
    "\n",
    "class Solution:\n",
    "    def longestPalindrome(self, s: str) -> int:\n",
    "        d={}\n",
    "        \n",
    "        len_palindrome=0\n",
    "        odd=0\n",
    "        if s==s[::-1]: this is unnecessary\n",
    "            return len(s)\n",
    "        \n",
    "        for i in s:\n",
    "            d[i]=d.get(i, 0)+1\n",
    "            \n",
    "        \n",
    "    \n",
    "        for k, v in d.items():\n",
    "            if len(d)==1: this is unnecessary too\n",
    "                return d[k]\n",
    "            \n",
    "            if v%2==0:\n",
    "                len_palindrome+=v\n",
    "            else:\n",
    "                if (v-1)!=0:\n",
    "                    len_palindrome+=(v-1)\n",
    "                else:\n",
    "                    odd+=1\n",
    "                \n",
    "        return len_palindrome+1 if odd else len_palindrome\n",
    "                "
   ]
  },
  {
   "cell_type": "code",
   "execution_count": null,
   "metadata": {},
   "outputs": [],
   "source": [
    "The idea is simple:\n",
    "(sum(all even counts)+sum(all odd counts: after subtracting 1 from each odd count))+1 where the overall 1 is for the \n",
    "central character\n"
   ]
  },
  {
   "cell_type": "code",
   "execution_count": 15,
   "metadata": {},
   "outputs": [],
   "source": [
    "Yay, my solution rocks! Submission solution\n",
    "\n",
    "def longestPalindrome(s):\n",
    "    d={}\n",
    "    odd=0\n",
    "    len_palindrome=0\n",
    "    for i in s:\n",
    "        d[i]=d.get(i, 0)+1 \n",
    "        \n",
    "    for k, v in d.items():\n",
    "        if v%2==0:\n",
    "            len_palindrome+=v\n",
    "        else:\n",
    "            len_palindrome+=(v-1)\n",
    "            odd+=1\n",
    "            \n",
    "    \n",
    "    return len_palindrome+1 if odd else len_palindrome     \n",
    "            \n",
    "        \n",
    "    \n",
    "result:\n",
    "Your runtime beats 55.69 % of python3 submissions.\n",
    "Runtime: 36 ms\n",
    "Memory Usage: 14 MB\n"
   ]
  },
  {
   "cell_type": "code",
   "execution_count": 16,
   "metadata": {},
   "outputs": [
    {
     "data": {
      "text/plain": [
       "3"
      ]
     },
     "execution_count": 16,
     "metadata": {},
     "output_type": "execute_result"
    }
   ],
   "source": [
    "longestPalindrome(\"ccc\")"
   ]
  }
 ],
 "metadata": {
  "kernelspec": {
   "display_name": "Python 3",
   "language": "python",
   "name": "python3"
  },
  "language_info": {
   "codemirror_mode": {
    "name": "ipython",
    "version": 3
   },
   "file_extension": ".py",
   "mimetype": "text/x-python",
   "name": "python",
   "nbconvert_exporter": "python",
   "pygments_lexer": "ipython3",
   "version": "3.7.4"
  }
 },
 "nbformat": 4,
 "nbformat_minor": 2
}
