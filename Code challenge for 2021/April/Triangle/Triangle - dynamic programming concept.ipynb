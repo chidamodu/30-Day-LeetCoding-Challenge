{
 "cells": [
  {
   "cell_type": "markdown",
   "metadata": {},
   "source": [
    "Given a triangle array, return the minimum path sum from top to bottom.\n",
    "\n",
    "For each step, you may move to an adjacent number of the row below. More formally, if you are on index i on the current row, you may move to either index i or index i + 1 on the next row.\n",
    "\n",
    "\n",
    "Example 1:\n",
    "Input: triangle = [[2],[3,4],[6,5,7],[4,1,8,3]]\n",
    "Output: 11\n",
    "Explanation: The triangle looks like:\n",
    "   2\n",
    "  3 4\n",
    " 6 5 7\n",
    "4 1 8 3\n",
    "The minimum path sum from top to bottom is 2 + 3 + 5 + 1 = 11 (underlined above).\n",
    "\n",
    "\n",
    "Example 2:\n",
    "Input: triangle = [[-10]]\n",
    "Output: -10\n",
    " \n",
    " \n",
    "Constraints:\n",
    "1 <= triangle.length <= 200\n",
    "triangle[0].length == 1\n",
    "triangle[i].length == triangle[i - 1].length + 1\n",
    "-104 <= triangle[i][j] <= 104\n",
    " \n",
    "Follow up: Could you do this using only O(n) extra space, where n is the total number of rows in the triangle?\n"
   ]
  },
  {
   "cell_type": "code",
   "execution_count": 17,
   "metadata": {},
   "outputs": [],
   "source": [
    "How naive - obviously this is not the correct solution\n",
    "\n",
    "def minimumTotal(triangle):\n",
    "    result=[]\n",
    "    for i in triangle:\n",
    "        result.append(sorted(i))\n",
    "    print(result)\n",
    "        \n",
    "    return sum([i[0] for i in result])"
   ]
  },
  {
   "cell_type": "code",
   "execution_count": 18,
   "metadata": {},
   "outputs": [
    {
     "name": "stdout",
     "output_type": "stream",
     "text": [
      "[[-1], [2, 3], [-3, -1, 1]]\n"
     ]
    },
    {
     "data": {
      "text/plain": [
       "-2"
      ]
     },
     "execution_count": 18,
     "metadata": {},
     "output_type": "execute_result"
    }
   ],
   "source": [
    "minimumTotal(triangle = [[-1],[2,3],[1,-1,-3]])"
   ]
  },
  {
   "cell_type": "code",
   "execution_count": 60,
   "metadata": {},
   "outputs": [],
   "source": [
    "# This is a cool idea - Top down dynamic programming. This solution seems like taking long.\n",
    "\n",
    "def minimumTotal(triangle):\n",
    "    result=0\n",
    "    for row in range(1, len(triangle)):\n",
    "        for col in range(len(triangle[row])):\n",
    "            result=0\n",
    "            if col==0:\n",
    "                result=triangle[row][col]+triangle[row-1][col]\n",
    "            \n",
    "            elif col==len(triangle[row])-1:\n",
    "                result=triangle[row][col]+triangle[row-1][len(triangle[row-1])-1]\n",
    "                \n",
    "            else:\n",
    "                result=min(triangle[row-1][col], triangle[row-1][col-1]) + triangle[row][col]\n",
    "                \n",
    "            triangle[row][col]=result          \n",
    "  \n",
    "    return min(triangle[-1])\n",
    "    \n",
    "            \n",
    "Time Complexity : O(N^2)\n",
    "Space Complexity : O(1)       "
   ]
  },
  {
   "cell_type": "code",
   "execution_count": 61,
   "metadata": {},
   "outputs": [
    {
     "data": {
      "text/plain": [
       "-10"
      ]
     },
     "execution_count": 61,
     "metadata": {},
     "output_type": "execute_result"
    }
   ],
   "source": [
    "minimumTotal(triangle = [[-10]])"
   ]
  },
  {
   "cell_type": "code",
   "execution_count": 40,
   "metadata": {},
   "outputs": [],
   "source": [
    "In-place Top Down DP concept. Faster in terms of runtime. The advantage with this solution is that I use the \n",
    "last row in the triangle only for computational purpose and therefore I never change its values. That saves time.\n",
    "\n",
    "def minimumTotal(T):\n",
    "    for i in range(len(T)-2,-1,-1):\n",
    "        for j in range(len(T[i])-1,-1,-1):\n",
    "            T[i][j] += min(T[i+1][j], T[i+1][j+1])\n",
    "        return T[0][0]\n",
    "    \n",
    "Time Complexity : O(N^2)\n",
    "Space Complexity : O(1)"
   ]
  },
  {
   "cell_type": "code",
   "execution_count": 41,
   "metadata": {},
   "outputs": [
    {
     "data": {
      "text/plain": [
       "-1"
      ]
     },
     "execution_count": 41,
     "metadata": {},
     "output_type": "execute_result"
    }
   ],
   "source": [
    "minimumTotal([[-1],[2,3],[1,-1,-3]])"
   ]
  }
 ],
 "metadata": {
  "kernelspec": {
   "display_name": "Python 3",
   "language": "python",
   "name": "python3"
  },
  "language_info": {
   "codemirror_mode": {
    "name": "ipython",
    "version": 3
   },
   "file_extension": ".py",
   "mimetype": "text/x-python",
   "name": "python",
   "nbconvert_exporter": "python",
   "pygments_lexer": "ipython3",
   "version": "3.7.4"
  }
 },
 "nbformat": 4,
 "nbformat_minor": 2
}
