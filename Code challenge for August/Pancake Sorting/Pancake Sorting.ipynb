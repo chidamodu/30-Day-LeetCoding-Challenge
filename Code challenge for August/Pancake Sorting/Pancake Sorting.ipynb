{
 "cells": [
  {
   "cell_type": "code",
   "execution_count": null,
   "metadata": {},
   "outputs": [],
   "source": [
    "Given an array of integers A, We need to sort the array performing a series of pancake flips.\n",
    "\n",
    "In one pancake flip we do the following steps:\n",
    "\n",
    "Choose an integer k where 0 <= k < A.length.\n",
    "Reverse the sub-array A[0...k].\n",
    "For example, if A = [3,2,1,4] and we performed a pancake flip choosing k = 2, we reverse the sub-array [3,2,1], \n",
    "so A = [1,2,3,4] after the pancake flip at k = 2.\n",
    "\n",
    "Return an array of the k-values of the pancake flips that should be performed in order to sort A. Any valid answer \n",
    "that sorts the array within 10 * A.length flips will be judged as correct.\n",
    "\n",
    " \n",
    "Example 1:\n",
    "Input: A = [3,2,4,1]\n",
    "Output: [4,2,4,3]\n",
    "Explanation: \n",
    "We perform 4 pancake flips, with k values 4, 2, 4, and 3.\n",
    "Starting state: A = [3, 2, 4, 1]\n",
    "After 1st flip (k = 4): A = [1, 4, 2, 3]\n",
    "After 2nd flip (k = 2): A = [4, 1, 2, 3]\n",
    "After 3rd flip (k = 4): A = [3, 2, 1, 4]\n",
    "After 4th flip (k = 3): A = [1, 2, 3, 4], which is sorted.\n",
    "Notice that we return an array of the chosen k values of the pancake flips.\n",
    "\n",
    "Example 2:\n",
    "Input: A = [1,2,3]\n",
    "Output: []\n",
    "Explanation: The input is already sorted, so there is no need to flip anything.\n",
    "Note that other answers, such as [3, 3], would also be accepted.\n",
    " \n",
    "\n",
    "Constraints:\n",
    "1 <= A.length <= 100\n",
    "1 <= A[i] <= A.length\n",
    "All integers in A are unique (i.e. A is a permutation of the integers from 1 to A.length).\n"
   ]
  },
  {
   "cell_type": "code",
   "execution_count": null,
   "metadata": {},
   "outputs": [],
   "source": [
    "class Solution:\n",
    "    def pancakeSort(self, A: List[int]) -> List[int]:\n",
    "        result, n = [], len(A)\n",
    "        for i in range(n,0,-1):\n",
    "            pl = A.index(i)\n",
    "            if pl == i-1: continue\n",
    "            if pl != 0:\n",
    "                result.append(pl+1)\n",
    "                A[:pl+1] = A[:pl+1][::-1]\n",
    "            result.append(i)\n",
    "            A[:i] = A[:i][::-1]\n",
    "            \n",
    "        return result\n",
    "    \n",
    "result:\n",
    "Your runtime beats 88.19 % of python3 submissions.\n",
    "Runtime: 40 ms\n",
    "Memory Usage: 13.7 MB"
   ]
  }
 ],
 "metadata": {
  "kernelspec": {
   "display_name": "Python 3",
   "language": "python",
   "name": "python3"
  },
  "language_info": {
   "codemirror_mode": {
    "name": "ipython",
    "version": 3
   },
   "file_extension": ".py",
   "mimetype": "text/x-python",
   "name": "python",
   "nbconvert_exporter": "python",
   "pygments_lexer": "ipython3",
   "version": "3.7.4"
  }
 },
 "nbformat": 4,
 "nbformat_minor": 2
}
