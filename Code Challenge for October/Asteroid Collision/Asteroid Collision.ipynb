{
 "cells": [
  {
   "cell_type": "code",
   "execution_count": null,
   "metadata": {},
   "outputs": [],
   "source": [
    "We are given an array asteroids of integers representing asteroids in a row.\n",
    "\n",
    "For each asteroid, the absolute value represents its size, and the sign represents its direction \n",
    "(positive meaning right, negative meaning left). Each asteroid moves at the same speed.\n",
    "\n",
    "Find out the state of the asteroids after all collisions. If two asteroids meet, the smaller one will explode. If \n",
    "both are the same size, both will explode. Two asteroids moving in the same direction will never meet.\n",
    "\n",
    " \n",
    "\n",
    "Example 1:\n",
    "Input: asteroids = [5,10,-5]\n",
    "Output: [5,10]\n",
    "Explanation: The 10 and -5 collide resulting in 10.  The 5 and 10 never collide.\n",
    "\n",
    "Example 2:\n",
    "Input: asteroids = [8,-8]\n",
    "Output: []\n",
    "Explanation: The 8 and -8 collide exploding each other.\n",
    "\n",
    "Example 3:\n",
    "Input: asteroids = [10,2,-5]\n",
    "Output: [10]\n",
    "Explanation: The 2 and -5 collide resulting in -5. The 10 and -5 collide resulting in 10.\n",
    "\n",
    "Example 4:\n",
    "Input: asteroids = [-2,-1,1,2]\n",
    "Output: [-2,-1,1,2]\n",
    "Explanation: The -2 and -1 are moving left, while the 1 and 2 are moving right. Asteroids moving the same direction never meet, so no asteroids will meet each other.\n",
    " \n",
    "\n",
    "Constraints:\n",
    "1 <= asteroids <= 104\n",
    "-1000 <= asteroids[i] <= 1000\n",
    "asteroids[i] != 0\n",
    "   \n",
    "Hint #1  \n",
    "Say a row of asteroids is stable. What happens when a new asteroid is added on the right?\n"
   ]
  },
  {
   "cell_type": "code",
   "execution_count": 6,
   "metadata": {},
   "outputs": [],
   "source": [
    "def asteroidCollision(asteroids):\n",
    "    stack=[]\n",
    "    for i in asteroids:\n",
    "        while len(stack) and i<0 and stack[-1]>0:\n",
    "            if stack[-1]+i ==0:\n",
    "                stack.pop()\n",
    "                break;\n",
    "            \n",
    "            elif abs(i)<stack[-1]:\n",
    "                break;\n",
    "                \n",
    "            else:\n",
    "                stack.pop()\n",
    "                continue\n",
    "                \n",
    "        else:\n",
    "            stack.append(i)\n",
    "            \n",
    "    return stack\n",
    "\n",
    "outcome:\n",
    "Your runtime beats 79.32 % of python3 submissions.\n",
    "Runtime: 96 ms\n",
    "Memory Usage: 15.3 MB"
   ]
  },
  {
   "cell_type": "code",
   "execution_count": 7,
   "metadata": {},
   "outputs": [
    {
     "data": {
      "text/plain": [
       "[]"
      ]
     },
     "execution_count": 7,
     "metadata": {},
     "output_type": "execute_result"
    }
   ],
   "source": [
    "asteroidCollision([1,2,-2,-1])"
   ]
  }
 ],
 "metadata": {
  "kernelspec": {
   "display_name": "Python 3",
   "language": "python",
   "name": "python3"
  },
  "language_info": {
   "codemirror_mode": {
    "name": "ipython",
    "version": 3
   },
   "file_extension": ".py",
   "mimetype": "text/x-python",
   "name": "python",
   "nbconvert_exporter": "python",
   "pygments_lexer": "ipython3",
   "version": "3.7.4"
  }
 },
 "nbformat": 4,
 "nbformat_minor": 2
}
