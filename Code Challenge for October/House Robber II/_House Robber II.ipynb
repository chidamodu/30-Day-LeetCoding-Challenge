{
 "cells": [
  {
   "cell_type": "code",
   "execution_count": null,
   "metadata": {},
   "outputs": [],
   "source": [
    "You are a professional robber planning to rob houses along a street. Each house has a certain amount of money stashed. \n",
    "All houses at this place are arranged in a circle. That means the first house is the neighbor of the last one. \n",
    "Meanwhile, adjacent houses have a security system connected, and it will automatically contact the police if two \n",
    "adjacent houses were broken into on the same night.\n",
    "\n",
    "Given a list of non-negative integers nums representing the amount of money of each house, return the maximum amount \n",
    "of money you can rob tonight without alerting the police.\n",
    "\n",
    " \n",
    "Example 1:\n",
    "\n",
    "Input: nums = [2,3,2]\n",
    "Output: 3\n",
    "Explanation: You cannot rob house 1 (money = 2) and then rob house 3 (money = 2), because they are adjacent houses.\n",
    "\n",
    "Example 2:\n",
    "Input: nums = [1,2,3,1]\n",
    "Output: 4\n",
    "Explanation: Rob house 1 (money = 1) and then rob house 3 (money = 3).\n",
    "Total amount you can rob = 1 + 3 = 4.\n",
    "\n",
    "Example 3:\n",
    "Input: nums = [0]\n",
    "Output: 0\n",
    " \n",
    "\n",
    "Constraints:\n",
    "1 <= nums.length <= 100\n",
    "0 <= nums[i] <= 1000\n",
    "\n",
    "Hint #1  \n",
    "Since House[1] and House[n] are adjacent, they cannot be robbed together. Therefore, the problem becomes to rob either\n",
    "House[1]-House[n-1] or House[2]-House[n], depending on which choice offers more money. Now the problem has \n",
    "degenerated to the House Robber, which is already been solved."
   ]
  },
  {
   "cell_type": "code",
   "execution_count": 25,
   "metadata": {},
   "outputs": [],
   "source": [
    "Trial - did not work for all test cases\n",
    "\n",
    "def rob(nums):\n",
    "    d={}\n",
    "    max_val=0\n",
    "    \n",
    "    for k, v in enumerate(nums):\n",
    "        d[k]=v\n",
    "    \n",
    "\n",
    "    for k in d.keys():\n",
    "        while k+2 in d:\n",
    "            max_val=max(max_val, d[k]+d[k+2])\n",
    "            \n",
    "            k+=2\n",
    " \n",
    "        \n",
    "    return max_val"
   ]
  },
  {
   "cell_type": "code",
   "execution_count": 26,
   "metadata": {},
   "outputs": [
    {
     "data": {
      "text/plain": [
       "4"
      ]
     },
     "execution_count": 26,
     "metadata": {},
     "output_type": "execute_result"
    }
   ],
   "source": [
    "rob([2,3,2])"
   ]
  },
  {
   "cell_type": "code",
   "execution_count": 60,
   "metadata": {},
   "outputs": [],
   "source": [
    "def rob(nums):\n",
    "    \n",
    "    if len(nums)<=3:\n",
    "        return max(nums)\n",
    "    \n",
    "    def dp_rob(dp):\n",
    "        \n",
    "        dp[1]=max(dp[0], dp[1])\n",
    "        \n",
    "        for item in range(2, len(dp)):\n",
    "            dp[item]=max(dp[item-1], dp[item]+dp[item-2])\n",
    "            \n",
    "        return dp[-1]\n",
    "    \n",
    "    price1=dp_rob(nums[:len(nums)-1])\n",
    "    price2=dp_rob(nums[1:])\n",
    "    \n",
    "    return max(price1, price2)\n",
    "            \n",
    "        \n",
    "Your runtime beats 87.53 % of python3 submissions.\n",
    "Runtime: 28 ms\n",
    "Memory Usage: 14.1 MB"
   ]
  },
  {
   "cell_type": "code",
   "execution_count": 61,
   "metadata": {},
   "outputs": [
    {
     "data": {
      "text/plain": [
       "4"
      ]
     },
     "execution_count": 61,
     "metadata": {},
     "output_type": "execute_result"
    }
   ],
   "source": [
    "rob([1,2,3,1])"
   ]
  }
 ],
 "metadata": {
  "kernelspec": {
   "display_name": "Python 3",
   "language": "python",
   "name": "python3"
  },
  "language_info": {
   "codemirror_mode": {
    "name": "ipython",
    "version": 3
   },
   "file_extension": ".py",
   "mimetype": "text/x-python",
   "name": "python",
   "nbconvert_exporter": "python",
   "pygments_lexer": "ipython3",
   "version": "3.7.4"
  }
 },
 "nbformat": 4,
 "nbformat_minor": 2
}
