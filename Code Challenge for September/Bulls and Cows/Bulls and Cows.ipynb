{
 "cells": [
  {
   "cell_type": "code",
   "execution_count": null,
   "metadata": {},
   "outputs": [],
   "source": [
    "You are playing the following Bulls and Cows game with your friend: You write down a number and ask your friend to guess \n",
    "what the number is. Each time your friend makes a guess, you provide a hint that indicates how many digits in said \n",
    "guess match your secret number exactly in both digit and position (called \"bulls\") and how many digits match the \n",
    "secret number but locate in the wrong position (called \"cows\"). Your friend will use successive guesses and hints to \n",
    "eventually derive the secret number.\n",
    "\n",
    "Write a function to return a hint according to the secret number and friends guess, use A to indicate the bulls and B to \n",
    "indicate the cows. \n",
    "\n",
    "Please note that both secret number and friends guess may contain duplicate digits.\n",
    "\n",
    "Example 1:\n",
    "Input: secret = \"1807\", guess = \"7810\"\n",
    "Output: \"1A3B\"\n",
    "Explanation: 1 bull and 3 cows. The bull is 8, the cows are 0, 1 and 7.\n",
    "\n",
    "Example 2:\n",
    "Input: secret = \"1123\", guess = \"0111\"\n",
    "Output: \"1A1B\"\n",
    "Explanation: The 1st 1 in friends guess is a bull, the 2nd or 3rd 1 is a cow.\n",
    "Note: You may assume that the secret number and your friends guess only contain digits, and their lengths are \n",
    "    always equal."
   ]
  },
  {
   "cell_type": "code",
   "execution_count": 58,
   "metadata": {},
   "outputs": [],
   "source": [
    "def getHint(secret, guess):\n",
    "    a=0\n",
    "    b=0\n",
    "    bucket=[0]*10\n",
    "\n",
    "    for s, g in zip(secret, guess):\n",
    "        if s==g:\n",
    "            a+=1\n",
    "        else:\n",
    "            bucket[int(s)]+=1\n",
    "            bucket[int(g)]-=1\n",
    "    \n",
    "    return f'{a}A{len(secret)-a-sum(x for x in bucket if x>0)}B'    \n",
    "    \n",
    "result:\n",
    "Your runtime beats 63.48 % of python3 submissions.\n",
    "Runtime: 44 ms\n",
    "Memory Usage: 14 MB"
   ]
  },
  {
   "cell_type": "code",
   "execution_count": 59,
   "metadata": {},
   "outputs": [
    {
     "data": {
      "text/plain": [
       "'1A0B'"
      ]
     },
     "execution_count": 59,
     "metadata": {},
     "output_type": "execute_result"
    }
   ],
   "source": [
    "getHint(secret = \"11\", guess = \"10\")"
   ]
  },
  {
   "cell_type": "code",
   "execution_count": 66,
   "metadata": {},
   "outputs": [],
   "source": [
    "def getHint(secret, guess):\n",
    "    a=0\n",
    "    b=0\n",
    "    bucket=[0]*10 #it is not possible to multiply here using len(secret) with an idea to keep the space complexity down\n",
    "    #as in this solution we are finding int(num) where num is every value in secret. what does it mean: it is possible to have\n",
    "    #9 as max value for which we will get out of index error\n",
    "    \n",
    "\n",
    "#     result=[]\n",
    "    for s, g in zip(secret, guess):\n",
    "        if s==g:\n",
    "            a+=1\n",
    "        else:\n",
    "            bucket[int(s)]+=1\n",
    "            print(bucket)\n",
    "            bucket[int(g)]-=1\n",
    "            print(bucket)\n",
    "            \n",
    "#     print(bucket)\n",
    "    \n",
    "    return f'{a}A{len(secret)-a-sum(x for x in bucket if x>0)}B' "
   ]
  },
  {
   "cell_type": "code",
   "execution_count": 67,
   "metadata": {},
   "outputs": [
    {
     "name": "stdout",
     "output_type": "stream",
     "text": [
      "[0, 1]\n",
      "[-1, 1]\n"
     ]
    },
    {
     "data": {
      "text/plain": [
       "'1A0B'"
      ]
     },
     "execution_count": 67,
     "metadata": {},
     "output_type": "execute_result"
    }
   ],
   "source": [
    "getHint(secret = \"11\", guess = \"10\")"
   ]
  },
  {
   "cell_type": "code",
   "execution_count": 65,
   "metadata": {},
   "outputs": [
    {
     "name": "stdout",
     "output_type": "stream",
     "text": [
      "1\n",
      "1\n",
      "1\n",
      "1\n"
     ]
    }
   ],
   "source": [
    "\n",
    "from collections import Counter\n",
    "secret=\"1789\"\n",
    "s=Counter(secret)\n",
    "for i in secret:\n",
    "    print(s[i])"
   ]
  },
  {
   "cell_type": "code",
   "execution_count": null,
   "metadata": {},
   "outputs": [],
   "source": [
    "This solution is inspired by DBabichev's on Leetcode\n",
    "\n",
    "class Solution:\n",
    "    def getHint(self, secret, guess):\n",
    "        B = sum([x==y for x,y in zip(secret, guess)])\n",
    "\t\tCount_sec = Counter(secret)\n",
    "        Count_gue = Counter(guess)\n",
    "        B_C = sum([min(Count_sec[elem], Count_gue[elem]) for elem in Count_sec])\n",
    "        return str(B) + \"A\" + str(B_C-B) + \"B\"\n",
    "    \n",
    "Complexity: both time and space complexity is O(1). Imagine, that we have not 4 lengths, but n, then we have O(n) \n",
    "time complexity and O(10) space complexity to keep our counters.\n"
   ]
  }
 ],
 "metadata": {
  "kernelspec": {
   "display_name": "Python 3",
   "language": "python",
   "name": "python3"
  },
  "language_info": {
   "codemirror_mode": {
    "name": "ipython",
    "version": 3
   },
   "file_extension": ".py",
   "mimetype": "text/x-python",
   "name": "python",
   "nbconvert_exporter": "python",
   "pygments_lexer": "ipython3",
   "version": "3.7.4"
  }
 },
 "nbformat": 4,
 "nbformat_minor": 2
}
