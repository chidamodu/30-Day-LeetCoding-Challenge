{
 "cells": [
  {
   "cell_type": "code",
   "execution_count": null,
   "metadata": {},
   "outputs": [],
   "source": [
    "Given the head of a linked list, return the list after sorting it in ascending order.\n",
    "\n",
    "Follow up: Can you sort the linked list in O(n logn) time and O(1) memory (i.e. constant space)?\n",
    "\n",
    "Example 1:\n",
    "Input: head = [4,2,1,3]\n",
    "Output: [1,2,3,4]\n",
    " \n",
    "\n",
    "Example 2:\n",
    "Input: head = [-1,5,3,4,0]\n",
    "Output: [-1,0,3,4,5]\n",
    "\n",
    "    \n",
    "Example 3:\n",
    "Input: head = []\n",
    "Output: []\n",
    " \n",
    "\n",
    "Constraints:\n",
    "The number of nodes in the list is in the range [0, 5 * 104].\n",
    "-105 <= Node.val <= 105"
   ]
  },
  {
   "cell_type": "code",
   "execution_count": null,
   "metadata": {},
   "outputs": [],
   "source": [
    "# Definition for singly-linked list.\n",
    "# class ListNode:\n",
    "#     def __init__(self, val=0, next=None):\n",
    "#         self.val = val\n",
    "#         self.next = next\n",
    "class Solution:\n",
    "    def sortList(self, head: ListNode) -> ListNode:\n",
    "        mylist, pointer = [], head\n",
    "        while pointer:\n",
    "            mylist.append(pointer.val)\n",
    "            pointer = pointer.next\n",
    "            \n",
    "        mylist.sort()\n",
    "        \n",
    "        pointer = head\n",
    "        for val in mylist:\n",
    "            pointer.val = val\n",
    "            pointer = pointer.next\n",
    "            \n",
    "        return head\n",
    "        \n",
    "\n",
    "\n",
    "\n",
    "\n",
    "Runtime: 76 ms\n",
    "Memory Usage: 21.5 MB\n",
    "Your runtime beats 99.68 % of python3 submissions."
   ]
  }
 ],
 "metadata": {
  "kernelspec": {
   "display_name": "Python 3",
   "language": "python",
   "name": "python3"
  },
  "language_info": {
   "codemirror_mode": {
    "name": "ipython",
    "version": 3
   },
   "file_extension": ".py",
   "mimetype": "text/x-python",
   "name": "python",
   "nbconvert_exporter": "python",
   "pygments_lexer": "ipython3",
   "version": "3.7.4"
  }
 },
 "nbformat": 4,
 "nbformat_minor": 2
}
