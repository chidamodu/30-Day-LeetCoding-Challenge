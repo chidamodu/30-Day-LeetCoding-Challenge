{
 "cells": [
  {
   "cell_type": "code",
   "execution_count": null,
   "metadata": {},
   "outputs": [],
   "source": [
    "Given a non-empty array nums containing only positive integers, find if the array can be partitioned into two subsets \n",
    "such that the sum of elements in both subsets is equal.\n",
    "\n",
    "Example 1:\n",
    "Input: nums = [1,5,11,5]\n",
    "Output: true\n",
    "Explanation: The array can be partitioned as [1, 5, 5] and [11].\n",
    "\n",
    "Example 2:\n",
    "Input: nums = [1,2,3,5]\n",
    "Output: false\n",
    "Explanation: The array cannot be partitioned into equal sum subsets.\n",
    " \n",
    "Constraints:\n",
    "1 <= nums.length <= 200\n",
    "1 <= nums[i] <= 100"
   ]
  },
  {
   "cell_type": "code",
   "execution_count": 3,
   "metadata": {},
   "outputs": [],
   "source": [
    "def canPartition(nums):\n",
    "    total = sum(nums)/2\n",
    "    s = set([nums[0]])\n",
    "    \n",
    "    for x in nums[1:]:\n",
    "        for y in list(s):\n",
    "            print(s)\n",
    "            s.add(x+y)\n",
    "            \n",
    "    \n",
    "    return total in s              \n",
    "    "
   ]
  },
  {
   "cell_type": "code",
   "execution_count": 4,
   "metadata": {},
   "outputs": [
    {
     "name": "stdout",
     "output_type": "stream",
     "text": [
      "{1}\n",
      "{1, 6}\n",
      "{1, 12, 6}\n",
      "{1, 12, 6, 17}\n",
      "{1, 12, 6, 17}\n",
      "{1, 12, 6, 17}\n",
      "{1, 6, 11, 12, 17}\n"
     ]
    },
    {
     "data": {
      "text/plain": [
       "True"
      ]
     },
     "execution_count": 4,
     "metadata": {},
     "output_type": "execute_result"
    }
   ],
   "source": [
    "canPartition([1,5,11,5])"
   ]
  },
  {
   "cell_type": "code",
   "execution_count": null,
   "metadata": {},
   "outputs": [],
   "source": [
    "There are at most 200 positive elements and each of them are upper bounded by 100. Therefore the range of all subset \n",
    "sums are in between 0-20000. Use a set P to track all possible subset sums. If sum(A)/2 is in P return True else False.\n",
    "\n",
    "Important to note that, as the range of subset sums is bounded, this method has polynomial complexity, and not \n",
    "exponential\n",
    "\n",
    "Time: O(sum(A)*len(A))\n",
    "Space: O(sum(A))"
   ]
  }
 ],
 "metadata": {
  "kernelspec": {
   "display_name": "Python 3",
   "language": "python",
   "name": "python3"
  },
  "language_info": {
   "codemirror_mode": {
    "name": "ipython",
    "version": 3
   },
   "file_extension": ".py",
   "mimetype": "text/x-python",
   "name": "python",
   "nbconvert_exporter": "python",
   "pygments_lexer": "ipython3",
   "version": "3.7.4"
  }
 },
 "nbformat": 4,
 "nbformat_minor": 2
}
