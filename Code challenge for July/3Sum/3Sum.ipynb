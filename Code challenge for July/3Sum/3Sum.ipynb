{
 "cells": [
  {
   "cell_type": "code",
   "execution_count": null,
   "metadata": {},
   "outputs": [],
   "source": [
    "Given an array nums of n integers, are there elements a, b, c in nums such that a + b + c = 0? Find all unique \n",
    "triplets in the array which gives the sum of zero.\n",
    "\n",
    "Note:\n",
    "\n",
    "The solution set must not contain duplicate triplets.\n",
    "\n",
    "Example:\n",
    "\n",
    "Given array nums = [-1, 0, 1, 2, -1, -4],\n",
    "\n",
    "A solution set is:\n",
    "[\n",
    "  [-1, 0, 1],\n",
    "  [-1, -1, 2]\n",
    "]\n",
    "\n",
    "Hide Hint #1  \n",
    "So, we essentially need to find three numbers x, y, and z such that they add up to the given value. If we fix one of \n",
    "the numbers say x, we are left with the two-sum problem at hand!\n",
    "\n",
    "Hide Hint #2  \n",
    "For the two-sum problem, if we fix one of the numbers, say x, we have to scan the entire array to find the next \n",
    "number y which is value - x where value is the input parameter. Can we change our array somehow so that this search \n",
    "becomes faster?\n",
    "\n",
    "Hide Hint #3  \n",
    "The second train of thought for two-sum is, without changing the array, can we use additional space somehow? Like \n",
    "maybe a hash map to speed up the search?\n"
   ]
  },
  {
   "cell_type": "code",
   "execution_count": null,
   "metadata": {},
   "outputs": [],
   "source": [
    "class Solution:\n",
    "    def threeSum(self, nums: List[int]) -> List[List[int]]:\n",
    "        nums.sort()\n",
    "        n, result = len(nums), []\n",
    "\n",
    "        for i in range(n):\n",
    "            if i > 0 and nums[i] == nums[i-1]: continue\n",
    "\n",
    "            target = -nums[i]\n",
    "            beg, end = i + 1, n - 1\n",
    "\n",
    "            while beg < end:\n",
    "                if nums[beg] + nums[end] < target:\n",
    "                    beg += 1\n",
    "                elif nums[beg] + nums[end] > target:\n",
    "                    end -= 1\n",
    "                else:\n",
    "                    result.append((nums[i], nums[beg], nums[end]))\n",
    "                    beg += 1\n",
    "                    end -= 1\n",
    "\n",
    "        return set(result)\n",
    "        "
   ]
  }
 ],
 "metadata": {
  "kernelspec": {
   "display_name": "Python 3",
   "language": "python",
   "name": "python3"
  },
  "language_info": {
   "codemirror_mode": {
    "name": "ipython",
    "version": 3
   },
   "file_extension": ".py",
   "mimetype": "text/x-python",
   "name": "python",
   "nbconvert_exporter": "python",
   "pygments_lexer": "ipython3",
   "version": "3.7.4"
  }
 },
 "nbformat": 4,
 "nbformat_minor": 2
}
