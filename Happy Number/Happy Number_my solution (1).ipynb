{
 "cells": [
  {
   "cell_type": "code",
   "execution_count": 1,
   "metadata": {},
   "outputs": [
    {
     "data": {
      "text/plain": [
       "['1', '9']"
      ]
     },
     "execution_count": 1,
     "metadata": {},
     "output_type": "execute_result"
    }
   ],
   "source": [
    "n=19\n",
    "list(str(n))"
   ]
  },
  {
   "cell_type": "code",
   "execution_count": null,
   "metadata": {},
   "outputs": [],
   "source": [
    "ans=0\n",
    "\n",
    "for i in res:\n",
    "    ans+=i**2"
   ]
  },
  {
   "cell_type": "code",
   "execution_count": 2,
   "metadata": {},
   "outputs": [
    {
     "data": {
      "text/plain": [
       "81"
      ]
     },
     "execution_count": 2,
     "metadata": {},
     "output_type": "execute_result"
    }
   ],
   "source": [
    "9**2"
   ]
  },
  {
   "cell_type": "code",
   "execution_count": null,
   "metadata": {},
   "outputs": [],
   "source": [
    "Problem Statement\n",
    "\n",
    "Write an algorithm to determine if a number is \"happy\".\n",
    "\n",
    "A happy number is a number defined by the following process: Starting with any positive integer, replace the number by\n",
    "the sum of the squares of its digits, and repeat the process until the number equals 1 (where it will stay), or it \n",
    "loops endlessly in a cycle which does not include 1. Those numbers for which this process ends in 1 are happy numbers.\n",
    "\n",
    "Example: \n",
    "Input: 19\n",
    "\n",
    "Output: true\n",
    "\n",
    "Explanation: \n",
    "12 + 92 = 82\n",
    "82 + 22 = 68\n",
    "62 + 82 = 100\n",
    "12 + 02 + 02 = 1"
   ]
  },
  {
   "cell_type": "code",
   "execution_count": 8,
   "metadata": {},
   "outputs": [],
   "source": [
    "Version: 1 did not work! Because I appended s to answer and then checked whether s in answer it breaks and returns False\n",
    "\n",
    "def isHappy(n):\n",
    "    input_list=list(str(n))\n",
    "    answer=[]\n",
    "    while input_list:\n",
    "        s=0\n",
    "        for i in range(len(input_list)):\n",
    "            s+=int(input_list[i])**2\n",
    "        \n",
    "        answer.append(s)\n",
    "        print(answer, s)\n",
    "        \n",
    "        \n",
    "        if s in answer:\n",
    "            break\n",
    "        elif s==1:\n",
    "            break\n",
    "        else:\n",
    "            input_list=list(str(s))\n",
    "            \n",
    "            \n",
    "    return True if s==1 else False\n",
    "        \n",
    "        \n",
    "        \n",
    "            \n",
    "            \n",
    "        \n",
    "    "
   ]
  },
  {
   "cell_type": "code",
   "execution_count": 9,
   "metadata": {},
   "outputs": [
    {
     "name": "stdout",
     "output_type": "stream",
     "text": [
      "[82] 82\n"
     ]
    },
    {
     "data": {
      "text/plain": [
       "False"
      ]
     },
     "execution_count": 9,
     "metadata": {},
     "output_type": "execute_result"
    }
   ],
   "source": [
    "isHappy(19)"
   ]
  },
  {
   "cell_type": "code",
   "execution_count": 43,
   "metadata": {},
   "outputs": [],
   "source": [
    "Version: 2 did not work!\n",
    "    \n",
    "def isHappy(n):\n",
    "    input_list=list(str(n))\n",
    "    answer=[]\n",
    "    while len(input_list):\n",
    "        s=0\n",
    "        for i in range(len(input_list)):\n",
    "            s+=int(input_list[i])**2\n",
    "            \n",
    "        answer.append(s)\n",
    "            \n",
    "        if s==1:\n",
    "            break\n",
    "            \n",
    "        elif s in answer:\n",
    "            break\n",
    "            \n",
    "        else:\n",
    "            input_list=list(str(s))\n",
    "            \n",
    "            \n",
    "    \n",
    "    return True if s==1 else answer\n",
    "        "
   ]
  },
  {
   "cell_type": "code",
   "execution_count": 44,
   "metadata": {},
   "outputs": [
    {
     "data": {
      "text/plain": [
       "[82]"
      ]
     },
     "execution_count": 44,
     "metadata": {},
     "output_type": "execute_result"
    }
   ],
   "source": [
    "isHappy(19)"
   ]
  },
  {
   "cell_type": "code",
   "execution_count": 71,
   "metadata": {},
   "outputs": [],
   "source": [
    "Version: 3 got the while loop working with a condition (that I picked to get it working) while len(input_list)!=1:\n",
    "\n",
    "def isHappy(n):\n",
    "    input_list=list(str(n))\n",
    "    answer=[]\n",
    "    while len(input_list)!=1:\n",
    "        s=0\n",
    "        for i in range(len(input_list)):\n",
    "            s+=int(input_list[i])**2\n",
    "            \n",
    "        print(s)\n",
    "        if s ==1:\n",
    "            return True\n",
    "    \n",
    "        else:\n",
    "            answer.append(s)\n",
    "            input_list=list(str(s))\n",
    "    \n",
    "        \n",
    "    \n",
    "    \n",
    "    \n",
    "        \n",
    "        \n",
    "    return answer"
   ]
  },
  {
   "cell_type": "code",
   "execution_count": 72,
   "metadata": {},
   "outputs": [
    {
     "name": "stdout",
     "output_type": "stream",
     "text": [
      "20\n",
      "4\n"
     ]
    },
    {
     "data": {
      "text/plain": [
       "[20, 4]"
      ]
     },
     "execution_count": 72,
     "metadata": {},
     "output_type": "execute_result"
    }
   ],
   "source": [
    "isHappy(24)"
   ]
  },
  {
   "cell_type": "code",
   "execution_count": 81,
   "metadata": {},
   "outputs": [],
   "source": [
    "# Version: 4 (final version) got the while loop working without the condition I set in Version: 3 above. The while loop is working and so\n",
    "# now it is time to make this the final version. I removed print(s) statement\n",
    "\n",
    "def isHappy(n):\n",
    "    input_list=list(str(n))\n",
    "    answer=[]\n",
    "    while input_list:\n",
    "        s=0\n",
    "        for i in range(len(input_list)):\n",
    "            s+=int(input_list[i])**2\n",
    "        \n",
    "        print(s)\n",
    "            \n",
    "        if s ==1:\n",
    "            return True\n",
    "    \n",
    "        elif s in answer:\n",
    "            return False\n",
    "        \n",
    "        else:\n",
    "            answer.append(s)\n",
    "            input_list=list(str(s))\n",
    "    \n",
    "              \n",
    "#     return answer"
   ]
  },
  {
   "cell_type": "code",
   "execution_count": 82,
   "metadata": {},
   "outputs": [
    {
     "name": "stdout",
     "output_type": "stream",
     "text": [
      "65\n",
      "61\n",
      "37\n",
      "58\n",
      "89\n",
      "145\n",
      "42\n",
      "20\n",
      "4\n",
      "16\n",
      "37\n"
     ]
    },
    {
     "data": {
      "text/plain": [
       "False"
      ]
     },
     "execution_count": 82,
     "metadata": {},
     "output_type": "execute_result"
    }
   ],
   "source": [
    "isHappy(18)"
   ]
  },
  {
   "cell_type": "code",
   "execution_count": null,
   "metadata": {},
   "outputs": [],
   "source": [
    "Submission: My solution - O(n) time complexity\n",
    "Leetcode submission accepted: Yay!\n",
    "    \n",
    "class Solution:\n",
    "    def isHappy(self, n: int) -> bool:\n",
    "        input_list=list(str(n))\n",
    "        answer=[]\n",
    "        while input_list:\n",
    "            s=0\n",
    "            for i in range(len(input_list)):\n",
    "                s+=int(input_list[i])**2\n",
    "            \n",
    "            if s ==1:\n",
    "                return True\n",
    "    \n",
    "            elif s in answer:\n",
    "                return False\n",
    "        \n",
    "            else:\n",
    "                answer.append(s)\n",
    "                input_list=list(str(s))\n",
    "\n",
    "\n",
    "Submission Result: Accepted\n",
    "\n"
   ]
  }
 ],
 "metadata": {
  "kernelspec": {
   "display_name": "Python 3",
   "language": "python",
   "name": "python3"
  },
  "language_info": {
   "codemirror_mode": {
    "name": "ipython",
    "version": 3
   },
   "file_extension": ".py",
   "mimetype": "text/x-python",
   "name": "python",
   "nbconvert_exporter": "python",
   "pygments_lexer": "ipython3",
   "version": "3.7.4"
  }
 },
 "nbformat": 4,
 "nbformat_minor": 2
}
