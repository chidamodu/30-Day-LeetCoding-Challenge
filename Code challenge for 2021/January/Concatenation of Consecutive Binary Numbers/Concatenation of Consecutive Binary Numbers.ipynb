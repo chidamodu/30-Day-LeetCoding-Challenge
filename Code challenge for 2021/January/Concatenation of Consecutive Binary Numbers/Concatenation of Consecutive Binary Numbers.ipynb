{
 "cells": [
  {
   "cell_type": "code",
   "execution_count": null,
   "metadata": {},
   "outputs": [],
   "source": [
    "Given an integer n, return the decimal value of the binary string formed by concatenating the binary representations \n",
    "of 1 to n in order, modulo 109 + 7.\n",
    "\n",
    "Example 1:\n",
    "Input: n = 1\n",
    "Output: 1\n",
    "Explanation: \"1\" in binary corresponds to the decimal value 1. \n",
    "\n",
    "Example 2:\n",
    "Input: n = 3\n",
    "Output: 27\n",
    "Explanation: In binary, 1, 2, and 3 corresponds to \"1\", \"10\", and \"11\".\n",
    "After concatenating them, we have \"11011\", which corresponds to the decimal value 27.\n",
    "\n",
    "Example 3:\n",
    "Input: n = 12\n",
    "Output: 505379714\n",
    "Explanation: The concatenation results in \"1101110010111011110001001101010111100\".\n",
    "The decimal value of that is 118505380540.\n",
    "After modulo 109 + 7, the result is 505379714.\n",
    " \n",
    "Constraints:\n",
    "1 <= n <= 105\n",
    "\n",
    "Hint #1  \n",
    "Express the nth number value in a recursion formula and think about how we can do a fast evaluation."
   ]
  },
  {
   "cell_type": "code",
   "execution_count": 34,
   "metadata": {},
   "outputs": [],
   "source": [
    "Can convert decimal to binary this way and concatenate. But it is not an optimal solution. And the fact that it takes \n",
    "long time to concatenate pushes to find an optimal solution the one like in the cell below\n",
    "\n",
    "def concatenatedBinary(n):\n",
    "    result=''\n",
    "    for i in range(1, n+1):\n",
    "        result+=str(bin(i)[2:])\n",
    "        \n",
    "    return result"
   ]
  },
  {
   "cell_type": "code",
   "execution_count": 35,
   "metadata": {},
   "outputs": [
    {
     "data": {
      "text/plain": [
       "'1101110010111011110001001101010111100'"
      ]
     },
     "execution_count": 35,
     "metadata": {},
     "output_type": "execute_result"
    }
   ],
   "source": [
    "concatenatedBinary(12)"
   ]
  },
  {
   "cell_type": "code",
   "execution_count": 77,
   "metadata": {},
   "outputs": [],
   "source": [
    "Final submission\n",
    "\n",
    "import math\n",
    "\n",
    "def concatenatedBinary(n):\n",
    "    result=0\n",
    "    i=1\n",
    "    while i<=n:\n",
    "        result=((result<<(1+(int(math.log2(i)))))%1000000007+i)%1000000007\n",
    "        i+=1\n",
    "    return result\n",
    "        "
   ]
  },
  {
   "cell_type": "code",
   "execution_count": 78,
   "metadata": {},
   "outputs": [
    {
     "data": {
      "text/plain": [
       "505379714"
      ]
     },
     "execution_count": 78,
     "metadata": {},
     "output_type": "execute_result"
    }
   ],
   "source": [
    "concatenatedBinary(12)"
   ]
  }
 ],
 "metadata": {
  "kernelspec": {
   "display_name": "Python 3",
   "language": "python",
   "name": "python3"
  },
  "language_info": {
   "codemirror_mode": {
    "name": "ipython",
    "version": 3
   },
   "file_extension": ".py",
   "mimetype": "text/x-python",
   "name": "python",
   "nbconvert_exporter": "python",
   "pygments_lexer": "ipython3",
   "version": "3.7.4"
  }
 },
 "nbformat": 4,
 "nbformat_minor": 2
}
