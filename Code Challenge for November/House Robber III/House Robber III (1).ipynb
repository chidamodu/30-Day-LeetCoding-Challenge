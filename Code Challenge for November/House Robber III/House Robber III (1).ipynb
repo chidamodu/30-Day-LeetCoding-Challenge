{
 "cells": [
  {
   "cell_type": "code",
   "execution_count": null,
   "metadata": {},
   "outputs": [],
   "source": [
    "The thief has found himself a new place for his thievery again. There is only one entrance to this area, called the \n",
    "\"root.\" Besides the root, each house has one and only one parent house. After a tour, the smart thief realized that \n",
    "\"all houses in this place forms a binary tree\". It will automatically contact the police if two directly-linked \n",
    "houses were broken into on the same night.\n",
    "\n",
    "Determine the maximum amount of money the thief can rob tonight without alerting the police.\n",
    "\n",
    "Example 1:\n",
    "Input: [3,2,3,null,3,null,1]\n",
    "\n",
    "     3\n",
    "    / \\\n",
    "   2   3\n",
    "    \\   \\ \n",
    "     3   1\n",
    "\n",
    "Output: 7 \n",
    "Explanation: Maximum amount of money the thief can rob = 3 + 3 + 1 = 7.\n",
    "\n",
    "Example 2:\n",
    "Input: [3,4,5,1,3,null,1]\n",
    "\n",
    "     3\n",
    "    / \\\n",
    "   4   5\n",
    "  / \\   \\ \n",
    " 1   3   1\n",
    "\n",
    "Output: 9\n",
    "Explanation: Maximum amount of money the thief can rob = 4 + 5 = 9."
   ]
  },
  {
   "cell_type": "code",
   "execution_count": null,
   "metadata": {},
   "outputs": [],
   "source": [
    "Algorithm\n",
    "\n",
    "Use a helper function which receives a node as input and returns a two-element array, where the first element \n",
    "represents the maximum amount of money the thief can rob if starting from this node without robbing this node, and \n",
    "the second element represents the maximum amount of money the thief can rob if starting from this node and robbing \n",
    "this node.\n",
    "\n",
    "The basic case of the helper function should be null node, and in this case, it returns two zeros.\n",
    "\n",
    "Finally, call the helper(root) in the main function, and return its maximum value."
   ]
  },
  {
   "cell_type": "code",
   "execution_count": null,
   "metadata": {},
   "outputs": [],
   "source": [
    "# Definition for a binary tree node.\n",
    "# class TreeNode:\n",
    "#     def __init__(self, val=0, left=None, right=None):\n",
    "#         self.val = val\n",
    "#         self.left = left\n",
    "#         self.right = right\n",
    "class Solution:\n",
    "    def rob(self, root: TreeNode) -> int:\n",
    "        @lru_cache(None)\n",
    "        def recursive_loop(node, parent_steal):\n",
    "            \n",
    "            if not node:\n",
    "                return 0\n",
    "                \n",
    "            if parent_steal:\n",
    "                return recursive_loop(node.left, False)+recursive_loop(node.right, False)\n",
    "            \n",
    "            else:\n",
    "                steal=node.val + recursive_loop(node.left, True) + recursive_loop(node.right, True)\n",
    "                \n",
    "                no_steal=recursive_loop(node.left, False) + recursive_loop(node.right, False)\n",
    "                \n",
    "                return max(steal, no_steal)\n",
    "        \n",
    "        return recursive_loop(root, False)\n",
    "                "
   ]
  },
  {
   "cell_type": "code",
   "execution_count": null,
   "metadata": {},
   "outputs": [],
   "source": [
    "Complexity Analysis\n",
    "\n",
    "Let N be the number of nodes in the binary tree.\n",
    "\n",
    "Time complexity: O(N) since we visit all nodes once.\n",
    "\n",
    "Space complexity: O(N) since we need stacks to do recursion, and the maximum depth of the recursion is the height of \n",
    "the tree, which is O(N) in the worst case and O(log(N)) in the best case."
   ]
  },
  {
   "cell_type": "code",
   "execution_count": null,
   "metadata": {},
   "outputs": [],
   "source": [
    "Provided by Leetcode\n",
    "\n",
    "class Solution:\n",
    "    def rob(self, root: TreeNode) -> int:\n",
    "        def helper(node):\n",
    "            # return [rob this node, not rob this node]\n",
    "            if not node:\n",
    "                return (0, 0)\n",
    "            left = helper(node.left)\n",
    "            right = helper(node.right)\n",
    "            # if we rob this node, we cannot rob its children\n",
    "            rob = node.val + left[1] + right[1]\n",
    "            # else we could choose to either rob its children or not\n",
    "            not_rob = max(left) + max(right)\n",
    "            return [rob, not_rob]\n",
    "\n",
    "        return max(helper(root))\n",
    "    \n",
    "    "
   ]
  }
 ],
 "metadata": {
  "kernelspec": {
   "display_name": "Python 3",
   "language": "python",
   "name": "python3"
  },
  "language_info": {
   "codemirror_mode": {
    "name": "ipython",
    "version": 3
   },
   "file_extension": ".py",
   "mimetype": "text/x-python",
   "name": "python",
   "nbconvert_exporter": "python",
   "pygments_lexer": "ipython3",
   "version": "3.7.4"
  }
 },
 "nbformat": 4,
 "nbformat_minor": 2
}
