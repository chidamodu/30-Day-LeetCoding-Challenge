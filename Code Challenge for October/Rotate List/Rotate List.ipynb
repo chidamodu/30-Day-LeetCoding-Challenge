{
 "cells": [
  {
   "cell_type": "code",
   "execution_count": null,
   "metadata": {},
   "outputs": [],
   "source": [
    "Given a linked list, rotate the list to the right by k places, where k is non-negative.\n",
    "\n",
    "Example 1:\n",
    "\n",
    "Input: 1->2->3->4->5->NULL, k = 2\n",
    "Output: 4->5->1->2->3->NULL\n",
    "\n",
    "Explanation:\n",
    "rotate 1 steps to the right: 5->1->2->3->4->NULL\n",
    "rotate 2 steps to the right: 4->5->1->2->3->NULL\n",
    "\n",
    "-----------------------------------------------------------------------------------------------------------------------\n",
    "Example 2:\n",
    "Input: 0->1->2->NULL, k = 4\n",
    "Output: 2->0->1->NULL\n",
    "\n",
    "Explanation:\n",
    "rotate 1 steps to the right: 2->0->1->NULL\n",
    "rotate 2 steps to the right: 1->2->0->NULL\n",
    "rotate 3 steps to the right: 0->1->2->NULL\n",
    "rotate 4 steps to the right: 2->0->1->NULL"
   ]
  },
  {
   "cell_type": "code",
   "execution_count": null,
   "metadata": {},
   "outputs": [],
   "source": [
    "# Definition for singly-linked list.\n",
    "# class ListNode:\n",
    "#     def __init__(self, val=0, next=None):\n",
    "#         self.val = val\n",
    "#         self.next = next\n",
    "class Solution:\n",
    "    def rotateRight(self, head: ListNode, k: int) -> ListNode:\n",
    "        if not head or k==0:\n",
    "            return head\n",
    "        \n",
    "        last=head\n",
    "        count_val=1\n",
    "        \n",
    "        while last.next:\n",
    "            count_val+=1\n",
    "            last=last.next\n",
    "            \n",
    "        last.next=head\n",
    "        current=head\n",
    "        \n",
    "        for _ in range(count_val-(k%count_val)-1):\n",
    "            current=current.next\n",
    "            \n",
    "        result=current.next    \n",
    "        current.next=None\n",
    "        \n",
    "    return result\n",
    "        \n",
    "outcome:\n",
    "Your runtime beats 51.86 % of python3 submissions.\n",
    "Runtime: 40 ms\n",
    "Memory Usage: 14.1 MB\n",
    "        "
   ]
  }
 ],
 "metadata": {
  "kernelspec": {
   "display_name": "Python 3",
   "language": "python",
   "name": "python3"
  },
  "language_info": {
   "codemirror_mode": {
    "name": "ipython",
    "version": 3
   },
   "file_extension": ".py",
   "mimetype": "text/x-python",
   "name": "python",
   "nbconvert_exporter": "python",
   "pygments_lexer": "ipython3",
   "version": "3.7.4"
  }
 },
 "nbformat": 4,
 "nbformat_minor": 2
}
