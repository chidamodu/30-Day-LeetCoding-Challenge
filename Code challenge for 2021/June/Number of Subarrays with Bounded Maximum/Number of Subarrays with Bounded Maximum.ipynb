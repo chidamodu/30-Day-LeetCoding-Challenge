{
 "cells": [
  {
   "cell_type": "code",
   "execution_count": null,
   "metadata": {},
   "outputs": [],
   "source": [
    "We are given an array nums of positive integers, and two positive integers left and right (left <= right).\n",
    "\n",
    "Return the number of (contiguous, non-empty) subarrays such that the value of the maximum array element in that \n",
    "subarray is at least left and at most right.\n",
    "\n",
    "Example:\n",
    "Input: \n",
    "nums = [2, 1, 4, 3]\n",
    "left = 2\n",
    "right = 3\n",
    "Output: 3\n",
    "Explanation: There are three subarrays that meet the requirements: [2], [2, 1], [3].\n",
    "\n",
    "Note:\n",
    "left, right, and nums[i] will be an integer in the range [0, 109].\n",
    "The length of nums will be in the range of [1, 50000].\n"
   ]
  },
  {
   "cell_type": "code",
   "execution_count": null,
   "metadata": {},
   "outputs": [],
   "source": [
    "class Solution:\n",
    "    def numSubarrayBoundedMax(self, nums: List[int], left: int, right: int) -> int:\n",
    "        def count(bound):\n",
    "            ans = cnt = 0\n",
    "            for x in nums:\n",
    "                cnt = cnt + 1 if x <= bound else 0\n",
    "                ans += cnt\n",
    "            return ans\n",
    "\n",
    "        return count(right) - count(left - 1)"
   ]
  },
  {
   "cell_type": "code",
   "execution_count": null,
   "metadata": {},
   "outputs": [],
   "source": [
    "Complexity\n",
    "\n",
    "Time: O(N)\n",
    "Space: O(1)"
   ]
  }
 ],
 "metadata": {
  "kernelspec": {
   "display_name": "Python 3",
   "language": "python",
   "name": "python3"
  },
  "language_info": {
   "codemirror_mode": {
    "name": "ipython",
    "version": 3
   },
   "file_extension": ".py",
   "mimetype": "text/x-python",
   "name": "python",
   "nbconvert_exporter": "python",
   "pygments_lexer": "ipython3",
   "version": "3.7.4"
  }
 },
 "nbformat": 4,
 "nbformat_minor": 2
}
