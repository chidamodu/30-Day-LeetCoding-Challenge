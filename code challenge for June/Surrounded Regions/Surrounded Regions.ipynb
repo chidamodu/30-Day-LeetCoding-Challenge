{
 "cells": [
  {
   "cell_type": "code",
   "execution_count": null,
   "metadata": {},
   "outputs": [],
   "source": [
    "Given a 2D board containing 'X' and 'O' (the letter O), capture all regions surrounded by 'X'.\n",
    "\n",
    "A region is captured by flipping all 'O's into 'X's in that surrounded region.\n",
    "\n",
    "Example:\n",
    "\n",
    "X X X X\n",
    "X O O X\n",
    "X X O X\n",
    "X O X X\n",
    "\n",
    "After running your function, the board should be:\n",
    "\n",
    "X X X X\n",
    "X X X X\n",
    "X X X X\n",
    "X O X X\n",
    "\n",
    "Explanation:\n",
    "Surrounded regions shouldn’t be on the border, which means that any 'O' on the border of the board are not flipped to \n",
    "'X'. Any 'O' that is not on the border and it is not connected to an 'O' on the border will be flipped to 'X'. \n",
    "Two cells are connected if they are adjacent cells connected horizontally or vertically.\n"
   ]
  },
  {
   "cell_type": "code",
   "execution_count": 26,
   "metadata": {},
   "outputs": [],
   "source": [
    "\n",
    "def solve(board):\n",
    "    \n",
    "    \n",
    "    dp=[[i for i in range(len(board[0]))] for j in range(len(board))]\n",
    "    \n",
    "#     start_row=0\n",
    "#     end_row=len(dp)\n",
    "#     start_column=0\n",
    "#     end_column=\n",
    "    \n",
    "#     for i in range(len(dp)):\n",
    "#         print(i)\n",
    "        \n",
    "    return dp\n",
    "\n"
   ]
  },
  {
   "cell_type": "code",
   "execution_count": 27,
   "metadata": {},
   "outputs": [
    {
     "data": {
      "text/plain": [
       "[[0, 1, 2, 3], [0, 1, 2, 3], [0, 1, 2, 3]]"
      ]
     },
     "execution_count": 27,
     "metadata": {},
     "output_type": "execute_result"
    }
   ],
   "source": [
    "solve([[1,2,5,6], [4,6,7,9], [8,7,9,12]])"
   ]
  },
  {
   "cell_type": "code",
   "execution_count": null,
   "metadata": {},
   "outputs": [],
   "source": [
    "Leetcode submission\n",
    "\n",
    "class Solution:\n",
    "    def solve(self, board: List[List[str]]) -> None:\n",
    "        \"\"\"\n",
    "        Do not return anything, modify board in-place instead.\n",
    "        \"\"\"\n",
    "        if not board or not board[0]:\n",
    "            return\n",
    "        \n",
    "        m = len(board)\n",
    "        n = len(board[0])\n",
    "        \n",
    "        edges = [(i, j) for i in [0, m-1] for j in range(n)] + \\\n",
    "                [(i, j) for i in range(1,m-1) for j in [0, n-1]]\n",
    "        \n",
    "        for row, col in edges:\n",
    "            if board[row][col] == 'O':\n",
    "                board[row][col] = 'S'\n",
    "                stack = [(row, col)]\n",
    "                while stack:\n",
    "                    r, c = stack.pop()\n",
    "                    for i, j in [(r+1, c), (r-1, c), (r, c+1), (r,c-1)]:\n",
    "                        if 0 < i < m and 0 < j < n and board[i][j] == 'O':\n",
    "                            board[i][j] = 'S'\n",
    "                            stack.append((i, j))\n",
    "                            \n",
    "        for row in range(m):\n",
    "            for col in range(n):\n",
    "                if board[row][col] == 'S':\n",
    "                    board[row][col] = 'O'\n",
    "                elif board[row][col] == 'O':\n",
    "                    board[row][col] = 'X'\n",
    "        \n",
    "        return board\n",
    "\n",
    "\n",
    "result:\n",
    "our runtime beats 64.74 % of python3 submissions.\n",
    "Runtime: 148 ms\n",
    "Memory Usage: 14.8 MB"
   ]
  }
 ],
 "metadata": {
  "kernelspec": {
   "display_name": "Python 3",
   "language": "python",
   "name": "python3"
  },
  "language_info": {
   "codemirror_mode": {
    "name": "ipython",
    "version": 3
   },
   "file_extension": ".py",
   "mimetype": "text/x-python",
   "name": "python",
   "nbconvert_exporter": "python",
   "pygments_lexer": "ipython3",
   "version": "3.7.4"
  }
 },
 "nbformat": 4,
 "nbformat_minor": 2
}
