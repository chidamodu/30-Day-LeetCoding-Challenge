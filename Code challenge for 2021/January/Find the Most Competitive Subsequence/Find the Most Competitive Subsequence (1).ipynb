{
 "cells": [
  {
   "cell_type": "code",
   "execution_count": null,
   "metadata": {},
   "outputs": [],
   "source": [
    "Given an integer array nums and a positive integer k, return the most competitive subsequence of nums of size k.\n",
    "\n",
    "An array's subsequence is a resulting sequence obtained by erasing some (possibly zero) elements from the array.\n",
    "\n",
    "We define that a subsequence a is more competitive than a subsequence b (of the same length) if in the first position \n",
    "where a and b differ, subsequence a has a number less than the corresponding number in b. For example, [1,3,4] is \n",
    "more competitive than [1,3,5] because the first position they differ is at the final number, and 4 is less than 5.\n",
    "\n",
    "Example 1:\n",
    "Input: nums = [3,5,2,6], k = 2\n",
    "Output: [2,6]\n",
    "Explanation: Among the set of every possible subsequence: {[3,5], [3,2], [3,6], [5,2], [5,6], [2,6]}, [2,6] is the \n",
    "most competitive.\n",
    "\n",
    "Example 2:\n",
    "Input: nums = [2,4,3,3,5,4,9,6], k = 4\n",
    "Output: [2,3,3,4]\n",
    " \n",
    "Constraints:\n",
    "1 <= nums.length <= 105\n",
    "0 <= nums[i] <= 109\n",
    "1 <= k <= nums.length\n",
    "\n",
    "Hint #1  \n",
    "In lexicographical order, the elements to the left have higher priority than those that come after. Can you think of \n",
    "a strategy that incrementally builds the answer from left to right?\n",
    "\n"
   ]
  },
  {
   "cell_type": "code",
   "execution_count": 38,
   "metadata": {},
   "outputs": [],
   "source": [
    "Was thinking along this line - not bad - formed the subsequences\n",
    "\n",
    "def mostCompetitive(nums, k):\n",
    "    result=[]\n",
    "    for i in range(len(nums)):\n",
    "        if len(nums[i:i+k])==k:\n",
    "            result.append(nums[i:i+k])\n",
    "            \n",
    "    return [sorted(i) for i in result]"
   ]
  },
  {
   "cell_type": "code",
   "execution_count": 39,
   "metadata": {},
   "outputs": [
    {
     "data": {
      "text/plain": [
       "[[2, 3, 3, 4], [3, 3, 4, 5], [3, 3, 4, 5], [3, 4, 5, 9], [4, 5, 6, 9]]"
      ]
     },
     "execution_count": 39,
     "metadata": {},
     "output_type": "execute_result"
    }
   ],
   "source": [
    "mostCompetitive(nums = [2,4,3,3,5,4,9,6], k = 4)"
   ]
  },
  {
   "cell_type": "code",
   "execution_count": 46,
   "metadata": {},
   "outputs": [],
   "source": [
    "Just wow! The idea is not to form subsequences but to leverage stack to accomplish our goal. Leveraging the monotonic\n",
    "stack concept.\n",
    "\n",
    "def mostCompetitive(nums, k):\n",
    "    stack=[]\n",
    "    num_try=len(nums)-k\n",
    "    for i in nums:\n",
    "        while stack and i<stack[-1] and num_try>0:\n",
    "            stack.pop()\n",
    "            num_try-=1\n",
    "        \n",
    "        stack.append(i)\n",
    "        \n",
    "    return stack[:k]\n",
    "                \n",
    "               "
   ]
  },
  {
   "cell_type": "code",
   "execution_count": 47,
   "metadata": {},
   "outputs": [
    {
     "data": {
      "text/plain": [
       "[2, 3, 3, 4]"
      ]
     },
     "execution_count": 47,
     "metadata": {},
     "output_type": "execute_result"
    }
   ],
   "source": [
    "mostCompetitive(nums = [2,4,3,3,5,4,9,6], k = 4)"
   ]
  },
  {
   "cell_type": "code",
   "execution_count": null,
   "metadata": {},
   "outputs": [],
   "source": [
    "complexity: both time and space complexity is O(n), \n",
    "where n is length of our string, because for each digit it goes in and goes out of stack only once.\n",
    "    \n",
    "    "
   ]
  }
 ],
 "metadata": {
  "kernelspec": {
   "display_name": "Python 3",
   "language": "python",
   "name": "python3"
  },
  "language_info": {
   "codemirror_mode": {
    "name": "ipython",
    "version": 3
   },
   "file_extension": ".py",
   "mimetype": "text/x-python",
   "name": "python",
   "nbconvert_exporter": "python",
   "pygments_lexer": "ipython3",
   "version": "3.7.4"
  }
 },
 "nbformat": 4,
 "nbformat_minor": 2
}
