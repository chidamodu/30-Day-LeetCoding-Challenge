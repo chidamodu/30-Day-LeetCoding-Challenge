{
 "cells": [
  {
   "cell_type": "code",
   "execution_count": 26,
   "metadata": {},
   "outputs": [],
   "source": [
    "decimal to binary conversion\n",
    "\n",
    "def rangeBitwiseAnd(m):\n",
    "    bin_m=[]\n",
    "    while m!=0:\n",
    "        bin_m.append(m%2)\n",
    "        m//=2\n",
    "    return bin_m[::-1]\n",
    "    \n",
    "    "
   ]
  },
  {
   "cell_type": "code",
   "execution_count": 27,
   "metadata": {},
   "outputs": [
    {
     "data": {
      "text/plain": [
       "[1, 1, 1]"
      ]
     },
     "execution_count": 27,
     "metadata": {},
     "output_type": "execute_result"
    }
   ],
   "source": [
    "rangeBitwiseAnd(7)"
   ]
  },
  {
   "cell_type": "code",
   "execution_count": 39,
   "metadata": {},
   "outputs": [],
   "source": [
    "def rangeBitwiseAnd1(m, n):\n",
    "    length=len(m)\n",
    "    result=[]\n",
    "    answer=0\n",
    "    \n",
    "    for i in range(length):\n",
    "        if m[i]==n[i]:\n",
    "            result.append(m[i]&n[i])\n",
    "        else:\n",
    "            break\n",
    "            \n",
    "    while len(result)<length:\n",
    "        result.append(0)\n",
    "        \n",
    "    r=len(result)-1\n",
    "    for j in range(len(result)):\n",
    "        answer+=result[j]*(2**r)\n",
    "        r-=1\n",
    "        \n",
    "    return answer\n",
    "        "
   ]
  },
  {
   "cell_type": "code",
   "execution_count": 40,
   "metadata": {},
   "outputs": [
    {
     "data": {
      "text/plain": [
       "4"
      ]
     },
     "execution_count": 40,
     "metadata": {},
     "output_type": "execute_result"
    }
   ],
   "source": [
    "rangeBitwiseAnd1([1,0,1], [1,1,1])"
   ]
  },
  {
   "cell_type": "code",
   "execution_count": 29,
   "metadata": {},
   "outputs": [
    {
     "data": {
      "text/plain": [
       "'0b101'"
      ]
     },
     "execution_count": 29,
     "metadata": {},
     "output_type": "execute_result"
    }
   ],
   "source": [
    "bin(5)"
   ]
  },
  {
   "cell_type": "code",
   "execution_count": 30,
   "metadata": {},
   "outputs": [
    {
     "data": {
      "text/plain": [
       "'0b111'"
      ]
     },
     "execution_count": 30,
     "metadata": {},
     "output_type": "execute_result"
    }
   ],
   "source": [
    "bin(7)"
   ]
  },
  {
   "cell_type": "code",
   "execution_count": 33,
   "metadata": {},
   "outputs": [
    {
     "data": {
      "text/plain": [
       "'0b100'"
      ]
     },
     "execution_count": 33,
     "metadata": {},
     "output_type": "execute_result"
    }
   ],
   "source": [
    "bin(4)"
   ]
  },
  {
   "cell_type": "code",
   "execution_count": 36,
   "metadata": {},
   "outputs": [
    {
     "data": {
      "text/plain": [
       "8"
      ]
     },
     "execution_count": 36,
     "metadata": {},
     "output_type": "execute_result"
    }
   ],
   "source": [
    "2**3"
   ]
  },
  {
   "cell_type": "code",
   "execution_count": 51,
   "metadata": {},
   "outputs": [],
   "source": [
    "this solution did not work for all solutions\n",
    "\n",
    "def rangeBitwiseAnd1(m, n):\n",
    "    result=[]\n",
    "    answer=0\n",
    "    \n",
    "    def dec_bin(m):\n",
    "        bin_m=[]\n",
    "        while m!=0:\n",
    "            bin_m.append(m%2)\n",
    "            m//=2\n",
    "        return bin_m[::-1]\n",
    "    \n",
    "    bin_m=dec_bin(m)\n",
    "    bin_n=dec_bin(n)\n",
    "    \n",
    "    if len(bin_m)<len(bin_n):\n",
    "        length=len(bin_m)\n",
    "    else:\n",
    "        length=len(bin_n)\n",
    "        \n",
    "    \n",
    "    \n",
    "    for i in range(length):\n",
    "        if bin_m[i]==bin_n[i]:\n",
    "            result.append(bin_m[i]&bin_n[i])\n",
    "        else:\n",
    "            break\n",
    "            \n",
    "    while len(result)<length:\n",
    "        result.append(0)\n",
    "        \n",
    "    r=len(result)-1\n",
    "    if r==0:\n",
    "        return 0\n",
    "        \n",
    "    else:\n",
    "        for j in range(len(result)):\n",
    "            answer+=result[j]*(2**r)\n",
    "            r-=1\n",
    "        \n",
    "    return answer\n",
    "        "
   ]
  },
  {
   "cell_type": "code",
   "execution_count": 52,
   "metadata": {},
   "outputs": [
    {
     "data": {
      "text/plain": [
       "0"
      ]
     },
     "execution_count": 52,
     "metadata": {},
     "output_type": "execute_result"
    }
   ],
   "source": [
    "rangeBitwiseAnd1(1,1)"
   ]
  },
  {
   "cell_type": "code",
   "execution_count": 47,
   "metadata": {},
   "outputs": [
    {
     "data": {
      "text/plain": [
       "'0b1'"
      ]
     },
     "execution_count": 47,
     "metadata": {},
     "output_type": "execute_result"
    }
   ],
   "source": [
    "bin(1)"
   ]
  },
  {
   "cell_type": "code",
   "execution_count": 48,
   "metadata": {},
   "outputs": [
    {
     "data": {
      "text/plain": [
       "'0b10'"
      ]
     },
     "execution_count": 48,
     "metadata": {},
     "output_type": "execute_result"
    }
   ],
   "source": [
    "bin(2)"
   ]
  },
  {
   "cell_type": "code",
   "execution_count": 55,
   "metadata": {},
   "outputs": [],
   "source": [
    "def rangeBitwiseAnd(m, n):\n",
    "    shift = 0\n",
    "    #find the common left header (or, same prefix) of m and n\n",
    "    while m != n:\n",
    "        m >>= 1 #shift to right by 1 bit\n",
    "        n >>= 1\n",
    "        shift += 1\n",
    "    #then shift back to left to form the final result\n",
    "    #(the remaining bits are not the same, so definitely result in 0 after AND)\n",
    "    return m << shift"
   ]
  },
  {
   "cell_type": "code",
   "execution_count": 56,
   "metadata": {},
   "outputs": [
    {
     "data": {
      "text/plain": [
       "4"
      ]
     },
     "execution_count": 56,
     "metadata": {},
     "output_type": "execute_result"
    }
   ],
   "source": [
    "rangeBitwiseAnd(5,7)"
   ]
  },
  {
   "cell_type": "code",
   "execution_count": null,
   "metadata": {},
   "outputs": [],
   "source": [
    "Leetcode submission\n",
    "\n",
    "class Solution:\n",
    "    def rangeBitwiseAnd(self, m: int, n: int) -> int:\n",
    "        shift = 0\n",
    "        while m != n:\n",
    "            m >>= 1\n",
    "            n >>= 1\n",
    "            shift += 1\n",
    "    \n",
    "    \n",
    "        return m << shift\n",
    "\n",
    "Your runtime beats 67.74 % of python3 submissions.\n",
    "\n",
    "Runtime: 56 ms\n",
    "Memory Usage: 14 MB"
   ]
  }
 ],
 "metadata": {
  "kernelspec": {
   "display_name": "Python 3",
   "language": "python",
   "name": "python3"
  },
  "language_info": {
   "codemirror_mode": {
    "name": "ipython",
    "version": 3
   },
   "file_extension": ".py",
   "mimetype": "text/x-python",
   "name": "python",
   "nbconvert_exporter": "python",
   "pygments_lexer": "ipython3",
   "version": "3.7.4"
  }
 },
 "nbformat": 4,
 "nbformat_minor": 2
}
