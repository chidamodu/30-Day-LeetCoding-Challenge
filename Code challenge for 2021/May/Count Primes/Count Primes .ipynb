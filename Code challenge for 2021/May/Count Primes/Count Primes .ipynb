{
 "cells": [
  {
   "cell_type": "code",
   "execution_count": null,
   "metadata": {},
   "outputs": [],
   "source": [
    "Count the number of prime numbers less than a non-negative number, n.\n",
    "\n",
    "Example 1:\n",
    "Input: n = 10\n",
    "Output: 4\n",
    "Explanation: There are 4 prime numbers less than 10, they are 2, 3, 5, 7.\n",
    "\n",
    "Example 2:\n",
    "Input: n = 0\n",
    "Output: 0\n",
    "\n",
    "Example 3:\n",
    "Input: n = 1\n",
    "Output: 0\n",
    " \n",
    "\n",
    "Constraints:\n",
    "0 <= n <= 5 * 106\n",
    "\n",
    "Hint #1  \n",
    "Let's start with a isPrime function. To determine if a number is prime, we need to check if it is not divisible by \n",
    "any number less than n. The runtime complexity of isPrime function would be O(n) and hence counting the total prime \n",
    "numbers up to n would be O(n2). Could we do better?\n",
    "\n",
    "Hint #2  \n",
    "As we know the number must not be divisible by any number > n / 2, we can immediately cut the total iterations half \n",
    "by dividing only up to n / 2. Could we still do better?\n",
    "\n",
    "Hint #3  \n",
    "Let's write down all of 12's factors:\n",
    "\n",
    "2 × 6 = 12\n",
    "3 × 4 = 12\n",
    "4 × 3 = 12\n",
    "6 × 2 = 12\n",
    "As you can see, calculations of 4 × 3 and 6 × 2 are not necessary. Therefore, we only need to consider factors up to \n",
    "√n because, if n is divisible by some number p, then n = p × q and since p ≤ q, we could derive that p ≤ √n.\n",
    "\n",
    "Our total runtime has now improved to O(n1.5), which is slightly better. Is there a faster approach?\n",
    "\n",
    "public int countPrimes(int n) {\n",
    "   int count = 0;\n",
    "   for (int i = 1; i < n; i++) {\n",
    "      if (isPrime(i)) count++;\n",
    "   }\n",
    "   return count;\n",
    "}\n",
    "\n",
    "private boolean isPrime(int num) {\n",
    "   if (num <= 1) return false;\n",
    "   // Loop's ending condition is i * i <= num instead of i <= sqrt(num)\n",
    "   // to avoid repeatedly calling an expensive function sqrt().\n",
    "   for (int i = 2; i * i <= num; i++) {\n",
    "      if (num % i == 0) return false;\n",
    "   }\n",
    "   return true;\n",
    "}\n",
    "   Hide Hint #4  \n",
    "The Sieve of Eratosthenes is one of the most efficient ways to find all prime numbers up to n. But don't let that \n",
    "name scare you, I promise that the concept is surprisingly simple.\n",
    "\n",
    "\n",
    "Sieve of Eratosthenes: algorithm steps for primes below 121. \"Sieve of Eratosthenes Animation\" by SKopp is licensed \n",
    "under CC BY 2.0.\n",
    "\n",
    "We start off with a table of n numbers. Let's look at the first number, 2. We know all multiples of 2 must not be \n",
    "primes, so we mark them off as non-primes. Then we look at the next number, 3. Similarly, all multiples of 3 such as \n",
    "3 × 2 = 6, 3 × 3 = 9, ... must not be primes, so we mark them off as well. Now we look at the next number, 4, which \n",
    "was already marked off. What does this tell you? Should you mark off all multiples of 4 as well?\n",
    "\n",
    "   Hide Hint #5  \n",
    "4 is not a prime because it is divisible by 2, which means all multiples of 4 must also be divisible by 2 and were \n",
    "already marked off. So we can skip 4 immediately and go to the next number, 5. Now, all multiples of 5 such \n",
    "as 5 × 2 = 10, 5 × 3 = 15, 5 × 4 = 20, 5 × 5 = 25, ... can be marked off. There is a slight optimization here, \n",
    "we do not need to start from 5 × 2 = 10. Where should we start marking off?\n",
    "\n",
    "   Hide Hint #6  \n",
    "In fact, we can mark off multiples of 5 starting at 5 × 5 = 25, because 5 × 2 = 10 was already marked off by \n",
    "multiple of 2, similarly 5 × 3 = 15 was already marked off by multiple of 3. Therefore, if the current number is p, \n",
    "we can always mark off multiples of p starting at p2, then in increments of p: p2 + p, p2 + 2p, ... Now what should \n",
    "    be the terminating loop condition?\n",
    "\n",
    "   Hide Hint #7  \n",
    "It is easy to say that the terminating loop condition is p < n, which is certainly correct but not efficient. \n",
    "Do you still remember Hint #3?\n",
    "\n",
    "   Hide Hint #8  \n",
    "Yes, the terminating loop condition can be p < √n, as all non-primes ≥ √n must have already been marked off. \n",
    "When the loop terminates, all the numbers in the table that are non-marked are prime.\n",
    "\n",
    "The Sieve of Eratosthenes uses an extra O(n) memory and its runtime complexity is O(n log log n). For the more \n",
    "mathematically inclined readers, you can read more about its algorithm complexity on Wikipedia.\n",
    "\n",
    "public int countPrimes(int n) {\n",
    "   boolean[] isPrime = new boolean[n];\n",
    "   for (int i = 2; i < n; i++) {\n",
    "      isPrime[i] = true;\n",
    "   }\n",
    "   // Loop's ending condition is i * i < n instead of i < sqrt(n)\n",
    "   // to avoid repeatedly calling an expensive function sqrt().\n",
    "   for (int i = 2; i * i < n; i++) {\n",
    "      if (!isPrime[i]) continue;\n",
    "      for (int j = i * i; j < n; j += i) {\n",
    "         isPrime[j] = false;\n",
    "      }\n",
    "   }\n",
    "   int count = 0;\n",
    "   for (int i = 2; i < n; i++) {\n",
    "      if (isPrime[i]) count++;\n",
    "   }\n",
    "   return count;\n",
    "}\n"
   ]
  },
  {
   "cell_type": "code",
   "execution_count": 44,
   "metadata": {},
   "outputs": [],
   "source": [
    "import math\n",
    "def countPrimes(n):\n",
    "    primes=[0, 0] + [1] * (n -1) \n",
    "    \n",
    "    square_n=math.ceil(n**0.5)\n",
    "    \n",
    "    for i in range(square_n+1):\n",
    "        if primes[i]:\n",
    "            for j in range(i*i, n+1, i):\n",
    "                primes[j]=0\n",
    "            \n",
    "                \n",
    "    return primes, sum(primes[:-1])\n",
    "        \n",
    "        "
   ]
  },
  {
   "cell_type": "code",
   "execution_count": 45,
   "metadata": {},
   "outputs": [
    {
     "data": {
      "text/plain": [
       "([0, 0, 1], 0)"
      ]
     },
     "execution_count": 45,
     "metadata": {},
     "output_type": "execute_result"
    }
   ],
   "source": [
    "countPrimes(2)"
   ]
  },
  {
   "cell_type": "code",
   "execution_count": 12,
   "metadata": {},
   "outputs": [],
   "source": [
    "sieve = [0, 0] + [1] * (10 - 1) "
   ]
  },
  {
   "cell_type": "code",
   "execution_count": 13,
   "metadata": {},
   "outputs": [
    {
     "data": {
      "text/plain": [
       "[0, 0, 1, 1, 1, 1, 1, 1, 1, 1, 1]"
      ]
     },
     "execution_count": 13,
     "metadata": {},
     "output_type": "execute_result"
    }
   ],
   "source": [
    "sieve"
   ]
  },
  {
   "cell_type": "code",
   "execution_count": 51,
   "metadata": {},
   "outputs": [
    {
     "name": "stdout",
     "output_type": "stream",
     "text": [
      "0\n"
     ]
    }
   ],
   "source": [
    "n=2\n",
    "\n",
    "for j in range(0, n+1, 3):\n",
    "    print(j)"
   ]
  },
  {
   "cell_type": "code",
   "execution_count": null,
   "metadata": {},
   "outputs": [],
   "source": [
    "This is a very old and classical problem. We are asked to find number of prime numbers in some range, and the most \n",
    "used idea here is to apply so-called sieve of Eratosthenes. The idea is to progressivly remove numbers which are \n",
    "not prime. First, we start with odd numbers, that is numbers, which are divisible by 2. Then we remove all numbers, \n",
    "divisible by 3, then by 5 (we skip 4, because it is also prime number) and so on. It is quite easy to code: let us \n",
    "    have sieve, where value will be 1 for prime numbers and 0 for not prime. In the beginning we put two first \n",
    "    elements as 0, because zero and one are not prime numbers. Then we check if sieve[k] is prime and if it is, we \n",
    "    mark numbers k*k, k*(k+1), ... as not primes. It is enough to start with k*k, because any not-prime number have \n",
    "    divisor less or equal than its square root.\n",
    "\n",
    "Complexity\n",
    "It is O(n*log log n) for time and O(n) for space. "
   ]
  },
  {
   "cell_type": "code",
   "execution_count": null,
   "metadata": {},
   "outputs": [],
   "source": []
  }
 ],
 "metadata": {
  "kernelspec": {
   "display_name": "Python 3",
   "language": "python",
   "name": "python3"
  },
  "language_info": {
   "codemirror_mode": {
    "name": "ipython",
    "version": 3
   },
   "file_extension": ".py",
   "mimetype": "text/x-python",
   "name": "python",
   "nbconvert_exporter": "python",
   "pygments_lexer": "ipython3",
   "version": "3.7.4"
  }
 },
 "nbformat": 4,
 "nbformat_minor": 2
}
