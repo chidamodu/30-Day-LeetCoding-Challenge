{
 "cells": [
  {
   "cell_type": "code",
   "execution_count": 5,
   "metadata": {},
   "outputs": [],
   "source": [
    "For some reason this style is not working on Leetcode submission\n",
    "def reverseString(s):\n",
    "    s=s[::-1]\n",
    "    return s"
   ]
  },
  {
   "cell_type": "code",
   "execution_count": 6,
   "metadata": {},
   "outputs": [
    {
     "data": {
      "text/plain": [
       "['o', 'l', 'l', 'e', 'h']"
      ]
     },
     "execution_count": 6,
     "metadata": {},
     "output_type": "execute_result"
    }
   ],
   "source": [
    "reverseString([\"h\",\"e\",\"l\",\"l\",\"o\"])"
   ]
  },
  {
   "cell_type": "code",
   "execution_count": 25,
   "metadata": {},
   "outputs": [],
   "source": [
    "def reverseString(s):\n",
    "    s.reverse()\n",
    " \n",
    "\n",
    "result:\n",
    "Your runtime beats 68.65 % of python3 submissions.\n",
    "Runtime: 212 ms\n",
    "Memory Usage: 18.3 MB"
   ]
  },
  {
   "cell_type": "code",
   "execution_count": 26,
   "metadata": {},
   "outputs": [],
   "source": [
    "reverseString([\"h\",\"e\",\"l\",\"l\",\"o\"])"
   ]
  },
  {
   "cell_type": "code",
   "execution_count": 43,
   "metadata": {},
   "outputs": [],
   "source": [
    "but the problem asks to not return anything!\n",
    "\n",
    "def reverseString(s):\n",
    "    left=0\n",
    "    right=len(s)-1\n",
    "    while left < right:\n",
    "        temp=s[left]\n",
    "        s[left]=s[right]\n",
    "        s[right]=temp\n",
    "        left+=1\n",
    "        right-=1\n",
    "        \n",
    "    return s\n",
    "\n",
    "result:\n",
    "Your runtime beats 68.65 % of python3 submissions.\n",
    "Runtime: 212 ms\n",
    "Memory Usage: 18.2 MB"
   ]
  },
  {
   "cell_type": "code",
   "execution_count": 44,
   "metadata": {},
   "outputs": [
    {
     "data": {
      "text/plain": [
       "['h', 'a', 'n', 'n', 'a', 'H']"
      ]
     },
     "execution_count": 44,
     "metadata": {},
     "output_type": "execute_result"
    }
   ],
   "source": [
    "reverseString([\"H\",\"a\",\"n\",\"n\",\"a\",\"h\"])"
   ]
  },
  {
   "cell_type": "code",
   "execution_count": 45,
   "metadata": {},
   "outputs": [],
   "source": [
    "def reverseString(s):\n",
    "    left=0\n",
    "    right=len(s)-1\n",
    "    while left <= right:\n",
    "        temp=s[left]\n",
    "        s[left]=s[right]\n",
    "        s[right]=temp\n",
    "        left+=1\n",
    "        right-=1\n",
    "\n",
    "Your runtime beats 39.06 % of python3 submissions.\n",
    "Runtime: 220 ms\n",
    "Memory Usage: 18.2 MB"
   ]
  },
  {
   "cell_type": "code",
   "execution_count": 46,
   "metadata": {},
   "outputs": [],
   "source": [
    "reverseString([\"H\",\"a\",\"n\",\"n\",\"a\",\"h\"])"
   ]
  },
  {
   "cell_type": "code",
   "execution_count": null,
   "metadata": {},
   "outputs": [],
   "source": [
    "More pythonic format\n",
    "\n",
    "class Solution:\n",
    "    def reverseString(self, s: List[str]) -> None:\n",
    "        \"\"\"\n",
    "        Do not return anything, modify s in-place instead.\n",
    "        \"\"\"\n",
    "        left=0\n",
    "        right=len(s)-1\n",
    "        while left <= right:\n",
    "            s[left], s[right]=s[right], s[left]\n",
    "            left, right = left+1, right-1\n",
    "\n",
    "\n",
    "Your runtime beats 39.06 % of python3 submissions.\n",
    "Runtime: 220 ms\n",
    "Memory Usage: 18.2 MB       \n",
    "        "
   ]
  }
 ],
 "metadata": {
  "kernelspec": {
   "display_name": "Python 3",
   "language": "python",
   "name": "python3"
  },
  "language_info": {
   "codemirror_mode": {
    "name": "ipython",
    "version": 3
   },
   "file_extension": ".py",
   "mimetype": "text/x-python",
   "name": "python",
   "nbconvert_exporter": "python",
   "pygments_lexer": "ipython3",
   "version": "3.7.4"
  }
 },
 "nbformat": 4,
 "nbformat_minor": 2
}
