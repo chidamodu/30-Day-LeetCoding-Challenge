{
 "cells": [
  {
   "cell_type": "code",
   "execution_count": null,
   "metadata": {},
   "outputs": [],
   "source": [
    "Given a non-empty string check if it can be constructed by taking a substring of it and appending multiple copies of \n",
    "the substring together. You may assume the given string consists of lowercase English letters only and its length \n",
    "will not exceed 10000.\n",
    "\n",
    " \n",
    "Example 1:\n",
    "Input: \"abab\"\n",
    "Output: True\n",
    "Explanation: It's the substring \"ab\" twice.\n",
    "\n",
    "Example 2:\n",
    "Input: \"aba\"\n",
    "Output: False\n",
    "\n",
    "Example 3:\n",
    "Input: \"abcabcabcabc\"\n",
    "Output: True\n",
    "Explanation: It's the substring \"abc\" four times. (And the substring \"abcabc\" twice.)"
   ]
  },
  {
   "cell_type": "code",
   "execution_count": 13,
   "metadata": {},
   "outputs": [],
   "source": [
    "def repeatedSubstringPattern(s):\n",
    "    for i in range(1, len(s)//2+1):\n",
    "        if len(s)%i==0:\n",
    "            num_repeat=len(s)//i\n",
    "            if s[:i]*num_repeat==s:\n",
    "                return True\n",
    "            \n",
    "    return False\n",
    "                \n",
    "result:\n",
    "Your runtime beats 78.66 % of python3 submissions.\n",
    "Runtime: 48 ms\n",
    "Memory Usage: 13.8 MB"
   ]
  },
  {
   "cell_type": "code",
   "execution_count": 14,
   "metadata": {},
   "outputs": [
    {
     "data": {
      "text/plain": [
       "True"
      ]
     },
     "execution_count": 14,
     "metadata": {},
     "output_type": "execute_result"
    }
   ],
   "source": [
    "repeatedSubstringPattern(\"abcabcabcabc\")"
   ]
  }
 ],
 "metadata": {
  "kernelspec": {
   "display_name": "Python 3",
   "language": "python",
   "name": "python3"
  },
  "language_info": {
   "codemirror_mode": {
    "name": "ipython",
    "version": 3
   },
   "file_extension": ".py",
   "mimetype": "text/x-python",
   "name": "python",
   "nbconvert_exporter": "python",
   "pygments_lexer": "ipython3",
   "version": "3.7.4"
  }
 },
 "nbformat": 4,
 "nbformat_minor": 2
}
