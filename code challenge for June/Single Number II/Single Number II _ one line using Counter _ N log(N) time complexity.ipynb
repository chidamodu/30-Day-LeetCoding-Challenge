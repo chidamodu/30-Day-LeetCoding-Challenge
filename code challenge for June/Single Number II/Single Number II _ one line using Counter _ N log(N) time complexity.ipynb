{
 "cells": [
  {
   "cell_type": "code",
   "execution_count": null,
   "metadata": {},
   "outputs": [],
   "source": [
    "Given a non-empty array of integers, every element appears three times except for one, which appears exactly once.\n",
    "Find that single one.\n",
    "\n",
    "Note:\n",
    "\n",
    "Your algorithm should have a linear runtime complexity. Could you implement it without using extra memory?\n",
    "\n",
    "Example 1:\n",
    "Input: [2,2,3,2]\n",
    "Output: 3\n",
    "    \n",
    "Example 2:\n",
    "Input: [0,1,0,1,0,1,99]\n",
    "Output: 99"
   ]
  },
  {
   "cell_type": "code",
   "execution_count": null,
   "metadata": {},
   "outputs": [],
   "source": [
    "simple and straightforward one liner\n",
    "\n",
    "def singleNumber(self, nums: List[int]) -> int:\n",
    "    return Counter(nums).most_common()[-1][0]\n",
    "\n"
   ]
  }
 ],
 "metadata": {
  "kernelspec": {
   "display_name": "Python 3",
   "language": "python",
   "name": "python3"
  },
  "language_info": {
   "codemirror_mode": {
    "name": "ipython",
    "version": 3
   },
   "file_extension": ".py",
   "mimetype": "text/x-python",
   "name": "python",
   "nbconvert_exporter": "python",
   "pygments_lexer": "ipython3",
   "version": "3.7.4"
  }
 },
 "nbformat": 4,
 "nbformat_minor": 2
}
