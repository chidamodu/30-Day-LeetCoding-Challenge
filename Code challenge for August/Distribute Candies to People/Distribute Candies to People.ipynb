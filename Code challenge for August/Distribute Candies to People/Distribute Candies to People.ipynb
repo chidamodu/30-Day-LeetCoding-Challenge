{
 "cells": [
  {
   "cell_type": "code",
   "execution_count": null,
   "metadata": {},
   "outputs": [],
   "source": [
    "We distribute some number of candies, to a row of n = num_people people in the following way:\n",
    "\n",
    "We then give 1 candy to the first person, 2 candies to the second person, and so on until we give n candies to the \n",
    "last person.\n",
    "\n",
    "Then, we go back to the start of the row, giving n + 1 candies to the first person, n + 2 candies to the second \n",
    "person, and so on until we give 2 * n candies to the last person.\n",
    "\n",
    "This process repeats (with us giving one more candy each time, and moving to the start of the row after we reach the \n",
    "                      end) until we run out of candies.  The last person will receive all of our remaining candies \n",
    "(not necessarily one more than the previous gift).\n",
    "\n",
    "Return an array (of length num_people and sum candies) that represents the final distribution of candies.\n",
    "\n",
    " \n",
    "\n",
    "Example 1:\n",
    "Input: candies = 7, num_people = 4\n",
    "Output: [1,2,3,1]\n",
    "Explanation:\n",
    "On the first turn, ans[0] += 1, and the array is [1,0,0,0].\n",
    "On the second turn, ans[1] += 2, and the array is [1,2,0,0].\n",
    "On the third turn, ans[2] += 3, and the array is [1,2,3,0].\n",
    "On the fourth turn, ans[3] += 1 (because there is only one candy left), and the final array is [1,2,3,1].\n",
    "\n",
    "Example 2:\n",
    "Input: candies = 10, num_people = 3\n",
    "Output: [5,2,3]\n",
    "Explanation: \n",
    "On the first turn, ans[0] += 1, and the array is [1,0,0].\n",
    "On the second turn, ans[1] += 2, and the array is [1,2,0].\n",
    "On the third turn, ans[2] += 3, and the array is [1,2,3].\n",
    "On the fourth turn, ans[0] += 4, and the final array is [5,2,3].\n",
    " \n",
    "\n",
    "Constraints:\n",
    "1 <= candies <= 10^9\n",
    "1 <= num_people <= 1000\n",
    "\n",
    "Hint:\n",
    "Give candy to everyone each \"turn\" first [until you can't], then give candy to one person per turn."
   ]
  },
  {
   "cell_type": "code",
   "execution_count": 49,
   "metadata": {},
   "outputs": [],
   "source": [
    "First attempt: is not accurate for all use cases because I did not account for the rest of the candies condition\n",
    "\n",
    "def distributeCandies(candies, num_people):\n",
    "    result=[0]*num_people\n",
    "\n",
    "    while candies>0:\n",
    "        for i in range(num_people):\n",
    "            val=(i+1)*1\n",
    "            if candies-val>0:\n",
    "                result[i]+=val\n",
    "                \n",
    "                \n",
    "            else:\n",
    "                result[i]=candies\n",
    "            \n",
    "            candies-=val\n",
    "            \n",
    "   \n",
    "            \n",
    "    return result"
   ]
  },
  {
   "cell_type": "code",
   "execution_count": 50,
   "metadata": {},
   "outputs": [
    {
     "data": {
      "text/plain": [
       "[2, 4, 1]"
      ]
     },
     "execution_count": 50,
     "metadata": {},
     "output_type": "execute_result"
    }
   ],
   "source": [
    "distributeCandies(10,3)"
   ]
  },
  {
   "cell_type": "code",
   "execution_count": 53,
   "metadata": {},
   "outputs": [],
   "source": [
    "#Let's try without the for loop used under while above\n",
    "\n",
    "def distributeCandies(candies, num_people):\n",
    "    result=[0]*num_people\n",
    "    \n",
    "    ind, candy_assign=0, 1 #to avoid the for loop we are assigning 1 to candy_assign, i.e., the count to keep track of the \n",
    "                        #number of candies assigned so that it can be deduced from the overall candies available\n",
    "        \n",
    "    while candies>0:\n",
    "        \n",
    "        result[ind]+=candy_assign\n",
    "        candies-=candy_assign\n",
    "        \n",
    "        ind, candy_assign=ind+1, candy_assign+1\n",
    "\n",
    "        \n",
    "        if ind==num_people: ind=0\n",
    "        if candy_assign>candies: candy_assign=candies\n",
    "            \n",
    "    return result\n",
    "        \n",
    "        \n",
    "        \n",
    "    \n",
    "    \n",
    "    \n",
    "result:\n",
    "Your runtime beats 87.99 % of python3 submissions.\n",
    "Runtime: 36 ms\n",
    "Memory Usage: 13.9 MB\n",
    "    \n",
    "    \n",
    "    "
   ]
  },
  {
   "cell_type": "code",
   "execution_count": 54,
   "metadata": {},
   "outputs": [
    {
     "data": {
      "text/plain": [
       "[1, 2, 3, 1]"
      ]
     },
     "execution_count": 54,
     "metadata": {},
     "output_type": "execute_result"
    }
   ],
   "source": [
    "distributeCandies(7,4)"
   ]
  }
 ],
 "metadata": {
  "kernelspec": {
   "display_name": "Python 3",
   "language": "python",
   "name": "python3"
  },
  "language_info": {
   "codemirror_mode": {
    "name": "ipython",
    "version": 3
   },
   "file_extension": ".py",
   "mimetype": "text/x-python",
   "name": "python",
   "nbconvert_exporter": "python",
   "pygments_lexer": "ipython3",
   "version": "3.7.4"
  }
 },
 "nbformat": 4,
 "nbformat_minor": 2
}
