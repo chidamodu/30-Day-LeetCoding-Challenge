{
 "cells": [
  {
   "cell_type": "code",
   "execution_count": 6,
   "metadata": {},
   "outputs": [],
   "source": [
    "An alternative solution provided by Leetcode. Did not understand much. The advantage is that this method has O(1) space\n",
    "complexity\n",
    "\n",
    "from itertools import zip_longest\n",
    "def backspaceCompare(S, T):\n",
    "    def F(S):\n",
    "        skip = 0\n",
    "        for x in reversed(S):\n",
    "            if x == '#':\n",
    "                skip += 1\n",
    "            elif skip:\n",
    "                skip -= 1\n",
    "            else:\n",
    "                yield x\n",
    "\n",
    "    return all(x == y for x, y in zip_longest(F(S), F(T)))\n",
    "\n",
    "\n",
    "Complexity Analysis\n",
    "\n",
    "Time Complexity: \n",
    "O(M+N), where M,N are the lengths of S and T respectively.\n",
    "\n",
    "Space Complexity: \n",
    "O(1)\n",
    "\n",
    "\n",
    "Your runtime beats 89.75 % of python3 submissions."
   ]
  },
  {
   "cell_type": "code",
   "execution_count": 7,
   "metadata": {},
   "outputs": [
    {
     "data": {
      "text/plain": [
       "False"
      ]
     },
     "execution_count": 7,
     "metadata": {},
     "output_type": "execute_result"
    }
   ],
   "source": [
    "backspaceCompare(\"a#c\", \"b\")"
   ]
  }
 ],
 "metadata": {
  "kernelspec": {
   "display_name": "Python 3",
   "language": "python",
   "name": "python3"
  },
  "language_info": {
   "codemirror_mode": {
    "name": "ipython",
    "version": 3
   },
   "file_extension": ".py",
   "mimetype": "text/x-python",
   "name": "python",
   "nbconvert_exporter": "python",
   "pygments_lexer": "ipython3",
   "version": "3.7.4"
  }
 },
 "nbformat": 4,
 "nbformat_minor": 2
}
