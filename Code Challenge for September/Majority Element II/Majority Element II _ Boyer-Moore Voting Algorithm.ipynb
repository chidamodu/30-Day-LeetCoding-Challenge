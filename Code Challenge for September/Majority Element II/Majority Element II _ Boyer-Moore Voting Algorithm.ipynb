{
 "cells": [
  {
   "cell_type": "code",
   "execution_count": null,
   "metadata": {},
   "outputs": [],
   "source": [
    "Given an integer array of size n, find all elements that appear more than ⌊ n/3 ⌋ times.\n",
    "\n",
    "Note: The algorithm should run in linear time and in O(1) space.\n",
    "\n",
    "Example 1:\n",
    "Input: [3,2,3]\n",
    "Output: [3]\n",
    "\n",
    "Example 2:\n",
    "Input: [1,1,1,3,3,2,2,2]\n",
    "Output: [1,2]\n",
    "\n",
    "For this problem, two constraints we have to satisfy are linear runtime and constant space. \n",
    "\n",
    "Hint:\n",
    "How many majority elements could it possibly have?"
   ]
  },
  {
   "cell_type": "code",
   "execution_count": null,
   "metadata": {},
   "outputs": [],
   "source": [
    "Approach: Boyer-Moore Voting Algorithm\n",
    "\n",
    "Intuition\n",
    "\n",
    "To figure out a O(1) space requirement, we would need to get this simple intuition first. For an array of length n:\n",
    "\n",
    "There can be at most one majority element which is more than ⌊n/2⌋ times.\n",
    "There can be at most two majority elements which are more than ⌊n/3⌋ times.\n",
    "There can be at most three majority elements which are more than ⌊n/4⌋ times.\n",
    "and so on.\n",
    "\n",
    "Knowing this can help us understand how we can keep track of majority elements which satisfies O(1) space requirement.\n",
    "\n",
    "Let's try to get an intuition for the case where we would like to find a majority element which is more than ⌊n/2⌋ \n",
    "times in an array of length n.\n",
    "\n",
    "The idea is to have two variables, one holding a potential candidate for majority element and a counter to keep \n",
    "track of whether to swap a potential candidate or not. Why can we get away with only two variables? Because there can \n",
    "be at most one majority element which is more than ⌊n/2⌋ times. Therefore, having only one variable to hold the only \n",
    "potential candidate and one counter is enough.\n",
    "\n",
    "While scanning the array, the counter is incremented if you encounter an element which is exactly same as the \n",
    "potential candidate but decremented otherwise. When the counter reaches zero, the element which will be encountered \n",
    "next will become the potential candidate. Keep doing this procedure while scanning the array. \n",
    "However, when you have exhausted the array, you have to make sure that the element recorded in the potential \n",
    "candidate variable is the majority element by checking whether it occurs more than ⌊n/2⌋ times in the array. \n",
    "In the original Majority Element problem, it is guaranteed that there is a majority element in the array so your \n",
    "implementation can omit the second pass. However, in a general case, you need this second pass since your array can \n",
    "have no majority elements at all!\n",
    "\n",
    "The counter is initialized as 0 and the potential candidate as None at the start of the array.\n",
    "\n",
    "If an element is truly a majority element, it will stick in the potential candidate variable, no matter how it shows \n",
    "up in the array (i.e. all clustered in the beginning of the array, all clustered near the end of the array, or \n",
    "showing up anywhere in the array), after the whole array has been scanned. Of course, while you are scanning the \n",
    "array, the element might be replaced by another element in the process, but the true majority element will \n",
    "definitely remain as the potential candidate in the end.\n",
    "\n",
    "Now figuring out the majority elements which show up more than ⌊n/3⌋ times is not that hard anymore. Using the \n",
    "intuition presented in the beginning, we only need four variables: two for holding two potential candidates and two \n",
    "for holding two corresponding counters. Similar to the above case, both candidates are initialized as None in the \n",
    "beginning with their corresponding counters being 0. While going through the array:\n",
    "\n",
    "If the current element is equal to one of the potential candidate, the count for that candidate is increased while \n",
    "leaving the count of the other candidate as it is.\n",
    "\n",
    "If the counter reaches zero, the candidate associated with that counter will be replaced with the next element if the \n",
    "next element is not equal to the other candidate as well.\n",
    "\n",
    "Both counters are decremented only when the current element is different from both candidates.\n"
   ]
  },
  {
   "cell_type": "code",
   "execution_count": 5,
   "metadata": {},
   "outputs": [],
   "source": [
    "def majorityElement(nums):\n",
    "    c1, c2, candidate1, candidate2=0, 0, None, None\n",
    "    \n",
    "    for n in nums:\n",
    "        if candidate1==n:\n",
    "            c1+=1\n",
    "            \n",
    "        elif candidate2==n:\n",
    "            c2+=1\n",
    "            \n",
    "        elif c1==0:\n",
    "            candidate1=n\n",
    "            c1+=1\n",
    "            \n",
    "        elif c2==0:\n",
    "            candidate2=n\n",
    "            c2+=1\n",
    "            \n",
    "        else:\n",
    "            c1-=1\n",
    "            c2-=1\n",
    "            \n",
    "        print(c1, c2)\n",
    "            \n",
    "    result=[]\n",
    "    \n",
    "    \n",
    "    \n",
    "    for c in [candidate1, candidate2]:\n",
    "        if nums.count(c)>len(nums)//3:\n",
    "            result.append(c)\n",
    "            \n",
    "    return result\n",
    "        \n",
    "            "
   ]
  },
  {
   "cell_type": "code",
   "execution_count": 6,
   "metadata": {},
   "outputs": [
    {
     "name": "stdout",
     "output_type": "stream",
     "text": [
      "1 0\n",
      "2 0\n",
      "3 0\n",
      "3 1\n",
      "3 2\n",
      "2 1\n",
      "1 0\n",
      "1 1\n"
     ]
    },
    {
     "data": {
      "text/plain": [
       "[1, 2]"
      ]
     },
     "execution_count": 6,
     "metadata": {},
     "output_type": "execute_result"
    }
   ],
   "source": [
    "majorityElement([1,1,1,3,3,2,2,2])"
   ]
  },
  {
   "cell_type": "code",
   "execution_count": null,
   "metadata": {},
   "outputs": [],
   "source": [
    "Complexity Analysis\n",
    "\n",
    "Time complexity : \n",
    "O(N) where N is the size of nums. We first go through nums looking for first and second potential candidates. \n",
    "We then count the number of occurrences for these two potential candidates in nums. Therefore, our runtime is \n",
    "O(N)+O(N)=O(2N)≈O(N).\n",
    "\n",
    "Space complexity : \n",
    "O(1) since we only have four variables for holding two potential candidates and two counters. Even the returning \n",
    "array is at most 2 elements.\n",
    "\n"
   ]
  }
 ],
 "metadata": {
  "kernelspec": {
   "display_name": "Python 3",
   "language": "python",
   "name": "python3"
  },
  "language_info": {
   "codemirror_mode": {
    "name": "ipython",
    "version": 3
   },
   "file_extension": ".py",
   "mimetype": "text/x-python",
   "name": "python",
   "nbconvert_exporter": "python",
   "pygments_lexer": "ipython3",
   "version": "3.7.4"
  }
 },
 "nbformat": 4,
 "nbformat_minor": 2
}
